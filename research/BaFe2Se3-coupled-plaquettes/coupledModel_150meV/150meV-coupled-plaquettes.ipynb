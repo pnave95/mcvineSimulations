{
 "cells": [
  {
   "cell_type": "markdown",
   "metadata": {},
   "source": [
    "This is a simulation for the coupled BaFe2Se3 plaquettes model."
   ]
  },
  {
   "cell_type": "code",
   "execution_count": 16,
   "metadata": {
    "collapsed": true
   },
   "outputs": [],
   "source": [
    "%matplotlib notebook\n",
    "from matplotlib import pyplot as plt\n",
    "import numpy as np\n",
    "import histogram.hdf as hh, histogram as H"
   ]
  },
  {
   "cell_type": "code",
   "execution_count": 2,
   "metadata": {
    "collapsed": false
   },
   "outputs": [
    {
     "name": "stdout",
     "output_type": "stream",
     "text": [
      "/SNS/users/p63/mcvine/research/BaFe2Se3-coupled-plaquettes/coupledModel_150meV\n",
      "samples  scattering  startJupterNotebookInBackground.sh  Untitled.ipynb\n"
     ]
    }
   ],
   "source": [
    "!pwd\n",
    "!ls"
   ]
  },
  {
   "cell_type": "code",
   "execution_count": 3,
   "metadata": {
    "collapsed": false
   },
   "outputs": [
    {
     "name": "stdout",
     "output_type": "stream",
     "text": [
      "/SNS/users/p63/mcvine/research/BaFe2Se3-coupled-plaquettes/coupledModel_150meV/samples/X/sampleassembly\n"
     ]
    }
   ],
   "source": [
    "%cd samples/X/sampleassembly/"
   ]
  },
  {
   "cell_type": "code",
   "execution_count": 4,
   "metadata": {
    "collapsed": false
   },
   "outputs": [
    {
     "name": "stdout",
     "output_type": "stream",
     "text": [
      "FeX.xyz  sampleassembly.xml  X-scatterer.xml  X.xyz\r\n"
     ]
    }
   ],
   "source": [
    "!ls"
   ]
  },
  {
   "cell_type": "code",
   "execution_count": 5,
   "metadata": {
    "collapsed": false,
    "scrolled": true
   },
   "outputs": [
    {
     "name": "stdout",
     "output_type": "stream",
     "text": [
      "<?xml version=\"1.0\"?>\r\n",
      "\r\n",
      "<!DOCTYPE scatterer>\r\n",
      "\r\n",
      "<!-- weights: absorption, scattering, transmission -->\r\n",
      "<homogeneous_scatterer \r\n",
      "    mcweights=\"0, 1, 0.1\"\r\n",
      "    max_multiplescattering_loops=\"3\"\r\n",
      "    >\r\n",
      "  \r\n",
      " <KernelContainer average=\"yes\">\r\n",
      "\r\n",
      "  <E_vQ_Kernel \r\n",
      "     E_Q=\"S:=2; JR:=\" \r\n",
      "     S_Q=\"1\"\r\n",
      "     Qmin=\"0./angstrom\"\r\n",
      "     Qmax=\"18/angstrom\"\r\n",
      "    />\r\n",
      "    \r\n",
      "  <E_Q_Kernel\r\n",
      "    E_Q=\"88\"\r\n",
      "    S_Q=\"1\"\r\n",
      "    Qmin=\"0./angstrom\"\r\n",
      "    Qmax=\"18/angstrom\"\r\n",
      "    />\r\n",
      "    \r\n",
      "  <E_Q_Kernel\r\n",
      "    E_Q=\"108\"\r\n",
      "    S_Q=\"1\"\r\n",
      "    Qmin=\"0./angstrom\"\r\n",
      "    Qmax=\"18/angstrom\"\r\n",
      "    />\r\n",
      "    \r\n",
      "  <E_Q_Kernel\r\n",
      "    E_Q=\"196\"\r\n",
      "    S_Q=\"1\"\r\n",
      "    Qmin=\"0./angstrom\"\r\n",
      "    Qmax=\"18/angstrom\"\r\n",
      "    />\r\n",
      "    \r\n",
      " </KernelContainer>\r\n",
      "  \r\n",
      "</homogeneous_scatterer>\r\n"
     ]
    }
   ],
   "source": [
    "!cat X-scatterer.xml"
   ]
  },
  {
   "cell_type": "code",
   "execution_count": null,
   "metadata": {
    "collapsed": true
   },
   "outputs": [],
   "source": [
    "%%file write-scattering-kernel.py\n",
    "\n",
    "# not finished\n",
    "import numpy as np\n",
    "\n",
    "# define parameters\n",
    "SJR = -33.0\n",
    "SJ1 = -43.0\n",
    "SJ2 = 11.0\n",
    "SJ3 = 15.0\n",
    "SJ1p = 8.0\n",
    "SJ2p = 6.0\n",
    "SJ5 = 0.0 # 4.0\n",
    "SDa = -0.08 # 0.0\n",
    "\n",
    "S = 2.0\n",
    "\n",
    "JR = SJR / S\n",
    "J1 = SJ1 / S\n",
    "J2 = SJ2 / S\n",
    "J3 = SJ3 / S\n",
    "J1p = SJ1p / S\n",
    "J2p = SJ2p / S\n",
    "J5 = SJ5 / S\n",
    "A = SDa / S\n",
    "\n",
    "# reduce expression for E1\n",
    "x1 = S / np.sqrt(2)\n",
    "x21 = 8*(A**2) + (J1p + J2p + 2*J3)**2\n",
    "x22 = 4*(J1p + J2p + 2*J3)*J5 - 16*((J5)**2)\n",
    "x23 = 0.0 - 8*A*(J1p + J2p + 2*J3 + J5)\n",
    "x2 = x21 + x22 + x23\n",
    "cos2Kcoef = 0.0 - 12*(J1p + J2p + 2*J3)*J5\n",
    "cos4Kcoef = 0.0 - ((J1p + J2p + 2.0*J3))\n",
    "\n",
    "E1 = 'E_Q=\"x:='\n",
    "if(x2 != 0.0):\n",
    "    E1 = E1 + '%s'\n",
    "    \n",
    "\n",
    "ostream = open('submit.sh', 'wt')\n",
    "\n",
    "\n",
    "\n",
    "\n",
    "for a in np.arange(-90, 90.1, 1.):\n",
    "    ostream.write('./scripts/sim.py --angle=%s \\n' % a)\n",
    "    continue\n",
    "ostream.close()"
   ]
  },
  {
   "cell_type": "code",
   "execution_count": 6,
   "metadata": {
    "collapsed": false
   },
   "outputs": [
    {
     "name": "stdout",
     "output_type": "stream",
     "text": [
      "Overwriting X-scatterer.xml\n"
     ]
    }
   ],
   "source": [
    "%%file X-scatterer.xml\n",
    "\n",
    "<?xml version=\"1.0\"?>\n",
    "\n",
    "<!DOCTYPE scatterer>\n",
    "\n",
    "<!-- weights: absorption, scattering, transmission -->\n",
    "<homogeneous_scatterer \n",
    "    mcweights=\"0, 1, 0.1\"\n",
    "    max_multiplescattering_loops=\"3\"\n",
    "    >\n",
    "  \n",
    " <KernelContainer average=\"yes\">\n",
    "\n",
    "  <E_vQ_Kernel \n",
    "     E_Q=\"S:=2; JR:=-33.0/S; J1:=-43.0/S; J2:=11.0/S; J3:=15.0/S;\n",
    "        J1p:=8.0/S; J2p:=6.0/S; J5:=0.0/S; A:=-0.08/S;\n",
    "        a:=5; b:=5; c:=5;\n",
    "        x1:=S/sqrt(2);\n",
    "        x21:=8*(A^2)+(J1p+J2p+2*J3)^2;\n",
    "        x22:=4*(J1p+J2p+2*J3)*J5-16*(J5)^2;\n",
    "        x23:=-8*A*(J1p+J2p+2*J3+J5);\n",
    "        x24:=-12*(J1p+J2p+2*J3)*J5*cos(b*Qy)-((J1p+J2p+2*J3)^2)*cos(2*b*Qy);\n",
    "        x20:=x21+x22+x23+x24;\n",
    "        x1*sqrt(x20)\" \n",
    "     S_Q=\"1\"\n",
    "     Emax=\"50*meV\"\n",
    "     orientation=\"0.894427191,0.0,-0.4472135955,0.0,1.0,0.0,0.4472135955,0.0,0.894427191\"\n",
    "    />\n",
    "    \n",
    "  <E_vQ_Kernel\n",
    "    E_Q=\"S:=2; JR:=-33.0/S; J1:=-43.0/S; J2:=11.0/S; J3:=15.0/S;\n",
    "        J1p:=8.0/S; J2p:=6.0/S; J5:=0.0/S; A:=-0.08/S;\n",
    "        a:=5; b:=5; c:=5;\n",
    "        x11:=2*A+2*J1-J1p-J2p-2*(J3+J5-JR)+(J1p-J2p-2*J3)*cos(b*Qy);\n",
    "        x12:=2*A+2*J1-J1p-J2p-2*J3+2*JR+(0.0-J1p+J2p+2*J3)*cos(b*Qy);\n",
    "        x1:=x11*x12;\n",
    "        S*sqrt(x1)\"\n",
    "    S_Q=\"1\"\n",
    "    Emax=\"200*meV\"\n",
    "    orientation=\"0.894427191,0.0,-0.4472135955,0.0,1.0,0.0,0.4472135955,0.0,0.894427191\"\n",
    "    />\n",
    "    \n",
    "  <E_vQ_Kernel\n",
    "    E_Q=\"S:=2; JR:=-33.0/S; J1:=-43.0/S; J2:=11.0/S; J3:=15.0/S;\n",
    "        J1p:=8.0/S; J2p:=6.0/S; J5:=0.0/S; A:=-0.08/S;\n",
    "        a:=5; b:=5; c:=5;\n",
    "        x11:=2*A-J1p+2*J2-J2p-2*(J3+J5-JR)+(0.0-J1p+J2p-2*J3)*cos(b*Qy);\n",
    "        x12:=2*A-J1p+2*J2-J2p-2*J3+2*JR+(J1p-J2p+2*J3)*cos(b*Qy);\n",
    "        x1:=x11*x12;\n",
    "        S*sqrt(x1)\"\n",
    "    S_Q=\"1\"\n",
    "    Emax=\"100*meV\"\n",
    "    orientation=\"0.894427191,0.0,-0.4472135955,0.0,1.0,0.0,0.4472135955,0.0,0.894427191\"\n",
    "    />\n",
    "    \n",
    "  <E_vQ_Kernel\n",
    "    E_Q=\"S:=2; JR:=-33.0/S; J1:=-43.0/S; J2:=11.0/S; J3:=15.0/S;\n",
    "        J1p:=8.0/S; J2p:=6.0/S; J5:=0.0/S; A:=-0.08/S;\n",
    "        a:=5; b:=5; c:=5;\n",
    "        x1:=8*(A^2)+8*((J1)^2)+((J1p)^2)-8*J1p*J2+8*((J2)^2);\n",
    "        x12:=2*J1p*J2p-8*J2*J2p;\n",
    "        x2:=((J2p)^2)+12*J1p*J3-16*J2*J3+12*J2p*J3+4*((J3)^2);\n",
    "        x22:=8*A*(2*J1-J1p+2*J2-J2p-2*J3-J5);\n",
    "        x3:=4*(J1p-2*J2+J2p+2*J3)*J5-16*((J5)^2)-8*J1*(J1p-2*J2+J2p+2*J3+J5);\n",
    "        x4:=(J1p+J2p-2*J3)*(12*J5*cos(b*Qy)-(J1p+J2p-2*J3)*cos(2*b*Qy));\n",
    "        x0:=x1+x12+x2+x22+x3+x4;\n",
    "        (S/sqrt(2))*sqrt(x0)\"\n",
    "    S_Q=\"1\"\n",
    "    Emax=\"120*meV\"\n",
    "    orientation=\"0.894427191,0.0,-0.4472135955,0.0,1.0,0.0,0.4472135955,0.0,0.894427191\"\n",
    "    />\n",
    "    \n",
    " </KernelContainer>\n",
    "  \n",
    "</homogeneous_scatterer>"
   ]
  },
  {
   "cell_type": "code",
   "execution_count": 7,
   "metadata": {
    "collapsed": false
   },
   "outputs": [
    {
     "name": "stdout",
     "output_type": "stream",
     "text": [
      "FeX.xyz  sampleassembly.xml  X-scatterer.xml  X.xyz\r\n"
     ]
    }
   ],
   "source": [
    "!ls"
   ]
  },
  {
   "cell_type": "code",
   "execution_count": 8,
   "metadata": {
    "collapsed": false
   },
   "outputs": [
    {
     "name": "stdout",
     "output_type": "stream",
     "text": [
      "8\r\n",
      "11.89620 0 0    0 5.44930 0    0 0 9.16497\r\n",
      "Fe 0.49627 0.99009 0.35234\r\n",
      "Fe 0.50373 0.99009 0.64766\r\n",
      "Fe 0.00373 0.00991 0.85234\r\n",
      "Fe 0.99627 -0.99009 0.14766\r\n",
      "Fe 0.50373 0.50991 0.64766\r\n",
      "Fe 0.49627 0.50991 0.35234\r\n",
      "Fe 0.99627 0.49009 0.14766\r\n",
      "Fe 0.00373 0.49009 0.85234\r\n"
     ]
    }
   ],
   "source": [
    "!cat FeX.xyz"
   ]
  },
  {
   "cell_type": "code",
   "execution_count": 9,
   "metadata": {
    "collapsed": false
   },
   "outputs": [
    {
     "name": "stdout",
     "output_type": "stream",
     "text": [
      "8\r\n",
      "3 0 0    0 3 0    0 0 3\r\n",
      "V 0 0 0\r\n",
      "V 0 0 0\r\n",
      "V 0 0 0\r\n",
      "V 0 0 0\r\n",
      "V 0 0 0\r\n",
      "V 0 0 0\r\n",
      "V 0 0 0\r\n",
      "V 0 0 0"
     ]
    }
   ],
   "source": [
    "!cat X.xyz"
   ]
  },
  {
   "cell_type": "code",
   "execution_count": 10,
   "metadata": {
    "collapsed": true
   },
   "outputs": [],
   "source": [
    "!mv X.xyz .X.xyz"
   ]
  },
  {
   "cell_type": "code",
   "execution_count": 11,
   "metadata": {
    "collapsed": true
   },
   "outputs": [],
   "source": [
    "!mv FeX.xyz X.xyz"
   ]
  },
  {
   "cell_type": "code",
   "execution_count": 12,
   "metadata": {
    "collapsed": false
   },
   "outputs": [
    {
     "name": "stdout",
     "output_type": "stream",
     "text": [
      "8\r\n",
      "11.89620 0 0    0 5.44930 0    0 0 9.16497\r\n",
      "Fe 0.49627 0.99009 0.35234\r\n",
      "Fe 0.50373 0.99009 0.64766\r\n",
      "Fe 0.00373 0.00991 0.85234\r\n",
      "Fe 0.99627 -0.99009 0.14766\r\n",
      "Fe 0.50373 0.50991 0.64766\r\n",
      "Fe 0.49627 0.50991 0.35234\r\n",
      "Fe 0.99627 0.49009 0.14766\r\n",
      "Fe 0.00373 0.49009 0.85234\r\n"
     ]
    }
   ],
   "source": [
    "!cat X.xyz"
   ]
  },
  {
   "cell_type": "code",
   "execution_count": 14,
   "metadata": {
    "collapsed": false
   },
   "outputs": [
    {
     "name": "stdout",
     "output_type": "stream",
     "text": [
      "<SampleAssembly name=\"X\">\r\n",
      "\r\n",
      "    <PowderSample name=\"X\" type=\"sample\">\r\n",
      "        <Shape>\r\n",
      "            <cylinder radius=\"5*mm\" height=\"20*mm\"/>\r\n",
      "        </Shape>\r\n",
      "        <Phase type=\"crystal\">\r\n",
      "            <ChemicalFormula>Fe</ChemicalFormula>\r\n",
      "            <xyzfile>X.xyz</xyzfile>\r\n",
      "        </Phase>\r\n",
      "    </PowderSample>\r\n",
      "    \r\n",
      "    <LocalGeometer registry-coordinate-system=\"InstrumentScientist\">\r\n",
      "        <Register name=\"X\" position=\"(0,0,0)\" orientation=\"(0,0,0)\"/>\r\n",
      "    </LocalGeometer>\r\n",
      "\r\n",
      "</SampleAssembly>"
     ]
    }
   ],
   "source": [
    "!cat sampleassembly.xml"
   ]
  },
  {
   "cell_type": "code",
   "execution_count": 17,
   "metadata": {
    "collapsed": false
   },
   "outputs": [
    {
     "data": {
      "text/plain": [
       "(array([ 0.52816742,  0.        ,  0.        ]),\n",
       " array([ 0.        ,  1.15302613,  0.        ]),\n",
       " array([ 0.        ,  0.        ,  0.68556529]))"
      ]
     },
     "execution_count": 17,
     "metadata": {},
     "output_type": "execute_result"
    }
   ],
   "source": [
    "a,b,c=11.89620,5.44930,9.16497\n",
    "\n",
    "from numpy import sin, cos, deg2rad\n",
    "a1 = [a, 0, 0]\n",
    "a2 = [0, b, 0]\n",
    "a3 = [0, 0, c]\n",
    "\n",
    "twopi = 2*np.pi\n",
    "f = twopi/np.dot(a1, np.cross(a2, a3))\n",
    "b1 = np.cross(a2,a3) * f\n",
    "b2 = np.cross(a3,a1) * f\n",
    "b3 = np.cross(a1,a2) * f\n",
    "b1,b2,b3"
   ]
  },
  {
   "cell_type": "markdown",
   "metadata": {},
   "source": [
    "#### Orientation of the kernel\n",
    "Here we need to use the convention that z is along beam, y vertical up.\n",
    "The kernel has its own cartesian axis e’x e’y e’z. Because we know\n",
    "u = 102 v = 100\n",
    ", we have the basis vectors of the instrument coordinate system\n",
    "\n",
    "    ez along b1 + 2*b3\n",
    "    ex along b1\n",
    "    \n",
    "\n",
    "So we have them in the reciprocal cartesian axis"
   ]
  },
  {
   "cell_type": "code",
   "execution_count": 19,
   "metadata": {
    "collapsed": false
   },
   "outputs": [
    {
     "data": {
      "text/plain": [
       "(array([ 0.93316089,  0.        , -0.35945897]),\n",
       " array([ 0.,  1.,  0.]),\n",
       " array([ 0.35945897,  0.        ,  0.93316089]))"
      ]
     },
     "execution_count": 19,
     "metadata": {},
     "output_type": "execute_result"
    }
   ],
   "source": [
    "ez = b1 + 2*b3; ez /= np.linalg.norm(ez)\n",
    "ex1 = b1\n",
    "ey = np.cross(ez, ex1); ey/=np.linalg.norm(ey)\n",
    "ex = np.cross(ey, ez)\n",
    "ex, ey, ez"
   ]
  },
  {
   "cell_type": "markdown",
   "metadata": {},
   "source": [
    "The rotation matrix is define as\n",
    "```\n",
    "    ex.ex’ ex.ey’ ex.ez’ \n",
    "R = ey.ex’ ey.ey’ ey.ez’\n",
    "    ez.ex’ ez.ey’ ez.ez’\n",
    "```\n",
    "So"
   ]
  },
  {
   "cell_type": "code",
   "execution_count": 20,
   "metadata": {
    "collapsed": false
   },
   "outputs": [
    {
     "data": {
      "text/plain": [
       "(array([[ 0.93316089,  0.        , -0.35945897],\n",
       "        [ 0.        ,  1.        ,  0.        ],\n",
       "        [ 0.35945897,  0.        ,  0.93316089]]),\n",
       " array([ 0.93316089,  0.        , -0.35945897,  0.        ,  1.        ,\n",
       "         0.        ,  0.35945897,  0.        ,  0.93316089]))"
      ]
     },
     "execution_count": 20,
     "metadata": {},
     "output_type": "execute_result"
    }
   ],
   "source": [
    "R = np.array([ ex, ey, ez ])\n",
    "Rflat = R.copy(); Rflat.shape = -1,\n",
    "R, Rflat"
   ]
  },
  {
   "cell_type": "markdown",
   "metadata": {},
   "source": [
    "Now we update the orientation parameter in the scattering kernels:"
   ]
  },
  {
   "cell_type": "code",
   "execution_count": 21,
   "metadata": {
    "collapsed": false
   },
   "outputs": [
    {
     "data": {
      "text/plain": [
       "'orientation=\"0.93316089156,0.0,-0.359458969096,0.0,1.0,0.0,0.359458969096,0.0,0.93316089156\"'"
      ]
     },
     "execution_count": 21,
     "metadata": {},
     "output_type": "execute_result"
    }
   ],
   "source": [
    "'orientation=\"%s\"' % (','.join(str(e) for e in Rflat),)"
   ]
  },
  {
   "cell_type": "code",
   "execution_count": 39,
   "metadata": {
    "collapsed": false
   },
   "outputs": [
    {
     "name": "stdout",
     "output_type": "stream",
     "text": [
      "/SNS/users/p63/mcvine/research/BaFe2Se3-coupled-plaquettes/coupledModel_150meV/samples/X/sampleassembly\n"
     ]
    }
   ],
   "source": [
    "%cd {workdir}/samples/X/sampleassembly"
   ]
  },
  {
   "cell_type": "code",
   "execution_count": 40,
   "metadata": {
    "collapsed": false
   },
   "outputs": [
    {
     "name": "stdout",
     "output_type": "stream",
     "text": [
      "Overwriting X-scatterer.xml\n"
     ]
    }
   ],
   "source": [
    "%%file X-scatterer.xml\n",
    "<?xml version=\"1.0\"?>\n",
    "\n",
    "<!DOCTYPE scatterer>\n",
    "\n",
    "<!-- weights: absorption, scattering, transmission -->\n",
    "<homogeneous_scatterer \n",
    "    mcweights=\"0, 1, 0.1\"\n",
    "    max_multiplescattering_loops=\"3\"\n",
    "    >\n",
    "  \n",
    " <KernelContainer average=\"yes\">\n",
    "\n",
    "  <E_vQ_Kernel \n",
    "     E_Q=\"S:=2; JR:=-33.0/S; J1:=-43.0/S; J2:=11.0/S; J3:=15.0/S;\n",
    "        J1p:=8.0/S; J2p:=6.0/S; J5:=0.0/S; A:=-0.08/S;\n",
    "        b:=5.44930;\n",
    "        x1:=S/sqrt(2);\n",
    "        x21:=8*(A^2)+(J1p+J2p+2*J3)^2;\n",
    "        x22:=4*(J1p+J2p+2*J3)*J5-16*(J5)^2;\n",
    "        x23:=-8*A*(J1p+J2p+2*J3+J5);\n",
    "        x24:=-12*(J1p+J2p+2*J3)*J5*cos(b*Qy)-((J1p+J2p+2*J3)^2)*cos(2*b*Qy);\n",
    "        x20:=x21+x22+x23+x24;\n",
    "        x1*sqrt(x20)\" \n",
    "     S_Q=\"1\"\n",
    "     Emax=\"50*meV\"\n",
    "     orientation=\"0.93316089156,0.0,-0.359458969096,0.0,1.0,0.0,0.359458969096,0.0,0.93316089156\"\n",
    "    />\n",
    "    \n",
    "  <E_vQ_Kernel\n",
    "    E_Q=\"S:=2; JR:=-33.0/S; J1:=-43.0/S; J2:=11.0/S; J3:=15.0/S;\n",
    "        J1p:=8.0/S; J2p:=6.0/S; J5:=0.0/S; A:=-0.08/S;\n",
    "        b:=5.44930;\n",
    "        x11:=2*A+2*J1-J1p-J2p-2*(J3+J5-JR)+(J1p-J2p-2*J3)*cos(b*Qy);\n",
    "        x12:=2*A+2*J1-J1p-J2p-2*J3+2*JR+(0.0-J1p+J2p+2*J3)*cos(b*Qy);\n",
    "        x1:=x11*x12;\n",
    "        S*sqrt(x1)\"\n",
    "    S_Q=\"1\"\n",
    "    Emax=\"200*meV\"\n",
    "    orientation=\"0.93316089156,0.0,-0.359458969096,0.0,1.0,0.0,0.359458969096,0.0,0.93316089156\"\n",
    "    />\n",
    "    \n",
    "  <E_vQ_Kernel\n",
    "    E_Q=\"S:=2; JR:=-33.0/S; J1:=-43.0/S; J2:=11.0/S; J3:=15.0/S;\n",
    "        J1p:=8.0/S; J2p:=6.0/S; J5:=0.0/S; A:=-0.08/S;\n",
    "        b:=5.44930;\n",
    "        x11:=2*A-J1p+2*J2-J2p-2*(J3+J5-JR)+(0.0-J1p+J2p-2*J3)*cos(b*Qy);\n",
    "        x12:=2*A-J1p+2*J2-J2p-2*J3+2*JR+(J1p-J2p+2*J3)*cos(b*Qy);\n",
    "        x1:=x11*x12;\n",
    "        S*sqrt(x1)\"\n",
    "    S_Q=\"1\"\n",
    "    Emax=\"100*meV\"\n",
    "    orientation=\"0.93316089156,0.0,-0.359458969096,0.0,1.0,0.0,0.359458969096,0.0,0.93316089156\"\n",
    "    />\n",
    "    \n",
    "  <E_vQ_Kernel\n",
    "    E_Q=\"S:=2; JR:=-33.0/S; J1:=-43.0/S; J2:=11.0/S; J3:=15.0/S;\n",
    "        J1p:=8.0/S; J2p:=6.0/S; J5:=0.0/S; A:=-0.08/S;\n",
    "        b:=5.44930;\n",
    "        x1:=8*(A^2)+8*((J1)^2)+((J1p)^2)-8*J1p*J2+8*((J2)^2);\n",
    "        x12:=2*J1p*J2p-8*J2*J2p;\n",
    "        x2:=((J2p)^2)+12*J1p*J3-16*J2*J3+12*J2p*J3+4*((J3)^2);\n",
    "        x22:=8*A*(2*J1-J1p+2*J2-J2p-2*J3-J5);\n",
    "        x3:=4*(J1p-2*J2+J2p+2*J3)*J5-16*((J5)^2)-8*J1*(J1p-2*J2+J2p+2*J3+J5);\n",
    "        x4:=(J1p+J2p-2*J3)*(12*J5*cos(b*Qy)-(J1p+J2p-2*J3)*cos(2*b*Qy));\n",
    "        x0:=x1+x12+x2+x22+x3+x4;\n",
    "        (S/sqrt(2))*sqrt(x0)\"\n",
    "    S_Q=\"1\"\n",
    "    Emax=\"120*meV\"\n",
    "    orientation=\"0.93316089156,0.0,-0.359458969096,0.0,1.0,0.0,0.359458969096,0.0,0.93316089156\"\n",
    "    />\n",
    "    \n",
    " </KernelContainer>\n",
    "  \n",
    "</homogeneous_scatterer>"
   ]
  },
  {
   "cell_type": "code",
   "execution_count": 23,
   "metadata": {
    "collapsed": false
   },
   "outputs": [
    {
     "name": "stdout",
     "output_type": "stream",
     "text": [
      "sampleassembly.xml  X-scatterer.xml  X.xyz\r\n"
     ]
    }
   ],
   "source": [
    "!ls"
   ]
  },
  {
   "cell_type": "markdown",
   "metadata": {},
   "source": [
    "## Scattering"
   ]
  },
  {
   "cell_type": "code",
   "execution_count": 41,
   "metadata": {
    "collapsed": false
   },
   "outputs": [
    {
     "name": "stdout",
     "output_type": "stream",
     "text": [
      "/SNS/users/p63/mcvine/research/BaFe2Se3-coupled-plaquettes/coupledModel_150meV/scattering\n"
     ]
    }
   ],
   "source": [
    "workdir = \"/SNS/users/p63/mcvine/research/BaFe2Se3-coupled-plaquettes/coupledModel_150meV\"\n",
    "%cd {workdir}/scattering"
   ]
  },
  {
   "cell_type": "code",
   "execution_count": 26,
   "metadata": {
    "collapsed": false
   },
   "outputs": [
    {
     "name": "stdout",
     "output_type": "stream",
     "text": [
      "total 32\r\n",
      "lrwxrwxrwx 1 p63 users   70 Jun 29 09:52 beam -> ../../../BaFe2Se3_IndependentPlaquettesModel/beam_150meV_1e9_neutrons/\r\n",
      "-rwxr-xr-x 1 p63 users  137 Jun 29 09:49 create-nxs\r\n",
      "-rwxr-xr-x 1 p63 users  116 Jun 29 09:49 debug-scatter\r\n",
      "-rw-r--r-- 1 p63 users 1572 Jun 29 09:49 Makefile\r\n",
      "-rwxr-xr-x 1 p63 users  304 Jun 29 09:49 reduce2iqe\r\n",
      "lrwxrwxrwx 1 p63 users   28 Jun 29 09:49 sampleassembly -> ../samples/X/sampleassembly/\r\n",
      "-rwxr-xr-x 1 p63 users  223 Jun 29 09:49 scatter\r\n",
      "-rwxr-xr-x 1 p63 users  513 Jun 29 09:49 sss\r\n",
      "-rw-r--r-- 1 p63 users 1610 Jun 29 09:49 sss.pml\r\n",
      "-rwxr-xr-x 1 p63 users  294 Jun 29 09:49 test-scatter\r\n"
     ]
    }
   ],
   "source": [
    "!ls -l"
   ]
  },
  {
   "cell_type": "code",
   "execution_count": 27,
   "metadata": {
    "collapsed": true
   },
   "outputs": [],
   "source": [
    "!rm beam create-nxs debug-scatter Makefile reduce2iqe"
   ]
  },
  {
   "cell_type": "code",
   "execution_count": 28,
   "metadata": {
    "collapsed": false
   },
   "outputs": [
    {
     "name": "stdout",
     "output_type": "stream",
     "text": [
      "/SNS/users/p63/mcvine/research/BaFe2Se3-coupled-plaquettes/coupledModel_150meV/scattering\n",
      "sampleassembly\tscatter  sss  sss.pml  test-scatter\n"
     ]
    }
   ],
   "source": [
    "!pwd\n",
    "!ls"
   ]
  },
  {
   "cell_type": "code",
   "execution_count": 29,
   "metadata": {
    "collapsed": true
   },
   "outputs": [],
   "source": [
    "!rm scatter sss sss.pml test-scatter"
   ]
  },
  {
   "cell_type": "code",
   "execution_count": 30,
   "metadata": {
    "collapsed": true
   },
   "outputs": [],
   "source": [
    "!ln -s /SNS/users/p63/mcvine/research/beams/beam_150meV_1e9_neutrons/ beam"
   ]
  },
  {
   "cell_type": "code",
   "execution_count": 31,
   "metadata": {
    "collapsed": false
   },
   "outputs": [
    {
     "name": "stdout",
     "output_type": "stream",
     "text": [
      "total 0\r\n",
      "lrwxrwxrwx 1 p63 users 62 Jul 21 15:36 beam -> /SNS/users/p63/mcvine/research/beams/beam_150meV_1e9_neutrons/\r\n",
      "lrwxrwxrwx 1 p63 users 28 Jun 29 09:49 sampleassembly -> ../samples/X/sampleassembly/\r\n"
     ]
    }
   ],
   "source": [
    "!ls -l"
   ]
  },
  {
   "cell_type": "code",
   "execution_count": 32,
   "metadata": {
    "collapsed": false
   },
   "outputs": [
    {
     "name": "stdout",
     "output_type": "stream",
     "text": [
      "beam  sampleassembly  scripts  template\r\n"
     ]
    }
   ],
   "source": [
    "!rsync -a ~lj7/simulations/mcvine_workflow/DGS/ARCS/single-crystal/* ./\n",
    "!ls"
   ]
  },
  {
   "cell_type": "code",
   "execution_count": 33,
   "metadata": {
    "collapsed": false
   },
   "outputs": [
    {
     "name": "stdout",
     "output_type": "stream",
     "text": [
      "/SNS/users/p63/mcvine/research/BaFe2Se3-coupled-plaquettes/coupledModel_150meV/scattering/template\n",
      "/SNS/users/p63/mcvine/research/BaFe2Se3-coupled-plaquettes/coupledModel_150meV/scattering\n"
     ]
    }
   ],
   "source": [
    "%cd template\n",
    "\n",
    "!ln -s ../../samples/X/sampleassembly\n",
    "\n",
    "!ln -s ../beam beam\n",
    "\n",
    "%cd .."
   ]
  },
  {
   "cell_type": "code",
   "execution_count": 34,
   "metadata": {
    "collapsed": false
   },
   "outputs": [
    {
     "name": "stdout",
     "output_type": "stream",
     "text": [
      "Writing sim.yml\n"
     ]
    }
   ],
   "source": [
    "%%file sim.yml\n",
    "\n",
    "cluster:\n",
    "  nodes: 10\n",
    "instrument:\n",
    "  name: arcs\n",
    "scatter:\n",
    "  ncount: 1e6\n",
    "  multiple_scattering: off\n",
    "  template: ./template\n"
   ]
  },
  {
   "cell_type": "code",
   "execution_count": 37,
   "metadata": {
    "collapsed": false
   },
   "outputs": [
    {
     "name": "stdout",
     "output_type": "stream",
     "text": [
      "discarding /SNS/users/lj7/software/miniconda2/envs/mcvine/bin from PATH\n",
      "prepending /SNS/users/lj7/software/miniconda2/envs/mcvine/bin to PATH\n"
     ]
    }
   ],
   "source": [
    "# Test the simulation for a single angle\n",
    "!source ~lj7/.use-miniconda2\n",
    "!source activate mcvine"
   ]
  },
  {
   "cell_type": "markdown",
   "metadata": {},
   "source": [
    "Note:  If the below simulation test fails, you must do \"rm -rf work_30.0\" from the terminal, within the {workdir}/scattering_4 directory, to remove all the failed simulation pieces.  Otherwise, even if you fix the problem, MCViNE will continue to fail when it sees the old \"pieces\" of the failed simulation"
   ]
  },
  {
   "cell_type": "code",
   "execution_count": 42,
   "metadata": {
    "collapsed": false
   },
   "outputs": [
    {
     "name": "stdout",
     "output_type": "stream",
     "text": [
      "SAMPLE_ANGLE=30.0 time ./scatter &> log.scatter\n",
      "time ./create-nxs &> log.create-nxs\n",
      "\n",
      "real\t1m37.373s\n",
      "user\t12m13.272s\n",
      "sys\t1m26.751s\n",
      "cp sim.nxs sim-30.0.nxs\n",
      "mcvine instruments arcs nxs populate_metadata --type=Ei --beam_outdir=beam/out --nxs=sim-30.0.nxs\n",
      "/SNS/users/lj7/software/miniconda2/envs/mcvine/lib/python2.7/site-packages/mcvine/deployment_info.py:41: UserWarning: Neither environment variable MCVINE_DIR nor DANSE_DIR was defined. Assumed that it is /SNS/users/lj7/software/miniconda2/envs/mcvine.\n",
      "  warnings.warn(msg)\n"
     ]
    }
   ],
   "source": [
    "!./scripts/sim.py --angle=30.0"
   ]
  },
  {
   "cell_type": "code",
   "execution_count": 43,
   "metadata": {
    "collapsed": false
   },
   "outputs": [
    {
     "name": "stdout",
     "output_type": "stream",
     "text": [
      "Writing create-submit.py\n"
     ]
    }
   ],
   "source": [
    "%%file create-submit.py\n",
    "import numpy as np\n",
    "ostream = open('submit.sh', 'wt')\n",
    "for a in np.arange(-90, 90.1, 1.):\n",
    "    ostream.write('./scripts/sim.py --angle=%s \\n' % a)\n",
    "    continue\n",
    "ostream.close()"
   ]
  },
  {
   "cell_type": "code",
   "execution_count": 44,
   "metadata": {
    "collapsed": false
   },
   "outputs": [
    {
     "name": "stdout",
     "output_type": "stream",
     "text": [
      "import numpy as np\r\n",
      "ostream = open('submit.sh', 'wt')\r\n",
      "for a in np.arange(-90, 90.1, 1.):\r\n",
      "    ostream.write('./scripts/sim.py --angle=%s \\n' % a)\r\n",
      "    continue\r\n",
      "ostream.close()"
     ]
    }
   ],
   "source": [
    "!cat create-submit.py"
   ]
  },
  {
   "cell_type": "code",
   "execution_count": 45,
   "metadata": {
    "collapsed": true
   },
   "outputs": [],
   "source": [
    "# run the script to create submit.sh\n",
    "!python ./create-submit.py"
   ]
  },
  {
   "cell_type": "code",
   "execution_count": 46,
   "metadata": {
    "collapsed": true
   },
   "outputs": [],
   "source": [
    "# make sure submit.sh is executable\n",
    "!chmod +x submit.sh\n",
    "# and then start it script in the background"
   ]
  },
  {
   "cell_type": "code",
   "execution_count": 47,
   "metadata": {
    "collapsed": false
   },
   "outputs": [
    {
     "name": "stdout",
     "output_type": "stream",
     "text": [
      "Starting job # 0 in a separate thread.\n"
     ]
    }
   ],
   "source": [
    "%%script bash --bg\n",
    "./submit.sh\n",
    "# this will take a while to finish."
   ]
  },
  {
   "cell_type": "code",
   "execution_count": 48,
   "metadata": {
    "collapsed": false
   },
   "outputs": [
    {
     "name": "stdout",
     "output_type": "stream",
     "text": [
      "/SNS/users/p63/mcvine/research/BaFe2Se3-coupled-plaquettes/coupledModel_150meV/scattering\n",
      "beam\t\t  work_-20.0  work_-35.0  work_-5.0   work_-64.0  work_-79.0\r\n",
      "create-submit.py  work_20.0   work_35.0   work_5.0    work_64.0   work_79.0\r\n",
      "sampleassembly\t  work_-21.0  work_-36.0  work_-50.0  work_-65.0  work_-8.0\r\n",
      "scripts\t\t  work_21.0   work_36.0   work_50.0   work_65.0   work_8.0\r\n",
      "sim.yml\t\t  work_-22.0  work_-37.0  work_-51.0  work_-66.0  work_-80.0\r\n",
      "submit.sh\t  work_22.0   work_37.0   work_51.0   work_66.0   work_80.0\r\n",
      "template\t  work_-23.0  work_-38.0  work_-52.0  work_-67.0  work_-81.0\r\n",
      "work_0.0\t  work_23.0   work_38.0   work_52.0   work_67.0   work_81.0\r\n",
      "work_-1.0\t  work_-24.0  work_-39.0  work_-53.0  work_-68.0  work_-82.0\r\n",
      "work_1.0\t  work_24.0   work_39.0   work_53.0   work_68.0   work_82.0\r\n",
      "work_-10.0\t  work_-25.0  work_-4.0   work_-54.0  work_-69.0  work_-83.0\r\n",
      "work_10.0\t  work_25.0   work_4.0\t  work_54.0   work_69.0   work_83.0\r\n",
      "work_-11.0\t  work_-26.0  work_-40.0  work_-55.0  work_-7.0   work_-84.0\r\n",
      "work_11.0\t  work_26.0   work_40.0   work_55.0   work_7.0\t  work_84.0\r\n",
      "work_-12.0\t  work_-27.0  work_-41.0  work_-56.0  work_-70.0  work_-85.0\r\n",
      "work_12.0\t  work_27.0   work_41.0   work_56.0   work_70.0   work_85.0\r\n",
      "work_-13.0\t  work_-28.0  work_-42.0  work_-57.0  work_-71.0  work_-86.0\r\n",
      "work_13.0\t  work_28.0   work_42.0   work_57.0   work_71.0   work_86.0\r\n",
      "work_-14.0\t  work_-29.0  work_-43.0  work_-58.0  work_-72.0  work_-87.0\r\n",
      "work_14.0\t  work_29.0   work_43.0   work_58.0   work_72.0   work_87.0\r\n",
      "work_-15.0\t  work_-3.0   work_-44.0  work_-59.0  work_-73.0  work_-88.0\r\n",
      "work_15.0\t  work_3.0    work_44.0   work_59.0   work_73.0   work_88.0\r\n",
      "work_-16.0\t  work_-30.0  work_-45.0  work_-6.0   work_-74.0  work_-89.0\r\n",
      "work_16.0\t  work_30.0   work_45.0   work_6.0    work_74.0   work_89.0\r\n",
      "work_-17.0\t  work_-31.0  work_-46.0  work_-60.0  work_-75.0  work_-9.0\r\n",
      "work_17.0\t  work_31.0   work_46.0   work_60.0   work_75.0   work_9.0\r\n",
      "work_-18.0\t  work_-32.0  work_-47.0  work_-61.0  work_-76.0  work_-90.0\r\n",
      "work_18.0\t  work_32.0   work_47.0   work_61.0   work_76.0   work_90.0\r\n",
      "work_-19.0\t  work_-33.0  work_-48.0  work_-62.0  work_-77.0\r\n",
      "work_19.0\t  work_33.0   work_48.0   work_62.0   work_77.0\r\n",
      "work_-2.0\t  work_-34.0  work_-49.0  work_-63.0  work_-78.0\r\n",
      "work_2.0\t  work_34.0   work_49.0   work_63.0   work_78.0\r\n"
     ]
    }
   ],
   "source": [
    "# reduction\n",
    "%cd \"{workdir}/scattering\"\n",
    "!ls"
   ]
  },
  {
   "cell_type": "code",
   "execution_count": 49,
   "metadata": {
    "collapsed": true
   },
   "outputs": [],
   "source": [
    "# reduce tof events to E events\n",
    "# this takes a long time!\n",
    "!./scripts/reduce/reduceKeepingEvents_batch.py -90,90.1,1. 150 0,150,0.5 > log.reduce"
   ]
  },
  {
   "cell_type": "code",
   "execution_count": 64,
   "metadata": {
    "collapsed": false
   },
   "outputs": [
    {
     "name": "stdout",
     "output_type": "stream",
     "text": [
      "Writing slice_0K0_v4.yml\n"
     ]
    }
   ],
   "source": [
    "%%file slice_0K0_v4.yml\n",
    "\n",
    "angles: -90,90.1,1.0\n",
    "filename_pattern: work_%(angle)s/reduced_%(angle)s.nxs\n",
    "lattice: 5., 5., 5., 90, 90, 90\n",
    "orientation:\n",
    " u: 1, 0, 2\n",
    " v: 1,0,0\n",
    "Eaxis:\n",
    " min: 0\n",
    " max: 150\n",
    " N: 150\n",
    "Q_projections:\n",
    " U:\n",
    "  proj: 0,1,0\n",
    "  proj_name: 0,K,0\n",
    "  min: -2.0\n",
    "  max: 2.0\n",
    "  N: 200\n",
    " V:\n",
    "  proj: 1,0,0\n",
    "  proj_name: H,0,0\n",
    "  min: -5.0\n",
    "  max: 5.0\n",
    "  N: 1\n",
    " W:\n",
    "  proj: 0,0,1\n",
    "  proj_name: 0,0,L\n",
    "  min: -5.0\n",
    "  max: 5.0\n",
    "  N: 1\n",
    "output: slice_0K0_v4.nxs"
   ]
  },
  {
   "cell_type": "code",
   "execution_count": 51,
   "metadata": {
    "collapsed": true
   },
   "outputs": [],
   "source": [
    "# hack for now. copy the config python file to current dir\n",
    "!cp /SNS/users/lj7/simulations/mcvine_workflow/DGS/ARCS/single-crystal/scripts/config.py ."
   ]
  },
  {
   "cell_type": "code",
   "execution_count": 65,
   "metadata": {
    "collapsed": true
   },
   "outputs": [],
   "source": [
    "# run script to calculate the slice\n",
    "# this take ~15 minutes \n",
    "! PYTHONPATH=$PWD:$PYTHONPATH ./scripts/reduce/getaslice.py slice_0K0_v4.yml > log.slice_0K0_v4"
   ]
  },
  {
   "cell_type": "code",
   "execution_count": 66,
   "metadata": {
    "collapsed": false
   },
   "outputs": [
    {
     "name": "stdout",
     "output_type": "stream",
     "text": [
      "FrameworkManager-[Notice] Welcome to Mantid 3.6.100\n",
      "FrameworkManager-[Notice] Please cite: http://dx.doi.org/10.1016/j.nima.2014.07.029 and this release: http://dx.doi.org/10.5286/Software/Mantid3.6.100\n",
      "Load-[Notice] Load started\n",
      "Load-[Notice] Load successful, Duration 0.94 seconds\n"
     ]
    }
   ],
   "source": [
    "!./scripts/reduce/slice2hist.py \"slice_0K0_v4.nxs\" slice_0K0_v4.h5"
   ]
  },
  {
   "cell_type": "code",
   "execution_count": 68,
   "metadata": {
    "collapsed": false
   },
   "outputs": [
    {
     "name": "stdout",
     "output_type": "stream",
     "text": [
      "plot z in (0.0, 3.652262503e-07)\n"
     ]
    },
    {
     "data": {
      "application/javascript": [
       "/* Put everything inside the global mpl namespace */\n",
       "window.mpl = {};\n",
       "\n",
       "mpl.get_websocket_type = function() {\n",
       "    if (typeof(WebSocket) !== 'undefined') {\n",
       "        return WebSocket;\n",
       "    } else if (typeof(MozWebSocket) !== 'undefined') {\n",
       "        return MozWebSocket;\n",
       "    } else {\n",
       "        alert('Your browser does not have WebSocket support.' +\n",
       "              'Please try Chrome, Safari or Firefox ≥ 6. ' +\n",
       "              'Firefox 4 and 5 are also supported but you ' +\n",
       "              'have to enable WebSockets in about:config.');\n",
       "    };\n",
       "}\n",
       "\n",
       "mpl.figure = function(figure_id, websocket, ondownload, parent_element) {\n",
       "    this.id = figure_id;\n",
       "\n",
       "    this.ws = websocket;\n",
       "\n",
       "    this.supports_binary = (this.ws.binaryType != undefined);\n",
       "\n",
       "    if (!this.supports_binary) {\n",
       "        var warnings = document.getElementById(\"mpl-warnings\");\n",
       "        if (warnings) {\n",
       "            warnings.style.display = 'block';\n",
       "            warnings.textContent = (\n",
       "                \"This browser does not support binary websocket messages. \" +\n",
       "                    \"Performance may be slow.\");\n",
       "        }\n",
       "    }\n",
       "\n",
       "    this.imageObj = new Image();\n",
       "\n",
       "    this.context = undefined;\n",
       "    this.message = undefined;\n",
       "    this.canvas = undefined;\n",
       "    this.rubberband_canvas = undefined;\n",
       "    this.rubberband_context = undefined;\n",
       "    this.format_dropdown = undefined;\n",
       "\n",
       "    this.image_mode = 'full';\n",
       "\n",
       "    this.root = $('<div/>');\n",
       "    this._root_extra_style(this.root)\n",
       "    this.root.attr('style', 'display: inline-block');\n",
       "\n",
       "    $(parent_element).append(this.root);\n",
       "\n",
       "    this._init_header(this);\n",
       "    this._init_canvas(this);\n",
       "    this._init_toolbar(this);\n",
       "\n",
       "    var fig = this;\n",
       "\n",
       "    this.waiting = false;\n",
       "\n",
       "    this.ws.onopen =  function () {\n",
       "            fig.send_message(\"supports_binary\", {value: fig.supports_binary});\n",
       "            fig.send_message(\"send_image_mode\", {});\n",
       "            fig.send_message(\"refresh\", {});\n",
       "        }\n",
       "\n",
       "    this.imageObj.onload = function() {\n",
       "            if (fig.image_mode == 'full') {\n",
       "                // Full images could contain transparency (where diff images\n",
       "                // almost always do), so we need to clear the canvas so that\n",
       "                // there is no ghosting.\n",
       "                fig.context.clearRect(0, 0, fig.canvas.width, fig.canvas.height);\n",
       "            }\n",
       "            fig.context.drawImage(fig.imageObj, 0, 0);\n",
       "        };\n",
       "\n",
       "    this.imageObj.onunload = function() {\n",
       "        this.ws.close();\n",
       "    }\n",
       "\n",
       "    this.ws.onmessage = this._make_on_message_function(this);\n",
       "\n",
       "    this.ondownload = ondownload;\n",
       "}\n",
       "\n",
       "mpl.figure.prototype._init_header = function() {\n",
       "    var titlebar = $(\n",
       "        '<div class=\"ui-dialog-titlebar ui-widget-header ui-corner-all ' +\n",
       "        'ui-helper-clearfix\"/>');\n",
       "    var titletext = $(\n",
       "        '<div class=\"ui-dialog-title\" style=\"width: 100%; ' +\n",
       "        'text-align: center; padding: 3px;\"/>');\n",
       "    titlebar.append(titletext)\n",
       "    this.root.append(titlebar);\n",
       "    this.header = titletext[0];\n",
       "}\n",
       "\n",
       "\n",
       "\n",
       "mpl.figure.prototype._canvas_extra_style = function(canvas_div) {\n",
       "\n",
       "}\n",
       "\n",
       "\n",
       "mpl.figure.prototype._root_extra_style = function(canvas_div) {\n",
       "\n",
       "}\n",
       "\n",
       "mpl.figure.prototype._init_canvas = function() {\n",
       "    var fig = this;\n",
       "\n",
       "    var canvas_div = $('<div/>');\n",
       "\n",
       "    canvas_div.attr('style', 'position: relative; clear: both; outline: 0');\n",
       "\n",
       "    function canvas_keyboard_event(event) {\n",
       "        return fig.key_event(event, event['data']);\n",
       "    }\n",
       "\n",
       "    canvas_div.keydown('key_press', canvas_keyboard_event);\n",
       "    canvas_div.keyup('key_release', canvas_keyboard_event);\n",
       "    this.canvas_div = canvas_div\n",
       "    this._canvas_extra_style(canvas_div)\n",
       "    this.root.append(canvas_div);\n",
       "\n",
       "    var canvas = $('<canvas/>');\n",
       "    canvas.addClass('mpl-canvas');\n",
       "    canvas.attr('style', \"left: 0; top: 0; z-index: 0; outline: 0\")\n",
       "\n",
       "    this.canvas = canvas[0];\n",
       "    this.context = canvas[0].getContext(\"2d\");\n",
       "\n",
       "    var rubberband = $('<canvas/>');\n",
       "    rubberband.attr('style', \"position: absolute; left: 0; top: 0; z-index: 1;\")\n",
       "\n",
       "    var pass_mouse_events = true;\n",
       "\n",
       "    canvas_div.resizable({\n",
       "        start: function(event, ui) {\n",
       "            pass_mouse_events = false;\n",
       "        },\n",
       "        resize: function(event, ui) {\n",
       "            fig.request_resize(ui.size.width, ui.size.height);\n",
       "        },\n",
       "        stop: function(event, ui) {\n",
       "            pass_mouse_events = true;\n",
       "            fig.request_resize(ui.size.width, ui.size.height);\n",
       "        },\n",
       "    });\n",
       "\n",
       "    function mouse_event_fn(event) {\n",
       "        if (pass_mouse_events)\n",
       "            return fig.mouse_event(event, event['data']);\n",
       "    }\n",
       "\n",
       "    rubberband.mousedown('button_press', mouse_event_fn);\n",
       "    rubberband.mouseup('button_release', mouse_event_fn);\n",
       "    // Throttle sequential mouse events to 1 every 20ms.\n",
       "    rubberband.mousemove('motion_notify', mouse_event_fn);\n",
       "\n",
       "    rubberband.mouseenter('figure_enter', mouse_event_fn);\n",
       "    rubberband.mouseleave('figure_leave', mouse_event_fn);\n",
       "\n",
       "    canvas_div.on(\"wheel\", function (event) {\n",
       "        event = event.originalEvent;\n",
       "        event['data'] = 'scroll'\n",
       "        if (event.deltaY < 0) {\n",
       "            event.step = 1;\n",
       "        } else {\n",
       "            event.step = -1;\n",
       "        }\n",
       "        mouse_event_fn(event);\n",
       "    });\n",
       "\n",
       "    canvas_div.append(canvas);\n",
       "    canvas_div.append(rubberband);\n",
       "\n",
       "    this.rubberband = rubberband;\n",
       "    this.rubberband_canvas = rubberband[0];\n",
       "    this.rubberband_context = rubberband[0].getContext(\"2d\");\n",
       "    this.rubberband_context.strokeStyle = \"#000000\";\n",
       "\n",
       "    this._resize_canvas = function(width, height) {\n",
       "        // Keep the size of the canvas, canvas container, and rubber band\n",
       "        // canvas in synch.\n",
       "        canvas_div.css('width', width)\n",
       "        canvas_div.css('height', height)\n",
       "\n",
       "        canvas.attr('width', width);\n",
       "        canvas.attr('height', height);\n",
       "\n",
       "        rubberband.attr('width', width);\n",
       "        rubberband.attr('height', height);\n",
       "    }\n",
       "\n",
       "    // Set the figure to an initial 600x600px, this will subsequently be updated\n",
       "    // upon first draw.\n",
       "    this._resize_canvas(600, 600);\n",
       "\n",
       "    // Disable right mouse context menu.\n",
       "    $(this.rubberband_canvas).bind(\"contextmenu\",function(e){\n",
       "        return false;\n",
       "    });\n",
       "\n",
       "    function set_focus () {\n",
       "        canvas.focus();\n",
       "        canvas_div.focus();\n",
       "    }\n",
       "\n",
       "    window.setTimeout(set_focus, 100);\n",
       "}\n",
       "\n",
       "mpl.figure.prototype._init_toolbar = function() {\n",
       "    var fig = this;\n",
       "\n",
       "    var nav_element = $('<div/>')\n",
       "    nav_element.attr('style', 'width: 100%');\n",
       "    this.root.append(nav_element);\n",
       "\n",
       "    // Define a callback function for later on.\n",
       "    function toolbar_event(event) {\n",
       "        return fig.toolbar_button_onclick(event['data']);\n",
       "    }\n",
       "    function toolbar_mouse_event(event) {\n",
       "        return fig.toolbar_button_onmouseover(event['data']);\n",
       "    }\n",
       "\n",
       "    for(var toolbar_ind in mpl.toolbar_items) {\n",
       "        var name = mpl.toolbar_items[toolbar_ind][0];\n",
       "        var tooltip = mpl.toolbar_items[toolbar_ind][1];\n",
       "        var image = mpl.toolbar_items[toolbar_ind][2];\n",
       "        var method_name = mpl.toolbar_items[toolbar_ind][3];\n",
       "\n",
       "        if (!name) {\n",
       "            // put a spacer in here.\n",
       "            continue;\n",
       "        }\n",
       "        var button = $('<button/>');\n",
       "        button.addClass('ui-button ui-widget ui-state-default ui-corner-all ' +\n",
       "                        'ui-button-icon-only');\n",
       "        button.attr('role', 'button');\n",
       "        button.attr('aria-disabled', 'false');\n",
       "        button.click(method_name, toolbar_event);\n",
       "        button.mouseover(tooltip, toolbar_mouse_event);\n",
       "\n",
       "        var icon_img = $('<span/>');\n",
       "        icon_img.addClass('ui-button-icon-primary ui-icon');\n",
       "        icon_img.addClass(image);\n",
       "        icon_img.addClass('ui-corner-all');\n",
       "\n",
       "        var tooltip_span = $('<span/>');\n",
       "        tooltip_span.addClass('ui-button-text');\n",
       "        tooltip_span.html(tooltip);\n",
       "\n",
       "        button.append(icon_img);\n",
       "        button.append(tooltip_span);\n",
       "\n",
       "        nav_element.append(button);\n",
       "    }\n",
       "\n",
       "    var fmt_picker_span = $('<span/>');\n",
       "\n",
       "    var fmt_picker = $('<select/>');\n",
       "    fmt_picker.addClass('mpl-toolbar-option ui-widget ui-widget-content');\n",
       "    fmt_picker_span.append(fmt_picker);\n",
       "    nav_element.append(fmt_picker_span);\n",
       "    this.format_dropdown = fmt_picker[0];\n",
       "\n",
       "    for (var ind in mpl.extensions) {\n",
       "        var fmt = mpl.extensions[ind];\n",
       "        var option = $(\n",
       "            '<option/>', {selected: fmt === mpl.default_extension}).html(fmt);\n",
       "        fmt_picker.append(option)\n",
       "    }\n",
       "\n",
       "    // Add hover states to the ui-buttons\n",
       "    $( \".ui-button\" ).hover(\n",
       "        function() { $(this).addClass(\"ui-state-hover\");},\n",
       "        function() { $(this).removeClass(\"ui-state-hover\");}\n",
       "    );\n",
       "\n",
       "    var status_bar = $('<span class=\"mpl-message\"/>');\n",
       "    nav_element.append(status_bar);\n",
       "    this.message = status_bar[0];\n",
       "}\n",
       "\n",
       "mpl.figure.prototype.request_resize = function(x_pixels, y_pixels) {\n",
       "    // Request matplotlib to resize the figure. Matplotlib will then trigger a resize in the client,\n",
       "    // which will in turn request a refresh of the image.\n",
       "    this.send_message('resize', {'width': x_pixels, 'height': y_pixels});\n",
       "}\n",
       "\n",
       "mpl.figure.prototype.send_message = function(type, properties) {\n",
       "    properties['type'] = type;\n",
       "    properties['figure_id'] = this.id;\n",
       "    this.ws.send(JSON.stringify(properties));\n",
       "}\n",
       "\n",
       "mpl.figure.prototype.send_draw_message = function() {\n",
       "    if (!this.waiting) {\n",
       "        this.waiting = true;\n",
       "        this.ws.send(JSON.stringify({type: \"draw\", figure_id: this.id}));\n",
       "    }\n",
       "}\n",
       "\n",
       "\n",
       "mpl.figure.prototype.handle_save = function(fig, msg) {\n",
       "    var format_dropdown = fig.format_dropdown;\n",
       "    var format = format_dropdown.options[format_dropdown.selectedIndex].value;\n",
       "    fig.ondownload(fig, format);\n",
       "}\n",
       "\n",
       "\n",
       "mpl.figure.prototype.handle_resize = function(fig, msg) {\n",
       "    var size = msg['size'];\n",
       "    if (size[0] != fig.canvas.width || size[1] != fig.canvas.height) {\n",
       "        fig._resize_canvas(size[0], size[1]);\n",
       "        fig.send_message(\"refresh\", {});\n",
       "    };\n",
       "}\n",
       "\n",
       "mpl.figure.prototype.handle_rubberband = function(fig, msg) {\n",
       "    var x0 = msg['x0'];\n",
       "    var y0 = fig.canvas.height - msg['y0'];\n",
       "    var x1 = msg['x1'];\n",
       "    var y1 = fig.canvas.height - msg['y1'];\n",
       "    x0 = Math.floor(x0) + 0.5;\n",
       "    y0 = Math.floor(y0) + 0.5;\n",
       "    x1 = Math.floor(x1) + 0.5;\n",
       "    y1 = Math.floor(y1) + 0.5;\n",
       "    var min_x = Math.min(x0, x1);\n",
       "    var min_y = Math.min(y0, y1);\n",
       "    var width = Math.abs(x1 - x0);\n",
       "    var height = Math.abs(y1 - y0);\n",
       "\n",
       "    fig.rubberband_context.clearRect(\n",
       "        0, 0, fig.canvas.width, fig.canvas.height);\n",
       "\n",
       "    fig.rubberband_context.strokeRect(min_x, min_y, width, height);\n",
       "}\n",
       "\n",
       "mpl.figure.prototype.handle_figure_label = function(fig, msg) {\n",
       "    // Updates the figure title.\n",
       "    fig.header.textContent = msg['label'];\n",
       "}\n",
       "\n",
       "mpl.figure.prototype.handle_cursor = function(fig, msg) {\n",
       "    var cursor = msg['cursor'];\n",
       "    switch(cursor)\n",
       "    {\n",
       "    case 0:\n",
       "        cursor = 'pointer';\n",
       "        break;\n",
       "    case 1:\n",
       "        cursor = 'default';\n",
       "        break;\n",
       "    case 2:\n",
       "        cursor = 'crosshair';\n",
       "        break;\n",
       "    case 3:\n",
       "        cursor = 'move';\n",
       "        break;\n",
       "    }\n",
       "    fig.rubberband_canvas.style.cursor = cursor;\n",
       "}\n",
       "\n",
       "mpl.figure.prototype.handle_message = function(fig, msg) {\n",
       "    fig.message.textContent = msg['message'];\n",
       "}\n",
       "\n",
       "mpl.figure.prototype.handle_draw = function(fig, msg) {\n",
       "    // Request the server to send over a new figure.\n",
       "    fig.send_draw_message();\n",
       "}\n",
       "\n",
       "mpl.figure.prototype.handle_image_mode = function(fig, msg) {\n",
       "    fig.image_mode = msg['mode'];\n",
       "}\n",
       "\n",
       "mpl.figure.prototype.updated_canvas_event = function() {\n",
       "    // Called whenever the canvas gets updated.\n",
       "    this.send_message(\"ack\", {});\n",
       "}\n",
       "\n",
       "// A function to construct a web socket function for onmessage handling.\n",
       "// Called in the figure constructor.\n",
       "mpl.figure.prototype._make_on_message_function = function(fig) {\n",
       "    return function socket_on_message(evt) {\n",
       "        if (evt.data instanceof Blob) {\n",
       "            /* FIXME: We get \"Resource interpreted as Image but\n",
       "             * transferred with MIME type text/plain:\" errors on\n",
       "             * Chrome.  But how to set the MIME type?  It doesn't seem\n",
       "             * to be part of the websocket stream */\n",
       "            evt.data.type = \"image/png\";\n",
       "\n",
       "            /* Free the memory for the previous frames */\n",
       "            if (fig.imageObj.src) {\n",
       "                (window.URL || window.webkitURL).revokeObjectURL(\n",
       "                    fig.imageObj.src);\n",
       "            }\n",
       "\n",
       "            fig.imageObj.src = (window.URL || window.webkitURL).createObjectURL(\n",
       "                evt.data);\n",
       "            fig.updated_canvas_event();\n",
       "            fig.waiting = false;\n",
       "            return;\n",
       "        }\n",
       "        else if (typeof evt.data === 'string' && evt.data.slice(0, 21) == \"data:image/png;base64\") {\n",
       "            fig.imageObj.src = evt.data;\n",
       "            fig.updated_canvas_event();\n",
       "            fig.waiting = false;\n",
       "            return;\n",
       "        }\n",
       "\n",
       "        var msg = JSON.parse(evt.data);\n",
       "        var msg_type = msg['type'];\n",
       "\n",
       "        // Call the  \"handle_{type}\" callback, which takes\n",
       "        // the figure and JSON message as its only arguments.\n",
       "        try {\n",
       "            var callback = fig[\"handle_\" + msg_type];\n",
       "        } catch (e) {\n",
       "            console.log(\"No handler for the '\" + msg_type + \"' message type: \", msg);\n",
       "            return;\n",
       "        }\n",
       "\n",
       "        if (callback) {\n",
       "            try {\n",
       "                // console.log(\"Handling '\" + msg_type + \"' message: \", msg);\n",
       "                callback(fig, msg);\n",
       "            } catch (e) {\n",
       "                console.log(\"Exception inside the 'handler_\" + msg_type + \"' callback:\", e, e.stack, msg);\n",
       "            }\n",
       "        }\n",
       "    };\n",
       "}\n",
       "\n",
       "// from http://stackoverflow.com/questions/1114465/getting-mouse-location-in-canvas\n",
       "mpl.findpos = function(e) {\n",
       "    //this section is from http://www.quirksmode.org/js/events_properties.html\n",
       "    var targ;\n",
       "    if (!e)\n",
       "        e = window.event;\n",
       "    if (e.target)\n",
       "        targ = e.target;\n",
       "    else if (e.srcElement)\n",
       "        targ = e.srcElement;\n",
       "    if (targ.nodeType == 3) // defeat Safari bug\n",
       "        targ = targ.parentNode;\n",
       "\n",
       "    // jQuery normalizes the pageX and pageY\n",
       "    // pageX,Y are the mouse positions relative to the document\n",
       "    // offset() returns the position of the element relative to the document\n",
       "    var x = e.pageX - $(targ).offset().left;\n",
       "    var y = e.pageY - $(targ).offset().top;\n",
       "\n",
       "    return {\"x\": x, \"y\": y};\n",
       "};\n",
       "\n",
       "/*\n",
       " * return a copy of an object with only non-object keys\n",
       " * we need this to avoid circular references\n",
       " * http://stackoverflow.com/a/24161582/3208463\n",
       " */\n",
       "function simpleKeys (original) {\n",
       "  return Object.keys(original).reduce(function (obj, key) {\n",
       "    if (typeof original[key] !== 'object')\n",
       "        obj[key] = original[key]\n",
       "    return obj;\n",
       "  }, {});\n",
       "}\n",
       "\n",
       "mpl.figure.prototype.mouse_event = function(event, name) {\n",
       "    var canvas_pos = mpl.findpos(event)\n",
       "\n",
       "    if (name === 'button_press')\n",
       "    {\n",
       "        this.canvas.focus();\n",
       "        this.canvas_div.focus();\n",
       "    }\n",
       "\n",
       "    var x = canvas_pos.x;\n",
       "    var y = canvas_pos.y;\n",
       "\n",
       "    this.send_message(name, {x: x, y: y, button: event.button,\n",
       "                             step: event.step,\n",
       "                             guiEvent: simpleKeys(event)});\n",
       "\n",
       "    /* This prevents the web browser from automatically changing to\n",
       "     * the text insertion cursor when the button is pressed.  We want\n",
       "     * to control all of the cursor setting manually through the\n",
       "     * 'cursor' event from matplotlib */\n",
       "    event.preventDefault();\n",
       "    return false;\n",
       "}\n",
       "\n",
       "mpl.figure.prototype._key_event_extra = function(event, name) {\n",
       "    // Handle any extra behaviour associated with a key event\n",
       "}\n",
       "\n",
       "mpl.figure.prototype.key_event = function(event, name) {\n",
       "\n",
       "    // Prevent repeat events\n",
       "    if (name == 'key_press')\n",
       "    {\n",
       "        if (event.which === this._key)\n",
       "            return;\n",
       "        else\n",
       "            this._key = event.which;\n",
       "    }\n",
       "    if (name == 'key_release')\n",
       "        this._key = null;\n",
       "\n",
       "    var value = '';\n",
       "    if (event.ctrlKey && event.which != 17)\n",
       "        value += \"ctrl+\";\n",
       "    if (event.altKey && event.which != 18)\n",
       "        value += \"alt+\";\n",
       "    if (event.shiftKey && event.which != 16)\n",
       "        value += \"shift+\";\n",
       "\n",
       "    value += 'k';\n",
       "    value += event.which.toString();\n",
       "\n",
       "    this._key_event_extra(event, name);\n",
       "\n",
       "    this.send_message(name, {key: value,\n",
       "                             guiEvent: simpleKeys(event)});\n",
       "    return false;\n",
       "}\n",
       "\n",
       "mpl.figure.prototype.toolbar_button_onclick = function(name) {\n",
       "    if (name == 'download') {\n",
       "        this.handle_save(this, null);\n",
       "    } else {\n",
       "        this.send_message(\"toolbar_button\", {name: name});\n",
       "    }\n",
       "};\n",
       "\n",
       "mpl.figure.prototype.toolbar_button_onmouseover = function(tooltip) {\n",
       "    this.message.textContent = tooltip;\n",
       "};\n",
       "mpl.toolbar_items = [[\"Home\", \"Reset original view\", \"fa fa-home icon-home\", \"home\"], [\"Back\", \"Back to  previous view\", \"fa fa-arrow-left icon-arrow-left\", \"back\"], [\"Forward\", \"Forward to next view\", \"fa fa-arrow-right icon-arrow-right\", \"forward\"], [\"\", \"\", \"\", \"\"], [\"Pan\", \"Pan axes with left mouse, zoom with right\", \"fa fa-arrows icon-move\", \"pan\"], [\"Zoom\", \"Zoom to rectangle\", \"fa fa-square-o icon-check-empty\", \"zoom\"], [\"\", \"\", \"\", \"\"], [\"Download\", \"Download plot\", \"fa fa-floppy-o icon-save\", \"download\"]];\n",
       "\n",
       "mpl.extensions = [\"eps\", \"pdf\", \"png\", \"ps\", \"raw\", \"svg\"];\n",
       "\n",
       "mpl.default_extension = \"png\";var comm_websocket_adapter = function(comm) {\n",
       "    // Create a \"websocket\"-like object which calls the given IPython comm\n",
       "    // object with the appropriate methods. Currently this is a non binary\n",
       "    // socket, so there is still some room for performance tuning.\n",
       "    var ws = {};\n",
       "\n",
       "    ws.close = function() {\n",
       "        comm.close()\n",
       "    };\n",
       "    ws.send = function(m) {\n",
       "        //console.log('sending', m);\n",
       "        comm.send(m);\n",
       "    };\n",
       "    // Register the callback with on_msg.\n",
       "    comm.on_msg(function(msg) {\n",
       "        //console.log('receiving', msg['content']['data'], msg);\n",
       "        // Pass the mpl event to the overriden (by mpl) onmessage function.\n",
       "        ws.onmessage(msg['content']['data'])\n",
       "    });\n",
       "    return ws;\n",
       "}\n",
       "\n",
       "mpl.mpl_figure_comm = function(comm, msg) {\n",
       "    // This is the function which gets called when the mpl process\n",
       "    // starts-up an IPython Comm through the \"matplotlib\" channel.\n",
       "\n",
       "    var id = msg.content.data.id;\n",
       "    // Get hold of the div created by the display call when the Comm\n",
       "    // socket was opened in Python.\n",
       "    var element = $(\"#\" + id);\n",
       "    var ws_proxy = comm_websocket_adapter(comm)\n",
       "\n",
       "    function ondownload(figure, format) {\n",
       "        window.open(figure.imageObj.src);\n",
       "    }\n",
       "\n",
       "    var fig = new mpl.figure(id, ws_proxy,\n",
       "                           ondownload,\n",
       "                           element.get(0));\n",
       "\n",
       "    // Call onopen now - mpl needs it, as it is assuming we've passed it a real\n",
       "    // web socket which is closed, not our websocket->open comm proxy.\n",
       "    ws_proxy.onopen();\n",
       "\n",
       "    fig.parent_element = element.get(0);\n",
       "    fig.cell_info = mpl.find_output_cell(\"<div id='\" + id + \"'></div>\");\n",
       "    if (!fig.cell_info) {\n",
       "        console.error(\"Failed to find cell for figure\", id, fig);\n",
       "        return;\n",
       "    }\n",
       "\n",
       "    var output_index = fig.cell_info[2]\n",
       "    var cell = fig.cell_info[0];\n",
       "\n",
       "};\n",
       "\n",
       "mpl.figure.prototype.handle_close = function(fig, msg) {\n",
       "    fig.root.unbind('remove')\n",
       "\n",
       "    // Update the output cell to use the data from the current canvas.\n",
       "    fig.push_to_output();\n",
       "    var dataURL = fig.canvas.toDataURL();\n",
       "    // Re-enable the keyboard manager in IPython - without this line, in FF,\n",
       "    // the notebook keyboard shortcuts fail.\n",
       "    IPython.keyboard_manager.enable()\n",
       "    $(fig.parent_element).html('<img src=\"' + dataURL + '\">');\n",
       "    fig.close_ws(fig, msg);\n",
       "}\n",
       "\n",
       "mpl.figure.prototype.close_ws = function(fig, msg){\n",
       "    fig.send_message('closing', msg);\n",
       "    // fig.ws.close()\n",
       "}\n",
       "\n",
       "mpl.figure.prototype.push_to_output = function(remove_interactive) {\n",
       "    // Turn the data on the canvas into data in the output cell.\n",
       "    var dataURL = this.canvas.toDataURL();\n",
       "    this.cell_info[1]['text/html'] = '<img src=\"' + dataURL + '\">';\n",
       "}\n",
       "\n",
       "mpl.figure.prototype.updated_canvas_event = function() {\n",
       "    // Tell IPython that the notebook contents must change.\n",
       "    IPython.notebook.set_dirty(true);\n",
       "    this.send_message(\"ack\", {});\n",
       "    var fig = this;\n",
       "    // Wait a second, then push the new image to the DOM so\n",
       "    // that it is saved nicely (might be nice to debounce this).\n",
       "    setTimeout(function () { fig.push_to_output() }, 1000);\n",
       "}\n",
       "\n",
       "mpl.figure.prototype._init_toolbar = function() {\n",
       "    var fig = this;\n",
       "\n",
       "    var nav_element = $('<div/>')\n",
       "    nav_element.attr('style', 'width: 100%');\n",
       "    this.root.append(nav_element);\n",
       "\n",
       "    // Define a callback function for later on.\n",
       "    function toolbar_event(event) {\n",
       "        return fig.toolbar_button_onclick(event['data']);\n",
       "    }\n",
       "    function toolbar_mouse_event(event) {\n",
       "        return fig.toolbar_button_onmouseover(event['data']);\n",
       "    }\n",
       "\n",
       "    for(var toolbar_ind in mpl.toolbar_items){\n",
       "        var name = mpl.toolbar_items[toolbar_ind][0];\n",
       "        var tooltip = mpl.toolbar_items[toolbar_ind][1];\n",
       "        var image = mpl.toolbar_items[toolbar_ind][2];\n",
       "        var method_name = mpl.toolbar_items[toolbar_ind][3];\n",
       "\n",
       "        if (!name) { continue; };\n",
       "\n",
       "        var button = $('<button class=\"btn btn-default\" href=\"#\" title=\"' + name + '\"><i class=\"fa ' + image + ' fa-lg\"></i></button>');\n",
       "        button.click(method_name, toolbar_event);\n",
       "        button.mouseover(tooltip, toolbar_mouse_event);\n",
       "        nav_element.append(button);\n",
       "    }\n",
       "\n",
       "    // Add the status bar.\n",
       "    var status_bar = $('<span class=\"mpl-message\" style=\"text-align:right; float: right;\"/>');\n",
       "    nav_element.append(status_bar);\n",
       "    this.message = status_bar[0];\n",
       "\n",
       "    // Add the close button to the window.\n",
       "    var buttongrp = $('<div class=\"btn-group inline pull-right\"></div>');\n",
       "    var button = $('<button class=\"btn btn-mini btn-primary\" href=\"#\" title=\"Stop Interaction\"><i class=\"fa fa-power-off icon-remove icon-large\"></i></button>');\n",
       "    button.click(function (evt) { fig.handle_close(fig, {}); } );\n",
       "    button.mouseover('Stop Interaction', toolbar_mouse_event);\n",
       "    buttongrp.append(button);\n",
       "    var titlebar = this.root.find($('.ui-dialog-titlebar'));\n",
       "    titlebar.prepend(buttongrp);\n",
       "}\n",
       "\n",
       "mpl.figure.prototype._root_extra_style = function(el){\n",
       "    var fig = this\n",
       "    el.on(\"remove\", function(){\n",
       "\tfig.close_ws(fig, {});\n",
       "    });\n",
       "}\n",
       "\n",
       "mpl.figure.prototype._canvas_extra_style = function(el){\n",
       "    // this is important to make the div 'focusable\n",
       "    el.attr('tabindex', 0)\n",
       "    // reach out to IPython and tell the keyboard manager to turn it's self\n",
       "    // off when our div gets focus\n",
       "\n",
       "    // location in version 3\n",
       "    if (IPython.notebook.keyboard_manager) {\n",
       "        IPython.notebook.keyboard_manager.register_events(el);\n",
       "    }\n",
       "    else {\n",
       "        // location in version 2\n",
       "        IPython.keyboard_manager.register_events(el);\n",
       "    }\n",
       "\n",
       "}\n",
       "\n",
       "mpl.figure.prototype._key_event_extra = function(event, name) {\n",
       "    var manager = IPython.notebook.keyboard_manager;\n",
       "    if (!manager)\n",
       "        manager = IPython.keyboard_manager;\n",
       "\n",
       "    // Check for shift+enter\n",
       "    if (event.shiftKey && event.which == 13) {\n",
       "        this.canvas_div.blur();\n",
       "        event.shiftKey = false;\n",
       "        // Send a \"J\" for go to next cell\n",
       "        event.which = 74;\n",
       "        event.keyCode = 74;\n",
       "        manager.command_mode();\n",
       "        manager.handle_keydown(event);\n",
       "    }\n",
       "}\n",
       "\n",
       "mpl.figure.prototype.handle_save = function(fig, msg) {\n",
       "    fig.ondownload(fig, null);\n",
       "}\n",
       "\n",
       "\n",
       "mpl.find_output_cell = function(html_output) {\n",
       "    // Return the cell and output element which can be found *uniquely* in the notebook.\n",
       "    // Note - this is a bit hacky, but it is done because the \"notebook_saving.Notebook\"\n",
       "    // IPython event is triggered only after the cells have been serialised, which for\n",
       "    // our purposes (turning an active figure into a static one), is too late.\n",
       "    var cells = IPython.notebook.get_cells();\n",
       "    var ncells = cells.length;\n",
       "    for (var i=0; i<ncells; i++) {\n",
       "        var cell = cells[i];\n",
       "        if (cell.cell_type === 'code'){\n",
       "            for (var j=0; j<cell.output_area.outputs.length; j++) {\n",
       "                var data = cell.output_area.outputs[j];\n",
       "                if (data.data) {\n",
       "                    // IPython >= 3 moved mimebundle to data attribute of output\n",
       "                    data = data.data;\n",
       "                }\n",
       "                if (data['text/html'] == html_output) {\n",
       "                    return [cell, data, j];\n",
       "                }\n",
       "            }\n",
       "        }\n",
       "    }\n",
       "}\n",
       "\n",
       "// Register the function which deals with the matplotlib target/channel.\n",
       "// The kernel may be null if the page has been refreshed.\n",
       "if (IPython.notebook.kernel != null) {\n",
       "    IPython.notebook.kernel.comm_manager.register_target('matplotlib', mpl.mpl_figure_comm);\n",
       "}\n"
      ],
      "text/plain": [
       "<IPython.core.display.Javascript object>"
      ]
     },
     "metadata": {},
     "output_type": "display_data"
    },
    {
     "data": {
      "text/html": [
       "<img src=\"data:image/png;base64,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\">"
      ],
      "text/plain": [
       "<IPython.core.display.HTML object>"
      ]
     },
     "metadata": {},
     "output_type": "display_data"
    }
   ],
   "source": [
    "H.plot(hh.load(\"./slice_0K0_v4.h5\"), min=0.0)"
   ]
  },
  {
   "cell_type": "code",
   "execution_count": null,
   "metadata": {
    "collapsed": true
   },
   "outputs": [],
   "source": []
  }
 ],
 "metadata": {
  "kernelspec": {
   "display_name": "Python 2",
   "language": "python",
   "name": "python2"
  },
  "language_info": {
   "codemirror_mode": {
    "name": "ipython",
    "version": 2
   },
   "file_extension": ".py",
   "mimetype": "text/x-python",
   "name": "python",
   "nbconvert_exporter": "python",
   "pygments_lexer": "ipython2",
   "version": "2.7.11"
  },
  "widgets": {
   "state": {},
   "version": "1.1.2"
  }
 },
 "nbformat": 4,
 "nbformat_minor": 0
}
