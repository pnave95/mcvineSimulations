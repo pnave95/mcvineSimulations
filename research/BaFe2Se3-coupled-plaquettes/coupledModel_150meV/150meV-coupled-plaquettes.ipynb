{
 "cells": [
  {
   "cell_type": "markdown",
   "metadata": {},
   "source": [
    "This is a simulation for the coupled BaFe2Se3 plaquettes model."
   ]
  },
  {
   "cell_type": "code",
   "execution_count": 16,
   "metadata": {
    "collapsed": true
   },
   "outputs": [],
   "source": [
    "%matplotlib notebook\n",
    "from matplotlib import pyplot as plt\n",
    "import numpy as np\n",
    "import histogram.hdf as hh, histogram as H"
   ]
  },
  {
   "cell_type": "code",
   "execution_count": 2,
   "metadata": {
    "collapsed": false
   },
   "outputs": [
    {
     "name": "stdout",
     "output_type": "stream",
     "text": [
      "/SNS/users/p63/mcvine/research/BaFe2Se3-coupled-plaquettes/coupledModel_150meV\n",
      "samples  scattering  startJupterNotebookInBackground.sh  Untitled.ipynb\n"
     ]
    }
   ],
   "source": [
    "!pwd\n",
    "!ls"
   ]
  },
  {
   "cell_type": "code",
   "execution_count": 3,
   "metadata": {
    "collapsed": false
   },
   "outputs": [
    {
     "name": "stdout",
     "output_type": "stream",
     "text": [
      "/SNS/users/p63/mcvine/research/BaFe2Se3-coupled-plaquettes/coupledModel_150meV/samples/X/sampleassembly\n"
     ]
    }
   ],
   "source": [
    "%cd samples/X/sampleassembly/"
   ]
  },
  {
   "cell_type": "code",
   "execution_count": 4,
   "metadata": {
    "collapsed": false
   },
   "outputs": [
    {
     "name": "stdout",
     "output_type": "stream",
     "text": [
      "FeX.xyz  sampleassembly.xml  X-scatterer.xml  X.xyz\r\n"
     ]
    }
   ],
   "source": [
    "!ls"
   ]
  },
  {
   "cell_type": "code",
   "execution_count": 5,
   "metadata": {
    "collapsed": false,
    "scrolled": true
   },
   "outputs": [
    {
     "name": "stdout",
     "output_type": "stream",
     "text": [
      "<?xml version=\"1.0\"?>\r\n",
      "\r\n",
      "<!DOCTYPE scatterer>\r\n",
      "\r\n",
      "<!-- weights: absorption, scattering, transmission -->\r\n",
      "<homogeneous_scatterer \r\n",
      "    mcweights=\"0, 1, 0.1\"\r\n",
      "    max_multiplescattering_loops=\"3\"\r\n",
      "    >\r\n",
      "  \r\n",
      " <KernelContainer average=\"yes\">\r\n",
      "\r\n",
      "  <E_vQ_Kernel \r\n",
      "     E_Q=\"S:=2; JR:=\" \r\n",
      "     S_Q=\"1\"\r\n",
      "     Qmin=\"0./angstrom\"\r\n",
      "     Qmax=\"18/angstrom\"\r\n",
      "    />\r\n",
      "    \r\n",
      "  <E_Q_Kernel\r\n",
      "    E_Q=\"88\"\r\n",
      "    S_Q=\"1\"\r\n",
      "    Qmin=\"0./angstrom\"\r\n",
      "    Qmax=\"18/angstrom\"\r\n",
      "    />\r\n",
      "    \r\n",
      "  <E_Q_Kernel\r\n",
      "    E_Q=\"108\"\r\n",
      "    S_Q=\"1\"\r\n",
      "    Qmin=\"0./angstrom\"\r\n",
      "    Qmax=\"18/angstrom\"\r\n",
      "    />\r\n",
      "    \r\n",
      "  <E_Q_Kernel\r\n",
      "    E_Q=\"196\"\r\n",
      "    S_Q=\"1\"\r\n",
      "    Qmin=\"0./angstrom\"\r\n",
      "    Qmax=\"18/angstrom\"\r\n",
      "    />\r\n",
      "    \r\n",
      " </KernelContainer>\r\n",
      "  \r\n",
      "</homogeneous_scatterer>\r\n"
     ]
    }
   ],
   "source": [
    "!cat X-scatterer.xml"
   ]
  },
  {
   "cell_type": "code",
   "execution_count": null,
   "metadata": {
    "collapsed": true
   },
   "outputs": [],
   "source": [
    "%%file write-scattering-kernel.py\n",
    "\n",
    "# not finished\n",
    "import numpy as np\n",
    "\n",
    "# define parameters\n",
    "SJR = -33.0\n",
    "SJ1 = -43.0\n",
    "SJ2 = 11.0\n",
    "SJ3 = 15.0\n",
    "SJ1p = 8.0\n",
    "SJ2p = 6.0\n",
    "SJ5 = 0.0 # 4.0\n",
    "SDa = -0.08 # 0.0\n",
    "\n",
    "S = 2.0\n",
    "\n",
    "JR = SJR / S\n",
    "J1 = SJ1 / S\n",
    "J2 = SJ2 / S\n",
    "J3 = SJ3 / S\n",
    "J1p = SJ1p / S\n",
    "J2p = SJ2p / S\n",
    "J5 = SJ5 / S\n",
    "A = SDa / S\n",
    "\n",
    "# reduce expression for E1\n",
    "x1 = S / np.sqrt(2)\n",
    "x21 = 8*(A**2) + (J1p + J2p + 2*J3)**2\n",
    "x22 = 4*(J1p + J2p + 2*J3)*J5 - 16*((J5)**2)\n",
    "x23 = 0.0 - 8*A*(J1p + J2p + 2*J3 + J5)\n",
    "x2 = x21 + x22 + x23\n",
    "cos2Kcoef = 0.0 - 12*(J1p + J2p + 2*J3)*J5\n",
    "cos4Kcoef = 0.0 - ((J1p + J2p + 2.0*J3))\n",
    "\n",
    "E1 = 'E_Q=\"x:='\n",
    "if(x2 != 0.0):\n",
    "    E1 = E1 + '%s'\n",
    "    \n",
    "\n",
    "ostream = open('submit.sh', 'wt')\n",
    "\n",
    "\n",
    "\n",
    "\n",
    "for a in np.arange(-90, 90.1, 1.):\n",
    "    ostream.write('./scripts/sim.py --angle=%s \\n' % a)\n",
    "    continue\n",
    "ostream.close()"
   ]
  },
  {
   "cell_type": "code",
   "execution_count": 6,
   "metadata": {
    "collapsed": false
   },
   "outputs": [
    {
     "name": "stdout",
     "output_type": "stream",
     "text": [
      "Overwriting X-scatterer.xml\n"
     ]
    }
   ],
   "source": [
    "%%file X-scatterer.xml\n",
    "\n",
    "<?xml version=\"1.0\"?>\n",
    "\n",
    "<!DOCTYPE scatterer>\n",
    "\n",
    "<!-- weights: absorption, scattering, transmission -->\n",
    "<homogeneous_scatterer \n",
    "    mcweights=\"0, 1, 0.1\"\n",
    "    max_multiplescattering_loops=\"3\"\n",
    "    >\n",
    "  \n",
    " <KernelContainer average=\"yes\">\n",
    "\n",
    "  <E_vQ_Kernel \n",
    "     E_Q=\"S:=2; JR:=-33.0/S; J1:=-43.0/S; J2:=11.0/S; J3:=15.0/S;\n",
    "        J1p:=8.0/S; J2p:=6.0/S; J5:=0.0/S; A:=-0.08/S;\n",
    "        a:=5; b:=5; c:=5;\n",
    "        x1:=S/sqrt(2);\n",
    "        x21:=8*(A^2)+(J1p+J2p+2*J3)^2;\n",
    "        x22:=4*(J1p+J2p+2*J3)*J5-16*(J5)^2;\n",
    "        x23:=-8*A*(J1p+J2p+2*J3+J5);\n",
    "        x24:=-12*(J1p+J2p+2*J3)*J5*cos(b*Qy)-((J1p+J2p+2*J3)^2)*cos(2*b*Qy);\n",
    "        x20:=x21+x22+x23+x24;\n",
    "        x1*sqrt(x20)\" \n",
    "     S_Q=\"1\"\n",
    "     Emax=\"50*meV\"\n",
    "     orientation=\"0.894427191,0.0,-0.4472135955,0.0,1.0,0.0,0.4472135955,0.0,0.894427191\"\n",
    "    />\n",
    "    \n",
    "  <E_vQ_Kernel\n",
    "    E_Q=\"S:=2; JR:=-33.0/S; J1:=-43.0/S; J2:=11.0/S; J3:=15.0/S;\n",
    "        J1p:=8.0/S; J2p:=6.0/S; J5:=0.0/S; A:=-0.08/S;\n",
    "        a:=5; b:=5; c:=5;\n",
    "        x11:=2*A+2*J1-J1p-J2p-2*(J3+J5-JR)+(J1p-J2p-2*J3)*cos(b*Qy);\n",
    "        x12:=2*A+2*J1-J1p-J2p-2*J3+2*JR+(0.0-J1p+J2p+2*J3)*cos(b*Qy);\n",
    "        x1:=x11*x12;\n",
    "        S*sqrt(x1)\"\n",
    "    S_Q=\"1\"\n",
    "    Emax=\"200*meV\"\n",
    "    orientation=\"0.894427191,0.0,-0.4472135955,0.0,1.0,0.0,0.4472135955,0.0,0.894427191\"\n",
    "    />\n",
    "    \n",
    "  <E_vQ_Kernel\n",
    "    E_Q=\"S:=2; JR:=-33.0/S; J1:=-43.0/S; J2:=11.0/S; J3:=15.0/S;\n",
    "        J1p:=8.0/S; J2p:=6.0/S; J5:=0.0/S; A:=-0.08/S;\n",
    "        a:=5; b:=5; c:=5;\n",
    "        x11:=2*A-J1p+2*J2-J2p-2*(J3+J5-JR)+(0.0-J1p+J2p-2*J3)*cos(b*Qy);\n",
    "        x12:=2*A-J1p+2*J2-J2p-2*J3+2*JR+(J1p-J2p+2*J3)*cos(b*Qy);\n",
    "        x1:=x11*x12;\n",
    "        S*sqrt(x1)\"\n",
    "    S_Q=\"1\"\n",
    "    Emax=\"100*meV\"\n",
    "    orientation=\"0.894427191,0.0,-0.4472135955,0.0,1.0,0.0,0.4472135955,0.0,0.894427191\"\n",
    "    />\n",
    "    \n",
    "  <E_vQ_Kernel\n",
    "    E_Q=\"S:=2; JR:=-33.0/S; J1:=-43.0/S; J2:=11.0/S; J3:=15.0/S;\n",
    "        J1p:=8.0/S; J2p:=6.0/S; J5:=0.0/S; A:=-0.08/S;\n",
    "        a:=5; b:=5; c:=5;\n",
    "        x1:=8*(A^2)+8*((J1)^2)+((J1p)^2)-8*J1p*J2+8*((J2)^2);\n",
    "        x12:=2*J1p*J2p-8*J2*J2p;\n",
    "        x2:=((J2p)^2)+12*J1p*J3-16*J2*J3+12*J2p*J3+4*((J3)^2);\n",
    "        x22:=8*A*(2*J1-J1p+2*J2-J2p-2*J3-J5);\n",
    "        x3:=4*(J1p-2*J2+J2p+2*J3)*J5-16*((J5)^2)-8*J1*(J1p-2*J2+J2p+2*J3+J5);\n",
    "        x4:=(J1p+J2p-2*J3)*(12*J5*cos(b*Qy)-(J1p+J2p-2*J3)*cos(2*b*Qy));\n",
    "        x0:=x1+x12+x2+x22+x3+x4;\n",
    "        (S/sqrt(2))*sqrt(x0)\"\n",
    "    S_Q=\"1\"\n",
    "    Emax=\"120*meV\"\n",
    "    orientation=\"0.894427191,0.0,-0.4472135955,0.0,1.0,0.0,0.4472135955,0.0,0.894427191\"\n",
    "    />\n",
    "    \n",
    " </KernelContainer>\n",
    "  \n",
    "</homogeneous_scatterer>"
   ]
  },
  {
   "cell_type": "code",
   "execution_count": 7,
   "metadata": {
    "collapsed": false
   },
   "outputs": [
    {
     "name": "stdout",
     "output_type": "stream",
     "text": [
      "FeX.xyz  sampleassembly.xml  X-scatterer.xml  X.xyz\r\n"
     ]
    }
   ],
   "source": [
    "!ls"
   ]
  },
  {
   "cell_type": "code",
   "execution_count": 8,
   "metadata": {
    "collapsed": false
   },
   "outputs": [
    {
     "name": "stdout",
     "output_type": "stream",
     "text": [
      "8\r\n",
      "11.89620 0 0    0 5.44930 0    0 0 9.16497\r\n",
      "Fe 0.49627 0.99009 0.35234\r\n",
      "Fe 0.50373 0.99009 0.64766\r\n",
      "Fe 0.00373 0.00991 0.85234\r\n",
      "Fe 0.99627 -0.99009 0.14766\r\n",
      "Fe 0.50373 0.50991 0.64766\r\n",
      "Fe 0.49627 0.50991 0.35234\r\n",
      "Fe 0.99627 0.49009 0.14766\r\n",
      "Fe 0.00373 0.49009 0.85234\r\n"
     ]
    }
   ],
   "source": [
    "!cat FeX.xyz"
   ]
  },
  {
   "cell_type": "code",
   "execution_count": 9,
   "metadata": {
    "collapsed": false
   },
   "outputs": [
    {
     "name": "stdout",
     "output_type": "stream",
     "text": [
      "8\r\n",
      "3 0 0    0 3 0    0 0 3\r\n",
      "V 0 0 0\r\n",
      "V 0 0 0\r\n",
      "V 0 0 0\r\n",
      "V 0 0 0\r\n",
      "V 0 0 0\r\n",
      "V 0 0 0\r\n",
      "V 0 0 0\r\n",
      "V 0 0 0"
     ]
    }
   ],
   "source": [
    "!cat X.xyz"
   ]
  },
  {
   "cell_type": "code",
   "execution_count": 10,
   "metadata": {
    "collapsed": true
   },
   "outputs": [],
   "source": [
    "!mv X.xyz .X.xyz"
   ]
  },
  {
   "cell_type": "code",
   "execution_count": 11,
   "metadata": {
    "collapsed": true
   },
   "outputs": [],
   "source": [
    "!mv FeX.xyz X.xyz"
   ]
  },
  {
   "cell_type": "code",
   "execution_count": 12,
   "metadata": {
    "collapsed": false
   },
   "outputs": [
    {
     "name": "stdout",
     "output_type": "stream",
     "text": [
      "8\r\n",
      "11.89620 0 0    0 5.44930 0    0 0 9.16497\r\n",
      "Fe 0.49627 0.99009 0.35234\r\n",
      "Fe 0.50373 0.99009 0.64766\r\n",
      "Fe 0.00373 0.00991 0.85234\r\n",
      "Fe 0.99627 -0.99009 0.14766\r\n",
      "Fe 0.50373 0.50991 0.64766\r\n",
      "Fe 0.49627 0.50991 0.35234\r\n",
      "Fe 0.99627 0.49009 0.14766\r\n",
      "Fe 0.00373 0.49009 0.85234\r\n"
     ]
    }
   ],
   "source": [
    "!cat X.xyz"
   ]
  },
  {
   "cell_type": "code",
   "execution_count": 14,
   "metadata": {
    "collapsed": false
   },
   "outputs": [
    {
     "name": "stdout",
     "output_type": "stream",
     "text": [
      "<SampleAssembly name=\"X\">\r\n",
      "\r\n",
      "    <PowderSample name=\"X\" type=\"sample\">\r\n",
      "        <Shape>\r\n",
      "            <cylinder radius=\"5*mm\" height=\"20*mm\"/>\r\n",
      "        </Shape>\r\n",
      "        <Phase type=\"crystal\">\r\n",
      "            <ChemicalFormula>Fe</ChemicalFormula>\r\n",
      "            <xyzfile>X.xyz</xyzfile>\r\n",
      "        </Phase>\r\n",
      "    </PowderSample>\r\n",
      "    \r\n",
      "    <LocalGeometer registry-coordinate-system=\"InstrumentScientist\">\r\n",
      "        <Register name=\"X\" position=\"(0,0,0)\" orientation=\"(0,0,0)\"/>\r\n",
      "    </LocalGeometer>\r\n",
      "\r\n",
      "</SampleAssembly>"
     ]
    }
   ],
   "source": [
    "!cat sampleassembly.xml"
   ]
  },
  {
   "cell_type": "code",
   "execution_count": 17,
   "metadata": {
    "collapsed": false
   },
   "outputs": [
    {
     "data": {
      "text/plain": [
       "(array([ 0.52816742,  0.        ,  0.        ]),\n",
       " array([ 0.        ,  1.15302613,  0.        ]),\n",
       " array([ 0.        ,  0.        ,  0.68556529]))"
      ]
     },
     "execution_count": 17,
     "metadata": {},
     "output_type": "execute_result"
    }
   ],
   "source": [
    "a,b,c=11.89620,5.44930,9.16497\n",
    "\n",
    "from numpy import sin, cos, deg2rad\n",
    "a1 = [a, 0, 0]\n",
    "a2 = [0, b, 0]\n",
    "a3 = [0, 0, c]\n",
    "\n",
    "twopi = 2*np.pi\n",
    "f = twopi/np.dot(a1, np.cross(a2, a3))\n",
    "b1 = np.cross(a2,a3) * f\n",
    "b2 = np.cross(a3,a1) * f\n",
    "b3 = np.cross(a1,a2) * f\n",
    "b1,b2,b3"
   ]
  },
  {
   "cell_type": "markdown",
   "metadata": {},
   "source": [
    "#### Orientation of the kernel\n",
    "Here we need to use the convention that z is along beam, y vertical up.\n",
    "The kernel has its own cartesian axis e’x e’y e’z. Because we know\n",
    "u = 102 v = 100\n",
    ", we have the basis vectors of the instrument coordinate system\n",
    "\n",
    "    ez along b1 + 2*b3\n",
    "    ex along b1\n",
    "    \n",
    "\n",
    "So we have them in the reciprocal cartesian axis"
   ]
  },
  {
   "cell_type": "code",
   "execution_count": 19,
   "metadata": {
    "collapsed": false
   },
   "outputs": [
    {
     "data": {
      "text/plain": [
       "(array([ 0.93316089,  0.        , -0.35945897]),\n",
       " array([ 0.,  1.,  0.]),\n",
       " array([ 0.35945897,  0.        ,  0.93316089]))"
      ]
     },
     "execution_count": 19,
     "metadata": {},
     "output_type": "execute_result"
    }
   ],
   "source": [
    "ez = b1 + 2*b3; ez /= np.linalg.norm(ez)\n",
    "ex1 = b1\n",
    "ey = np.cross(ez, ex1); ey/=np.linalg.norm(ey)\n",
    "ex = np.cross(ey, ez)\n",
    "ex, ey, ez"
   ]
  },
  {
   "cell_type": "markdown",
   "metadata": {},
   "source": [
    "The rotation matrix is define as\n",
    "```\n",
    "    ex.ex’ ex.ey’ ex.ez’ \n",
    "R = ey.ex’ ey.ey’ ey.ez’\n",
    "    ez.ex’ ez.ey’ ez.ez’\n",
    "```\n",
    "So"
   ]
  },
  {
   "cell_type": "code",
   "execution_count": 20,
   "metadata": {
    "collapsed": false
   },
   "outputs": [
    {
     "data": {
      "text/plain": [
       "(array([[ 0.93316089,  0.        , -0.35945897],\n",
       "        [ 0.        ,  1.        ,  0.        ],\n",
       "        [ 0.35945897,  0.        ,  0.93316089]]),\n",
       " array([ 0.93316089,  0.        , -0.35945897,  0.        ,  1.        ,\n",
       "         0.        ,  0.35945897,  0.        ,  0.93316089]))"
      ]
     },
     "execution_count": 20,
     "metadata": {},
     "output_type": "execute_result"
    }
   ],
   "source": [
    "R = np.array([ ex, ey, ez ])\n",
    "Rflat = R.copy(); Rflat.shape = -1,\n",
    "R, Rflat"
   ]
  },
  {
   "cell_type": "markdown",
   "metadata": {},
   "source": [
    "Now we update the orientation parameter in the scattering kernels:"
   ]
  },
  {
   "cell_type": "code",
   "execution_count": 21,
   "metadata": {
    "collapsed": false
   },
   "outputs": [
    {
     "data": {
      "text/plain": [
       "'orientation=\"0.93316089156,0.0,-0.359458969096,0.0,1.0,0.0,0.359458969096,0.0,0.93316089156\"'"
      ]
     },
     "execution_count": 21,
     "metadata": {},
     "output_type": "execute_result"
    }
   ],
   "source": [
    "'orientation=\"%s\"' % (','.join(str(e) for e in Rflat),)"
   ]
  },
  {
   "cell_type": "code",
   "execution_count": 39,
   "metadata": {
    "collapsed": false
   },
   "outputs": [
    {
     "name": "stdout",
     "output_type": "stream",
     "text": [
      "/SNS/users/p63/mcvine/research/BaFe2Se3-coupled-plaquettes/coupledModel_150meV/samples/X/sampleassembly\n"
     ]
    }
   ],
   "source": [
    "%cd {workdir}/samples/X/sampleassembly"
   ]
  },
  {
   "cell_type": "code",
   "execution_count": 40,
   "metadata": {
    "collapsed": false
   },
   "outputs": [
    {
     "name": "stdout",
     "output_type": "stream",
     "text": [
      "Overwriting X-scatterer.xml\n"
     ]
    }
   ],
   "source": [
    "%%file X-scatterer.xml\n",
    "<?xml version=\"1.0\"?>\n",
    "\n",
    "<!DOCTYPE scatterer>\n",
    "\n",
    "<!-- weights: absorption, scattering, transmission -->\n",
    "<homogeneous_scatterer \n",
    "    mcweights=\"0, 1, 0.1\"\n",
    "    max_multiplescattering_loops=\"3\"\n",
    "    >\n",
    "  \n",
    " <KernelContainer average=\"yes\">\n",
    "\n",
    "  <E_vQ_Kernel \n",
    "     E_Q=\"S:=2; JR:=-33.0/S; J1:=-43.0/S; J2:=11.0/S; J3:=15.0/S;\n",
    "        J1p:=8.0/S; J2p:=6.0/S; J5:=0.0/S; A:=-0.08/S;\n",
    "        b:=5.44930;\n",
    "        x1:=S/sqrt(2);\n",
    "        x21:=8*(A^2)+(J1p+J2p+2*J3)^2;\n",
    "        x22:=4*(J1p+J2p+2*J3)*J5-16*(J5)^2;\n",
    "        x23:=-8*A*(J1p+J2p+2*J3+J5);\n",
    "        x24:=-12*(J1p+J2p+2*J3)*J5*cos(b*Qy)-((J1p+J2p+2*J3)^2)*cos(2*b*Qy);\n",
    "        x20:=x21+x22+x23+x24;\n",
    "        x1*sqrt(x20)\" \n",
    "     S_Q=\"1\"\n",
    "     Emax=\"50*meV\"\n",
    "     orientation=\"0.93316089156,0.0,-0.359458969096,0.0,1.0,0.0,0.359458969096,0.0,0.93316089156\"\n",
    "    />\n",
    "    \n",
    "  <E_vQ_Kernel\n",
    "    E_Q=\"S:=2; JR:=-33.0/S; J1:=-43.0/S; J2:=11.0/S; J3:=15.0/S;\n",
    "        J1p:=8.0/S; J2p:=6.0/S; J5:=0.0/S; A:=-0.08/S;\n",
    "        b:=5.44930;\n",
    "        x11:=2*A+2*J1-J1p-J2p-2*(J3+J5-JR)+(J1p-J2p-2*J3)*cos(b*Qy);\n",
    "        x12:=2*A+2*J1-J1p-J2p-2*J3+2*JR+(0.0-J1p+J2p+2*J3)*cos(b*Qy);\n",
    "        x1:=x11*x12;\n",
    "        S*sqrt(x1)\"\n",
    "    S_Q=\"1\"\n",
    "    Emax=\"200*meV\"\n",
    "    orientation=\"0.93316089156,0.0,-0.359458969096,0.0,1.0,0.0,0.359458969096,0.0,0.93316089156\"\n",
    "    />\n",
    "    \n",
    "  <E_vQ_Kernel\n",
    "    E_Q=\"S:=2; JR:=-33.0/S; J1:=-43.0/S; J2:=11.0/S; J3:=15.0/S;\n",
    "        J1p:=8.0/S; J2p:=6.0/S; J5:=0.0/S; A:=-0.08/S;\n",
    "        b:=5.44930;\n",
    "        x11:=2*A-J1p+2*J2-J2p-2*(J3+J5-JR)+(0.0-J1p+J2p-2*J3)*cos(b*Qy);\n",
    "        x12:=2*A-J1p+2*J2-J2p-2*J3+2*JR+(J1p-J2p+2*J3)*cos(b*Qy);\n",
    "        x1:=x11*x12;\n",
    "        S*sqrt(x1)\"\n",
    "    S_Q=\"1\"\n",
    "    Emax=\"100*meV\"\n",
    "    orientation=\"0.93316089156,0.0,-0.359458969096,0.0,1.0,0.0,0.359458969096,0.0,0.93316089156\"\n",
    "    />\n",
    "    \n",
    "  <E_vQ_Kernel\n",
    "    E_Q=\"S:=2; JR:=-33.0/S; J1:=-43.0/S; J2:=11.0/S; J3:=15.0/S;\n",
    "        J1p:=8.0/S; J2p:=6.0/S; J5:=0.0/S; A:=-0.08/S;\n",
    "        b:=5.44930;\n",
    "        x1:=8*(A^2)+8*((J1)^2)+((J1p)^2)-8*J1p*J2+8*((J2)^2);\n",
    "        x12:=2*J1p*J2p-8*J2*J2p;\n",
    "        x2:=((J2p)^2)+12*J1p*J3-16*J2*J3+12*J2p*J3+4*((J3)^2);\n",
    "        x22:=8*A*(2*J1-J1p+2*J2-J2p-2*J3-J5);\n",
    "        x3:=4*(J1p-2*J2+J2p+2*J3)*J5-16*((J5)^2)-8*J1*(J1p-2*J2+J2p+2*J3+J5);\n",
    "        x4:=(J1p+J2p-2*J3)*(12*J5*cos(b*Qy)-(J1p+J2p-2*J3)*cos(2*b*Qy));\n",
    "        x0:=x1+x12+x2+x22+x3+x4;\n",
    "        (S/sqrt(2))*sqrt(x0)\"\n",
    "    S_Q=\"1\"\n",
    "    Emax=\"120*meV\"\n",
    "    orientation=\"0.93316089156,0.0,-0.359458969096,0.0,1.0,0.0,0.359458969096,0.0,0.93316089156\"\n",
    "    />\n",
    "    \n",
    " </KernelContainer>\n",
    "  \n",
    "</homogeneous_scatterer>"
   ]
  },
  {
   "cell_type": "code",
   "execution_count": 23,
   "metadata": {
    "collapsed": false
   },
   "outputs": [
    {
     "name": "stdout",
     "output_type": "stream",
     "text": [
      "sampleassembly.xml  X-scatterer.xml  X.xyz\r\n"
     ]
    }
   ],
   "source": [
    "!ls"
   ]
  },
  {
   "cell_type": "markdown",
   "metadata": {},
   "source": [
    "## Scattering"
   ]
  },
  {
   "cell_type": "code",
   "execution_count": 41,
   "metadata": {
    "collapsed": false
   },
   "outputs": [
    {
     "name": "stdout",
     "output_type": "stream",
     "text": [
      "/SNS/users/p63/mcvine/research/BaFe2Se3-coupled-plaquettes/coupledModel_150meV/scattering\n"
     ]
    }
   ],
   "source": [
    "workdir = \"/SNS/users/p63/mcvine/research/BaFe2Se3-coupled-plaquettes/coupledModel_150meV\"\n",
    "%cd {workdir}/scattering"
   ]
  },
  {
   "cell_type": "code",
   "execution_count": 26,
   "metadata": {
    "collapsed": false
   },
   "outputs": [
    {
     "name": "stdout",
     "output_type": "stream",
     "text": [
      "total 32\r\n",
      "lrwxrwxrwx 1 p63 users   70 Jun 29 09:52 beam -> ../../../BaFe2Se3_IndependentPlaquettesModel/beam_150meV_1e9_neutrons/\r\n",
      "-rwxr-xr-x 1 p63 users  137 Jun 29 09:49 create-nxs\r\n",
      "-rwxr-xr-x 1 p63 users  116 Jun 29 09:49 debug-scatter\r\n",
      "-rw-r--r-- 1 p63 users 1572 Jun 29 09:49 Makefile\r\n",
      "-rwxr-xr-x 1 p63 users  304 Jun 29 09:49 reduce2iqe\r\n",
      "lrwxrwxrwx 1 p63 users   28 Jun 29 09:49 sampleassembly -> ../samples/X/sampleassembly/\r\n",
      "-rwxr-xr-x 1 p63 users  223 Jun 29 09:49 scatter\r\n",
      "-rwxr-xr-x 1 p63 users  513 Jun 29 09:49 sss\r\n",
      "-rw-r--r-- 1 p63 users 1610 Jun 29 09:49 sss.pml\r\n",
      "-rwxr-xr-x 1 p63 users  294 Jun 29 09:49 test-scatter\r\n"
     ]
    }
   ],
   "source": [
    "!ls -l"
   ]
  },
  {
   "cell_type": "code",
   "execution_count": 27,
   "metadata": {
    "collapsed": true
   },
   "outputs": [],
   "source": [
    "!rm beam create-nxs debug-scatter Makefile reduce2iqe"
   ]
  },
  {
   "cell_type": "code",
   "execution_count": 28,
   "metadata": {
    "collapsed": false
   },
   "outputs": [
    {
     "name": "stdout",
     "output_type": "stream",
     "text": [
      "/SNS/users/p63/mcvine/research/BaFe2Se3-coupled-plaquettes/coupledModel_150meV/scattering\n",
      "sampleassembly\tscatter  sss  sss.pml  test-scatter\n"
     ]
    }
   ],
   "source": [
    "!pwd\n",
    "!ls"
   ]
  },
  {
   "cell_type": "code",
   "execution_count": 29,
   "metadata": {
    "collapsed": true
   },
   "outputs": [],
   "source": [
    "!rm scatter sss sss.pml test-scatter"
   ]
  },
  {
   "cell_type": "code",
   "execution_count": 30,
   "metadata": {
    "collapsed": true
   },
   "outputs": [],
   "source": [
    "!ln -s /SNS/users/p63/mcvine/research/beams/beam_150meV_1e9_neutrons/ beam"
   ]
  },
  {
   "cell_type": "code",
   "execution_count": 31,
   "metadata": {
    "collapsed": false
   },
   "outputs": [
    {
     "name": "stdout",
     "output_type": "stream",
     "text": [
      "total 0\r\n",
      "lrwxrwxrwx 1 p63 users 62 Jul 21 15:36 beam -> /SNS/users/p63/mcvine/research/beams/beam_150meV_1e9_neutrons/\r\n",
      "lrwxrwxrwx 1 p63 users 28 Jun 29 09:49 sampleassembly -> ../samples/X/sampleassembly/\r\n"
     ]
    }
   ],
   "source": [
    "!ls -l"
   ]
  },
  {
   "cell_type": "code",
   "execution_count": 32,
   "metadata": {
    "collapsed": false
   },
   "outputs": [
    {
     "name": "stdout",
     "output_type": "stream",
     "text": [
      "beam  sampleassembly  scripts  template\r\n"
     ]
    }
   ],
   "source": [
    "!rsync -a ~lj7/simulations/mcvine_workflow/DGS/ARCS/single-crystal/* ./\n",
    "!ls"
   ]
  },
  {
   "cell_type": "code",
   "execution_count": 33,
   "metadata": {
    "collapsed": false
   },
   "outputs": [
    {
     "name": "stdout",
     "output_type": "stream",
     "text": [
      "/SNS/users/p63/mcvine/research/BaFe2Se3-coupled-plaquettes/coupledModel_150meV/scattering/template\n",
      "/SNS/users/p63/mcvine/research/BaFe2Se3-coupled-plaquettes/coupledModel_150meV/scattering\n"
     ]
    }
   ],
   "source": [
    "%cd template\n",
    "\n",
    "!ln -s ../../samples/X/sampleassembly\n",
    "\n",
    "!ln -s ../beam beam\n",
    "\n",
    "%cd .."
   ]
  },
  {
   "cell_type": "code",
   "execution_count": 34,
   "metadata": {
    "collapsed": false
   },
   "outputs": [
    {
     "name": "stdout",
     "output_type": "stream",
     "text": [
      "Writing sim.yml\n"
     ]
    }
   ],
   "source": [
    "%%file sim.yml\n",
    "\n",
    "cluster:\n",
    "  nodes: 10\n",
    "instrument:\n",
    "  name: arcs\n",
    "scatter:\n",
    "  ncount: 1e6\n",
    "  multiple_scattering: off\n",
    "  template: ./template\n"
   ]
  },
  {
   "cell_type": "code",
   "execution_count": 37,
   "metadata": {
    "collapsed": false
   },
   "outputs": [
    {
     "name": "stdout",
     "output_type": "stream",
     "text": [
      "discarding /SNS/users/lj7/software/miniconda2/envs/mcvine/bin from PATH\n",
      "prepending /SNS/users/lj7/software/miniconda2/envs/mcvine/bin to PATH\n"
     ]
    }
   ],
   "source": [
    "# Test the simulation for a single angle\n",
    "!source ~lj7/.use-miniconda2\n",
    "!source activate mcvine"
   ]
  },
  {
   "cell_type": "markdown",
   "metadata": {},
   "source": [
    "Note:  If the below simulation test fails, you must do \"rm -rf work_30.0\" from the terminal, within the {workdir}/scattering_4 directory, to remove all the failed simulation pieces.  Otherwise, even if you fix the problem, MCViNE will continue to fail when it sees the old \"pieces\" of the failed simulation"
   ]
  },
  {
   "cell_type": "code",
   "execution_count": 42,
   "metadata": {
    "collapsed": false
   },
   "outputs": [
    {
     "name": "stdout",
     "output_type": "stream",
     "text": [
      "SAMPLE_ANGLE=30.0 time ./scatter &> log.scatter\n",
      "time ./create-nxs &> log.create-nxs\n",
      "\n",
      "real\t1m37.373s\n",
      "user\t12m13.272s\n",
      "sys\t1m26.751s\n",
      "cp sim.nxs sim-30.0.nxs\n",
      "mcvine instruments arcs nxs populate_metadata --type=Ei --beam_outdir=beam/out --nxs=sim-30.0.nxs\n",
      "/SNS/users/lj7/software/miniconda2/envs/mcvine/lib/python2.7/site-packages/mcvine/deployment_info.py:41: UserWarning: Neither environment variable MCVINE_DIR nor DANSE_DIR was defined. Assumed that it is /SNS/users/lj7/software/miniconda2/envs/mcvine.\n",
      "  warnings.warn(msg)\n"
     ]
    }
   ],
   "source": [
    "!./scripts/sim.py --angle=30.0"
   ]
  },
  {
   "cell_type": "code",
   "execution_count": 43,
   "metadata": {
    "collapsed": false
   },
   "outputs": [
    {
     "name": "stdout",
     "output_type": "stream",
     "text": [
      "Writing create-submit.py\n"
     ]
    }
   ],
   "source": [
    "%%file create-submit.py\n",
    "import numpy as np\n",
    "ostream = open('submit.sh', 'wt')\n",
    "for a in np.arange(-90, 90.1, 1.):\n",
    "    ostream.write('./scripts/sim.py --angle=%s \\n' % a)\n",
    "    continue\n",
    "ostream.close()"
   ]
  },
  {
   "cell_type": "code",
   "execution_count": 44,
   "metadata": {
    "collapsed": false
   },
   "outputs": [
    {
     "name": "stdout",
     "output_type": "stream",
     "text": [
      "import numpy as np\r\n",
      "ostream = open('submit.sh', 'wt')\r\n",
      "for a in np.arange(-90, 90.1, 1.):\r\n",
      "    ostream.write('./scripts/sim.py --angle=%s \\n' % a)\r\n",
      "    continue\r\n",
      "ostream.close()"
     ]
    }
   ],
   "source": [
    "!cat create-submit.py"
   ]
  },
  {
   "cell_type": "code",
   "execution_count": 45,
   "metadata": {
    "collapsed": true
   },
   "outputs": [],
   "source": [
    "# run the script to create submit.sh\n",
    "!python ./create-submit.py"
   ]
  },
  {
   "cell_type": "code",
   "execution_count": 46,
   "metadata": {
    "collapsed": true
   },
   "outputs": [],
   "source": [
    "# make sure submit.sh is executable\n",
    "!chmod +x submit.sh\n",
    "# and then start it script in the background"
   ]
  },
  {
   "cell_type": "code",
   "execution_count": 47,
   "metadata": {
    "collapsed": false
   },
   "outputs": [
    {
     "name": "stdout",
     "output_type": "stream",
     "text": [
      "Starting job # 0 in a separate thread.\n"
     ]
    }
   ],
   "source": [
    "%%script bash --bg\n",
    "./submit.sh\n",
    "# this will take a while to finish."
   ]
  },
  {
   "cell_type": "code",
   "execution_count": 48,
   "metadata": {
    "collapsed": false
   },
   "outputs": [
    {
     "name": "stdout",
     "output_type": "stream",
     "text": [
      "/SNS/users/p63/mcvine/research/BaFe2Se3-coupled-plaquettes/coupledModel_150meV/scattering\n",
      "beam\t\t  work_-20.0  work_-35.0  work_-5.0   work_-64.0  work_-79.0\r\n",
      "create-submit.py  work_20.0   work_35.0   work_5.0    work_64.0   work_79.0\r\n",
      "sampleassembly\t  work_-21.0  work_-36.0  work_-50.0  work_-65.0  work_-8.0\r\n",
      "scripts\t\t  work_21.0   work_36.0   work_50.0   work_65.0   work_8.0\r\n",
      "sim.yml\t\t  work_-22.0  work_-37.0  work_-51.0  work_-66.0  work_-80.0\r\n",
      "submit.sh\t  work_22.0   work_37.0   work_51.0   work_66.0   work_80.0\r\n",
      "template\t  work_-23.0  work_-38.0  work_-52.0  work_-67.0  work_-81.0\r\n",
      "work_0.0\t  work_23.0   work_38.0   work_52.0   work_67.0   work_81.0\r\n",
      "work_-1.0\t  work_-24.0  work_-39.0  work_-53.0  work_-68.0  work_-82.0\r\n",
      "work_1.0\t  work_24.0   work_39.0   work_53.0   work_68.0   work_82.0\r\n",
      "work_-10.0\t  work_-25.0  work_-4.0   work_-54.0  work_-69.0  work_-83.0\r\n",
      "work_10.0\t  work_25.0   work_4.0\t  work_54.0   work_69.0   work_83.0\r\n",
      "work_-11.0\t  work_-26.0  work_-40.0  work_-55.0  work_-7.0   work_-84.0\r\n",
      "work_11.0\t  work_26.0   work_40.0   work_55.0   work_7.0\t  work_84.0\r\n",
      "work_-12.0\t  work_-27.0  work_-41.0  work_-56.0  work_-70.0  work_-85.0\r\n",
      "work_12.0\t  work_27.0   work_41.0   work_56.0   work_70.0   work_85.0\r\n",
      "work_-13.0\t  work_-28.0  work_-42.0  work_-57.0  work_-71.0  work_-86.0\r\n",
      "work_13.0\t  work_28.0   work_42.0   work_57.0   work_71.0   work_86.0\r\n",
      "work_-14.0\t  work_-29.0  work_-43.0  work_-58.0  work_-72.0  work_-87.0\r\n",
      "work_14.0\t  work_29.0   work_43.0   work_58.0   work_72.0   work_87.0\r\n",
      "work_-15.0\t  work_-3.0   work_-44.0  work_-59.0  work_-73.0  work_-88.0\r\n",
      "work_15.0\t  work_3.0    work_44.0   work_59.0   work_73.0   work_88.0\r\n",
      "work_-16.0\t  work_-30.0  work_-45.0  work_-6.0   work_-74.0  work_-89.0\r\n",
      "work_16.0\t  work_30.0   work_45.0   work_6.0    work_74.0   work_89.0\r\n",
      "work_-17.0\t  work_-31.0  work_-46.0  work_-60.0  work_-75.0  work_-9.0\r\n",
      "work_17.0\t  work_31.0   work_46.0   work_60.0   work_75.0   work_9.0\r\n",
      "work_-18.0\t  work_-32.0  work_-47.0  work_-61.0  work_-76.0  work_-90.0\r\n",
      "work_18.0\t  work_32.0   work_47.0   work_61.0   work_76.0   work_90.0\r\n",
      "work_-19.0\t  work_-33.0  work_-48.0  work_-62.0  work_-77.0\r\n",
      "work_19.0\t  work_33.0   work_48.0   work_62.0   work_77.0\r\n",
      "work_-2.0\t  work_-34.0  work_-49.0  work_-63.0  work_-78.0\r\n",
      "work_2.0\t  work_34.0   work_49.0   work_63.0   work_78.0\r\n"
     ]
    }
   ],
   "source": [
    "# reduction\n",
    "%cd \"{workdir}/scattering\"\n",
    "!ls"
   ]
  },
  {
   "cell_type": "code",
   "execution_count": 49,
   "metadata": {
    "collapsed": true
   },
   "outputs": [],
   "source": [
    "# reduce tof events to E events\n",
    "# this takes a long time!\n",
    "!./scripts/reduce/reduceKeepingEvents_batch.py -90,90.1,1. 150 0,150,0.5 > log.reduce"
   ]
  },
  {
   "cell_type": "code",
   "execution_count": 50,
   "metadata": {
    "collapsed": false
   },
   "outputs": [
    {
     "name": "stdout",
     "output_type": "stream",
     "text": [
      "Writing slice_0K0.yml\n"
     ]
    }
   ],
   "source": [
    "%%file slice_0K0.yml\n",
    "\n",
    "angles: -90,90.1,1.0\n",
    "filename_pattern: work_%(angle)s/reduced_%(angle)s.nxs\n",
    "lattice: 5., 5., 5., 90, 90, 90\n",
    "orientation:\n",
    " u: 1, 0, 2\n",
    " v: 1,0,0\n",
    "Eaxis:\n",
    " min: 0\n",
    " max: 225\n",
    " N: 225\n",
    "Q_projections:\n",
    " U:\n",
    "  proj: 0,1,0\n",
    "  proj_name: 0,K,0\n",
    "  min: 0.0\n",
    "  max: 1.0\n",
    "  N: 100\n",
    " V:\n",
    "  proj: 1,0,0\n",
    "  proj_name: H,0,0\n",
    "  min: -0.25\n",
    "  max: 0.25\n",
    "  N: 1\n",
    " W:\n",
    "  proj: 0,0,1\n",
    "  proj_name: 0,0,L\n",
    "  min: -0.5\n",
    "  max: 0.5\n",
    "  N: 1\n",
    "output: slice_0K0.nxs"
   ]
  },
  {
   "cell_type": "code",
   "execution_count": 51,
   "metadata": {
    "collapsed": true
   },
   "outputs": [],
   "source": [
    "# hack for now. copy the config python file to current dir\n",
    "!cp /SNS/users/lj7/simulations/mcvine_workflow/DGS/ARCS/single-crystal/scripts/config.py ."
   ]
  },
  {
   "cell_type": "code",
   "execution_count": null,
   "metadata": {
    "collapsed": true
   },
   "outputs": [],
   "source": [
    "# run script to calculate the slice\n",
    "# this take ~15 minutes \n",
    "! PYTHONPATH=$PWD:$PYTHONPATH ./scripts/reduce/getaslice.py slice_0K0.yml > log.slice_0K0"
   ]
  },
  {
   "cell_type": "code",
   "execution_count": null,
   "metadata": {
    "collapsed": true
   },
   "outputs": [],
   "source": []
  }
 ],
 "metadata": {
  "kernelspec": {
   "display_name": "Python 2",
   "language": "python",
   "name": "python2"
  },
  "language_info": {
   "codemirror_mode": {
    "name": "ipython",
    "version": 2
   },
   "file_extension": ".py",
   "mimetype": "text/x-python",
   "name": "python",
   "nbconvert_exporter": "python",
   "pygments_lexer": "ipython2",
   "version": "2.7.11"
  },
  "widgets": {
   "state": {},
   "version": "1.1.2"
  }
 },
 "nbformat": 4,
 "nbformat_minor": 0
}
