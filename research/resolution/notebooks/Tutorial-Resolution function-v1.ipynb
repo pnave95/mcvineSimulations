{
 "cells": [
  {
   "cell_type": "markdown",
   "metadata": {},
   "source": [
    "# Simulation of Resolution Function for ARCS Single Crystal Silicon Dataset"
   ]
  },
  {
   "cell_type": "markdown",
   "metadata": {},
   "source": [
    "Instrument: ARCS\n",
    "* Ei=100meV\n",
    "* Fermi chopper: 600 Hz\n",
    "* T0: 120Hz\n",
    "\n",
    "Sample: resolution sample\n",
    "* hkl: -16/3.,-8/3.,8/3.\n",
    "* E: 40"
   ]
  },
  {
   "cell_type": "markdown",
   "metadata": {},
   "source": [
    "## Step 0. some goodies"
   ]
  },
  {
   "cell_type": "code",
   "execution_count": 1,
   "metadata": {
    "collapsed": false
   },
   "outputs": [],
   "source": [
    "# %matplotlib notebook\n",
    "%matplotlib inline\n",
    "from matplotlib import pyplot as plt\n",
    "import numpy as np\n",
    "import histogram.hdf as hh, histogram as H"
   ]
  },
  {
   "cell_type": "code",
   "execution_count": 2,
   "metadata": {
    "collapsed": false
   },
   "outputs": [
    {
     "name": "stdout",
     "output_type": "stream",
     "text": [
      "/SNS/users/p63/mcvine/research/resolution/notebooks\n"
     ]
    }
   ],
   "source": [
    "# where am I?\n",
    "import os\n",
    "PWD=os.path.abspath(\".\")\n",
    "print PWD\n",
    "# It should be the directory where this jupyter notebook is"
   ]
  },
  {
   "cell_type": "markdown",
   "metadata": {},
   "source": [
    "## Step 1. Create dir structure"
   ]
  },
  {
   "cell_type": "code",
   "execution_count": 3,
   "metadata": {
    "collapsed": true
   },
   "outputs": [],
   "source": [
    "# Create a working directory for the simulation\n",
    "# Change the following line to your own directory!!!\n",
    "# This directory should not exist yet. It will be created later.\n",
    "workdir = \"/SNS/users/p63/mcvine/research/resolution/resolution-tutorial-v1\""
   ]
  },
  {
   "cell_type": "code",
   "execution_count": 5,
   "metadata": {
    "collapsed": true
   },
   "outputs": [],
   "source": [
    "# Prepare sample description.\n",
    "# It will be used to generate files for the simulation\n",
    "# and will be used in reduction and analysis"
   ]
  },
  {
   "cell_type": "code",
   "execution_count": 4,
   "metadata": {
    "collapsed": false
   },
   "outputs": [
    {
     "name": "stdout",
     "output_type": "stream",
     "text": [
      "Overwriting Si.yml\n"
     ]
    }
   ],
   "source": [
    "%%file Si.yml\n",
    "name: Si\n",
    "chemical_formula: Si2\n",
    "lattice: \n",
    " constants: 5.490700041, 5.490700041, 5.490700041, 90, 90, 90\n",
    " basis_vectors:\n",
    "  - 5.490700041, 0, 0\n",
    "  - 0, 5.490700041, 0\n",
    "  - 0, 0, 5.490700041\n",
    " primitive_basis_vectors:\n",
    "  - 0.0, 2.71526503565, 2.71526503565\n",
    "  - 2.71526503565, 0.0, 2.71526503565\n",
    "  - 2.71526503565, 2.71526503565, 0.0\n",
    "excitations:\n",
    "  - type: deltafunction\n",
    "    hkl: -16/3.,-8/3.,8/3.\n",
    "    E: 40.\n",
    "    dE: 0.5\n",
    "orientation:\n",
    " u: -1, 1, -1\n",
    " v: 2, 1, -1\n",
    "shape: hollowCylinder in_radius=\"5./8*inch\" out_radius=\"1.*inch\" height=\"1.5*inch\"\n",
    "temperature: 100*K"
   ]
  },
  {
   "cell_type": "code",
   "execution_count": 7,
   "metadata": {
    "collapsed": true
   },
   "outputs": [],
   "source": [
    "# let mcvine workflow scaffolding helps you build the simulation directory"
   ]
  },
  {
   "cell_type": "code",
   "execution_count": 5,
   "metadata": {
    "collapsed": false
   },
   "outputs": [
    {
     "name": "stdout",
     "output_type": "stream",
     "text": [
      "/SNS/users/lj7/software/miniconda2/envs/mcvine-1.1.0.08082016/lib/python2.7/site-packages/mcvine/deployment_info.py:41: UserWarning: Neither environment variable MCVINE_DIR nor DANSE_DIR was defined. Assumed that it is /SNS/users/lj7/software/miniconda2/envs/mcvine-1.1.0.08082016.\r\n",
      "  warnings.warn(msg)\r\n"
     ]
    }
   ],
   "source": [
    "!mcvine workflow singlecrystal --outdir={workdir} --type=DGS \\\n",
    "    --instrument=ARCS --sample=Si.yml"
   ]
  },
  {
   "cell_type": "code",
   "execution_count": 6,
   "metadata": {
    "collapsed": false
   },
   "outputs": [
    {
     "name": "stdout",
     "output_type": "stream",
     "text": [
      "/SNS/users/p63/mcvine/research/resolution/resolution-tutorial-v1\n"
     ]
    }
   ],
   "source": [
    "# change to local working directory\n",
    "%cd {workdir}"
   ]
  },
  {
   "cell_type": "code",
   "execution_count": 7,
   "metadata": {
    "collapsed": false
   },
   "outputs": [
    {
     "name": "stdout",
     "output_type": "stream",
     "text": [
      "beam  README.md  sampleassembly  scattering\r\n"
     ]
    }
   ],
   "source": [
    "# list dir contents\n",
    "!ls ."
   ]
  },
  {
   "cell_type": "code",
   "execution_count": 8,
   "metadata": {
    "collapsed": true
   },
   "outputs": [],
   "source": [
    "# move sample yml file here\n",
    "!mv {PWD}/Si.yml ."
   ]
  },
  {
   "cell_type": "code",
   "execution_count": 9,
   "metadata": {
    "collapsed": false
   },
   "outputs": [
    {
     "name": "stdout",
     "output_type": "stream",
     "text": [
      "beam  README.md  sampleassembly  scattering  Si.yml\r\n"
     ]
    }
   ],
   "source": [
    "!ls ."
   ]
  },
  {
   "cell_type": "markdown",
   "metadata": {},
   "source": [
    "## Step 2. Setup beam simulation"
   ]
  },
  {
   "cell_type": "code",
   "execution_count": 13,
   "metadata": {
    "collapsed": true
   },
   "outputs": [],
   "source": [
    "# In this example we won't simulate a new beam but will reuse an existing beam\n",
    "# First remove the beam dir\n",
    "# !!! Be very careful with rm -rf !!!\n",
    "!rm -rf beam\n",
    "# Then make a symlink\n",
    "!ln -s ../beam beam"
   ]
  },
  {
   "cell_type": "code",
   "execution_count": 14,
   "metadata": {
    "collapsed": false
   },
   "outputs": [
    {
     "name": "stdout",
     "output_type": "stream",
     "text": [
      "total 8\r\n",
      "lrwxrwxrwx 1 p63 users   7 Aug  8 15:20 \u001b[0m\u001b[38;5;51mbeam\u001b[0m -> \u001b[38;5;27m../beam\u001b[0m/\r\n",
      "-rw-r--r-- 1 p63 users  73 Aug  8 07:10 README.md\r\n",
      "drwxr-xr-x 2 p63 users  83 Aug  8 15:17 \u001b[38;5;27msampleassembly\u001b[0m/\r\n",
      "drwxr-xr-x 4 p63 users  47 Aug  8 07:35 \u001b[38;5;27mscattering\u001b[0m/\r\n",
      "-rw-r--r-- 1 p63 users 553 Aug  8 15:17 Si.yml\r\n"
     ]
    }
   ],
   "source": [
    "ls -l {workdir}"
   ]
  },
  {
   "cell_type": "code",
   "execution_count": 15,
   "metadata": {
    "collapsed": false
   },
   "outputs": [
    {
     "data": {
      "text/plain": [
       "[<matplotlib.lines.Line2D at 0x7fab2cc9e210>]"
      ]
     },
     "execution_count": 15,
     "metadata": {},
     "output_type": "execute_result"
    },
    {
     "data": {
      "image/png": "[encoded data removed]",
      "text/plain": [
       "<matplotlib.figure.Figure at 0x7fab2f2f5b50>"
      ]
     },
     "metadata": {},
     "output_type": "display_data"
    }
   ],
   "source": [
    "# check beam energy profile\n",
    "import histogram.hdf as hh\n",
    "ie = hh.load(\"beam/out/ienergy.h5\")\n",
    "plt.plot(ie.energy, ie.I)"
   ]
  },
  {
   "cell_type": "markdown",
   "metadata": {},
   "source": [
    "## Step 3. Check and update sample assembly"
   ]
  },
  {
   "cell_type": "code",
   "execution_count": 16,
   "metadata": {
    "collapsed": false
   },
   "outputs": [
    {
     "name": "stdout",
     "output_type": "stream",
     "text": [
      "/SNS/users/p63/mcvine/research/resolution/resolution-tutorial-v1\n"
     ]
    }
   ],
   "source": [
    "%cd {workdir}"
   ]
  },
  {
   "cell_type": "code",
   "execution_count": 20,
   "metadata": {
    "collapsed": false
   },
   "outputs": [],
   "source": [
    "#!cat {workdir}/sampleassembly/sampleassembly.xml"
   ]
  },
  {
   "cell_type": "code",
   "execution_count": 21,
   "metadata": {
    "collapsed": false
   },
   "outputs": [],
   "source": [
    "#!cat {workdir}/sampleassembly/Si.xyz"
   ]
  },
  {
   "cell_type": "code",
   "execution_count": 22,
   "metadata": {
    "collapsed": false
   },
   "outputs": [],
   "source": [
    "#!cat {workdir}/sampleassembly/Si-scatterer.xml"
   ]
  },
  {
   "cell_type": "code",
   "execution_count": null,
   "metadata": {
    "collapsed": true
   },
   "outputs": [],
   "source": [
    "# Change kernel weights"
   ]
  },
  {
   "cell_type": "code",
   "execution_count": 17,
   "metadata": {
    "collapsed": false
   },
   "outputs": [
    {
     "name": "stdout",
     "output_type": "stream",
     "text": [
      "Overwriting /SNS/users/p63/mcvine/research/resolution/resolution-tutorial-v1/sampleassembly/Si-scatterer.xml\n"
     ]
    }
   ],
   "source": [
    "%%file {workdir}/sampleassembly/Si-scatterer.xml\n",
    "<?xml version=\"1.0\"?>\n",
    "\n",
    "<!DOCTYPE scatterer>\n",
    "\n",
    "<!-- weights: absorption, scattering, transmission -->\n",
    "<homogeneous_scatterer \n",
    "  mcweights=\"0, 1, 0.1\"\n",
    "  max_multiplescattering_loops=\"3\"\n",
    "  >\n",
    "  \n",
    "  <KernelContainer average=\"yes\">\n",
    "\n",
    "\n",
    "    <!-- a simple kernel for elastic scattering. more realistic kernel exists. -->\n",
    "    <!--E_Q_Kernel \n",
    "\tE_Q=\"1\" \n",
    "\tS_Q=\"1\"\n",
    "\tQmin=\"0./angstrom\"\n",
    "\tQmax=\"16./angstrom\"\n",
    "    weight=\".05\"\n",
    "\t/> -->\n",
    "\n",
    "\n",
    "    <!-- delta function kernel for resolution calculation\n",
    "      Q: Q vector\n",
    "      E: energy transfer (unit: meV)\n",
    "      dE: allowed deviation of energy transfer (unit: meV)\n",
    "      orientation: flattened rotation matrix M. M dot Q_crystal = Q_instrument\n",
    "     -->\n",
    "    <ConstantvQEKernel\n",
    "        momentum-transfer=\"-6.1031055035,-3.05155275175,3.05155275175\"\n",
    "        energy-transfer=\"40.0*meV\"\n",
    "        dE=\"0.1*meV\"\n",
    "        orientation=\"0.816496580928,0.408248290464,-0.408248290464,0.0,-0.707106781187,-0.707106781187,-0.57735026919,0.57735026919,-0.57735026919\"\n",
    "        weight=\"1.0\"\n",
    "        />\n",
    "\n",
    "    \n",
    "  </KernelContainer>\n",
    "  \n",
    "</homogeneous_scatterer>"
   ]
  },
  {
   "cell_type": "code",
   "execution_count": 18,
   "metadata": {
    "collapsed": false
   },
   "outputs": [
    {
     "name": "stdout",
     "output_type": "stream",
     "text": [
      "total 8\r\n",
      "lrwxrwxrwx 1 p63 users   7 Aug  8 15:20 \u001b[0m\u001b[38;5;51mbeam\u001b[0m -> \u001b[38;5;27m../beam\u001b[0m/\r\n",
      "-rw-r--r-- 1 p63 users  73 Aug  8 07:10 README.md\r\n",
      "drwxr-xr-x 2 p63 users  83 Aug  8 15:23 \u001b[38;5;27msampleassembly\u001b[0m/\r\n",
      "drwxr-xr-x 4 p63 users  47 Aug  8 07:35 \u001b[38;5;27mscattering\u001b[0m/\r\n",
      "-rw-r--r-- 1 p63 users 553 Aug  8 15:17 Si.yml\r\n"
     ]
    }
   ],
   "source": [
    "ls -l"
   ]
  },
  {
   "cell_type": "code",
   "execution_count": 19,
   "metadata": {
    "collapsed": false
   },
   "outputs": [
    {
     "name": "stdout",
     "output_type": "stream",
     "text": [
      "total 12\r\n",
      "-rw-r--r-- 1 p63 users  720 Aug  8 15:17 sampleassembly.xml\r\n",
      "-rw-r--r-- 1 p63 users 1060 Aug  8 15:24 Si-scatterer.xml\r\n",
      "-rw-r--r-- 1 p63 users  116 Aug  8 15:17 Si.xyz\r\n"
     ]
    }
   ],
   "source": [
    "ls -l sampleassembly/"
   ]
  },
  {
   "cell_type": "markdown",
   "metadata": {},
   "source": [
    "## Step 4. Scattering sim"
   ]
  },
  {
   "cell_type": "code",
   "execution_count": 20,
   "metadata": {
    "collapsed": false
   },
   "outputs": [
    {
     "name": "stdout",
     "output_type": "stream",
     "text": [
      "/SNS/users/p63/mcvine/research/resolution/resolution-tutorial-v1/scattering\n"
     ]
    }
   ],
   "source": [
    "%cd \"{workdir}/scattering\""
   ]
  },
  {
   "cell_type": "code",
   "execution_count": 21,
   "metadata": {
    "collapsed": false
   },
   "outputs": [
    {
     "name": "stdout",
     "output_type": "stream",
     "text": [
      "\u001b[0m\u001b[38;5;27mscripts\u001b[0m/  \u001b[38;5;27mtemplate\u001b[0m/\r\n"
     ]
    }
   ],
   "source": [
    "ls ."
   ]
  },
  {
   "cell_type": "code",
   "execution_count": 22,
   "metadata": {
    "collapsed": true
   },
   "outputs": [],
   "source": [
    "# configuration for the simulation deployment"
   ]
  },
  {
   "cell_type": "code",
   "execution_count": 22,
   "metadata": {
    "collapsed": false
   },
   "outputs": [
    {
     "name": "stdout",
     "output_type": "stream",
     "text": [
      "Writing sim.yml\n"
     ]
    }
   ],
   "source": [
    "%%file sim.yml\n",
    "\n",
    "cluster:\n",
    "  nodes: 16\n",
    "instrument:\n",
    "  name: arcs\n",
    "scatter:\n",
    "  ncount: 1e7\n",
    "  multiple_scattering: off\n",
    "  template: ./template"
   ]
  },
  {
   "cell_type": "code",
   "execution_count": 23,
   "metadata": {
    "collapsed": false
   },
   "outputs": [
    {
     "name": "stdout",
     "output_type": "stream",
     "text": [
      "46.3746789211\r\n"
     ]
    }
   ],
   "source": [
    "# find the psi angle\n",
    "!mcvine workflow sxu solve_psi {workdir}/Si.yml --Ei=100 \\\n",
    "    --hkl -5.333333333 -2.666666667 2.666666667 \\\n",
    "    --E 40 --psimin -5. --psimax 90 2> /dev/null"
   ]
  },
  {
   "cell_type": "code",
   "execution_count": 25,
   "metadata": {
    "collapsed": true
   },
   "outputs": [],
   "source": [
    "# run simulation for one angle to verify it is working"
   ]
  },
  {
   "cell_type": "code",
   "execution_count": 24,
   "metadata": {
    "collapsed": true
   },
   "outputs": [],
   "source": [
    "psi0 = 46.3746789211"
   ]
  },
  {
   "cell_type": "code",
   "execution_count": null,
   "metadata": {
    "collapsed": false,
    "scrolled": true
   },
   "outputs": [],
   "source": [
    "! ./scripts/sim.py --angles=\"arange({psi0}-2,{psi0}+2.1,0.5)\" > log.sim"
   ]
  },
  {
   "cell_type": "markdown",
   "metadata": {},
   "source": [
    "## Step 5. Reduction"
   ]
  },
  {
   "cell_type": "code",
   "execution_count": 34,
   "metadata": {
    "collapsed": false
   },
   "outputs": [
    {
     "name": "stdout",
     "output_type": "stream",
     "text": [
      "/SNS/users/lj7/simulations/ARCS/Si/08042016/resolution-tutorial/scattering\n"
     ]
    }
   ],
   "source": [
    "%cd \"{workdir}/scattering\""
   ]
  },
  {
   "cell_type": "markdown",
   "metadata": {},
   "source": [
    "First we reduce event-mode nexus data for each angle using Mantid"
   ]
  },
  {
   "cell_type": "code",
   "execution_count": 30,
   "metadata": {
    "collapsed": false
   },
   "outputs": [
    {
     "name": "stdout",
     "output_type": "stream",
     "text": [
      "/SNS/users/lj7/software/miniconda2/envs/mcvine-1.1.0.08082016/lib/python2.7/site-packages/mcvine/deployment_info.py:41: UserWarning: Neither environment variable MCVINE_DIR nor DANSE_DIR was defined. Assumed that it is /SNS/users/lj7/software/miniconda2/envs/mcvine-1.1.0.08082016.\n",
      "  warnings.warn(msg)\n",
      "/SNS/users/lj7/software/miniconda2/envs/mcvine-1.1.0.08082016/lib/python2.7/site-packages/mantid/kernel/__init__.py:14: RuntimeWarning: to-Python converter for std::vector<int, std::allocator<int> > already registered; second conversion method ignored.\n",
      "  from ._kernel import *\n",
      "/SNS/users/lj7/software/miniconda2/envs/mcvine-1.1.0.08082016/lib/python2.7/site-packages/mantid/kernel/__init__.py:14: RuntimeWarning: to-Python converter for std::vector<double, std::allocator<double> > already registered; second conversion method ignored.\n",
      "  from ._kernel import *\n",
      "\n",
      "real\t15m47.346s\n",
      "user\t44m59.768s\n",
      "sys\t78m46.427s\n"
     ]
    }
   ],
   "source": [
    "# reduce tof events to E events\n",
    "!time mcvine workflow sxr reduce --type batch \\\n",
    "    --eaxis -5 75 0.5 --psi-axis 44.3746789211 48.4746789211 0.5 --eiguess 100 \\\n",
    "    --eventnxs work_%s/sim_%s.nxs --out reduced_%s.nxs\\\n",
    "    > log.reduce"
   ]
  },
  {
   "cell_type": "code",
   "execution_count": 38,
   "metadata": {
    "collapsed": false
   },
   "outputs": [],
   "source": [
    "# create configuration file for getting a slice"
   ]
  },
  {
   "cell_type": "code",
   "execution_count": 77,
   "metadata": {
    "collapsed": false
   },
   "outputs": [
    {
     "name": "stdout",
     "output_type": "stream",
     "text": [
      "Overwriting slice_111.yml\n"
     ]
    }
   ],
   "source": [
    "%%file slice_111.yml\n",
    "Eaxis:\n",
    " min: 0\n",
    " max: 75\n",
    " N: 376\n",
    "Q_projections:\n",
    " U:\n",
    "  proj: -1,1,-1\n",
    "  proj_name: -H,H,-H\n",
    "  min: -6\n",
    "  max: 6\n",
    "  N: 481\n",
    " V:\n",
    "  proj: 1,.5,-.5\n",
    "  proj_name: H,0.5H,-0.5H\n",
    "  min: -5.45\n",
    "  max: -5.15\n",
    "  N: 1\n",
    " W:\n",
    "  proj: 0,-1,-1\n",
    "  proj_name: 0,-K,-K\n",
    "  min: -0.3\n",
    "  max: 0.3\n",
    "  N: 1"
   ]
  },
  {
   "cell_type": "code",
   "execution_count": 78,
   "metadata": {
    "collapsed": false
   },
   "outputs": [
    {
     "name": "stdout",
     "output_type": "stream",
     "text": [
      "/home/lj7/miniconda2/envs/dev-mcvine/lib/python2.7/site-packages/mantid/kernel/__init__.py:14: RuntimeWarning: to-Python converter for std::vector<int, std::allocator<int> > already registered; second conversion method ignored.\n",
      "  from ._kernel import *\n",
      "/home/lj7/miniconda2/envs/dev-mcvine/lib/python2.7/site-packages/mantid/kernel/__init__.py:14: RuntimeWarning: to-Python converter for std::vector<double, std::allocator<double> > already registered; second conversion method ignored.\n",
      "  from ._kernel import *\n",
      "961.32user 639.14system 3:49.23elapsed 698%CPU (0avgtext+0avgdata 12679256maxresident)k\n",
      "7927880inputs+2160outputs (0major+15217985minor)pagefaults 0swaps\n"
     ]
    }
   ],
   "source": [
    "!time mcvine workflow sxr slice \\\n",
    "    --sample {workdir}/Si.yml \\\n",
    "    --psi-axis 44.3746789211 48.4746789211 0.5 \\\n",
    "    --nxs reduced_%s.nxs \\\n",
    "    --slice slice_111.yml \\\n",
    "    --out slice_111.nxs \\\n",
    "    > log.slice_111"
   ]
  },
  {
   "cell_type": "code",
   "execution_count": 79,
   "metadata": {
    "collapsed": false
   },
   "outputs": [
    {
     "name": "stdout",
     "output_type": "stream",
     "text": [
      "/home/lj7/miniconda2/envs/dev-mcvine/lib/python2.7/site-packages/mantid/kernel/__init__.py:14: RuntimeWarning: to-Python converter for std::vector<int, std::allocator<int> > already registered; second conversion method ignored.\n",
      "  from ._kernel import *\n",
      "/home/lj7/miniconda2/envs/dev-mcvine/lib/python2.7/site-packages/mantid/kernel/__init__.py:14: RuntimeWarning: to-Python converter for std::vector<double, std::allocator<double> > already registered; second conversion method ignored.\n",
      "  from ._kernel import *\n",
      "FrameworkManager-[Notice] Welcome to Mantid 3.7.20160804.1513\n",
      "FrameworkManager-[Notice] Please cite: http://dx.doi.org/10.1016/j.nima.2014.07.029 and this release: http://dx.doi.org/10.5286/Software/Mantid\n",
      "DownloadInstrument-[Notice] All instrument definitions up to date\n",
      "Load-[Notice] Load started\n",
      "Load-[Notice] Load successful, Duration 0.78 seconds\n"
     ]
    }
   ],
   "source": [
    "# convert slice nexus to slice histogram\n",
    "!mcvine workflow sxr slice2hist slice_111.nxs slice_111.h5"
   ]
  },
  {
   "cell_type": "code",
   "execution_count": 82,
   "metadata": {
    "collapsed": false
   },
   "outputs": [
    {
     "name": "stdout",
     "output_type": "stream",
     "text": [
      "plot z in (0, 1e-06)\n"
     ]
    },
    {
     "data": {
      "application/javascript": [
       "/* Put everything inside the global mpl namespace */\n",
       "window.mpl = {};\n",
       "\n",
       "mpl.get_websocket_type = function() {\n",
       "    if (typeof(WebSocket) !== 'undefined') {\n",
       "        return WebSocket;\n",
       "    } else if (typeof(MozWebSocket) !== 'undefined') {\n",
       "        return MozWebSocket;\n",
       "    } else {\n",
       "        alert('Your browser does not have WebSocket support.' +\n",
       "              'Please try Chrome, Safari or Firefox ≥ 6. ' +\n",
       "              'Firefox 4 and 5 are also supported but you ' +\n",
       "              'have to enable WebSockets in about:config.');\n",
       "    };\n",
       "}\n",
       "\n",
       "mpl.figure = function(figure_id, websocket, ondownload, parent_element) {\n",
       "    this.id = figure_id;\n",
       "\n",
       "    this.ws = websocket;\n",
       "\n",
       "    this.supports_binary = (this.ws.binaryType != undefined);\n",
       "\n",
       "    if (!this.supports_binary) {\n",
       "        var warnings = document.getElementById(\"mpl-warnings\");\n",
       "        if (warnings) {\n",
       "            warnings.style.display = 'block';\n",
       "            warnings.textContent = (\n",
       "                \"This browser does not support binary websocket messages. \" +\n",
       "                    \"Performance may be slow.\");\n",
       "        }\n",
       "    }\n",
       "\n",
       "    this.imageObj = new Image();\n",
       "\n",
       "    this.context = undefined;\n",
       "    this.message = undefined;\n",
       "    this.canvas = undefined;\n",
       "    this.rubberband_canvas = undefined;\n",
       "    this.rubberband_context = undefined;\n",
       "    this.format_dropdown = undefined;\n",
       "\n",
       "    this.image_mode = 'full';\n",
       "\n",
       "    this.root = $('<div/>');\n",
       "    this._root_extra_style(this.root)\n",
       "    this.root.attr('style', 'display: inline-block');\n",
       "\n",
       "    $(parent_element).append(this.root);\n",
       "\n",
       "    this._init_header(this);\n",
       "    this._init_canvas(this);\n",
       "    this._init_toolbar(this);\n",
       "\n",
       "    var fig = this;\n",
       "\n",
       "    this.waiting = false;\n",
       "\n",
       "    this.ws.onopen =  function () {\n",
       "            fig.send_message(\"supports_binary\", {value: fig.supports_binary});\n",
       "            fig.send_message(\"send_image_mode\", {});\n",
       "            fig.send_message(\"refresh\", {});\n",
       "        }\n",
       "\n",
       "    this.imageObj.onload = function() {\n",
       "            if (fig.image_mode == 'full') {\n",
       "                // Full images could contain transparency (where diff images\n",
       "                // almost always do), so we need to clear the canvas so that\n",
       "                // there is no ghosting.\n",
       "                fig.context.clearRect(0, 0, fig.canvas.width, fig.canvas.height);\n",
       "            }\n",
       "            fig.context.drawImage(fig.imageObj, 0, 0);\n",
       "        };\n",
       "\n",
       "    this.imageObj.onunload = function() {\n",
       "        this.ws.close();\n",
       "    }\n",
       "\n",
       "    this.ws.onmessage = this._make_on_message_function(this);\n",
       "\n",
       "    this.ondownload = ondownload;\n",
       "}\n",
       "\n",
       "mpl.figure.prototype._init_header = function() {\n",
       "    var titlebar = $(\n",
       "        '<div class=\"ui-dialog-titlebar ui-widget-header ui-corner-all ' +\n",
       "        'ui-helper-clearfix\"/>');\n",
       "    var titletext = $(\n",
       "        '<div class=\"ui-dialog-title\" style=\"width: 100%; ' +\n",
       "        'text-align: center; padding: 3px;\"/>');\n",
       "    titlebar.append(titletext)\n",
       "    this.root.append(titlebar);\n",
       "    this.header = titletext[0];\n",
       "}\n",
       "\n",
       "\n",
       "\n",
       "mpl.figure.prototype._canvas_extra_style = function(canvas_div) {\n",
       "\n",
       "}\n",
       "\n",
       "\n",
       "mpl.figure.prototype._root_extra_style = function(canvas_div) {\n",
       "\n",
       "}\n",
       "\n",
       "mpl.figure.prototype._init_canvas = function() {\n",
       "    var fig = this;\n",
       "\n",
       "    var canvas_div = $('<div/>');\n",
       "\n",
       "    canvas_div.attr('style', 'position: relative; clear: both; outline: 0');\n",
       "\n",
       "    function canvas_keyboard_event(event) {\n",
       "        return fig.key_event(event, event['data']);\n",
       "    }\n",
       "\n",
       "    canvas_div.keydown('key_press', canvas_keyboard_event);\n",
       "    canvas_div.keyup('key_release', canvas_keyboard_event);\n",
       "    this.canvas_div = canvas_div\n",
       "    this._canvas_extra_style(canvas_div)\n",
       "    this.root.append(canvas_div);\n",
       "\n",
       "    var canvas = $('<canvas/>');\n",
       "    canvas.addClass('mpl-canvas');\n",
       "    canvas.attr('style', \"left: 0; top: 0; z-index: 0; outline: 0\")\n",
       "\n",
       "    this.canvas = canvas[0];\n",
       "    this.context = canvas[0].getContext(\"2d\");\n",
       "\n",
       "    var rubberband = $('<canvas/>');\n",
       "    rubberband.attr('style', \"position: absolute; left: 0; top: 0; z-index: 1;\")\n",
       "\n",
       "    var pass_mouse_events = true;\n",
       "\n",
       "    canvas_div.resizable({\n",
       "        start: function(event, ui) {\n",
       "            pass_mouse_events = false;\n",
       "        },\n",
       "        resize: function(event, ui) {\n",
       "            fig.request_resize(ui.size.width, ui.size.height);\n",
       "        },\n",
       "        stop: function(event, ui) {\n",
       "            pass_mouse_events = true;\n",
       "            fig.request_resize(ui.size.width, ui.size.height);\n",
       "        },\n",
       "    });\n",
       "\n",
       "    function mouse_event_fn(event) {\n",
       "        if (pass_mouse_events)\n",
       "            return fig.mouse_event(event, event['data']);\n",
       "    }\n",
       "\n",
       "    rubberband.mousedown('button_press', mouse_event_fn);\n",
       "    rubberband.mouseup('button_release', mouse_event_fn);\n",
       "    // Throttle sequential mouse events to 1 every 20ms.\n",
       "    rubberband.mousemove('motion_notify', mouse_event_fn);\n",
       "\n",
       "    rubberband.mouseenter('figure_enter', mouse_event_fn);\n",
       "    rubberband.mouseleave('figure_leave', mouse_event_fn);\n",
       "\n",
       "    canvas_div.on(\"wheel\", function (event) {\n",
       "        event = event.originalEvent;\n",
       "        event['data'] = 'scroll'\n",
       "        if (event.deltaY < 0) {\n",
       "            event.step = 1;\n",
       "        } else {\n",
       "            event.step = -1;\n",
       "        }\n",
       "        mouse_event_fn(event);\n",
       "    });\n",
       "\n",
       "    canvas_div.append(canvas);\n",
       "    canvas_div.append(rubberband);\n",
       "\n",
       "    this.rubberband = rubberband;\n",
       "    this.rubberband_canvas = rubberband[0];\n",
       "    this.rubberband_context = rubberband[0].getContext(\"2d\");\n",
       "    this.rubberband_context.strokeStyle = \"#000000\";\n",
       "\n",
       "    this._resize_canvas = function(width, height) {\n",
       "        // Keep the size of the canvas, canvas container, and rubber band\n",
       "        // canvas in synch.\n",
       "        canvas_div.css('width', width)\n",
       "        canvas_div.css('height', height)\n",
       "\n",
       "        canvas.attr('width', width);\n",
       "        canvas.attr('height', height);\n",
       "\n",
       "        rubberband.attr('width', width);\n",
       "        rubberband.attr('height', height);\n",
       "    }\n",
       "\n",
       "    // Set the figure to an initial 600x600px, this will subsequently be updated\n",
       "    // upon first draw.\n",
       "    this._resize_canvas(600, 600);\n",
       "\n",
       "    // Disable right mouse context menu.\n",
       "    $(this.rubberband_canvas).bind(\"contextmenu\",function(e){\n",
       "        return false;\n",
       "    });\n",
       "\n",
       "    function set_focus () {\n",
       "        canvas.focus();\n",
       "        canvas_div.focus();\n",
       "    }\n",
       "\n",
       "    window.setTimeout(set_focus, 100);\n",
       "}\n",
       "\n",
       "mpl.figure.prototype._init_toolbar = function() {\n",
       "    var fig = this;\n",
       "\n",
       "    var nav_element = $('<div/>')\n",
       "    nav_element.attr('style', 'width: 100%');\n",
       "    this.root.append(nav_element);\n",
       "\n",
       "    // Define a callback function for later on.\n",
       "    function toolbar_event(event) {\n",
       "        return fig.toolbar_button_onclick(event['data']);\n",
       "    }\n",
       "    function toolbar_mouse_event(event) {\n",
       "        return fig.toolbar_button_onmouseover(event['data']);\n",
       "    }\n",
       "\n",
       "    for(var toolbar_ind in mpl.toolbar_items) {\n",
       "        var name = mpl.toolbar_items[toolbar_ind][0];\n",
       "        var tooltip = mpl.toolbar_items[toolbar_ind][1];\n",
       "        var image = mpl.toolbar_items[toolbar_ind][2];\n",
       "        var method_name = mpl.toolbar_items[toolbar_ind][3];\n",
       "\n",
       "        if (!name) {\n",
       "            // put a spacer in here.\n",
       "            continue;\n",
       "        }\n",
       "        var button = $('<button/>');\n",
       "        button.addClass('ui-button ui-widget ui-state-default ui-corner-all ' +\n",
       "                        'ui-button-icon-only');\n",
       "        button.attr('role', 'button');\n",
       "        button.attr('aria-disabled', 'false');\n",
       "        button.click(method_name, toolbar_event);\n",
       "        button.mouseover(tooltip, toolbar_mouse_event);\n",
       "\n",
       "        var icon_img = $('<span/>');\n",
       "        icon_img.addClass('ui-button-icon-primary ui-icon');\n",
       "        icon_img.addClass(image);\n",
       "        icon_img.addClass('ui-corner-all');\n",
       "\n",
       "        var tooltip_span = $('<span/>');\n",
       "        tooltip_span.addClass('ui-button-text');\n",
       "        tooltip_span.html(tooltip);\n",
       "\n",
       "        button.append(icon_img);\n",
       "        button.append(tooltip_span);\n",
       "\n",
       "        nav_element.append(button);\n",
       "    }\n",
       "\n",
       "    var fmt_picker_span = $('<span/>');\n",
       "\n",
       "    var fmt_picker = $('<select/>');\n",
       "    fmt_picker.addClass('mpl-toolbar-option ui-widget ui-widget-content');\n",
       "    fmt_picker_span.append(fmt_picker);\n",
       "    nav_element.append(fmt_picker_span);\n",
       "    this.format_dropdown = fmt_picker[0];\n",
       "\n",
       "    for (var ind in mpl.extensions) {\n",
       "        var fmt = mpl.extensions[ind];\n",
       "        var option = $(\n",
       "            '<option/>', {selected: fmt === mpl.default_extension}).html(fmt);\n",
       "        fmt_picker.append(option)\n",
       "    }\n",
       "\n",
       "    // Add hover states to the ui-buttons\n",
       "    $( \".ui-button\" ).hover(\n",
       "        function() { $(this).addClass(\"ui-state-hover\");},\n",
       "        function() { $(this).removeClass(\"ui-state-hover\");}\n",
       "    );\n",
       "\n",
       "    var status_bar = $('<span class=\"mpl-message\"/>');\n",
       "    nav_element.append(status_bar);\n",
       "    this.message = status_bar[0];\n",
       "}\n",
       "\n",
       "mpl.figure.prototype.request_resize = function(x_pixels, y_pixels) {\n",
       "    // Request matplotlib to resize the figure. Matplotlib will then trigger a resize in the client,\n",
       "    // which will in turn request a refresh of the image.\n",
       "    this.send_message('resize', {'width': x_pixels, 'height': y_pixels});\n",
       "}\n",
       "\n",
       "mpl.figure.prototype.send_message = function(type, properties) {\n",
       "    properties['type'] = type;\n",
       "    properties['figure_id'] = this.id;\n",
       "    this.ws.send(JSON.stringify(properties));\n",
       "}\n",
       "\n",
       "mpl.figure.prototype.send_draw_message = function() {\n",
       "    if (!this.waiting) {\n",
       "        this.waiting = true;\n",
       "        this.ws.send(JSON.stringify({type: \"draw\", figure_id: this.id}));\n",
       "    }\n",
       "}\n",
       "\n",
       "\n",
       "mpl.figure.prototype.handle_save = function(fig, msg) {\n",
       "    var format_dropdown = fig.format_dropdown;\n",
       "    var format = format_dropdown.options[format_dropdown.selectedIndex].value;\n",
       "    fig.ondownload(fig, format);\n",
       "}\n",
       "\n",
       "\n",
       "mpl.figure.prototype.handle_resize = function(fig, msg) {\n",
       "    var size = msg['size'];\n",
       "    if (size[0] != fig.canvas.width || size[1] != fig.canvas.height) {\n",
       "        fig._resize_canvas(size[0], size[1]);\n",
       "        fig.send_message(\"refresh\", {});\n",
       "    };\n",
       "}\n",
       "\n",
       "mpl.figure.prototype.handle_rubberband = function(fig, msg) {\n",
       "    var x0 = msg['x0'];\n",
       "    var y0 = fig.canvas.height - msg['y0'];\n",
       "    var x1 = msg['x1'];\n",
       "    var y1 = fig.canvas.height - msg['y1'];\n",
       "    x0 = Math.floor(x0) + 0.5;\n",
       "    y0 = Math.floor(y0) + 0.5;\n",
       "    x1 = Math.floor(x1) + 0.5;\n",
       "    y1 = Math.floor(y1) + 0.5;\n",
       "    var min_x = Math.min(x0, x1);\n",
       "    var min_y = Math.min(y0, y1);\n",
       "    var width = Math.abs(x1 - x0);\n",
       "    var height = Math.abs(y1 - y0);\n",
       "\n",
       "    fig.rubberband_context.clearRect(\n",
       "        0, 0, fig.canvas.width, fig.canvas.height);\n",
       "\n",
       "    fig.rubberband_context.strokeRect(min_x, min_y, width, height);\n",
       "}\n",
       "\n",
       "mpl.figure.prototype.handle_figure_label = function(fig, msg) {\n",
       "    // Updates the figure title.\n",
       "    fig.header.textContent = msg['label'];\n",
       "}\n",
       "\n",
       "mpl.figure.prototype.handle_cursor = function(fig, msg) {\n",
       "    var cursor = msg['cursor'];\n",
       "    switch(cursor)\n",
       "    {\n",
       "    case 0:\n",
       "        cursor = 'pointer';\n",
       "        break;\n",
       "    case 1:\n",
       "        cursor = 'default';\n",
       "        break;\n",
       "    case 2:\n",
       "        cursor = 'crosshair';\n",
       "        break;\n",
       "    case 3:\n",
       "        cursor = 'move';\n",
       "        break;\n",
       "    }\n",
       "    fig.rubberband_canvas.style.cursor = cursor;\n",
       "}\n",
       "\n",
       "mpl.figure.prototype.handle_message = function(fig, msg) {\n",
       "    fig.message.textContent = msg['message'];\n",
       "}\n",
       "\n",
       "mpl.figure.prototype.handle_draw = function(fig, msg) {\n",
       "    // Request the server to send over a new figure.\n",
       "    fig.send_draw_message();\n",
       "}\n",
       "\n",
       "mpl.figure.prototype.handle_image_mode = function(fig, msg) {\n",
       "    fig.image_mode = msg['mode'];\n",
       "}\n",
       "\n",
       "mpl.figure.prototype.updated_canvas_event = function() {\n",
       "    // Called whenever the canvas gets updated.\n",
       "    this.send_message(\"ack\", {});\n",
       "}\n",
       "\n",
       "// A function to construct a web socket function for onmessage handling.\n",
       "// Called in the figure constructor.\n",
       "mpl.figure.prototype._make_on_message_function = function(fig) {\n",
       "    return function socket_on_message(evt) {\n",
       "        if (evt.data instanceof Blob) {\n",
       "            /* FIXME: We get \"Resource interpreted as Image but\n",
       "             * transferred with MIME type text/plain:\" errors on\n",
       "             * Chrome.  But how to set the MIME type?  It doesn't seem\n",
       "             * to be part of the websocket stream */\n",
       "            evt.data.type = \"image/png\";\n",
       "\n",
       "            /* Free the memory for the previous frames */\n",
       "            if (fig.imageObj.src) {\n",
       "                (window.URL || window.webkitURL).revokeObjectURL(\n",
       "                    fig.imageObj.src);\n",
       "            }\n",
       "\n",
       "            fig.imageObj.src = (window.URL || window.webkitURL).createObjectURL(\n",
       "                evt.data);\n",
       "            fig.updated_canvas_event();\n",
       "            fig.waiting = false;\n",
       "            return;\n",
       "        }\n",
       "        else if (typeof evt.data === 'string' && evt.data.slice(0, 21) == \"data:image/png;base64\") {\n",
       "            fig.imageObj.src = evt.data;\n",
       "            fig.updated_canvas_event();\n",
       "            fig.waiting = false;\n",
       "            return;\n",
       "        }\n",
       "\n",
       "        var msg = JSON.parse(evt.data);\n",
       "        var msg_type = msg['type'];\n",
       "\n",
       "        // Call the  \"handle_{type}\" callback, which takes\n",
       "        // the figure and JSON message as its only arguments.\n",
       "        try {\n",
       "            var callback = fig[\"handle_\" + msg_type];\n",
       "        } catch (e) {\n",
       "            console.log(\"No handler for the '\" + msg_type + \"' message type: \", msg);\n",
       "            return;\n",
       "        }\n",
       "\n",
       "        if (callback) {\n",
       "            try {\n",
       "                // console.log(\"Handling '\" + msg_type + \"' message: \", msg);\n",
       "                callback(fig, msg);\n",
       "            } catch (e) {\n",
       "                console.log(\"Exception inside the 'handler_\" + msg_type + \"' callback:\", e, e.stack, msg);\n",
       "            }\n",
       "        }\n",
       "    };\n",
       "}\n",
       "\n",
       "// from http://stackoverflow.com/questions/1114465/getting-mouse-location-in-canvas\n",
       "mpl.findpos = function(e) {\n",
       "    //this section is from http://www.quirksmode.org/js/events_properties.html\n",
       "    var targ;\n",
       "    if (!e)\n",
       "        e = window.event;\n",
       "    if (e.target)\n",
       "        targ = e.target;\n",
       "    else if (e.srcElement)\n",
       "        targ = e.srcElement;\n",
       "    if (targ.nodeType == 3) // defeat Safari bug\n",
       "        targ = targ.parentNode;\n",
       "\n",
       "    // jQuery normalizes the pageX and pageY\n",
       "    // pageX,Y are the mouse positions relative to the document\n",
       "    // offset() returns the position of the element relative to the document\n",
       "    var x = e.pageX - $(targ).offset().left;\n",
       "    var y = e.pageY - $(targ).offset().top;\n",
       "\n",
       "    return {\"x\": x, \"y\": y};\n",
       "};\n",
       "\n",
       "/*\n",
       " * return a copy of an object with only non-object keys\n",
       " * we need this to avoid circular references\n",
       " * http://stackoverflow.com/a/24161582/3208463\n",
       " */\n",
       "function simpleKeys (original) {\n",
       "  return Object.keys(original).reduce(function (obj, key) {\n",
       "    if (typeof original[key] !== 'object')\n",
       "        obj[key] = original[key]\n",
       "    return obj;\n",
       "  }, {});\n",
       "}\n",
       "\n",
       "mpl.figure.prototype.mouse_event = function(event, name) {\n",
       "    var canvas_pos = mpl.findpos(event)\n",
       "\n",
       "    if (name === 'button_press')\n",
       "    {\n",
       "        this.canvas.focus();\n",
       "        this.canvas_div.focus();\n",
       "    }\n",
       "\n",
       "    var x = canvas_pos.x;\n",
       "    var y = canvas_pos.y;\n",
       "\n",
       "    this.send_message(name, {x: x, y: y, button: event.button,\n",
       "                             step: event.step,\n",
       "                             guiEvent: simpleKeys(event)});\n",
       "\n",
       "    /* This prevents the web browser from automatically changing to\n",
       "     * the text insertion cursor when the button is pressed.  We want\n",
       "     * to control all of the cursor setting manually through the\n",
       "     * 'cursor' event from matplotlib */\n",
       "    event.preventDefault();\n",
       "    return false;\n",
       "}\n",
       "\n",
       "mpl.figure.prototype._key_event_extra = function(event, name) {\n",
       "    // Handle any extra behaviour associated with a key event\n",
       "}\n",
       "\n",
       "mpl.figure.prototype.key_event = function(event, name) {\n",
       "\n",
       "    // Prevent repeat events\n",
       "    if (name == 'key_press')\n",
       "    {\n",
       "        if (event.which === this._key)\n",
       "            return;\n",
       "        else\n",
       "            this._key = event.which;\n",
       "    }\n",
       "    if (name == 'key_release')\n",
       "        this._key = null;\n",
       "\n",
       "    var value = '';\n",
       "    if (event.ctrlKey && event.which != 17)\n",
       "        value += \"ctrl+\";\n",
       "    if (event.altKey && event.which != 18)\n",
       "        value += \"alt+\";\n",
       "    if (event.shiftKey && event.which != 16)\n",
       "        value += \"shift+\";\n",
       "\n",
       "    value += 'k';\n",
       "    value += event.which.toString();\n",
       "\n",
       "    this._key_event_extra(event, name);\n",
       "\n",
       "    this.send_message(name, {key: value,\n",
       "                             guiEvent: simpleKeys(event)});\n",
       "    return false;\n",
       "}\n",
       "\n",
       "mpl.figure.prototype.toolbar_button_onclick = function(name) {\n",
       "    if (name == 'download') {\n",
       "        this.handle_save(this, null);\n",
       "    } else {\n",
       "        this.send_message(\"toolbar_button\", {name: name});\n",
       "    }\n",
       "};\n",
       "\n",
       "mpl.figure.prototype.toolbar_button_onmouseover = function(tooltip) {\n",
       "    this.message.textContent = tooltip;\n",
       "};\n",
       "mpl.toolbar_items = [[\"Home\", \"Reset original view\", \"fa fa-home icon-home\", \"home\"], [\"Back\", \"Back to  previous view\", \"fa fa-arrow-left icon-arrow-left\", \"back\"], [\"Forward\", \"Forward to next view\", \"fa fa-arrow-right icon-arrow-right\", \"forward\"], [\"\", \"\", \"\", \"\"], [\"Pan\", \"Pan axes with left mouse, zoom with right\", \"fa fa-arrows icon-move\", \"pan\"], [\"Zoom\", \"Zoom to rectangle\", \"fa fa-square-o icon-check-empty\", \"zoom\"], [\"\", \"\", \"\", \"\"], [\"Download\", \"Download plot\", \"fa fa-floppy-o icon-save\", \"download\"]];\n",
       "\n",
       "mpl.extensions = [\"eps\", \"pdf\", \"png\", \"ps\", \"raw\", \"svg\"];\n",
       "\n",
       "mpl.default_extension = \"png\";var comm_websocket_adapter = function(comm) {\n",
       "    // Create a \"websocket\"-like object which calls the given IPython comm\n",
       "    // object with the appropriate methods. Currently this is a non binary\n",
       "    // socket, so there is still some room for performance tuning.\n",
       "    var ws = {};\n",
       "\n",
       "    ws.close = function() {\n",
       "        comm.close()\n",
       "    };\n",
       "    ws.send = function(m) {\n",
       "        //console.log('sending', m);\n",
       "        comm.send(m);\n",
       "    };\n",
       "    // Register the callback with on_msg.\n",
       "    comm.on_msg(function(msg) {\n",
       "        //console.log('receiving', msg['content']['data'], msg);\n",
       "        // Pass the mpl event to the overriden (by mpl) onmessage function.\n",
       "        ws.onmessage(msg['content']['data'])\n",
       "    });\n",
       "    return ws;\n",
       "}\n",
       "\n",
       "mpl.mpl_figure_comm = function(comm, msg) {\n",
       "    // This is the function which gets called when the mpl process\n",
       "    // starts-up an IPython Comm through the \"matplotlib\" channel.\n",
       "\n",
       "    var id = msg.content.data.id;\n",
       "    // Get hold of the div created by the display call when the Comm\n",
       "    // socket was opened in Python.\n",
       "    var element = $(\"#\" + id);\n",
       "    var ws_proxy = comm_websocket_adapter(comm)\n",
       "\n",
       "    function ondownload(figure, format) {\n",
       "        window.open(figure.imageObj.src);\n",
       "    }\n",
       "\n",
       "    var fig = new mpl.figure(id, ws_proxy,\n",
       "                           ondownload,\n",
       "                           element.get(0));\n",
       "\n",
       "    // Call onopen now - mpl needs it, as it is assuming we've passed it a real\n",
       "    // web socket which is closed, not our websocket->open comm proxy.\n",
       "    ws_proxy.onopen();\n",
       "\n",
       "    fig.parent_element = element.get(0);\n",
       "    fig.cell_info = mpl.find_output_cell(\"<div id='\" + id + \"'></div>\");\n",
       "    if (!fig.cell_info) {\n",
       "        console.error(\"Failed to find cell for figure\", id, fig);\n",
       "        return;\n",
       "    }\n",
       "\n",
       "    var output_index = fig.cell_info[2]\n",
       "    var cell = fig.cell_info[0];\n",
       "\n",
       "};\n",
       "\n",
       "mpl.figure.prototype.handle_close = function(fig, msg) {\n",
       "    fig.root.unbind('remove')\n",
       "\n",
       "    // Update the output cell to use the data from the current canvas.\n",
       "    fig.push_to_output();\n",
       "    var dataURL = fig.canvas.toDataURL();\n",
       "    // Re-enable the keyboard manager in IPython - without this line, in FF,\n",
       "    // the notebook keyboard shortcuts fail.\n",
       "    IPython.keyboard_manager.enable()\n",
       "    $(fig.parent_element).html('<img src=\"' + dataURL + '\">');\n",
       "    fig.close_ws(fig, msg);\n",
       "}\n",
       "\n",
       "mpl.figure.prototype.close_ws = function(fig, msg){\n",
       "    fig.send_message('closing', msg);\n",
       "    // fig.ws.close()\n",
       "}\n",
       "\n",
       "mpl.figure.prototype.push_to_output = function(remove_interactive) {\n",
       "    // Turn the data on the canvas into data in the output cell.\n",
       "    var dataURL = this.canvas.toDataURL();\n",
       "    this.cell_info[1]['text/html'] = '<img src=\"' + dataURL + '\">';\n",
       "}\n",
       "\n",
       "mpl.figure.prototype.updated_canvas_event = function() {\n",
       "    // Tell IPython that the notebook contents must change.\n",
       "    IPython.notebook.set_dirty(true);\n",
       "    this.send_message(\"ack\", {});\n",
       "    var fig = this;\n",
       "    // Wait a second, then push the new image to the DOM so\n",
       "    // that it is saved nicely (might be nice to debounce this).\n",
       "    setTimeout(function () { fig.push_to_output() }, 1000);\n",
       "}\n",
       "\n",
       "mpl.figure.prototype._init_toolbar = function() {\n",
       "    var fig = this;\n",
       "\n",
       "    var nav_element = $('<div/>')\n",
       "    nav_element.attr('style', 'width: 100%');\n",
       "    this.root.append(nav_element);\n",
       "\n",
       "    // Define a callback function for later on.\n",
       "    function toolbar_event(event) {\n",
       "        return fig.toolbar_button_onclick(event['data']);\n",
       "    }\n",
       "    function toolbar_mouse_event(event) {\n",
       "        return fig.toolbar_button_onmouseover(event['data']);\n",
       "    }\n",
       "\n",
       "    for(var toolbar_ind in mpl.toolbar_items){\n",
       "        var name = mpl.toolbar_items[toolbar_ind][0];\n",
       "        var tooltip = mpl.toolbar_items[toolbar_ind][1];\n",
       "        var image = mpl.toolbar_items[toolbar_ind][2];\n",
       "        var method_name = mpl.toolbar_items[toolbar_ind][3];\n",
       "\n",
       "        if (!name) { continue; };\n",
       "\n",
       "        var button = $('<button class=\"btn btn-default\" href=\"#\" title=\"' + name + '\"><i class=\"fa ' + image + ' fa-lg\"></i></button>');\n",
       "        button.click(method_name, toolbar_event);\n",
       "        button.mouseover(tooltip, toolbar_mouse_event);\n",
       "        nav_element.append(button);\n",
       "    }\n",
       "\n",
       "    // Add the status bar.\n",
       "    var status_bar = $('<span class=\"mpl-message\" style=\"text-align:right; float: right;\"/>');\n",
       "    nav_element.append(status_bar);\n",
       "    this.message = status_bar[0];\n",
       "\n",
       "    // Add the close button to the window.\n",
       "    var buttongrp = $('<div class=\"btn-group inline pull-right\"></div>');\n",
       "    var button = $('<button class=\"btn btn-mini btn-primary\" href=\"#\" title=\"Stop Interaction\"><i class=\"fa fa-power-off icon-remove icon-large\"></i></button>');\n",
       "    button.click(function (evt) { fig.handle_close(fig, {}); } );\n",
       "    button.mouseover('Stop Interaction', toolbar_mouse_event);\n",
       "    buttongrp.append(button);\n",
       "    var titlebar = this.root.find($('.ui-dialog-titlebar'));\n",
       "    titlebar.prepend(buttongrp);\n",
       "}\n",
       "\n",
       "mpl.figure.prototype._root_extra_style = function(el){\n",
       "    var fig = this\n",
       "    el.on(\"remove\", function(){\n",
       "\tfig.close_ws(fig, {});\n",
       "    });\n",
       "}\n",
       "\n",
       "mpl.figure.prototype._canvas_extra_style = function(el){\n",
       "    // this is important to make the div 'focusable\n",
       "    el.attr('tabindex', 0)\n",
       "    // reach out to IPython and tell the keyboard manager to turn it's self\n",
       "    // off when our div gets focus\n",
       "\n",
       "    // location in version 3\n",
       "    if (IPython.notebook.keyboard_manager) {\n",
       "        IPython.notebook.keyboard_manager.register_events(el);\n",
       "    }\n",
       "    else {\n",
       "        // location in version 2\n",
       "        IPython.keyboard_manager.register_events(el);\n",
       "    }\n",
       "\n",
       "}\n",
       "\n",
       "mpl.figure.prototype._key_event_extra = function(event, name) {\n",
       "    var manager = IPython.notebook.keyboard_manager;\n",
       "    if (!manager)\n",
       "        manager = IPython.keyboard_manager;\n",
       "\n",
       "    // Check for shift+enter\n",
       "    if (event.shiftKey && event.which == 13) {\n",
       "        this.canvas_div.blur();\n",
       "        event.shiftKey = false;\n",
       "        // Send a \"J\" for go to next cell\n",
       "        event.which = 74;\n",
       "        event.keyCode = 74;\n",
       "        manager.command_mode();\n",
       "        manager.handle_keydown(event);\n",
       "    }\n",
       "}\n",
       "\n",
       "mpl.figure.prototype.handle_save = function(fig, msg) {\n",
       "    fig.ondownload(fig, null);\n",
       "}\n",
       "\n",
       "\n",
       "mpl.find_output_cell = function(html_output) {\n",
       "    // Return the cell and output element which can be found *uniquely* in the notebook.\n",
       "    // Note - this is a bit hacky, but it is done because the \"notebook_saving.Notebook\"\n",
       "    // IPython event is triggered only after the cells have been serialised, which for\n",
       "    // our purposes (turning an active figure into a static one), is too late.\n",
       "    var cells = IPython.notebook.get_cells();\n",
       "    var ncells = cells.length;\n",
       "    for (var i=0; i<ncells; i++) {\n",
       "        var cell = cells[i];\n",
       "        if (cell.cell_type === 'code'){\n",
       "            for (var j=0; j<cell.output_area.outputs.length; j++) {\n",
       "                var data = cell.output_area.outputs[j];\n",
       "                if (data.data) {\n",
       "                    // IPython >= 3 moved mimebundle to data attribute of output\n",
       "                    data = data.data;\n",
       "                }\n",
       "                if (data['text/html'] == html_output) {\n",
       "                    return [cell, data, j];\n",
       "                }\n",
       "            }\n",
       "        }\n",
       "    }\n",
       "}\n",
       "\n",
       "// Register the function which deals with the matplotlib target/channel.\n",
       "// The kernel may be null if the page has been refreshed.\n",
       "if (IPython.notebook.kernel != null) {\n",
       "    IPython.notebook.kernel.comm_manager.register_target('matplotlib', mpl.mpl_figure_comm);\n",
       "}\n"
      ],
      "text/plain": [
       "<IPython.core.display.Javascript object>"
      ]
     },
     "metadata": {},
     "output_type": "display_data"
    },
    {
     "data": {
      "text/html": [
       "<img src=\"data:image/png;base64,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\">"
      ],
      "text/plain": [
       "<IPython.core.display.HTML object>"
      ]
     },
     "metadata": {},
     "output_type": "display_data"
    }
   ],
   "source": [
    "# plot\n",
    "H.plot(hh.load(\"./slice_111.h5\")[(-1,1),(30,50)], min=0, max=1e-6)"
   ]
  },
  {
   "cell_type": "markdown",
   "metadata": {},
   "source": [
    "### Comments\n",
    "This simulation has 2 degrees step size and was not run too long. Result is noisy. It was a quick simulation (~6hours). It is OK. We can run longer on different computing resources."
   ]
  },
  {
   "cell_type": "code",
   "execution_count": null,
   "metadata": {
    "collapsed": true
   },
   "outputs": [],
   "source": []
  }
 ],
 "metadata": {
  "kernelspec": {
   "display_name": "Python 2",
   "language": "python",
   "name": "python2"
  },
  "language_info": {
   "codemirror_mode": {
    "name": "ipython",
    "version": 2
   },
   "file_extension": ".py",
   "mimetype": "text/x-python",
   "name": "python",
   "nbconvert_exporter": "python",
   "pygments_lexer": "ipython2",
   "version": "2.7.12"
  }
 },
 "nbformat": 4,
 "nbformat_minor": 0
}
