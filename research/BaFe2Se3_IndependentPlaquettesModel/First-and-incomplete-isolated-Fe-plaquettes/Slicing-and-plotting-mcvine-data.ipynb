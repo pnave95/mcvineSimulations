{
 "cells": [
  {
   "cell_type": "markdown",
   "metadata": {},
   "source": [
    "## Slicing Data from a MCViNE simulation"
   ]
  },
  {
   "cell_type": "markdown",
   "metadata": {},
   "source": [
    "After the simulated neutron data is produced, it must first be reduced (by Mantid?) to generate 4-dimensional (energy + 3-momentum) data from the measured time-of-flight and pixel event data.  After this reduction has been performed, it is then useful to \"slice\" the data along certain planes to be represented as a 2-dimensional graph.\n",
    "\n",
    "A configuration yml file is used to define the data slice that is desired.  After the yml file is created, the python script \"getaslice.py\", located under \"/.../{simulationDirectory}/scattering/scripts/reduce/getaslice.py\", is used to actually generate the data slice.\n",
    "\n",
    "**IMPORTANT:**  Since the data generated from a real or simulated neutron experiment is discrete, the probability of even a single event falling precisely along a 2-dimensional slicing plane is infinitesimally small.  Therefore, some \"thickness\" must be given to the slice, and this thickness will need to be considered when performing statistical analysis since it will contribute to greater \"width\" of dispersion curves when plotted."
   ]
  },
  {
   "cell_type": "code",
   "execution_count": null,
   "metadata": {
    "collapsed": true
   },
   "outputs": [],
   "source": []
  }
 ],
 "metadata": {
  "kernelspec": {
   "display_name": "Python 2",
   "language": "python",
   "name": "python2"
  },
  "language_info": {
   "codemirror_mode": {
    "name": "ipython",
    "version": 2
   },
   "file_extension": ".py",
   "mimetype": "text/x-python",
   "name": "python",
   "nbconvert_exporter": "python",
   "pygments_lexer": "ipython2",
   "version": "2.7.11"
  },
  "widgets": {
   "state": {},
   "version": "1.1.2"
  }
 },
 "nbformat": 4,
 "nbformat_minor": 0
}
