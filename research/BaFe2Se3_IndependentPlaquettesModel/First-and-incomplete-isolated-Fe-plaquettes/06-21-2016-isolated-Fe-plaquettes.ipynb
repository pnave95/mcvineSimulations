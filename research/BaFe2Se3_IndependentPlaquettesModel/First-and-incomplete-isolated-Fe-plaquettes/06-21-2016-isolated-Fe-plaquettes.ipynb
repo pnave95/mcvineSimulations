{
 "cells": [
  {
   "cell_type": "markdown",
   "metadata": {},
   "source": [
    "Model Description:\n",
    "\n",
    "4-Fe plaquettes (all independent of eachother)\n",
    "\n",
    "4 possible energy levels (all independent of momentum):\n",
    "\n",
    "$$\n",
    "\\epsilon_1 = 0\n",
    "$$\n",
    "$$\\epsilon_2 = 2SJ_R = 108 meV$$\n",
    "$$\\epsilon_3 = 2SJ_L = 88 meV$$\n",
    "$$\\epsilon_4 = 2S(J_R + J_L) = 196 meV $$\n",
    "\n",
    "Where $|SJ_R| = 54$ meV, and $|SJ_L| = 44$ meV.\n",
    "\n",
    "\\*Without further specification, I assume the lattice is square/cubic"
   ]
  },
  {
   "cell_type": "markdown",
   "metadata": {},
   "source": [
    "## Step 0: Prepare tools and goodies"
   ]
  },
  {
   "cell_type": "code",
   "execution_count": 2,
   "metadata": {
    "collapsed": true
   },
   "outputs": [],
   "source": [
    "%matplotlib notebook\n",
    "from matplotlib import pyplot as plt\n",
    "import numpy as np\n",
    "import histogram.hdf as hh, histogram as H"
   ]
  },
  {
   "cell_type": "markdown",
   "metadata": {},
   "source": [
    "## Step 1: Create the directory structure for this simulation"
   ]
  },
  {
   "cell_type": "code",
   "execution_count": 5,
   "metadata": {
    "collapsed": true
   },
   "outputs": [],
   "source": [
    "# Define directory where simulation will live\n",
    "workdir = \"/SNS/users/p63/mcvine/06-21-16-isolated-Fe-plaquettes/\"\n",
    "!mkdir -p {workdir}"
   ]
  },
  {
   "cell_type": "code",
   "execution_count": 6,
   "metadata": {
    "collapsed": false
   },
   "outputs": [
    {
     "name": "stdout",
     "output_type": "stream",
     "text": [
      "/SNS/users/p63/mcvine/06-21-16-isolated-Fe-plaquettes\n",
      "06-21-2016-isolate-Fe-plaquettes.ipynb\r\n"
     ]
    }
   ],
   "source": [
    "%cd {workdir}\n",
    "!ls"
   ]
  },
  {
   "cell_type": "code",
   "execution_count": 7,
   "metadata": {
    "collapsed": true
   },
   "outputs": [],
   "source": [
    "!mkdir -p samples/X/sampleassembly\n",
    "!mkdir -p beam\n",
    "!mkdir -p scattering"
   ]
  },
  {
   "cell_type": "code",
   "execution_count": 8,
   "metadata": {
    "collapsed": false
   },
   "outputs": [
    {
     "name": "stdout",
     "output_type": "stream",
     "text": [
      ".\r\n",
      "./.ipynb_checkpoints\r\n",
      "./.ipynb_checkpoints/06-21-2016-isolate-Fe-plaquettes-checkpoint.ipynb\r\n",
      "./06-21-2016-isolate-Fe-plaquettes.ipynb\r\n",
      "./samples\r\n",
      "./samples/X\r\n",
      "./samples/X/sampleassembly\r\n",
      "./beam\r\n",
      "./scattering\r\n"
     ]
    }
   ],
   "source": [
    "!find ."
   ]
  },
  {
   "cell_type": "markdown",
   "metadata": {},
   "source": [
    "## Step 2: Obtain beam simulation"
   ]
  },
  {
   "cell_type": "code",
   "execution_count": 9,
   "metadata": {
    "collapsed": false
   },
   "outputs": [
    {
     "name": "stdout",
     "output_type": "stream",
     "text": [
      "/SNS/users/p63/mcvine/06-21-16-isolated-Fe-plaquettes\n"
     ]
    }
   ],
   "source": [
    "cd {workdir}"
   ]
  },
  {
   "cell_type": "code",
   "execution_count": 10,
   "metadata": {
    "collapsed": true
   },
   "outputs": [],
   "source": [
    "!ln -s /SNS/users/lj7/simulations/ARCS/beam/100meV beam/100meV"
   ]
  },
  {
   "cell_type": "code",
   "execution_count": 11,
   "metadata": {
    "collapsed": false
   },
   "outputs": [
    {
     "name": "stdout",
     "output_type": "stream",
     "text": [
      "/SNS/users/lj7/simulations/ARCS/beam/100meV\n"
     ]
    }
   ],
   "source": [
    "%cd beam/100meV"
   ]
  },
  {
   "cell_type": "code",
   "execution_count": 12,
   "metadata": {
    "collapsed": false
   },
   "outputs": [
    {
     "data": {
      "application/javascript": [
       "/* Put everything inside the global mpl namespace */\n",
       "window.mpl = {};\n",
       "\n",
       "mpl.get_websocket_type = function() {\n",
       "    if (typeof(WebSocket) !== 'undefined') {\n",
       "        return WebSocket;\n",
       "    } else if (typeof(MozWebSocket) !== 'undefined') {\n",
       "        return MozWebSocket;\n",
       "    } else {\n",
       "        alert('Your browser does not have WebSocket support.' +\n",
       "              'Please try Chrome, Safari or Firefox ≥ 6. ' +\n",
       "              'Firefox 4 and 5 are also supported but you ' +\n",
       "              'have to enable WebSockets in about:config.');\n",
       "    };\n",
       "}\n",
       "\n",
       "mpl.figure = function(figure_id, websocket, ondownload, parent_element) {\n",
       "    this.id = figure_id;\n",
       "\n",
       "    this.ws = websocket;\n",
       "\n",
       "    this.supports_binary = (this.ws.binaryType != undefined);\n",
       "\n",
       "    if (!this.supports_binary) {\n",
       "        var warnings = document.getElementById(\"mpl-warnings\");\n",
       "        if (warnings) {\n",
       "            warnings.style.display = 'block';\n",
       "            warnings.textContent = (\n",
       "                \"This browser does not support binary websocket messages. \" +\n",
       "                    \"Performance may be slow.\");\n",
       "        }\n",
       "    }\n",
       "\n",
       "    this.imageObj = new Image();\n",
       "\n",
       "    this.context = undefined;\n",
       "    this.message = undefined;\n",
       "    this.canvas = undefined;\n",
       "    this.rubberband_canvas = undefined;\n",
       "    this.rubberband_context = undefined;\n",
       "    this.format_dropdown = undefined;\n",
       "\n",
       "    this.image_mode = 'full';\n",
       "\n",
       "    this.root = $('<div/>');\n",
       "    this._root_extra_style(this.root)\n",
       "    this.root.attr('style', 'display: inline-block');\n",
       "\n",
       "    $(parent_element).append(this.root);\n",
       "\n",
       "    this._init_header(this);\n",
       "    this._init_canvas(this);\n",
       "    this._init_toolbar(this);\n",
       "\n",
       "    var fig = this;\n",
       "\n",
       "    this.waiting = false;\n",
       "\n",
       "    this.ws.onopen =  function () {\n",
       "            fig.send_message(\"supports_binary\", {value: fig.supports_binary});\n",
       "            fig.send_message(\"send_image_mode\", {});\n",
       "            fig.send_message(\"refresh\", {});\n",
       "        }\n",
       "\n",
       "    this.imageObj.onload = function() {\n",
       "            if (fig.image_mode == 'full') {\n",
       "                // Full images could contain transparency (where diff images\n",
       "                // almost always do), so we need to clear the canvas so that\n",
       "                // there is no ghosting.\n",
       "                fig.context.clearRect(0, 0, fig.canvas.width, fig.canvas.height);\n",
       "            }\n",
       "            fig.context.drawImage(fig.imageObj, 0, 0);\n",
       "        };\n",
       "\n",
       "    this.imageObj.onunload = function() {\n",
       "        this.ws.close();\n",
       "    }\n",
       "\n",
       "    this.ws.onmessage = this._make_on_message_function(this);\n",
       "\n",
       "    this.ondownload = ondownload;\n",
       "}\n",
       "\n",
       "mpl.figure.prototype._init_header = function() {\n",
       "    var titlebar = $(\n",
       "        '<div class=\"ui-dialog-titlebar ui-widget-header ui-corner-all ' +\n",
       "        'ui-helper-clearfix\"/>');\n",
       "    var titletext = $(\n",
       "        '<div class=\"ui-dialog-title\" style=\"width: 100%; ' +\n",
       "        'text-align: center; padding: 3px;\"/>');\n",
       "    titlebar.append(titletext)\n",
       "    this.root.append(titlebar);\n",
       "    this.header = titletext[0];\n",
       "}\n",
       "\n",
       "\n",
       "\n",
       "mpl.figure.prototype._canvas_extra_style = function(canvas_div) {\n",
       "\n",
       "}\n",
       "\n",
       "\n",
       "mpl.figure.prototype._root_extra_style = function(canvas_div) {\n",
       "\n",
       "}\n",
       "\n",
       "mpl.figure.prototype._init_canvas = function() {\n",
       "    var fig = this;\n",
       "\n",
       "    var canvas_div = $('<div/>');\n",
       "\n",
       "    canvas_div.attr('style', 'position: relative; clear: both; outline: 0');\n",
       "\n",
       "    function canvas_keyboard_event(event) {\n",
       "        return fig.key_event(event, event['data']);\n",
       "    }\n",
       "\n",
       "    canvas_div.keydown('key_press', canvas_keyboard_event);\n",
       "    canvas_div.keyup('key_release', canvas_keyboard_event);\n",
       "    this.canvas_div = canvas_div\n",
       "    this._canvas_extra_style(canvas_div)\n",
       "    this.root.append(canvas_div);\n",
       "\n",
       "    var canvas = $('<canvas/>');\n",
       "    canvas.addClass('mpl-canvas');\n",
       "    canvas.attr('style', \"left: 0; top: 0; z-index: 0; outline: 0\")\n",
       "\n",
       "    this.canvas = canvas[0];\n",
       "    this.context = canvas[0].getContext(\"2d\");\n",
       "\n",
       "    var rubberband = $('<canvas/>');\n",
       "    rubberband.attr('style', \"position: absolute; left: 0; top: 0; z-index: 1;\")\n",
       "\n",
       "    var pass_mouse_events = true;\n",
       "\n",
       "    canvas_div.resizable({\n",
       "        start: function(event, ui) {\n",
       "            pass_mouse_events = false;\n",
       "        },\n",
       "        resize: function(event, ui) {\n",
       "            fig.request_resize(ui.size.width, ui.size.height);\n",
       "        },\n",
       "        stop: function(event, ui) {\n",
       "            pass_mouse_events = true;\n",
       "            fig.request_resize(ui.size.width, ui.size.height);\n",
       "        },\n",
       "    });\n",
       "\n",
       "    function mouse_event_fn(event) {\n",
       "        if (pass_mouse_events)\n",
       "            return fig.mouse_event(event, event['data']);\n",
       "    }\n",
       "\n",
       "    rubberband.mousedown('button_press', mouse_event_fn);\n",
       "    rubberband.mouseup('button_release', mouse_event_fn);\n",
       "    // Throttle sequential mouse events to 1 every 20ms.\n",
       "    rubberband.mousemove('motion_notify', mouse_event_fn);\n",
       "\n",
       "    rubberband.mouseenter('figure_enter', mouse_event_fn);\n",
       "    rubberband.mouseleave('figure_leave', mouse_event_fn);\n",
       "\n",
       "    canvas_div.on(\"wheel\", function (event) {\n",
       "        event = event.originalEvent;\n",
       "        event['data'] = 'scroll'\n",
       "        if (event.deltaY < 0) {\n",
       "            event.step = 1;\n",
       "        } else {\n",
       "            event.step = -1;\n",
       "        }\n",
       "        mouse_event_fn(event);\n",
       "    });\n",
       "\n",
       "    canvas_div.append(canvas);\n",
       "    canvas_div.append(rubberband);\n",
       "\n",
       "    this.rubberband = rubberband;\n",
       "    this.rubberband_canvas = rubberband[0];\n",
       "    this.rubberband_context = rubberband[0].getContext(\"2d\");\n",
       "    this.rubberband_context.strokeStyle = \"#000000\";\n",
       "\n",
       "    this._resize_canvas = function(width, height) {\n",
       "        // Keep the size of the canvas, canvas container, and rubber band\n",
       "        // canvas in synch.\n",
       "        canvas_div.css('width', width)\n",
       "        canvas_div.css('height', height)\n",
       "\n",
       "        canvas.attr('width', width);\n",
       "        canvas.attr('height', height);\n",
       "\n",
       "        rubberband.attr('width', width);\n",
       "        rubberband.attr('height', height);\n",
       "    }\n",
       "\n",
       "    // Set the figure to an initial 600x600px, this will subsequently be updated\n",
       "    // upon first draw.\n",
       "    this._resize_canvas(600, 600);\n",
       "\n",
       "    // Disable right mouse context menu.\n",
       "    $(this.rubberband_canvas).bind(\"contextmenu\",function(e){\n",
       "        return false;\n",
       "    });\n",
       "\n",
       "    function set_focus () {\n",
       "        canvas.focus();\n",
       "        canvas_div.focus();\n",
       "    }\n",
       "\n",
       "    window.setTimeout(set_focus, 100);\n",
       "}\n",
       "\n",
       "mpl.figure.prototype._init_toolbar = function() {\n",
       "    var fig = this;\n",
       "\n",
       "    var nav_element = $('<div/>')\n",
       "    nav_element.attr('style', 'width: 100%');\n",
       "    this.root.append(nav_element);\n",
       "\n",
       "    // Define a callback function for later on.\n",
       "    function toolbar_event(event) {\n",
       "        return fig.toolbar_button_onclick(event['data']);\n",
       "    }\n",
       "    function toolbar_mouse_event(event) {\n",
       "        return fig.toolbar_button_onmouseover(event['data']);\n",
       "    }\n",
       "\n",
       "    for(var toolbar_ind in mpl.toolbar_items) {\n",
       "        var name = mpl.toolbar_items[toolbar_ind][0];\n",
       "        var tooltip = mpl.toolbar_items[toolbar_ind][1];\n",
       "        var image = mpl.toolbar_items[toolbar_ind][2];\n",
       "        var method_name = mpl.toolbar_items[toolbar_ind][3];\n",
       "\n",
       "        if (!name) {\n",
       "            // put a spacer in here.\n",
       "            continue;\n",
       "        }\n",
       "        var button = $('<button/>');\n",
       "        button.addClass('ui-button ui-widget ui-state-default ui-corner-all ' +\n",
       "                        'ui-button-icon-only');\n",
       "        button.attr('role', 'button');\n",
       "        button.attr('aria-disabled', 'false');\n",
       "        button.click(method_name, toolbar_event);\n",
       "        button.mouseover(tooltip, toolbar_mouse_event);\n",
       "\n",
       "        var icon_img = $('<span/>');\n",
       "        icon_img.addClass('ui-button-icon-primary ui-icon');\n",
       "        icon_img.addClass(image);\n",
       "        icon_img.addClass('ui-corner-all');\n",
       "\n",
       "        var tooltip_span = $('<span/>');\n",
       "        tooltip_span.addClass('ui-button-text');\n",
       "        tooltip_span.html(tooltip);\n",
       "\n",
       "        button.append(icon_img);\n",
       "        button.append(tooltip_span);\n",
       "\n",
       "        nav_element.append(button);\n",
       "    }\n",
       "\n",
       "    var fmt_picker_span = $('<span/>');\n",
       "\n",
       "    var fmt_picker = $('<select/>');\n",
       "    fmt_picker.addClass('mpl-toolbar-option ui-widget ui-widget-content');\n",
       "    fmt_picker_span.append(fmt_picker);\n",
       "    nav_element.append(fmt_picker_span);\n",
       "    this.format_dropdown = fmt_picker[0];\n",
       "\n",
       "    for (var ind in mpl.extensions) {\n",
       "        var fmt = mpl.extensions[ind];\n",
       "        var option = $(\n",
       "            '<option/>', {selected: fmt === mpl.default_extension}).html(fmt);\n",
       "        fmt_picker.append(option)\n",
       "    }\n",
       "\n",
       "    // Add hover states to the ui-buttons\n",
       "    $( \".ui-button\" ).hover(\n",
       "        function() { $(this).addClass(\"ui-state-hover\");},\n",
       "        function() { $(this).removeClass(\"ui-state-hover\");}\n",
       "    );\n",
       "\n",
       "    var status_bar = $('<span class=\"mpl-message\"/>');\n",
       "    nav_element.append(status_bar);\n",
       "    this.message = status_bar[0];\n",
       "}\n",
       "\n",
       "mpl.figure.prototype.request_resize = function(x_pixels, y_pixels) {\n",
       "    // Request matplotlib to resize the figure. Matplotlib will then trigger a resize in the client,\n",
       "    // which will in turn request a refresh of the image.\n",
       "    this.send_message('resize', {'width': x_pixels, 'height': y_pixels});\n",
       "}\n",
       "\n",
       "mpl.figure.prototype.send_message = function(type, properties) {\n",
       "    properties['type'] = type;\n",
       "    properties['figure_id'] = this.id;\n",
       "    this.ws.send(JSON.stringify(properties));\n",
       "}\n",
       "\n",
       "mpl.figure.prototype.send_draw_message = function() {\n",
       "    if (!this.waiting) {\n",
       "        this.waiting = true;\n",
       "        this.ws.send(JSON.stringify({type: \"draw\", figure_id: this.id}));\n",
       "    }\n",
       "}\n",
       "\n",
       "\n",
       "mpl.figure.prototype.handle_save = function(fig, msg) {\n",
       "    var format_dropdown = fig.format_dropdown;\n",
       "    var format = format_dropdown.options[format_dropdown.selectedIndex].value;\n",
       "    fig.ondownload(fig, format);\n",
       "}\n",
       "\n",
       "\n",
       "mpl.figure.prototype.handle_resize = function(fig, msg) {\n",
       "    var size = msg['size'];\n",
       "    if (size[0] != fig.canvas.width || size[1] != fig.canvas.height) {\n",
       "        fig._resize_canvas(size[0], size[1]);\n",
       "        fig.send_message(\"refresh\", {});\n",
       "    };\n",
       "}\n",
       "\n",
       "mpl.figure.prototype.handle_rubberband = function(fig, msg) {\n",
       "    var x0 = msg['x0'];\n",
       "    var y0 = fig.canvas.height - msg['y0'];\n",
       "    var x1 = msg['x1'];\n",
       "    var y1 = fig.canvas.height - msg['y1'];\n",
       "    x0 = Math.floor(x0) + 0.5;\n",
       "    y0 = Math.floor(y0) + 0.5;\n",
       "    x1 = Math.floor(x1) + 0.5;\n",
       "    y1 = Math.floor(y1) + 0.5;\n",
       "    var min_x = Math.min(x0, x1);\n",
       "    var min_y = Math.min(y0, y1);\n",
       "    var width = Math.abs(x1 - x0);\n",
       "    var height = Math.abs(y1 - y0);\n",
       "\n",
       "    fig.rubberband_context.clearRect(\n",
       "        0, 0, fig.canvas.width, fig.canvas.height);\n",
       "\n",
       "    fig.rubberband_context.strokeRect(min_x, min_y, width, height);\n",
       "}\n",
       "\n",
       "mpl.figure.prototype.handle_figure_label = function(fig, msg) {\n",
       "    // Updates the figure title.\n",
       "    fig.header.textContent = msg['label'];\n",
       "}\n",
       "\n",
       "mpl.figure.prototype.handle_cursor = function(fig, msg) {\n",
       "    var cursor = msg['cursor'];\n",
       "    switch(cursor)\n",
       "    {\n",
       "    case 0:\n",
       "        cursor = 'pointer';\n",
       "        break;\n",
       "    case 1:\n",
       "        cursor = 'default';\n",
       "        break;\n",
       "    case 2:\n",
       "        cursor = 'crosshair';\n",
       "        break;\n",
       "    case 3:\n",
       "        cursor = 'move';\n",
       "        break;\n",
       "    }\n",
       "    fig.rubberband_canvas.style.cursor = cursor;\n",
       "}\n",
       "\n",
       "mpl.figure.prototype.handle_message = function(fig, msg) {\n",
       "    fig.message.textContent = msg['message'];\n",
       "}\n",
       "\n",
       "mpl.figure.prototype.handle_draw = function(fig, msg) {\n",
       "    // Request the server to send over a new figure.\n",
       "    fig.send_draw_message();\n",
       "}\n",
       "\n",
       "mpl.figure.prototype.handle_image_mode = function(fig, msg) {\n",
       "    fig.image_mode = msg['mode'];\n",
       "}\n",
       "\n",
       "mpl.figure.prototype.updated_canvas_event = function() {\n",
       "    // Called whenever the canvas gets updated.\n",
       "    this.send_message(\"ack\", {});\n",
       "}\n",
       "\n",
       "// A function to construct a web socket function for onmessage handling.\n",
       "// Called in the figure constructor.\n",
       "mpl.figure.prototype._make_on_message_function = function(fig) {\n",
       "    return function socket_on_message(evt) {\n",
       "        if (evt.data instanceof Blob) {\n",
       "            /* FIXME: We get \"Resource interpreted as Image but\n",
       "             * transferred with MIME type text/plain:\" errors on\n",
       "             * Chrome.  But how to set the MIME type?  It doesn't seem\n",
       "             * to be part of the websocket stream */\n",
       "            evt.data.type = \"image/png\";\n",
       "\n",
       "            /* Free the memory for the previous frames */\n",
       "            if (fig.imageObj.src) {\n",
       "                (window.URL || window.webkitURL).revokeObjectURL(\n",
       "                    fig.imageObj.src);\n",
       "            }\n",
       "\n",
       "            fig.imageObj.src = (window.URL || window.webkitURL).createObjectURL(\n",
       "                evt.data);\n",
       "            fig.updated_canvas_event();\n",
       "            fig.waiting = false;\n",
       "            return;\n",
       "        }\n",
       "        else if (typeof evt.data === 'string' && evt.data.slice(0, 21) == \"data:image/png;base64\") {\n",
       "            fig.imageObj.src = evt.data;\n",
       "            fig.updated_canvas_event();\n",
       "            fig.waiting = false;\n",
       "            return;\n",
       "        }\n",
       "\n",
       "        var msg = JSON.parse(evt.data);\n",
       "        var msg_type = msg['type'];\n",
       "\n",
       "        // Call the  \"handle_{type}\" callback, which takes\n",
       "        // the figure and JSON message as its only arguments.\n",
       "        try {\n",
       "            var callback = fig[\"handle_\" + msg_type];\n",
       "        } catch (e) {\n",
       "            console.log(\"No handler for the '\" + msg_type + \"' message type: \", msg);\n",
       "            return;\n",
       "        }\n",
       "\n",
       "        if (callback) {\n",
       "            try {\n",
       "                // console.log(\"Handling '\" + msg_type + \"' message: \", msg);\n",
       "                callback(fig, msg);\n",
       "            } catch (e) {\n",
       "                console.log(\"Exception inside the 'handler_\" + msg_type + \"' callback:\", e, e.stack, msg);\n",
       "            }\n",
       "        }\n",
       "    };\n",
       "}\n",
       "\n",
       "// from http://stackoverflow.com/questions/1114465/getting-mouse-location-in-canvas\n",
       "mpl.findpos = function(e) {\n",
       "    //this section is from http://www.quirksmode.org/js/events_properties.html\n",
       "    var targ;\n",
       "    if (!e)\n",
       "        e = window.event;\n",
       "    if (e.target)\n",
       "        targ = e.target;\n",
       "    else if (e.srcElement)\n",
       "        targ = e.srcElement;\n",
       "    if (targ.nodeType == 3) // defeat Safari bug\n",
       "        targ = targ.parentNode;\n",
       "\n",
       "    // jQuery normalizes the pageX and pageY\n",
       "    // pageX,Y are the mouse positions relative to the document\n",
       "    // offset() returns the position of the element relative to the document\n",
       "    var x = e.pageX - $(targ).offset().left;\n",
       "    var y = e.pageY - $(targ).offset().top;\n",
       "\n",
       "    return {\"x\": x, \"y\": y};\n",
       "};\n",
       "\n",
       "/*\n",
       " * return a copy of an object with only non-object keys\n",
       " * we need this to avoid circular references\n",
       " * http://stackoverflow.com/a/24161582/3208463\n",
       " */\n",
       "function simpleKeys (original) {\n",
       "  return Object.keys(original).reduce(function (obj, key) {\n",
       "    if (typeof original[key] !== 'object')\n",
       "        obj[key] = original[key]\n",
       "    return obj;\n",
       "  }, {});\n",
       "}\n",
       "\n",
       "mpl.figure.prototype.mouse_event = function(event, name) {\n",
       "    var canvas_pos = mpl.findpos(event)\n",
       "\n",
       "    if (name === 'button_press')\n",
       "    {\n",
       "        this.canvas.focus();\n",
       "        this.canvas_div.focus();\n",
       "    }\n",
       "\n",
       "    var x = canvas_pos.x;\n",
       "    var y = canvas_pos.y;\n",
       "\n",
       "    this.send_message(name, {x: x, y: y, button: event.button,\n",
       "                             step: event.step,\n",
       "                             guiEvent: simpleKeys(event)});\n",
       "\n",
       "    /* This prevents the web browser from automatically changing to\n",
       "     * the text insertion cursor when the button is pressed.  We want\n",
       "     * to control all of the cursor setting manually through the\n",
       "     * 'cursor' event from matplotlib */\n",
       "    event.preventDefault();\n",
       "    return false;\n",
       "}\n",
       "\n",
       "mpl.figure.prototype._key_event_extra = function(event, name) {\n",
       "    // Handle any extra behaviour associated with a key event\n",
       "}\n",
       "\n",
       "mpl.figure.prototype.key_event = function(event, name) {\n",
       "\n",
       "    // Prevent repeat events\n",
       "    if (name == 'key_press')\n",
       "    {\n",
       "        if (event.which === this._key)\n",
       "            return;\n",
       "        else\n",
       "            this._key = event.which;\n",
       "    }\n",
       "    if (name == 'key_release')\n",
       "        this._key = null;\n",
       "\n",
       "    var value = '';\n",
       "    if (event.ctrlKey && event.which != 17)\n",
       "        value += \"ctrl+\";\n",
       "    if (event.altKey && event.which != 18)\n",
       "        value += \"alt+\";\n",
       "    if (event.shiftKey && event.which != 16)\n",
       "        value += \"shift+\";\n",
       "\n",
       "    value += 'k';\n",
       "    value += event.which.toString();\n",
       "\n",
       "    this._key_event_extra(event, name);\n",
       "\n",
       "    this.send_message(name, {key: value,\n",
       "                             guiEvent: simpleKeys(event)});\n",
       "    return false;\n",
       "}\n",
       "\n",
       "mpl.figure.prototype.toolbar_button_onclick = function(name) {\n",
       "    if (name == 'download') {\n",
       "        this.handle_save(this, null);\n",
       "    } else {\n",
       "        this.send_message(\"toolbar_button\", {name: name});\n",
       "    }\n",
       "};\n",
       "\n",
       "mpl.figure.prototype.toolbar_button_onmouseover = function(tooltip) {\n",
       "    this.message.textContent = tooltip;\n",
       "};\n",
       "mpl.toolbar_items = [[\"Home\", \"Reset original view\", \"fa fa-home icon-home\", \"home\"], [\"Back\", \"Back to  previous view\", \"fa fa-arrow-left icon-arrow-left\", \"back\"], [\"Forward\", \"Forward to next view\", \"fa fa-arrow-right icon-arrow-right\", \"forward\"], [\"\", \"\", \"\", \"\"], [\"Pan\", \"Pan axes with left mouse, zoom with right\", \"fa fa-arrows icon-move\", \"pan\"], [\"Zoom\", \"Zoom to rectangle\", \"fa fa-square-o icon-check-empty\", \"zoom\"], [\"\", \"\", \"\", \"\"], [\"Download\", \"Download plot\", \"fa fa-floppy-o icon-save\", \"download\"]];\n",
       "\n",
       "mpl.extensions = [\"eps\", \"pdf\", \"png\", \"ps\", \"raw\", \"svg\"];\n",
       "\n",
       "mpl.default_extension = \"png\";var comm_websocket_adapter = function(comm) {\n",
       "    // Create a \"websocket\"-like object which calls the given IPython comm\n",
       "    // object with the appropriate methods. Currently this is a non binary\n",
       "    // socket, so there is still some room for performance tuning.\n",
       "    var ws = {};\n",
       "\n",
       "    ws.close = function() {\n",
       "        comm.close()\n",
       "    };\n",
       "    ws.send = function(m) {\n",
       "        //console.log('sending', m);\n",
       "        comm.send(m);\n",
       "    };\n",
       "    // Register the callback with on_msg.\n",
       "    comm.on_msg(function(msg) {\n",
       "        //console.log('receiving', msg['content']['data'], msg);\n",
       "        // Pass the mpl event to the overriden (by mpl) onmessage function.\n",
       "        ws.onmessage(msg['content']['data'])\n",
       "    });\n",
       "    return ws;\n",
       "}\n",
       "\n",
       "mpl.mpl_figure_comm = function(comm, msg) {\n",
       "    // This is the function which gets called when the mpl process\n",
       "    // starts-up an IPython Comm through the \"matplotlib\" channel.\n",
       "\n",
       "    var id = msg.content.data.id;\n",
       "    // Get hold of the div created by the display call when the Comm\n",
       "    // socket was opened in Python.\n",
       "    var element = $(\"#\" + id);\n",
       "    var ws_proxy = comm_websocket_adapter(comm)\n",
       "\n",
       "    function ondownload(figure, format) {\n",
       "        window.open(figure.imageObj.src);\n",
       "    }\n",
       "\n",
       "    var fig = new mpl.figure(id, ws_proxy,\n",
       "                           ondownload,\n",
       "                           element.get(0));\n",
       "\n",
       "    // Call onopen now - mpl needs it, as it is assuming we've passed it a real\n",
       "    // web socket which is closed, not our websocket->open comm proxy.\n",
       "    ws_proxy.onopen();\n",
       "\n",
       "    fig.parent_element = element.get(0);\n",
       "    fig.cell_info = mpl.find_output_cell(\"<div id='\" + id + \"'></div>\");\n",
       "    if (!fig.cell_info) {\n",
       "        console.error(\"Failed to find cell for figure\", id, fig);\n",
       "        return;\n",
       "    }\n",
       "\n",
       "    var output_index = fig.cell_info[2]\n",
       "    var cell = fig.cell_info[0];\n",
       "\n",
       "};\n",
       "\n",
       "mpl.figure.prototype.handle_close = function(fig, msg) {\n",
       "    fig.root.unbind('remove')\n",
       "\n",
       "    // Update the output cell to use the data from the current canvas.\n",
       "    fig.push_to_output();\n",
       "    var dataURL = fig.canvas.toDataURL();\n",
       "    // Re-enable the keyboard manager in IPython - without this line, in FF,\n",
       "    // the notebook keyboard shortcuts fail.\n",
       "    IPython.keyboard_manager.enable()\n",
       "    $(fig.parent_element).html('<img src=\"' + dataURL + '\">');\n",
       "    fig.close_ws(fig, msg);\n",
       "}\n",
       "\n",
       "mpl.figure.prototype.close_ws = function(fig, msg){\n",
       "    fig.send_message('closing', msg);\n",
       "    // fig.ws.close()\n",
       "}\n",
       "\n",
       "mpl.figure.prototype.push_to_output = function(remove_interactive) {\n",
       "    // Turn the data on the canvas into data in the output cell.\n",
       "    var dataURL = this.canvas.toDataURL();\n",
       "    this.cell_info[1]['text/html'] = '<img src=\"' + dataURL + '\">';\n",
       "}\n",
       "\n",
       "mpl.figure.prototype.updated_canvas_event = function() {\n",
       "    // Tell IPython that the notebook contents must change.\n",
       "    IPython.notebook.set_dirty(true);\n",
       "    this.send_message(\"ack\", {});\n",
       "    var fig = this;\n",
       "    // Wait a second, then push the new image to the DOM so\n",
       "    // that it is saved nicely (might be nice to debounce this).\n",
       "    setTimeout(function () { fig.push_to_output() }, 1000);\n",
       "}\n",
       "\n",
       "mpl.figure.prototype._init_toolbar = function() {\n",
       "    var fig = this;\n",
       "\n",
       "    var nav_element = $('<div/>')\n",
       "    nav_element.attr('style', 'width: 100%');\n",
       "    this.root.append(nav_element);\n",
       "\n",
       "    // Define a callback function for later on.\n",
       "    function toolbar_event(event) {\n",
       "        return fig.toolbar_button_onclick(event['data']);\n",
       "    }\n",
       "    function toolbar_mouse_event(event) {\n",
       "        return fig.toolbar_button_onmouseover(event['data']);\n",
       "    }\n",
       "\n",
       "    for(var toolbar_ind in mpl.toolbar_items){\n",
       "        var name = mpl.toolbar_items[toolbar_ind][0];\n",
       "        var tooltip = mpl.toolbar_items[toolbar_ind][1];\n",
       "        var image = mpl.toolbar_items[toolbar_ind][2];\n",
       "        var method_name = mpl.toolbar_items[toolbar_ind][3];\n",
       "\n",
       "        if (!name) { continue; };\n",
       "\n",
       "        var button = $('<button class=\"btn btn-default\" href=\"#\" title=\"' + name + '\"><i class=\"fa ' + image + ' fa-lg\"></i></button>');\n",
       "        button.click(method_name, toolbar_event);\n",
       "        button.mouseover(tooltip, toolbar_mouse_event);\n",
       "        nav_element.append(button);\n",
       "    }\n",
       "\n",
       "    // Add the status bar.\n",
       "    var status_bar = $('<span class=\"mpl-message\" style=\"text-align:right; float: right;\"/>');\n",
       "    nav_element.append(status_bar);\n",
       "    this.message = status_bar[0];\n",
       "\n",
       "    // Add the close button to the window.\n",
       "    var buttongrp = $('<div class=\"btn-group inline pull-right\"></div>');\n",
       "    var button = $('<button class=\"btn btn-mini btn-primary\" href=\"#\" title=\"Stop Interaction\"><i class=\"fa fa-power-off icon-remove icon-large\"></i></button>');\n",
       "    button.click(function (evt) { fig.handle_close(fig, {}); } );\n",
       "    button.mouseover('Stop Interaction', toolbar_mouse_event);\n",
       "    buttongrp.append(button);\n",
       "    var titlebar = this.root.find($('.ui-dialog-titlebar'));\n",
       "    titlebar.prepend(buttongrp);\n",
       "}\n",
       "\n",
       "mpl.figure.prototype._root_extra_style = function(el){\n",
       "    var fig = this\n",
       "    el.on(\"remove\", function(){\n",
       "\tfig.close_ws(fig, {});\n",
       "    });\n",
       "}\n",
       "\n",
       "mpl.figure.prototype._canvas_extra_style = function(el){\n",
       "    // this is important to make the div 'focusable\n",
       "    el.attr('tabindex', 0)\n",
       "    // reach out to IPython and tell the keyboard manager to turn it's self\n",
       "    // off when our div gets focus\n",
       "\n",
       "    // location in version 3\n",
       "    if (IPython.notebook.keyboard_manager) {\n",
       "        IPython.notebook.keyboard_manager.register_events(el);\n",
       "    }\n",
       "    else {\n",
       "        // location in version 2\n",
       "        IPython.keyboard_manager.register_events(el);\n",
       "    }\n",
       "\n",
       "}\n",
       "\n",
       "mpl.figure.prototype._key_event_extra = function(event, name) {\n",
       "    var manager = IPython.notebook.keyboard_manager;\n",
       "    if (!manager)\n",
       "        manager = IPython.keyboard_manager;\n",
       "\n",
       "    // Check for shift+enter\n",
       "    if (event.shiftKey && event.which == 13) {\n",
       "        this.canvas_div.blur();\n",
       "        event.shiftKey = false;\n",
       "        // Send a \"J\" for go to next cell\n",
       "        event.which = 74;\n",
       "        event.keyCode = 74;\n",
       "        manager.command_mode();\n",
       "        manager.handle_keydown(event);\n",
       "    }\n",
       "}\n",
       "\n",
       "mpl.figure.prototype.handle_save = function(fig, msg) {\n",
       "    fig.ondownload(fig, null);\n",
       "}\n",
       "\n",
       "\n",
       "mpl.find_output_cell = function(html_output) {\n",
       "    // Return the cell and output element which can be found *uniquely* in the notebook.\n",
       "    // Note - this is a bit hacky, but it is done because the \"notebook_saving.Notebook\"\n",
       "    // IPython event is triggered only after the cells have been serialised, which for\n",
       "    // our purposes (turning an active figure into a static one), is too late.\n",
       "    var cells = IPython.notebook.get_cells();\n",
       "    var ncells = cells.length;\n",
       "    for (var i=0; i<ncells; i++) {\n",
       "        var cell = cells[i];\n",
       "        if (cell.cell_type === 'code'){\n",
       "            for (var j=0; j<cell.output_area.outputs.length; j++) {\n",
       "                var data = cell.output_area.outputs[j];\n",
       "                if (data.data) {\n",
       "                    // IPython >= 3 moved mimebundle to data attribute of output\n",
       "                    data = data.data;\n",
       "                }\n",
       "                if (data['text/html'] == html_output) {\n",
       "                    return [cell, data, j];\n",
       "                }\n",
       "            }\n",
       "        }\n",
       "    }\n",
       "}\n",
       "\n",
       "// Register the function which deals with the matplotlib target/channel.\n",
       "// The kernel may be null if the page has been refreshed.\n",
       "if (IPython.notebook.kernel != null) {\n",
       "    IPython.notebook.kernel.comm_manager.register_target('matplotlib', mpl.mpl_figure_comm);\n",
       "}\n"
      ],
      "text/plain": [
       "<IPython.core.display.Javascript object>"
      ]
     },
     "metadata": {},
     "output_type": "display_data"
    },
    {
     "data": {
      "text/html": [
       "<img src=\"data:image/png;base64,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\">"
      ],
      "text/plain": [
       "<IPython.core.display.HTML object>"
      ]
     },
     "metadata": {},
     "output_type": "display_data"
    },
    {
     "data": {
      "text/plain": [
       "[<matplotlib.lines.Line2D at 0x7fc77255e990>]"
      ]
     },
     "execution_count": 12,
     "metadata": {},
     "output_type": "execute_result"
    }
   ],
   "source": [
    "# check\n",
    "import histogram.hdf as hh\n",
    "ie = hh.load(\"out/ienergy.h5\")\n",
    "plt.plot(ie.energy, ie.I)"
   ]
  },
  {
   "cell_type": "markdown",
   "metadata": {},
   "source": [
    "## Step 2.5 (Alternative: Full Beam Simulation)"
   ]
  },
  {
   "cell_type": "code",
   "execution_count": 39,
   "metadata": {
    "collapsed": false
   },
   "outputs": [
    {
     "name": "stdout",
     "output_type": "stream",
     "text": [
      "/SNS/users/p63/mcvine/06-21-16-isolated-Fe-plaquettes\n"
     ]
    }
   ],
   "source": [
    "cd {workdir}"
   ]
  },
  {
   "cell_type": "code",
   "execution_count": 40,
   "metadata": {
    "collapsed": false
   },
   "outputs": [
    {
     "name": "stdout",
     "output_type": "stream",
     "text": [
      "/SNS/users/p63/mcvine/06-21-16-isolated-Fe-plaquettes/beamSimulation\n"
     ]
    }
   ],
   "source": [
    "# change to beam simulation directory\n",
    "%cd {workdir}/beamSimulation"
   ]
  },
  {
   "cell_type": "code",
   "execution_count": null,
   "metadata": {
    "collapsed": true
   },
   "outputs": [],
   "source": []
  },
  {
   "cell_type": "markdown",
   "metadata": {},
   "source": [
    "## Step 3: Create sample assembly"
   ]
  },
  {
   "cell_type": "code",
   "execution_count": 28,
   "metadata": {
    "collapsed": false
   },
   "outputs": [
    {
     "name": "stdout",
     "output_type": "stream",
     "text": [
      "/SNS/users/p63/mcvine/06-21-16-isolated-Fe-plaquettes/samples/X/sampleassembly\n"
     ]
    }
   ],
   "source": [
    "%cd \"{workdir}/samples/X/sampleassembly\""
   ]
  },
  {
   "cell_type": "code",
   "execution_count": 14,
   "metadata": {
    "collapsed": true
   },
   "outputs": [],
   "source": [
    "%cp -a /SNS/users/lj7/simulations/samples/spinwave/* ."
   ]
  },
  {
   "cell_type": "markdown",
   "metadata": {},
   "source": [
    "Note: xyz data needed if I want to add phonon kernels"
   ]
  },
  {
   "cell_type": "code",
   "execution_count": 15,
   "metadata": {
    "collapsed": false
   },
   "outputs": [
    {
     "name": "stdout",
     "output_type": "stream",
     "text": [
      "Overwriting ./X.xyz\n"
     ]
    }
   ],
   "source": [
    "%%file ./X.xyz\n",
    "8\n",
    "3 0 0    0 3 0    0 0 3\n",
    "V 0 0 0\n",
    "V 0 0 0\n",
    "V 0 0 0\n",
    "V 0 0 0\n",
    "V 0 0 0\n",
    "V 0 0 0\n",
    "V 0 0 0\n",
    "V 0 0 0"
   ]
  },
  {
   "cell_type": "code",
   "execution_count": 16,
   "metadata": {
    "collapsed": false
   },
   "outputs": [
    {
     "data": {
      "text/plain": [
       "(array([ 2.0943951,  0.       ,  0.       ]),\n",
       " array([ 0.       ,  2.0943951,  0.       ]),\n",
       " array([ 0.       ,  0.       ,  2.0943951]))"
      ]
     },
     "execution_count": 16,
     "metadata": {},
     "output_type": "execute_result"
    }
   ],
   "source": [
    "a,b,c=3,3,3\n",
    "\n",
    "from numpy import sin, cos, deg2rad\n",
    "a1 = [a, 0, 0]\n",
    "a2 = [0, b, 0]\n",
    "a3 = [0, 0, c]\n",
    "\n",
    "twopi = 2*np.pi\n",
    "f = twopi/np.dot(a1, np.cross(a2, a3))\n",
    "b1 = np.cross(a2,a3) * f\n",
    "b2 = np.cross(a3,a1) * f\n",
    "b3 = np.cross(a1,a2) * f\n",
    "b1,b2,b3"
   ]
  },
  {
   "cell_type": "markdown",
   "metadata": {},
   "source": [
    "#### Orientation of the kernel\n",
    "Here we need to use the convention that z is along beam, y vertical up.\n",
    "The kernel has its own cartesian axis e’x e’y e’z. Because we know\n",
    "u = 102 v = 100\n",
    ", we have the basis vectors of the instrument coordinate system\n",
    "\n",
    "    ez along b1 + 2*b3\n",
    "    ex along b1\n",
    "    \n",
    "\n",
    "So we have them in the reciprocal cartesian axis"
   ]
  },
  {
   "cell_type": "code",
   "execution_count": 18,
   "metadata": {
    "collapsed": false
   },
   "outputs": [
    {
     "data": {
      "text/plain": [
       "(array([ 0.89442719,  0.        , -0.4472136 ]),\n",
       " array([ 0.,  1.,  0.]),\n",
       " array([ 0.4472136 ,  0.        ,  0.89442719]))"
      ]
     },
     "execution_count": 18,
     "metadata": {},
     "output_type": "execute_result"
    }
   ],
   "source": [
    "ez = b1 + 2*b3; ez /= np.linalg.norm(ez)\n",
    "ex1 = b1\n",
    "ey = np.cross(ez, ex1); ey/=np.linalg.norm(ey)\n",
    "ex = np.cross(ey, ez)\n",
    "ex, ey, ez"
   ]
  },
  {
   "cell_type": "markdown",
   "metadata": {},
   "source": [
    "The rotation matrix is define as\n",
    "```\n",
    "    ex.ex’ ex.ey’ ex.ez’ \n",
    "R = ey.ex’ ey.ey’ ey.ez’\n",
    "    ez.ex’ ez.ey’ ez.ez’\n",
    "```\n",
    "So"
   ]
  },
  {
   "cell_type": "code",
   "execution_count": 19,
   "metadata": {
    "collapsed": false
   },
   "outputs": [
    {
     "data": {
      "text/plain": [
       "(array([[ 0.89442719,  0.        , -0.4472136 ],\n",
       "        [ 0.        ,  1.        ,  0.        ],\n",
       "        [ 0.4472136 ,  0.        ,  0.89442719]]),\n",
       " array([ 0.89442719,  0.        , -0.4472136 ,  0.        ,  1.        ,\n",
       "         0.        ,  0.4472136 ,  0.        ,  0.89442719]))"
      ]
     },
     "execution_count": 19,
     "metadata": {},
     "output_type": "execute_result"
    }
   ],
   "source": [
    "R = np.array([ ex, ey, ez ])\n",
    "Rflat = R.copy(); Rflat.shape = -1,\n",
    "R, Rflat"
   ]
  },
  {
   "cell_type": "markdown",
   "metadata": {},
   "source": [
    "Now we add an extra kernel parameter:"
   ]
  },
  {
   "cell_type": "code",
   "execution_count": 20,
   "metadata": {
    "collapsed": false
   },
   "outputs": [
    {
     "data": {
      "text/plain": [
       "'orientation=\"0.894427191,0.0,-0.4472135955,0.0,1.0,0.0,0.4472135955,0.0,0.894427191\"'"
      ]
     },
     "execution_count": 20,
     "metadata": {},
     "output_type": "execute_result"
    }
   ],
   "source": [
    "'orientation=\"%s\"' % (','.join(str(e) for e in Rflat),)"
   ]
  },
  {
   "cell_type": "code",
   "execution_count": 29,
   "metadata": {
    "collapsed": false
   },
   "outputs": [
    {
     "name": "stdout",
     "output_type": "stream",
     "text": [
      "Overwriting ./X-scatterer.xml\n"
     ]
    }
   ],
   "source": [
    "%%file ./X-scatterer.xml\n",
    "<?xml version=\"1.0\"?>\n",
    "\n",
    "<!DOCTYPE scatterer>\n",
    "\n",
    "<!-- weights: absorption, scattering, transmission -->\n",
    "<homogeneous_scatterer \n",
    "  mcweights=\"0, 1, 0.1\"\n",
    "  max_multiplescattering_loops=\"3\"\n",
    "  >\n",
    "  \n",
    "  <KernelContainer average=\"yes\">\n",
    "    \n",
    "    <E_Q_Kernel \n",
    "\tE_Q=\"0\" \n",
    "\tS_Q=\"1\"\n",
    "\tQmin=\"0./angstrom\"\n",
    "\tQmax=\"16./angstrom\"\n",
    "\t/>\n",
    "    \n",
    "    <!--E_vQ_Kernel \n",
    "\tE_Q=\"pi:=3.1415926535897932; twopi:=2*pi; a:=3; b:=3; c:=3; \n",
    "    h:=a*Qx/twopi; k:=b*Qy/twopi; l:=c*Qz/twopi;\n",
    "    gamma_k:=0.5*(cos(2*pi*h)+cos(2*pi*k));\n",
    "    twoTheta:=0.200334842323;\n",
    "    40*sqrt( (1+gamma_k)*(1-gamma_k*cos(twoTheta) ) )\"\n",
    "\tS_Q=\"1\"\n",
    "\tEmax=\"81*meV\"\n",
    "\torientation=\"0.894427191,0.0,-0.4472135955,0.0,1.0,0.0,0.4472135955,0.0,0.894427191\"\n",
    "\t/>\n",
    "    -->\n",
    "    \n",
    "    <!--S has been scaled to 1.0-->\n",
    "    <E_vQ_Kernel\n",
    "    E_Q=\"S:=1.0; J_R:=54.0;\n",
    "    2.0*S*J_R\"\n",
    "    S_Q=\"1\"\n",
    "    Emax=\"109*meV\"\n",
    "    orientation=\"0.894427191,0.0,-0.4472135955,0.0,1.0,0.0,0.4472135955,0.0,0.894427191\"\n",
    "    />\n",
    "    \n",
    "    <!--S has been scaled to 1.0-->\n",
    "    <E_vQ_Kernel\n",
    "    E_Q=\"S:=1.0; J_L:=44.0;\n",
    "    2.0*S*J_L\"\n",
    "    S_Q=\"1\"\n",
    "    Emax=\"89*meV\"\n",
    "    orientation=\"0.894427191,0.0,-0.4472135955,0.0,1.0,0.0,0.4472135955,0.0,0.894427191\"\n",
    "    />\n",
    "    \n",
    "    <!--S has been scaled to 1.0-->\n",
    "    <E_vQ_Kernel\n",
    "    E_Q=\"S:=1.0; J_R:=54.0; J_L:=44.0;\n",
    "    2.0*S*(J_R+J_L)\"\n",
    "    S_Q=\"1\"\n",
    "    Emax=\"197*meV\"\n",
    "    orientation=\"0.894427191,0.0,-0.4472135955,0.0,1.0,0.0,0.4472135955,0.0,0.894427191\"\n",
    "    />\n",
    "    \n",
    "    \n",
    "    \n",
    "  </KernelContainer>\n",
    "  \n",
    "</homogeneous_scatterer>"
   ]
  },
  {
   "cell_type": "code",
   "execution_count": 22,
   "metadata": {
    "collapsed": false
   },
   "outputs": [
    {
     "name": "stdout",
     "output_type": "stream",
     "text": [
      "dispersion-expression  sampleassembly.xml  X-scatterer.xml  X.xyz\r\n"
     ]
    }
   ],
   "source": [
    "!ls"
   ]
  },
  {
   "cell_type": "markdown",
   "metadata": {},
   "source": [
    "## Step 4: Scattering"
   ]
  },
  {
   "cell_type": "code",
   "execution_count": 30,
   "metadata": {
    "collapsed": false
   },
   "outputs": [
    {
     "name": "stdout",
     "output_type": "stream",
     "text": [
      "/SNS/users/p63/mcvine/06-21-16-isolated-Fe-plaquettes/scattering\n"
     ]
    }
   ],
   "source": [
    "%cd \"{workdir}/scattering\""
   ]
  },
  {
   "cell_type": "code",
   "execution_count": 31,
   "metadata": {
    "collapsed": false
   },
   "outputs": [
    {
     "name": "stdout",
     "output_type": "stream",
     "text": [
      "scripts  sim.yml  template  work_30.0\r\n"
     ]
    }
   ],
   "source": [
    "!rsync -a ~lj7/simulations/mcvine_workflow/DGS/ARCS/single-crystal/* ./\n",
    "!ls"
   ]
  },
  {
   "cell_type": "code",
   "execution_count": 32,
   "metadata": {
    "collapsed": false
   },
   "outputs": [
    {
     "name": "stdout",
     "output_type": "stream",
     "text": [
      "scripts  sim.yml  template\r\n"
     ]
    }
   ],
   "source": [
    "!rm -R work_30.0\n",
    "!ls"
   ]
  },
  {
   "cell_type": "code",
   "execution_count": 25,
   "metadata": {
    "collapsed": false
   },
   "outputs": [
    {
     "name": "stdout",
     "output_type": "stream",
     "text": [
      "/SNS/users/p63/mcvine/06-21-16-isolated-Fe-plaquettes/scattering/template\n",
      "/SNS/users/p63/mcvine/06-21-16-isolated-Fe-plaquettes/scattering\n"
     ]
    }
   ],
   "source": [
    "%cd template\n",
    "\n",
    "!ln -s ../../samples/X/sampleassembly\n",
    "\n",
    "!ln -s ../../beam/100meV beam\n",
    "\n",
    "%cd .."
   ]
  },
  {
   "cell_type": "code",
   "execution_count": 26,
   "metadata": {
    "collapsed": false
   },
   "outputs": [
    {
     "name": "stdout",
     "output_type": "stream",
     "text": [
      "Writing sim.yml\n"
     ]
    }
   ],
   "source": [
    "%%file sim.yml\n",
    "\n",
    "cluster:\n",
    "  nodes: 10\n",
    "instrument:\n",
    "  name: arcs\n",
    "scatter:\n",
    "  ncount: 1e6\n",
    "  multiple_scattering: off\n",
    "  template: ./template"
   ]
  },
  {
   "cell_type": "code",
   "execution_count": 33,
   "metadata": {
    "collapsed": false
   },
   "outputs": [
    {
     "name": "stdout",
     "output_type": "stream",
     "text": [
      "SAMPLE_ANGLE=30.0 time ./scatter &> log.scatter\n",
      "time ./create-nxs &> log.create-nxs\n",
      "\n",
      "real\t2m40.539s\n",
      "user\t19m38.860s\n",
      "sys\t3m27.464s\n",
      "cp sim.nxs sim-30.0.nxs\n",
      "mcvine instruments arcs nxs populate_metadata --type=Ei --beam_outdir=beam/out --nxs=sim-30.0.nxs\n",
      "/SNS/users/lj7/software/miniconda2/envs/mcvine/lib/python2.7/site-packages/mcvine/deployment_info.py:41: UserWarning: Neither environment variable MCVINE_DIR nor DANSE_DIR was defined. Assumed that it is /SNS/users/lj7/software/miniconda2/envs/mcvine.\n",
      "  warnings.warn(msg)\n"
     ]
    }
   ],
   "source": [
    "# Test with only 1 angle\n",
    "!./scripts/sim.py --angle=30.0"
   ]
  },
  {
   "cell_type": "code",
   "execution_count": 34,
   "metadata": {
    "collapsed": true
   },
   "outputs": [],
   "source": [
    "# a script to create a submit script submit.sh\n",
    "# may need to create several scripts"
   ]
  },
  {
   "cell_type": "code",
   "execution_count": 35,
   "metadata": {
    "collapsed": false
   },
   "outputs": [
    {
     "name": "stdout",
     "output_type": "stream",
     "text": [
      "Writing create-submit.py\n"
     ]
    }
   ],
   "source": [
    "%%file create-submit.py\n",
    "import numpy as np\n",
    "ostream = open('submit.sh', 'wt')\n",
    "for a in np.arange(-90, 90.1, 3.):\n",
    "    ostream.write('./scripts/sim.py --angle=%s \\n' % a)\n",
    "    continue\n",
    "ostream.close()"
   ]
  },
  {
   "cell_type": "code",
   "execution_count": null,
   "metadata": {
    "collapsed": true
   },
   "outputs": [],
   "source": []
  }
 ],
 "metadata": {
  "kernelspec": {
   "display_name": "Python 2",
   "language": "python",
   "name": "python2"
  },
  "language_info": {
   "codemirror_mode": {
    "name": "ipython",
    "version": 2
   },
   "file_extension": ".py",
   "mimetype": "text/x-python",
   "name": "python",
   "nbconvert_exporter": "python",
   "pygments_lexer": "ipython2",
   "version": "2.7.11"
  },
  "widgets": {
   "state": {},
   "version": "1.1.2"
  }
 },
 "nbformat": 4,
 "nbformat_minor": 0
}
