{
 "cells": [
  {
   "cell_type": "code",
   "execution_count": 1,
   "metadata": {
    "collapsed": true
   },
   "outputs": [],
   "source": [
    "%matplotlib notebook\n",
    "from matplotlib import pyplot as plt\n",
    "import numpy as np\n",
    "import histogram.hdf as hh, histogram as H"
   ]
  },
  {
   "cell_type": "code",
   "execution_count": 2,
   "metadata": {
    "collapsed": true
   },
   "outputs": [],
   "source": [
    "# Define which directory to use for my simulation\n",
    "workdir = \"/SNS/users/p63/mcvine/research/single-flat-dispersions/10meV_beam_5meV_dispersion/\""
   ]
  },
  {
   "cell_type": "code",
   "execution_count": 3,
   "metadata": {
    "collapsed": false
   },
   "outputs": [
    {
     "name": "stdout",
     "output_type": "stream",
     "text": [
      "/SNS/users/p63/mcvine/research/single-flat-dispersions/10meV_beam_5meV_dispersion\n",
      "samples  Untitled.ipynb\r\n"
     ]
    }
   ],
   "source": [
    "# change into primary simulation directory\n",
    "%cd {workdir}\n",
    "!ls"
   ]
  },
  {
   "cell_type": "code",
   "execution_count": 4,
   "metadata": {
    "collapsed": false
   },
   "outputs": [
    {
     "name": "stdout",
     "output_type": "stream",
     "text": [
      "discarding /SNS/users/lj7/software/miniconda2/envs/mcvine/bin from PATH\n",
      "prepending /SNS/users/lj7/software/miniconda2/envs/mcvine/bin to PATH\n"
     ]
    }
   ],
   "source": [
    "!source ~lj7/.use-miniconda2\n",
    "!source activate mcvine"
   ]
  },
  {
   "cell_type": "code",
   "execution_count": 5,
   "metadata": {
    "collapsed": false
   },
   "outputs": [
    {
     "name": "stdout",
     "output_type": "stream",
     "text": [
      "/SNS/users/p63/mcvine/research/single-flat-dispersions/10meV_beam_5meV_dispersion/samples/X/sampleassembly\n"
     ]
    }
   ],
   "source": [
    "%cd \"{workdir}/samples/X/sampleassembly\""
   ]
  },
  {
   "cell_type": "code",
   "execution_count": 6,
   "metadata": {
    "collapsed": false
   },
   "outputs": [
    {
     "name": "stdout",
     "output_type": "stream",
     "text": [
      "8\r\n",
      "3 0 0    0 3 0    0 0 3\r\n",
      "V 0 0 0\r\n",
      "V 0 0 0\r\n",
      "V 0 0 0\r\n",
      "V 0 0 0\r\n",
      "V 0 0 0\r\n",
      "V 0 0 0\r\n",
      "V 0 0 0\r\n",
      "V 0 0 0"
     ]
    }
   ],
   "source": [
    "!cat X.xyz"
   ]
  },
  {
   "cell_type": "code",
   "execution_count": 7,
   "metadata": {
    "collapsed": false
   },
   "outputs": [
    {
     "name": "stdout",
     "output_type": "stream",
     "text": [
      "Overwriting ./X.xyz\n"
     ]
    }
   ],
   "source": [
    "%%file ./X.xyz\n",
    "8\n",
    "5 0 0    0 5 0    0 0 5\n",
    "V 0 0 0\n",
    "V 0 0 0\n",
    "V 0 0 0\n",
    "V 0 0 0\n",
    "V 0 0 0\n",
    "V 0 0 0\n",
    "V 0 0 0\n",
    "V 0 0 0"
   ]
  },
  {
   "cell_type": "code",
   "execution_count": 8,
   "metadata": {
    "collapsed": false,
    "scrolled": true
   },
   "outputs": [
    {
     "name": "stdout",
     "output_type": "stream",
     "text": [
      "8\r\n",
      "5 0 0    0 5 0    0 0 5\r\n",
      "V 0 0 0\r\n",
      "V 0 0 0\r\n",
      "V 0 0 0\r\n",
      "V 0 0 0\r\n",
      "V 0 0 0\r\n",
      "V 0 0 0\r\n",
      "V 0 0 0\r\n",
      "V 0 0 0"
     ]
    }
   ],
   "source": [
    "!cat X.xyz"
   ]
  },
  {
   "cell_type": "code",
   "execution_count": 9,
   "metadata": {
    "collapsed": false
   },
   "outputs": [
    {
     "name": "stdout",
     "output_type": "stream",
     "text": [
      "<?xml version=\"1.0\"?>\r\n",
      "\r\n",
      "<!DOCTYPE scatterer>\r\n",
      "\r\n",
      "<!-- weights: absorption, scattering, transmission -->\r\n",
      "<homogeneous_scatterer \r\n",
      "    mcweights=\"0, 1, 0.1\"\r\n",
      "    max_multiplescattering_loops=\"3\"\r\n",
      "    >\r\n",
      "  \r\n",
      " <KernelContainer average=\"yes\">\r\n",
      "\r\n",
      "  <E_Q_Kernel \r\n",
      "     E_Q=\"5.0\" \r\n",
      "     S_Q=\"1\"\r\n",
      "     Qmin=\"0./angstrom\"\r\n",
      "     Qmax=\"18/angstrom\"\r\n",
      "    />\r\n",
      "    \r\n",
      " </KernelContainer>\r\n",
      "  \r\n",
      "</homogeneous_scatterer>\r\n"
     ]
    }
   ],
   "source": [
    "!cat X-scatterer.xml"
   ]
  },
  {
   "cell_type": "code",
   "execution_count": 10,
   "metadata": {
    "collapsed": false
   },
   "outputs": [
    {
     "name": "stdout",
     "output_type": "stream",
     "text": [
      "Overwriting X-scatterer.xml\n"
     ]
    }
   ],
   "source": [
    "%%file X-scatterer.xml\n",
    "<?xml version=\"1.0\"?>\n",
    "\n",
    "<!DOCTYPE scatterer>\n",
    "\n",
    "<!-- weights: absorption, scattering, transmission -->\n",
    "<homogeneous_scatterer \n",
    "    mcweights=\"0, 1, 0.1\"\n",
    "    max_multiplescattering_loops=\"3\"\n",
    "    >\n",
    "  \n",
    " <KernelContainer average=\"yes\">\n",
    "\n",
    "  <E_vQ_Kernel \n",
    "     E_Q=\"5.0\" \n",
    "     S_Q=\"1\"\n",
    "     Emax=\"10*meV\"\n",
    "    />\n",
    "    \n",
    " </KernelContainer>\n",
    "  \n",
    "</homogeneous_scatterer>"
   ]
  },
  {
   "cell_type": "code",
   "execution_count": 11,
   "metadata": {
    "collapsed": false
   },
   "outputs": [
    {
     "data": {
      "text/plain": [
       "(array([ 1.25663706,  0.        ,  0.        ]),\n",
       " array([ 0.        ,  1.25663706,  0.        ]),\n",
       " array([ 0.        ,  0.        ,  1.25663706]))"
      ]
     },
     "execution_count": 11,
     "metadata": {},
     "output_type": "execute_result"
    }
   ],
   "source": [
    "a,b,c=5,5,5\n",
    "\n",
    "from numpy import sin, cos, deg2rad\n",
    "a1 = [a, 0, 0]\n",
    "a2 = [0, b, 0]\n",
    "a3 = [0, 0, c]\n",
    "\n",
    "twopi = 2*np.pi\n",
    "f = twopi/np.dot(a1, np.cross(a2, a3))\n",
    "b1 = np.cross(a2,a3) * f\n",
    "b2 = np.cross(a3,a1) * f\n",
    "b3 = np.cross(a1,a2) * f\n",
    "b1,b2,b3"
   ]
  },
  {
   "cell_type": "code",
   "execution_count": 12,
   "metadata": {
    "collapsed": false
   },
   "outputs": [
    {
     "data": {
      "text/plain": [
       "(array([ 0.89442719,  0.        , -0.4472136 ]),\n",
       " array([ 0.,  1.,  0.]),\n",
       " array([ 0.4472136 ,  0.        ,  0.89442719]))"
      ]
     },
     "execution_count": 12,
     "metadata": {},
     "output_type": "execute_result"
    }
   ],
   "source": [
    "ez = b1 + 2*b3; ez /= np.linalg.norm(ez)\n",
    "ex1 = b1\n",
    "ey = np.cross(ez, ex1); ey/=np.linalg.norm(ey)\n",
    "ex = np.cross(ey, ez)\n",
    "ex, ey, ez"
   ]
  },
  {
   "cell_type": "code",
   "execution_count": 13,
   "metadata": {
    "collapsed": false
   },
   "outputs": [
    {
     "data": {
      "text/plain": [
       "(array([[ 0.89442719,  0.        , -0.4472136 ],\n",
       "        [ 0.        ,  1.        ,  0.        ],\n",
       "        [ 0.4472136 ,  0.        ,  0.89442719]]),\n",
       " array([ 0.89442719,  0.        , -0.4472136 ,  0.        ,  1.        ,\n",
       "         0.        ,  0.4472136 ,  0.        ,  0.89442719]))"
      ]
     },
     "execution_count": 13,
     "metadata": {},
     "output_type": "execute_result"
    }
   ],
   "source": [
    "R = np.array([ ex, ey, ez ])\n",
    "Rflat = R.copy(); Rflat.shape = -1,\n",
    "R, Rflat"
   ]
  },
  {
   "cell_type": "code",
   "execution_count": 14,
   "metadata": {
    "collapsed": false
   },
   "outputs": [
    {
     "data": {
      "text/plain": [
       "'orientation=\"0.894427191,0.0,-0.4472135955,0.0,1.0,0.0,0.4472135955,0.0,0.894427191\"'"
      ]
     },
     "execution_count": 14,
     "metadata": {},
     "output_type": "execute_result"
    }
   ],
   "source": [
    "'orientation=\"%s\"' % (','.join(str(e) for e in Rflat),)"
   ]
  },
  {
   "cell_type": "code",
   "execution_count": 15,
   "metadata": {
    "collapsed": true
   },
   "outputs": [],
   "source": [
    "# modify X-scatterer.xml to specify the orientation"
   ]
  },
  {
   "cell_type": "code",
   "execution_count": 16,
   "metadata": {
    "collapsed": false
   },
   "outputs": [
    {
     "name": "stdout",
     "output_type": "stream",
     "text": [
      "Overwriting X-scatterer.xml\n"
     ]
    }
   ],
   "source": [
    "%%file X-scatterer.xml\n",
    "<?xml version=\"1.0\"?>\n",
    "\n",
    "<!DOCTYPE scatterer>\n",
    "\n",
    "<!-- weights: absorption, scattering, transmission -->\n",
    "<homogeneous_scatterer \n",
    "    mcweights=\"0, 1, 0.1\"\n",
    "    max_multiplescattering_loops=\"3\"\n",
    "    >\n",
    "  \n",
    " <KernelContainer average=\"yes\">\n",
    "\n",
    "  <E_vQ_Kernel \n",
    "     E_Q=\"5.0\" \n",
    "     S_Q=\"1\"\n",
    "     Emax=\"10*meV\"\n",
    "    orientation=\"0.894427191,0.0,-0.4472135955,0.0,1.0,0.0,0.4472135955,0.0,0.894427191\"\n",
    "    />\n",
    "    \n",
    " </KernelContainer>\n",
    "  \n",
    "</homogeneous_scatterer>"
   ]
  },
  {
   "cell_type": "code",
   "execution_count": 17,
   "metadata": {
    "collapsed": false
   },
   "outputs": [
    {
     "name": "stdout",
     "output_type": "stream",
     "text": [
      "<?xml version=\"1.0\"?>\r\n",
      "\r\n",
      "<!DOCTYPE scatterer>\r\n",
      "\r\n",
      "<!-- weights: absorption, scattering, transmission -->\r\n",
      "<homogeneous_scatterer \r\n",
      "    mcweights=\"0, 1, 0.1\"\r\n",
      "    max_multiplescattering_loops=\"3\"\r\n",
      "    >\r\n",
      "  \r\n",
      " <KernelContainer average=\"yes\">\r\n",
      "\r\n",
      "  <E_vQ_Kernel \r\n",
      "     E_Q=\"5.0\" \r\n",
      "     S_Q=\"1\"\r\n",
      "     Emax=\"10*meV\"\r\n",
      "    orientation=\"0.894427191,0.0,-0.4472135955,0.0,1.0,0.0,0.4472135955,0.0,0.894427191\"\r\n",
      "    />\r\n",
      "    \r\n",
      " </KernelContainer>\r\n",
      "  \r\n",
      "</homogeneous_scatterer>"
     ]
    }
   ],
   "source": [
    "!cat X-scatterer.xml"
   ]
  },
  {
   "cell_type": "code",
   "execution_count": 18,
   "metadata": {
    "collapsed": false
   },
   "outputs": [
    {
     "name": "stdout",
     "output_type": "stream",
     "text": [
      "<SampleAssembly name=\"X\">\r\n",
      "\r\n",
      "    <PowderSample name=\"X\" type=\"sample\">\r\n",
      "        <Shape>\r\n",
      "            <cylinder radius=\"5*mm\" height=\"20*mm\"/>\r\n",
      "        </Shape>\r\n",
      "        <Phase type=\"crystal\">\r\n",
      "            <ChemicalFormula>Fe</ChemicalFormula>\r\n",
      "            <xyzfile>X.xyz</xyzfile>\r\n",
      "        </Phase>\r\n",
      "    </PowderSample>\r\n",
      "    \r\n",
      "    <LocalGeometer registry-coordinate-system=\"InstrumentScientist\">\r\n",
      "        <Register name=\"X\" position=\"(0,0,0)\" orientation=\"(0,0,0)\"/>\r\n",
      "    </LocalGeometer>\r\n",
      "\r\n",
      "</SampleAssembly>"
     ]
    }
   ],
   "source": [
    "!cat sampleassembly.xml"
   ]
  },
  {
   "cell_type": "code",
   "execution_count": 19,
   "metadata": {
    "collapsed": false
   },
   "outputs": [
    {
     "name": "stdout",
     "output_type": "stream",
     "text": [
      "sampleassembly.xml  X-scatterer.xml  X.xyz\r\n"
     ]
    }
   ],
   "source": [
    "!ls"
   ]
  },
  {
   "cell_type": "code",
   "execution_count": 20,
   "metadata": {
    "collapsed": false
   },
   "outputs": [
    {
     "name": "stdout",
     "output_type": "stream",
     "text": [
      "/SNS/users/p63/mcvine/research/single-flat-dispersions/10meV_beam_5meV_dispersion\n"
     ]
    }
   ],
   "source": [
    "%cd {workdir}"
   ]
  },
  {
   "cell_type": "code",
   "execution_count": 21,
   "metadata": {
    "collapsed": false
   },
   "outputs": [
    {
     "name": "stdout",
     "output_type": "stream",
     "text": [
      "samples  single flat dispersion width simulation.ipynb\r\n"
     ]
    }
   ],
   "source": [
    "!ls"
   ]
  },
  {
   "cell_type": "code",
   "execution_count": 22,
   "metadata": {
    "collapsed": false
   },
   "outputs": [
    {
     "name": "stdout",
     "output_type": "stream",
     "text": [
      "/SNS/users/p63/mcvine/research/single-flat-dispersions/10meV_beam_5meV_dispersion/scattering\n"
     ]
    }
   ],
   "source": [
    "!mkdir scattering\n",
    "%cd scattering"
   ]
  },
  {
   "cell_type": "code",
   "execution_count": 23,
   "metadata": {
    "collapsed": false
   },
   "outputs": [
    {
     "name": "stdout",
     "output_type": "stream",
     "text": [
      "scripts  template\r\n"
     ]
    }
   ],
   "source": [
    "!rsync -a ~lj7/simulations/mcvine_workflow/DGS/ARCS/single-crystal/* ./\n",
    "!ls"
   ]
  },
  {
   "cell_type": "code",
   "execution_count": 24,
   "metadata": {
    "collapsed": false
   },
   "outputs": [
    {
     "name": "stdout",
     "output_type": "stream",
     "text": [
      "total 4\r\n",
      "lrwxrwxrwx 1 p63 users   39 Jul 14 11:32 beam -> ../../../beams/beam_10meV_1e9_neutrons/\r\n",
      "drwxrwxr-x 5 p63 users  152 Jun  7 22:32 scripts\r\n",
      "drwxr-xr-x 2 p63 users 4096 Jun  7 22:32 template\r\n"
     ]
    }
   ],
   "source": [
    "!ln -s ../../../beams/beam_10meV_1e9_neutrons/ beam\n",
    "!ls -l"
   ]
  },
  {
   "cell_type": "code",
   "execution_count": 25,
   "metadata": {
    "collapsed": false
   },
   "outputs": [
    {
     "name": "stdout",
     "output_type": "stream",
     "text": [
      "/SNS/users/p63/mcvine/research/single-flat-dispersions/10meV_beam_5meV_dispersion/scattering/template\n",
      "/SNS/users/p63/mcvine/research/single-flat-dispersions/10meV_beam_5meV_dispersion/scattering\n"
     ]
    }
   ],
   "source": [
    "%cd template\n",
    "\n",
    "!ln -s ../../samples/X/sampleassembly\n",
    "\n",
    "!ln -s ../beam\n",
    "\n",
    "%cd .."
   ]
  },
  {
   "cell_type": "code",
   "execution_count": 26,
   "metadata": {
    "collapsed": false
   },
   "outputs": [
    {
     "name": "stdout",
     "output_type": "stream",
     "text": [
      "Writing sim.yml\n"
     ]
    }
   ],
   "source": [
    "%%file sim.yml\n",
    "\n",
    "cluster:\n",
    "  nodes: 15\n",
    "instrument:\n",
    "  name: arcs\n",
    "scatter:\n",
    "  ncount: 1e6\n",
    "  multiple_scattering: off\n",
    "  template: ./template\n"
   ]
  },
  {
   "cell_type": "code",
   "execution_count": 27,
   "metadata": {
    "collapsed": false
   },
   "outputs": [
    {
     "name": "stdout",
     "output_type": "stream",
     "text": [
      "SAMPLE_ANGLE=30.0 time ./scatter &> log.scatter\n",
      "time ./create-nxs &> log.create-nxs\n",
      "\n",
      "real\t1m30.005s\n",
      "user\t15m39.137s\n",
      "sys\t3m22.509s\n",
      "cp sim.nxs sim-30.0.nxs\n",
      "mcvine instruments arcs nxs populate_metadata --type=Ei --beam_outdir=beam/out --nxs=sim-30.0.nxs\n",
      "/SNS/users/lj7/software/miniconda2/envs/mcvine/lib/python2.7/site-packages/mcvine/deployment_info.py:41: UserWarning: Neither environment variable MCVINE_DIR nor DANSE_DIR was defined. Assumed that it is /SNS/users/lj7/software/miniconda2/envs/mcvine.\n",
      "  warnings.warn(msg)\n"
     ]
    }
   ],
   "source": [
    "# Test the simulation for a single angle\n",
    "!./scripts/sim.py --angle=30.0"
   ]
  },
  {
   "cell_type": "code",
   "execution_count": 28,
   "metadata": {
    "collapsed": false
   },
   "outputs": [
    {
     "name": "stdout",
     "output_type": "stream",
     "text": [
      "Overwriting sim.yml\n"
     ]
    }
   ],
   "source": [
    "%%file sim.yml\n",
    "\n",
    "cluster:\n",
    "  nodes: 10\n",
    "instrument:\n",
    "  name: arcs\n",
    "scatter:\n",
    "  ncount: 1e8\n",
    "  multiple_scattering: off\n",
    "  template: ./template"
   ]
  },
  {
   "cell_type": "code",
   "execution_count": 29,
   "metadata": {
    "collapsed": false
   },
   "outputs": [
    {
     "name": "stdout",
     "output_type": "stream",
     "text": [
      "Writing create-submit.py\n"
     ]
    }
   ],
   "source": [
    "%%file create-submit.py\n",
    "import numpy as np\n",
    "ostream = open('submit.sh', 'wt')\n",
    "for a in np.arange(-90, 90.1, 3.):\n",
    "    ostream.write('./scripts/sim.py --angle=%s \\n' % a)\n",
    "    continue\n",
    "ostream.close()"
   ]
  },
  {
   "cell_type": "code",
   "execution_count": 30,
   "metadata": {
    "collapsed": false
   },
   "outputs": [
    {
     "name": "stdout",
     "output_type": "stream",
     "text": [
      "import numpy as np\r\n",
      "ostream = open('submit.sh', 'wt')\r\n",
      "for a in np.arange(-90, 90.1, 3.):\r\n",
      "    ostream.write('./scripts/sim.py --angle=%s \\n' % a)\r\n",
      "    continue\r\n",
      "ostream.close()"
     ]
    }
   ],
   "source": [
    "!cat create-submit.py"
   ]
  },
  {
   "cell_type": "code",
   "execution_count": 31,
   "metadata": {
    "collapsed": true
   },
   "outputs": [],
   "source": [
    "# run the script to create submit.sh\n",
    "!python ./create-submit.py"
   ]
  },
  {
   "cell_type": "code",
   "execution_count": 32,
   "metadata": {
    "collapsed": true
   },
   "outputs": [],
   "source": [
    "# make sure submit.sh is executable\n",
    "!chmod +x submit.sh\n",
    "# and then start it script in the background"
   ]
  },
  {
   "cell_type": "code",
   "execution_count": 33,
   "metadata": {
    "collapsed": false
   },
   "outputs": [
    {
     "name": "stdout",
     "output_type": "stream",
     "text": [
      "Starting job # 0 in a separate thread.\n"
     ]
    }
   ],
   "source": [
    "%%script bash --bg\n",
    "./submit.sh\n",
    "# this will take a while to finish."
   ]
  },
  {
   "cell_type": "code",
   "execution_count": null,
   "metadata": {
    "collapsed": true
   },
   "outputs": [],
   "source": []
  }
 ],
 "metadata": {
  "kernelspec": {
   "display_name": "Python 2",
   "language": "python",
   "name": "python2"
  },
  "language_info": {
   "codemirror_mode": {
    "name": "ipython",
    "version": 2
   },
   "file_extension": ".py",
   "mimetype": "text/x-python",
   "name": "python",
   "nbconvert_exporter": "python",
   "pygments_lexer": "ipython2",
   "version": "2.7.11"
  },
  "widgets": {
   "state": {},
   "version": "1.1.2"
  }
 },
 "nbformat": 4,
 "nbformat_minor": 0
}
