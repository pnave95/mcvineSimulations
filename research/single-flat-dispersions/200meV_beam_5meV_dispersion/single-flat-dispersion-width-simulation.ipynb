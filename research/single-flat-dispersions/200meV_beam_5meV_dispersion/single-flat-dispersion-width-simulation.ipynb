{
 "cells": [
  {
   "cell_type": "markdown",
   "metadata": {},
   "source": [
    "This simulation is for a flat dispersion line at 30meV from a single crystal.  The beam used is a 200meV beam simulated with 1e9 neutrons."
   ]
  },
  {
   "cell_type": "code",
   "execution_count": 1,
   "metadata": {
    "collapsed": true
   },
   "outputs": [],
   "source": [
    "%matplotlib notebook\n",
    "from matplotlib import pyplot as plt\n",
    "import numpy as np\n",
    "import histogram.hdf as hh, histogram as H"
   ]
  },
  {
   "cell_type": "code",
   "execution_count": 2,
   "metadata": {
    "collapsed": true
   },
   "outputs": [],
   "source": [
    "# Define which directory to use for my simulation (will change name to 30meV dispersion)\n",
    "workdir = \"/SNS/users/p63/mcvine/research/single-flat-dispersions/200meV_beam_5meV_dispersion/\""
   ]
  },
  {
   "cell_type": "code",
   "execution_count": 3,
   "metadata": {
    "collapsed": false
   },
   "outputs": [
    {
     "name": "stdout",
     "output_type": "stream",
     "text": [
      "/SNS/users/p63/mcvine/research/single-flat-dispersions/200meV_beam_5meV_dispersion\n",
      "single-flat-dispersion-width-simulation.ipynb\r\n"
     ]
    }
   ],
   "source": [
    "# change into primary simulation directory\n",
    "%cd {workdir}\n",
    "!ls"
   ]
  },
  {
   "cell_type": "code",
   "execution_count": 4,
   "metadata": {
    "collapsed": false
   },
   "outputs": [
    {
     "name": "stdout",
     "output_type": "stream",
     "text": [
      "discarding /SNS/users/lj7/software/miniconda2/envs/mcvine/bin from PATH\n",
      "prepending /SNS/users/lj7/software/miniconda2/envs/mcvine/bin to PATH\n"
     ]
    }
   ],
   "source": [
    "!source ~lj7/.use-miniconda2\n",
    "!source activate mcvine"
   ]
  },
  {
   "cell_type": "code",
   "execution_count": null,
   "metadata": {
    "collapsed": true
   },
   "outputs": [],
   "source": [
    "!cp -r 10meV_beam_5meV_dispersion_INCOMPLETE/samples 200meV_beam_5meV_dispersion/samples"
   ]
  },
  {
   "cell_type": "code",
   "execution_count": 5,
   "metadata": {
    "collapsed": false
   },
   "outputs": [
    {
     "name": "stdout",
     "output_type": "stream",
     "text": [
      "/SNS/users/p63/mcvine/research/single-flat-dispersions/200meV_beam_5meV_dispersion/samples/X/sampleassembly\n"
     ]
    }
   ],
   "source": [
    "%cd \"{workdir}/samples/X/sampleassembly\""
   ]
  },
  {
   "cell_type": "code",
   "execution_count": 6,
   "metadata": {
    "collapsed": false
   },
   "outputs": [
    {
     "name": "stdout",
     "output_type": "stream",
     "text": [
      "8\r\n",
      "5 0 0    0 5 0    0 0 5\r\n",
      "V 0 0 0\r\n",
      "V 0 0 0\r\n",
      "V 0 0 0\r\n",
      "V 0 0 0\r\n",
      "V 0 0 0\r\n",
      "V 0 0 0\r\n",
      "V 0 0 0\r\n",
      "V 0 0 0"
     ]
    }
   ],
   "source": [
    "!cat X.xyz"
   ]
  },
  {
   "cell_type": "code",
   "execution_count": 7,
   "metadata": {
    "collapsed": false
   },
   "outputs": [
    {
     "name": "stdout",
     "output_type": "stream",
     "text": [
      "Overwriting ./X.xyz\n"
     ]
    }
   ],
   "source": [
    "%%file ./X.xyz\n",
    "8\n",
    "5 0 0    0 5 0    0 0 5\n",
    "V 0 0 0\n",
    "V 0 0 0\n",
    "V 0 0 0\n",
    "V 0 0 0\n",
    "V 0 0 0\n",
    "V 0 0 0\n",
    "V 0 0 0\n",
    "V 0 0 0"
   ]
  },
  {
   "cell_type": "code",
   "execution_count": 8,
   "metadata": {
    "collapsed": false,
    "scrolled": true
   },
   "outputs": [
    {
     "name": "stdout",
     "output_type": "stream",
     "text": [
      "8\r\n",
      "5 0 0    0 5 0    0 0 5\r\n",
      "V 0 0 0\r\n",
      "V 0 0 0\r\n",
      "V 0 0 0\r\n",
      "V 0 0 0\r\n",
      "V 0 0 0\r\n",
      "V 0 0 0\r\n",
      "V 0 0 0\r\n",
      "V 0 0 0"
     ]
    }
   ],
   "source": [
    "!cat X.xyz"
   ]
  },
  {
   "cell_type": "code",
   "execution_count": 7,
   "metadata": {
    "collapsed": false
   },
   "outputs": [
    {
     "name": "stdout",
     "output_type": "stream",
     "text": [
      "<?xml version=\"1.0\"?>\r\n",
      "\r\n",
      "<!DOCTYPE scatterer>\r\n",
      "\r\n",
      "<!-- weights: absorption, scattering, transmission -->\r\n",
      "<homogeneous_scatterer \r\n",
      "    mcweights=\"0, 1, 0.1\"\r\n",
      "    max_multiplescattering_loops=\"3\"\r\n",
      "    >\r\n",
      "  \r\n",
      " <KernelContainer average=\"yes\">\r\n",
      "\r\n",
      "  <E_vQ_Kernel \r\n",
      "     E_Q=\"5.0\" \r\n",
      "     S_Q=\"1\"\r\n",
      "     Emax=\"10*meV\"\r\n",
      "    orientation=\"0.894427191,0.0,-0.4472135955,0.0,1.0,0.0,0.4472135955,0.0,0.894427191\"\r\n",
      "    />\r\n",
      "    \r\n",
      " </KernelContainer>\r\n",
      "  \r\n",
      "</homogeneous_scatterer>"
     ]
    }
   ],
   "source": [
    "!cat X-scatterer.xml"
   ]
  },
  {
   "cell_type": "code",
   "execution_count": 10,
   "metadata": {
    "collapsed": false
   },
   "outputs": [
    {
     "name": "stdout",
     "output_type": "stream",
     "text": [
      "Overwriting X-scatterer.xml\n"
     ]
    }
   ],
   "source": [
    "%%file X-scatterer.xml\n",
    "<?xml version=\"1.0\"?>\n",
    "\n",
    "<!DOCTYPE scatterer>\n",
    "\n",
    "<!-- weights: absorption, scattering, transmission -->\n",
    "<homogeneous_scatterer \n",
    "    mcweights=\"0, 1, 0.1\"\n",
    "    max_multiplescattering_loops=\"3\"\n",
    "    >\n",
    "  \n",
    " <KernelContainer average=\"yes\">\n",
    "\n",
    "  <E_vQ_Kernel \n",
    "     E_Q=\"5.0\" \n",
    "     S_Q=\"1\"\n",
    "     Emax=\"10*meV\"\n",
    "    />\n",
    "    \n",
    " </KernelContainer>\n",
    "  \n",
    "</homogeneous_scatterer>"
   ]
  },
  {
   "cell_type": "code",
   "execution_count": 11,
   "metadata": {
    "collapsed": false
   },
   "outputs": [
    {
     "data": {
      "text/plain": [
       "(array([ 1.25663706,  0.        ,  0.        ]),\n",
       " array([ 0.        ,  1.25663706,  0.        ]),\n",
       " array([ 0.        ,  0.        ,  1.25663706]))"
      ]
     },
     "execution_count": 11,
     "metadata": {},
     "output_type": "execute_result"
    }
   ],
   "source": [
    "a,b,c=5,5,5\n",
    "\n",
    "from numpy import sin, cos, deg2rad\n",
    "a1 = [a, 0, 0]\n",
    "a2 = [0, b, 0]\n",
    "a3 = [0, 0, c]\n",
    "\n",
    "twopi = 2*np.pi\n",
    "f = twopi/np.dot(a1, np.cross(a2, a3))\n",
    "b1 = np.cross(a2,a3) * f\n",
    "b2 = np.cross(a3,a1) * f\n",
    "b3 = np.cross(a1,a2) * f\n",
    "b1,b2,b3"
   ]
  },
  {
   "cell_type": "code",
   "execution_count": 12,
   "metadata": {
    "collapsed": false
   },
   "outputs": [
    {
     "data": {
      "text/plain": [
       "(array([ 0.89442719,  0.        , -0.4472136 ]),\n",
       " array([ 0.,  1.,  0.]),\n",
       " array([ 0.4472136 ,  0.        ,  0.89442719]))"
      ]
     },
     "execution_count": 12,
     "metadata": {},
     "output_type": "execute_result"
    }
   ],
   "source": [
    "ez = b1 + 2*b3; ez /= np.linalg.norm(ez)\n",
    "ex1 = b1\n",
    "ey = np.cross(ez, ex1); ey/=np.linalg.norm(ey)\n",
    "ex = np.cross(ey, ez)\n",
    "ex, ey, ez"
   ]
  },
  {
   "cell_type": "code",
   "execution_count": 13,
   "metadata": {
    "collapsed": false
   },
   "outputs": [
    {
     "data": {
      "text/plain": [
       "(array([[ 0.89442719,  0.        , -0.4472136 ],\n",
       "        [ 0.        ,  1.        ,  0.        ],\n",
       "        [ 0.4472136 ,  0.        ,  0.89442719]]),\n",
       " array([ 0.89442719,  0.        , -0.4472136 ,  0.        ,  1.        ,\n",
       "         0.        ,  0.4472136 ,  0.        ,  0.89442719]))"
      ]
     },
     "execution_count": 13,
     "metadata": {},
     "output_type": "execute_result"
    }
   ],
   "source": [
    "R = np.array([ ex, ey, ez ])\n",
    "Rflat = R.copy(); Rflat.shape = -1,\n",
    "R, Rflat"
   ]
  },
  {
   "cell_type": "code",
   "execution_count": 14,
   "metadata": {
    "collapsed": false
   },
   "outputs": [
    {
     "data": {
      "text/plain": [
       "'orientation=\"0.894427191,0.0,-0.4472135955,0.0,1.0,0.0,0.4472135955,0.0,0.894427191\"'"
      ]
     },
     "execution_count": 14,
     "metadata": {},
     "output_type": "execute_result"
    }
   ],
   "source": [
    "'orientation=\"%s\"' % (','.join(str(e) for e in Rflat),)"
   ]
  },
  {
   "cell_type": "code",
   "execution_count": 15,
   "metadata": {
    "collapsed": true
   },
   "outputs": [],
   "source": [
    "# modify X-scatterer.xml to specify the orientation"
   ]
  },
  {
   "cell_type": "code",
   "execution_count": 8,
   "metadata": {
    "collapsed": false
   },
   "outputs": [
    {
     "name": "stdout",
     "output_type": "stream",
     "text": [
      "Overwriting X-scatterer.xml\n"
     ]
    }
   ],
   "source": [
    "%%file X-scatterer.xml\n",
    "<?xml version=\"1.0\"?>\n",
    "\n",
    "<!DOCTYPE scatterer>\n",
    "\n",
    "<!-- weights: absorption, scattering, transmission -->\n",
    "<homogeneous_scatterer \n",
    "    mcweights=\"0, 1, 0.1\"\n",
    "    max_multiplescattering_loops=\"3\"\n",
    "    >\n",
    "  \n",
    " <KernelContainer average=\"yes\">\n",
    "\n",
    "  <E_vQ_Kernel \n",
    "     E_Q=\"30.0\" \n",
    "     S_Q=\"1\"\n",
    "     Emax=\"60*meV\"\n",
    "    orientation=\"0.894427191,0.0,-0.4472135955,0.0,1.0,0.0,0.4472135955,0.0,0.894427191\"\n",
    "    />\n",
    "    \n",
    " </KernelContainer>\n",
    "  \n",
    "</homogeneous_scatterer>"
   ]
  },
  {
   "cell_type": "code",
   "execution_count": 17,
   "metadata": {
    "collapsed": false
   },
   "outputs": [
    {
     "name": "stdout",
     "output_type": "stream",
     "text": [
      "<?xml version=\"1.0\"?>\r\n",
      "\r\n",
      "<!DOCTYPE scatterer>\r\n",
      "\r\n",
      "<!-- weights: absorption, scattering, transmission -->\r\n",
      "<homogeneous_scatterer \r\n",
      "    mcweights=\"0, 1, 0.1\"\r\n",
      "    max_multiplescattering_loops=\"3\"\r\n",
      "    >\r\n",
      "  \r\n",
      " <KernelContainer average=\"yes\">\r\n",
      "\r\n",
      "  <E_vQ_Kernel \r\n",
      "     E_Q=\"5.0\" \r\n",
      "     S_Q=\"1\"\r\n",
      "     Emax=\"10*meV\"\r\n",
      "    orientation=\"0.894427191,0.0,-0.4472135955,0.0,1.0,0.0,0.4472135955,0.0,0.894427191\"\r\n",
      "    />\r\n",
      "    \r\n",
      " </KernelContainer>\r\n",
      "  \r\n",
      "</homogeneous_scatterer>"
     ]
    }
   ],
   "source": [
    "!cat X-scatterer.xml"
   ]
  },
  {
   "cell_type": "code",
   "execution_count": 9,
   "metadata": {
    "collapsed": false
   },
   "outputs": [
    {
     "name": "stdout",
     "output_type": "stream",
     "text": [
      "<SampleAssembly name=\"X\">\r\n",
      "\r\n",
      "    <PowderSample name=\"X\" type=\"sample\">\r\n",
      "        <Shape>\r\n",
      "            <cylinder radius=\"5*mm\" height=\"20*mm\"/>\r\n",
      "        </Shape>\r\n",
      "        <Phase type=\"crystal\">\r\n",
      "            <ChemicalFormula>Fe</ChemicalFormula>\r\n",
      "            <xyzfile>X.xyz</xyzfile>\r\n",
      "        </Phase>\r\n",
      "    </PowderSample>\r\n",
      "    \r\n",
      "    <LocalGeometer registry-coordinate-system=\"InstrumentScientist\">\r\n",
      "        <Register name=\"X\" position=\"(0,0,0)\" orientation=\"(0,0,0)\"/>\r\n",
      "    </LocalGeometer>\r\n",
      "\r\n",
      "</SampleAssembly>"
     ]
    }
   ],
   "source": [
    "!cat sampleassembly.xml"
   ]
  },
  {
   "cell_type": "code",
   "execution_count": 10,
   "metadata": {
    "collapsed": false
   },
   "outputs": [
    {
     "name": "stdout",
     "output_type": "stream",
     "text": [
      "sampleassembly.xml  X-scatterer.xml  X.xyz\r\n"
     ]
    }
   ],
   "source": [
    "!ls"
   ]
  },
  {
   "cell_type": "code",
   "execution_count": 11,
   "metadata": {
    "collapsed": false
   },
   "outputs": [
    {
     "name": "stdout",
     "output_type": "stream",
     "text": [
      "/SNS/users/p63/mcvine/research/single-flat-dispersions/200meV_beam_5meV_dispersion\n"
     ]
    }
   ],
   "source": [
    "%cd {workdir}"
   ]
  },
  {
   "cell_type": "code",
   "execution_count": 12,
   "metadata": {
    "collapsed": false
   },
   "outputs": [
    {
     "name": "stdout",
     "output_type": "stream",
     "text": [
      "samples  single-flat-dispersion-width-simulation.ipynb\r\n"
     ]
    }
   ],
   "source": [
    "!ls"
   ]
  },
  {
   "cell_type": "code",
   "execution_count": 13,
   "metadata": {
    "collapsed": false
   },
   "outputs": [
    {
     "name": "stdout",
     "output_type": "stream",
     "text": [
      "/SNS/users/p63/mcvine/research/single-flat-dispersions/200meV_beam_5meV_dispersion/scattering\n"
     ]
    }
   ],
   "source": [
    "!mkdir scattering\n",
    "%cd scattering"
   ]
  },
  {
   "cell_type": "code",
   "execution_count": 14,
   "metadata": {
    "collapsed": false
   },
   "outputs": [
    {
     "name": "stdout",
     "output_type": "stream",
     "text": [
      "scripts  template\r\n"
     ]
    }
   ],
   "source": [
    "!rsync -a ~lj7/simulations/mcvine_workflow/DGS/ARCS/single-crystal/* ./\n",
    "!ls"
   ]
  },
  {
   "cell_type": "code",
   "execution_count": 15,
   "metadata": {
    "collapsed": false
   },
   "outputs": [
    {
     "name": "stdout",
     "output_type": "stream",
     "text": [
      "total 4\r\n",
      "lrwxrwxrwx 1 p63 users   40 Jul 20 14:25 beam -> ../../../beams/beam_200meV_1e9_neutrons/\r\n",
      "drwxrwxr-x 5 p63 users  152 Jun  7 22:32 scripts\r\n",
      "drwxr-xr-x 2 p63 users 4096 Jun  7 22:32 template\r\n"
     ]
    }
   ],
   "source": [
    "!ln -s ../../../beams/beam_200meV_1e9_neutrons/ beam\n",
    "!ls -l"
   ]
  },
  {
   "cell_type": "code",
   "execution_count": 16,
   "metadata": {
    "collapsed": false
   },
   "outputs": [
    {
     "name": "stdout",
     "output_type": "stream",
     "text": [
      "/SNS/users/p63/mcvine/research/single-flat-dispersions/200meV_beam_5meV_dispersion/scattering/template\n",
      "/SNS/users/p63/mcvine/research/single-flat-dispersions/200meV_beam_5meV_dispersion/scattering\n"
     ]
    }
   ],
   "source": [
    "%cd template\n",
    "\n",
    "!ln -s ../../samples/X/sampleassembly\n",
    "\n",
    "!ln -s ../beam\n",
    "\n",
    "%cd .."
   ]
  },
  {
   "cell_type": "code",
   "execution_count": 17,
   "metadata": {
    "collapsed": false
   },
   "outputs": [
    {
     "name": "stdout",
     "output_type": "stream",
     "text": [
      "Writing sim.yml\n"
     ]
    }
   ],
   "source": [
    "%%file sim.yml\n",
    "\n",
    "cluster:\n",
    "  nodes: 10\n",
    "instrument:\n",
    "  name: arcs\n",
    "scatter:\n",
    "  ncount: 1e6\n",
    "  multiple_scattering: off\n",
    "  template: ./template\n"
   ]
  },
  {
   "cell_type": "code",
   "execution_count": 19,
   "metadata": {
    "collapsed": false
   },
   "outputs": [],
   "source": [
    "# Test the simulation for a single angle\n",
    "#!./scripts/sim.py --angle=30.0"
   ]
  },
  {
   "cell_type": "code",
   "execution_count": 18,
   "metadata": {
    "collapsed": false
   },
   "outputs": [
    {
     "name": "stdout",
     "output_type": "stream",
     "text": [
      "Overwriting sim.yml\n"
     ]
    }
   ],
   "source": [
    "%%file sim.yml\n",
    "\n",
    "cluster:\n",
    "  nodes: 10\n",
    "instrument:\n",
    "  name: arcs\n",
    "scatter:\n",
    "  ncount: 1e6\n",
    "  multiple_scattering: off\n",
    "  template: ./template"
   ]
  },
  {
   "cell_type": "code",
   "execution_count": 20,
   "metadata": {
    "collapsed": false
   },
   "outputs": [
    {
     "name": "stdout",
     "output_type": "stream",
     "text": [
      "Writing create-submit.py\n"
     ]
    }
   ],
   "source": [
    "%%file create-submit.py\n",
    "import numpy as np\n",
    "ostream = open('submit.sh', 'wt')\n",
    "for a in np.arange(-60, 60.1, 1.):\n",
    "    ostream.write('./scripts/sim.py --angle=%s \\n' % a)\n",
    "    continue\n",
    "ostream.close()"
   ]
  },
  {
   "cell_type": "code",
   "execution_count": 21,
   "metadata": {
    "collapsed": false
   },
   "outputs": [
    {
     "name": "stdout",
     "output_type": "stream",
     "text": [
      "import numpy as np\r\n",
      "ostream = open('submit.sh', 'wt')\r\n",
      "for a in np.arange(-60, 60.1, 1.):\r\n",
      "    ostream.write('./scripts/sim.py --angle=%s \\n' % a)\r\n",
      "    continue\r\n",
      "ostream.close()"
     ]
    }
   ],
   "source": [
    "!cat create-submit.py"
   ]
  },
  {
   "cell_type": "code",
   "execution_count": 22,
   "metadata": {
    "collapsed": true
   },
   "outputs": [],
   "source": [
    "# run the script to create submit.sh\n",
    "!python ./create-submit.py"
   ]
  },
  {
   "cell_type": "code",
   "execution_count": 23,
   "metadata": {
    "collapsed": true
   },
   "outputs": [],
   "source": [
    "# make sure submit.sh is executable\n",
    "!chmod +x submit.sh\n",
    "# and then start it script in the background"
   ]
  },
  {
   "cell_type": "code",
   "execution_count": 24,
   "metadata": {
    "collapsed": false
   },
   "outputs": [
    {
     "name": "stdout",
     "output_type": "stream",
     "text": [
      "Starting job # 0 in a separate thread.\n"
     ]
    }
   ],
   "source": [
    "%%script bash --bg\n",
    "./submit.sh\n",
    "# this will take a while to finish."
   ]
  },
  {
   "cell_type": "markdown",
   "metadata": {
    "collapsed": true
   },
   "source": [
    "## Reduction"
   ]
  },
  {
   "cell_type": "code",
   "execution_count": 25,
   "metadata": {
    "collapsed": false
   },
   "outputs": [
    {
     "name": "stdout",
     "output_type": "stream",
     "text": [
      "/SNS/users/p63/mcvine/research/single-flat-dispersions/200meV_beam_5meV_dispersion/scattering\n",
      "beam\t\t  work_16.0   work_26.0   work_36.0   work_46.0   work_56.0\r\n",
      "create-submit.py  work_-17.0  work_-27.0  work_-37.0  work_-47.0  work_-57.0\r\n",
      "scripts\t\t  work_17.0   work_27.0   work_37.0   work_47.0   work_57.0\r\n",
      "sim.yml\t\t  work_-18.0  work_-28.0  work_-38.0  work_-48.0  work_-58.0\r\n",
      "submit.sh\t  work_18.0   work_28.0   work_38.0   work_48.0   work_58.0\r\n",
      "template\t  work_-19.0  work_-29.0  work_-39.0  work_-49.0  work_-59.0\r\n",
      "work_0.0\t  work_19.0   work_29.0   work_39.0   work_49.0   work_59.0\r\n",
      "work_-1.0\t  work_-2.0   work_-3.0   work_-4.0   work_-5.0   work_-6.0\r\n",
      "work_1.0\t  work_2.0    work_3.0\t  work_4.0    work_5.0\t  work_6.0\r\n",
      "work_-10.0\t  work_-20.0  work_-30.0  work_-40.0  work_-50.0  work_-60.0\r\n",
      "work_10.0\t  work_20.0   work_30.0   work_40.0   work_50.0   work_60.0\r\n",
      "work_-11.0\t  work_-21.0  work_-31.0  work_-41.0  work_-51.0  work_-7.0\r\n",
      "work_11.0\t  work_21.0   work_31.0   work_41.0   work_51.0   work_7.0\r\n",
      "work_-12.0\t  work_-22.0  work_-32.0  work_-42.0  work_-52.0  work_-8.0\r\n",
      "work_12.0\t  work_22.0   work_32.0   work_42.0   work_52.0   work_8.0\r\n",
      "work_-13.0\t  work_-23.0  work_-33.0  work_-43.0  work_-53.0  work_-9.0\r\n",
      "work_13.0\t  work_23.0   work_33.0   work_43.0   work_53.0   work_9.0\r\n",
      "work_-14.0\t  work_-24.0  work_-34.0  work_-44.0  work_-54.0\r\n",
      "work_14.0\t  work_24.0   work_34.0   work_44.0   work_54.0\r\n",
      "work_-15.0\t  work_-25.0  work_-35.0  work_-45.0  work_-55.0\r\n",
      "work_15.0\t  work_25.0   work_35.0   work_45.0   work_55.0\r\n",
      "work_-16.0\t  work_-26.0  work_-36.0  work_-46.0  work_-56.0\r\n"
     ]
    }
   ],
   "source": [
    "%cd \"{workdir}/scattering\"\n",
    "!ls"
   ]
  },
  {
   "cell_type": "code",
   "execution_count": 26,
   "metadata": {
    "collapsed": true
   },
   "outputs": [],
   "source": [
    "# reduce tof events to E events\n",
    "# this takes a long time!\n",
    "!./scripts/reduce/reduceKeepingEvents_batch.py -60,60.1,1. 200 0,200,0.5 > log.reduce"
   ]
  },
  {
   "cell_type": "code",
   "execution_count": null,
   "metadata": {
    "collapsed": true
   },
   "outputs": [],
   "source": []
  }
 ],
 "metadata": {
  "kernelspec": {
   "display_name": "Python 2",
   "language": "python",
   "name": "python2"
  },
  "language_info": {
   "codemirror_mode": {
    "name": "ipython",
    "version": 2
   },
   "file_extension": ".py",
   "mimetype": "text/x-python",
   "name": "python",
   "nbconvert_exporter": "python",
   "pygments_lexer": "ipython2",
   "version": "2.7.11"
  },
  "widgets": {
   "state": {},
   "version": "1.1.2"
  }
 },
 "nbformat": 4,
 "nbformat_minor": 0
}
