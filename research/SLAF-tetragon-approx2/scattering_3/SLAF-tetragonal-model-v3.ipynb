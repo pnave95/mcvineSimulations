{
 "cells": [
  {
   "cell_type": "markdown",
   "metadata": {},
   "source": [
    "# Spin Wave Simulation"
   ]
  },
  {
   "cell_type": "markdown",
   "metadata": {},
   "source": [
    "Instrument: ARCS\n",
    "* Ei=150meV\n",
    "* Fermi chopper: ? Hz\n",
    "* T0: 90Hz\n",
    " \n",
    "Sample: SLAF tetragonal model\n",
    "* lattice parameters: 5 5 5        90 90 90\n",
    "* spin wave model available in paper: \"Dynamical structure factor of quasi-two-dimensional antiferromagnet in high fields\"\n",
    "* Orientation: u,v = [1 0 2] and  [1 0 0]\n",
    "* psi angles: -90, 90, step 3\n"
   ]
  },
  {
   "cell_type": "markdown",
   "metadata": {},
   "source": [
    "## Step 0. some goodies"
   ]
  },
  {
   "cell_type": "code",
   "execution_count": 1,
   "metadata": {
    "collapsed": false
   },
   "outputs": [],
   "source": [
    "%matplotlib notebook\n",
    "from matplotlib import pyplot as plt\n",
    "import numpy as np\n",
    "import histogram.hdf as hh, histogram as H"
   ]
  },
  {
   "cell_type": "markdown",
   "metadata": {},
   "source": [
    "## Step 1. create dir structure"
   ]
  },
  {
   "cell_type": "code",
   "execution_count": 2,
   "metadata": {
    "collapsed": true
   },
   "outputs": [],
   "source": [
    "# Define which directory to use for my simulation\n",
    "workdir = \"/SNS/users/p63/mcvine/research/SLAF-tetragon-approx2/\""
   ]
  },
  {
   "cell_type": "code",
   "execution_count": 3,
   "metadata": {
    "collapsed": false
   },
   "outputs": [
    {
     "name": "stdout",
     "output_type": "stream",
     "text": [
      "/SNS/users/p63/mcvine/research/SLAF-tetragon-approx2\n",
      "samples  scattering  scattering_2  scattering_3\r\n"
     ]
    }
   ],
   "source": [
    "# change into primary simulation directory\n",
    "%cd {workdir}\n",
    "!ls"
   ]
  },
  {
   "cell_type": "markdown",
   "metadata": {},
   "source": [
    "## Step 2. obtain beam simulation"
   ]
  },
  {
   "cell_type": "code",
   "execution_count": 4,
   "metadata": {
    "collapsed": false
   },
   "outputs": [
    {
     "name": "stdout",
     "output_type": "stream",
     "text": [
      "/SNS/users/p63/mcvine/research/SLAF-tetragon-approx2/scattering_3\n"
     ]
    }
   ],
   "source": [
    "%cd {workdir}/scattering_3"
   ]
  },
  {
   "cell_type": "code",
   "execution_count": 6,
   "metadata": {
    "collapsed": false
   },
   "outputs": [
    {
     "name": "stdout",
     "output_type": "stream",
     "text": [
      "total 192\r\n",
      "-rw-r--r-- 1 p63 users 169443 Jul  8 16:44 SLAF-tetragonal-model-v2.ipynb\r\n"
     ]
    }
   ],
   "source": [
    "!ls -l"
   ]
  },
  {
   "cell_type": "markdown",
   "metadata": {},
   "source": [
    "## Step 3. Check/Update sample assembly"
   ]
  },
  {
   "cell_type": "code",
   "execution_count": 8,
   "metadata": {
    "collapsed": false
   },
   "outputs": [],
   "source": [
    "!cp -r {workdir}/samples {workdir}/samples_3"
   ]
  },
  {
   "cell_type": "code",
   "execution_count": 9,
   "metadata": {
    "collapsed": false
   },
   "outputs": [
    {
     "name": "stdout",
     "output_type": "stream",
     "text": [
      "/SNS/users/p63/mcvine/research/SLAF-tetragon-approx2/samples_3/X/sampleassembly\n"
     ]
    }
   ],
   "source": [
    "%cd \"{workdir}/samples_3/X/sampleassembly\""
   ]
  },
  {
   "cell_type": "code",
   "execution_count": 10,
   "metadata": {
    "collapsed": false
   },
   "outputs": [
    {
     "name": "stdout",
     "output_type": "stream",
     "text": [
      "8\r\n",
      "5 0 0    0 5 0    0 0 5\r\n",
      "V 0 0 0\r\n",
      "V 0 0 0\r\n",
      "V 0 0 0\r\n",
      "V 0 0 0\r\n",
      "V 0 0 0\r\n",
      "V 0 0 0\r\n",
      "V 0 0 0\r\n",
      "V 0 0 0"
     ]
    }
   ],
   "source": [
    "!cat X.xyz\n"
   ]
  },
  {
   "cell_type": "markdown",
   "metadata": {},
   "source": [
    "Note:  xyz data only important for phonon scattering (I think)"
   ]
  },
  {
   "cell_type": "code",
   "execution_count": 11,
   "metadata": {
    "collapsed": false
   },
   "outputs": [
    {
     "name": "stdout",
     "output_type": "stream",
     "text": [
      "<?xml version=\"1.0\"?>\r\n",
      "\r\n",
      "<!DOCTYPE scatterer>\r\n",
      "\r\n",
      "<!-- weights: absorption, scattering, transmission -->\r\n",
      "<homogeneous_scatterer \r\n",
      "  mcweights=\"0, 1, 0.1\"\r\n",
      "  max_multiplescattering_loops=\"3\"\r\n",
      "  >\r\n",
      "  \r\n",
      "  <KernelContainer average=\"yes\">\r\n",
      "    \r\n",
      "    <E_vQ_Kernel \r\n",
      "\tE_Q=\"pi:=3.1415926535897932; twopi:=2*pi; a:=5; b:=5; c:=5; \r\n",
      "    h:=a*Qx/twopi; k:=b*Qy/twopi; l:=c*Qz/twopi; alpha:=0.1; JS:=5.0; Hnorm:=0.9;\r\n",
      "    theta:=asin(Hnorm);\r\n",
      "    gamma_z:=cos(Qz); gamma_xy:=(cos(Qx)+cos(Qy));\r\n",
      "    gammaBar:=(gamma_xy+alpha*gamma_z)/(2.0+alpha);\r\n",
      "    2.0*JS*(2.0+alpha)*sqrt((1+gammaBar)*(1-gammaBar*cos(2.0*theta)))\"\r\n",
      "\tS_Q=\"pi:=3.1415926535897932; twopi:=2*pi; a:=5; b:=5; c:=5; \r\n",
      "    alpha:=0.1; JS:=5.0; Hnorm:=0.9; theta:=asin(Hnorm);\r\n",
      "    gamma_z:=cos(Qz); gamma_xy:=(cos(Qx)+cos(Qy));\r\n",
      "    gammaBar:=(gamma_xy+alpha*gamma_z)/(2.0+alpha);\r\n",
      "    Aq:=2.0*JS*(2.0+alpha)*(1+gammaBar*(sin(theta))^2);\r\n",
      "    Eq:=2.0*JS*(2.0+alpha)*sqrt((1+gammaBar)*(1-gammaBar*cos(2.0*theta)));\r\n",
      "    UqSquared:=(Aq+Eq)/(2.0*Eq); VqSquared:=(Aq-Eq)/(2.0*Eq);\r\n",
      "    Uq:=sqrt(UqSquared); Vq:=sqrt(VqSquared);\r\n",
      "    Sxx:=(Uq+Vq)^2; Syy:=(Uq-Vq)^2;\r\n",
      "    Sxoxo:=Sxx*(sin(theta))^2; Syoyo:=Syy;\r\n",
      "    Sxoxo+Syoyo\"\r\n",
      "\tEmax=\"50*meV\"\r\n",
      "\torientation=\"0.894427191,0.0,-0.4472135955,0.0,1.0,0.0,0.4472135955,0.0,0.894427191\"\r\n",
      "\t/>\r\n",
      "    \r\n",
      "     <E_vQ_Kernel \r\n",
      "\tE_Q=\"pi:=3.1415926535897932; twopi:=2*pi; a:=5; b:=5; c:=5; \r\n",
      "    h:=a*Qx/twopi; k:=b*Qy/twopi; l:=c*Qz/twopi; alpha:=0.1; JS:=5.0; Hnorm:=0.9;\r\n",
      "    theta:=asin(Hnorm);\r\n",
      "    gamma_z:=cos(Qz-pi); gamma_xy:=(cos(Qx-pi)+cos(Qy-pi));\r\n",
      "    gammaBar:=(gamma_xy+alpha*gamma_z)/(2.0+alpha);\r\n",
      "    2.0*JS*(2.0+alpha)*sqrt((1+gammaBar)*(1-gammaBar*cos(2.0*theta)))\"\r\n",
      "\tS_Q=\"pi:=3.1415926535897932; twopi:=2*pi; a:=5; b:=5; c:=5; \r\n",
      "    alpha:=0.1; JS:=5.0; Hnorm:=0.9; theta:=asin(Hnorm);\r\n",
      "    gamma_z:=cos(Qz-pi); gamma_xy:=(cos(Qx-pi)+cos(Qy-pi));\r\n",
      "    gammaBar:=(gamma_xy+alpha*gamma_z)/(2.0+alpha);\r\n",
      "    Aq:=2.0*JS*(2.0+alpha)*(1+gammaBar*(sin(theta))^2);\r\n",
      "    Eq:=2.0*JS*(2.0+alpha)*sqrt((1+gammaBar)*(1-gammaBar*cos(2.0*theta)));\r\n",
      "    UqSquared:=(Aq+Eq)/(2.0*Eq); VqSquared:=(Aq-Eq)/(2.0*Eq);\r\n",
      "    Uq:=sqrt(UqSquared); Vq:=sqrt(VqSquared);\r\n",
      "    Sxx:=(Uq+Vq)^2; Syy:=(Uq-Vq)^2;\r\n",
      "    Sxx*(cos(theta))^2\"\r\n",
      "\tEmax=\"50*meV\"\r\n",
      "\torientation=\"0.894427191,0.0,-0.4472135955,0.0,1.0,0.0,0.4472135955,0.0,0.894427191\"\r\n",
      "\t/>   \r\n",
      "    \r\n",
      "  </KernelContainer>\r\n",
      "  \r\n",
      "</homogeneous_scatterer>"
     ]
    }
   ],
   "source": [
    "!cat X-scatterer.xml"
   ]
  },
  {
   "cell_type": "code",
   "execution_count": 12,
   "metadata": {
    "collapsed": false
   },
   "outputs": [
    {
     "name": "stdout",
     "output_type": "stream",
     "text": [
      "Overwriting ./X-scatterer.xml\n"
     ]
    }
   ],
   "source": [
    "%%file ./X-scatterer.xml\n",
    "<?xml version=\"1.0\"?>\n",
    "\n",
    "<!DOCTYPE scatterer>\n",
    "\n",
    "<!-- weights: absorption, scattering, transmission -->\n",
    "<homogeneous_scatterer \n",
    "  mcweights=\"0, 1, 0.1\"\n",
    "  max_multiplescattering_loops=\"3\"\n",
    "  >\n",
    "  \n",
    "  <KernelContainer average=\"yes\">\n",
    "    \n",
    "    <E_vQ_Kernel \n",
    "\tE_Q=\"pi:=3.1415926535897932; twopi:=2*pi; a:=5; b:=5; c:=5; \n",
    "    h:=a*Qx/twopi; k:=b*Qy/twopi; l:=c*Qz/twopi; alpha:=0.1; JS:=5.0; Hnorm:=0.9;\n",
    "    theta:=asin(Hnorm);\n",
    "    gamma_z:=cos(Qz); gamma_xy:=(cos(Qx)+cos(Qy));\n",
    "    gammaBar:=(gamma_xy+alpha*gamma_z)/(2.0+alpha);\n",
    "    2.0*JS*(2.0+alpha)*sqrt((1+gammaBar)*(1-gammaBar*cos(2.0*theta)))\"\n",
    "\tS_Q=\"pi:=3.1415926535897932; twopi:=2*pi; a:=5; b:=5; c:=5; \n",
    "    alpha:=0.1; JS:=5.0; Hnorm:=0.9; theta:=asin(Hnorm);\n",
    "    gamma_z:=cos(Qz); gamma_xy:=(cos(Qx)+cos(Qy));\n",
    "    gammaBar:=(gamma_xy+alpha*gamma_z)/(2.0+alpha);\n",
    "    Aq:=2.0*JS*(2.0+alpha)*(1+gammaBar*(sin(theta))^2);\n",
    "    Eq:=2.0*JS*(2.0+alpha)*sqrt((1+gammaBar)*(1-gammaBar*cos(2.0*theta)));\n",
    "    UqSquared:=(Aq+Eq)/(2.0*Eq); VqSquared:=(Aq-Eq)/(2.0*Eq);\n",
    "    Uq:=sqrt(UqSquared); Vq:=sqrt(VqSquared);\n",
    "    Sxx:=(Uq+Vq)^2; Syy:=(Uq-Vq)^2;\n",
    "    Sxoxo:=Sxx*(sin(theta))^2; Syoyo:=Syy;\n",
    "    Sxoxo+Syoyo\"\n",
    "\tEmax=\"180*meV\"\n",
    "\torientation=\"0.894427191,0.0,-0.4472135955,0.0,1.0,0.0,0.4472135955,0.0,0.894427191\"\n",
    "\t/>\n",
    "    \n",
    "     <E_vQ_Kernel \n",
    "\tE_Q=\"pi:=3.1415926535897932; twopi:=2*pi; a:=5; b:=5; c:=5; \n",
    "    h:=a*Qx/twopi; k:=b*Qy/twopi; l:=c*Qz/twopi; alpha:=0.1; JS:=5.0; Hnorm:=0.9;\n",
    "    theta:=asin(Hnorm);\n",
    "    gamma_z:=cos(Qz-pi); gamma_xy:=(cos(Qx-pi)+cos(Qy-pi));\n",
    "    gammaBar:=(gamma_xy+alpha*gamma_z)/(2.0+alpha);\n",
    "    2.0*JS*(2.0+alpha)*sqrt((1+gammaBar)*(1-gammaBar*cos(2.0*theta)))\"\n",
    "\tS_Q=\"pi:=3.1415926535897932; twopi:=2*pi; a:=5; b:=5; c:=5; \n",
    "    alpha:=0.1; JS:=5.0; Hnorm:=0.9; theta:=asin(Hnorm);\n",
    "    gamma_z:=cos(Qz-pi); gamma_xy:=(cos(Qx-pi)+cos(Qy-pi));\n",
    "    gammaBar:=(gamma_xy+alpha*gamma_z)/(2.0+alpha);\n",
    "    Aq:=2.0*JS*(2.0+alpha)*(1+gammaBar*(sin(theta))^2);\n",
    "    Eq:=2.0*JS*(2.0+alpha)*sqrt((1+gammaBar)*(1-gammaBar*cos(2.0*theta)));\n",
    "    UqSquared:=(Aq+Eq)/(2.0*Eq); VqSquared:=(Aq-Eq)/(2.0*Eq);\n",
    "    Uq:=sqrt(UqSquared); Vq:=sqrt(VqSquared);\n",
    "    Sxx:=(Uq+Vq)^2; Syy:=(Uq-Vq)^2;\n",
    "    Sxx*(cos(theta))^2\"\n",
    "\tEmax=\"180*meV\"\n",
    "\torientation=\"0.894427191,0.0,-0.4472135955,0.0,1.0,0.0,0.4472135955,0.0,0.894427191\"\n",
    "\t/>   \n",
    "    \n",
    "  </KernelContainer>\n",
    "  \n",
    "</homogeneous_scatterer>\n"
   ]
  },
  {
   "cell_type": "code",
   "execution_count": 32,
   "metadata": {
    "collapsed": false
   },
   "outputs": [
    {
     "data": {
      "text/plain": [
       "(array([ 1.25663706,  0.        ,  0.        ]),\n",
       " array([ 0.        ,  1.25663706,  0.        ]),\n",
       " array([ 0.        ,  0.        ,  1.25663706]))"
      ]
     },
     "execution_count": 32,
     "metadata": {},
     "output_type": "execute_result"
    }
   ],
   "source": [
    "a,b,c=5,5,5\n",
    "\n",
    "from numpy import sin, cos, deg2rad\n",
    "a1 = [a, 0, 0]\n",
    "a2 = [0, b, 0]\n",
    "a3 = [0, 0, c]\n",
    "\n",
    "twopi = 2*np.pi\n",
    "f = twopi/np.dot(a1, np.cross(a2, a3))\n",
    "b1 = np.cross(a2,a3) * f\n",
    "b2 = np.cross(a3,a1) * f\n",
    "b3 = np.cross(a1,a2) * f\n",
    "b1,b2,b3"
   ]
  },
  {
   "cell_type": "markdown",
   "metadata": {},
   "source": [
    "#### Orientation of the kernel\n",
    "Here we need to use the convention that z is along beam, y vertical up.\n",
    "The kernel has its own cartesian axis e’x e’y e’z. Because we know\n",
    "u = 102 v = 100\n",
    ", we have the basis vectors of the instrument coordinate system\n",
    "\n",
    "    ez along b1 + 2*b3\n",
    "    ex along b1\n",
    "    \n",
    "\n",
    "So we have them in the reciprocal cartesian axis"
   ]
  },
  {
   "cell_type": "code",
   "execution_count": 33,
   "metadata": {
    "collapsed": false
   },
   "outputs": [
    {
     "data": {
      "text/plain": [
       "(array([ 0.89442719,  0.        , -0.4472136 ]),\n",
       " array([ 0.,  1.,  0.]),\n",
       " array([ 0.4472136 ,  0.        ,  0.89442719]))"
      ]
     },
     "execution_count": 33,
     "metadata": {},
     "output_type": "execute_result"
    }
   ],
   "source": [
    "ez = b1 + 2*b3; ez /= np.linalg.norm(ez)\n",
    "ex1 = b1\n",
    "ey = np.cross(ez, ex1); ey/=np.linalg.norm(ey)\n",
    "ex = np.cross(ey, ez)\n",
    "ex, ey, ez"
   ]
  },
  {
   "cell_type": "markdown",
   "metadata": {},
   "source": [
    "The rotation matrix is define as\n",
    "```\n",
    "    ex.ex’ ex.ey’ ex.ez’ \n",
    "R = ey.ex’ ey.ey’ ey.ez’\n",
    "    ez.ex’ ez.ey’ ez.ez’\n",
    "```\n",
    "So"
   ]
  },
  {
   "cell_type": "code",
   "execution_count": 34,
   "metadata": {
    "collapsed": false
   },
   "outputs": [
    {
     "data": {
      "text/plain": [
       "(array([[ 0.89442719,  0.        , -0.4472136 ],\n",
       "        [ 0.        ,  1.        ,  0.        ],\n",
       "        [ 0.4472136 ,  0.        ,  0.89442719]]),\n",
       " array([ 0.89442719,  0.        , -0.4472136 ,  0.        ,  1.        ,\n",
       "         0.        ,  0.4472136 ,  0.        ,  0.89442719]))"
      ]
     },
     "execution_count": 34,
     "metadata": {},
     "output_type": "execute_result"
    }
   ],
   "source": [
    "R = np.array([ ex, ey, ez ])\n",
    "Rflat = R.copy(); Rflat.shape = -1,\n",
    "R, Rflat"
   ]
  },
  {
   "cell_type": "markdown",
   "metadata": {},
   "source": [
    "Now we add an extra kernel parameter:"
   ]
  },
  {
   "cell_type": "code",
   "execution_count": 35,
   "metadata": {
    "collapsed": false
   },
   "outputs": [
    {
     "data": {
      "text/plain": [
       "'orientation=\"0.894427191,0.0,-0.4472135955,0.0,1.0,0.0,0.4472135955,0.0,0.894427191\"'"
      ]
     },
     "execution_count": 35,
     "metadata": {},
     "output_type": "execute_result"
    }
   ],
   "source": [
    "'orientation=\"%s\"' % (','.join(str(e) for e in Rflat),)"
   ]
  },
  {
   "cell_type": "code",
   "execution_count": 36,
   "metadata": {
    "collapsed": true
   },
   "outputs": [],
   "source": [
    "# modify X-scatterer.xml to specify the orientation"
   ]
  },
  {
   "cell_type": "code",
   "execution_count": 11,
   "metadata": {
    "collapsed": false
   },
   "outputs": [
    {
     "name": "stdout",
     "output_type": "stream",
     "text": [
      "<?xml version=\"1.0\"?>\r\n",
      "\r\n",
      "<!DOCTYPE scatterer>\r\n",
      "\r\n",
      "<!-- weights: absorption, scattering, transmission -->\r\n",
      "<homogeneous_scatterer \r\n",
      "  mcweights=\"0, 1, 0.1\"\r\n",
      "  max_multiplescattering_loops=\"3\"\r\n",
      "  >\r\n",
      "  \r\n",
      "  <KernelContainer average=\"yes\">\r\n",
      "    \r\n",
      "    <E_vQ_Kernel \r\n",
      "\tE_Q=\"pi:=3.1415926535897932; twopi:=2*pi; a:=5; b:=5; c:=5; \r\n",
      "    h:=a*Qx/twopi; k:=b*Qy/twopi; l:=c*Qz/twopi; alpha:=0.1; JS:=5.0; Hnorm:=0.9;\r\n",
      "    theta:=asin(Hnorm);\r\n",
      "    gamma_z:=cos(Qz); gamma_xy:=(cos(Qx)+cos(Qy));\r\n",
      "    gammaBar:=(gamma_xy+alpha*gamma_z)/(2.0+alpha);\r\n",
      "    2.0*JS*(2.0+alpha)*sqrt((1+gammaBar)*(1-gammaBar*cos(2.0*theta)))\"\r\n",
      "\tS_Q=\"pi:=3.1415926535897932; twopi:=2*pi; a:=5; b:=5; c:=5; \r\n",
      "    alpha:=0.1; JS:=5.0; Hnorm:=0.9; theta:=asin(Hnorm);\r\n",
      "    gamma_z:=cos(Qz); gamma_xy:=(cos(Qx)+cos(Qy));\r\n",
      "    gammaBar:=(gamma_xy+alpha*gamma_z)/(2.0+alpha);\r\n",
      "    Aq:=2.0*JS*(2.0+alpha)*(1+gammaBar*(sin(theta))^2);\r\n",
      "    Eq:=2.0*JS*(2.0+alpha)*sqrt((1+gammaBar)*(1-gammaBar*cos(2.0*theta)));\r\n",
      "    UqSquared:=(Aq+Eq)/(2.0*Eq); VqSquared:=(Aq-Eq)/(2.0*Eq);\r\n",
      "    Uq:=sqrt(UqSquared); Vq:=sqrt(VqSquared);\r\n",
      "    Sxx:=(Uq+Vq)^2; Syy:=(Uq-Vq)^2;\r\n",
      "    Sxoxo:=Sxx*(sin(theta))^2; Syoyo:=Syy;\r\n",
      "    Sxoxo+Syoyo\"\r\n",
      "\tEmax=\"50*meV\"\r\n",
      "\torientation=\"0.894427191,0.0,-0.4472135955,0.0,1.0,0.0,0.4472135955,0.0,0.894427191\"\r\n",
      "\t/>\r\n",
      "    \r\n",
      "     <E_vQ_Kernel \r\n",
      "\tE_Q=\"pi:=3.1415926535897932; twopi:=2*pi; a:=5; b:=5; c:=5; \r\n",
      "    h:=a*Qx/twopi; k:=b*Qy/twopi; l:=c*Qz/twopi; alpha:=0.1; JS:=5.0; Hnorm:=0.9;\r\n",
      "    theta:=asin(Hnorm);\r\n",
      "    gamma_z:=cos(Qz-pi); gamma_xy:=(cos(Qx-pi)+cos(Qy-pi));\r\n",
      "    gammaBar:=(gamma_xy+alpha*gamma_z)/(2.0+alpha);\r\n",
      "    2.0*JS*(2.0+alpha)*sqrt((1+gammaBar)*(1-gammaBar*cos(2.0*theta)))\"\r\n",
      "\tS_Q=\"pi:=3.1415926535897932; twopi:=2*pi; a:=5; b:=5; c:=5; \r\n",
      "    alpha:=0.1; JS:=5.0; Hnorm:=0.9; theta:=asin(Hnorm);\r\n",
      "    gamma_z:=cos(Qz-pi); gamma_xy:=(cos(Qx-pi)+cos(Qy-pi));\r\n",
      "    gammaBar:=(gamma_xy+alpha*gamma_z)/(2.0+alpha);\r\n",
      "    Aq:=2.0*JS*(2.0+alpha)*(1+gammaBar*(sin(theta))^2);\r\n",
      "    Eq:=2.0*JS*(2.0+alpha)*sqrt((1+gammaBar)*(1-gammaBar*cos(2.0*theta)));\r\n",
      "    UqSquared:=(Aq+Eq)/(2.0*Eq); VqSquared:=(Aq-Eq)/(2.0*Eq);\r\n",
      "    Uq:=sqrt(UqSquared); Vq:=sqrt(VqSquared);\r\n",
      "    Sxx:=(Uq+Vq)^2; Syy:=(Uq-Vq)^2;\r\n",
      "    Sxx*(cos(theta))^2\"\r\n",
      "\tEmax=\"50*meV\"\r\n",
      "\torientation=\"0.894427191,0.0,-0.4472135955,0.0,1.0,0.0,0.4472135955,0.0,0.894427191\"\r\n",
      "\t/>   \r\n",
      "    \r\n",
      "  </KernelContainer>\r\n",
      "  \r\n",
      "</homogeneous_scatterer>"
     ]
    }
   ],
   "source": [
    "!cat X-scatterer.xml"
   ]
  },
  {
   "cell_type": "code",
   "execution_count": 13,
   "metadata": {
    "collapsed": false
   },
   "outputs": [
    {
     "name": "stdout",
     "output_type": "stream",
     "text": [
      "sampleassembly.xml  X-scatterer.xml  X.xyz\r\n"
     ]
    }
   ],
   "source": [
    "!ls"
   ]
  },
  {
   "cell_type": "markdown",
   "metadata": {},
   "source": [
    "## Step 4. Scattering"
   ]
  },
  {
   "cell_type": "code",
   "execution_count": 14,
   "metadata": {
    "collapsed": false
   },
   "outputs": [
    {
     "name": "stdout",
     "output_type": "stream",
     "text": [
      "/SNS/users/p63/mcvine/research/SLAF-tetragon-approx2/scattering_3\n"
     ]
    }
   ],
   "source": [
    "%cd \"{workdir}/scattering_3\""
   ]
  },
  {
   "cell_type": "code",
   "execution_count": 15,
   "metadata": {
    "collapsed": false
   },
   "outputs": [
    {
     "name": "stdout",
     "output_type": "stream",
     "text": [
      "total 168\r\n",
      "-rw-r--r-- 1 p63 users 168868 Jul  8 16:48 SLAF-tetragonal-model-v2.ipynb\r\n"
     ]
    }
   ],
   "source": [
    "!ls -l"
   ]
  },
  {
   "cell_type": "code",
   "execution_count": 16,
   "metadata": {
    "collapsed": false
   },
   "outputs": [
    {
     "name": "stdout",
     "output_type": "stream",
     "text": [
      "scripts  SLAF-tetragonal-model-v2.ipynb  template\r\n"
     ]
    }
   ],
   "source": [
    "!rsync -a ~lj7/simulations/mcvine_workflow/DGS/ARCS/single-crystal/* ./\n",
    "!ls"
   ]
  },
  {
   "cell_type": "code",
   "execution_count": 17,
   "metadata": {
    "collapsed": false
   },
   "outputs": [
    {
     "name": "stdout",
     "output_type": "stream",
     "text": [
      "/SNS/users/p63/mcvine/research/SLAF-tetragon-approx2/scattering_3/template\n",
      "/SNS/users/p63/mcvine/research/SLAF-tetragon-approx2/scattering_3\n"
     ]
    }
   ],
   "source": [
    "%cd template\n",
    "\n",
    "!ln -s ../../samples/X/sampleassembly\n",
    "\n",
    "!ln -s ../../BaFe2Se3_IndependentPlaquettesModel/beam_150meV_1e9_neutrons/\n",
    "\n",
    "%cd .."
   ]
  },
  {
   "cell_type": "code",
   "execution_count": 18,
   "metadata": {
    "collapsed": false
   },
   "outputs": [
    {
     "name": "stdout",
     "output_type": "stream",
     "text": [
      "Writing sim.yml\n"
     ]
    }
   ],
   "source": [
    "%%file sim.yml\n",
    "\n",
    "cluster:\n",
    "  nodes: 15\n",
    "instrument:\n",
    "  name: arcs\n",
    "scatter:\n",
    "  ncount: 1e6\n",
    "  multiple_scattering: off\n",
    "  template: ./template\n"
   ]
  },
  {
   "cell_type": "code",
   "execution_count": 46,
   "metadata": {
    "collapsed": true
   },
   "outputs": [],
   "source": [
    "# Test the simulation for a single angle"
   ]
  },
  {
   "cell_type": "code",
   "execution_count": 21,
   "metadata": {
    "collapsed": false,
    "scrolled": true
   },
   "outputs": [
    {
     "name": "stdout",
     "output_type": "stream",
     "text": [
      "SAMPLE_ANGLE=30.0 time ./scatter &> log.scatter\n",
      "time ./create-nxs &> log.create-nxs\n",
      "\n",
      "real\t1m32.928s\n",
      "user\t16m13.076s\n",
      "sys\t3m4.286s\n",
      "cp sim.nxs sim-30.0.nxs\n",
      "mcvine instruments arcs nxs populate_metadata --type=Ei --beam_outdir=beam/out --nxs=sim-30.0.nxs\n",
      "/SNS/users/lj7/software/miniconda2/envs/mcvine/lib/python2.7/site-packages/mcvine/deployment_info.py:41: UserWarning: Neither environment variable MCVINE_DIR nor DANSE_DIR was defined. Assumed that it is /SNS/users/lj7/software/miniconda2/envs/mcvine.\n",
      "  warnings.warn(msg)\n"
     ]
    }
   ],
   "source": [
    "!./scripts/sim.py --angle=30.0"
   ]
  },
  {
   "cell_type": "code",
   "execution_count": 22,
   "metadata": {
    "collapsed": false
   },
   "outputs": [
    {
     "name": "stdout",
     "output_type": "stream",
     "text": [
      "Overwriting sim.yml\n"
     ]
    }
   ],
   "source": [
    "%%file sim.yml\n",
    "\n",
    "cluster:\n",
    "  nodes: 20\n",
    "instrument:\n",
    "  name: arcs\n",
    "scatter:\n",
    "  ncount: 1e6\n",
    "  multiple_scattering: off\n",
    "  template: ./template\n"
   ]
  },
  {
   "cell_type": "code",
   "execution_count": null,
   "metadata": {
    "collapsed": true
   },
   "outputs": [],
   "source": [
    "# a script to create a submit script submit.sh\n",
    "# may need to create several scripts"
   ]
  },
  {
   "cell_type": "code",
   "execution_count": 23,
   "metadata": {
    "collapsed": false
   },
   "outputs": [
    {
     "name": "stdout",
     "output_type": "stream",
     "text": [
      "Writing create-submit.py\n"
     ]
    }
   ],
   "source": [
    "%%file create-submit.py\n",
    "import numpy as np\n",
    "ostream = open('submit.sh', 'wt')\n",
    "for a in np.arange(-90, 90.1, 3.):\n",
    "    ostream.write('./scripts/sim.py --angle=%s \\n' % a)\n",
    "    continue\n",
    "ostream.close()"
   ]
  },
  {
   "cell_type": "code",
   "execution_count": 24,
   "metadata": {
    "collapsed": false
   },
   "outputs": [
    {
     "name": "stdout",
     "output_type": "stream",
     "text": [
      "import numpy as np\r\n",
      "ostream = open('submit.sh', 'wt')\r\n",
      "for a in np.arange(-90, 90.1, 3.):\r\n",
      "    ostream.write('./scripts/sim.py --angle=%s \\n' % a)\r\n",
      "    continue\r\n",
      "ostream.close()"
     ]
    }
   ],
   "source": [
    "!cat create-submit.py"
   ]
  },
  {
   "cell_type": "code",
   "execution_count": 25,
   "metadata": {
    "collapsed": false
   },
   "outputs": [],
   "source": [
    "# run the script to create submit.sh\n",
    "!python ./create-submit.py"
   ]
  },
  {
   "cell_type": "code",
   "execution_count": 42,
   "metadata": {
    "collapsed": false,
    "scrolled": true
   },
   "outputs": [],
   "source": [
    "# check submit script\n",
    "#!cat submit.sh"
   ]
  },
  {
   "cell_type": "code",
   "execution_count": 26,
   "metadata": {
    "collapsed": true
   },
   "outputs": [],
   "source": [
    "# make sure submit.sh is executable\n",
    "!chmod +x submit.sh\n",
    "# and then start it script in the background"
   ]
  },
  {
   "cell_type": "code",
   "execution_count": 27,
   "metadata": {
    "collapsed": false
   },
   "outputs": [
    {
     "name": "stdout",
     "output_type": "stream",
     "text": [
      "Starting job # 0 in a separate thread.\n"
     ]
    }
   ],
   "source": [
    "%%script bash --bg\n",
    "./submit.sh\n",
    "# this will take a while to finish."
   ]
  },
  {
   "cell_type": "markdown",
   "metadata": {},
   "source": [
    "## Step 5. Reduction"
   ]
  },
  {
   "cell_type": "code",
   "execution_count": 28,
   "metadata": {
    "collapsed": false
   },
   "outputs": [
    {
     "name": "stdout",
     "output_type": "stream",
     "text": [
      "/SNS/users/p63/mcvine/research/SLAF-tetragon-approx2/scattering_3\n",
      "beam\t\t\t\twork_-21.0  work_-39.0\twork_-6.0   work_-78.0\r\n",
      "create-submit.py\t\twork_21.0   work_39.0\twork_6.0    work_78.0\r\n",
      "scripts\t\t\t\twork_-24.0  work_-42.0\twork_-60.0  work_-81.0\r\n",
      "sim.yml\t\t\t\twork_24.0   work_42.0\twork_60.0   work_81.0\r\n",
      "SLAF-tetragonal-model-v3.ipynb\twork_-27.0  work_-45.0\twork_-63.0  work_-84.0\r\n",
      "submit.sh\t\t\twork_27.0   work_45.0\twork_63.0   work_84.0\r\n",
      "template\t\t\twork_-3.0   work_-48.0\twork_-66.0  work_-87.0\r\n",
      "work_0.0\t\t\twork_3.0    work_48.0\twork_66.0   work_87.0\r\n",
      "work_-12.0\t\t\twork_-30.0  work_-51.0\twork_-69.0  work_-9.0\r\n",
      "work_12.0\t\t\twork_30.0   work_51.0\twork_69.0   work_9.0\r\n",
      "work_-15.0\t\t\twork_-33.0  work_-54.0\twork_-72.0  work_-90.0\r\n",
      "work_15.0\t\t\twork_33.0   work_54.0\twork_72.0   work_90.0\r\n",
      "work_-18.0\t\t\twork_-36.0  work_-57.0\twork_-75.0\r\n",
      "work_18.0\t\t\twork_36.0   work_57.0\twork_75.0\r\n"
     ]
    }
   ],
   "source": [
    "%cd \"{workdir}/scattering_3\"\n",
    "!ls"
   ]
  },
  {
   "cell_type": "markdown",
   "metadata": {},
   "source": [
    "First we reduce event-mode nexus data for each angle using Mantid"
   ]
  },
  {
   "cell_type": "code",
   "execution_count": 29,
   "metadata": {
    "collapsed": false
   },
   "outputs": [
    {
     "name": "stdout",
     "output_type": "stream",
     "text": [
      "ls: cannot access work_2.0/reduced*: No such file or directory\r\n"
     ]
    }
   ],
   "source": [
    "# check if there is reduced data\n",
    "!ls work_2.0/reduced*"
   ]
  },
  {
   "cell_type": "code",
   "execution_count": 30,
   "metadata": {
    "collapsed": false,
    "scrolled": true
   },
   "outputs": [],
   "source": [
    "# reduce tof events to E events\n",
    "# this takes about 30 minutes\n",
    "!./scripts/reduce/reduceKeepingEvents_batch.py -90,90.1,3. 150 0,150,0.5 > log.reduce"
   ]
  },
  {
   "cell_type": "code",
   "execution_count": null,
   "metadata": {
    "collapsed": true
   },
   "outputs": [],
   "source": [
    "# create configuration file for getting a slice"
   ]
  },
  {
   "cell_type": "code",
   "execution_count": 31,
   "metadata": {
    "collapsed": false
   },
   "outputs": [
    {
     "name": "stdout",
     "output_type": "stream",
     "text": [
      "Writing slice_H00.yml\n"
     ]
    }
   ],
   "source": [
    "%%file slice_H00.yml\n",
    "\n",
    "angles: -90,90.1,3.0\n",
    "filename_pattern: work_%(angle)s/reduced_%(angle)s.nxs\n",
    "lattice: 5., 5., 5., 90, 90, 90\n",
    "orientation:\n",
    " u: 1, 0, 2\n",
    " v: 1,0,0\n",
    "Eaxis:\n",
    " min: 0\n",
    " max: 51\n",
    " N: 181\n",
    "Q_projections:\n",
    " U:\n",
    "  proj: 1,0,0\n",
    "  proj_name: H,0,0\n",
    "  min: -2.1\n",
    "  max: 0.1\n",
    "  N: 201\n",
    " V:\n",
    "  proj: 0,1,0\n",
    "  proj_name: 0,K,0\n",
    "  min: -.2\n",
    "  max: .2\n",
    "  N: 1\n",
    " W:\n",
    "  proj: 0,0,1\n",
    "  proj_name: 0,0,L\n",
    "  min: -0.5\n",
    "  max: 0.5\n",
    "  N: 1\n",
    "output: slice_H00.nxs\n"
   ]
  },
  {
   "cell_type": "code",
   "execution_count": 32,
   "metadata": {
    "collapsed": true
   },
   "outputs": [],
   "source": [
    "# hack for now. copy the config python file to current dir\n",
    "!cp /SNS/users/lj7/simulations/mcvine_workflow/DGS/ARCS/single-crystal/scripts/config.py ."
   ]
  },
  {
   "cell_type": "code",
   "execution_count": 33,
   "metadata": {
    "collapsed": false,
    "scrolled": true
   },
   "outputs": [],
   "source": [
    "# run script to calculate the slice\n",
    "# this take ~15 minutes \n",
    "! PYTHONPATH=$PWD:$PYTHONPATH ./scripts/reduce/getaslice.py slice_H00.yml > log.slice_H00"
   ]
  },
  {
   "cell_type": "code",
   "execution_count": 34,
   "metadata": {
    "collapsed": false
   },
   "outputs": [
    {
     "name": "stdout",
     "output_type": "stream",
     "text": [
      "FrameworkManager-[Notice] Welcome to Mantid 3.6.100\n",
      "FrameworkManager-[Notice] Please cite: http://dx.doi.org/10.1016/j.nima.2014.07.029 and this release: http://dx.doi.org/10.5286/Software/Mantid3.6.100\n",
      "Load-[Notice] Load started\n",
      "Load-[Notice] Load successful, Duration 0.86 seconds\n"
     ]
    }
   ],
   "source": [
    "!./scripts/reduce/slice2hist.py \"slice_H00.nxs\" slice_H00.h5"
   ]
  },
  {
   "cell_type": "code",
   "execution_count": 37,
   "metadata": {
    "collapsed": false,
    "scrolled": false
   },
   "outputs": [
    {
     "name": "stdout",
     "output_type": "stream",
     "text": [
      "plot z in (0, 0.1)\n"
     ]
    },
    {
     "data": {
      "application/javascript": [
       "/* Put everything inside the global mpl namespace */\n",
       "window.mpl = {};\n",
       "\n",
       "mpl.get_websocket_type = function() {\n",
       "    if (typeof(WebSocket) !== 'undefined') {\n",
       "        return WebSocket;\n",
       "    } else if (typeof(MozWebSocket) !== 'undefined') {\n",
       "        return MozWebSocket;\n",
       "    } else {\n",
       "        alert('Your browser does not have WebSocket support.' +\n",
       "              'Please try Chrome, Safari or Firefox ≥ 6. ' +\n",
       "              'Firefox 4 and 5 are also supported but you ' +\n",
       "              'have to enable WebSockets in about:config.');\n",
       "    };\n",
       "}\n",
       "\n",
       "mpl.figure = function(figure_id, websocket, ondownload, parent_element) {\n",
       "    this.id = figure_id;\n",
       "\n",
       "    this.ws = websocket;\n",
       "\n",
       "    this.supports_binary = (this.ws.binaryType != undefined);\n",
       "\n",
       "    if (!this.supports_binary) {\n",
       "        var warnings = document.getElementById(\"mpl-warnings\");\n",
       "        if (warnings) {\n",
       "            warnings.style.display = 'block';\n",
       "            warnings.textContent = (\n",
       "                \"This browser does not support binary websocket messages. \" +\n",
       "                    \"Performance may be slow.\");\n",
       "        }\n",
       "    }\n",
       "\n",
       "    this.imageObj = new Image();\n",
       "\n",
       "    this.context = undefined;\n",
       "    this.message = undefined;\n",
       "    this.canvas = undefined;\n",
       "    this.rubberband_canvas = undefined;\n",
       "    this.rubberband_context = undefined;\n",
       "    this.format_dropdown = undefined;\n",
       "\n",
       "    this.image_mode = 'full';\n",
       "\n",
       "    this.root = $('<div/>');\n",
       "    this._root_extra_style(this.root)\n",
       "    this.root.attr('style', 'display: inline-block');\n",
       "\n",
       "    $(parent_element).append(this.root);\n",
       "\n",
       "    this._init_header(this);\n",
       "    this._init_canvas(this);\n",
       "    this._init_toolbar(this);\n",
       "\n",
       "    var fig = this;\n",
       "\n",
       "    this.waiting = false;\n",
       "\n",
       "    this.ws.onopen =  function () {\n",
       "            fig.send_message(\"supports_binary\", {value: fig.supports_binary});\n",
       "            fig.send_message(\"send_image_mode\", {});\n",
       "            fig.send_message(\"refresh\", {});\n",
       "        }\n",
       "\n",
       "    this.imageObj.onload = function() {\n",
       "            if (fig.image_mode == 'full') {\n",
       "                // Full images could contain transparency (where diff images\n",
       "                // almost always do), so we need to clear the canvas so that\n",
       "                // there is no ghosting.\n",
       "                fig.context.clearRect(0, 0, fig.canvas.width, fig.canvas.height);\n",
       "            }\n",
       "            fig.context.drawImage(fig.imageObj, 0, 0);\n",
       "        };\n",
       "\n",
       "    this.imageObj.onunload = function() {\n",
       "        this.ws.close();\n",
       "    }\n",
       "\n",
       "    this.ws.onmessage = this._make_on_message_function(this);\n",
       "\n",
       "    this.ondownload = ondownload;\n",
       "}\n",
       "\n",
       "mpl.figure.prototype._init_header = function() {\n",
       "    var titlebar = $(\n",
       "        '<div class=\"ui-dialog-titlebar ui-widget-header ui-corner-all ' +\n",
       "        'ui-helper-clearfix\"/>');\n",
       "    var titletext = $(\n",
       "        '<div class=\"ui-dialog-title\" style=\"width: 100%; ' +\n",
       "        'text-align: center; padding: 3px;\"/>');\n",
       "    titlebar.append(titletext)\n",
       "    this.root.append(titlebar);\n",
       "    this.header = titletext[0];\n",
       "}\n",
       "\n",
       "\n",
       "\n",
       "mpl.figure.prototype._canvas_extra_style = function(canvas_div) {\n",
       "\n",
       "}\n",
       "\n",
       "\n",
       "mpl.figure.prototype._root_extra_style = function(canvas_div) {\n",
       "\n",
       "}\n",
       "\n",
       "mpl.figure.prototype._init_canvas = function() {\n",
       "    var fig = this;\n",
       "\n",
       "    var canvas_div = $('<div/>');\n",
       "\n",
       "    canvas_div.attr('style', 'position: relative; clear: both; outline: 0');\n",
       "\n",
       "    function canvas_keyboard_event(event) {\n",
       "        return fig.key_event(event, event['data']);\n",
       "    }\n",
       "\n",
       "    canvas_div.keydown('key_press', canvas_keyboard_event);\n",
       "    canvas_div.keyup('key_release', canvas_keyboard_event);\n",
       "    this.canvas_div = canvas_div\n",
       "    this._canvas_extra_style(canvas_div)\n",
       "    this.root.append(canvas_div);\n",
       "\n",
       "    var canvas = $('<canvas/>');\n",
       "    canvas.addClass('mpl-canvas');\n",
       "    canvas.attr('style', \"left: 0; top: 0; z-index: 0; outline: 0\")\n",
       "\n",
       "    this.canvas = canvas[0];\n",
       "    this.context = canvas[0].getContext(\"2d\");\n",
       "\n",
       "    var rubberband = $('<canvas/>');\n",
       "    rubberband.attr('style', \"position: absolute; left: 0; top: 0; z-index: 1;\")\n",
       "\n",
       "    var pass_mouse_events = true;\n",
       "\n",
       "    canvas_div.resizable({\n",
       "        start: function(event, ui) {\n",
       "            pass_mouse_events = false;\n",
       "        },\n",
       "        resize: function(event, ui) {\n",
       "            fig.request_resize(ui.size.width, ui.size.height);\n",
       "        },\n",
       "        stop: function(event, ui) {\n",
       "            pass_mouse_events = true;\n",
       "            fig.request_resize(ui.size.width, ui.size.height);\n",
       "        },\n",
       "    });\n",
       "\n",
       "    function mouse_event_fn(event) {\n",
       "        if (pass_mouse_events)\n",
       "            return fig.mouse_event(event, event['data']);\n",
       "    }\n",
       "\n",
       "    rubberband.mousedown('button_press', mouse_event_fn);\n",
       "    rubberband.mouseup('button_release', mouse_event_fn);\n",
       "    // Throttle sequential mouse events to 1 every 20ms.\n",
       "    rubberband.mousemove('motion_notify', mouse_event_fn);\n",
       "\n",
       "    rubberband.mouseenter('figure_enter', mouse_event_fn);\n",
       "    rubberband.mouseleave('figure_leave', mouse_event_fn);\n",
       "\n",
       "    canvas_div.on(\"wheel\", function (event) {\n",
       "        event = event.originalEvent;\n",
       "        event['data'] = 'scroll'\n",
       "        if (event.deltaY < 0) {\n",
       "            event.step = 1;\n",
       "        } else {\n",
       "            event.step = -1;\n",
       "        }\n",
       "        mouse_event_fn(event);\n",
       "    });\n",
       "\n",
       "    canvas_div.append(canvas);\n",
       "    canvas_div.append(rubberband);\n",
       "\n",
       "    this.rubberband = rubberband;\n",
       "    this.rubberband_canvas = rubberband[0];\n",
       "    this.rubberband_context = rubberband[0].getContext(\"2d\");\n",
       "    this.rubberband_context.strokeStyle = \"#000000\";\n",
       "\n",
       "    this._resize_canvas = function(width, height) {\n",
       "        // Keep the size of the canvas, canvas container, and rubber band\n",
       "        // canvas in synch.\n",
       "        canvas_div.css('width', width)\n",
       "        canvas_div.css('height', height)\n",
       "\n",
       "        canvas.attr('width', width);\n",
       "        canvas.attr('height', height);\n",
       "\n",
       "        rubberband.attr('width', width);\n",
       "        rubberband.attr('height', height);\n",
       "    }\n",
       "\n",
       "    // Set the figure to an initial 600x600px, this will subsequently be updated\n",
       "    // upon first draw.\n",
       "    this._resize_canvas(600, 600);\n",
       "\n",
       "    // Disable right mouse context menu.\n",
       "    $(this.rubberband_canvas).bind(\"contextmenu\",function(e){\n",
       "        return false;\n",
       "    });\n",
       "\n",
       "    function set_focus () {\n",
       "        canvas.focus();\n",
       "        canvas_div.focus();\n",
       "    }\n",
       "\n",
       "    window.setTimeout(set_focus, 100);\n",
       "}\n",
       "\n",
       "mpl.figure.prototype._init_toolbar = function() {\n",
       "    var fig = this;\n",
       "\n",
       "    var nav_element = $('<div/>')\n",
       "    nav_element.attr('style', 'width: 100%');\n",
       "    this.root.append(nav_element);\n",
       "\n",
       "    // Define a callback function for later on.\n",
       "    function toolbar_event(event) {\n",
       "        return fig.toolbar_button_onclick(event['data']);\n",
       "    }\n",
       "    function toolbar_mouse_event(event) {\n",
       "        return fig.toolbar_button_onmouseover(event['data']);\n",
       "    }\n",
       "\n",
       "    for(var toolbar_ind in mpl.toolbar_items) {\n",
       "        var name = mpl.toolbar_items[toolbar_ind][0];\n",
       "        var tooltip = mpl.toolbar_items[toolbar_ind][1];\n",
       "        var image = mpl.toolbar_items[toolbar_ind][2];\n",
       "        var method_name = mpl.toolbar_items[toolbar_ind][3];\n",
       "\n",
       "        if (!name) {\n",
       "            // put a spacer in here.\n",
       "            continue;\n",
       "        }\n",
       "        var button = $('<button/>');\n",
       "        button.addClass('ui-button ui-widget ui-state-default ui-corner-all ' +\n",
       "                        'ui-button-icon-only');\n",
       "        button.attr('role', 'button');\n",
       "        button.attr('aria-disabled', 'false');\n",
       "        button.click(method_name, toolbar_event);\n",
       "        button.mouseover(tooltip, toolbar_mouse_event);\n",
       "\n",
       "        var icon_img = $('<span/>');\n",
       "        icon_img.addClass('ui-button-icon-primary ui-icon');\n",
       "        icon_img.addClass(image);\n",
       "        icon_img.addClass('ui-corner-all');\n",
       "\n",
       "        var tooltip_span = $('<span/>');\n",
       "        tooltip_span.addClass('ui-button-text');\n",
       "        tooltip_span.html(tooltip);\n",
       "\n",
       "        button.append(icon_img);\n",
       "        button.append(tooltip_span);\n",
       "\n",
       "        nav_element.append(button);\n",
       "    }\n",
       "\n",
       "    var fmt_picker_span = $('<span/>');\n",
       "\n",
       "    var fmt_picker = $('<select/>');\n",
       "    fmt_picker.addClass('mpl-toolbar-option ui-widget ui-widget-content');\n",
       "    fmt_picker_span.append(fmt_picker);\n",
       "    nav_element.append(fmt_picker_span);\n",
       "    this.format_dropdown = fmt_picker[0];\n",
       "\n",
       "    for (var ind in mpl.extensions) {\n",
       "        var fmt = mpl.extensions[ind];\n",
       "        var option = $(\n",
       "            '<option/>', {selected: fmt === mpl.default_extension}).html(fmt);\n",
       "        fmt_picker.append(option)\n",
       "    }\n",
       "\n",
       "    // Add hover states to the ui-buttons\n",
       "    $( \".ui-button\" ).hover(\n",
       "        function() { $(this).addClass(\"ui-state-hover\");},\n",
       "        function() { $(this).removeClass(\"ui-state-hover\");}\n",
       "    );\n",
       "\n",
       "    var status_bar = $('<span class=\"mpl-message\"/>');\n",
       "    nav_element.append(status_bar);\n",
       "    this.message = status_bar[0];\n",
       "}\n",
       "\n",
       "mpl.figure.prototype.request_resize = function(x_pixels, y_pixels) {\n",
       "    // Request matplotlib to resize the figure. Matplotlib will then trigger a resize in the client,\n",
       "    // which will in turn request a refresh of the image.\n",
       "    this.send_message('resize', {'width': x_pixels, 'height': y_pixels});\n",
       "}\n",
       "\n",
       "mpl.figure.prototype.send_message = function(type, properties) {\n",
       "    properties['type'] = type;\n",
       "    properties['figure_id'] = this.id;\n",
       "    this.ws.send(JSON.stringify(properties));\n",
       "}\n",
       "\n",
       "mpl.figure.prototype.send_draw_message = function() {\n",
       "    if (!this.waiting) {\n",
       "        this.waiting = true;\n",
       "        this.ws.send(JSON.stringify({type: \"draw\", figure_id: this.id}));\n",
       "    }\n",
       "}\n",
       "\n",
       "\n",
       "mpl.figure.prototype.handle_save = function(fig, msg) {\n",
       "    var format_dropdown = fig.format_dropdown;\n",
       "    var format = format_dropdown.options[format_dropdown.selectedIndex].value;\n",
       "    fig.ondownload(fig, format);\n",
       "}\n",
       "\n",
       "\n",
       "mpl.figure.prototype.handle_resize = function(fig, msg) {\n",
       "    var size = msg['size'];\n",
       "    if (size[0] != fig.canvas.width || size[1] != fig.canvas.height) {\n",
       "        fig._resize_canvas(size[0], size[1]);\n",
       "        fig.send_message(\"refresh\", {});\n",
       "    };\n",
       "}\n",
       "\n",
       "mpl.figure.prototype.handle_rubberband = function(fig, msg) {\n",
       "    var x0 = msg['x0'];\n",
       "    var y0 = fig.canvas.height - msg['y0'];\n",
       "    var x1 = msg['x1'];\n",
       "    var y1 = fig.canvas.height - msg['y1'];\n",
       "    x0 = Math.floor(x0) + 0.5;\n",
       "    y0 = Math.floor(y0) + 0.5;\n",
       "    x1 = Math.floor(x1) + 0.5;\n",
       "    y1 = Math.floor(y1) + 0.5;\n",
       "    var min_x = Math.min(x0, x1);\n",
       "    var min_y = Math.min(y0, y1);\n",
       "    var width = Math.abs(x1 - x0);\n",
       "    var height = Math.abs(y1 - y0);\n",
       "\n",
       "    fig.rubberband_context.clearRect(\n",
       "        0, 0, fig.canvas.width, fig.canvas.height);\n",
       "\n",
       "    fig.rubberband_context.strokeRect(min_x, min_y, width, height);\n",
       "}\n",
       "\n",
       "mpl.figure.prototype.handle_figure_label = function(fig, msg) {\n",
       "    // Updates the figure title.\n",
       "    fig.header.textContent = msg['label'];\n",
       "}\n",
       "\n",
       "mpl.figure.prototype.handle_cursor = function(fig, msg) {\n",
       "    var cursor = msg['cursor'];\n",
       "    switch(cursor)\n",
       "    {\n",
       "    case 0:\n",
       "        cursor = 'pointer';\n",
       "        break;\n",
       "    case 1:\n",
       "        cursor = 'default';\n",
       "        break;\n",
       "    case 2:\n",
       "        cursor = 'crosshair';\n",
       "        break;\n",
       "    case 3:\n",
       "        cursor = 'move';\n",
       "        break;\n",
       "    }\n",
       "    fig.rubberband_canvas.style.cursor = cursor;\n",
       "}\n",
       "\n",
       "mpl.figure.prototype.handle_message = function(fig, msg) {\n",
       "    fig.message.textContent = msg['message'];\n",
       "}\n",
       "\n",
       "mpl.figure.prototype.handle_draw = function(fig, msg) {\n",
       "    // Request the server to send over a new figure.\n",
       "    fig.send_draw_message();\n",
       "}\n",
       "\n",
       "mpl.figure.prototype.handle_image_mode = function(fig, msg) {\n",
       "    fig.image_mode = msg['mode'];\n",
       "}\n",
       "\n",
       "mpl.figure.prototype.updated_canvas_event = function() {\n",
       "    // Called whenever the canvas gets updated.\n",
       "    this.send_message(\"ack\", {});\n",
       "}\n",
       "\n",
       "// A function to construct a web socket function for onmessage handling.\n",
       "// Called in the figure constructor.\n",
       "mpl.figure.prototype._make_on_message_function = function(fig) {\n",
       "    return function socket_on_message(evt) {\n",
       "        if (evt.data instanceof Blob) {\n",
       "            /* FIXME: We get \"Resource interpreted as Image but\n",
       "             * transferred with MIME type text/plain:\" errors on\n",
       "             * Chrome.  But how to set the MIME type?  It doesn't seem\n",
       "             * to be part of the websocket stream */\n",
       "            evt.data.type = \"image/png\";\n",
       "\n",
       "            /* Free the memory for the previous frames */\n",
       "            if (fig.imageObj.src) {\n",
       "                (window.URL || window.webkitURL).revokeObjectURL(\n",
       "                    fig.imageObj.src);\n",
       "            }\n",
       "\n",
       "            fig.imageObj.src = (window.URL || window.webkitURL).createObjectURL(\n",
       "                evt.data);\n",
       "            fig.updated_canvas_event();\n",
       "            fig.waiting = false;\n",
       "            return;\n",
       "        }\n",
       "        else if (typeof evt.data === 'string' && evt.data.slice(0, 21) == \"data:image/png;base64\") {\n",
       "            fig.imageObj.src = evt.data;\n",
       "            fig.updated_canvas_event();\n",
       "            fig.waiting = false;\n",
       "            return;\n",
       "        }\n",
       "\n",
       "        var msg = JSON.parse(evt.data);\n",
       "        var msg_type = msg['type'];\n",
       "\n",
       "        // Call the  \"handle_{type}\" callback, which takes\n",
       "        // the figure and JSON message as its only arguments.\n",
       "        try {\n",
       "            var callback = fig[\"handle_\" + msg_type];\n",
       "        } catch (e) {\n",
       "            console.log(\"No handler for the '\" + msg_type + \"' message type: \", msg);\n",
       "            return;\n",
       "        }\n",
       "\n",
       "        if (callback) {\n",
       "            try {\n",
       "                // console.log(\"Handling '\" + msg_type + \"' message: \", msg);\n",
       "                callback(fig, msg);\n",
       "            } catch (e) {\n",
       "                console.log(\"Exception inside the 'handler_\" + msg_type + \"' callback:\", e, e.stack, msg);\n",
       "            }\n",
       "        }\n",
       "    };\n",
       "}\n",
       "\n",
       "// from http://stackoverflow.com/questions/1114465/getting-mouse-location-in-canvas\n",
       "mpl.findpos = function(e) {\n",
       "    //this section is from http://www.quirksmode.org/js/events_properties.html\n",
       "    var targ;\n",
       "    if (!e)\n",
       "        e = window.event;\n",
       "    if (e.target)\n",
       "        targ = e.target;\n",
       "    else if (e.srcElement)\n",
       "        targ = e.srcElement;\n",
       "    if (targ.nodeType == 3) // defeat Safari bug\n",
       "        targ = targ.parentNode;\n",
       "\n",
       "    // jQuery normalizes the pageX and pageY\n",
       "    // pageX,Y are the mouse positions relative to the document\n",
       "    // offset() returns the position of the element relative to the document\n",
       "    var x = e.pageX - $(targ).offset().left;\n",
       "    var y = e.pageY - $(targ).offset().top;\n",
       "\n",
       "    return {\"x\": x, \"y\": y};\n",
       "};\n",
       "\n",
       "/*\n",
       " * return a copy of an object with only non-object keys\n",
       " * we need this to avoid circular references\n",
       " * http://stackoverflow.com/a/24161582/3208463\n",
       " */\n",
       "function simpleKeys (original) {\n",
       "  return Object.keys(original).reduce(function (obj, key) {\n",
       "    if (typeof original[key] !== 'object')\n",
       "        obj[key] = original[key]\n",
       "    return obj;\n",
       "  }, {});\n",
       "}\n",
       "\n",
       "mpl.figure.prototype.mouse_event = function(event, name) {\n",
       "    var canvas_pos = mpl.findpos(event)\n",
       "\n",
       "    if (name === 'button_press')\n",
       "    {\n",
       "        this.canvas.focus();\n",
       "        this.canvas_div.focus();\n",
       "    }\n",
       "\n",
       "    var x = canvas_pos.x;\n",
       "    var y = canvas_pos.y;\n",
       "\n",
       "    this.send_message(name, {x: x, y: y, button: event.button,\n",
       "                             step: event.step,\n",
       "                             guiEvent: simpleKeys(event)});\n",
       "\n",
       "    /* This prevents the web browser from automatically changing to\n",
       "     * the text insertion cursor when the button is pressed.  We want\n",
       "     * to control all of the cursor setting manually through the\n",
       "     * 'cursor' event from matplotlib */\n",
       "    event.preventDefault();\n",
       "    return false;\n",
       "}\n",
       "\n",
       "mpl.figure.prototype._key_event_extra = function(event, name) {\n",
       "    // Handle any extra behaviour associated with a key event\n",
       "}\n",
       "\n",
       "mpl.figure.prototype.key_event = function(event, name) {\n",
       "\n",
       "    // Prevent repeat events\n",
       "    if (name == 'key_press')\n",
       "    {\n",
       "        if (event.which === this._key)\n",
       "            return;\n",
       "        else\n",
       "            this._key = event.which;\n",
       "    }\n",
       "    if (name == 'key_release')\n",
       "        this._key = null;\n",
       "\n",
       "    var value = '';\n",
       "    if (event.ctrlKey && event.which != 17)\n",
       "        value += \"ctrl+\";\n",
       "    if (event.altKey && event.which != 18)\n",
       "        value += \"alt+\";\n",
       "    if (event.shiftKey && event.which != 16)\n",
       "        value += \"shift+\";\n",
       "\n",
       "    value += 'k';\n",
       "    value += event.which.toString();\n",
       "\n",
       "    this._key_event_extra(event, name);\n",
       "\n",
       "    this.send_message(name, {key: value,\n",
       "                             guiEvent: simpleKeys(event)});\n",
       "    return false;\n",
       "}\n",
       "\n",
       "mpl.figure.prototype.toolbar_button_onclick = function(name) {\n",
       "    if (name == 'download') {\n",
       "        this.handle_save(this, null);\n",
       "    } else {\n",
       "        this.send_message(\"toolbar_button\", {name: name});\n",
       "    }\n",
       "};\n",
       "\n",
       "mpl.figure.prototype.toolbar_button_onmouseover = function(tooltip) {\n",
       "    this.message.textContent = tooltip;\n",
       "};\n",
       "mpl.toolbar_items = [[\"Home\", \"Reset original view\", \"fa fa-home icon-home\", \"home\"], [\"Back\", \"Back to  previous view\", \"fa fa-arrow-left icon-arrow-left\", \"back\"], [\"Forward\", \"Forward to next view\", \"fa fa-arrow-right icon-arrow-right\", \"forward\"], [\"\", \"\", \"\", \"\"], [\"Pan\", \"Pan axes with left mouse, zoom with right\", \"fa fa-arrows icon-move\", \"pan\"], [\"Zoom\", \"Zoom to rectangle\", \"fa fa-square-o icon-check-empty\", \"zoom\"], [\"\", \"\", \"\", \"\"], [\"Download\", \"Download plot\", \"fa fa-floppy-o icon-save\", \"download\"]];\n",
       "\n",
       "mpl.extensions = [\"eps\", \"pdf\", \"png\", \"ps\", \"raw\", \"svg\"];\n",
       "\n",
       "mpl.default_extension = \"png\";var comm_websocket_adapter = function(comm) {\n",
       "    // Create a \"websocket\"-like object which calls the given IPython comm\n",
       "    // object with the appropriate methods. Currently this is a non binary\n",
       "    // socket, so there is still some room for performance tuning.\n",
       "    var ws = {};\n",
       "\n",
       "    ws.close = function() {\n",
       "        comm.close()\n",
       "    };\n",
       "    ws.send = function(m) {\n",
       "        //console.log('sending', m);\n",
       "        comm.send(m);\n",
       "    };\n",
       "    // Register the callback with on_msg.\n",
       "    comm.on_msg(function(msg) {\n",
       "        //console.log('receiving', msg['content']['data'], msg);\n",
       "        // Pass the mpl event to the overriden (by mpl) onmessage function.\n",
       "        ws.onmessage(msg['content']['data'])\n",
       "    });\n",
       "    return ws;\n",
       "}\n",
       "\n",
       "mpl.mpl_figure_comm = function(comm, msg) {\n",
       "    // This is the function which gets called when the mpl process\n",
       "    // starts-up an IPython Comm through the \"matplotlib\" channel.\n",
       "\n",
       "    var id = msg.content.data.id;\n",
       "    // Get hold of the div created by the display call when the Comm\n",
       "    // socket was opened in Python.\n",
       "    var element = $(\"#\" + id);\n",
       "    var ws_proxy = comm_websocket_adapter(comm)\n",
       "\n",
       "    function ondownload(figure, format) {\n",
       "        window.open(figure.imageObj.src);\n",
       "    }\n",
       "\n",
       "    var fig = new mpl.figure(id, ws_proxy,\n",
       "                           ondownload,\n",
       "                           element.get(0));\n",
       "\n",
       "    // Call onopen now - mpl needs it, as it is assuming we've passed it a real\n",
       "    // web socket which is closed, not our websocket->open comm proxy.\n",
       "    ws_proxy.onopen();\n",
       "\n",
       "    fig.parent_element = element.get(0);\n",
       "    fig.cell_info = mpl.find_output_cell(\"<div id='\" + id + \"'></div>\");\n",
       "    if (!fig.cell_info) {\n",
       "        console.error(\"Failed to find cell for figure\", id, fig);\n",
       "        return;\n",
       "    }\n",
       "\n",
       "    var output_index = fig.cell_info[2]\n",
       "    var cell = fig.cell_info[0];\n",
       "\n",
       "};\n",
       "\n",
       "mpl.figure.prototype.handle_close = function(fig, msg) {\n",
       "    fig.root.unbind('remove')\n",
       "\n",
       "    // Update the output cell to use the data from the current canvas.\n",
       "    fig.push_to_output();\n",
       "    var dataURL = fig.canvas.toDataURL();\n",
       "    // Re-enable the keyboard manager in IPython - without this line, in FF,\n",
       "    // the notebook keyboard shortcuts fail.\n",
       "    IPython.keyboard_manager.enable()\n",
       "    $(fig.parent_element).html('<img src=\"' + dataURL + '\">');\n",
       "    fig.close_ws(fig, msg);\n",
       "}\n",
       "\n",
       "mpl.figure.prototype.close_ws = function(fig, msg){\n",
       "    fig.send_message('closing', msg);\n",
       "    // fig.ws.close()\n",
       "}\n",
       "\n",
       "mpl.figure.prototype.push_to_output = function(remove_interactive) {\n",
       "    // Turn the data on the canvas into data in the output cell.\n",
       "    var dataURL = this.canvas.toDataURL();\n",
       "    this.cell_info[1]['text/html'] = '<img src=\"' + dataURL + '\">';\n",
       "}\n",
       "\n",
       "mpl.figure.prototype.updated_canvas_event = function() {\n",
       "    // Tell IPython that the notebook contents must change.\n",
       "    IPython.notebook.set_dirty(true);\n",
       "    this.send_message(\"ack\", {});\n",
       "    var fig = this;\n",
       "    // Wait a second, then push the new image to the DOM so\n",
       "    // that it is saved nicely (might be nice to debounce this).\n",
       "    setTimeout(function () { fig.push_to_output() }, 1000);\n",
       "}\n",
       "\n",
       "mpl.figure.prototype._init_toolbar = function() {\n",
       "    var fig = this;\n",
       "\n",
       "    var nav_element = $('<div/>')\n",
       "    nav_element.attr('style', 'width: 100%');\n",
       "    this.root.append(nav_element);\n",
       "\n",
       "    // Define a callback function for later on.\n",
       "    function toolbar_event(event) {\n",
       "        return fig.toolbar_button_onclick(event['data']);\n",
       "    }\n",
       "    function toolbar_mouse_event(event) {\n",
       "        return fig.toolbar_button_onmouseover(event['data']);\n",
       "    }\n",
       "\n",
       "    for(var toolbar_ind in mpl.toolbar_items){\n",
       "        var name = mpl.toolbar_items[toolbar_ind][0];\n",
       "        var tooltip = mpl.toolbar_items[toolbar_ind][1];\n",
       "        var image = mpl.toolbar_items[toolbar_ind][2];\n",
       "        var method_name = mpl.toolbar_items[toolbar_ind][3];\n",
       "\n",
       "        if (!name) { continue; };\n",
       "\n",
       "        var button = $('<button class=\"btn btn-default\" href=\"#\" title=\"' + name + '\"><i class=\"fa ' + image + ' fa-lg\"></i></button>');\n",
       "        button.click(method_name, toolbar_event);\n",
       "        button.mouseover(tooltip, toolbar_mouse_event);\n",
       "        nav_element.append(button);\n",
       "    }\n",
       "\n",
       "    // Add the status bar.\n",
       "    var status_bar = $('<span class=\"mpl-message\" style=\"text-align:right; float: right;\"/>');\n",
       "    nav_element.append(status_bar);\n",
       "    this.message = status_bar[0];\n",
       "\n",
       "    // Add the close button to the window.\n",
       "    var buttongrp = $('<div class=\"btn-group inline pull-right\"></div>');\n",
       "    var button = $('<button class=\"btn btn-mini btn-primary\" href=\"#\" title=\"Stop Interaction\"><i class=\"fa fa-power-off icon-remove icon-large\"></i></button>');\n",
       "    button.click(function (evt) { fig.handle_close(fig, {}); } );\n",
       "    button.mouseover('Stop Interaction', toolbar_mouse_event);\n",
       "    buttongrp.append(button);\n",
       "    var titlebar = this.root.find($('.ui-dialog-titlebar'));\n",
       "    titlebar.prepend(buttongrp);\n",
       "}\n",
       "\n",
       "mpl.figure.prototype._root_extra_style = function(el){\n",
       "    var fig = this\n",
       "    el.on(\"remove\", function(){\n",
       "\tfig.close_ws(fig, {});\n",
       "    });\n",
       "}\n",
       "\n",
       "mpl.figure.prototype._canvas_extra_style = function(el){\n",
       "    // this is important to make the div 'focusable\n",
       "    el.attr('tabindex', 0)\n",
       "    // reach out to IPython and tell the keyboard manager to turn it's self\n",
       "    // off when our div gets focus\n",
       "\n",
       "    // location in version 3\n",
       "    if (IPython.notebook.keyboard_manager) {\n",
       "        IPython.notebook.keyboard_manager.register_events(el);\n",
       "    }\n",
       "    else {\n",
       "        // location in version 2\n",
       "        IPython.keyboard_manager.register_events(el);\n",
       "    }\n",
       "\n",
       "}\n",
       "\n",
       "mpl.figure.prototype._key_event_extra = function(event, name) {\n",
       "    var manager = IPython.notebook.keyboard_manager;\n",
       "    if (!manager)\n",
       "        manager = IPython.keyboard_manager;\n",
       "\n",
       "    // Check for shift+enter\n",
       "    if (event.shiftKey && event.which == 13) {\n",
       "        this.canvas_div.blur();\n",
       "        event.shiftKey = false;\n",
       "        // Send a \"J\" for go to next cell\n",
       "        event.which = 74;\n",
       "        event.keyCode = 74;\n",
       "        manager.command_mode();\n",
       "        manager.handle_keydown(event);\n",
       "    }\n",
       "}\n",
       "\n",
       "mpl.figure.prototype.handle_save = function(fig, msg) {\n",
       "    fig.ondownload(fig, null);\n",
       "}\n",
       "\n",
       "\n",
       "mpl.find_output_cell = function(html_output) {\n",
       "    // Return the cell and output element which can be found *uniquely* in the notebook.\n",
       "    // Note - this is a bit hacky, but it is done because the \"notebook_saving.Notebook\"\n",
       "    // IPython event is triggered only after the cells have been serialised, which for\n",
       "    // our purposes (turning an active figure into a static one), is too late.\n",
       "    var cells = IPython.notebook.get_cells();\n",
       "    var ncells = cells.length;\n",
       "    for (var i=0; i<ncells; i++) {\n",
       "        var cell = cells[i];\n",
       "        if (cell.cell_type === 'code'){\n",
       "            for (var j=0; j<cell.output_area.outputs.length; j++) {\n",
       "                var data = cell.output_area.outputs[j];\n",
       "                if (data.data) {\n",
       "                    // IPython >= 3 moved mimebundle to data attribute of output\n",
       "                    data = data.data;\n",
       "                }\n",
       "                if (data['text/html'] == html_output) {\n",
       "                    return [cell, data, j];\n",
       "                }\n",
       "            }\n",
       "        }\n",
       "    }\n",
       "}\n",
       "\n",
       "// Register the function which deals with the matplotlib target/channel.\n",
       "// The kernel may be null if the page has been refreshed.\n",
       "if (IPython.notebook.kernel != null) {\n",
       "    IPython.notebook.kernel.comm_manager.register_target('matplotlib', mpl.mpl_figure_comm);\n",
       "}\n"
      ],
      "text/plain": [
       "<IPython.core.display.Javascript object>"
      ]
     },
     "metadata": {},
     "output_type": "display_data"
    },
    {
     "data": {
      "text/html": [
       "<img src=\"data:image/png;base64,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\">"
      ],
      "text/plain": [
       "<IPython.core.display.HTML object>"
      ]
     },
     "metadata": {},
     "output_type": "display_data"
    }
   ],
   "source": [
    "H.plot(hh.load(\"./slice_H00.h5\"), min=0, max=1e-1)"
   ]
  },
  {
   "cell_type": "code",
   "execution_count": 45,
   "metadata": {
    "collapsed": true
   },
   "outputs": [],
   "source": [
    "# Now try slicing along the Gamma -> M_pi path"
   ]
  },
  {
   "cell_type": "raw",
   "metadata": {},
   "source": [
    "%%file slice_HHH.yml\n",
    "\n",
    "angles: -90,90.1,3.0\n",
    "filename_pattern: work_%(angle)s/reduced_%(angle)s.nxs\n",
    "lattice: 5., 5., 5., 90, 90, 90\n",
    "orientation:\n",
    " u: 1, 0, 2\n",
    " v: 1,0,0\n",
    "Eaxis:\n",
    " min: 0\n",
    " max: 51\n",
    " N: 181\n",
    "Q_projections:\n",
    " U:\n",
    "  proj: 1,1,1\n",
    "  proj_name: H,H,H\n",
    "  min: -2.1\n",
    "  max: 0.1\n",
    "  N: 201\n",
    " V:\n",
    "  proj: 1,1,-2\n",
    "  proj_name: H,H,-2*H\n",
    "  min: -.2\n",
    "  max: .2\n",
    "  N: 1\n",
    " W:\n",
    "  proj: -2,1,1\n",
    "  proj_name: -2*H,H,H\n",
    "  min: -0.5\n",
    "  max: 0.5\n",
    "  N: 1\n",
    "output: slice_HHH.nxs"
   ]
  },
  {
   "cell_type": "code",
   "execution_count": 49,
   "metadata": {
    "collapsed": false
   },
   "outputs": [
    {
     "name": "stdout",
     "output_type": "stream",
     "text": [
      "Traceback (most recent call last):\r\n",
      "  File \"./scripts/reduce/getaslice.py\", line 112, in <module>\r\n",
      "    if __name__ == '__main__': main()\r\n",
      "  File \"./scripts/reduce/getaslice.py\", line 108, in main\r\n",
      "    run(angles, filenames, lattice_params, orientation, Eaxis, Qproj_axes, output)    \r\n",
      "  File \"./scripts/reduce/getaslice.py\", line 69, in run\r\n",
      "    a2,b2=MDNormDirectSC('md_i_use', **dims)\r\n",
      "  File \"/SNS/users/lj7/software/miniconda2/envs/mcvine/lib/python2.7/site-packages/mantid/simpleapi.py\", line 875, in algorithm_wrapper\r\n",
      "    algm.execute()\r\n",
      "RuntimeError: Dimension [H,H,-2*H] was not found in the MDEventWorkspace! Cannot continue.\r\n"
     ]
    }
   ],
   "source": [
    "! PYTHONPATH=$PWD:$PYTHONPATH ./scripts/reduce/getaslice.py slice_HHH.yml > log.slice_HHH"
   ]
  },
  {
   "cell_type": "code",
   "execution_count": null,
   "metadata": {
    "collapsed": true
   },
   "outputs": [],
   "source": [
    "!./scripts/reduce/slice2hist.py \"slice_HHH.nxs\" slice_HHH.h5"
   ]
  },
  {
   "cell_type": "code",
   "execution_count": 50,
   "metadata": {
    "collapsed": true
   },
   "outputs": [],
   "source": [
    "# Try for X'_pi -> Gamma"
   ]
  },
  {
   "cell_type": "code",
   "execution_count": 51,
   "metadata": {
    "collapsed": false
   },
   "outputs": [
    {
     "name": "stdout",
     "output_type": "stream",
     "text": [
      "Writing slice_0KK.yml\n"
     ]
    }
   ],
   "source": [
    "%%file slice_0KK.yml\n",
    "\n",
    "angles: -90,90.1,3.0\n",
    "filename_pattern: work_%(angle)s/reduced_%(angle)s.nxs\n",
    "lattice: 5., 5., 5., 90, 90, 90\n",
    "orientation:\n",
    " u: 1, 0, 2\n",
    " v: 1,0,0\n",
    "Eaxis:\n",
    " min: 0\n",
    " max: 51\n",
    " N: 181\n",
    "Q_projections:\n",
    " U:\n",
    "  proj: 0,1,1\n",
    "  proj_name: 0,K,K\n",
    "  min: -2.1\n",
    "  max: 0.1\n",
    "  N: 201\n",
    " V:\n",
    "  proj: 0,1,-1\n",
    "  proj_name: 0,K,-K\n",
    "  min: -.3\n",
    "  max: .3\n",
    "  N: 1\n",
    " W:\n",
    "  proj: 1,0,0\n",
    "  proj_name: H,0,0\n",
    "  min: -0.3\n",
    "  max: 0.3\n",
    "  N: 1\n",
    "output: slice_0KK.nxs\n"
   ]
  },
  {
   "cell_type": "code",
   "execution_count": 52,
   "metadata": {
    "collapsed": true
   },
   "outputs": [],
   "source": [
    "! PYTHONPATH=$PWD:$PYTHONPATH ./scripts/reduce/getaslice.py slice_0KK.yml > log.slice_0KK"
   ]
  },
  {
   "cell_type": "code",
   "execution_count": 54,
   "metadata": {
    "collapsed": false
   },
   "outputs": [
    {
     "name": "stdout",
     "output_type": "stream",
     "text": [
      "FrameworkManager-[Notice] Welcome to Mantid 3.6.100\n",
      "FrameworkManager-[Notice] Please cite: http://dx.doi.org/10.1016/j.nima.2014.07.029 and this release: http://dx.doi.org/10.5286/Software/Mantid3.6.100\n",
      "Load-[Notice] Load started\n",
      "Load-[Notice] Load successful, Duration 1.16 seconds\n"
     ]
    }
   ],
   "source": [
    "!./scripts/reduce/slice2hist.py \"slice_0KK.nxs\" slice_0KK.h5"
   ]
  },
  {
   "cell_type": "code",
   "execution_count": 56,
   "metadata": {
    "collapsed": false
   },
   "outputs": [
    {
     "name": "stdout",
     "output_type": "stream",
     "text": [
      "plot z in (0, 0.001)\n"
     ]
    },
    {
     "data": {
      "application/javascript": [
       "/* Put everything inside the global mpl namespace */\n",
       "window.mpl = {};\n",
       "\n",
       "mpl.get_websocket_type = function() {\n",
       "    if (typeof(WebSocket) !== 'undefined') {\n",
       "        return WebSocket;\n",
       "    } else if (typeof(MozWebSocket) !== 'undefined') {\n",
       "        return MozWebSocket;\n",
       "    } else {\n",
       "        alert('Your browser does not have WebSocket support.' +\n",
       "              'Please try Chrome, Safari or Firefox ≥ 6. ' +\n",
       "              'Firefox 4 and 5 are also supported but you ' +\n",
       "              'have to enable WebSockets in about:config.');\n",
       "    };\n",
       "}\n",
       "\n",
       "mpl.figure = function(figure_id, websocket, ondownload, parent_element) {\n",
       "    this.id = figure_id;\n",
       "\n",
       "    this.ws = websocket;\n",
       "\n",
       "    this.supports_binary = (this.ws.binaryType != undefined);\n",
       "\n",
       "    if (!this.supports_binary) {\n",
       "        var warnings = document.getElementById(\"mpl-warnings\");\n",
       "        if (warnings) {\n",
       "            warnings.style.display = 'block';\n",
       "            warnings.textContent = (\n",
       "                \"This browser does not support binary websocket messages. \" +\n",
       "                    \"Performance may be slow.\");\n",
       "        }\n",
       "    }\n",
       "\n",
       "    this.imageObj = new Image();\n",
       "\n",
       "    this.context = undefined;\n",
       "    this.message = undefined;\n",
       "    this.canvas = undefined;\n",
       "    this.rubberband_canvas = undefined;\n",
       "    this.rubberband_context = undefined;\n",
       "    this.format_dropdown = undefined;\n",
       "\n",
       "    this.image_mode = 'full';\n",
       "\n",
       "    this.root = $('<div/>');\n",
       "    this._root_extra_style(this.root)\n",
       "    this.root.attr('style', 'display: inline-block');\n",
       "\n",
       "    $(parent_element).append(this.root);\n",
       "\n",
       "    this._init_header(this);\n",
       "    this._init_canvas(this);\n",
       "    this._init_toolbar(this);\n",
       "\n",
       "    var fig = this;\n",
       "\n",
       "    this.waiting = false;\n",
       "\n",
       "    this.ws.onopen =  function () {\n",
       "            fig.send_message(\"supports_binary\", {value: fig.supports_binary});\n",
       "            fig.send_message(\"send_image_mode\", {});\n",
       "            fig.send_message(\"refresh\", {});\n",
       "        }\n",
       "\n",
       "    this.imageObj.onload = function() {\n",
       "            if (fig.image_mode == 'full') {\n",
       "                // Full images could contain transparency (where diff images\n",
       "                // almost always do), so we need to clear the canvas so that\n",
       "                // there is no ghosting.\n",
       "                fig.context.clearRect(0, 0, fig.canvas.width, fig.canvas.height);\n",
       "            }\n",
       "            fig.context.drawImage(fig.imageObj, 0, 0);\n",
       "        };\n",
       "\n",
       "    this.imageObj.onunload = function() {\n",
       "        this.ws.close();\n",
       "    }\n",
       "\n",
       "    this.ws.onmessage = this._make_on_message_function(this);\n",
       "\n",
       "    this.ondownload = ondownload;\n",
       "}\n",
       "\n",
       "mpl.figure.prototype._init_header = function() {\n",
       "    var titlebar = $(\n",
       "        '<div class=\"ui-dialog-titlebar ui-widget-header ui-corner-all ' +\n",
       "        'ui-helper-clearfix\"/>');\n",
       "    var titletext = $(\n",
       "        '<div class=\"ui-dialog-title\" style=\"width: 100%; ' +\n",
       "        'text-align: center; padding: 3px;\"/>');\n",
       "    titlebar.append(titletext)\n",
       "    this.root.append(titlebar);\n",
       "    this.header = titletext[0];\n",
       "}\n",
       "\n",
       "\n",
       "\n",
       "mpl.figure.prototype._canvas_extra_style = function(canvas_div) {\n",
       "\n",
       "}\n",
       "\n",
       "\n",
       "mpl.figure.prototype._root_extra_style = function(canvas_div) {\n",
       "\n",
       "}\n",
       "\n",
       "mpl.figure.prototype._init_canvas = function() {\n",
       "    var fig = this;\n",
       "\n",
       "    var canvas_div = $('<div/>');\n",
       "\n",
       "    canvas_div.attr('style', 'position: relative; clear: both; outline: 0');\n",
       "\n",
       "    function canvas_keyboard_event(event) {\n",
       "        return fig.key_event(event, event['data']);\n",
       "    }\n",
       "\n",
       "    canvas_div.keydown('key_press', canvas_keyboard_event);\n",
       "    canvas_div.keyup('key_release', canvas_keyboard_event);\n",
       "    this.canvas_div = canvas_div\n",
       "    this._canvas_extra_style(canvas_div)\n",
       "    this.root.append(canvas_div);\n",
       "\n",
       "    var canvas = $('<canvas/>');\n",
       "    canvas.addClass('mpl-canvas');\n",
       "    canvas.attr('style', \"left: 0; top: 0; z-index: 0; outline: 0\")\n",
       "\n",
       "    this.canvas = canvas[0];\n",
       "    this.context = canvas[0].getContext(\"2d\");\n",
       "\n",
       "    var rubberband = $('<canvas/>');\n",
       "    rubberband.attr('style', \"position: absolute; left: 0; top: 0; z-index: 1;\")\n",
       "\n",
       "    var pass_mouse_events = true;\n",
       "\n",
       "    canvas_div.resizable({\n",
       "        start: function(event, ui) {\n",
       "            pass_mouse_events = false;\n",
       "        },\n",
       "        resize: function(event, ui) {\n",
       "            fig.request_resize(ui.size.width, ui.size.height);\n",
       "        },\n",
       "        stop: function(event, ui) {\n",
       "            pass_mouse_events = true;\n",
       "            fig.request_resize(ui.size.width, ui.size.height);\n",
       "        },\n",
       "    });\n",
       "\n",
       "    function mouse_event_fn(event) {\n",
       "        if (pass_mouse_events)\n",
       "            return fig.mouse_event(event, event['data']);\n",
       "    }\n",
       "\n",
       "    rubberband.mousedown('button_press', mouse_event_fn);\n",
       "    rubberband.mouseup('button_release', mouse_event_fn);\n",
       "    // Throttle sequential mouse events to 1 every 20ms.\n",
       "    rubberband.mousemove('motion_notify', mouse_event_fn);\n",
       "\n",
       "    rubberband.mouseenter('figure_enter', mouse_event_fn);\n",
       "    rubberband.mouseleave('figure_leave', mouse_event_fn);\n",
       "\n",
       "    canvas_div.on(\"wheel\", function (event) {\n",
       "        event = event.originalEvent;\n",
       "        event['data'] = 'scroll'\n",
       "        if (event.deltaY < 0) {\n",
       "            event.step = 1;\n",
       "        } else {\n",
       "            event.step = -1;\n",
       "        }\n",
       "        mouse_event_fn(event);\n",
       "    });\n",
       "\n",
       "    canvas_div.append(canvas);\n",
       "    canvas_div.append(rubberband);\n",
       "\n",
       "    this.rubberband = rubberband;\n",
       "    this.rubberband_canvas = rubberband[0];\n",
       "    this.rubberband_context = rubberband[0].getContext(\"2d\");\n",
       "    this.rubberband_context.strokeStyle = \"#000000\";\n",
       "\n",
       "    this._resize_canvas = function(width, height) {\n",
       "        // Keep the size of the canvas, canvas container, and rubber band\n",
       "        // canvas in synch.\n",
       "        canvas_div.css('width', width)\n",
       "        canvas_div.css('height', height)\n",
       "\n",
       "        canvas.attr('width', width);\n",
       "        canvas.attr('height', height);\n",
       "\n",
       "        rubberband.attr('width', width);\n",
       "        rubberband.attr('height', height);\n",
       "    }\n",
       "\n",
       "    // Set the figure to an initial 600x600px, this will subsequently be updated\n",
       "    // upon first draw.\n",
       "    this._resize_canvas(600, 600);\n",
       "\n",
       "    // Disable right mouse context menu.\n",
       "    $(this.rubberband_canvas).bind(\"contextmenu\",function(e){\n",
       "        return false;\n",
       "    });\n",
       "\n",
       "    function set_focus () {\n",
       "        canvas.focus();\n",
       "        canvas_div.focus();\n",
       "    }\n",
       "\n",
       "    window.setTimeout(set_focus, 100);\n",
       "}\n",
       "\n",
       "mpl.figure.prototype._init_toolbar = function() {\n",
       "    var fig = this;\n",
       "\n",
       "    var nav_element = $('<div/>')\n",
       "    nav_element.attr('style', 'width: 100%');\n",
       "    this.root.append(nav_element);\n",
       "\n",
       "    // Define a callback function for later on.\n",
       "    function toolbar_event(event) {\n",
       "        return fig.toolbar_button_onclick(event['data']);\n",
       "    }\n",
       "    function toolbar_mouse_event(event) {\n",
       "        return fig.toolbar_button_onmouseover(event['data']);\n",
       "    }\n",
       "\n",
       "    for(var toolbar_ind in mpl.toolbar_items) {\n",
       "        var name = mpl.toolbar_items[toolbar_ind][0];\n",
       "        var tooltip = mpl.toolbar_items[toolbar_ind][1];\n",
       "        var image = mpl.toolbar_items[toolbar_ind][2];\n",
       "        var method_name = mpl.toolbar_items[toolbar_ind][3];\n",
       "\n",
       "        if (!name) {\n",
       "            // put a spacer in here.\n",
       "            continue;\n",
       "        }\n",
       "        var button = $('<button/>');\n",
       "        button.addClass('ui-button ui-widget ui-state-default ui-corner-all ' +\n",
       "                        'ui-button-icon-only');\n",
       "        button.attr('role', 'button');\n",
       "        button.attr('aria-disabled', 'false');\n",
       "        button.click(method_name, toolbar_event);\n",
       "        button.mouseover(tooltip, toolbar_mouse_event);\n",
       "\n",
       "        var icon_img = $('<span/>');\n",
       "        icon_img.addClass('ui-button-icon-primary ui-icon');\n",
       "        icon_img.addClass(image);\n",
       "        icon_img.addClass('ui-corner-all');\n",
       "\n",
       "        var tooltip_span = $('<span/>');\n",
       "        tooltip_span.addClass('ui-button-text');\n",
       "        tooltip_span.html(tooltip);\n",
       "\n",
       "        button.append(icon_img);\n",
       "        button.append(tooltip_span);\n",
       "\n",
       "        nav_element.append(button);\n",
       "    }\n",
       "\n",
       "    var fmt_picker_span = $('<span/>');\n",
       "\n",
       "    var fmt_picker = $('<select/>');\n",
       "    fmt_picker.addClass('mpl-toolbar-option ui-widget ui-widget-content');\n",
       "    fmt_picker_span.append(fmt_picker);\n",
       "    nav_element.append(fmt_picker_span);\n",
       "    this.format_dropdown = fmt_picker[0];\n",
       "\n",
       "    for (var ind in mpl.extensions) {\n",
       "        var fmt = mpl.extensions[ind];\n",
       "        var option = $(\n",
       "            '<option/>', {selected: fmt === mpl.default_extension}).html(fmt);\n",
       "        fmt_picker.append(option)\n",
       "    }\n",
       "\n",
       "    // Add hover states to the ui-buttons\n",
       "    $( \".ui-button\" ).hover(\n",
       "        function() { $(this).addClass(\"ui-state-hover\");},\n",
       "        function() { $(this).removeClass(\"ui-state-hover\");}\n",
       "    );\n",
       "\n",
       "    var status_bar = $('<span class=\"mpl-message\"/>');\n",
       "    nav_element.append(status_bar);\n",
       "    this.message = status_bar[0];\n",
       "}\n",
       "\n",
       "mpl.figure.prototype.request_resize = function(x_pixels, y_pixels) {\n",
       "    // Request matplotlib to resize the figure. Matplotlib will then trigger a resize in the client,\n",
       "    // which will in turn request a refresh of the image.\n",
       "    this.send_message('resize', {'width': x_pixels, 'height': y_pixels});\n",
       "}\n",
       "\n",
       "mpl.figure.prototype.send_message = function(type, properties) {\n",
       "    properties['type'] = type;\n",
       "    properties['figure_id'] = this.id;\n",
       "    this.ws.send(JSON.stringify(properties));\n",
       "}\n",
       "\n",
       "mpl.figure.prototype.send_draw_message = function() {\n",
       "    if (!this.waiting) {\n",
       "        this.waiting = true;\n",
       "        this.ws.send(JSON.stringify({type: \"draw\", figure_id: this.id}));\n",
       "    }\n",
       "}\n",
       "\n",
       "\n",
       "mpl.figure.prototype.handle_save = function(fig, msg) {\n",
       "    var format_dropdown = fig.format_dropdown;\n",
       "    var format = format_dropdown.options[format_dropdown.selectedIndex].value;\n",
       "    fig.ondownload(fig, format);\n",
       "}\n",
       "\n",
       "\n",
       "mpl.figure.prototype.handle_resize = function(fig, msg) {\n",
       "    var size = msg['size'];\n",
       "    if (size[0] != fig.canvas.width || size[1] != fig.canvas.height) {\n",
       "        fig._resize_canvas(size[0], size[1]);\n",
       "        fig.send_message(\"refresh\", {});\n",
       "    };\n",
       "}\n",
       "\n",
       "mpl.figure.prototype.handle_rubberband = function(fig, msg) {\n",
       "    var x0 = msg['x0'];\n",
       "    var y0 = fig.canvas.height - msg['y0'];\n",
       "    var x1 = msg['x1'];\n",
       "    var y1 = fig.canvas.height - msg['y1'];\n",
       "    x0 = Math.floor(x0) + 0.5;\n",
       "    y0 = Math.floor(y0) + 0.5;\n",
       "    x1 = Math.floor(x1) + 0.5;\n",
       "    y1 = Math.floor(y1) + 0.5;\n",
       "    var min_x = Math.min(x0, x1);\n",
       "    var min_y = Math.min(y0, y1);\n",
       "    var width = Math.abs(x1 - x0);\n",
       "    var height = Math.abs(y1 - y0);\n",
       "\n",
       "    fig.rubberband_context.clearRect(\n",
       "        0, 0, fig.canvas.width, fig.canvas.height);\n",
       "\n",
       "    fig.rubberband_context.strokeRect(min_x, min_y, width, height);\n",
       "}\n",
       "\n",
       "mpl.figure.prototype.handle_figure_label = function(fig, msg) {\n",
       "    // Updates the figure title.\n",
       "    fig.header.textContent = msg['label'];\n",
       "}\n",
       "\n",
       "mpl.figure.prototype.handle_cursor = function(fig, msg) {\n",
       "    var cursor = msg['cursor'];\n",
       "    switch(cursor)\n",
       "    {\n",
       "    case 0:\n",
       "        cursor = 'pointer';\n",
       "        break;\n",
       "    case 1:\n",
       "        cursor = 'default';\n",
       "        break;\n",
       "    case 2:\n",
       "        cursor = 'crosshair';\n",
       "        break;\n",
       "    case 3:\n",
       "        cursor = 'move';\n",
       "        break;\n",
       "    }\n",
       "    fig.rubberband_canvas.style.cursor = cursor;\n",
       "}\n",
       "\n",
       "mpl.figure.prototype.handle_message = function(fig, msg) {\n",
       "    fig.message.textContent = msg['message'];\n",
       "}\n",
       "\n",
       "mpl.figure.prototype.handle_draw = function(fig, msg) {\n",
       "    // Request the server to send over a new figure.\n",
       "    fig.send_draw_message();\n",
       "}\n",
       "\n",
       "mpl.figure.prototype.handle_image_mode = function(fig, msg) {\n",
       "    fig.image_mode = msg['mode'];\n",
       "}\n",
       "\n",
       "mpl.figure.prototype.updated_canvas_event = function() {\n",
       "    // Called whenever the canvas gets updated.\n",
       "    this.send_message(\"ack\", {});\n",
       "}\n",
       "\n",
       "// A function to construct a web socket function for onmessage handling.\n",
       "// Called in the figure constructor.\n",
       "mpl.figure.prototype._make_on_message_function = function(fig) {\n",
       "    return function socket_on_message(evt) {\n",
       "        if (evt.data instanceof Blob) {\n",
       "            /* FIXME: We get \"Resource interpreted as Image but\n",
       "             * transferred with MIME type text/plain:\" errors on\n",
       "             * Chrome.  But how to set the MIME type?  It doesn't seem\n",
       "             * to be part of the websocket stream */\n",
       "            evt.data.type = \"image/png\";\n",
       "\n",
       "            /* Free the memory for the previous frames */\n",
       "            if (fig.imageObj.src) {\n",
       "                (window.URL || window.webkitURL).revokeObjectURL(\n",
       "                    fig.imageObj.src);\n",
       "            }\n",
       "\n",
       "            fig.imageObj.src = (window.URL || window.webkitURL).createObjectURL(\n",
       "                evt.data);\n",
       "            fig.updated_canvas_event();\n",
       "            fig.waiting = false;\n",
       "            return;\n",
       "        }\n",
       "        else if (typeof evt.data === 'string' && evt.data.slice(0, 21) == \"data:image/png;base64\") {\n",
       "            fig.imageObj.src = evt.data;\n",
       "            fig.updated_canvas_event();\n",
       "            fig.waiting = false;\n",
       "            return;\n",
       "        }\n",
       "\n",
       "        var msg = JSON.parse(evt.data);\n",
       "        var msg_type = msg['type'];\n",
       "\n",
       "        // Call the  \"handle_{type}\" callback, which takes\n",
       "        // the figure and JSON message as its only arguments.\n",
       "        try {\n",
       "            var callback = fig[\"handle_\" + msg_type];\n",
       "        } catch (e) {\n",
       "            console.log(\"No handler for the '\" + msg_type + \"' message type: \", msg);\n",
       "            return;\n",
       "        }\n",
       "\n",
       "        if (callback) {\n",
       "            try {\n",
       "                // console.log(\"Handling '\" + msg_type + \"' message: \", msg);\n",
       "                callback(fig, msg);\n",
       "            } catch (e) {\n",
       "                console.log(\"Exception inside the 'handler_\" + msg_type + \"' callback:\", e, e.stack, msg);\n",
       "            }\n",
       "        }\n",
       "    };\n",
       "}\n",
       "\n",
       "// from http://stackoverflow.com/questions/1114465/getting-mouse-location-in-canvas\n",
       "mpl.findpos = function(e) {\n",
       "    //this section is from http://www.quirksmode.org/js/events_properties.html\n",
       "    var targ;\n",
       "    if (!e)\n",
       "        e = window.event;\n",
       "    if (e.target)\n",
       "        targ = e.target;\n",
       "    else if (e.srcElement)\n",
       "        targ = e.srcElement;\n",
       "    if (targ.nodeType == 3) // defeat Safari bug\n",
       "        targ = targ.parentNode;\n",
       "\n",
       "    // jQuery normalizes the pageX and pageY\n",
       "    // pageX,Y are the mouse positions relative to the document\n",
       "    // offset() returns the position of the element relative to the document\n",
       "    var x = e.pageX - $(targ).offset().left;\n",
       "    var y = e.pageY - $(targ).offset().top;\n",
       "\n",
       "    return {\"x\": x, \"y\": y};\n",
       "};\n",
       "\n",
       "/*\n",
       " * return a copy of an object with only non-object keys\n",
       " * we need this to avoid circular references\n",
       " * http://stackoverflow.com/a/24161582/3208463\n",
       " */\n",
       "function simpleKeys (original) {\n",
       "  return Object.keys(original).reduce(function (obj, key) {\n",
       "    if (typeof original[key] !== 'object')\n",
       "        obj[key] = original[key]\n",
       "    return obj;\n",
       "  }, {});\n",
       "}\n",
       "\n",
       "mpl.figure.prototype.mouse_event = function(event, name) {\n",
       "    var canvas_pos = mpl.findpos(event)\n",
       "\n",
       "    if (name === 'button_press')\n",
       "    {\n",
       "        this.canvas.focus();\n",
       "        this.canvas_div.focus();\n",
       "    }\n",
       "\n",
       "    var x = canvas_pos.x;\n",
       "    var y = canvas_pos.y;\n",
       "\n",
       "    this.send_message(name, {x: x, y: y, button: event.button,\n",
       "                             step: event.step,\n",
       "                             guiEvent: simpleKeys(event)});\n",
       "\n",
       "    /* This prevents the web browser from automatically changing to\n",
       "     * the text insertion cursor when the button is pressed.  We want\n",
       "     * to control all of the cursor setting manually through the\n",
       "     * 'cursor' event from matplotlib */\n",
       "    event.preventDefault();\n",
       "    return false;\n",
       "}\n",
       "\n",
       "mpl.figure.prototype._key_event_extra = function(event, name) {\n",
       "    // Handle any extra behaviour associated with a key event\n",
       "}\n",
       "\n",
       "mpl.figure.prototype.key_event = function(event, name) {\n",
       "\n",
       "    // Prevent repeat events\n",
       "    if (name == 'key_press')\n",
       "    {\n",
       "        if (event.which === this._key)\n",
       "            return;\n",
       "        else\n",
       "            this._key = event.which;\n",
       "    }\n",
       "    if (name == 'key_release')\n",
       "        this._key = null;\n",
       "\n",
       "    var value = '';\n",
       "    if (event.ctrlKey && event.which != 17)\n",
       "        value += \"ctrl+\";\n",
       "    if (event.altKey && event.which != 18)\n",
       "        value += \"alt+\";\n",
       "    if (event.shiftKey && event.which != 16)\n",
       "        value += \"shift+\";\n",
       "\n",
       "    value += 'k';\n",
       "    value += event.which.toString();\n",
       "\n",
       "    this._key_event_extra(event, name);\n",
       "\n",
       "    this.send_message(name, {key: value,\n",
       "                             guiEvent: simpleKeys(event)});\n",
       "    return false;\n",
       "}\n",
       "\n",
       "mpl.figure.prototype.toolbar_button_onclick = function(name) {\n",
       "    if (name == 'download') {\n",
       "        this.handle_save(this, null);\n",
       "    } else {\n",
       "        this.send_message(\"toolbar_button\", {name: name});\n",
       "    }\n",
       "};\n",
       "\n",
       "mpl.figure.prototype.toolbar_button_onmouseover = function(tooltip) {\n",
       "    this.message.textContent = tooltip;\n",
       "};\n",
       "mpl.toolbar_items = [[\"Home\", \"Reset original view\", \"fa fa-home icon-home\", \"home\"], [\"Back\", \"Back to  previous view\", \"fa fa-arrow-left icon-arrow-left\", \"back\"], [\"Forward\", \"Forward to next view\", \"fa fa-arrow-right icon-arrow-right\", \"forward\"], [\"\", \"\", \"\", \"\"], [\"Pan\", \"Pan axes with left mouse, zoom with right\", \"fa fa-arrows icon-move\", \"pan\"], [\"Zoom\", \"Zoom to rectangle\", \"fa fa-square-o icon-check-empty\", \"zoom\"], [\"\", \"\", \"\", \"\"], [\"Download\", \"Download plot\", \"fa fa-floppy-o icon-save\", \"download\"]];\n",
       "\n",
       "mpl.extensions = [\"eps\", \"pdf\", \"png\", \"ps\", \"raw\", \"svg\"];\n",
       "\n",
       "mpl.default_extension = \"png\";var comm_websocket_adapter = function(comm) {\n",
       "    // Create a \"websocket\"-like object which calls the given IPython comm\n",
       "    // object with the appropriate methods. Currently this is a non binary\n",
       "    // socket, so there is still some room for performance tuning.\n",
       "    var ws = {};\n",
       "\n",
       "    ws.close = function() {\n",
       "        comm.close()\n",
       "    };\n",
       "    ws.send = function(m) {\n",
       "        //console.log('sending', m);\n",
       "        comm.send(m);\n",
       "    };\n",
       "    // Register the callback with on_msg.\n",
       "    comm.on_msg(function(msg) {\n",
       "        //console.log('receiving', msg['content']['data'], msg);\n",
       "        // Pass the mpl event to the overriden (by mpl) onmessage function.\n",
       "        ws.onmessage(msg['content']['data'])\n",
       "    });\n",
       "    return ws;\n",
       "}\n",
       "\n",
       "mpl.mpl_figure_comm = function(comm, msg) {\n",
       "    // This is the function which gets called when the mpl process\n",
       "    // starts-up an IPython Comm through the \"matplotlib\" channel.\n",
       "\n",
       "    var id = msg.content.data.id;\n",
       "    // Get hold of the div created by the display call when the Comm\n",
       "    // socket was opened in Python.\n",
       "    var element = $(\"#\" + id);\n",
       "    var ws_proxy = comm_websocket_adapter(comm)\n",
       "\n",
       "    function ondownload(figure, format) {\n",
       "        window.open(figure.imageObj.src);\n",
       "    }\n",
       "\n",
       "    var fig = new mpl.figure(id, ws_proxy,\n",
       "                           ondownload,\n",
       "                           element.get(0));\n",
       "\n",
       "    // Call onopen now - mpl needs it, as it is assuming we've passed it a real\n",
       "    // web socket which is closed, not our websocket->open comm proxy.\n",
       "    ws_proxy.onopen();\n",
       "\n",
       "    fig.parent_element = element.get(0);\n",
       "    fig.cell_info = mpl.find_output_cell(\"<div id='\" + id + \"'></div>\");\n",
       "    if (!fig.cell_info) {\n",
       "        console.error(\"Failed to find cell for figure\", id, fig);\n",
       "        return;\n",
       "    }\n",
       "\n",
       "    var output_index = fig.cell_info[2]\n",
       "    var cell = fig.cell_info[0];\n",
       "\n",
       "};\n",
       "\n",
       "mpl.figure.prototype.handle_close = function(fig, msg) {\n",
       "    fig.root.unbind('remove')\n",
       "\n",
       "    // Update the output cell to use the data from the current canvas.\n",
       "    fig.push_to_output();\n",
       "    var dataURL = fig.canvas.toDataURL();\n",
       "    // Re-enable the keyboard manager in IPython - without this line, in FF,\n",
       "    // the notebook keyboard shortcuts fail.\n",
       "    IPython.keyboard_manager.enable()\n",
       "    $(fig.parent_element).html('<img src=\"' + dataURL + '\">');\n",
       "    fig.close_ws(fig, msg);\n",
       "}\n",
       "\n",
       "mpl.figure.prototype.close_ws = function(fig, msg){\n",
       "    fig.send_message('closing', msg);\n",
       "    // fig.ws.close()\n",
       "}\n",
       "\n",
       "mpl.figure.prototype.push_to_output = function(remove_interactive) {\n",
       "    // Turn the data on the canvas into data in the output cell.\n",
       "    var dataURL = this.canvas.toDataURL();\n",
       "    this.cell_info[1]['text/html'] = '<img src=\"' + dataURL + '\">';\n",
       "}\n",
       "\n",
       "mpl.figure.prototype.updated_canvas_event = function() {\n",
       "    // Tell IPython that the notebook contents must change.\n",
       "    IPython.notebook.set_dirty(true);\n",
       "    this.send_message(\"ack\", {});\n",
       "    var fig = this;\n",
       "    // Wait a second, then push the new image to the DOM so\n",
       "    // that it is saved nicely (might be nice to debounce this).\n",
       "    setTimeout(function () { fig.push_to_output() }, 1000);\n",
       "}\n",
       "\n",
       "mpl.figure.prototype._init_toolbar = function() {\n",
       "    var fig = this;\n",
       "\n",
       "    var nav_element = $('<div/>')\n",
       "    nav_element.attr('style', 'width: 100%');\n",
       "    this.root.append(nav_element);\n",
       "\n",
       "    // Define a callback function for later on.\n",
       "    function toolbar_event(event) {\n",
       "        return fig.toolbar_button_onclick(event['data']);\n",
       "    }\n",
       "    function toolbar_mouse_event(event) {\n",
       "        return fig.toolbar_button_onmouseover(event['data']);\n",
       "    }\n",
       "\n",
       "    for(var toolbar_ind in mpl.toolbar_items){\n",
       "        var name = mpl.toolbar_items[toolbar_ind][0];\n",
       "        var tooltip = mpl.toolbar_items[toolbar_ind][1];\n",
       "        var image = mpl.toolbar_items[toolbar_ind][2];\n",
       "        var method_name = mpl.toolbar_items[toolbar_ind][3];\n",
       "\n",
       "        if (!name) { continue; };\n",
       "\n",
       "        var button = $('<button class=\"btn btn-default\" href=\"#\" title=\"' + name + '\"><i class=\"fa ' + image + ' fa-lg\"></i></button>');\n",
       "        button.click(method_name, toolbar_event);\n",
       "        button.mouseover(tooltip, toolbar_mouse_event);\n",
       "        nav_element.append(button);\n",
       "    }\n",
       "\n",
       "    // Add the status bar.\n",
       "    var status_bar = $('<span class=\"mpl-message\" style=\"text-align:right; float: right;\"/>');\n",
       "    nav_element.append(status_bar);\n",
       "    this.message = status_bar[0];\n",
       "\n",
       "    // Add the close button to the window.\n",
       "    var buttongrp = $('<div class=\"btn-group inline pull-right\"></div>');\n",
       "    var button = $('<button class=\"btn btn-mini btn-primary\" href=\"#\" title=\"Stop Interaction\"><i class=\"fa fa-power-off icon-remove icon-large\"></i></button>');\n",
       "    button.click(function (evt) { fig.handle_close(fig, {}); } );\n",
       "    button.mouseover('Stop Interaction', toolbar_mouse_event);\n",
       "    buttongrp.append(button);\n",
       "    var titlebar = this.root.find($('.ui-dialog-titlebar'));\n",
       "    titlebar.prepend(buttongrp);\n",
       "}\n",
       "\n",
       "mpl.figure.prototype._root_extra_style = function(el){\n",
       "    var fig = this\n",
       "    el.on(\"remove\", function(){\n",
       "\tfig.close_ws(fig, {});\n",
       "    });\n",
       "}\n",
       "\n",
       "mpl.figure.prototype._canvas_extra_style = function(el){\n",
       "    // this is important to make the div 'focusable\n",
       "    el.attr('tabindex', 0)\n",
       "    // reach out to IPython and tell the keyboard manager to turn it's self\n",
       "    // off when our div gets focus\n",
       "\n",
       "    // location in version 3\n",
       "    if (IPython.notebook.keyboard_manager) {\n",
       "        IPython.notebook.keyboard_manager.register_events(el);\n",
       "    }\n",
       "    else {\n",
       "        // location in version 2\n",
       "        IPython.keyboard_manager.register_events(el);\n",
       "    }\n",
       "\n",
       "}\n",
       "\n",
       "mpl.figure.prototype._key_event_extra = function(event, name) {\n",
       "    var manager = IPython.notebook.keyboard_manager;\n",
       "    if (!manager)\n",
       "        manager = IPython.keyboard_manager;\n",
       "\n",
       "    // Check for shift+enter\n",
       "    if (event.shiftKey && event.which == 13) {\n",
       "        this.canvas_div.blur();\n",
       "        event.shiftKey = false;\n",
       "        // Send a \"J\" for go to next cell\n",
       "        event.which = 74;\n",
       "        event.keyCode = 74;\n",
       "        manager.command_mode();\n",
       "        manager.handle_keydown(event);\n",
       "    }\n",
       "}\n",
       "\n",
       "mpl.figure.prototype.handle_save = function(fig, msg) {\n",
       "    fig.ondownload(fig, null);\n",
       "}\n",
       "\n",
       "\n",
       "mpl.find_output_cell = function(html_output) {\n",
       "    // Return the cell and output element which can be found *uniquely* in the notebook.\n",
       "    // Note - this is a bit hacky, but it is done because the \"notebook_saving.Notebook\"\n",
       "    // IPython event is triggered only after the cells have been serialised, which for\n",
       "    // our purposes (turning an active figure into a static one), is too late.\n",
       "    var cells = IPython.notebook.get_cells();\n",
       "    var ncells = cells.length;\n",
       "    for (var i=0; i<ncells; i++) {\n",
       "        var cell = cells[i];\n",
       "        if (cell.cell_type === 'code'){\n",
       "            for (var j=0; j<cell.output_area.outputs.length; j++) {\n",
       "                var data = cell.output_area.outputs[j];\n",
       "                if (data.data) {\n",
       "                    // IPython >= 3 moved mimebundle to data attribute of output\n",
       "                    data = data.data;\n",
       "                }\n",
       "                if (data['text/html'] == html_output) {\n",
       "                    return [cell, data, j];\n",
       "                }\n",
       "            }\n",
       "        }\n",
       "    }\n",
       "}\n",
       "\n",
       "// Register the function which deals with the matplotlib target/channel.\n",
       "// The kernel may be null if the page has been refreshed.\n",
       "if (IPython.notebook.kernel != null) {\n",
       "    IPython.notebook.kernel.comm_manager.register_target('matplotlib', mpl.mpl_figure_comm);\n",
       "}\n"
      ],
      "text/plain": [
       "<IPython.core.display.Javascript object>"
      ]
     },
     "metadata": {},
     "output_type": "display_data"
    },
    {
     "data": {
      "text/html": [
       "<img src=\"data:image/png;base64,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\">"
      ],
      "text/plain": [
       "<IPython.core.display.HTML object>"
      ]
     },
     "metadata": {},
     "output_type": "display_data"
    }
   ],
   "source": [
    "H.plot(hh.load(\"./slice_0KK.h5\"), min=0, max=1e-3)"
   ]
  },
  {
   "cell_type": "markdown",
   "metadata": {},
   "source": [
    "Why is there no data?  Check analytical plot for these values...\n",
    "\n",
    "For X' -> Gamma, the energy is simply too low (need in the +40 range)"
   ]
  }
 ],
 "metadata": {
  "kernelspec": {
   "display_name": "Python 2",
   "language": "python",
   "name": "python2"
  },
  "language_info": {
   "codemirror_mode": {
    "name": "ipython",
    "version": 2
   },
   "file_extension": ".py",
   "mimetype": "text/x-python",
   "name": "python",
   "nbconvert_exporter": "python",
   "pygments_lexer": "ipython2",
   "version": "2.7.11"
  },
  "widgets": {
   "state": {},
   "version": "1.1.2"
  }
 },
 "nbformat": 4,
 "nbformat_minor": 0
}
