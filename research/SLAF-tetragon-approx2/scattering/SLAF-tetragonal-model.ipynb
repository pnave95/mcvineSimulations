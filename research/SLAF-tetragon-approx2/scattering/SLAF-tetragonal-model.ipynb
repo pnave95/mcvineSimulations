{
 "cells": [
  {
   "cell_type": "markdown",
   "metadata": {},
   "source": [
    "# Spin Wave Simulation"
   ]
  },
  {
   "cell_type": "markdown",
   "metadata": {},
   "source": [
    "Instrument: ARCS\n",
    "* Ei=50meV\n",
    "* Fermi chopper: 360 Hz\n",
    "* T0: 90Hz\n",
    " \n",
    "Sample: SLAF tetragonal model\n",
    "* lattice parameters: 5 5 5        90 90 90\n",
    "* spin wave model available in paper: \"Dynamical structure factor of quasi-two-dimensional antiferromagnet in high fields\"\n",
    "* Orientation: u,v = [1 0 2] and  [1 0 0]\n",
    "* psi angles: -90, 90, step 3\n"
   ]
  },
  {
   "cell_type": "markdown",
   "metadata": {},
   "source": [
    "## Step 0. some goodies"
   ]
  },
  {
   "cell_type": "code",
   "execution_count": 1,
   "metadata": {
    "collapsed": false
   },
   "outputs": [],
   "source": [
    "%matplotlib notebook\n",
    "from matplotlib import pyplot as plt\n",
    "import numpy as np\n",
    "import histogram.hdf as hh, histogram as H"
   ]
  },
  {
   "cell_type": "markdown",
   "metadata": {},
   "source": [
    "## Step 1. create dir structure"
   ]
  },
  {
   "cell_type": "code",
   "execution_count": 2,
   "metadata": {
    "collapsed": true
   },
   "outputs": [],
   "source": [
    "# Define which directory to use for my simulation\n",
    "workdir = \"/SNS/users/p63/mcvine/research/SLAF-tetragon-approx2/\""
   ]
  },
  {
   "cell_type": "code",
   "execution_count": 3,
   "metadata": {
    "collapsed": false
   },
   "outputs": [
    {
     "name": "stdout",
     "output_type": "stream",
     "text": [
      "/SNS/users/p63/mcvine/research/SLAF-tetragon-approx2\n",
      "samples  scattering\r\n"
     ]
    }
   ],
   "source": [
    "# change into primary simulation directory\n",
    "%cd {workdir}\n",
    "!ls"
   ]
  },
  {
   "cell_type": "markdown",
   "metadata": {},
   "source": [
    "## Step 2. obtain beam simulation"
   ]
  },
  {
   "cell_type": "code",
   "execution_count": 20,
   "metadata": {
    "collapsed": false
   },
   "outputs": [
    {
     "name": "stdout",
     "output_type": "stream",
     "text": [
      "/SNS/users/p63/mcvine/research/SLAF-tetragon-approx2/scattering\n"
     ]
    }
   ],
   "source": [
    "%cd {workdir}/scattering"
   ]
  },
  {
   "cell_type": "code",
   "execution_count": 21,
   "metadata": {
    "collapsed": false
   },
   "outputs": [],
   "source": [
    "!ln -s ../../BaFe2Se3_IndependentPlaquettesModel/beam_50meV_1e9_neutrons/ beam"
   ]
  },
  {
   "cell_type": "code",
   "execution_count": 22,
   "metadata": {
    "collapsed": false
   },
   "outputs": [
    {
     "name": "stdout",
     "output_type": "stream",
     "text": [
      "total 512\r\n",
      "lrwxrwxrwx 1 p63 users     66 Jun 29 11:06 beam -> ../../BaFe2Se3_IndependentPlaquettesModel/beam_50meV_1e9_neutrons/\r\n",
      "-rw-r--r-- 1 p63 users 299854 Jun 29 11:06 SLAF-tetragonal-model.ipynb\r\n"
     ]
    }
   ],
   "source": [
    "!ls -l"
   ]
  },
  {
   "cell_type": "code",
   "execution_count": 24,
   "metadata": {
    "collapsed": false
   },
   "outputs": [
    {
     "name": "stdout",
     "output_type": "stream",
     "text": [
      "total 560\r\n",
      "-rw-r--r--   1 p63 users  31009 Jun 29 08:41 50meV_beamProfile.png\r\n",
      "-rw-r--r--   1 p63 users  25633 Jun 28 13:23 arcs_moderator2sample.pml\r\n",
      "-rw-r--r--   1 p63 users   1591 Jun 29 04:44 log.beam\r\n",
      "drwxr-xr-x 102 p63 users   4096 Jun 29 04:44 _m2sout\r\n",
      "-rw-r--r--   1 p63 users    476 Jun 29 04:43 mcvine-instruments-arcs-analyze_beam.params\r\n",
      "-rw-r--r--   1 p63 users    214 Jun 28 13:23 mcvine-instruments-arcs-beam.params\r\n",
      "-rw-r--r--   1 p63 users    319 Jun 28 13:23 mcvine-instruments-arcs-m2s.params\r\n",
      "-rw-r--r--   1 p63 users    385 Jun 28 13:23 mcvine-instruments-arcs-mod2sample.params\r\n",
      "-rw-r--r--   1 p63 users 230176 Jun 29 04:27 mon1-tof.dat\r\n",
      "-rw-r--r--   1 p63 users 231621 Jun 29 04:27 mon2-tof.dat\r\n",
      "drwxr-xr-x   3 p63 users   4096 Jun 29 04:44 out\r\n",
      "-rw-r--r--   1 p63 users    332 Jun 29 08:41 plotBeamProfile.py\r\n",
      "-rw-r--r--   1 p63 users    489 Jun 28 13:23 README.arcs_beam\r\n",
      "-rwxr-xr-x   1 p63 users     77 Jun 28 13:22 run-beam-sim.sh\r\n",
      "-rw-r--r--   1 p63 users    247 Jun 28 13:23 run-m2s.sh\r\n"
     ]
    }
   ],
   "source": [
    "!ls -l beam/"
   ]
  },
  {
   "cell_type": "code",
   "execution_count": 26,
   "metadata": {
    "collapsed": false
   },
   "outputs": [
    {
     "data": {
      "application/javascript": [
       "/* Put everything inside the global mpl namespace */\n",
       "window.mpl = {};\n",
       "\n",
       "mpl.get_websocket_type = function() {\n",
       "    if (typeof(WebSocket) !== 'undefined') {\n",
       "        return WebSocket;\n",
       "    } else if (typeof(MozWebSocket) !== 'undefined') {\n",
       "        return MozWebSocket;\n",
       "    } else {\n",
       "        alert('Your browser does not have WebSocket support.' +\n",
       "              'Please try Chrome, Safari or Firefox ≥ 6. ' +\n",
       "              'Firefox 4 and 5 are also supported but you ' +\n",
       "              'have to enable WebSockets in about:config.');\n",
       "    };\n",
       "}\n",
       "\n",
       "mpl.figure = function(figure_id, websocket, ondownload, parent_element) {\n",
       "    this.id = figure_id;\n",
       "\n",
       "    this.ws = websocket;\n",
       "\n",
       "    this.supports_binary = (this.ws.binaryType != undefined);\n",
       "\n",
       "    if (!this.supports_binary) {\n",
       "        var warnings = document.getElementById(\"mpl-warnings\");\n",
       "        if (warnings) {\n",
       "            warnings.style.display = 'block';\n",
       "            warnings.textContent = (\n",
       "                \"This browser does not support binary websocket messages. \" +\n",
       "                    \"Performance may be slow.\");\n",
       "        }\n",
       "    }\n",
       "\n",
       "    this.imageObj = new Image();\n",
       "\n",
       "    this.context = undefined;\n",
       "    this.message = undefined;\n",
       "    this.canvas = undefined;\n",
       "    this.rubberband_canvas = undefined;\n",
       "    this.rubberband_context = undefined;\n",
       "    this.format_dropdown = undefined;\n",
       "\n",
       "    this.image_mode = 'full';\n",
       "\n",
       "    this.root = $('<div/>');\n",
       "    this._root_extra_style(this.root)\n",
       "    this.root.attr('style', 'display: inline-block');\n",
       "\n",
       "    $(parent_element).append(this.root);\n",
       "\n",
       "    this._init_header(this);\n",
       "    this._init_canvas(this);\n",
       "    this._init_toolbar(this);\n",
       "\n",
       "    var fig = this;\n",
       "\n",
       "    this.waiting = false;\n",
       "\n",
       "    this.ws.onopen =  function () {\n",
       "            fig.send_message(\"supports_binary\", {value: fig.supports_binary});\n",
       "            fig.send_message(\"send_image_mode\", {});\n",
       "            fig.send_message(\"refresh\", {});\n",
       "        }\n",
       "\n",
       "    this.imageObj.onload = function() {\n",
       "            if (fig.image_mode == 'full') {\n",
       "                // Full images could contain transparency (where diff images\n",
       "                // almost always do), so we need to clear the canvas so that\n",
       "                // there is no ghosting.\n",
       "                fig.context.clearRect(0, 0, fig.canvas.width, fig.canvas.height);\n",
       "            }\n",
       "            fig.context.drawImage(fig.imageObj, 0, 0);\n",
       "        };\n",
       "\n",
       "    this.imageObj.onunload = function() {\n",
       "        this.ws.close();\n",
       "    }\n",
       "\n",
       "    this.ws.onmessage = this._make_on_message_function(this);\n",
       "\n",
       "    this.ondownload = ondownload;\n",
       "}\n",
       "\n",
       "mpl.figure.prototype._init_header = function() {\n",
       "    var titlebar = $(\n",
       "        '<div class=\"ui-dialog-titlebar ui-widget-header ui-corner-all ' +\n",
       "        'ui-helper-clearfix\"/>');\n",
       "    var titletext = $(\n",
       "        '<div class=\"ui-dialog-title\" style=\"width: 100%; ' +\n",
       "        'text-align: center; padding: 3px;\"/>');\n",
       "    titlebar.append(titletext)\n",
       "    this.root.append(titlebar);\n",
       "    this.header = titletext[0];\n",
       "}\n",
       "\n",
       "\n",
       "\n",
       "mpl.figure.prototype._canvas_extra_style = function(canvas_div) {\n",
       "\n",
       "}\n",
       "\n",
       "\n",
       "mpl.figure.prototype._root_extra_style = function(canvas_div) {\n",
       "\n",
       "}\n",
       "\n",
       "mpl.figure.prototype._init_canvas = function() {\n",
       "    var fig = this;\n",
       "\n",
       "    var canvas_div = $('<div/>');\n",
       "\n",
       "    canvas_div.attr('style', 'position: relative; clear: both; outline: 0');\n",
       "\n",
       "    function canvas_keyboard_event(event) {\n",
       "        return fig.key_event(event, event['data']);\n",
       "    }\n",
       "\n",
       "    canvas_div.keydown('key_press', canvas_keyboard_event);\n",
       "    canvas_div.keyup('key_release', canvas_keyboard_event);\n",
       "    this.canvas_div = canvas_div\n",
       "    this._canvas_extra_style(canvas_div)\n",
       "    this.root.append(canvas_div);\n",
       "\n",
       "    var canvas = $('<canvas/>');\n",
       "    canvas.addClass('mpl-canvas');\n",
       "    canvas.attr('style', \"left: 0; top: 0; z-index: 0; outline: 0\")\n",
       "\n",
       "    this.canvas = canvas[0];\n",
       "    this.context = canvas[0].getContext(\"2d\");\n",
       "\n",
       "    var rubberband = $('<canvas/>');\n",
       "    rubberband.attr('style', \"position: absolute; left: 0; top: 0; z-index: 1;\")\n",
       "\n",
       "    var pass_mouse_events = true;\n",
       "\n",
       "    canvas_div.resizable({\n",
       "        start: function(event, ui) {\n",
       "            pass_mouse_events = false;\n",
       "        },\n",
       "        resize: function(event, ui) {\n",
       "            fig.request_resize(ui.size.width, ui.size.height);\n",
       "        },\n",
       "        stop: function(event, ui) {\n",
       "            pass_mouse_events = true;\n",
       "            fig.request_resize(ui.size.width, ui.size.height);\n",
       "        },\n",
       "    });\n",
       "\n",
       "    function mouse_event_fn(event) {\n",
       "        if (pass_mouse_events)\n",
       "            return fig.mouse_event(event, event['data']);\n",
       "    }\n",
       "\n",
       "    rubberband.mousedown('button_press', mouse_event_fn);\n",
       "    rubberband.mouseup('button_release', mouse_event_fn);\n",
       "    // Throttle sequential mouse events to 1 every 20ms.\n",
       "    rubberband.mousemove('motion_notify', mouse_event_fn);\n",
       "\n",
       "    rubberband.mouseenter('figure_enter', mouse_event_fn);\n",
       "    rubberband.mouseleave('figure_leave', mouse_event_fn);\n",
       "\n",
       "    canvas_div.on(\"wheel\", function (event) {\n",
       "        event = event.originalEvent;\n",
       "        event['data'] = 'scroll'\n",
       "        if (event.deltaY < 0) {\n",
       "            event.step = 1;\n",
       "        } else {\n",
       "            event.step = -1;\n",
       "        }\n",
       "        mouse_event_fn(event);\n",
       "    });\n",
       "\n",
       "    canvas_div.append(canvas);\n",
       "    canvas_div.append(rubberband);\n",
       "\n",
       "    this.rubberband = rubberband;\n",
       "    this.rubberband_canvas = rubberband[0];\n",
       "    this.rubberband_context = rubberband[0].getContext(\"2d\");\n",
       "    this.rubberband_context.strokeStyle = \"#000000\";\n",
       "\n",
       "    this._resize_canvas = function(width, height) {\n",
       "        // Keep the size of the canvas, canvas container, and rubber band\n",
       "        // canvas in synch.\n",
       "        canvas_div.css('width', width)\n",
       "        canvas_div.css('height', height)\n",
       "\n",
       "        canvas.attr('width', width);\n",
       "        canvas.attr('height', height);\n",
       "\n",
       "        rubberband.attr('width', width);\n",
       "        rubberband.attr('height', height);\n",
       "    }\n",
       "\n",
       "    // Set the figure to an initial 600x600px, this will subsequently be updated\n",
       "    // upon first draw.\n",
       "    this._resize_canvas(600, 600);\n",
       "\n",
       "    // Disable right mouse context menu.\n",
       "    $(this.rubberband_canvas).bind(\"contextmenu\",function(e){\n",
       "        return false;\n",
       "    });\n",
       "\n",
       "    function set_focus () {\n",
       "        canvas.focus();\n",
       "        canvas_div.focus();\n",
       "    }\n",
       "\n",
       "    window.setTimeout(set_focus, 100);\n",
       "}\n",
       "\n",
       "mpl.figure.prototype._init_toolbar = function() {\n",
       "    var fig = this;\n",
       "\n",
       "    var nav_element = $('<div/>')\n",
       "    nav_element.attr('style', 'width: 100%');\n",
       "    this.root.append(nav_element);\n",
       "\n",
       "    // Define a callback function for later on.\n",
       "    function toolbar_event(event) {\n",
       "        return fig.toolbar_button_onclick(event['data']);\n",
       "    }\n",
       "    function toolbar_mouse_event(event) {\n",
       "        return fig.toolbar_button_onmouseover(event['data']);\n",
       "    }\n",
       "\n",
       "    for(var toolbar_ind in mpl.toolbar_items) {\n",
       "        var name = mpl.toolbar_items[toolbar_ind][0];\n",
       "        var tooltip = mpl.toolbar_items[toolbar_ind][1];\n",
       "        var image = mpl.toolbar_items[toolbar_ind][2];\n",
       "        var method_name = mpl.toolbar_items[toolbar_ind][3];\n",
       "\n",
       "        if (!name) {\n",
       "            // put a spacer in here.\n",
       "            continue;\n",
       "        }\n",
       "        var button = $('<button/>');\n",
       "        button.addClass('ui-button ui-widget ui-state-default ui-corner-all ' +\n",
       "                        'ui-button-icon-only');\n",
       "        button.attr('role', 'button');\n",
       "        button.attr('aria-disabled', 'false');\n",
       "        button.click(method_name, toolbar_event);\n",
       "        button.mouseover(tooltip, toolbar_mouse_event);\n",
       "\n",
       "        var icon_img = $('<span/>');\n",
       "        icon_img.addClass('ui-button-icon-primary ui-icon');\n",
       "        icon_img.addClass(image);\n",
       "        icon_img.addClass('ui-corner-all');\n",
       "\n",
       "        var tooltip_span = $('<span/>');\n",
       "        tooltip_span.addClass('ui-button-text');\n",
       "        tooltip_span.html(tooltip);\n",
       "\n",
       "        button.append(icon_img);\n",
       "        button.append(tooltip_span);\n",
       "\n",
       "        nav_element.append(button);\n",
       "    }\n",
       "\n",
       "    var fmt_picker_span = $('<span/>');\n",
       "\n",
       "    var fmt_picker = $('<select/>');\n",
       "    fmt_picker.addClass('mpl-toolbar-option ui-widget ui-widget-content');\n",
       "    fmt_picker_span.append(fmt_picker);\n",
       "    nav_element.append(fmt_picker_span);\n",
       "    this.format_dropdown = fmt_picker[0];\n",
       "\n",
       "    for (var ind in mpl.extensions) {\n",
       "        var fmt = mpl.extensions[ind];\n",
       "        var option = $(\n",
       "            '<option/>', {selected: fmt === mpl.default_extension}).html(fmt);\n",
       "        fmt_picker.append(option)\n",
       "    }\n",
       "\n",
       "    // Add hover states to the ui-buttons\n",
       "    $( \".ui-button\" ).hover(\n",
       "        function() { $(this).addClass(\"ui-state-hover\");},\n",
       "        function() { $(this).removeClass(\"ui-state-hover\");}\n",
       "    );\n",
       "\n",
       "    var status_bar = $('<span class=\"mpl-message\"/>');\n",
       "    nav_element.append(status_bar);\n",
       "    this.message = status_bar[0];\n",
       "}\n",
       "\n",
       "mpl.figure.prototype.request_resize = function(x_pixels, y_pixels) {\n",
       "    // Request matplotlib to resize the figure. Matplotlib will then trigger a resize in the client,\n",
       "    // which will in turn request a refresh of the image.\n",
       "    this.send_message('resize', {'width': x_pixels, 'height': y_pixels});\n",
       "}\n",
       "\n",
       "mpl.figure.prototype.send_message = function(type, properties) {\n",
       "    properties['type'] = type;\n",
       "    properties['figure_id'] = this.id;\n",
       "    this.ws.send(JSON.stringify(properties));\n",
       "}\n",
       "\n",
       "mpl.figure.prototype.send_draw_message = function() {\n",
       "    if (!this.waiting) {\n",
       "        this.waiting = true;\n",
       "        this.ws.send(JSON.stringify({type: \"draw\", figure_id: this.id}));\n",
       "    }\n",
       "}\n",
       "\n",
       "\n",
       "mpl.figure.prototype.handle_save = function(fig, msg) {\n",
       "    var format_dropdown = fig.format_dropdown;\n",
       "    var format = format_dropdown.options[format_dropdown.selectedIndex].value;\n",
       "    fig.ondownload(fig, format);\n",
       "}\n",
       "\n",
       "\n",
       "mpl.figure.prototype.handle_resize = function(fig, msg) {\n",
       "    var size = msg['size'];\n",
       "    if (size[0] != fig.canvas.width || size[1] != fig.canvas.height) {\n",
       "        fig._resize_canvas(size[0], size[1]);\n",
       "        fig.send_message(\"refresh\", {});\n",
       "    };\n",
       "}\n",
       "\n",
       "mpl.figure.prototype.handle_rubberband = function(fig, msg) {\n",
       "    var x0 = msg['x0'];\n",
       "    var y0 = fig.canvas.height - msg['y0'];\n",
       "    var x1 = msg['x1'];\n",
       "    var y1 = fig.canvas.height - msg['y1'];\n",
       "    x0 = Math.floor(x0) + 0.5;\n",
       "    y0 = Math.floor(y0) + 0.5;\n",
       "    x1 = Math.floor(x1) + 0.5;\n",
       "    y1 = Math.floor(y1) + 0.5;\n",
       "    var min_x = Math.min(x0, x1);\n",
       "    var min_y = Math.min(y0, y1);\n",
       "    var width = Math.abs(x1 - x0);\n",
       "    var height = Math.abs(y1 - y0);\n",
       "\n",
       "    fig.rubberband_context.clearRect(\n",
       "        0, 0, fig.canvas.width, fig.canvas.height);\n",
       "\n",
       "    fig.rubberband_context.strokeRect(min_x, min_y, width, height);\n",
       "}\n",
       "\n",
       "mpl.figure.prototype.handle_figure_label = function(fig, msg) {\n",
       "    // Updates the figure title.\n",
       "    fig.header.textContent = msg['label'];\n",
       "}\n",
       "\n",
       "mpl.figure.prototype.handle_cursor = function(fig, msg) {\n",
       "    var cursor = msg['cursor'];\n",
       "    switch(cursor)\n",
       "    {\n",
       "    case 0:\n",
       "        cursor = 'pointer';\n",
       "        break;\n",
       "    case 1:\n",
       "        cursor = 'default';\n",
       "        break;\n",
       "    case 2:\n",
       "        cursor = 'crosshair';\n",
       "        break;\n",
       "    case 3:\n",
       "        cursor = 'move';\n",
       "        break;\n",
       "    }\n",
       "    fig.rubberband_canvas.style.cursor = cursor;\n",
       "}\n",
       "\n",
       "mpl.figure.prototype.handle_message = function(fig, msg) {\n",
       "    fig.message.textContent = msg['message'];\n",
       "}\n",
       "\n",
       "mpl.figure.prototype.handle_draw = function(fig, msg) {\n",
       "    // Request the server to send over a new figure.\n",
       "    fig.send_draw_message();\n",
       "}\n",
       "\n",
       "mpl.figure.prototype.handle_image_mode = function(fig, msg) {\n",
       "    fig.image_mode = msg['mode'];\n",
       "}\n",
       "\n",
       "mpl.figure.prototype.updated_canvas_event = function() {\n",
       "    // Called whenever the canvas gets updated.\n",
       "    this.send_message(\"ack\", {});\n",
       "}\n",
       "\n",
       "// A function to construct a web socket function for onmessage handling.\n",
       "// Called in the figure constructor.\n",
       "mpl.figure.prototype._make_on_message_function = function(fig) {\n",
       "    return function socket_on_message(evt) {\n",
       "        if (evt.data instanceof Blob) {\n",
       "            /* FIXME: We get \"Resource interpreted as Image but\n",
       "             * transferred with MIME type text/plain:\" errors on\n",
       "             * Chrome.  But how to set the MIME type?  It doesn't seem\n",
       "             * to be part of the websocket stream */\n",
       "            evt.data.type = \"image/png\";\n",
       "\n",
       "            /* Free the memory for the previous frames */\n",
       "            if (fig.imageObj.src) {\n",
       "                (window.URL || window.webkitURL).revokeObjectURL(\n",
       "                    fig.imageObj.src);\n",
       "            }\n",
       "\n",
       "            fig.imageObj.src = (window.URL || window.webkitURL).createObjectURL(\n",
       "                evt.data);\n",
       "            fig.updated_canvas_event();\n",
       "            fig.waiting = false;\n",
       "            return;\n",
       "        }\n",
       "        else if (typeof evt.data === 'string' && evt.data.slice(0, 21) == \"data:image/png;base64\") {\n",
       "            fig.imageObj.src = evt.data;\n",
       "            fig.updated_canvas_event();\n",
       "            fig.waiting = false;\n",
       "            return;\n",
       "        }\n",
       "\n",
       "        var msg = JSON.parse(evt.data);\n",
       "        var msg_type = msg['type'];\n",
       "\n",
       "        // Call the  \"handle_{type}\" callback, which takes\n",
       "        // the figure and JSON message as its only arguments.\n",
       "        try {\n",
       "            var callback = fig[\"handle_\" + msg_type];\n",
       "        } catch (e) {\n",
       "            console.log(\"No handler for the '\" + msg_type + \"' message type: \", msg);\n",
       "            return;\n",
       "        }\n",
       "\n",
       "        if (callback) {\n",
       "            try {\n",
       "                // console.log(\"Handling '\" + msg_type + \"' message: \", msg);\n",
       "                callback(fig, msg);\n",
       "            } catch (e) {\n",
       "                console.log(\"Exception inside the 'handler_\" + msg_type + \"' callback:\", e, e.stack, msg);\n",
       "            }\n",
       "        }\n",
       "    };\n",
       "}\n",
       "\n",
       "// from http://stackoverflow.com/questions/1114465/getting-mouse-location-in-canvas\n",
       "mpl.findpos = function(e) {\n",
       "    //this section is from http://www.quirksmode.org/js/events_properties.html\n",
       "    var targ;\n",
       "    if (!e)\n",
       "        e = window.event;\n",
       "    if (e.target)\n",
       "        targ = e.target;\n",
       "    else if (e.srcElement)\n",
       "        targ = e.srcElement;\n",
       "    if (targ.nodeType == 3) // defeat Safari bug\n",
       "        targ = targ.parentNode;\n",
       "\n",
       "    // jQuery normalizes the pageX and pageY\n",
       "    // pageX,Y are the mouse positions relative to the document\n",
       "    // offset() returns the position of the element relative to the document\n",
       "    var x = e.pageX - $(targ).offset().left;\n",
       "    var y = e.pageY - $(targ).offset().top;\n",
       "\n",
       "    return {\"x\": x, \"y\": y};\n",
       "};\n",
       "\n",
       "/*\n",
       " * return a copy of an object with only non-object keys\n",
       " * we need this to avoid circular references\n",
       " * http://stackoverflow.com/a/24161582/3208463\n",
       " */\n",
       "function simpleKeys (original) {\n",
       "  return Object.keys(original).reduce(function (obj, key) {\n",
       "    if (typeof original[key] !== 'object')\n",
       "        obj[key] = original[key]\n",
       "    return obj;\n",
       "  }, {});\n",
       "}\n",
       "\n",
       "mpl.figure.prototype.mouse_event = function(event, name) {\n",
       "    var canvas_pos = mpl.findpos(event)\n",
       "\n",
       "    if (name === 'button_press')\n",
       "    {\n",
       "        this.canvas.focus();\n",
       "        this.canvas_div.focus();\n",
       "    }\n",
       "\n",
       "    var x = canvas_pos.x;\n",
       "    var y = canvas_pos.y;\n",
       "\n",
       "    this.send_message(name, {x: x, y: y, button: event.button,\n",
       "                             step: event.step,\n",
       "                             guiEvent: simpleKeys(event)});\n",
       "\n",
       "    /* This prevents the web browser from automatically changing to\n",
       "     * the text insertion cursor when the button is pressed.  We want\n",
       "     * to control all of the cursor setting manually through the\n",
       "     * 'cursor' event from matplotlib */\n",
       "    event.preventDefault();\n",
       "    return false;\n",
       "}\n",
       "\n",
       "mpl.figure.prototype._key_event_extra = function(event, name) {\n",
       "    // Handle any extra behaviour associated with a key event\n",
       "}\n",
       "\n",
       "mpl.figure.prototype.key_event = function(event, name) {\n",
       "\n",
       "    // Prevent repeat events\n",
       "    if (name == 'key_press')\n",
       "    {\n",
       "        if (event.which === this._key)\n",
       "            return;\n",
       "        else\n",
       "            this._key = event.which;\n",
       "    }\n",
       "    if (name == 'key_release')\n",
       "        this._key = null;\n",
       "\n",
       "    var value = '';\n",
       "    if (event.ctrlKey && event.which != 17)\n",
       "        value += \"ctrl+\";\n",
       "    if (event.altKey && event.which != 18)\n",
       "        value += \"alt+\";\n",
       "    if (event.shiftKey && event.which != 16)\n",
       "        value += \"shift+\";\n",
       "\n",
       "    value += 'k';\n",
       "    value += event.which.toString();\n",
       "\n",
       "    this._key_event_extra(event, name);\n",
       "\n",
       "    this.send_message(name, {key: value,\n",
       "                             guiEvent: simpleKeys(event)});\n",
       "    return false;\n",
       "}\n",
       "\n",
       "mpl.figure.prototype.toolbar_button_onclick = function(name) {\n",
       "    if (name == 'download') {\n",
       "        this.handle_save(this, null);\n",
       "    } else {\n",
       "        this.send_message(\"toolbar_button\", {name: name});\n",
       "    }\n",
       "};\n",
       "\n",
       "mpl.figure.prototype.toolbar_button_onmouseover = function(tooltip) {\n",
       "    this.message.textContent = tooltip;\n",
       "};\n",
       "mpl.toolbar_items = [[\"Home\", \"Reset original view\", \"fa fa-home icon-home\", \"home\"], [\"Back\", \"Back to  previous view\", \"fa fa-arrow-left icon-arrow-left\", \"back\"], [\"Forward\", \"Forward to next view\", \"fa fa-arrow-right icon-arrow-right\", \"forward\"], [\"\", \"\", \"\", \"\"], [\"Pan\", \"Pan axes with left mouse, zoom with right\", \"fa fa-arrows icon-move\", \"pan\"], [\"Zoom\", \"Zoom to rectangle\", \"fa fa-square-o icon-check-empty\", \"zoom\"], [\"\", \"\", \"\", \"\"], [\"Download\", \"Download plot\", \"fa fa-floppy-o icon-save\", \"download\"]];\n",
       "\n",
       "mpl.extensions = [\"eps\", \"pdf\", \"png\", \"ps\", \"raw\", \"svg\"];\n",
       "\n",
       "mpl.default_extension = \"png\";var comm_websocket_adapter = function(comm) {\n",
       "    // Create a \"websocket\"-like object which calls the given IPython comm\n",
       "    // object with the appropriate methods. Currently this is a non binary\n",
       "    // socket, so there is still some room for performance tuning.\n",
       "    var ws = {};\n",
       "\n",
       "    ws.close = function() {\n",
       "        comm.close()\n",
       "    };\n",
       "    ws.send = function(m) {\n",
       "        //console.log('sending', m);\n",
       "        comm.send(m);\n",
       "    };\n",
       "    // Register the callback with on_msg.\n",
       "    comm.on_msg(function(msg) {\n",
       "        //console.log('receiving', msg['content']['data'], msg);\n",
       "        // Pass the mpl event to the overriden (by mpl) onmessage function.\n",
       "        ws.onmessage(msg['content']['data'])\n",
       "    });\n",
       "    return ws;\n",
       "}\n",
       "\n",
       "mpl.mpl_figure_comm = function(comm, msg) {\n",
       "    // This is the function which gets called when the mpl process\n",
       "    // starts-up an IPython Comm through the \"matplotlib\" channel.\n",
       "\n",
       "    var id = msg.content.data.id;\n",
       "    // Get hold of the div created by the display call when the Comm\n",
       "    // socket was opened in Python.\n",
       "    var element = $(\"#\" + id);\n",
       "    var ws_proxy = comm_websocket_adapter(comm)\n",
       "\n",
       "    function ondownload(figure, format) {\n",
       "        window.open(figure.imageObj.src);\n",
       "    }\n",
       "\n",
       "    var fig = new mpl.figure(id, ws_proxy,\n",
       "                           ondownload,\n",
       "                           element.get(0));\n",
       "\n",
       "    // Call onopen now - mpl needs it, as it is assuming we've passed it a real\n",
       "    // web socket which is closed, not our websocket->open comm proxy.\n",
       "    ws_proxy.onopen();\n",
       "\n",
       "    fig.parent_element = element.get(0);\n",
       "    fig.cell_info = mpl.find_output_cell(\"<div id='\" + id + \"'></div>\");\n",
       "    if (!fig.cell_info) {\n",
       "        console.error(\"Failed to find cell for figure\", id, fig);\n",
       "        return;\n",
       "    }\n",
       "\n",
       "    var output_index = fig.cell_info[2]\n",
       "    var cell = fig.cell_info[0];\n",
       "\n",
       "};\n",
       "\n",
       "mpl.figure.prototype.handle_close = function(fig, msg) {\n",
       "    fig.root.unbind('remove')\n",
       "\n",
       "    // Update the output cell to use the data from the current canvas.\n",
       "    fig.push_to_output();\n",
       "    var dataURL = fig.canvas.toDataURL();\n",
       "    // Re-enable the keyboard manager in IPython - without this line, in FF,\n",
       "    // the notebook keyboard shortcuts fail.\n",
       "    IPython.keyboard_manager.enable()\n",
       "    $(fig.parent_element).html('<img src=\"' + dataURL + '\">');\n",
       "    fig.close_ws(fig, msg);\n",
       "}\n",
       "\n",
       "mpl.figure.prototype.close_ws = function(fig, msg){\n",
       "    fig.send_message('closing', msg);\n",
       "    // fig.ws.close()\n",
       "}\n",
       "\n",
       "mpl.figure.prototype.push_to_output = function(remove_interactive) {\n",
       "    // Turn the data on the canvas into data in the output cell.\n",
       "    var dataURL = this.canvas.toDataURL();\n",
       "    this.cell_info[1]['text/html'] = '<img src=\"' + dataURL + '\">';\n",
       "}\n",
       "\n",
       "mpl.figure.prototype.updated_canvas_event = function() {\n",
       "    // Tell IPython that the notebook contents must change.\n",
       "    IPython.notebook.set_dirty(true);\n",
       "    this.send_message(\"ack\", {});\n",
       "    var fig = this;\n",
       "    // Wait a second, then push the new image to the DOM so\n",
       "    // that it is saved nicely (might be nice to debounce this).\n",
       "    setTimeout(function () { fig.push_to_output() }, 1000);\n",
       "}\n",
       "\n",
       "mpl.figure.prototype._init_toolbar = function() {\n",
       "    var fig = this;\n",
       "\n",
       "    var nav_element = $('<div/>')\n",
       "    nav_element.attr('style', 'width: 100%');\n",
       "    this.root.append(nav_element);\n",
       "\n",
       "    // Define a callback function for later on.\n",
       "    function toolbar_event(event) {\n",
       "        return fig.toolbar_button_onclick(event['data']);\n",
       "    }\n",
       "    function toolbar_mouse_event(event) {\n",
       "        return fig.toolbar_button_onmouseover(event['data']);\n",
       "    }\n",
       "\n",
       "    for(var toolbar_ind in mpl.toolbar_items){\n",
       "        var name = mpl.toolbar_items[toolbar_ind][0];\n",
       "        var tooltip = mpl.toolbar_items[toolbar_ind][1];\n",
       "        var image = mpl.toolbar_items[toolbar_ind][2];\n",
       "        var method_name = mpl.toolbar_items[toolbar_ind][3];\n",
       "\n",
       "        if (!name) { continue; };\n",
       "\n",
       "        var button = $('<button class=\"btn btn-default\" href=\"#\" title=\"' + name + '\"><i class=\"fa ' + image + ' fa-lg\"></i></button>');\n",
       "        button.click(method_name, toolbar_event);\n",
       "        button.mouseover(tooltip, toolbar_mouse_event);\n",
       "        nav_element.append(button);\n",
       "    }\n",
       "\n",
       "    // Add the status bar.\n",
       "    var status_bar = $('<span class=\"mpl-message\" style=\"text-align:right; float: right;\"/>');\n",
       "    nav_element.append(status_bar);\n",
       "    this.message = status_bar[0];\n",
       "\n",
       "    // Add the close button to the window.\n",
       "    var buttongrp = $('<div class=\"btn-group inline pull-right\"></div>');\n",
       "    var button = $('<button class=\"btn btn-mini btn-primary\" href=\"#\" title=\"Stop Interaction\"><i class=\"fa fa-power-off icon-remove icon-large\"></i></button>');\n",
       "    button.click(function (evt) { fig.handle_close(fig, {}); } );\n",
       "    button.mouseover('Stop Interaction', toolbar_mouse_event);\n",
       "    buttongrp.append(button);\n",
       "    var titlebar = this.root.find($('.ui-dialog-titlebar'));\n",
       "    titlebar.prepend(buttongrp);\n",
       "}\n",
       "\n",
       "mpl.figure.prototype._root_extra_style = function(el){\n",
       "    var fig = this\n",
       "    el.on(\"remove\", function(){\n",
       "\tfig.close_ws(fig, {});\n",
       "    });\n",
       "}\n",
       "\n",
       "mpl.figure.prototype._canvas_extra_style = function(el){\n",
       "    // this is important to make the div 'focusable\n",
       "    el.attr('tabindex', 0)\n",
       "    // reach out to IPython and tell the keyboard manager to turn it's self\n",
       "    // off when our div gets focus\n",
       "\n",
       "    // location in version 3\n",
       "    if (IPython.notebook.keyboard_manager) {\n",
       "        IPython.notebook.keyboard_manager.register_events(el);\n",
       "    }\n",
       "    else {\n",
       "        // location in version 2\n",
       "        IPython.keyboard_manager.register_events(el);\n",
       "    }\n",
       "\n",
       "}\n",
       "\n",
       "mpl.figure.prototype._key_event_extra = function(event, name) {\n",
       "    var manager = IPython.notebook.keyboard_manager;\n",
       "    if (!manager)\n",
       "        manager = IPython.keyboard_manager;\n",
       "\n",
       "    // Check for shift+enter\n",
       "    if (event.shiftKey && event.which == 13) {\n",
       "        this.canvas_div.blur();\n",
       "        event.shiftKey = false;\n",
       "        // Send a \"J\" for go to next cell\n",
       "        event.which = 74;\n",
       "        event.keyCode = 74;\n",
       "        manager.command_mode();\n",
       "        manager.handle_keydown(event);\n",
       "    }\n",
       "}\n",
       "\n",
       "mpl.figure.prototype.handle_save = function(fig, msg) {\n",
       "    fig.ondownload(fig, null);\n",
       "}\n",
       "\n",
       "\n",
       "mpl.find_output_cell = function(html_output) {\n",
       "    // Return the cell and output element which can be found *uniquely* in the notebook.\n",
       "    // Note - this is a bit hacky, but it is done because the \"notebook_saving.Notebook\"\n",
       "    // IPython event is triggered only after the cells have been serialised, which for\n",
       "    // our purposes (turning an active figure into a static one), is too late.\n",
       "    var cells = IPython.notebook.get_cells();\n",
       "    var ncells = cells.length;\n",
       "    for (var i=0; i<ncells; i++) {\n",
       "        var cell = cells[i];\n",
       "        if (cell.cell_type === 'code'){\n",
       "            for (var j=0; j<cell.output_area.outputs.length; j++) {\n",
       "                var data = cell.output_area.outputs[j];\n",
       "                if (data.data) {\n",
       "                    // IPython >= 3 moved mimebundle to data attribute of output\n",
       "                    data = data.data;\n",
       "                }\n",
       "                if (data['text/html'] == html_output) {\n",
       "                    return [cell, data, j];\n",
       "                }\n",
       "            }\n",
       "        }\n",
       "    }\n",
       "}\n",
       "\n",
       "// Register the function which deals with the matplotlib target/channel.\n",
       "// The kernel may be null if the page has been refreshed.\n",
       "if (IPython.notebook.kernel != null) {\n",
       "    IPython.notebook.kernel.comm_manager.register_target('matplotlib', mpl.mpl_figure_comm);\n",
       "}\n"
      ],
      "text/plain": [
       "<IPython.core.display.Javascript object>"
      ]
     },
     "metadata": {},
     "output_type": "display_data"
    },
    {
     "data": {
      "text/html": [
       "<img src=\"data:image/png;base64,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\">"
      ],
      "text/plain": [
       "<IPython.core.display.HTML object>"
      ]
     },
     "metadata": {},
     "output_type": "display_data"
    },
    {
     "data": {
      "text/plain": [
       "[<matplotlib.lines.Line2D at 0x7f390050a290>]"
      ]
     },
     "execution_count": 26,
     "metadata": {},
     "output_type": "execute_result"
    }
   ],
   "source": [
    "# show beam profile\n",
    "plt.figure(1)\n",
    "ie = hh.load(\"beam/out/ienergy.h5\")\n",
    "plt.plot(ie.energy, ie.I)"
   ]
  },
  {
   "cell_type": "markdown",
   "metadata": {},
   "source": [
    "## Step 3. Check/Update sample assembly"
   ]
  },
  {
   "cell_type": "code",
   "execution_count": 27,
   "metadata": {
    "collapsed": false
   },
   "outputs": [
    {
     "name": "stdout",
     "output_type": "stream",
     "text": [
      "/SNS/users/p63/mcvine/research/SLAF-tetragon-approx2/samples/X/sampleassembly\n"
     ]
    }
   ],
   "source": [
    "%cd \"{workdir}/samples/X/sampleassembly\""
   ]
  },
  {
   "cell_type": "code",
   "execution_count": 28,
   "metadata": {
    "collapsed": false
   },
   "outputs": [
    {
     "name": "stdout",
     "output_type": "stream",
     "text": [
      "8\r\n",
      "11.89620 0 0    0 5.44930 0    0 0 9.16497\r\n",
      "Fe 0.49627 0.99009 0.35234\r\n",
      "Fe 0.50373 0.99009 0.64766\r\n",
      "Fe 0.00373 0.00991 0.85234\r\n",
      "Fe 0.99627 -0.99009 0.14766\r\n",
      "Fe 0.50373 0.50991 0.64766\r\n",
      "Fe 0.49627 0.50991 0.35234\r\n",
      "Fe 0.99627 0.49009 0.14766\r\n",
      "Fe 0.00373 0.49009 0.85234\r\n"
     ]
    }
   ],
   "source": [
    "!cat X.xyz\n"
   ]
  },
  {
   "cell_type": "markdown",
   "metadata": {},
   "source": [
    "Note:  xyz data only important for phonon scattering (I think)"
   ]
  },
  {
   "cell_type": "code",
   "execution_count": 30,
   "metadata": {
    "collapsed": false
   },
   "outputs": [
    {
     "name": "stdout",
     "output_type": "stream",
     "text": [
      "Overwriting ./X.xyz\n"
     ]
    }
   ],
   "source": [
    "%%file ./X.xyz\n",
    "8\n",
    "5 0 0    0 5 0    0 0 5\n",
    "V 0 0 0\n",
    "V 0 0 0\n",
    "V 0 0 0\n",
    "V 0 0 0\n",
    "V 0 0 0\n",
    "V 0 0 0\n",
    "V 0 0 0\n",
    "V 0 0 0"
   ]
  },
  {
   "cell_type": "code",
   "execution_count": 29,
   "metadata": {
    "collapsed": false
   },
   "outputs": [
    {
     "name": "stdout",
     "output_type": "stream",
     "text": [
      "<?xml version=\"1.0\"?>\r\n",
      "\r\n",
      "<!DOCTYPE scatterer>\r\n",
      "\r\n",
      "<!-- weights: absorption, scattering, transmission -->\r\n",
      "<homogeneous_scatterer \r\n",
      "  mcweights=\"0, 1, 0.1\"\r\n",
      "  max_multiplescattering_loops=\"3\"\r\n",
      "  >\r\n",
      "  \r\n",
      "  <KernelContainer average=\"yes\">\r\n",
      "    \r\n",
      "    <E_vQ_Kernel \r\n",
      "\tE_Q=\"pi:=3.1415926535897932; twopi:=2*pi; a:=11.89620; b:=5.44930; c:=9.16497; \r\n",
      "    h:=a*Qx/twopi; k:=b*Qy/twopi; l:=c*Qz/twopi; alpha:=0.1; JS:=5.0; Hnorm:=0.1;\r\n",
      "    theta:=asin(Hnorm);\r\n",
      "    gamma_z:=cos(Qz); gamma_xy:=(cos(Qx)+cos(Qy));\r\n",
      "    gammaBar:=(gamma_xy+alpha*gamma_z)/(2.0+alpha);\r\n",
      "    Eq:=2.0*JS*(2.0+alpha)*sqrt((1+gammaBar)*(1-gammaBar*cos(2.0*theta)));\"\r\n",
      "\tS_Q=\"pi:=3.1415926535897932; twopi:=2*pi; a:=11.89620; b:=5.44930; c:=9.16497; \r\n",
      "    alpha:=0.1; JS:=20; Hnorm:=0.1; theta:=asin(Hnorm);\r\n",
      "    gamma_z:=cos(Qz); gamma_xy:=(cos(Qx)+cos(Qy));\r\n",
      "    gammaBar:=(gamma_xy+alpha*gamma_z)/(2.0+alpha);\r\n",
      "    Aq:=2.0*JS*(2.0+alpha)*(1+gammaBar*(sin(theta))^2);\r\n",
      "    Eq:=2.0*JS*(2.0+alpha)*sqrt((1+gammaBar)*(1-gammaBar*cos(2.0*theta)));\r\n",
      "    UqSquared:=(Aq+Eq)/(2.0*Eq); VqSquared:=(Aq-Eq)/(2.0*Eq);\r\n",
      "    Uq:=sqrt(UqSquared); Vq:=sqrt(VqSquared);\r\n",
      "    Sxx:=(Uq+Vq)^2; Syy:=(Uq-Vq)^2;\r\n",
      "    Sxoxo:=Sxx*(sin(theta))^2; Syoyo:=Syy;\r\n",
      "    Szozo:=Sxx*(cos(theta))^2;\r\n",
      "    Sxoxo+Syoyo+Szozo\"\r\n",
      "\tEmax=\"50*meV\"\r\n",
      "\torientation=\"0.894427191,0.0,-0.4472135955,0.0,1.0,0.0,0.4472135955,0.0,0.894427191\"\r\n",
      "\t/>\r\n",
      "    \r\n",
      "     <E_vQ_Kernel \r\n",
      "\tE_Q=\"pi:=3.1415926535897932; twopi:=2*pi; a:=11.89620; b:=5.44930; c:=9.16497; \r\n",
      "    h:=a*Qx/twopi; k:=b*Qy/twopi; l:=c*Qz/twopi; alpha:=0.1; JS:=5.0; Hnorm:=0.1;\r\n",
      "    theta:=asin(Hnorm);\r\n",
      "    gamma_z:=cos(Qz); gamma_xy:=(cos(Qx)+cos(Qy));\r\n",
      "    gammaBar:=(gamma_xy+alpha*gamma_z)/(2.0+alpha);\r\n",
      "    Eq:=2.0*JS*(2.0+alpha)*sqrt((1+gammaBar)*(1-gammaBar*cos(2.0*theta)));\"\r\n",
      "\tS_Q=\"pi:=3.1415926535897932; twopi:=2*pi; a:=11.89620; b:=5.44930; c:=9.16497; \r\n",
      "    alpha:=0.1; JS:=20; Hnorm:=0.1; theta:=asin(Hnorm);\r\n",
      "    gamma_z:=cos(Qz); gamma_xy:=(cos(Qx)+cos(Qy));\r\n",
      "    gammaBar:=(gamma_xy+alpha*gamma_z)/(2.0+alpha);\r\n",
      "    Aq:=2.0*JS*(2.0+alpha)*(1+gammaBar*(sin(theta))^2);\r\n",
      "    Eq:=2.0*JS*(2.0+alpha)*sqrt((1+gammaBar)*(1-gammaBar*cos(2.0*theta)));\r\n",
      "    UqSquared:=(Aq+Eq)/(2.0*Eq); VqSquared:=(Aq-Eq)/(2.0*Eq);\r\n",
      "    Uq:=sqrt(UqSquared); Vq:=sqrt(VqSquared);\r\n",
      "    Sxx:=(Uq+Vq)^2; Syy:=(Uq-Vq)^2;\r\n",
      "    Sxoxo:=Sxx*(sin(theta))^2; Syoyo:=Syy;\r\n",
      "    qxStar:=Qx-pi; qyStar:=Qy-pi; qzStar:=Qz-pi;\r\n",
      "    gammaZstar:=cos(qzStar); gammaXYstar:=(cos(qxStar)+cos(qyStar));\r\n",
      "    gammaBarStar:=(gammaXYstar+alpha*gammaZstar)/(2.0+alpha);\r\n",
      "    AqStar:=2.0*JS*(2.0+alpha)*(1+gammaBarStar*(sin(theta))^2);\r\n",
      "    EqStar:=2.0*JS*(2.0+alpha)*sqrt((1+gammaBarStar)*(1-gammaBarStar*cos(2.0*theta)));\r\n",
      "    UqSqStar:=(AqStar+EqStar)/(2.0*EqStar); VqSqStar:=(AqStar-EqStar)/(2.0*EqStar);\r\n",
      "    UqStar:=sqrt(UqSqStar); VqStar:=sqrt(VqSqStar);\r\n",
      "    SxxStar:=(UqStar+VqStar)^2; SyyStar:=(UqStar-VqStar)^2;\r\n",
      "    SzozoStar:=SxxStar*(cos(theta))^2;\r\n",
      "    Sxoxo+Syoyo+SzozoStar\"\r\n",
      "\tEmax=\"50*meV\"\r\n",
      "\torientation=\"0.894427191,0.0,-0.4472135955,0.0,1.0,0.0,0.4472135955,0.0,0.894427191\"\r\n",
      "\t/>   \r\n",
      "    \r\n",
      "  </KernelContainer>\r\n",
      "  \r\n",
      "</homogeneous_scatterer>\r\n"
     ]
    }
   ],
   "source": [
    "!cat X-scatterer.xml"
   ]
  },
  {
   "cell_type": "code",
   "execution_count": 31,
   "metadata": {
    "collapsed": false
   },
   "outputs": [
    {
     "name": "stdout",
     "output_type": "stream",
     "text": [
      "Overwriting ./X-scatterer.xml\n"
     ]
    }
   ],
   "source": [
    "%%file ./X-scatterer.xml\n",
    "<?xml version=\"1.0\"?>\n",
    "\n",
    "<!DOCTYPE scatterer>\n",
    "\n",
    "<!-- weights: absorption, scattering, transmission -->\n",
    "<homogeneous_scatterer \n",
    "  mcweights=\"0, 1, 0.1\"\n",
    "  max_multiplescattering_loops=\"3\"\n",
    "  >\n",
    "  \n",
    "  <KernelContainer average=\"yes\">\n",
    "    \n",
    "    <E_vQ_Kernel \n",
    "\tE_Q=\"pi:=3.1415926535897932; twopi:=2*pi; a:=5; b:=5; c:=5; \n",
    "    h:=a*Qx/twopi; k:=b*Qy/twopi; l:=c*Qz/twopi; alpha:=0.1; JS:=5.0; Hnorm:=0.1;\n",
    "    theta:=asin(Hnorm);\n",
    "    gamma_z:=cos(Qz); gamma_xy:=(cos(Qx)+cos(Qy));\n",
    "    gammaBar:=(gamma_xy+alpha*gamma_z)/(2.0+alpha);\n",
    "    Eq:=2.0*JS*(2.0+alpha)*sqrt((1+gammaBar)*(1-gammaBar*cos(2.0*theta)));\"\n",
    "\tS_Q=\"pi:=3.1415926535897932; twopi:=2*pi; a:=5; b:=5; c:=5; \n",
    "    alpha:=0.1; JS:=20; Hnorm:=0.1; theta:=asin(Hnorm);\n",
    "    gamma_z:=cos(Qz); gamma_xy:=(cos(Qx)+cos(Qy));\n",
    "    gammaBar:=(gamma_xy+alpha*gamma_z)/(2.0+alpha);\n",
    "    Aq:=2.0*JS*(2.0+alpha)*(1+gammaBar*(sin(theta))^2);\n",
    "    Eq:=2.0*JS*(2.0+alpha)*sqrt((1+gammaBar)*(1-gammaBar*cos(2.0*theta)));\n",
    "    UqSquared:=(Aq+Eq)/(2.0*Eq); VqSquared:=(Aq-Eq)/(2.0*Eq);\n",
    "    Uq:=sqrt(UqSquared); Vq:=sqrt(VqSquared);\n",
    "    Sxx:=(Uq+Vq)^2; Syy:=(Uq-Vq)^2;\n",
    "    Sxoxo:=Sxx*(sin(theta))^2; Syoyo:=Syy;\n",
    "    Szozo:=Sxx*(cos(theta))^2;\n",
    "    Sxoxo+Syoyo+Szozo\"\n",
    "\tEmax=\"50*meV\"\n",
    "\torientation=\"0.894427191,0.0,-0.4472135955,0.0,1.0,0.0,0.4472135955,0.0,0.894427191\"\n",
    "\t/>\n",
    "    \n",
    "     <E_vQ_Kernel \n",
    "\tE_Q=\"pi:=3.1415926535897932; twopi:=2*pi; a:=5; b:=5; c:=5; \n",
    "    h:=a*Qx/twopi; k:=b*Qy/twopi; l:=c*Qz/twopi; alpha:=0.1; JS:=5.0; Hnorm:=0.1;\n",
    "    theta:=asin(Hnorm);\n",
    "    gamma_z:=cos(Qz); gamma_xy:=(cos(Qx)+cos(Qy));\n",
    "    gammaBar:=(gamma_xy+alpha*gamma_z)/(2.0+alpha);\n",
    "    Eq:=2.0*JS*(2.0+alpha)*sqrt((1+gammaBar)*(1-gammaBar*cos(2.0*theta)));\"\n",
    "\tS_Q=\"pi:=3.1415926535897932; twopi:=2*pi; a:=5; b:=5; c:=5; \n",
    "    alpha:=0.1; JS:=20; Hnorm:=0.1; theta:=asin(Hnorm);\n",
    "    gamma_z:=cos(Qz); gamma_xy:=(cos(Qx)+cos(Qy));\n",
    "    gammaBar:=(gamma_xy+alpha*gamma_z)/(2.0+alpha);\n",
    "    Aq:=2.0*JS*(2.0+alpha)*(1+gammaBar*(sin(theta))^2);\n",
    "    Eq:=2.0*JS*(2.0+alpha)*sqrt((1+gammaBar)*(1-gammaBar*cos(2.0*theta)));\n",
    "    UqSquared:=(Aq+Eq)/(2.0*Eq); VqSquared:=(Aq-Eq)/(2.0*Eq);\n",
    "    Uq:=sqrt(UqSquared); Vq:=sqrt(VqSquared);\n",
    "    Sxx:=(Uq+Vq)^2; Syy:=(Uq-Vq)^2;\n",
    "    Sxoxo:=Sxx*(sin(theta))^2; Syoyo:=Syy;\n",
    "    qxStar:=Qx-pi; qyStar:=Qy-pi; qzStar:=Qz-pi;\n",
    "    gammaZstar:=cos(qzStar); gammaXYstar:=(cos(qxStar)+cos(qyStar));\n",
    "    gammaBarStar:=(gammaXYstar+alpha*gammaZstar)/(2.0+alpha);\n",
    "    AqStar:=2.0*JS*(2.0+alpha)*(1+gammaBarStar*(sin(theta))^2);\n",
    "    EqStar:=2.0*JS*(2.0+alpha)*sqrt((1+gammaBarStar)*(1-gammaBarStar*cos(2.0*theta)));\n",
    "    UqSqStar:=(AqStar+EqStar)/(2.0*EqStar); VqSqStar:=(AqStar-EqStar)/(2.0*EqStar);\n",
    "    UqStar:=sqrt(UqSqStar); VqStar:=sqrt(VqSqStar);\n",
    "    SxxStar:=(UqStar+VqStar)^2; SyyStar:=(UqStar-VqStar)^2;\n",
    "    SzozoStar:=SxxStar*(cos(theta))^2;\n",
    "    Sxoxo+Syoyo+SzozoStar\"\n",
    "\tEmax=\"50*meV\"\n",
    "\torientation=\"0.894427191,0.0,-0.4472135955,0.0,1.0,0.0,0.4472135955,0.0,0.894427191\"\n",
    "\t/>   \n",
    "    \n",
    "  </KernelContainer>\n",
    "  \n",
    "</homogeneous_scatterer>"
   ]
  },
  {
   "cell_type": "code",
   "execution_count": 32,
   "metadata": {
    "collapsed": false
   },
   "outputs": [
    {
     "data": {
      "text/plain": [
       "(array([ 1.25663706,  0.        ,  0.        ]),\n",
       " array([ 0.        ,  1.25663706,  0.        ]),\n",
       " array([ 0.        ,  0.        ,  1.25663706]))"
      ]
     },
     "execution_count": 32,
     "metadata": {},
     "output_type": "execute_result"
    }
   ],
   "source": [
    "a,b,c=5,5,5\n",
    "\n",
    "from numpy import sin, cos, deg2rad\n",
    "a1 = [a, 0, 0]\n",
    "a2 = [0, b, 0]\n",
    "a3 = [0, 0, c]\n",
    "\n",
    "twopi = 2*np.pi\n",
    "f = twopi/np.dot(a1, np.cross(a2, a3))\n",
    "b1 = np.cross(a2,a3) * f\n",
    "b2 = np.cross(a3,a1) * f\n",
    "b3 = np.cross(a1,a2) * f\n",
    "b1,b2,b3"
   ]
  },
  {
   "cell_type": "markdown",
   "metadata": {},
   "source": [
    "#### Orientation of the kernel\n",
    "Here we need to use the convention that z is along beam, y vertical up.\n",
    "The kernel has its own cartesian axis e’x e’y e’z. Because we know\n",
    "u = 102 v = 100\n",
    ", we have the basis vectors of the instrument coordinate system\n",
    "\n",
    "    ez along b1 + 2*b3\n",
    "    ex along b1\n",
    "    \n",
    "\n",
    "So we have them in the reciprocal cartesian axis"
   ]
  },
  {
   "cell_type": "code",
   "execution_count": 33,
   "metadata": {
    "collapsed": false
   },
   "outputs": [
    {
     "data": {
      "text/plain": [
       "(array([ 0.89442719,  0.        , -0.4472136 ]),\n",
       " array([ 0.,  1.,  0.]),\n",
       " array([ 0.4472136 ,  0.        ,  0.89442719]))"
      ]
     },
     "execution_count": 33,
     "metadata": {},
     "output_type": "execute_result"
    }
   ],
   "source": [
    "ez = b1 + 2*b3; ez /= np.linalg.norm(ez)\n",
    "ex1 = b1\n",
    "ey = np.cross(ez, ex1); ey/=np.linalg.norm(ey)\n",
    "ex = np.cross(ey, ez)\n",
    "ex, ey, ez"
   ]
  },
  {
   "cell_type": "markdown",
   "metadata": {},
   "source": [
    "The rotation matrix is define as\n",
    "```\n",
    "    ex.ex’ ex.ey’ ex.ez’ \n",
    "R = ey.ex’ ey.ey’ ey.ez’\n",
    "    ez.ex’ ez.ey’ ez.ez’\n",
    "```\n",
    "So"
   ]
  },
  {
   "cell_type": "code",
   "execution_count": 34,
   "metadata": {
    "collapsed": false
   },
   "outputs": [
    {
     "data": {
      "text/plain": [
       "(array([[ 0.89442719,  0.        , -0.4472136 ],\n",
       "        [ 0.        ,  1.        ,  0.        ],\n",
       "        [ 0.4472136 ,  0.        ,  0.89442719]]),\n",
       " array([ 0.89442719,  0.        , -0.4472136 ,  0.        ,  1.        ,\n",
       "         0.        ,  0.4472136 ,  0.        ,  0.89442719]))"
      ]
     },
     "execution_count": 34,
     "metadata": {},
     "output_type": "execute_result"
    }
   ],
   "source": [
    "R = np.array([ ex, ey, ez ])\n",
    "Rflat = R.copy(); Rflat.shape = -1,\n",
    "R, Rflat"
   ]
  },
  {
   "cell_type": "markdown",
   "metadata": {},
   "source": [
    "Now we add an extra kernel parameter:"
   ]
  },
  {
   "cell_type": "code",
   "execution_count": 35,
   "metadata": {
    "collapsed": false
   },
   "outputs": [
    {
     "data": {
      "text/plain": [
       "'orientation=\"0.894427191,0.0,-0.4472135955,0.0,1.0,0.0,0.4472135955,0.0,0.894427191\"'"
      ]
     },
     "execution_count": 35,
     "metadata": {},
     "output_type": "execute_result"
    }
   ],
   "source": [
    "'orientation=\"%s\"' % (','.join(str(e) for e in Rflat),)"
   ]
  },
  {
   "cell_type": "code",
   "execution_count": 36,
   "metadata": {
    "collapsed": true
   },
   "outputs": [],
   "source": [
    "# modify X-scatterer.xml to specify the orientation"
   ]
  },
  {
   "cell_type": "code",
   "execution_count": 37,
   "metadata": {
    "collapsed": false
   },
   "outputs": [
    {
     "name": "stdout",
     "output_type": "stream",
     "text": [
      "Overwriting ./X-scatterer.xml\n"
     ]
    }
   ],
   "source": [
    "%%file ./X-scatterer.xml\n",
    "<?xml version=\"1.0\"?>\n",
    "\n",
    "<!DOCTYPE scatterer>\n",
    "\n",
    "<!-- weights: absorption, scattering, transmission -->\n",
    "<homogeneous_scatterer \n",
    "  mcweights=\"0, 1, 0.1\"\n",
    "  max_multiplescattering_loops=\"3\"\n",
    "  >\n",
    "  \n",
    "  <KernelContainer average=\"yes\">\n",
    "    \n",
    "    <E_vQ_Kernel \n",
    "\tE_Q=\"pi:=3.1415926535897932; twopi:=2*pi; a:=5; b:=5; c:=5; \n",
    "    h:=a*Qx/twopi; k:=b*Qy/twopi; l:=c*Qz/twopi; alpha:=0.1; JS:=5.0; Hnorm:=0.1;\n",
    "    theta:=asin(Hnorm);\n",
    "    gamma_z:=cos(Qz); gamma_xy:=(cos(Qx)+cos(Qy));\n",
    "    gammaBar:=(gamma_xy+alpha*gamma_z)/(2.0+alpha);\n",
    "    Eq:=2.0*JS*(2.0+alpha)*sqrt((1+gammaBar)*(1-gammaBar*cos(2.0*theta)));\"\n",
    "\tS_Q=\"pi:=3.1415926535897932; twopi:=2*pi; a:=5; b:=5; c:=5; \n",
    "    alpha:=0.1; JS:=20; Hnorm:=0.1; theta:=asin(Hnorm);\n",
    "    gamma_z:=cos(Qz); gamma_xy:=(cos(Qx)+cos(Qy));\n",
    "    gammaBar:=(gamma_xy+alpha*gamma_z)/(2.0+alpha);\n",
    "    Aq:=2.0*JS*(2.0+alpha)*(1+gammaBar*(sin(theta))^2);\n",
    "    Eq:=2.0*JS*(2.0+alpha)*sqrt((1+gammaBar)*(1-gammaBar*cos(2.0*theta)));\n",
    "    UqSquared:=(Aq+Eq)/(2.0*Eq); VqSquared:=(Aq-Eq)/(2.0*Eq);\n",
    "    Uq:=sqrt(UqSquared); Vq:=sqrt(VqSquared);\n",
    "    Sxx:=(Uq+Vq)^2; Syy:=(Uq-Vq)^2;\n",
    "    Sxoxo:=Sxx*(sin(theta))^2; Syoyo:=Syy;\n",
    "    Szozo:=Sxx*(cos(theta))^2;\n",
    "    Sxoxo+Syoyo+Szozo\"\n",
    "\tEmax=\"50*meV\"\n",
    "\torientation=\"0.894427191,0.0,-0.4472135955,0.0,1.0,0.0,0.4472135955,0.0,0.894427191\"\n",
    "\t/>\n",
    "    \n",
    "     <E_vQ_Kernel \n",
    "\tE_Q=\"pi:=3.1415926535897932; twopi:=2*pi; a:=5; b:=5; c:=5; \n",
    "    h:=a*Qx/twopi; k:=b*Qy/twopi; l:=c*Qz/twopi; alpha:=0.1; JS:=5.0; Hnorm:=0.1;\n",
    "    theta:=asin(Hnorm);\n",
    "    gamma_z:=cos(Qz); gamma_xy:=(cos(Qx)+cos(Qy));\n",
    "    gammaBar:=(gamma_xy+alpha*gamma_z)/(2.0+alpha);\n",
    "    Eq:=2.0*JS*(2.0+alpha)*sqrt((1+gammaBar)*(1-gammaBar*cos(2.0*theta)));\"\n",
    "\tS_Q=\"pi:=3.1415926535897932; twopi:=2*pi; a:=5; b:=5; c:=5; \n",
    "    alpha:=0.1; JS:=20; Hnorm:=0.1; theta:=asin(Hnorm);\n",
    "    gamma_z:=cos(Qz); gamma_xy:=(cos(Qx)+cos(Qy));\n",
    "    gammaBar:=(gamma_xy+alpha*gamma_z)/(2.0+alpha);\n",
    "    Aq:=2.0*JS*(2.0+alpha)*(1+gammaBar*(sin(theta))^2);\n",
    "    Eq:=2.0*JS*(2.0+alpha)*sqrt((1+gammaBar)*(1-gammaBar*cos(2.0*theta)));\n",
    "    UqSquared:=(Aq+Eq)/(2.0*Eq); VqSquared:=(Aq-Eq)/(2.0*Eq);\n",
    "    Uq:=sqrt(UqSquared); Vq:=sqrt(VqSquared);\n",
    "    Sxx:=(Uq+Vq)^2; Syy:=(Uq-Vq)^2;\n",
    "    Sxoxo:=Sxx*(sin(theta))^2; Syoyo:=Syy;\n",
    "    qxStar:=Qx-pi; qyStar:=Qy-pi; qzStar:=Qz-pi;\n",
    "    gammaZstar:=cos(qzStar); gammaXYstar:=(cos(qxStar)+cos(qyStar));\n",
    "    gammaBarStar:=(gammaXYstar+alpha*gammaZstar)/(2.0+alpha);\n",
    "    AqStar:=2.0*JS*(2.0+alpha)*(1+gammaBarStar*(sin(theta))^2);\n",
    "    EqStar:=2.0*JS*(2.0+alpha)*sqrt((1+gammaBarStar)*(1-gammaBarStar*cos(2.0*theta)));\n",
    "    UqSqStar:=(AqStar+EqStar)/(2.0*EqStar); VqSqStar:=(AqStar-EqStar)/(2.0*EqStar);\n",
    "    UqStar:=sqrt(UqSqStar); VqStar:=sqrt(VqSqStar);\n",
    "    SxxStar:=(UqStar+VqStar)^2; SyyStar:=(UqStar-VqStar)^2;\n",
    "    SzozoStar:=SxxStar*(cos(theta))^2;\n",
    "    Sxoxo+Syoyo+SzozoStar\"\n",
    "\tEmax=\"50*meV\"\n",
    "\torientation=\"0.894427191,0.0,-0.4472135955,0.0,1.0,0.0,0.4472135955,0.0,0.894427191\"\n",
    "\t/>   \n",
    "    \n",
    "  </KernelContainer>\n",
    "  \n",
    "</homogeneous_scatterer>"
   ]
  },
  {
   "cell_type": "code",
   "execution_count": 38,
   "metadata": {
    "collapsed": false
   },
   "outputs": [
    {
     "name": "stdout",
     "output_type": "stream",
     "text": [
      "<?xml version=\"1.0\"?>\r\n",
      "\r\n",
      "<!DOCTYPE scatterer>\r\n",
      "\r\n",
      "<!-- weights: absorption, scattering, transmission -->\r\n",
      "<homogeneous_scatterer \r\n",
      "  mcweights=\"0, 1, 0.1\"\r\n",
      "  max_multiplescattering_loops=\"3\"\r\n",
      "  >\r\n",
      "  \r\n",
      "  <KernelContainer average=\"yes\">\r\n",
      "    \r\n",
      "    <E_vQ_Kernel \r\n",
      "\tE_Q=\"pi:=3.1415926535897932; twopi:=2*pi; a:=5; b:=5; c:=5; \r\n",
      "    h:=a*Qx/twopi; k:=b*Qy/twopi; l:=c*Qz/twopi; alpha:=0.1; JS:=5.0; Hnorm:=0.1;\r\n",
      "    theta:=asin(Hnorm);\r\n",
      "    gamma_z:=cos(Qz); gamma_xy:=(cos(Qx)+cos(Qy));\r\n",
      "    gammaBar:=(gamma_xy+alpha*gamma_z)/(2.0+alpha);\r\n",
      "    Eq:=2.0*JS*(2.0+alpha)*sqrt((1+gammaBar)*(1-gammaBar*cos(2.0*theta)));\"\r\n",
      "\tS_Q=\"pi:=3.1415926535897932; twopi:=2*pi; a:=5; b:=5; c:=5; \r\n",
      "    alpha:=0.1; JS:=20; Hnorm:=0.1; theta:=asin(Hnorm);\r\n",
      "    gamma_z:=cos(Qz); gamma_xy:=(cos(Qx)+cos(Qy));\r\n",
      "    gammaBar:=(gamma_xy+alpha*gamma_z)/(2.0+alpha);\r\n",
      "    Aq:=2.0*JS*(2.0+alpha)*(1+gammaBar*(sin(theta))^2);\r\n",
      "    Eq:=2.0*JS*(2.0+alpha)*sqrt((1+gammaBar)*(1-gammaBar*cos(2.0*theta)));\r\n",
      "    UqSquared:=(Aq+Eq)/(2.0*Eq); VqSquared:=(Aq-Eq)/(2.0*Eq);\r\n",
      "    Uq:=sqrt(UqSquared); Vq:=sqrt(VqSquared);\r\n",
      "    Sxx:=(Uq+Vq)^2; Syy:=(Uq-Vq)^2;\r\n",
      "    Sxoxo:=Sxx*(sin(theta))^2; Syoyo:=Syy;\r\n",
      "    Szozo:=Sxx*(cos(theta))^2;\r\n",
      "    Sxoxo+Syoyo+Szozo\"\r\n",
      "\tEmax=\"50*meV\"\r\n",
      "\torientation=\"0.894427191,0.0,-0.4472135955,0.0,1.0,0.0,0.4472135955,0.0,0.894427191\"\r\n",
      "\t/>\r\n",
      "    \r\n",
      "     <E_vQ_Kernel \r\n",
      "\tE_Q=\"pi:=3.1415926535897932; twopi:=2*pi; a:=5; b:=5; c:=5; \r\n",
      "    h:=a*Qx/twopi; k:=b*Qy/twopi; l:=c*Qz/twopi; alpha:=0.1; JS:=5.0; Hnorm:=0.1;\r\n",
      "    theta:=asin(Hnorm);\r\n",
      "    gamma_z:=cos(Qz); gamma_xy:=(cos(Qx)+cos(Qy));\r\n",
      "    gammaBar:=(gamma_xy+alpha*gamma_z)/(2.0+alpha);\r\n",
      "    Eq:=2.0*JS*(2.0+alpha)*sqrt((1+gammaBar)*(1-gammaBar*cos(2.0*theta)));\"\r\n",
      "\tS_Q=\"pi:=3.1415926535897932; twopi:=2*pi; a:=5; b:=5; c:=5; \r\n",
      "    alpha:=0.1; JS:=20; Hnorm:=0.1; theta:=asin(Hnorm);\r\n",
      "    gamma_z:=cos(Qz); gamma_xy:=(cos(Qx)+cos(Qy));\r\n",
      "    gammaBar:=(gamma_xy+alpha*gamma_z)/(2.0+alpha);\r\n",
      "    Aq:=2.0*JS*(2.0+alpha)*(1+gammaBar*(sin(theta))^2);\r\n",
      "    Eq:=2.0*JS*(2.0+alpha)*sqrt((1+gammaBar)*(1-gammaBar*cos(2.0*theta)));\r\n",
      "    UqSquared:=(Aq+Eq)/(2.0*Eq); VqSquared:=(Aq-Eq)/(2.0*Eq);\r\n",
      "    Uq:=sqrt(UqSquared); Vq:=sqrt(VqSquared);\r\n",
      "    Sxx:=(Uq+Vq)^2; Syy:=(Uq-Vq)^2;\r\n",
      "    Sxoxo:=Sxx*(sin(theta))^2; Syoyo:=Syy;\r\n",
      "    qxStar:=Qx-pi; qyStar:=Qy-pi; qzStar:=Qz-pi;\r\n",
      "    gammaZstar:=cos(qzStar); gammaXYstar:=(cos(qxStar)+cos(qyStar));\r\n",
      "    gammaBarStar:=(gammaXYstar+alpha*gammaZstar)/(2.0+alpha);\r\n",
      "    AqStar:=2.0*JS*(2.0+alpha)*(1+gammaBarStar*(sin(theta))^2);\r\n",
      "    EqStar:=2.0*JS*(2.0+alpha)*sqrt((1+gammaBarStar)*(1-gammaBarStar*cos(2.0*theta)));\r\n",
      "    UqSqStar:=(AqStar+EqStar)/(2.0*EqStar); VqSqStar:=(AqStar-EqStar)/(2.0*EqStar);\r\n",
      "    UqStar:=sqrt(UqSqStar); VqStar:=sqrt(VqSqStar);\r\n",
      "    SxxStar:=(UqStar+VqStar)^2; SyyStar:=(UqStar-VqStar)^2;\r\n",
      "    SzozoStar:=SxxStar*(cos(theta))^2;\r\n",
      "    Sxoxo+Syoyo+SzozoStar\"\r\n",
      "\tEmax=\"50*meV\"\r\n",
      "\torientation=\"0.894427191,0.0,-0.4472135955,0.0,1.0,0.0,0.4472135955,0.0,0.894427191\"\r\n",
      "\t/>   \r\n",
      "    \r\n",
      "  </KernelContainer>\r\n",
      "  \r\n",
      "</homogeneous_scatterer>"
     ]
    }
   ],
   "source": [
    "!cat X-scatterer.xml"
   ]
  },
  {
   "cell_type": "code",
   "execution_count": 39,
   "metadata": {
    "collapsed": false
   },
   "outputs": [
    {
     "name": "stdout",
     "output_type": "stream",
     "text": [
      "sampleassembly.xml  X-scatterer.xml  X.xyz\r\n"
     ]
    }
   ],
   "source": [
    "!ls"
   ]
  },
  {
   "cell_type": "markdown",
   "metadata": {},
   "source": [
    "## Step 4. Scattering"
   ]
  },
  {
   "cell_type": "code",
   "execution_count": 40,
   "metadata": {
    "collapsed": false
   },
   "outputs": [
    {
     "name": "stdout",
     "output_type": "stream",
     "text": [
      "/SNS/users/p63/mcvine/research/SLAF-tetragon-approx2/scattering\n"
     ]
    }
   ],
   "source": [
    "%cd \"{workdir}/scattering\""
   ]
  },
  {
   "cell_type": "code",
   "execution_count": 42,
   "metadata": {
    "collapsed": false
   },
   "outputs": [
    {
     "name": "stdout",
     "output_type": "stream",
     "text": [
      "total 320\r\n",
      "lrwxrwxrwx 1 p63 users     66 Jun 29 11:06 beam -> ../../BaFe2Se3_IndependentPlaquettesModel/beam_50meV_1e9_neutrons/\r\n",
      "-rw-r--r-- 1 p63 users 312404 Jun 29 11:20 SLAF-tetragonal-model.ipynb\r\n"
     ]
    }
   ],
   "source": [
    "!ls -l"
   ]
  },
  {
   "cell_type": "code",
   "execution_count": 43,
   "metadata": {
    "collapsed": false
   },
   "outputs": [
    {
     "name": "stdout",
     "output_type": "stream",
     "text": [
      "beam  scripts  SLAF-tetragonal-model.ipynb  template\r\n"
     ]
    }
   ],
   "source": [
    "!rsync -a ~lj7/simulations/mcvine_workflow/DGS/ARCS/single-crystal/* ./\n",
    "!ls"
   ]
  },
  {
   "cell_type": "code",
   "execution_count": 44,
   "metadata": {
    "collapsed": false
   },
   "outputs": [
    {
     "name": "stdout",
     "output_type": "stream",
     "text": [
      "/SNS/users/p63/mcvine/research/SLAF-tetragon-approx2/scattering/template\n",
      "/SNS/users/p63/mcvine/research/SLAF-tetragon-approx2/scattering\n"
     ]
    }
   ],
   "source": [
    "%cd template\n",
    "\n",
    "!ln -s ../../samples/X/sampleassembly\n",
    "\n",
    "!ln -s ../beam\n",
    "\n",
    "%cd .."
   ]
  },
  {
   "cell_type": "code",
   "execution_count": 45,
   "metadata": {
    "collapsed": false
   },
   "outputs": [
    {
     "name": "stdout",
     "output_type": "stream",
     "text": [
      "Writing sim.yml\n"
     ]
    }
   ],
   "source": [
    "%%file sim.yml\n",
    "\n",
    "cluster:\n",
    "  nodes: 15\n",
    "instrument:\n",
    "  name: arcs\n",
    "scatter:\n",
    "  ncount: 1e6\n",
    "  multiple_scattering: off\n",
    "  template: ./template\n"
   ]
  },
  {
   "cell_type": "code",
   "execution_count": 46,
   "metadata": {
    "collapsed": true
   },
   "outputs": [],
   "source": [
    "# Test the simulation for a single angle"
   ]
  },
  {
   "cell_type": "code",
   "execution_count": 49,
   "metadata": {
    "collapsed": false,
    "scrolled": true
   },
   "outputs": [
    {
     "name": "stdout",
     "output_type": "stream",
     "text": [
      "SAMPLE_ANGLE=30.0 time ./scatter &> log.scatter\n",
      "time ./create-nxs &> log.create-nxs\n",
      "\n",
      "real\t1m30.252s\n",
      "user\t15m40.240s\n",
      "sys\t3m8.800s\n",
      "cp sim.nxs sim-30.0.nxs\n",
      "mcvine instruments arcs nxs populate_metadata --type=Ei --beam_outdir=beam/out --nxs=sim-30.0.nxs\n",
      "/SNS/users/lj7/software/miniconda2/envs/mcvine/lib/python2.7/site-packages/mcvine/deployment_info.py:41: UserWarning: Neither environment variable MCVINE_DIR nor DANSE_DIR was defined. Assumed that it is /SNS/users/lj7/software/miniconda2/envs/mcvine.\n",
      "  warnings.warn(msg)\n"
     ]
    }
   ],
   "source": [
    "!./scripts/sim.py --angle=30.0"
   ]
  },
  {
   "cell_type": "code",
   "execution_count": 50,
   "metadata": {
    "collapsed": false
   },
   "outputs": [
    {
     "name": "stdout",
     "output_type": "stream",
     "text": [
      "Overwriting sim.yml\n"
     ]
    }
   ],
   "source": [
    "%%file sim.yml\n",
    "\n",
    "cluster:\n",
    "  nodes: 15\n",
    "instrument:\n",
    "  name: arcs\n",
    "scatter:\n",
    "  ncount: 1e6\n",
    "  multiple_scattering: off\n",
    "  template: ./template\n"
   ]
  },
  {
   "cell_type": "code",
   "execution_count": null,
   "metadata": {
    "collapsed": true
   },
   "outputs": [],
   "source": [
    "# a script to create a submit script submit.sh\n",
    "# may need to create several scripts"
   ]
  },
  {
   "cell_type": "code",
   "execution_count": 51,
   "metadata": {
    "collapsed": false
   },
   "outputs": [
    {
     "name": "stdout",
     "output_type": "stream",
     "text": [
      "Writing create-submit.py\n"
     ]
    }
   ],
   "source": [
    "%%file create-submit.py\n",
    "import numpy as np\n",
    "ostream = open('submit.sh', 'wt')\n",
    "for a in np.arange(-90, 90.1, 3.):\n",
    "    ostream.write('./scripts/sim.py --angle=%s \\n' % a)\n",
    "    continue\n",
    "ostream.close()"
   ]
  },
  {
   "cell_type": "code",
   "execution_count": 52,
   "metadata": {
    "collapsed": false
   },
   "outputs": [
    {
     "name": "stdout",
     "output_type": "stream",
     "text": [
      "import numpy as np\r\n",
      "ostream = open('submit.sh', 'wt')\r\n",
      "for a in np.arange(-90, 90.1, 3.):\r\n",
      "    ostream.write('./scripts/sim.py --angle=%s \\n' % a)\r\n",
      "    continue\r\n",
      "ostream.close()"
     ]
    }
   ],
   "source": [
    "!cat create-submit.py"
   ]
  },
  {
   "cell_type": "code",
   "execution_count": 53,
   "metadata": {
    "collapsed": false
   },
   "outputs": [],
   "source": [
    "# run the script to create submit.sh\n",
    "!python ./create-submit.py"
   ]
  },
  {
   "cell_type": "code",
   "execution_count": 42,
   "metadata": {
    "collapsed": false,
    "scrolled": true
   },
   "outputs": [],
   "source": [
    "# check submit script\n",
    "#!cat submit.sh"
   ]
  },
  {
   "cell_type": "code",
   "execution_count": 54,
   "metadata": {
    "collapsed": true
   },
   "outputs": [],
   "source": [
    "# make sure submit.sh is executable\n",
    "!chmod +x submit.sh\n",
    "# and then start it script in the background"
   ]
  },
  {
   "cell_type": "code",
   "execution_count": 55,
   "metadata": {
    "collapsed": false
   },
   "outputs": [
    {
     "name": "stdout",
     "output_type": "stream",
     "text": [
      "Starting job # 0 in a separate thread.\n"
     ]
    }
   ],
   "source": [
    "%%script bash --bg\n",
    "./submit.sh\n",
    "# this will take a while to finish."
   ]
  },
  {
   "cell_type": "markdown",
   "metadata": {},
   "source": [
    "## Step 5. Reduction"
   ]
  },
  {
   "cell_type": "code",
   "execution_count": 56,
   "metadata": {
    "collapsed": false
   },
   "outputs": [
    {
     "name": "stdout",
     "output_type": "stream",
     "text": [
      "/SNS/users/p63/mcvine/research/SLAF-tetragon-approx2/scattering\n",
      "beam\t\t\t     work_-21.0  work_-39.0  work_-6.0\t work_-78.0\n",
      "create-submit.py\t     work_21.0\t work_39.0   work_6.0\t work_78.0\n",
      "scripts\t\t\t     work_-24.0  work_-42.0  work_-60.0  work_-81.0\n",
      "sim.yml\t\t\t     work_24.0\t work_42.0   work_60.0\t work_81.0\n",
      "SLAF-tetragonal-model.ipynb  work_-27.0  work_-45.0  work_-63.0  work_-84.0\n",
      "submit.sh\t\t     work_27.0\t work_45.0   work_63.0\t work_84.0\n",
      "template\t\t     work_-3.0\t work_-48.0  work_-66.0  work_-87.0\n",
      "work_0.0\t\t     work_3.0\t work_48.0   work_66.0\t work_87.0\n",
      "work_-12.0\t\t     work_-30.0  work_-51.0  work_-69.0  work_-9.0\n",
      "work_12.0\t\t     work_30.0\t work_51.0   work_69.0\t work_9.0\n",
      "work_-15.0\t\t     work_-33.0  work_-54.0  work_-72.0  work_-90.0\n",
      "work_15.0\t\t     work_33.0\t work_54.0   work_72.0\t work_90.0\n",
      "work_-18.0\t\t     work_-36.0  work_-57.0  work_-75.0\n",
      "work_18.0\t\t     work_36.0\t work_57.0   work_75.0\n"
     ]
    }
   ],
   "source": [
    "%cd \"{workdir}/scattering\"\n",
    "!ls"
   ]
  },
  {
   "cell_type": "markdown",
   "metadata": {},
   "source": [
    "First we reduce event-mode nexus data for each angle using Mantid"
   ]
  },
  {
   "cell_type": "code",
   "execution_count": 57,
   "metadata": {
    "collapsed": false
   },
   "outputs": [
    {
     "name": "stdout",
     "output_type": "stream",
     "text": [
      "ls: cannot access work_2.0/reduced*: No such file or directory\r\n"
     ]
    }
   ],
   "source": [
    "# check if there is reduced data\n",
    "!ls work_2.0/reduced*"
   ]
  },
  {
   "cell_type": "code",
   "execution_count": 58,
   "metadata": {
    "collapsed": false,
    "scrolled": true
   },
   "outputs": [],
   "source": [
    "# reduce tof events to E events\n",
    "# this takes about 30 minutes\n",
    "!./scripts/reduce/reduceKeepingEvents_batch.py -90,90.1,3. 100 0,90,0.5 > log.reduce"
   ]
  },
  {
   "cell_type": "code",
   "execution_count": null,
   "metadata": {
    "collapsed": true
   },
   "outputs": [],
   "source": [
    "# create configuration file for getting a slice"
   ]
  },
  {
   "cell_type": "code",
   "execution_count": 49,
   "metadata": {
    "collapsed": false
   },
   "outputs": [
    {
     "name": "stdout",
     "output_type": "stream",
     "text": [
      "Writing slice_H00.yml\n"
     ]
    }
   ],
   "source": [
    "%%file slice_H00.yml\n",
    "\n",
    "angles: -90,90.1,3.0\n",
    "filename_pattern: work_%(angle)s/reduced_%(angle)s.nxs\n",
    "lattice: 3., 3., 3., 90, 90, 90\n",
    "orientation:\n",
    " u: 1, 0, 2\n",
    " v: 1,0,0\n",
    "Eaxis:\n",
    " min: 0\n",
    " max: 90\n",
    " N: 181\n",
    "Q_projections:\n",
    " U:\n",
    "  proj: 1,0,0\n",
    "  proj_name: H,0,0\n",
    "  min: -5\n",
    "  max: 5\n",
    "  N: 251\n",
    " V:\n",
    "  proj: 0,1,0\n",
    "  proj_name: 0,K,0\n",
    "  min: -1\n",
    "  max: 1\n",
    "  N: 1\n",
    " W:\n",
    "  proj: 0,0,1\n",
    "  proj_name: 0,0,L\n",
    "  min: -1\n",
    "  max: 1\n",
    "  N: 1\n",
    "output: slice_H00.nxs\n"
   ]
  },
  {
   "cell_type": "code",
   "execution_count": 61,
   "metadata": {
    "collapsed": true
   },
   "outputs": [],
   "source": [
    "# hack for now. copy the config python file to current dir\n",
    "!cp /SNS/users/lj7/simulations/mcvine_workflow/DGS/ARCS/single-crystal/scripts/config.py ."
   ]
  },
  {
   "cell_type": "code",
   "execution_count": 51,
   "metadata": {
    "collapsed": false,
    "scrolled": true
   },
   "outputs": [],
   "source": [
    "# run script to calculate the slice\n",
    "# this take ~15 minutes \n",
    "! PYTHONPATH=$PWD:$PYTHONPATH ./scripts/reduce/getaslice.py slice_H00.yml > log.slice_H00"
   ]
  },
  {
   "cell_type": "code",
   "execution_count": 52,
   "metadata": {
    "collapsed": false
   },
   "outputs": [
    {
     "name": "stdout",
     "output_type": "stream",
     "text": [
      "FrameworkManager-[Notice] Welcome to Mantid 3.6.100\n",
      "FrameworkManager-[Notice] Please cite: http://dx.doi.org/10.1016/j.nima.2014.07.029 and this release: http://dx.doi.org/10.5286/Software/Mantid3.6.100\n",
      "Load-[Notice] Load started\n",
      "Load-[Notice] Load successful, Duration 0.89 seconds\n"
     ]
    }
   ],
   "source": [
    "# convert slice nexus to slice histogram for plotting\n",
    "!./scripts/reduce/slice2hist.py slice_H00.nxs slice_H00.h5"
   ]
  },
  {
   "cell_type": "code",
   "execution_count": 53,
   "metadata": {
    "collapsed": false,
    "scrolled": true
   },
   "outputs": [
    {
     "name": "stderr",
     "output_type": "stream",
     "text": [
      "/SNS/users/lj7/software/miniconda2/envs/mcvine/lib/python2.7/site-packages/histogram/hdf/Loader.py:129: FutureWarning: elementwise comparison failed; returning scalar instead, but in the future will perform elementwise comparison\n",
      "  if 'storage' in list(dataGroup): # this uses the 'storage' convention\n"
     ]
    },
    {
     "name": "stdout",
     "output_type": "stream",
     "text": [
      "plot z in (0, 1e-05)\n"
     ]
    },
    {
     "name": "stderr",
     "output_type": "stream",
     "text": [
      "/SNS/users/lj7/software/miniconda2/envs/mcvine/lib/python2.7/site-packages/histogram/data_plotter.py:352: RuntimeWarning: invalid value encountered in less\n",
      "  negative_median = N.median( z[ z<0 ] )\n",
      "/SNS/users/lj7/software/miniconda2/envs/mcvine/lib/python2.7/site-packages/numpy/core/_methods.py:59: RuntimeWarning: Mean of empty slice.\n",
      "  warnings.warn(\"Mean of empty slice.\", RuntimeWarning)\n",
      "/SNS/users/lj7/software/miniconda2/envs/mcvine/lib/python2.7/site-packages/numpy/core/_methods.py:70: RuntimeWarning: invalid value encountered in double_scalars\n",
      "  ret = ret.dtype.type(ret / rcount)\n",
      "/SNS/users/lj7/software/miniconda2/envs/mcvine/lib/python2.7/site-packages/histogram/data_plotter.py:334: RuntimeWarning: invalid value encountered in greater\n",
      "  positive_median = N.median( z[ z>0 ] )\n"
     ]
    }
   ],
   "source": [
    "# plot\n",
    "H.plot(hh.load(\"./slice_H00.h5\"), min=0, max=1e-5)"
   ]
  },
  {
   "cell_type": "code",
   "execution_count": null,
   "metadata": {
    "collapsed": true
   },
   "outputs": [],
   "source": [
    "# try a smaller range"
   ]
  },
  {
   "cell_type": "code",
   "execution_count": 59,
   "metadata": {
    "collapsed": false
   },
   "outputs": [
    {
     "name": "stdout",
     "output_type": "stream",
     "text": [
      "Writing slice_H00_-2,0.yml\n"
     ]
    }
   ],
   "source": [
    "%%file slice_H00_-2,0.yml\n",
    "\n",
    "angles: -90,90.1,3.0\n",
    "filename_pattern: work_%(angle)s/reduced_%(angle)s.nxs\n",
    "lattice: 3., 3., 3., 90, 90, 90\n",
    "orientation:\n",
    " u: 1, 0, 2\n",
    " v: 1,0,0\n",
    "Eaxis:\n",
    " min: 0\n",
    " max: 90\n",
    " N: 181\n",
    "Q_projections:\n",
    " U:\n",
    "  proj: 1,0,0\n",
    "  proj_name: H,0,0\n",
    "  min: -2.1\n",
    "  max: 0.1\n",
    "  N: 201\n",
    " V:\n",
    "  proj: 0,1,0\n",
    "  proj_name: 0,K,0\n",
    "  min: -.1\n",
    "  max: .1\n",
    "  N: 1\n",
    " W:\n",
    "  proj: 0,0,1\n",
    "  proj_name: 0,0,L\n",
    "  min: -1\n",
    "  max: 1\n",
    "  N: 1\n",
    "output: slice_H00_-2__0.nxs\n"
   ]
  },
  {
   "cell_type": "code",
   "execution_count": 62,
   "metadata": {
    "collapsed": false,
    "scrolled": true
   },
   "outputs": [],
   "source": [
    "! PYTHONPATH=$PWD:$PYTHONPATH ./scripts/reduce/getaslice.py slice_H00_-2,0.yml > log.slice_H00_-2,0"
   ]
  },
  {
   "cell_type": "code",
   "execution_count": 63,
   "metadata": {
    "collapsed": false
   },
   "outputs": [
    {
     "name": "stdout",
     "output_type": "stream",
     "text": [
      "FrameworkManager-[Notice] Welcome to Mantid 3.6.100\n",
      "FrameworkManager-[Notice] Please cite: http://dx.doi.org/10.1016/j.nima.2014.07.029 and this release: http://dx.doi.org/10.5286/Software/Mantid3.6.100\n",
      "Load-[Notice] Load started\n",
      "Load-[Notice] Load successful, Duration 1.00 seconds\n"
     ]
    }
   ],
   "source": [
    "!./scripts/reduce/slice2hist.py \"slice_H00_-2__0.nxs\" slice_H00_-2,0.h5"
   ]
  },
  {
   "cell_type": "code",
   "execution_count": 67,
   "metadata": {
    "collapsed": false,
    "scrolled": false
   },
   "outputs": [
    {
     "name": "stdout",
     "output_type": "stream",
     "text": [
      "plot z in (0, 0.0001)\n"
     ]
    },
    {
     "data": {
      "application/javascript": [
       "/* Put everything inside the global mpl namespace */\n",
       "window.mpl = {};\n",
       "\n",
       "mpl.get_websocket_type = function() {\n",
       "    if (typeof(WebSocket) !== 'undefined') {\n",
       "        return WebSocket;\n",
       "    } else if (typeof(MozWebSocket) !== 'undefined') {\n",
       "        return MozWebSocket;\n",
       "    } else {\n",
       "        alert('Your browser does not have WebSocket support.' +\n",
       "              'Please try Chrome, Safari or Firefox ≥ 6. ' +\n",
       "              'Firefox 4 and 5 are also supported but you ' +\n",
       "              'have to enable WebSockets in about:config.');\n",
       "    };\n",
       "}\n",
       "\n",
       "mpl.figure = function(figure_id, websocket, ondownload, parent_element) {\n",
       "    this.id = figure_id;\n",
       "\n",
       "    this.ws = websocket;\n",
       "\n",
       "    this.supports_binary = (this.ws.binaryType != undefined);\n",
       "\n",
       "    if (!this.supports_binary) {\n",
       "        var warnings = document.getElementById(\"mpl-warnings\");\n",
       "        if (warnings) {\n",
       "            warnings.style.display = 'block';\n",
       "            warnings.textContent = (\n",
       "                \"This browser does not support binary websocket messages. \" +\n",
       "                    \"Performance may be slow.\");\n",
       "        }\n",
       "    }\n",
       "\n",
       "    this.imageObj = new Image();\n",
       "\n",
       "    this.context = undefined;\n",
       "    this.message = undefined;\n",
       "    this.canvas = undefined;\n",
       "    this.rubberband_canvas = undefined;\n",
       "    this.rubberband_context = undefined;\n",
       "    this.format_dropdown = undefined;\n",
       "\n",
       "    this.image_mode = 'full';\n",
       "\n",
       "    this.root = $('<div/>');\n",
       "    this._root_extra_style(this.root)\n",
       "    this.root.attr('style', 'display: inline-block');\n",
       "\n",
       "    $(parent_element).append(this.root);\n",
       "\n",
       "    this._init_header(this);\n",
       "    this._init_canvas(this);\n",
       "    this._init_toolbar(this);\n",
       "\n",
       "    var fig = this;\n",
       "\n",
       "    this.waiting = false;\n",
       "\n",
       "    this.ws.onopen =  function () {\n",
       "            fig.send_message(\"supports_binary\", {value: fig.supports_binary});\n",
       "            fig.send_message(\"send_image_mode\", {});\n",
       "            fig.send_message(\"refresh\", {});\n",
       "        }\n",
       "\n",
       "    this.imageObj.onload = function() {\n",
       "            if (fig.image_mode == 'full') {\n",
       "                // Full images could contain transparency (where diff images\n",
       "                // almost always do), so we need to clear the canvas so that\n",
       "                // there is no ghosting.\n",
       "                fig.context.clearRect(0, 0, fig.canvas.width, fig.canvas.height);\n",
       "            }\n",
       "            fig.context.drawImage(fig.imageObj, 0, 0);\n",
       "        };\n",
       "\n",
       "    this.imageObj.onunload = function() {\n",
       "        this.ws.close();\n",
       "    }\n",
       "\n",
       "    this.ws.onmessage = this._make_on_message_function(this);\n",
       "\n",
       "    this.ondownload = ondownload;\n",
       "}\n",
       "\n",
       "mpl.figure.prototype._init_header = function() {\n",
       "    var titlebar = $(\n",
       "        '<div class=\"ui-dialog-titlebar ui-widget-header ui-corner-all ' +\n",
       "        'ui-helper-clearfix\"/>');\n",
       "    var titletext = $(\n",
       "        '<div class=\"ui-dialog-title\" style=\"width: 100%; ' +\n",
       "        'text-align: center; padding: 3px;\"/>');\n",
       "    titlebar.append(titletext)\n",
       "    this.root.append(titlebar);\n",
       "    this.header = titletext[0];\n",
       "}\n",
       "\n",
       "\n",
       "\n",
       "mpl.figure.prototype._canvas_extra_style = function(canvas_div) {\n",
       "\n",
       "}\n",
       "\n",
       "\n",
       "mpl.figure.prototype._root_extra_style = function(canvas_div) {\n",
       "\n",
       "}\n",
       "\n",
       "mpl.figure.prototype._init_canvas = function() {\n",
       "    var fig = this;\n",
       "\n",
       "    var canvas_div = $('<div/>');\n",
       "\n",
       "    canvas_div.attr('style', 'position: relative; clear: both; outline: 0');\n",
       "\n",
       "    function canvas_keyboard_event(event) {\n",
       "        return fig.key_event(event, event['data']);\n",
       "    }\n",
       "\n",
       "    canvas_div.keydown('key_press', canvas_keyboard_event);\n",
       "    canvas_div.keyup('key_release', canvas_keyboard_event);\n",
       "    this.canvas_div = canvas_div\n",
       "    this._canvas_extra_style(canvas_div)\n",
       "    this.root.append(canvas_div);\n",
       "\n",
       "    var canvas = $('<canvas/>');\n",
       "    canvas.addClass('mpl-canvas');\n",
       "    canvas.attr('style', \"left: 0; top: 0; z-index: 0; outline: 0\")\n",
       "\n",
       "    this.canvas = canvas[0];\n",
       "    this.context = canvas[0].getContext(\"2d\");\n",
       "\n",
       "    var rubberband = $('<canvas/>');\n",
       "    rubberband.attr('style', \"position: absolute; left: 0; top: 0; z-index: 1;\")\n",
       "\n",
       "    var pass_mouse_events = true;\n",
       "\n",
       "    canvas_div.resizable({\n",
       "        start: function(event, ui) {\n",
       "            pass_mouse_events = false;\n",
       "        },\n",
       "        resize: function(event, ui) {\n",
       "            fig.request_resize(ui.size.width, ui.size.height);\n",
       "        },\n",
       "        stop: function(event, ui) {\n",
       "            pass_mouse_events = true;\n",
       "            fig.request_resize(ui.size.width, ui.size.height);\n",
       "        },\n",
       "    });\n",
       "\n",
       "    function mouse_event_fn(event) {\n",
       "        if (pass_mouse_events)\n",
       "            return fig.mouse_event(event, event['data']);\n",
       "    }\n",
       "\n",
       "    rubberband.mousedown('button_press', mouse_event_fn);\n",
       "    rubberband.mouseup('button_release', mouse_event_fn);\n",
       "    // Throttle sequential mouse events to 1 every 20ms.\n",
       "    rubberband.mousemove('motion_notify', mouse_event_fn);\n",
       "\n",
       "    rubberband.mouseenter('figure_enter', mouse_event_fn);\n",
       "    rubberband.mouseleave('figure_leave', mouse_event_fn);\n",
       "\n",
       "    canvas_div.on(\"wheel\", function (event) {\n",
       "        event = event.originalEvent;\n",
       "        event['data'] = 'scroll'\n",
       "        if (event.deltaY < 0) {\n",
       "            event.step = 1;\n",
       "        } else {\n",
       "            event.step = -1;\n",
       "        }\n",
       "        mouse_event_fn(event);\n",
       "    });\n",
       "\n",
       "    canvas_div.append(canvas);\n",
       "    canvas_div.append(rubberband);\n",
       "\n",
       "    this.rubberband = rubberband;\n",
       "    this.rubberband_canvas = rubberband[0];\n",
       "    this.rubberband_context = rubberband[0].getContext(\"2d\");\n",
       "    this.rubberband_context.strokeStyle = \"#000000\";\n",
       "\n",
       "    this._resize_canvas = function(width, height) {\n",
       "        // Keep the size of the canvas, canvas container, and rubber band\n",
       "        // canvas in synch.\n",
       "        canvas_div.css('width', width)\n",
       "        canvas_div.css('height', height)\n",
       "\n",
       "        canvas.attr('width', width);\n",
       "        canvas.attr('height', height);\n",
       "\n",
       "        rubberband.attr('width', width);\n",
       "        rubberband.attr('height', height);\n",
       "    }\n",
       "\n",
       "    // Set the figure to an initial 600x600px, this will subsequently be updated\n",
       "    // upon first draw.\n",
       "    this._resize_canvas(600, 600);\n",
       "\n",
       "    // Disable right mouse context menu.\n",
       "    $(this.rubberband_canvas).bind(\"contextmenu\",function(e){\n",
       "        return false;\n",
       "    });\n",
       "\n",
       "    function set_focus () {\n",
       "        canvas.focus();\n",
       "        canvas_div.focus();\n",
       "    }\n",
       "\n",
       "    window.setTimeout(set_focus, 100);\n",
       "}\n",
       "\n",
       "mpl.figure.prototype._init_toolbar = function() {\n",
       "    var fig = this;\n",
       "\n",
       "    var nav_element = $('<div/>')\n",
       "    nav_element.attr('style', 'width: 100%');\n",
       "    this.root.append(nav_element);\n",
       "\n",
       "    // Define a callback function for later on.\n",
       "    function toolbar_event(event) {\n",
       "        return fig.toolbar_button_onclick(event['data']);\n",
       "    }\n",
       "    function toolbar_mouse_event(event) {\n",
       "        return fig.toolbar_button_onmouseover(event['data']);\n",
       "    }\n",
       "\n",
       "    for(var toolbar_ind in mpl.toolbar_items) {\n",
       "        var name = mpl.toolbar_items[toolbar_ind][0];\n",
       "        var tooltip = mpl.toolbar_items[toolbar_ind][1];\n",
       "        var image = mpl.toolbar_items[toolbar_ind][2];\n",
       "        var method_name = mpl.toolbar_items[toolbar_ind][3];\n",
       "\n",
       "        if (!name) {\n",
       "            // put a spacer in here.\n",
       "            continue;\n",
       "        }\n",
       "        var button = $('<button/>');\n",
       "        button.addClass('ui-button ui-widget ui-state-default ui-corner-all ' +\n",
       "                        'ui-button-icon-only');\n",
       "        button.attr('role', 'button');\n",
       "        button.attr('aria-disabled', 'false');\n",
       "        button.click(method_name, toolbar_event);\n",
       "        button.mouseover(tooltip, toolbar_mouse_event);\n",
       "\n",
       "        var icon_img = $('<span/>');\n",
       "        icon_img.addClass('ui-button-icon-primary ui-icon');\n",
       "        icon_img.addClass(image);\n",
       "        icon_img.addClass('ui-corner-all');\n",
       "\n",
       "        var tooltip_span = $('<span/>');\n",
       "        tooltip_span.addClass('ui-button-text');\n",
       "        tooltip_span.html(tooltip);\n",
       "\n",
       "        button.append(icon_img);\n",
       "        button.append(tooltip_span);\n",
       "\n",
       "        nav_element.append(button);\n",
       "    }\n",
       "\n",
       "    var fmt_picker_span = $('<span/>');\n",
       "\n",
       "    var fmt_picker = $('<select/>');\n",
       "    fmt_picker.addClass('mpl-toolbar-option ui-widget ui-widget-content');\n",
       "    fmt_picker_span.append(fmt_picker);\n",
       "    nav_element.append(fmt_picker_span);\n",
       "    this.format_dropdown = fmt_picker[0];\n",
       "\n",
       "    for (var ind in mpl.extensions) {\n",
       "        var fmt = mpl.extensions[ind];\n",
       "        var option = $(\n",
       "            '<option/>', {selected: fmt === mpl.default_extension}).html(fmt);\n",
       "        fmt_picker.append(option)\n",
       "    }\n",
       "\n",
       "    // Add hover states to the ui-buttons\n",
       "    $( \".ui-button\" ).hover(\n",
       "        function() { $(this).addClass(\"ui-state-hover\");},\n",
       "        function() { $(this).removeClass(\"ui-state-hover\");}\n",
       "    );\n",
       "\n",
       "    var status_bar = $('<span class=\"mpl-message\"/>');\n",
       "    nav_element.append(status_bar);\n",
       "    this.message = status_bar[0];\n",
       "}\n",
       "\n",
       "mpl.figure.prototype.request_resize = function(x_pixels, y_pixels) {\n",
       "    // Request matplotlib to resize the figure. Matplotlib will then trigger a resize in the client,\n",
       "    // which will in turn request a refresh of the image.\n",
       "    this.send_message('resize', {'width': x_pixels, 'height': y_pixels});\n",
       "}\n",
       "\n",
       "mpl.figure.prototype.send_message = function(type, properties) {\n",
       "    properties['type'] = type;\n",
       "    properties['figure_id'] = this.id;\n",
       "    this.ws.send(JSON.stringify(properties));\n",
       "}\n",
       "\n",
       "mpl.figure.prototype.send_draw_message = function() {\n",
       "    if (!this.waiting) {\n",
       "        this.waiting = true;\n",
       "        this.ws.send(JSON.stringify({type: \"draw\", figure_id: this.id}));\n",
       "    }\n",
       "}\n",
       "\n",
       "\n",
       "mpl.figure.prototype.handle_save = function(fig, msg) {\n",
       "    var format_dropdown = fig.format_dropdown;\n",
       "    var format = format_dropdown.options[format_dropdown.selectedIndex].value;\n",
       "    fig.ondownload(fig, format);\n",
       "}\n",
       "\n",
       "\n",
       "mpl.figure.prototype.handle_resize = function(fig, msg) {\n",
       "    var size = msg['size'];\n",
       "    if (size[0] != fig.canvas.width || size[1] != fig.canvas.height) {\n",
       "        fig._resize_canvas(size[0], size[1]);\n",
       "        fig.send_message(\"refresh\", {});\n",
       "    };\n",
       "}\n",
       "\n",
       "mpl.figure.prototype.handle_rubberband = function(fig, msg) {\n",
       "    var x0 = msg['x0'];\n",
       "    var y0 = fig.canvas.height - msg['y0'];\n",
       "    var x1 = msg['x1'];\n",
       "    var y1 = fig.canvas.height - msg['y1'];\n",
       "    x0 = Math.floor(x0) + 0.5;\n",
       "    y0 = Math.floor(y0) + 0.5;\n",
       "    x1 = Math.floor(x1) + 0.5;\n",
       "    y1 = Math.floor(y1) + 0.5;\n",
       "    var min_x = Math.min(x0, x1);\n",
       "    var min_y = Math.min(y0, y1);\n",
       "    var width = Math.abs(x1 - x0);\n",
       "    var height = Math.abs(y1 - y0);\n",
       "\n",
       "    fig.rubberband_context.clearRect(\n",
       "        0, 0, fig.canvas.width, fig.canvas.height);\n",
       "\n",
       "    fig.rubberband_context.strokeRect(min_x, min_y, width, height);\n",
       "}\n",
       "\n",
       "mpl.figure.prototype.handle_figure_label = function(fig, msg) {\n",
       "    // Updates the figure title.\n",
       "    fig.header.textContent = msg['label'];\n",
       "}\n",
       "\n",
       "mpl.figure.prototype.handle_cursor = function(fig, msg) {\n",
       "    var cursor = msg['cursor'];\n",
       "    switch(cursor)\n",
       "    {\n",
       "    case 0:\n",
       "        cursor = 'pointer';\n",
       "        break;\n",
       "    case 1:\n",
       "        cursor = 'default';\n",
       "        break;\n",
       "    case 2:\n",
       "        cursor = 'crosshair';\n",
       "        break;\n",
       "    case 3:\n",
       "        cursor = 'move';\n",
       "        break;\n",
       "    }\n",
       "    fig.rubberband_canvas.style.cursor = cursor;\n",
       "}\n",
       "\n",
       "mpl.figure.prototype.handle_message = function(fig, msg) {\n",
       "    fig.message.textContent = msg['message'];\n",
       "}\n",
       "\n",
       "mpl.figure.prototype.handle_draw = function(fig, msg) {\n",
       "    // Request the server to send over a new figure.\n",
       "    fig.send_draw_message();\n",
       "}\n",
       "\n",
       "mpl.figure.prototype.handle_image_mode = function(fig, msg) {\n",
       "    fig.image_mode = msg['mode'];\n",
       "}\n",
       "\n",
       "mpl.figure.prototype.updated_canvas_event = function() {\n",
       "    // Called whenever the canvas gets updated.\n",
       "    this.send_message(\"ack\", {});\n",
       "}\n",
       "\n",
       "// A function to construct a web socket function for onmessage handling.\n",
       "// Called in the figure constructor.\n",
       "mpl.figure.prototype._make_on_message_function = function(fig) {\n",
       "    return function socket_on_message(evt) {\n",
       "        if (evt.data instanceof Blob) {\n",
       "            /* FIXME: We get \"Resource interpreted as Image but\n",
       "             * transferred with MIME type text/plain:\" errors on\n",
       "             * Chrome.  But how to set the MIME type?  It doesn't seem\n",
       "             * to be part of the websocket stream */\n",
       "            evt.data.type = \"image/png\";\n",
       "\n",
       "            /* Free the memory for the previous frames */\n",
       "            if (fig.imageObj.src) {\n",
       "                (window.URL || window.webkitURL).revokeObjectURL(\n",
       "                    fig.imageObj.src);\n",
       "            }\n",
       "\n",
       "            fig.imageObj.src = (window.URL || window.webkitURL).createObjectURL(\n",
       "                evt.data);\n",
       "            fig.updated_canvas_event();\n",
       "            fig.waiting = false;\n",
       "            return;\n",
       "        }\n",
       "        else if (typeof evt.data === 'string' && evt.data.slice(0, 21) == \"data:image/png;base64\") {\n",
       "            fig.imageObj.src = evt.data;\n",
       "            fig.updated_canvas_event();\n",
       "            fig.waiting = false;\n",
       "            return;\n",
       "        }\n",
       "\n",
       "        var msg = JSON.parse(evt.data);\n",
       "        var msg_type = msg['type'];\n",
       "\n",
       "        // Call the  \"handle_{type}\" callback, which takes\n",
       "        // the figure and JSON message as its only arguments.\n",
       "        try {\n",
       "            var callback = fig[\"handle_\" + msg_type];\n",
       "        } catch (e) {\n",
       "            console.log(\"No handler for the '\" + msg_type + \"' message type: \", msg);\n",
       "            return;\n",
       "        }\n",
       "\n",
       "        if (callback) {\n",
       "            try {\n",
       "                // console.log(\"Handling '\" + msg_type + \"' message: \", msg);\n",
       "                callback(fig, msg);\n",
       "            } catch (e) {\n",
       "                console.log(\"Exception inside the 'handler_\" + msg_type + \"' callback:\", e, e.stack, msg);\n",
       "            }\n",
       "        }\n",
       "    };\n",
       "}\n",
       "\n",
       "// from http://stackoverflow.com/questions/1114465/getting-mouse-location-in-canvas\n",
       "mpl.findpos = function(e) {\n",
       "    //this section is from http://www.quirksmode.org/js/events_properties.html\n",
       "    var targ;\n",
       "    if (!e)\n",
       "        e = window.event;\n",
       "    if (e.target)\n",
       "        targ = e.target;\n",
       "    else if (e.srcElement)\n",
       "        targ = e.srcElement;\n",
       "    if (targ.nodeType == 3) // defeat Safari bug\n",
       "        targ = targ.parentNode;\n",
       "\n",
       "    // jQuery normalizes the pageX and pageY\n",
       "    // pageX,Y are the mouse positions relative to the document\n",
       "    // offset() returns the position of the element relative to the document\n",
       "    var x = e.pageX - $(targ).offset().left;\n",
       "    var y = e.pageY - $(targ).offset().top;\n",
       "\n",
       "    return {\"x\": x, \"y\": y};\n",
       "};\n",
       "\n",
       "/*\n",
       " * return a copy of an object with only non-object keys\n",
       " * we need this to avoid circular references\n",
       " * http://stackoverflow.com/a/24161582/3208463\n",
       " */\n",
       "function simpleKeys (original) {\n",
       "  return Object.keys(original).reduce(function (obj, key) {\n",
       "    if (typeof original[key] !== 'object')\n",
       "        obj[key] = original[key]\n",
       "    return obj;\n",
       "  }, {});\n",
       "}\n",
       "\n",
       "mpl.figure.prototype.mouse_event = function(event, name) {\n",
       "    var canvas_pos = mpl.findpos(event)\n",
       "\n",
       "    if (name === 'button_press')\n",
       "    {\n",
       "        this.canvas.focus();\n",
       "        this.canvas_div.focus();\n",
       "    }\n",
       "\n",
       "    var x = canvas_pos.x;\n",
       "    var y = canvas_pos.y;\n",
       "\n",
       "    this.send_message(name, {x: x, y: y, button: event.button,\n",
       "                             step: event.step,\n",
       "                             guiEvent: simpleKeys(event)});\n",
       "\n",
       "    /* This prevents the web browser from automatically changing to\n",
       "     * the text insertion cursor when the button is pressed.  We want\n",
       "     * to control all of the cursor setting manually through the\n",
       "     * 'cursor' event from matplotlib */\n",
       "    event.preventDefault();\n",
       "    return false;\n",
       "}\n",
       "\n",
       "mpl.figure.prototype._key_event_extra = function(event, name) {\n",
       "    // Handle any extra behaviour associated with a key event\n",
       "}\n",
       "\n",
       "mpl.figure.prototype.key_event = function(event, name) {\n",
       "\n",
       "    // Prevent repeat events\n",
       "    if (name == 'key_press')\n",
       "    {\n",
       "        if (event.which === this._key)\n",
       "            return;\n",
       "        else\n",
       "            this._key = event.which;\n",
       "    }\n",
       "    if (name == 'key_release')\n",
       "        this._key = null;\n",
       "\n",
       "    var value = '';\n",
       "    if (event.ctrlKey && event.which != 17)\n",
       "        value += \"ctrl+\";\n",
       "    if (event.altKey && event.which != 18)\n",
       "        value += \"alt+\";\n",
       "    if (event.shiftKey && event.which != 16)\n",
       "        value += \"shift+\";\n",
       "\n",
       "    value += 'k';\n",
       "    value += event.which.toString();\n",
       "\n",
       "    this._key_event_extra(event, name);\n",
       "\n",
       "    this.send_message(name, {key: value,\n",
       "                             guiEvent: simpleKeys(event)});\n",
       "    return false;\n",
       "}\n",
       "\n",
       "mpl.figure.prototype.toolbar_button_onclick = function(name) {\n",
       "    if (name == 'download') {\n",
       "        this.handle_save(this, null);\n",
       "    } else {\n",
       "        this.send_message(\"toolbar_button\", {name: name});\n",
       "    }\n",
       "};\n",
       "\n",
       "mpl.figure.prototype.toolbar_button_onmouseover = function(tooltip) {\n",
       "    this.message.textContent = tooltip;\n",
       "};\n",
       "mpl.toolbar_items = [[\"Home\", \"Reset original view\", \"fa fa-home icon-home\", \"home\"], [\"Back\", \"Back to  previous view\", \"fa fa-arrow-left icon-arrow-left\", \"back\"], [\"Forward\", \"Forward to next view\", \"fa fa-arrow-right icon-arrow-right\", \"forward\"], [\"\", \"\", \"\", \"\"], [\"Pan\", \"Pan axes with left mouse, zoom with right\", \"fa fa-arrows icon-move\", \"pan\"], [\"Zoom\", \"Zoom to rectangle\", \"fa fa-square-o icon-check-empty\", \"zoom\"], [\"\", \"\", \"\", \"\"], [\"Download\", \"Download plot\", \"fa fa-floppy-o icon-save\", \"download\"]];\n",
       "\n",
       "mpl.extensions = [\"eps\", \"pdf\", \"png\", \"ps\", \"raw\", \"svg\"];\n",
       "\n",
       "mpl.default_extension = \"png\";var comm_websocket_adapter = function(comm) {\n",
       "    // Create a \"websocket\"-like object which calls the given IPython comm\n",
       "    // object with the appropriate methods. Currently this is a non binary\n",
       "    // socket, so there is still some room for performance tuning.\n",
       "    var ws = {};\n",
       "\n",
       "    ws.close = function() {\n",
       "        comm.close()\n",
       "    };\n",
       "    ws.send = function(m) {\n",
       "        //console.log('sending', m);\n",
       "        comm.send(m);\n",
       "    };\n",
       "    // Register the callback with on_msg.\n",
       "    comm.on_msg(function(msg) {\n",
       "        //console.log('receiving', msg['content']['data'], msg);\n",
       "        // Pass the mpl event to the overriden (by mpl) onmessage function.\n",
       "        ws.onmessage(msg['content']['data'])\n",
       "    });\n",
       "    return ws;\n",
       "}\n",
       "\n",
       "mpl.mpl_figure_comm = function(comm, msg) {\n",
       "    // This is the function which gets called when the mpl process\n",
       "    // starts-up an IPython Comm through the \"matplotlib\" channel.\n",
       "\n",
       "    var id = msg.content.data.id;\n",
       "    // Get hold of the div created by the display call when the Comm\n",
       "    // socket was opened in Python.\n",
       "    var element = $(\"#\" + id);\n",
       "    var ws_proxy = comm_websocket_adapter(comm)\n",
       "\n",
       "    function ondownload(figure, format) {\n",
       "        window.open(figure.imageObj.src);\n",
       "    }\n",
       "\n",
       "    var fig = new mpl.figure(id, ws_proxy,\n",
       "                           ondownload,\n",
       "                           element.get(0));\n",
       "\n",
       "    // Call onopen now - mpl needs it, as it is assuming we've passed it a real\n",
       "    // web socket which is closed, not our websocket->open comm proxy.\n",
       "    ws_proxy.onopen();\n",
       "\n",
       "    fig.parent_element = element.get(0);\n",
       "    fig.cell_info = mpl.find_output_cell(\"<div id='\" + id + \"'></div>\");\n",
       "    if (!fig.cell_info) {\n",
       "        console.error(\"Failed to find cell for figure\", id, fig);\n",
       "        return;\n",
       "    }\n",
       "\n",
       "    var output_index = fig.cell_info[2]\n",
       "    var cell = fig.cell_info[0];\n",
       "\n",
       "};\n",
       "\n",
       "mpl.figure.prototype.handle_close = function(fig, msg) {\n",
       "    fig.root.unbind('remove')\n",
       "\n",
       "    // Update the output cell to use the data from the current canvas.\n",
       "    fig.push_to_output();\n",
       "    var dataURL = fig.canvas.toDataURL();\n",
       "    // Re-enable the keyboard manager in IPython - without this line, in FF,\n",
       "    // the notebook keyboard shortcuts fail.\n",
       "    IPython.keyboard_manager.enable()\n",
       "    $(fig.parent_element).html('<img src=\"' + dataURL + '\">');\n",
       "    fig.close_ws(fig, msg);\n",
       "}\n",
       "\n",
       "mpl.figure.prototype.close_ws = function(fig, msg){\n",
       "    fig.send_message('closing', msg);\n",
       "    // fig.ws.close()\n",
       "}\n",
       "\n",
       "mpl.figure.prototype.push_to_output = function(remove_interactive) {\n",
       "    // Turn the data on the canvas into data in the output cell.\n",
       "    var dataURL = this.canvas.toDataURL();\n",
       "    this.cell_info[1]['text/html'] = '<img src=\"' + dataURL + '\">';\n",
       "}\n",
       "\n",
       "mpl.figure.prototype.updated_canvas_event = function() {\n",
       "    // Tell IPython that the notebook contents must change.\n",
       "    IPython.notebook.set_dirty(true);\n",
       "    this.send_message(\"ack\", {});\n",
       "    var fig = this;\n",
       "    // Wait a second, then push the new image to the DOM so\n",
       "    // that it is saved nicely (might be nice to debounce this).\n",
       "    setTimeout(function () { fig.push_to_output() }, 1000);\n",
       "}\n",
       "\n",
       "mpl.figure.prototype._init_toolbar = function() {\n",
       "    var fig = this;\n",
       "\n",
       "    var nav_element = $('<div/>')\n",
       "    nav_element.attr('style', 'width: 100%');\n",
       "    this.root.append(nav_element);\n",
       "\n",
       "    // Define a callback function for later on.\n",
       "    function toolbar_event(event) {\n",
       "        return fig.toolbar_button_onclick(event['data']);\n",
       "    }\n",
       "    function toolbar_mouse_event(event) {\n",
       "        return fig.toolbar_button_onmouseover(event['data']);\n",
       "    }\n",
       "\n",
       "    for(var toolbar_ind in mpl.toolbar_items){\n",
       "        var name = mpl.toolbar_items[toolbar_ind][0];\n",
       "        var tooltip = mpl.toolbar_items[toolbar_ind][1];\n",
       "        var image = mpl.toolbar_items[toolbar_ind][2];\n",
       "        var method_name = mpl.toolbar_items[toolbar_ind][3];\n",
       "\n",
       "        if (!name) { continue; };\n",
       "\n",
       "        var button = $('<button class=\"btn btn-default\" href=\"#\" title=\"' + name + '\"><i class=\"fa ' + image + ' fa-lg\"></i></button>');\n",
       "        button.click(method_name, toolbar_event);\n",
       "        button.mouseover(tooltip, toolbar_mouse_event);\n",
       "        nav_element.append(button);\n",
       "    }\n",
       "\n",
       "    // Add the status bar.\n",
       "    var status_bar = $('<span class=\"mpl-message\" style=\"text-align:right; float: right;\"/>');\n",
       "    nav_element.append(status_bar);\n",
       "    this.message = status_bar[0];\n",
       "\n",
       "    // Add the close button to the window.\n",
       "    var buttongrp = $('<div class=\"btn-group inline pull-right\"></div>');\n",
       "    var button = $('<button class=\"btn btn-mini btn-primary\" href=\"#\" title=\"Stop Interaction\"><i class=\"fa fa-power-off icon-remove icon-large\"></i></button>');\n",
       "    button.click(function (evt) { fig.handle_close(fig, {}); } );\n",
       "    button.mouseover('Stop Interaction', toolbar_mouse_event);\n",
       "    buttongrp.append(button);\n",
       "    var titlebar = this.root.find($('.ui-dialog-titlebar'));\n",
       "    titlebar.prepend(buttongrp);\n",
       "}\n",
       "\n",
       "mpl.figure.prototype._root_extra_style = function(el){\n",
       "    var fig = this\n",
       "    el.on(\"remove\", function(){\n",
       "\tfig.close_ws(fig, {});\n",
       "    });\n",
       "}\n",
       "\n",
       "mpl.figure.prototype._canvas_extra_style = function(el){\n",
       "    // this is important to make the div 'focusable\n",
       "    el.attr('tabindex', 0)\n",
       "    // reach out to IPython and tell the keyboard manager to turn it's self\n",
       "    // off when our div gets focus\n",
       "\n",
       "    // location in version 3\n",
       "    if (IPython.notebook.keyboard_manager) {\n",
       "        IPython.notebook.keyboard_manager.register_events(el);\n",
       "    }\n",
       "    else {\n",
       "        // location in version 2\n",
       "        IPython.keyboard_manager.register_events(el);\n",
       "    }\n",
       "\n",
       "}\n",
       "\n",
       "mpl.figure.prototype._key_event_extra = function(event, name) {\n",
       "    var manager = IPython.notebook.keyboard_manager;\n",
       "    if (!manager)\n",
       "        manager = IPython.keyboard_manager;\n",
       "\n",
       "    // Check for shift+enter\n",
       "    if (event.shiftKey && event.which == 13) {\n",
       "        this.canvas_div.blur();\n",
       "        event.shiftKey = false;\n",
       "        // Send a \"J\" for go to next cell\n",
       "        event.which = 74;\n",
       "        event.keyCode = 74;\n",
       "        manager.command_mode();\n",
       "        manager.handle_keydown(event);\n",
       "    }\n",
       "}\n",
       "\n",
       "mpl.figure.prototype.handle_save = function(fig, msg) {\n",
       "    fig.ondownload(fig, null);\n",
       "}\n",
       "\n",
       "\n",
       "mpl.find_output_cell = function(html_output) {\n",
       "    // Return the cell and output element which can be found *uniquely* in the notebook.\n",
       "    // Note - this is a bit hacky, but it is done because the \"notebook_saving.Notebook\"\n",
       "    // IPython event is triggered only after the cells have been serialised, which for\n",
       "    // our purposes (turning an active figure into a static one), is too late.\n",
       "    var cells = IPython.notebook.get_cells();\n",
       "    var ncells = cells.length;\n",
       "    for (var i=0; i<ncells; i++) {\n",
       "        var cell = cells[i];\n",
       "        if (cell.cell_type === 'code'){\n",
       "            for (var j=0; j<cell.output_area.outputs.length; j++) {\n",
       "                var data = cell.output_area.outputs[j];\n",
       "                if (data.data) {\n",
       "                    // IPython >= 3 moved mimebundle to data attribute of output\n",
       "                    data = data.data;\n",
       "                }\n",
       "                if (data['text/html'] == html_output) {\n",
       "                    return [cell, data, j];\n",
       "                }\n",
       "            }\n",
       "        }\n",
       "    }\n",
       "}\n",
       "\n",
       "// Register the function which deals with the matplotlib target/channel.\n",
       "// The kernel may be null if the page has been refreshed.\n",
       "if (IPython.notebook.kernel != null) {\n",
       "    IPython.notebook.kernel.comm_manager.register_target('matplotlib', mpl.mpl_figure_comm);\n",
       "}\n"
      ],
      "text/plain": [
       "<IPython.core.display.Javascript object>"
      ]
     },
     "metadata": {},
     "output_type": "display_data"
    },
    {
     "data": {
      "text/html": [
       "<img src=\"data:image/png;base64,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\">"
      ],
      "text/plain": [
       "<IPython.core.display.HTML object>"
      ]
     },
     "metadata": {},
     "output_type": "display_data"
    }
   ],
   "source": [
    "H.plot(hh.load(\"./slice_H00_-2,0.h5\"), min=0, max=1e-4)"
   ]
  },
  {
   "cell_type": "code",
   "execution_count": null,
   "metadata": {
    "collapsed": true
   },
   "outputs": [],
   "source": []
  }
 ],
 "metadata": {
  "kernelspec": {
   "display_name": "Python 2",
   "language": "python",
   "name": "python2"
  },
  "language_info": {
   "codemirror_mode": {
    "name": "ipython",
    "version": 2
   },
   "file_extension": ".py",
   "mimetype": "text/x-python",
   "name": "python",
   "nbconvert_exporter": "python",
   "pygments_lexer": "ipython2",
   "version": "2.7.11"
  },
  "widgets": {
   "state": {},
   "version": "1.1.2"
  }
 },
 "nbformat": 4,
 "nbformat_minor": 0
}
