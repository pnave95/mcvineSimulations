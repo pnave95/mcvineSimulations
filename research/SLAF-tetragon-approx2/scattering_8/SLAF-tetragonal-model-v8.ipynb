{
 "cells": [
  {
   "cell_type": "markdown",
   "metadata": {},
   "source": [
    "# Spin Wave Simulation"
   ]
  },
  {
   "cell_type": "markdown",
   "metadata": {},
   "source": [
    "Instrument: ARCS\n",
    "* Ei=150meV\n",
    "* Fermi chopper: ? Hz\n",
    "* T0: 90Hz\n",
    " \n",
    "Sample: SLAF tetragonal model\n",
    "* lattice parameters: 5 5 5        90 90 90\n",
    "* spin wave model available in paper: \"Dynamical structure factor of quasi-two-dimensional antiferromagnet in high fields\"\n",
    "* Orientation: u,v = [1 0 2] and  [1 0 0]\n",
    "* psi angles: -90, 90, step 3\n"
   ]
  },
  {
   "cell_type": "markdown",
   "metadata": {},
   "source": [
    "## Step 0. some goodies"
   ]
  },
  {
   "cell_type": "code",
   "execution_count": 1,
   "metadata": {
    "collapsed": false
   },
   "outputs": [],
   "source": [
    "%matplotlib notebook\n",
    "from matplotlib import pyplot as plt\n",
    "import numpy as np\n",
    "import histogram.hdf as hh, histogram as H"
   ]
  },
  {
   "cell_type": "markdown",
   "metadata": {},
   "source": [
    "## Step 1. create dir structure"
   ]
  },
  {
   "cell_type": "code",
   "execution_count": 2,
   "metadata": {
    "collapsed": true
   },
   "outputs": [],
   "source": [
    "# Define which directory to use for my simulation\n",
    "workdir = \"/SNS/users/p63/mcvine/research/SLAF-tetragon-approx2/\""
   ]
  },
  {
   "cell_type": "code",
   "execution_count": 3,
   "metadata": {
    "collapsed": false
   },
   "outputs": [
    {
     "name": "stdout",
     "output_type": "stream",
     "text": [
      "/SNS/users/p63/mcvine/research/SLAF-tetragon-approx2\n",
      "samples    samples_5  samples_8     scattering_3  scattering_6\r\n",
      "samples_3  samples_6  scattering    scattering_4  scattering_7\r\n",
      "samples_4  samples_7  scattering_2  scattering_5  scattering_8\r\n"
     ]
    }
   ],
   "source": [
    "# change into primary simulation directory\n",
    "%cd {workdir}\n",
    "!ls"
   ]
  },
  {
   "cell_type": "code",
   "execution_count": 4,
   "metadata": {
    "collapsed": false
   },
   "outputs": [
    {
     "name": "stdout",
     "output_type": "stream",
     "text": [
      "discarding /SNS/users/lj7/software/miniconda2/envs/mcvine/bin from PATH\n",
      "prepending /SNS/users/lj7/software/miniconda2/envs/mcvine/bin to PATH\n"
     ]
    }
   ],
   "source": [
    "!source ~lj7/.use-miniconda2\n",
    "!source activate mcvine"
   ]
  },
  {
   "cell_type": "markdown",
   "metadata": {},
   "source": [
    "## Step 2. obtain beam simulation"
   ]
  },
  {
   "cell_type": "code",
   "execution_count": 5,
   "metadata": {
    "collapsed": false
   },
   "outputs": [
    {
     "name": "stdout",
     "output_type": "stream",
     "text": [
      "/SNS/users/p63/mcvine/research/SLAF-tetragon-approx2/scattering_8\n",
      "total 452\r\n",
      "-rw-r--r-- 1 p63 users 458945 Jul 22 23:24 SLAF-tetragonal-model-v8.ipynb\r\n"
     ]
    }
   ],
   "source": [
    "%cd {workdir}/scattering_8\n",
    "!ls -l"
   ]
  },
  {
   "cell_type": "code",
   "execution_count": 6,
   "metadata": {
    "collapsed": false
   },
   "outputs": [
    {
     "name": "stdout",
     "output_type": "stream",
     "text": [
      "total 452\r\n",
      "lrwxrwxrwx 1 p63 users     62 Jul 22 23:29 beam -> /SNS/users/p63/mcvine/research/beams/beam_150meV_1e9_neutrons/\r\n",
      "-rw-r--r-- 1 p63 users 458945 Jul 22 23:24 SLAF-tetragonal-model-v8.ipynb\r\n"
     ]
    }
   ],
   "source": [
    "!ln -s /SNS/users/p63/mcvine/research/beams/beam_150meV_1e9_neutrons/ beam\n",
    "!ls -l"
   ]
  },
  {
   "cell_type": "markdown",
   "metadata": {},
   "source": [
    "## Step 3. Check/Update sample assembly"
   ]
  },
  {
   "cell_type": "code",
   "execution_count": 6,
   "metadata": {
    "collapsed": false
   },
   "outputs": [],
   "source": []
  },
  {
   "cell_type": "code",
   "execution_count": 7,
   "metadata": {
    "collapsed": false
   },
   "outputs": [
    {
     "name": "stdout",
     "output_type": "stream",
     "text": [
      "/SNS/users/p63/mcvine/research/SLAF-tetragon-approx2/samples_8/X/sampleassembly\n"
     ]
    }
   ],
   "source": [
    "%cd \"{workdir}/samples_8/X/sampleassembly\""
   ]
  },
  {
   "cell_type": "code",
   "execution_count": 9,
   "metadata": {
    "collapsed": false
   },
   "outputs": [
    {
     "name": "stdout",
     "output_type": "stream",
     "text": [
      "8\r\n",
      "5 0 0    0 5 0    0 0 5\r\n",
      "V 0 0 0\r\n",
      "V 0 0 0\r\n",
      "V 0 0 0\r\n",
      "V 0 0 0\r\n",
      "V 0 0 0\r\n",
      "V 0 0 0\r\n",
      "V 0 0 0\r\n",
      "V 0 0 0"
     ]
    }
   ],
   "source": [
    "!cat X.xyz"
   ]
  },
  {
   "cell_type": "markdown",
   "metadata": {},
   "source": [
    "Note:  xyz data only important for phonon scattering (I think)"
   ]
  },
  {
   "cell_type": "code",
   "execution_count": 8,
   "metadata": {
    "collapsed": false,
    "scrolled": true
   },
   "outputs": [
    {
     "name": "stdout",
     "output_type": "stream",
     "text": [
      "<?xml version=\"1.0\"?>\r\n",
      "\r\n",
      "<!DOCTYPE scatterer>\r\n",
      "\r\n",
      "<!-- weights: absorption, scattering, transmission -->\r\n",
      "<homogeneous_scatterer \r\n",
      "  mcweights=\"0, 1, 0.1\"\r\n",
      "  max_multiplescattering_loops=\"3\"\r\n",
      "  >\r\n",
      "  \r\n",
      "  <KernelContainer average=\"yes\">\r\n",
      "    \r\n",
      "    <E_vQ_Kernel \r\n",
      "\tE_Q=\"pi:=3.1415926535897932;\r\n",
      "    alpha:=0.1; JS:=10.0; Hnorm:=0.9; a:=5; b:=5; c:=5;\r\n",
      "    theta:=asin(Hnorm);\r\n",
      "    gamma_z:=cos(c*Qz); gamma_xy:=(cos(a*Qx)+cos(b*Qy));\r\n",
      "    gammaBar:=(gamma_xy+alpha*gamma_z)/(2.0+alpha);\r\n",
      "    2.0*JS*(2.0+alpha)*sqrt((1+gammaBar)*(1-gammaBar*cos(2.0*theta)))\"\r\n",
      "\tS_Q=\"pi:=3.1415926535897932; a:=5; b:=5; c:=5;\r\n",
      "    alpha:=0.1; JS:=10.0; Hnorm:=0.9; theta:=asin(Hnorm);\r\n",
      "    gamma_z:=cos(c*Qz); gamma_xy:=(cos(a*Qx)+cos(b*Qy));\r\n",
      "    gammaBar:=(gamma_xy+alpha*gamma_z)/(2.0+alpha);\r\n",
      "    Aq:=2.0*JS*(2.0+alpha)*(1+gammaBar*(sin(theta))^2);\r\n",
      "    Eq:=2.0*JS*(2.0+alpha)*sqrt((1+gammaBar)*(1-gammaBar*cos(2.0*theta)));\r\n",
      "    Eeff:=max(Eq,1.5);\r\n",
      "    UqSquared:=(Aq+Eeff)/(2.0*Eeff); VqSquared:=(Aq-Eeff)/(2.0*Eeff);\r\n",
      "    Uq:=sqrt(UqSquared); Vq:=sqrt(VqSquared);\r\n",
      "    Sxx:=(Uq+Vq)^2; Syy:=(Uq-Vq)^2;\r\n",
      "    Sxoxo:=Sxx*(sin(theta))^2; Syoyo:=Syy;\r\n",
      "    Sxoxo+Syoyo\"\r\n",
      "\tEmax=\"90*meV\"\r\n",
      "\torientation=\"0.894427191,0.0,-0.4472135955,0.0,1.0,0.0,0.4472135955,0.0,0.894427191\"\r\n",
      "\t/>\r\n",
      "    \r\n",
      "     <E_vQ_Kernel \r\n",
      "\tE_Q=\"pi:=3.1415926535897932; a:=5; b:=5; c:=5;\r\n",
      "    alpha:=0.1; JS:=10.0; Hnorm:=0.9;\r\n",
      "    theta:=asin(Hnorm);\r\n",
      "    gamma_z:=cos(c*Qz-pi); gamma_xy:=(cos(a*Qx-pi)+cos(b*Qy-pi));\r\n",
      "    gammaBar:=(gamma_xy+alpha*gamma_z)/(2.0+alpha);\r\n",
      "    2.0*JS*(2.0+alpha)*sqrt((1+gammaBar)*(1-gammaBar*cos(2.0*theta)))\"\r\n",
      "\tS_Q=\"pi:=3.1415926535897932; a:=5; b:=5; c:=5;\r\n",
      "    alpha:=0.1; JS:=10.0; Hnorm:=0.9; theta:=asin(Hnorm);\r\n",
      "    gamma_z:=cos(c*Qz-pi); gamma_xy:=(cos(a*Qx-pi)+cos(b*Qy-pi));\r\n",
      "    gammaBar:=(gamma_xy+alpha*gamma_z)/(2.0+alpha);\r\n",
      "    Aq:=2.0*JS*(2.0+alpha)*(1+gammaBar*(sin(theta))^2);\r\n",
      "    Eq:=2.0*JS*(2.0+alpha)*sqrt((1+gammaBar)*(1-gammaBar*cos(2.0*theta)));\r\n",
      "    Eeff:=max(Eq,1.5);\r\n",
      "    UqSquared:=(Aq+Eeff)/(2.0*Eeff); VqSquared:=(Aq-Eeff)/(2.0*Eeff);\r\n",
      "    Uq:=sqrt(UqSquared); Vq:=sqrt(VqSquared);\r\n",
      "    Sxx:=(Uq+Vq)^2; Syy:=(Uq-Vq)^2;\r\n",
      "    Sxx*(cos(theta))^2\"\r\n",
      "\tEmax=\"90*meV\"\r\n",
      "\torientation=\"0.894427191,0.0,-0.4472135955,0.0,1.0,0.0,0.4472135955,0.0,0.894427191\"\r\n",
      "\t/>   \r\n",
      "    \r\n",
      "  </KernelContainer>\r\n",
      "  \r\n",
      "</homogeneous_scatterer>\r\n"
     ]
    }
   ],
   "source": [
    "!cat X-scatterer.xml"
   ]
  },
  {
   "cell_type": "code",
   "execution_count": 14,
   "metadata": {
    "collapsed": false
   },
   "outputs": [
    {
     "name": "stdout",
     "output_type": "stream",
     "text": [
      "Overwriting ./X-scatterer.xml\n"
     ]
    }
   ],
   "source": [
    "%%file ./X-scatterer.xml\n",
    "<?xml version=\"1.0\"?>\n",
    "\n",
    "<!DOCTYPE scatterer>\n",
    "\n",
    "<!-- weights: absorption, scattering, transmission -->\n",
    "<homogeneous_scatterer \n",
    "  mcweights=\"0, 1, 0.1\"\n",
    "  max_multiplescattering_loops=\"3\"\n",
    "  >\n",
    "  \n",
    "  <KernelContainer average=\"yes\">\n",
    "    \n",
    "    <E_vQ_Kernel \n",
    "\tE_Q=\"pi:=3.1415926535897932;\n",
    "    alpha:=0.1; JS:=10.0; Hnorm:=0.9; a:=5; b:=5; c:=5;\n",
    "    theta:=asin(Hnorm);\n",
    "    gamma_z:=cos(c*Qz); gamma_xy:=(cos(a*Qx)+cos(b*Qy));\n",
    "    gammaBar:=(gamma_xy+alpha*gamma_z)/(2.0+alpha);\n",
    "    2.0*JS*(2.0+alpha)*sqrt((1+gammaBar)*(1-gammaBar*cos(2.0*theta)))\"\n",
    "\tS_Q=\"pi:=3.1415926535897932; a:=5; b:=5; c:=5;\n",
    "    alpha:=0.1; JS:=10.0; Hnorm:=0.9; theta:=asin(Hnorm);\n",
    "    gamma_z:=cos(c*Qz); gamma_xy:=(cos(a*Qx)+cos(b*Qy));\n",
    "    gammaBar:=(gamma_xy+alpha*gamma_z)/(2.0+alpha);\n",
    "    Aq:=2.0*JS*(2.0+alpha)*(1+gammaBar*(sin(theta))^2);\n",
    "    Eq:=2.0*JS*(2.0+alpha)*sqrt((1+gammaBar)*(1-gammaBar*cos(2.0*theta)));\n",
    "    Eeff:=max(Eq,1.5);\n",
    "    UqSquared:=(Aq+Eeff)/(2.0*Eeff); VqSquared:=(Aq-Eeff)/(2.0*Eeff);\n",
    "    Uq:=sqrt(UqSquared); Vq:=sqrt(VqSquared);\n",
    "    Sxx:=(Uq+Vq)^2; Syy:=(Uq-Vq)^2;\n",
    "    Sxoxo:=Sxx*(sin(theta))^2; Syoyo:=Syy;\n",
    "    Sxoxo+Syoyo\"\n",
    "\tEmax=\"90*meV\"\n",
    "\torientation=\"0.894427191,0.0,-0.4472135955,0.0,1.0,0.0,0.4472135955,0.0,0.894427191\"\n",
    "\t/>\n",
    "    \n",
    "     <E_vQ_Kernel \n",
    "\tE_Q=\"pi:=3.1415926535897932; a:=5; b:=5; c:=5;\n",
    "    alpha:=0.1; JS:=10.0; Hnorm:=0.9;\n",
    "    theta:=asin(Hnorm);\n",
    "    gamma_z:=cos(c*(Qz-pi)); gamma_xy:=(cos(a*(Qx-pi))+cos(b*(Qy-pi)));\n",
    "    gammaBar:=(gamma_xy+alpha*gamma_z)/(2.0+alpha);\n",
    "    2.0*JS*(2.0+alpha)*sqrt((1+gammaBar)*(1-gammaBar*cos(2.0*theta)))\"\n",
    "\tS_Q=\"pi:=3.1415926535897932; a:=5; b:=5; c:=5;\n",
    "    alpha:=0.1; JS:=10.0; Hnorm:=0.9; theta:=asin(Hnorm);\n",
    "    gamma_z:=cos(c*(Qz-pi)); gamma_xy:=(cos(a*(Qx-pi))+cos(b*(Qy-pi)));\n",
    "    gammaBar:=(gamma_xy+alpha*gamma_z)/(2.0+alpha);\n",
    "    Aq:=2.0*JS*(2.0+alpha)*(1+gammaBar*(sin(theta))^2);\n",
    "    Eq:=2.0*JS*(2.0+alpha)*sqrt((1+gammaBar)*(1-gammaBar*cos(2.0*theta)));\n",
    "    Eeff:=max(Eq,1.5);\n",
    "    UqSquared:=(Aq+Eeff)/(2.0*Eeff); VqSquared:=(Aq-Eeff)/(2.0*Eeff);\n",
    "    Uq:=sqrt(UqSquared); Vq:=sqrt(VqSquared);\n",
    "    Sxx:=(Uq+Vq)^2; Syy:=(Uq-Vq)^2;\n",
    "    Sxx*(cos(theta))^2\"\n",
    "\tEmax=\"90*meV\"\n",
    "\torientation=\"0.894427191,0.0,-0.4472135955,0.0,1.0,0.0,0.4472135955,0.0,0.894427191\"\n",
    "\t/>   \n",
    "    \n",
    "  </KernelContainer>\n",
    "  \n",
    "</homogeneous_scatterer>\n"
   ]
  },
  {
   "cell_type": "code",
   "execution_count": 15,
   "metadata": {
    "collapsed": false
   },
   "outputs": [
    {
     "data": {
      "text/plain": [
       "(array([ 1.25663706,  0.        ,  0.        ]),\n",
       " array([ 0.        ,  1.25663706,  0.        ]),\n",
       " array([ 0.        ,  0.        ,  1.25663706]))"
      ]
     },
     "execution_count": 15,
     "metadata": {},
     "output_type": "execute_result"
    }
   ],
   "source": [
    "a,b,c=5,5,5\n",
    "\n",
    "from numpy import sin, cos, deg2rad\n",
    "a1 = [a, 0, 0]\n",
    "a2 = [0, b, 0]\n",
    "a3 = [0, 0, c]\n",
    "\n",
    "twopi = 2*np.pi\n",
    "f = twopi/np.dot(a1, np.cross(a2, a3))\n",
    "b1 = np.cross(a2,a3) * f\n",
    "b2 = np.cross(a3,a1) * f\n",
    "b3 = np.cross(a1,a2) * f\n",
    "b1,b2,b3"
   ]
  },
  {
   "cell_type": "markdown",
   "metadata": {},
   "source": [
    "#### Orientation of the kernel\n",
    "Here we need to use the convention that z is along beam, y vertical up.\n",
    "The kernel has its own cartesian axis e’x e’y e’z. Because we know\n",
    "u = 102 v = 100\n",
    ", we have the basis vectors of the instrument coordinate system\n",
    "\n",
    "    ez along b1 + 2*b3\n",
    "    ex along b1\n",
    "    \n",
    "\n",
    "So we have them in the reciprocal cartesian axis"
   ]
  },
  {
   "cell_type": "code",
   "execution_count": 16,
   "metadata": {
    "collapsed": false
   },
   "outputs": [
    {
     "data": {
      "text/plain": [
       "(array([ 0.89442719,  0.        , -0.4472136 ]),\n",
       " array([ 0.,  1.,  0.]),\n",
       " array([ 0.4472136 ,  0.        ,  0.89442719]))"
      ]
     },
     "execution_count": 16,
     "metadata": {},
     "output_type": "execute_result"
    }
   ],
   "source": [
    "ez = b1 + 2*b3; ez /= np.linalg.norm(ez)\n",
    "ex1 = b1\n",
    "ey = np.cross(ez, ex1); ey/=np.linalg.norm(ey)\n",
    "ex = np.cross(ey, ez)\n",
    "ex, ey, ez"
   ]
  },
  {
   "cell_type": "markdown",
   "metadata": {},
   "source": [
    "The rotation matrix is define as\n",
    "```\n",
    "    ex.ex’ ex.ey’ ex.ez’ \n",
    "R = ey.ex’ ey.ey’ ey.ez’\n",
    "    ez.ex’ ez.ey’ ez.ez’\n",
    "```\n",
    "So"
   ]
  },
  {
   "cell_type": "code",
   "execution_count": 14,
   "metadata": {
    "collapsed": false
   },
   "outputs": [
    {
     "data": {
      "text/plain": [
       "(array([[ 0.89442719,  0.        , -0.4472136 ],\n",
       "        [ 0.        ,  1.        ,  0.        ],\n",
       "        [ 0.4472136 ,  0.        ,  0.89442719]]),\n",
       " array([ 0.89442719,  0.        , -0.4472136 ,  0.        ,  1.        ,\n",
       "         0.        ,  0.4472136 ,  0.        ,  0.89442719]))"
      ]
     },
     "execution_count": 14,
     "metadata": {},
     "output_type": "execute_result"
    }
   ],
   "source": [
    "R = np.array([ ex, ey, ez ])\n",
    "Rflat = R.copy(); Rflat.shape = -1,\n",
    "R, Rflat"
   ]
  },
  {
   "cell_type": "markdown",
   "metadata": {},
   "source": [
    "Now we add an extra kernel parameter:"
   ]
  },
  {
   "cell_type": "code",
   "execution_count": 15,
   "metadata": {
    "collapsed": false
   },
   "outputs": [
    {
     "data": {
      "text/plain": [
       "'orientation=\"0.894427191,0.0,-0.4472135955,0.0,1.0,0.0,0.4472135955,0.0,0.894427191\"'"
      ]
     },
     "execution_count": 15,
     "metadata": {},
     "output_type": "execute_result"
    }
   ],
   "source": [
    "'orientation=\"%s\"' % (','.join(str(e) for e in Rflat),)"
   ]
  },
  {
   "cell_type": "code",
   "execution_count": 36,
   "metadata": {
    "collapsed": true
   },
   "outputs": [],
   "source": [
    "# modify X-scatterer.xml to specify the orientation"
   ]
  },
  {
   "cell_type": "code",
   "execution_count": 17,
   "metadata": {
    "collapsed": false,
    "scrolled": true
   },
   "outputs": [
    {
     "name": "stdout",
     "output_type": "stream",
     "text": [
      "<?xml version=\"1.0\"?>\r\n",
      "\r\n",
      "<!DOCTYPE scatterer>\r\n",
      "\r\n",
      "<!-- weights: absorption, scattering, transmission -->\r\n",
      "<homogeneous_scatterer \r\n",
      "  mcweights=\"0, 1, 0.1\"\r\n",
      "  max_multiplescattering_loops=\"3\"\r\n",
      "  >\r\n",
      "  \r\n",
      "  <KernelContainer average=\"yes\">\r\n",
      "    \r\n",
      "    <E_vQ_Kernel \r\n",
      "\tE_Q=\"pi:=3.1415926535897932;\r\n",
      "    alpha:=0.1; JS:=10.0; Hnorm:=0.9; a:=5; b:=5; c:=5;\r\n",
      "    theta:=asin(Hnorm);\r\n",
      "    gamma_z:=cos(c*Qz); gamma_xy:=(cos(a*Qx)+cos(b*Qy));\r\n",
      "    gammaBar:=(gamma_xy+alpha*gamma_z)/(2.0+alpha);\r\n",
      "    2.0*JS*(2.0+alpha)*sqrt((1+gammaBar)*(1-gammaBar*cos(2.0*theta)))\"\r\n",
      "\tS_Q=\"pi:=3.1415926535897932; a:=5; b:=5; c:=5;\r\n",
      "    alpha:=0.1; JS:=10.0; Hnorm:=0.9; theta:=asin(Hnorm);\r\n",
      "    gamma_z:=cos(c*Qz); gamma_xy:=(cos(a*Qx)+cos(b*Qy));\r\n",
      "    gammaBar:=(gamma_xy+alpha*gamma_z)/(2.0+alpha);\r\n",
      "    Aq:=2.0*JS*(2.0+alpha)*(1+gammaBar*(sin(theta))^2);\r\n",
      "    Eq:=2.0*JS*(2.0+alpha)*sqrt((1+gammaBar)*(1-gammaBar*cos(2.0*theta)));\r\n",
      "    Eeff:=max(Eq,1.5);\r\n",
      "    UqSquared:=(Aq+Eeff)/(2.0*Eeff); VqSquared:=(Aq-Eeff)/(2.0*Eeff);\r\n",
      "    Uq:=sqrt(UqSquared); Vq:=sqrt(VqSquared);\r\n",
      "    Sxx:=(Uq+Vq)^2; Syy:=(Uq-Vq)^2;\r\n",
      "    Sxoxo:=Sxx*(sin(theta))^2; Syoyo:=Syy;\r\n",
      "    Sxoxo+Syoyo\"\r\n",
      "\tEmax=\"90*meV\"\r\n",
      "\torientation=\"0.894427191,0.0,-0.4472135955,0.0,1.0,0.0,0.4472135955,0.0,0.894427191\"\r\n",
      "\t/>\r\n",
      "    \r\n",
      "     <E_vQ_Kernel \r\n",
      "\tE_Q=\"pi:=3.1415926535897932; a:=5; b:=5; c:=5;\r\n",
      "    alpha:=0.1; JS:=10.0; Hnorm:=0.9;\r\n",
      "    theta:=asin(Hnorm);\r\n",
      "    gamma_z:=cos(c*(Qz-pi)); gamma_xy:=(cos(a*(Qx-pi))+cos(b*(Qy-pi)));\r\n",
      "    gammaBar:=(gamma_xy+alpha*gamma_z)/(2.0+alpha);\r\n",
      "    2.0*JS*(2.0+alpha)*sqrt((1+gammaBar)*(1-gammaBar*cos(2.0*theta)))\"\r\n",
      "\tS_Q=\"pi:=3.1415926535897932; a:=5; b:=5; c:=5;\r\n",
      "    alpha:=0.1; JS:=10.0; Hnorm:=0.9; theta:=asin(Hnorm);\r\n",
      "    gamma_z:=cos(c*(Qz-pi)); gamma_xy:=(cos(a*(Qx-pi))+cos(b*(Qy-pi)));\r\n",
      "    gammaBar:=(gamma_xy+alpha*gamma_z)/(2.0+alpha);\r\n",
      "    Aq:=2.0*JS*(2.0+alpha)*(1+gammaBar*(sin(theta))^2);\r\n",
      "    Eq:=2.0*JS*(2.0+alpha)*sqrt((1+gammaBar)*(1-gammaBar*cos(2.0*theta)));\r\n",
      "    Eeff:=max(Eq,1.5);\r\n",
      "    UqSquared:=(Aq+Eeff)/(2.0*Eeff); VqSquared:=(Aq-Eeff)/(2.0*Eeff);\r\n",
      "    Uq:=sqrt(UqSquared); Vq:=sqrt(VqSquared);\r\n",
      "    Sxx:=(Uq+Vq)^2; Syy:=(Uq-Vq)^2;\r\n",
      "    Sxx*(cos(theta))^2\"\r\n",
      "\tEmax=\"90*meV\"\r\n",
      "\torientation=\"0.894427191,0.0,-0.4472135955,0.0,1.0,0.0,0.4472135955,0.0,0.894427191\"\r\n",
      "\t/>   \r\n",
      "    \r\n",
      "  </KernelContainer>\r\n",
      "  \r\n",
      "</homogeneous_scatterer>"
     ]
    }
   ],
   "source": [
    "!cat X-scatterer.xml"
   ]
  },
  {
   "cell_type": "code",
   "execution_count": 10,
   "metadata": {
    "collapsed": false
   },
   "outputs": [
    {
     "name": "stdout",
     "output_type": "stream",
     "text": [
      "sampleassembly.xml  X-scatterer.xml  X.xyz\r\n"
     ]
    }
   ],
   "source": [
    "!ls"
   ]
  },
  {
   "cell_type": "markdown",
   "metadata": {},
   "source": [
    "## Step 4. Scattering"
   ]
  },
  {
   "cell_type": "code",
   "execution_count": 11,
   "metadata": {
    "collapsed": false
   },
   "outputs": [
    {
     "name": "stdout",
     "output_type": "stream",
     "text": [
      "/SNS/users/p63/mcvine/research/SLAF-tetragon-approx2/scattering_8\n"
     ]
    }
   ],
   "source": [
    "%cd \"{workdir}/scattering_8\""
   ]
  },
  {
   "cell_type": "code",
   "execution_count": 12,
   "metadata": {
    "collapsed": false
   },
   "outputs": [
    {
     "name": "stdout",
     "output_type": "stream",
     "text": [
      "total 576\r\n",
      "lrwxrwxrwx 1 p63 users     62 Jul 22 23:29 beam -> /SNS/users/p63/mcvine/research/beams/beam_150meV_1e9_neutrons/\r\n",
      "-rw-r--r-- 1 p63 users 458805 Jul 22 23:30 SLAF-tetragonal-model-v8.ipynb\r\n"
     ]
    }
   ],
   "source": [
    "!ls -l"
   ]
  },
  {
   "cell_type": "code",
   "execution_count": 13,
   "metadata": {
    "collapsed": false
   },
   "outputs": [
    {
     "name": "stdout",
     "output_type": "stream",
     "text": [
      "beam  scripts  SLAF-tetragonal-model-v8.ipynb  template\r\n"
     ]
    }
   ],
   "source": [
    "!rsync -a ~lj7/simulations/mcvine_workflow/DGS/ARCS/single-crystal/* ./\n",
    "!ls"
   ]
  },
  {
   "cell_type": "code",
   "execution_count": 14,
   "metadata": {
    "collapsed": false
   },
   "outputs": [
    {
     "name": "stdout",
     "output_type": "stream",
     "text": [
      "/SNS/users/p63/mcvine/research/SLAF-tetragon-approx2/scattering_8/template\n",
      "/SNS/users/p63/mcvine/research/SLAF-tetragon-approx2/scattering_8\n"
     ]
    }
   ],
   "source": [
    "%cd template\n",
    "\n",
    "!ln -s ../../samples_8/X/sampleassembly\n",
    "\n",
    "!ln -s ../beam beam\n",
    "\n",
    "%cd .."
   ]
  },
  {
   "cell_type": "code",
   "execution_count": 15,
   "metadata": {
    "collapsed": false
   },
   "outputs": [
    {
     "name": "stdout",
     "output_type": "stream",
     "text": [
      "Writing sim.yml\n"
     ]
    }
   ],
   "source": [
    "%%file sim.yml\n",
    "\n",
    "cluster:\n",
    "  nodes: 10\n",
    "instrument:\n",
    "  name: arcs\n",
    "scatter:\n",
    "  ncount: 1e6\n",
    "  multiple_scattering: off\n",
    "  template: ./template\n"
   ]
  },
  {
   "cell_type": "code",
   "execution_count": 46,
   "metadata": {
    "collapsed": true
   },
   "outputs": [],
   "source": [
    "# Test the simulation for a single angle"
   ]
  },
  {
   "cell_type": "markdown",
   "metadata": {},
   "source": [
    "Note:  If the below simulation test fails, you must do \"rm -rf work_30.0\" from the terminal, within the {workdir}/scattering_4 directory, to remove all the failed simulation pieces.  Otherwise, even if you fix the problem, MCViNE will continue to fail when it sees the old \"pieces\" of the failed simulation"
   ]
  },
  {
   "cell_type": "code",
   "execution_count": 6,
   "metadata": {
    "collapsed": false,
    "scrolled": true
   },
   "outputs": [
    {
     "name": "stdout",
     "output_type": "stream",
     "text": [
      "SAMPLE_ANGLE=30.0 time ./scatter &> log.scatter\n",
      "time ./create-nxs &> log.create-nxs\n",
      "\n",
      "real\t1m40.743s\n",
      "user\t12m42.663s\n",
      "sys\t1m33.180s\n",
      "cp sim.nxs sim-30.0.nxs\n",
      "mcvine instruments arcs nxs populate_metadata --type=Ei --beam_outdir=beam/out --nxs=sim-30.0.nxs\n",
      "/SNS/users/lj7/software/miniconda2/envs/mcvine/lib/python2.7/site-packages/mcvine/deployment_info.py:41: UserWarning: Neither environment variable MCVINE_DIR nor DANSE_DIR was defined. Assumed that it is /SNS/users/lj7/software/miniconda2/envs/mcvine.\n",
      "  warnings.warn(msg)\n"
     ]
    }
   ],
   "source": [
    "!./scripts/sim.py --angle=30.0"
   ]
  },
  {
   "cell_type": "code",
   "execution_count": 16,
   "metadata": {
    "collapsed": false
   },
   "outputs": [
    {
     "name": "stdout",
     "output_type": "stream",
     "text": [
      "Overwriting sim.yml\n"
     ]
    }
   ],
   "source": [
    "%%file sim.yml\n",
    "\n",
    "cluster:\n",
    "  nodes: 14\n",
    "instrument:\n",
    "  name: arcs\n",
    "scatter:\n",
    "  ncount: 1e6\n",
    "  multiple_scattering: off\n",
    "  template: ./template\n"
   ]
  },
  {
   "cell_type": "code",
   "execution_count": null,
   "metadata": {
    "collapsed": true
   },
   "outputs": [],
   "source": [
    "# a script to create a submit script submit.sh\n",
    "# may need to create several scripts"
   ]
  },
  {
   "cell_type": "code",
   "execution_count": 17,
   "metadata": {
    "collapsed": false
   },
   "outputs": [
    {
     "name": "stdout",
     "output_type": "stream",
     "text": [
      "Writing create-submit.py\n"
     ]
    }
   ],
   "source": [
    "%%file create-submit.py\n",
    "import numpy as np\n",
    "ostream = open('submit.sh', 'wt')\n",
    "for a in np.arange(-90, 90.1, 1.):\n",
    "    ostream.write('./scripts/sim.py --angle=%s \\n' % a)\n",
    "    continue\n",
    "ostream.close()"
   ]
  },
  {
   "cell_type": "code",
   "execution_count": 18,
   "metadata": {
    "collapsed": false
   },
   "outputs": [
    {
     "name": "stdout",
     "output_type": "stream",
     "text": [
      "import numpy as np\r\n",
      "ostream = open('submit.sh', 'wt')\r\n",
      "for a in np.arange(-90, 90.1, 1.):\r\n",
      "    ostream.write('./scripts/sim.py --angle=%s \\n' % a)\r\n",
      "    continue\r\n",
      "ostream.close()"
     ]
    }
   ],
   "source": [
    "!cat create-submit.py"
   ]
  },
  {
   "cell_type": "code",
   "execution_count": 19,
   "metadata": {
    "collapsed": false
   },
   "outputs": [],
   "source": [
    "# run the script to create submit.sh\n",
    "!python ./create-submit.py"
   ]
  },
  {
   "cell_type": "code",
   "execution_count": 42,
   "metadata": {
    "collapsed": false,
    "scrolled": true
   },
   "outputs": [],
   "source": [
    "# check submit script\n",
    "#!cat submit.sh"
   ]
  },
  {
   "cell_type": "code",
   "execution_count": 20,
   "metadata": {
    "collapsed": true
   },
   "outputs": [],
   "source": [
    "# make sure submit.sh is executable\n",
    "!chmod +x submit.sh\n",
    "# and then start it script in the background"
   ]
  },
  {
   "cell_type": "code",
   "execution_count": 21,
   "metadata": {
    "collapsed": false
   },
   "outputs": [
    {
     "name": "stdout",
     "output_type": "stream",
     "text": [
      "Starting job # 0 in a separate thread.\n"
     ]
    }
   ],
   "source": [
    "%%script bash --bg\n",
    "./submit.sh\n",
    "# this will take a while to finish."
   ]
  },
  {
   "cell_type": "markdown",
   "metadata": {},
   "source": [
    "## Step 5. Reduction"
   ]
  },
  {
   "cell_type": "code",
   "execution_count": 22,
   "metadata": {
    "collapsed": false,
    "scrolled": true
   },
   "outputs": [
    {
     "name": "stdout",
     "output_type": "stream",
     "text": [
      "/SNS/users/p63/mcvine/research/SLAF-tetragon-approx2/scattering_8\n",
      "beam\t\t\t\twork_-23.0  work_-40.0\twork_-58.0  work_-75.0\r\n",
      "create-submit.py\t\twork_23.0   work_40.0\twork_58.0   work_75.0\r\n",
      "scripts\t\t\t\twork_-24.0  work_-41.0\twork_-59.0  work_-76.0\r\n",
      "sim.yml\t\t\t\twork_24.0   work_41.0\twork_59.0   work_76.0\r\n",
      "SLAF-tetragonal-model-v8.ipynb\twork_-25.0  work_-42.0\twork_-6.0   work_-77.0\r\n",
      "submit.sh\t\t\twork_25.0   work_42.0\twork_6.0    work_77.0\r\n",
      "template\t\t\twork_-26.0  work_-43.0\twork_-60.0  work_-78.0\r\n",
      "work_0.0\t\t\twork_26.0   work_43.0\twork_60.0   work_78.0\r\n",
      "work_-1.0\t\t\twork_-27.0  work_-44.0\twork_-61.0  work_-79.0\r\n",
      "work_1.0\t\t\twork_27.0   work_44.0\twork_61.0   work_79.0\r\n",
      "work_-10.0\t\t\twork_-28.0  work_-45.0\twork_-62.0  work_-8.0\r\n",
      "work_10.0\t\t\twork_28.0   work_45.0\twork_62.0   work_8.0\r\n",
      "work_-11.0\t\t\twork_-29.0  work_-46.0\twork_-63.0  work_-80.0\r\n",
      "work_11.0\t\t\twork_29.0   work_46.0\twork_63.0   work_80.0\r\n",
      "work_-12.0\t\t\twork_-3.0   work_-47.0\twork_-64.0  work_-81.0\r\n",
      "work_12.0\t\t\twork_3.0    work_47.0\twork_64.0   work_81.0\r\n",
      "work_-13.0\t\t\twork_-30.0  work_-48.0\twork_-65.0  work_-82.0\r\n",
      "work_13.0\t\t\twork_30.0   work_48.0\twork_65.0   work_82.0\r\n",
      "work_-14.0\t\t\twork_-31.0  work_-49.0\twork_-66.0  work_-83.0\r\n",
      "work_14.0\t\t\twork_31.0   work_49.0\twork_66.0   work_83.0\r\n",
      "work_-15.0\t\t\twork_-32.0  work_-5.0\twork_-67.0  work_-84.0\r\n",
      "work_15.0\t\t\twork_32.0   work_5.0\twork_67.0   work_84.0\r\n",
      "work_-16.0\t\t\twork_-33.0  work_-50.0\twork_-68.0  work_-85.0\r\n",
      "work_16.0\t\t\twork_33.0   work_50.0\twork_68.0   work_85.0\r\n",
      "work_-17.0\t\t\twork_-34.0  work_-51.0\twork_-69.0  work_-86.0\r\n",
      "work_17.0\t\t\twork_34.0   work_51.0\twork_69.0   work_86.0\r\n",
      "work_-18.0\t\t\twork_-35.0  work_-52.0\twork_-7.0   work_-87.0\r\n",
      "work_18.0\t\t\twork_35.0   work_52.0\twork_7.0    work_87.0\r\n",
      "work_-19.0\t\t\twork_-36.0  work_-53.0\twork_-70.0  work_-88.0\r\n",
      "work_19.0\t\t\twork_36.0   work_53.0\twork_70.0   work_88.0\r\n",
      "work_-2.0\t\t\twork_-37.0  work_-54.0\twork_-71.0  work_-89.0\r\n",
      "work_2.0\t\t\twork_37.0   work_54.0\twork_71.0   work_89.0\r\n",
      "work_-20.0\t\t\twork_-38.0  work_-55.0\twork_-72.0  work_-9.0\r\n",
      "work_20.0\t\t\twork_38.0   work_55.0\twork_72.0   work_9.0\r\n",
      "work_-21.0\t\t\twork_-39.0  work_-56.0\twork_-73.0  work_-90.0\r\n",
      "work_21.0\t\t\twork_39.0   work_56.0\twork_73.0   work_90.0\r\n",
      "work_-22.0\t\t\twork_-4.0   work_-57.0\twork_-74.0\r\n",
      "work_22.0\t\t\twork_4.0    work_57.0\twork_74.0\r\n"
     ]
    }
   ],
   "source": [
    "%cd \"{workdir}/scattering_8\"\n",
    "!ls"
   ]
  },
  {
   "cell_type": "markdown",
   "metadata": {},
   "source": [
    "First we reduce event-mode nexus data for each angle using Mantid"
   ]
  },
  {
   "cell_type": "code",
   "execution_count": 23,
   "metadata": {
    "collapsed": false
   },
   "outputs": [
    {
     "name": "stdout",
     "output_type": "stream",
     "text": [
      "ls: cannot access work_3.0/reduced*: No such file or directory\r\n"
     ]
    }
   ],
   "source": [
    "# check if there is reduced data\n",
    "!ls work_3.0/reduced*"
   ]
  },
  {
   "cell_type": "code",
   "execution_count": 24,
   "metadata": {
    "collapsed": false,
    "scrolled": true
   },
   "outputs": [],
   "source": [
    "# reduce tof events to E events\n",
    "# this takes a long time!\n",
    "!./scripts/reduce/reduceKeepingEvents_batch.py -90,90.1,1. 150 0,150,0.5 > log.reduce"
   ]
  },
  {
   "cell_type": "code",
   "execution_count": 36,
   "metadata": {
    "collapsed": true
   },
   "outputs": [],
   "source": [
    "# create configuration file for getting a slice (BIG slice--check if any data exists)"
   ]
  },
  {
   "cell_type": "code",
   "execution_count": 25,
   "metadata": {
    "collapsed": false
   },
   "outputs": [
    {
     "name": "stdout",
     "output_type": "stream",
     "text": [
      "Writing slice_GtoM.yml\n"
     ]
    }
   ],
   "source": [
    "%%file slice_GtoM.yml\n",
    "\n",
    "angles: -90,90.1,1.0\n",
    "filename_pattern: work_%(angle)s/reduced_%(angle)s.nxs\n",
    "lattice: 5., 5., 5., 90, 90, 90\n",
    "orientation:\n",
    " u: 1, 0, 2\n",
    " v: 1,0,0\n",
    "Eaxis:\n",
    " min: 0\n",
    " max: 75\n",
    " N: 150\n",
    "Q_projections:\n",
    " U:\n",
    "  proj: 1,1,0\n",
    "  proj_name: H,H,0\n",
    "  min: -2.0\n",
    "  max: 2.0\n",
    "  N: 200\n",
    " V:\n",
    "  proj: 1,-1,0\n",
    "  proj_name: H,-H,0\n",
    "  min: -0.2\n",
    "  max: 0.2\n",
    "  N: 1\n",
    " W:\n",
    "  proj: 0,0,1\n",
    "  proj_name: 0,0,L\n",
    "  min: -0.2\n",
    "  max: 0.2\n",
    "  N: 1\n",
    "output: slice_GtoM.nxs\n"
   ]
  },
  {
   "cell_type": "code",
   "execution_count": 26,
   "metadata": {
    "collapsed": true
   },
   "outputs": [],
   "source": [
    "# hack for now. copy the config python file to current dir\n",
    "!cp /SNS/users/lj7/simulations/mcvine_workflow/DGS/ARCS/single-crystal/scripts/config.py ."
   ]
  },
  {
   "cell_type": "code",
   "execution_count": 27,
   "metadata": {
    "collapsed": false,
    "scrolled": true
   },
   "outputs": [],
   "source": [
    "# run script to calculate the slice\n",
    "# this take ~15 minutes \n",
    "! PYTHONPATH=$PWD:$PYTHONPATH ./scripts/reduce/getaslice.py slice_GtoM.yml > log.slice_GtoM"
   ]
  },
  {
   "cell_type": "code",
   "execution_count": 28,
   "metadata": {
    "collapsed": false
   },
   "outputs": [
    {
     "name": "stdout",
     "output_type": "stream",
     "text": [
      "FrameworkManager-[Notice] Welcome to Mantid 3.6.100\n",
      "FrameworkManager-[Notice] Please cite: http://dx.doi.org/10.1016/j.nima.2014.07.029 and this release: http://dx.doi.org/10.5286/Software/Mantid3.6.100\n",
      "Load-[Notice] Load started\n",
      "Load-[Notice] Load successful, Duration 0.87 seconds\n"
     ]
    }
   ],
   "source": [
    "!./scripts/reduce/slice2hist.py \"slice_GtoM.nxs\" slice_GtoM.h5"
   ]
  },
  {
   "cell_type": "code",
   "execution_count": 29,
   "metadata": {
    "collapsed": false,
    "scrolled": false
   },
   "outputs": [
    {
     "name": "stderr",
     "output_type": "stream",
     "text": [
      "/SNS/users/lj7/software/miniconda2/envs/mcvine/lib/python2.7/site-packages/histogram/hdf/Loader.py:129: FutureWarning: elementwise comparison failed; returning scalar instead, but in the future will perform elementwise comparison\n",
      "  if 'storage' in list(dataGroup): # this uses the 'storage' convention\n"
     ]
    },
    {
     "name": "stdout",
     "output_type": "stream",
     "text": [
      "plot z in (0.0, 5.58867231855e-06)\n"
     ]
    },
    {
     "name": "stderr",
     "output_type": "stream",
     "text": [
      "/SNS/users/lj7/software/miniconda2/envs/mcvine/lib/python2.7/site-packages/histogram/data_plotter.py:352: RuntimeWarning: invalid value encountered in less\n",
      "  negative_median = N.median( z[ z<0 ] )\n",
      "/SNS/users/lj7/software/miniconda2/envs/mcvine/lib/python2.7/site-packages/numpy/core/_methods.py:59: RuntimeWarning: Mean of empty slice.\n",
      "  warnings.warn(\"Mean of empty slice.\", RuntimeWarning)\n",
      "/SNS/users/lj7/software/miniconda2/envs/mcvine/lib/python2.7/site-packages/numpy/core/_methods.py:70: RuntimeWarning: invalid value encountered in double_scalars\n",
      "  ret = ret.dtype.type(ret / rcount)\n",
      "/SNS/users/lj7/software/miniconda2/envs/mcvine/lib/python2.7/site-packages/histogram/data_plotter.py:334: RuntimeWarning: invalid value encountered in greater\n",
      "  positive_median = N.median( z[ z>0 ] )\n"
     ]
    },
    {
     "data": {
      "application/javascript": [
       "/* Put everything inside the global mpl namespace */\n",
       "window.mpl = {};\n",
       "\n",
       "mpl.get_websocket_type = function() {\n",
       "    if (typeof(WebSocket) !== 'undefined') {\n",
       "        return WebSocket;\n",
       "    } else if (typeof(MozWebSocket) !== 'undefined') {\n",
       "        return MozWebSocket;\n",
       "    } else {\n",
       "        alert('Your browser does not have WebSocket support.' +\n",
       "              'Please try Chrome, Safari or Firefox ≥ 6. ' +\n",
       "              'Firefox 4 and 5 are also supported but you ' +\n",
       "              'have to enable WebSockets in about:config.');\n",
       "    };\n",
       "}\n",
       "\n",
       "mpl.figure = function(figure_id, websocket, ondownload, parent_element) {\n",
       "    this.id = figure_id;\n",
       "\n",
       "    this.ws = websocket;\n",
       "\n",
       "    this.supports_binary = (this.ws.binaryType != undefined);\n",
       "\n",
       "    if (!this.supports_binary) {\n",
       "        var warnings = document.getElementById(\"mpl-warnings\");\n",
       "        if (warnings) {\n",
       "            warnings.style.display = 'block';\n",
       "            warnings.textContent = (\n",
       "                \"This browser does not support binary websocket messages. \" +\n",
       "                    \"Performance may be slow.\");\n",
       "        }\n",
       "    }\n",
       "\n",
       "    this.imageObj = new Image();\n",
       "\n",
       "    this.context = undefined;\n",
       "    this.message = undefined;\n",
       "    this.canvas = undefined;\n",
       "    this.rubberband_canvas = undefined;\n",
       "    this.rubberband_context = undefined;\n",
       "    this.format_dropdown = undefined;\n",
       "\n",
       "    this.image_mode = 'full';\n",
       "\n",
       "    this.root = $('<div/>');\n",
       "    this._root_extra_style(this.root)\n",
       "    this.root.attr('style', 'display: inline-block');\n",
       "\n",
       "    $(parent_element).append(this.root);\n",
       "\n",
       "    this._init_header(this);\n",
       "    this._init_canvas(this);\n",
       "    this._init_toolbar(this);\n",
       "\n",
       "    var fig = this;\n",
       "\n",
       "    this.waiting = false;\n",
       "\n",
       "    this.ws.onopen =  function () {\n",
       "            fig.send_message(\"supports_binary\", {value: fig.supports_binary});\n",
       "            fig.send_message(\"send_image_mode\", {});\n",
       "            fig.send_message(\"refresh\", {});\n",
       "        }\n",
       "\n",
       "    this.imageObj.onload = function() {\n",
       "            if (fig.image_mode == 'full') {\n",
       "                // Full images could contain transparency (where diff images\n",
       "                // almost always do), so we need to clear the canvas so that\n",
       "                // there is no ghosting.\n",
       "                fig.context.clearRect(0, 0, fig.canvas.width, fig.canvas.height);\n",
       "            }\n",
       "            fig.context.drawImage(fig.imageObj, 0, 0);\n",
       "        };\n",
       "\n",
       "    this.imageObj.onunload = function() {\n",
       "        this.ws.close();\n",
       "    }\n",
       "\n",
       "    this.ws.onmessage = this._make_on_message_function(this);\n",
       "\n",
       "    this.ondownload = ondownload;\n",
       "}\n",
       "\n",
       "mpl.figure.prototype._init_header = function() {\n",
       "    var titlebar = $(\n",
       "        '<div class=\"ui-dialog-titlebar ui-widget-header ui-corner-all ' +\n",
       "        'ui-helper-clearfix\"/>');\n",
       "    var titletext = $(\n",
       "        '<div class=\"ui-dialog-title\" style=\"width: 100%; ' +\n",
       "        'text-align: center; padding: 3px;\"/>');\n",
       "    titlebar.append(titletext)\n",
       "    this.root.append(titlebar);\n",
       "    this.header = titletext[0];\n",
       "}\n",
       "\n",
       "\n",
       "\n",
       "mpl.figure.prototype._canvas_extra_style = function(canvas_div) {\n",
       "\n",
       "}\n",
       "\n",
       "\n",
       "mpl.figure.prototype._root_extra_style = function(canvas_div) {\n",
       "\n",
       "}\n",
       "\n",
       "mpl.figure.prototype._init_canvas = function() {\n",
       "    var fig = this;\n",
       "\n",
       "    var canvas_div = $('<div/>');\n",
       "\n",
       "    canvas_div.attr('style', 'position: relative; clear: both; outline: 0');\n",
       "\n",
       "    function canvas_keyboard_event(event) {\n",
       "        return fig.key_event(event, event['data']);\n",
       "    }\n",
       "\n",
       "    canvas_div.keydown('key_press', canvas_keyboard_event);\n",
       "    canvas_div.keyup('key_release', canvas_keyboard_event);\n",
       "    this.canvas_div = canvas_div\n",
       "    this._canvas_extra_style(canvas_div)\n",
       "    this.root.append(canvas_div);\n",
       "\n",
       "    var canvas = $('<canvas/>');\n",
       "    canvas.addClass('mpl-canvas');\n",
       "    canvas.attr('style', \"left: 0; top: 0; z-index: 0; outline: 0\")\n",
       "\n",
       "    this.canvas = canvas[0];\n",
       "    this.context = canvas[0].getContext(\"2d\");\n",
       "\n",
       "    var rubberband = $('<canvas/>');\n",
       "    rubberband.attr('style', \"position: absolute; left: 0; top: 0; z-index: 1;\")\n",
       "\n",
       "    var pass_mouse_events = true;\n",
       "\n",
       "    canvas_div.resizable({\n",
       "        start: function(event, ui) {\n",
       "            pass_mouse_events = false;\n",
       "        },\n",
       "        resize: function(event, ui) {\n",
       "            fig.request_resize(ui.size.width, ui.size.height);\n",
       "        },\n",
       "        stop: function(event, ui) {\n",
       "            pass_mouse_events = true;\n",
       "            fig.request_resize(ui.size.width, ui.size.height);\n",
       "        },\n",
       "    });\n",
       "\n",
       "    function mouse_event_fn(event) {\n",
       "        if (pass_mouse_events)\n",
       "            return fig.mouse_event(event, event['data']);\n",
       "    }\n",
       "\n",
       "    rubberband.mousedown('button_press', mouse_event_fn);\n",
       "    rubberband.mouseup('button_release', mouse_event_fn);\n",
       "    // Throttle sequential mouse events to 1 every 20ms.\n",
       "    rubberband.mousemove('motion_notify', mouse_event_fn);\n",
       "\n",
       "    rubberband.mouseenter('figure_enter', mouse_event_fn);\n",
       "    rubberband.mouseleave('figure_leave', mouse_event_fn);\n",
       "\n",
       "    canvas_div.on(\"wheel\", function (event) {\n",
       "        event = event.originalEvent;\n",
       "        event['data'] = 'scroll'\n",
       "        if (event.deltaY < 0) {\n",
       "            event.step = 1;\n",
       "        } else {\n",
       "            event.step = -1;\n",
       "        }\n",
       "        mouse_event_fn(event);\n",
       "    });\n",
       "\n",
       "    canvas_div.append(canvas);\n",
       "    canvas_div.append(rubberband);\n",
       "\n",
       "    this.rubberband = rubberband;\n",
       "    this.rubberband_canvas = rubberband[0];\n",
       "    this.rubberband_context = rubberband[0].getContext(\"2d\");\n",
       "    this.rubberband_context.strokeStyle = \"#000000\";\n",
       "\n",
       "    this._resize_canvas = function(width, height) {\n",
       "        // Keep the size of the canvas, canvas container, and rubber band\n",
       "        // canvas in synch.\n",
       "        canvas_div.css('width', width)\n",
       "        canvas_div.css('height', height)\n",
       "\n",
       "        canvas.attr('width', width);\n",
       "        canvas.attr('height', height);\n",
       "\n",
       "        rubberband.attr('width', width);\n",
       "        rubberband.attr('height', height);\n",
       "    }\n",
       "\n",
       "    // Set the figure to an initial 600x600px, this will subsequently be updated\n",
       "    // upon first draw.\n",
       "    this._resize_canvas(600, 600);\n",
       "\n",
       "    // Disable right mouse context menu.\n",
       "    $(this.rubberband_canvas).bind(\"contextmenu\",function(e){\n",
       "        return false;\n",
       "    });\n",
       "\n",
       "    function set_focus () {\n",
       "        canvas.focus();\n",
       "        canvas_div.focus();\n",
       "    }\n",
       "\n",
       "    window.setTimeout(set_focus, 100);\n",
       "}\n",
       "\n",
       "mpl.figure.prototype._init_toolbar = function() {\n",
       "    var fig = this;\n",
       "\n",
       "    var nav_element = $('<div/>')\n",
       "    nav_element.attr('style', 'width: 100%');\n",
       "    this.root.append(nav_element);\n",
       "\n",
       "    // Define a callback function for later on.\n",
       "    function toolbar_event(event) {\n",
       "        return fig.toolbar_button_onclick(event['data']);\n",
       "    }\n",
       "    function toolbar_mouse_event(event) {\n",
       "        return fig.toolbar_button_onmouseover(event['data']);\n",
       "    }\n",
       "\n",
       "    for(var toolbar_ind in mpl.toolbar_items) {\n",
       "        var name = mpl.toolbar_items[toolbar_ind][0];\n",
       "        var tooltip = mpl.toolbar_items[toolbar_ind][1];\n",
       "        var image = mpl.toolbar_items[toolbar_ind][2];\n",
       "        var method_name = mpl.toolbar_items[toolbar_ind][3];\n",
       "\n",
       "        if (!name) {\n",
       "            // put a spacer in here.\n",
       "            continue;\n",
       "        }\n",
       "        var button = $('<button/>');\n",
       "        button.addClass('ui-button ui-widget ui-state-default ui-corner-all ' +\n",
       "                        'ui-button-icon-only');\n",
       "        button.attr('role', 'button');\n",
       "        button.attr('aria-disabled', 'false');\n",
       "        button.click(method_name, toolbar_event);\n",
       "        button.mouseover(tooltip, toolbar_mouse_event);\n",
       "\n",
       "        var icon_img = $('<span/>');\n",
       "        icon_img.addClass('ui-button-icon-primary ui-icon');\n",
       "        icon_img.addClass(image);\n",
       "        icon_img.addClass('ui-corner-all');\n",
       "\n",
       "        var tooltip_span = $('<span/>');\n",
       "        tooltip_span.addClass('ui-button-text');\n",
       "        tooltip_span.html(tooltip);\n",
       "\n",
       "        button.append(icon_img);\n",
       "        button.append(tooltip_span);\n",
       "\n",
       "        nav_element.append(button);\n",
       "    }\n",
       "\n",
       "    var fmt_picker_span = $('<span/>');\n",
       "\n",
       "    var fmt_picker = $('<select/>');\n",
       "    fmt_picker.addClass('mpl-toolbar-option ui-widget ui-widget-content');\n",
       "    fmt_picker_span.append(fmt_picker);\n",
       "    nav_element.append(fmt_picker_span);\n",
       "    this.format_dropdown = fmt_picker[0];\n",
       "\n",
       "    for (var ind in mpl.extensions) {\n",
       "        var fmt = mpl.extensions[ind];\n",
       "        var option = $(\n",
       "            '<option/>', {selected: fmt === mpl.default_extension}).html(fmt);\n",
       "        fmt_picker.append(option)\n",
       "    }\n",
       "\n",
       "    // Add hover states to the ui-buttons\n",
       "    $( \".ui-button\" ).hover(\n",
       "        function() { $(this).addClass(\"ui-state-hover\");},\n",
       "        function() { $(this).removeClass(\"ui-state-hover\");}\n",
       "    );\n",
       "\n",
       "    var status_bar = $('<span class=\"mpl-message\"/>');\n",
       "    nav_element.append(status_bar);\n",
       "    this.message = status_bar[0];\n",
       "}\n",
       "\n",
       "mpl.figure.prototype.request_resize = function(x_pixels, y_pixels) {\n",
       "    // Request matplotlib to resize the figure. Matplotlib will then trigger a resize in the client,\n",
       "    // which will in turn request a refresh of the image.\n",
       "    this.send_message('resize', {'width': x_pixels, 'height': y_pixels});\n",
       "}\n",
       "\n",
       "mpl.figure.prototype.send_message = function(type, properties) {\n",
       "    properties['type'] = type;\n",
       "    properties['figure_id'] = this.id;\n",
       "    this.ws.send(JSON.stringify(properties));\n",
       "}\n",
       "\n",
       "mpl.figure.prototype.send_draw_message = function() {\n",
       "    if (!this.waiting) {\n",
       "        this.waiting = true;\n",
       "        this.ws.send(JSON.stringify({type: \"draw\", figure_id: this.id}));\n",
       "    }\n",
       "}\n",
       "\n",
       "\n",
       "mpl.figure.prototype.handle_save = function(fig, msg) {\n",
       "    var format_dropdown = fig.format_dropdown;\n",
       "    var format = format_dropdown.options[format_dropdown.selectedIndex].value;\n",
       "    fig.ondownload(fig, format);\n",
       "}\n",
       "\n",
       "\n",
       "mpl.figure.prototype.handle_resize = function(fig, msg) {\n",
       "    var size = msg['size'];\n",
       "    if (size[0] != fig.canvas.width || size[1] != fig.canvas.height) {\n",
       "        fig._resize_canvas(size[0], size[1]);\n",
       "        fig.send_message(\"refresh\", {});\n",
       "    };\n",
       "}\n",
       "\n",
       "mpl.figure.prototype.handle_rubberband = function(fig, msg) {\n",
       "    var x0 = msg['x0'];\n",
       "    var y0 = fig.canvas.height - msg['y0'];\n",
       "    var x1 = msg['x1'];\n",
       "    var y1 = fig.canvas.height - msg['y1'];\n",
       "    x0 = Math.floor(x0) + 0.5;\n",
       "    y0 = Math.floor(y0) + 0.5;\n",
       "    x1 = Math.floor(x1) + 0.5;\n",
       "    y1 = Math.floor(y1) + 0.5;\n",
       "    var min_x = Math.min(x0, x1);\n",
       "    var min_y = Math.min(y0, y1);\n",
       "    var width = Math.abs(x1 - x0);\n",
       "    var height = Math.abs(y1 - y0);\n",
       "\n",
       "    fig.rubberband_context.clearRect(\n",
       "        0, 0, fig.canvas.width, fig.canvas.height);\n",
       "\n",
       "    fig.rubberband_context.strokeRect(min_x, min_y, width, height);\n",
       "}\n",
       "\n",
       "mpl.figure.prototype.handle_figure_label = function(fig, msg) {\n",
       "    // Updates the figure title.\n",
       "    fig.header.textContent = msg['label'];\n",
       "}\n",
       "\n",
       "mpl.figure.prototype.handle_cursor = function(fig, msg) {\n",
       "    var cursor = msg['cursor'];\n",
       "    switch(cursor)\n",
       "    {\n",
       "    case 0:\n",
       "        cursor = 'pointer';\n",
       "        break;\n",
       "    case 1:\n",
       "        cursor = 'default';\n",
       "        break;\n",
       "    case 2:\n",
       "        cursor = 'crosshair';\n",
       "        break;\n",
       "    case 3:\n",
       "        cursor = 'move';\n",
       "        break;\n",
       "    }\n",
       "    fig.rubberband_canvas.style.cursor = cursor;\n",
       "}\n",
       "\n",
       "mpl.figure.prototype.handle_message = function(fig, msg) {\n",
       "    fig.message.textContent = msg['message'];\n",
       "}\n",
       "\n",
       "mpl.figure.prototype.handle_draw = function(fig, msg) {\n",
       "    // Request the server to send over a new figure.\n",
       "    fig.send_draw_message();\n",
       "}\n",
       "\n",
       "mpl.figure.prototype.handle_image_mode = function(fig, msg) {\n",
       "    fig.image_mode = msg['mode'];\n",
       "}\n",
       "\n",
       "mpl.figure.prototype.updated_canvas_event = function() {\n",
       "    // Called whenever the canvas gets updated.\n",
       "    this.send_message(\"ack\", {});\n",
       "}\n",
       "\n",
       "// A function to construct a web socket function for onmessage handling.\n",
       "// Called in the figure constructor.\n",
       "mpl.figure.prototype._make_on_message_function = function(fig) {\n",
       "    return function socket_on_message(evt) {\n",
       "        if (evt.data instanceof Blob) {\n",
       "            /* FIXME: We get \"Resource interpreted as Image but\n",
       "             * transferred with MIME type text/plain:\" errors on\n",
       "             * Chrome.  But how to set the MIME type?  It doesn't seem\n",
       "             * to be part of the websocket stream */\n",
       "            evt.data.type = \"image/png\";\n",
       "\n",
       "            /* Free the memory for the previous frames */\n",
       "            if (fig.imageObj.src) {\n",
       "                (window.URL || window.webkitURL).revokeObjectURL(\n",
       "                    fig.imageObj.src);\n",
       "            }\n",
       "\n",
       "            fig.imageObj.src = (window.URL || window.webkitURL).createObjectURL(\n",
       "                evt.data);\n",
       "            fig.updated_canvas_event();\n",
       "            fig.waiting = false;\n",
       "            return;\n",
       "        }\n",
       "        else if (typeof evt.data === 'string' && evt.data.slice(0, 21) == \"data:image/png;base64\") {\n",
       "            fig.imageObj.src = evt.data;\n",
       "            fig.updated_canvas_event();\n",
       "            fig.waiting = false;\n",
       "            return;\n",
       "        }\n",
       "\n",
       "        var msg = JSON.parse(evt.data);\n",
       "        var msg_type = msg['type'];\n",
       "\n",
       "        // Call the  \"handle_{type}\" callback, which takes\n",
       "        // the figure and JSON message as its only arguments.\n",
       "        try {\n",
       "            var callback = fig[\"handle_\" + msg_type];\n",
       "        } catch (e) {\n",
       "            console.log(\"No handler for the '\" + msg_type + \"' message type: \", msg);\n",
       "            return;\n",
       "        }\n",
       "\n",
       "        if (callback) {\n",
       "            try {\n",
       "                // console.log(\"Handling '\" + msg_type + \"' message: \", msg);\n",
       "                callback(fig, msg);\n",
       "            } catch (e) {\n",
       "                console.log(\"Exception inside the 'handler_\" + msg_type + \"' callback:\", e, e.stack, msg);\n",
       "            }\n",
       "        }\n",
       "    };\n",
       "}\n",
       "\n",
       "// from http://stackoverflow.com/questions/1114465/getting-mouse-location-in-canvas\n",
       "mpl.findpos = function(e) {\n",
       "    //this section is from http://www.quirksmode.org/js/events_properties.html\n",
       "    var targ;\n",
       "    if (!e)\n",
       "        e = window.event;\n",
       "    if (e.target)\n",
       "        targ = e.target;\n",
       "    else if (e.srcElement)\n",
       "        targ = e.srcElement;\n",
       "    if (targ.nodeType == 3) // defeat Safari bug\n",
       "        targ = targ.parentNode;\n",
       "\n",
       "    // jQuery normalizes the pageX and pageY\n",
       "    // pageX,Y are the mouse positions relative to the document\n",
       "    // offset() returns the position of the element relative to the document\n",
       "    var x = e.pageX - $(targ).offset().left;\n",
       "    var y = e.pageY - $(targ).offset().top;\n",
       "\n",
       "    return {\"x\": x, \"y\": y};\n",
       "};\n",
       "\n",
       "/*\n",
       " * return a copy of an object with only non-object keys\n",
       " * we need this to avoid circular references\n",
       " * http://stackoverflow.com/a/24161582/3208463\n",
       " */\n",
       "function simpleKeys (original) {\n",
       "  return Object.keys(original).reduce(function (obj, key) {\n",
       "    if (typeof original[key] !== 'object')\n",
       "        obj[key] = original[key]\n",
       "    return obj;\n",
       "  }, {});\n",
       "}\n",
       "\n",
       "mpl.figure.prototype.mouse_event = function(event, name) {\n",
       "    var canvas_pos = mpl.findpos(event)\n",
       "\n",
       "    if (name === 'button_press')\n",
       "    {\n",
       "        this.canvas.focus();\n",
       "        this.canvas_div.focus();\n",
       "    }\n",
       "\n",
       "    var x = canvas_pos.x;\n",
       "    var y = canvas_pos.y;\n",
       "\n",
       "    this.send_message(name, {x: x, y: y, button: event.button,\n",
       "                             step: event.step,\n",
       "                             guiEvent: simpleKeys(event)});\n",
       "\n",
       "    /* This prevents the web browser from automatically changing to\n",
       "     * the text insertion cursor when the button is pressed.  We want\n",
       "     * to control all of the cursor setting manually through the\n",
       "     * 'cursor' event from matplotlib */\n",
       "    event.preventDefault();\n",
       "    return false;\n",
       "}\n",
       "\n",
       "mpl.figure.prototype._key_event_extra = function(event, name) {\n",
       "    // Handle any extra behaviour associated with a key event\n",
       "}\n",
       "\n",
       "mpl.figure.prototype.key_event = function(event, name) {\n",
       "\n",
       "    // Prevent repeat events\n",
       "    if (name == 'key_press')\n",
       "    {\n",
       "        if (event.which === this._key)\n",
       "            return;\n",
       "        else\n",
       "            this._key = event.which;\n",
       "    }\n",
       "    if (name == 'key_release')\n",
       "        this._key = null;\n",
       "\n",
       "    var value = '';\n",
       "    if (event.ctrlKey && event.which != 17)\n",
       "        value += \"ctrl+\";\n",
       "    if (event.altKey && event.which != 18)\n",
       "        value += \"alt+\";\n",
       "    if (event.shiftKey && event.which != 16)\n",
       "        value += \"shift+\";\n",
       "\n",
       "    value += 'k';\n",
       "    value += event.which.toString();\n",
       "\n",
       "    this._key_event_extra(event, name);\n",
       "\n",
       "    this.send_message(name, {key: value,\n",
       "                             guiEvent: simpleKeys(event)});\n",
       "    return false;\n",
       "}\n",
       "\n",
       "mpl.figure.prototype.toolbar_button_onclick = function(name) {\n",
       "    if (name == 'download') {\n",
       "        this.handle_save(this, null);\n",
       "    } else {\n",
       "        this.send_message(\"toolbar_button\", {name: name});\n",
       "    }\n",
       "};\n",
       "\n",
       "mpl.figure.prototype.toolbar_button_onmouseover = function(tooltip) {\n",
       "    this.message.textContent = tooltip;\n",
       "};\n",
       "mpl.toolbar_items = [[\"Home\", \"Reset original view\", \"fa fa-home icon-home\", \"home\"], [\"Back\", \"Back to  previous view\", \"fa fa-arrow-left icon-arrow-left\", \"back\"], [\"Forward\", \"Forward to next view\", \"fa fa-arrow-right icon-arrow-right\", \"forward\"], [\"\", \"\", \"\", \"\"], [\"Pan\", \"Pan axes with left mouse, zoom with right\", \"fa fa-arrows icon-move\", \"pan\"], [\"Zoom\", \"Zoom to rectangle\", \"fa fa-square-o icon-check-empty\", \"zoom\"], [\"\", \"\", \"\", \"\"], [\"Download\", \"Download plot\", \"fa fa-floppy-o icon-save\", \"download\"]];\n",
       "\n",
       "mpl.extensions = [\"eps\", \"pdf\", \"png\", \"ps\", \"raw\", \"svg\"];\n",
       "\n",
       "mpl.default_extension = \"png\";var comm_websocket_adapter = function(comm) {\n",
       "    // Create a \"websocket\"-like object which calls the given IPython comm\n",
       "    // object with the appropriate methods. Currently this is a non binary\n",
       "    // socket, so there is still some room for performance tuning.\n",
       "    var ws = {};\n",
       "\n",
       "    ws.close = function() {\n",
       "        comm.close()\n",
       "    };\n",
       "    ws.send = function(m) {\n",
       "        //console.log('sending', m);\n",
       "        comm.send(m);\n",
       "    };\n",
       "    // Register the callback with on_msg.\n",
       "    comm.on_msg(function(msg) {\n",
       "        //console.log('receiving', msg['content']['data'], msg);\n",
       "        // Pass the mpl event to the overriden (by mpl) onmessage function.\n",
       "        ws.onmessage(msg['content']['data'])\n",
       "    });\n",
       "    return ws;\n",
       "}\n",
       "\n",
       "mpl.mpl_figure_comm = function(comm, msg) {\n",
       "    // This is the function which gets called when the mpl process\n",
       "    // starts-up an IPython Comm through the \"matplotlib\" channel.\n",
       "\n",
       "    var id = msg.content.data.id;\n",
       "    // Get hold of the div created by the display call when the Comm\n",
       "    // socket was opened in Python.\n",
       "    var element = $(\"#\" + id);\n",
       "    var ws_proxy = comm_websocket_adapter(comm)\n",
       "\n",
       "    function ondownload(figure, format) {\n",
       "        window.open(figure.imageObj.src);\n",
       "    }\n",
       "\n",
       "    var fig = new mpl.figure(id, ws_proxy,\n",
       "                           ondownload,\n",
       "                           element.get(0));\n",
       "\n",
       "    // Call onopen now - mpl needs it, as it is assuming we've passed it a real\n",
       "    // web socket which is closed, not our websocket->open comm proxy.\n",
       "    ws_proxy.onopen();\n",
       "\n",
       "    fig.parent_element = element.get(0);\n",
       "    fig.cell_info = mpl.find_output_cell(\"<div id='\" + id + \"'></div>\");\n",
       "    if (!fig.cell_info) {\n",
       "        console.error(\"Failed to find cell for figure\", id, fig);\n",
       "        return;\n",
       "    }\n",
       "\n",
       "    var output_index = fig.cell_info[2]\n",
       "    var cell = fig.cell_info[0];\n",
       "\n",
       "};\n",
       "\n",
       "mpl.figure.prototype.handle_close = function(fig, msg) {\n",
       "    fig.root.unbind('remove')\n",
       "\n",
       "    // Update the output cell to use the data from the current canvas.\n",
       "    fig.push_to_output();\n",
       "    var dataURL = fig.canvas.toDataURL();\n",
       "    // Re-enable the keyboard manager in IPython - without this line, in FF,\n",
       "    // the notebook keyboard shortcuts fail.\n",
       "    IPython.keyboard_manager.enable()\n",
       "    $(fig.parent_element).html('<img src=\"' + dataURL + '\">');\n",
       "    fig.close_ws(fig, msg);\n",
       "}\n",
       "\n",
       "mpl.figure.prototype.close_ws = function(fig, msg){\n",
       "    fig.send_message('closing', msg);\n",
       "    // fig.ws.close()\n",
       "}\n",
       "\n",
       "mpl.figure.prototype.push_to_output = function(remove_interactive) {\n",
       "    // Turn the data on the canvas into data in the output cell.\n",
       "    var dataURL = this.canvas.toDataURL();\n",
       "    this.cell_info[1]['text/html'] = '<img src=\"' + dataURL + '\">';\n",
       "}\n",
       "\n",
       "mpl.figure.prototype.updated_canvas_event = function() {\n",
       "    // Tell IPython that the notebook contents must change.\n",
       "    IPython.notebook.set_dirty(true);\n",
       "    this.send_message(\"ack\", {});\n",
       "    var fig = this;\n",
       "    // Wait a second, then push the new image to the DOM so\n",
       "    // that it is saved nicely (might be nice to debounce this).\n",
       "    setTimeout(function () { fig.push_to_output() }, 1000);\n",
       "}\n",
       "\n",
       "mpl.figure.prototype._init_toolbar = function() {\n",
       "    var fig = this;\n",
       "\n",
       "    var nav_element = $('<div/>')\n",
       "    nav_element.attr('style', 'width: 100%');\n",
       "    this.root.append(nav_element);\n",
       "\n",
       "    // Define a callback function for later on.\n",
       "    function toolbar_event(event) {\n",
       "        return fig.toolbar_button_onclick(event['data']);\n",
       "    }\n",
       "    function toolbar_mouse_event(event) {\n",
       "        return fig.toolbar_button_onmouseover(event['data']);\n",
       "    }\n",
       "\n",
       "    for(var toolbar_ind in mpl.toolbar_items){\n",
       "        var name = mpl.toolbar_items[toolbar_ind][0];\n",
       "        var tooltip = mpl.toolbar_items[toolbar_ind][1];\n",
       "        var image = mpl.toolbar_items[toolbar_ind][2];\n",
       "        var method_name = mpl.toolbar_items[toolbar_ind][3];\n",
       "\n",
       "        if (!name) { continue; };\n",
       "\n",
       "        var button = $('<button class=\"btn btn-default\" href=\"#\" title=\"' + name + '\"><i class=\"fa ' + image + ' fa-lg\"></i></button>');\n",
       "        button.click(method_name, toolbar_event);\n",
       "        button.mouseover(tooltip, toolbar_mouse_event);\n",
       "        nav_element.append(button);\n",
       "    }\n",
       "\n",
       "    // Add the status bar.\n",
       "    var status_bar = $('<span class=\"mpl-message\" style=\"text-align:right; float: right;\"/>');\n",
       "    nav_element.append(status_bar);\n",
       "    this.message = status_bar[0];\n",
       "\n",
       "    // Add the close button to the window.\n",
       "    var buttongrp = $('<div class=\"btn-group inline pull-right\"></div>');\n",
       "    var button = $('<button class=\"btn btn-mini btn-primary\" href=\"#\" title=\"Stop Interaction\"><i class=\"fa fa-power-off icon-remove icon-large\"></i></button>');\n",
       "    button.click(function (evt) { fig.handle_close(fig, {}); } );\n",
       "    button.mouseover('Stop Interaction', toolbar_mouse_event);\n",
       "    buttongrp.append(button);\n",
       "    var titlebar = this.root.find($('.ui-dialog-titlebar'));\n",
       "    titlebar.prepend(buttongrp);\n",
       "}\n",
       "\n",
       "mpl.figure.prototype._root_extra_style = function(el){\n",
       "    var fig = this\n",
       "    el.on(\"remove\", function(){\n",
       "\tfig.close_ws(fig, {});\n",
       "    });\n",
       "}\n",
       "\n",
       "mpl.figure.prototype._canvas_extra_style = function(el){\n",
       "    // this is important to make the div 'focusable\n",
       "    el.attr('tabindex', 0)\n",
       "    // reach out to IPython and tell the keyboard manager to turn it's self\n",
       "    // off when our div gets focus\n",
       "\n",
       "    // location in version 3\n",
       "    if (IPython.notebook.keyboard_manager) {\n",
       "        IPython.notebook.keyboard_manager.register_events(el);\n",
       "    }\n",
       "    else {\n",
       "        // location in version 2\n",
       "        IPython.keyboard_manager.register_events(el);\n",
       "    }\n",
       "\n",
       "}\n",
       "\n",
       "mpl.figure.prototype._key_event_extra = function(event, name) {\n",
       "    var manager = IPython.notebook.keyboard_manager;\n",
       "    if (!manager)\n",
       "        manager = IPython.keyboard_manager;\n",
       "\n",
       "    // Check for shift+enter\n",
       "    if (event.shiftKey && event.which == 13) {\n",
       "        this.canvas_div.blur();\n",
       "        event.shiftKey = false;\n",
       "        // Send a \"J\" for go to next cell\n",
       "        event.which = 74;\n",
       "        event.keyCode = 74;\n",
       "        manager.command_mode();\n",
       "        manager.handle_keydown(event);\n",
       "    }\n",
       "}\n",
       "\n",
       "mpl.figure.prototype.handle_save = function(fig, msg) {\n",
       "    fig.ondownload(fig, null);\n",
       "}\n",
       "\n",
       "\n",
       "mpl.find_output_cell = function(html_output) {\n",
       "    // Return the cell and output element which can be found *uniquely* in the notebook.\n",
       "    // Note - this is a bit hacky, but it is done because the \"notebook_saving.Notebook\"\n",
       "    // IPython event is triggered only after the cells have been serialised, which for\n",
       "    // our purposes (turning an active figure into a static one), is too late.\n",
       "    var cells = IPython.notebook.get_cells();\n",
       "    var ncells = cells.length;\n",
       "    for (var i=0; i<ncells; i++) {\n",
       "        var cell = cells[i];\n",
       "        if (cell.cell_type === 'code'){\n",
       "            for (var j=0; j<cell.output_area.outputs.length; j++) {\n",
       "                var data = cell.output_area.outputs[j];\n",
       "                if (data.data) {\n",
       "                    // IPython >= 3 moved mimebundle to data attribute of output\n",
       "                    data = data.data;\n",
       "                }\n",
       "                if (data['text/html'] == html_output) {\n",
       "                    return [cell, data, j];\n",
       "                }\n",
       "            }\n",
       "        }\n",
       "    }\n",
       "}\n",
       "\n",
       "// Register the function which deals with the matplotlib target/channel.\n",
       "// The kernel may be null if the page has been refreshed.\n",
       "if (IPython.notebook.kernel != null) {\n",
       "    IPython.notebook.kernel.comm_manager.register_target('matplotlib', mpl.mpl_figure_comm);\n",
       "}\n"
      ],
      "text/plain": [
       "<IPython.core.display.Javascript object>"
      ]
     },
     "metadata": {},
     "output_type": "display_data"
    },
    {
     "data": {
      "text/html": [
       "<img src=\"data:image/png;base64,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\">"
      ],
      "text/plain": [
       "<IPython.core.display.HTML object>"
      ]
     },
     "metadata": {},
     "output_type": "display_data"
    }
   ],
   "source": [
    "H.plot(hh.load(\"./slice_GtoM.h5\"), min=0.0)"
   ]
  },
  {
   "cell_type": "code",
   "execution_count": 45,
   "metadata": {
    "collapsed": true
   },
   "outputs": [],
   "source": [
    "# Now try slicing along the M -> X path"
   ]
  },
  {
   "cell_type": "code",
   "execution_count": 38,
   "metadata": {
    "collapsed": false
   },
   "outputs": [
    {
     "name": "stdout",
     "output_type": "stream",
     "text": [
      "Writing slice_MtoX_v3.yml\n"
     ]
    }
   ],
   "source": [
    "%%file slice_MtoX_v3.yml\n",
    "\n",
    "angles: -90,90.1,1.0\n",
    "filename_pattern: work_%(angle)s/reduced_%(angle)s.nxs\n",
    "lattice: 5., 5., 5., 90, 90, 90\n",
    "orientation:\n",
    " u: 1, 0, 2\n",
    " v: 1,0,0\n",
    "Eaxis:\n",
    " min: 0\n",
    " max: 50\n",
    " N: 100\n",
    "Q_projections:\n",
    " U:\n",
    "  proj: 0,1,0\n",
    "  proj_name: 0,K,0\n",
    "  min: -5.0\n",
    "  max: 0.0\n",
    "  N: 250\n",
    " V:\n",
    "  proj: 1,0,0\n",
    "  proj_name: H,0,0\n",
    "  min: 0.4\n",
    "  max: 0.6\n",
    "  N: 1\n",
    " W:\n",
    "  proj: 0,0,1\n",
    "  proj_name: 0,0,L\n",
    "  min: -0.1\n",
    "  max: 0.1\n",
    "  N: 1\n",
    "output: slice_MtoX_v3.nxs"
   ]
  },
  {
   "cell_type": "code",
   "execution_count": 39,
   "metadata": {
    "collapsed": false
   },
   "outputs": [],
   "source": [
    "! PYTHONPATH=$PWD:$PYTHONPATH ./scripts/reduce/getaslice.py slice_MtoX_v3.yml > log.slice_MtoX_v3"
   ]
  },
  {
   "cell_type": "code",
   "execution_count": 40,
   "metadata": {
    "collapsed": false
   },
   "outputs": [
    {
     "name": "stdout",
     "output_type": "stream",
     "text": [
      "FrameworkManager-[Notice] Welcome to Mantid 3.6.100\n",
      "FrameworkManager-[Notice] Please cite: http://dx.doi.org/10.1016/j.nima.2014.07.029 and this release: http://dx.doi.org/10.5286/Software/Mantid3.6.100\n",
      "Load-[Notice] Load started\n",
      "Load-[Notice] Load successful, Duration 0.92 seconds\n"
     ]
    }
   ],
   "source": [
    "!./scripts/reduce/slice2hist.py \"slice_MtoX_v3.nxs\" slice_MtoX_v3.h5"
   ]
  },
  {
   "cell_type": "code",
   "execution_count": 41,
   "metadata": {
    "collapsed": false
   },
   "outputs": [
    {
     "name": "stdout",
     "output_type": "stream",
     "text": [
      "plot z in (0, 1.04257335708e-05)\n"
     ]
    },
    {
     "data": {
      "application/javascript": [
       "/* Put everything inside the global mpl namespace */\n",
       "window.mpl = {};\n",
       "\n",
       "mpl.get_websocket_type = function() {\n",
       "    if (typeof(WebSocket) !== 'undefined') {\n",
       "        return WebSocket;\n",
       "    } else if (typeof(MozWebSocket) !== 'undefined') {\n",
       "        return MozWebSocket;\n",
       "    } else {\n",
       "        alert('Your browser does not have WebSocket support.' +\n",
       "              'Please try Chrome, Safari or Firefox ≥ 6. ' +\n",
       "              'Firefox 4 and 5 are also supported but you ' +\n",
       "              'have to enable WebSockets in about:config.');\n",
       "    };\n",
       "}\n",
       "\n",
       "mpl.figure = function(figure_id, websocket, ondownload, parent_element) {\n",
       "    this.id = figure_id;\n",
       "\n",
       "    this.ws = websocket;\n",
       "\n",
       "    this.supports_binary = (this.ws.binaryType != undefined);\n",
       "\n",
       "    if (!this.supports_binary) {\n",
       "        var warnings = document.getElementById(\"mpl-warnings\");\n",
       "        if (warnings) {\n",
       "            warnings.style.display = 'block';\n",
       "            warnings.textContent = (\n",
       "                \"This browser does not support binary websocket messages. \" +\n",
       "                    \"Performance may be slow.\");\n",
       "        }\n",
       "    }\n",
       "\n",
       "    this.imageObj = new Image();\n",
       "\n",
       "    this.context = undefined;\n",
       "    this.message = undefined;\n",
       "    this.canvas = undefined;\n",
       "    this.rubberband_canvas = undefined;\n",
       "    this.rubberband_context = undefined;\n",
       "    this.format_dropdown = undefined;\n",
       "\n",
       "    this.image_mode = 'full';\n",
       "\n",
       "    this.root = $('<div/>');\n",
       "    this._root_extra_style(this.root)\n",
       "    this.root.attr('style', 'display: inline-block');\n",
       "\n",
       "    $(parent_element).append(this.root);\n",
       "\n",
       "    this._init_header(this);\n",
       "    this._init_canvas(this);\n",
       "    this._init_toolbar(this);\n",
       "\n",
       "    var fig = this;\n",
       "\n",
       "    this.waiting = false;\n",
       "\n",
       "    this.ws.onopen =  function () {\n",
       "            fig.send_message(\"supports_binary\", {value: fig.supports_binary});\n",
       "            fig.send_message(\"send_image_mode\", {});\n",
       "            fig.send_message(\"refresh\", {});\n",
       "        }\n",
       "\n",
       "    this.imageObj.onload = function() {\n",
       "            if (fig.image_mode == 'full') {\n",
       "                // Full images could contain transparency (where diff images\n",
       "                // almost always do), so we need to clear the canvas so that\n",
       "                // there is no ghosting.\n",
       "                fig.context.clearRect(0, 0, fig.canvas.width, fig.canvas.height);\n",
       "            }\n",
       "            fig.context.drawImage(fig.imageObj, 0, 0);\n",
       "        };\n",
       "\n",
       "    this.imageObj.onunload = function() {\n",
       "        this.ws.close();\n",
       "    }\n",
       "\n",
       "    this.ws.onmessage = this._make_on_message_function(this);\n",
       "\n",
       "    this.ondownload = ondownload;\n",
       "}\n",
       "\n",
       "mpl.figure.prototype._init_header = function() {\n",
       "    var titlebar = $(\n",
       "        '<div class=\"ui-dialog-titlebar ui-widget-header ui-corner-all ' +\n",
       "        'ui-helper-clearfix\"/>');\n",
       "    var titletext = $(\n",
       "        '<div class=\"ui-dialog-title\" style=\"width: 100%; ' +\n",
       "        'text-align: center; padding: 3px;\"/>');\n",
       "    titlebar.append(titletext)\n",
       "    this.root.append(titlebar);\n",
       "    this.header = titletext[0];\n",
       "}\n",
       "\n",
       "\n",
       "\n",
       "mpl.figure.prototype._canvas_extra_style = function(canvas_div) {\n",
       "\n",
       "}\n",
       "\n",
       "\n",
       "mpl.figure.prototype._root_extra_style = function(canvas_div) {\n",
       "\n",
       "}\n",
       "\n",
       "mpl.figure.prototype._init_canvas = function() {\n",
       "    var fig = this;\n",
       "\n",
       "    var canvas_div = $('<div/>');\n",
       "\n",
       "    canvas_div.attr('style', 'position: relative; clear: both; outline: 0');\n",
       "\n",
       "    function canvas_keyboard_event(event) {\n",
       "        return fig.key_event(event, event['data']);\n",
       "    }\n",
       "\n",
       "    canvas_div.keydown('key_press', canvas_keyboard_event);\n",
       "    canvas_div.keyup('key_release', canvas_keyboard_event);\n",
       "    this.canvas_div = canvas_div\n",
       "    this._canvas_extra_style(canvas_div)\n",
       "    this.root.append(canvas_div);\n",
       "\n",
       "    var canvas = $('<canvas/>');\n",
       "    canvas.addClass('mpl-canvas');\n",
       "    canvas.attr('style', \"left: 0; top: 0; z-index: 0; outline: 0\")\n",
       "\n",
       "    this.canvas = canvas[0];\n",
       "    this.context = canvas[0].getContext(\"2d\");\n",
       "\n",
       "    var rubberband = $('<canvas/>');\n",
       "    rubberband.attr('style', \"position: absolute; left: 0; top: 0; z-index: 1;\")\n",
       "\n",
       "    var pass_mouse_events = true;\n",
       "\n",
       "    canvas_div.resizable({\n",
       "        start: function(event, ui) {\n",
       "            pass_mouse_events = false;\n",
       "        },\n",
       "        resize: function(event, ui) {\n",
       "            fig.request_resize(ui.size.width, ui.size.height);\n",
       "        },\n",
       "        stop: function(event, ui) {\n",
       "            pass_mouse_events = true;\n",
       "            fig.request_resize(ui.size.width, ui.size.height);\n",
       "        },\n",
       "    });\n",
       "\n",
       "    function mouse_event_fn(event) {\n",
       "        if (pass_mouse_events)\n",
       "            return fig.mouse_event(event, event['data']);\n",
       "    }\n",
       "\n",
       "    rubberband.mousedown('button_press', mouse_event_fn);\n",
       "    rubberband.mouseup('button_release', mouse_event_fn);\n",
       "    // Throttle sequential mouse events to 1 every 20ms.\n",
       "    rubberband.mousemove('motion_notify', mouse_event_fn);\n",
       "\n",
       "    rubberband.mouseenter('figure_enter', mouse_event_fn);\n",
       "    rubberband.mouseleave('figure_leave', mouse_event_fn);\n",
       "\n",
       "    canvas_div.on(\"wheel\", function (event) {\n",
       "        event = event.originalEvent;\n",
       "        event['data'] = 'scroll'\n",
       "        if (event.deltaY < 0) {\n",
       "            event.step = 1;\n",
       "        } else {\n",
       "            event.step = -1;\n",
       "        }\n",
       "        mouse_event_fn(event);\n",
       "    });\n",
       "\n",
       "    canvas_div.append(canvas);\n",
       "    canvas_div.append(rubberband);\n",
       "\n",
       "    this.rubberband = rubberband;\n",
       "    this.rubberband_canvas = rubberband[0];\n",
       "    this.rubberband_context = rubberband[0].getContext(\"2d\");\n",
       "    this.rubberband_context.strokeStyle = \"#000000\";\n",
       "\n",
       "    this._resize_canvas = function(width, height) {\n",
       "        // Keep the size of the canvas, canvas container, and rubber band\n",
       "        // canvas in synch.\n",
       "        canvas_div.css('width', width)\n",
       "        canvas_div.css('height', height)\n",
       "\n",
       "        canvas.attr('width', width);\n",
       "        canvas.attr('height', height);\n",
       "\n",
       "        rubberband.attr('width', width);\n",
       "        rubberband.attr('height', height);\n",
       "    }\n",
       "\n",
       "    // Set the figure to an initial 600x600px, this will subsequently be updated\n",
       "    // upon first draw.\n",
       "    this._resize_canvas(600, 600);\n",
       "\n",
       "    // Disable right mouse context menu.\n",
       "    $(this.rubberband_canvas).bind(\"contextmenu\",function(e){\n",
       "        return false;\n",
       "    });\n",
       "\n",
       "    function set_focus () {\n",
       "        canvas.focus();\n",
       "        canvas_div.focus();\n",
       "    }\n",
       "\n",
       "    window.setTimeout(set_focus, 100);\n",
       "}\n",
       "\n",
       "mpl.figure.prototype._init_toolbar = function() {\n",
       "    var fig = this;\n",
       "\n",
       "    var nav_element = $('<div/>')\n",
       "    nav_element.attr('style', 'width: 100%');\n",
       "    this.root.append(nav_element);\n",
       "\n",
       "    // Define a callback function for later on.\n",
       "    function toolbar_event(event) {\n",
       "        return fig.toolbar_button_onclick(event['data']);\n",
       "    }\n",
       "    function toolbar_mouse_event(event) {\n",
       "        return fig.toolbar_button_onmouseover(event['data']);\n",
       "    }\n",
       "\n",
       "    for(var toolbar_ind in mpl.toolbar_items) {\n",
       "        var name = mpl.toolbar_items[toolbar_ind][0];\n",
       "        var tooltip = mpl.toolbar_items[toolbar_ind][1];\n",
       "        var image = mpl.toolbar_items[toolbar_ind][2];\n",
       "        var method_name = mpl.toolbar_items[toolbar_ind][3];\n",
       "\n",
       "        if (!name) {\n",
       "            // put a spacer in here.\n",
       "            continue;\n",
       "        }\n",
       "        var button = $('<button/>');\n",
       "        button.addClass('ui-button ui-widget ui-state-default ui-corner-all ' +\n",
       "                        'ui-button-icon-only');\n",
       "        button.attr('role', 'button');\n",
       "        button.attr('aria-disabled', 'false');\n",
       "        button.click(method_name, toolbar_event);\n",
       "        button.mouseover(tooltip, toolbar_mouse_event);\n",
       "\n",
       "        var icon_img = $('<span/>');\n",
       "        icon_img.addClass('ui-button-icon-primary ui-icon');\n",
       "        icon_img.addClass(image);\n",
       "        icon_img.addClass('ui-corner-all');\n",
       "\n",
       "        var tooltip_span = $('<span/>');\n",
       "        tooltip_span.addClass('ui-button-text');\n",
       "        tooltip_span.html(tooltip);\n",
       "\n",
       "        button.append(icon_img);\n",
       "        button.append(tooltip_span);\n",
       "\n",
       "        nav_element.append(button);\n",
       "    }\n",
       "\n",
       "    var fmt_picker_span = $('<span/>');\n",
       "\n",
       "    var fmt_picker = $('<select/>');\n",
       "    fmt_picker.addClass('mpl-toolbar-option ui-widget ui-widget-content');\n",
       "    fmt_picker_span.append(fmt_picker);\n",
       "    nav_element.append(fmt_picker_span);\n",
       "    this.format_dropdown = fmt_picker[0];\n",
       "\n",
       "    for (var ind in mpl.extensions) {\n",
       "        var fmt = mpl.extensions[ind];\n",
       "        var option = $(\n",
       "            '<option/>', {selected: fmt === mpl.default_extension}).html(fmt);\n",
       "        fmt_picker.append(option)\n",
       "    }\n",
       "\n",
       "    // Add hover states to the ui-buttons\n",
       "    $( \".ui-button\" ).hover(\n",
       "        function() { $(this).addClass(\"ui-state-hover\");},\n",
       "        function() { $(this).removeClass(\"ui-state-hover\");}\n",
       "    );\n",
       "\n",
       "    var status_bar = $('<span class=\"mpl-message\"/>');\n",
       "    nav_element.append(status_bar);\n",
       "    this.message = status_bar[0];\n",
       "}\n",
       "\n",
       "mpl.figure.prototype.request_resize = function(x_pixels, y_pixels) {\n",
       "    // Request matplotlib to resize the figure. Matplotlib will then trigger a resize in the client,\n",
       "    // which will in turn request a refresh of the image.\n",
       "    this.send_message('resize', {'width': x_pixels, 'height': y_pixels});\n",
       "}\n",
       "\n",
       "mpl.figure.prototype.send_message = function(type, properties) {\n",
       "    properties['type'] = type;\n",
       "    properties['figure_id'] = this.id;\n",
       "    this.ws.send(JSON.stringify(properties));\n",
       "}\n",
       "\n",
       "mpl.figure.prototype.send_draw_message = function() {\n",
       "    if (!this.waiting) {\n",
       "        this.waiting = true;\n",
       "        this.ws.send(JSON.stringify({type: \"draw\", figure_id: this.id}));\n",
       "    }\n",
       "}\n",
       "\n",
       "\n",
       "mpl.figure.prototype.handle_save = function(fig, msg) {\n",
       "    var format_dropdown = fig.format_dropdown;\n",
       "    var format = format_dropdown.options[format_dropdown.selectedIndex].value;\n",
       "    fig.ondownload(fig, format);\n",
       "}\n",
       "\n",
       "\n",
       "mpl.figure.prototype.handle_resize = function(fig, msg) {\n",
       "    var size = msg['size'];\n",
       "    if (size[0] != fig.canvas.width || size[1] != fig.canvas.height) {\n",
       "        fig._resize_canvas(size[0], size[1]);\n",
       "        fig.send_message(\"refresh\", {});\n",
       "    };\n",
       "}\n",
       "\n",
       "mpl.figure.prototype.handle_rubberband = function(fig, msg) {\n",
       "    var x0 = msg['x0'];\n",
       "    var y0 = fig.canvas.height - msg['y0'];\n",
       "    var x1 = msg['x1'];\n",
       "    var y1 = fig.canvas.height - msg['y1'];\n",
       "    x0 = Math.floor(x0) + 0.5;\n",
       "    y0 = Math.floor(y0) + 0.5;\n",
       "    x1 = Math.floor(x1) + 0.5;\n",
       "    y1 = Math.floor(y1) + 0.5;\n",
       "    var min_x = Math.min(x0, x1);\n",
       "    var min_y = Math.min(y0, y1);\n",
       "    var width = Math.abs(x1 - x0);\n",
       "    var height = Math.abs(y1 - y0);\n",
       "\n",
       "    fig.rubberband_context.clearRect(\n",
       "        0, 0, fig.canvas.width, fig.canvas.height);\n",
       "\n",
       "    fig.rubberband_context.strokeRect(min_x, min_y, width, height);\n",
       "}\n",
       "\n",
       "mpl.figure.prototype.handle_figure_label = function(fig, msg) {\n",
       "    // Updates the figure title.\n",
       "    fig.header.textContent = msg['label'];\n",
       "}\n",
       "\n",
       "mpl.figure.prototype.handle_cursor = function(fig, msg) {\n",
       "    var cursor = msg['cursor'];\n",
       "    switch(cursor)\n",
       "    {\n",
       "    case 0:\n",
       "        cursor = 'pointer';\n",
       "        break;\n",
       "    case 1:\n",
       "        cursor = 'default';\n",
       "        break;\n",
       "    case 2:\n",
       "        cursor = 'crosshair';\n",
       "        break;\n",
       "    case 3:\n",
       "        cursor = 'move';\n",
       "        break;\n",
       "    }\n",
       "    fig.rubberband_canvas.style.cursor = cursor;\n",
       "}\n",
       "\n",
       "mpl.figure.prototype.handle_message = function(fig, msg) {\n",
       "    fig.message.textContent = msg['message'];\n",
       "}\n",
       "\n",
       "mpl.figure.prototype.handle_draw = function(fig, msg) {\n",
       "    // Request the server to send over a new figure.\n",
       "    fig.send_draw_message();\n",
       "}\n",
       "\n",
       "mpl.figure.prototype.handle_image_mode = function(fig, msg) {\n",
       "    fig.image_mode = msg['mode'];\n",
       "}\n",
       "\n",
       "mpl.figure.prototype.updated_canvas_event = function() {\n",
       "    // Called whenever the canvas gets updated.\n",
       "    this.send_message(\"ack\", {});\n",
       "}\n",
       "\n",
       "// A function to construct a web socket function for onmessage handling.\n",
       "// Called in the figure constructor.\n",
       "mpl.figure.prototype._make_on_message_function = function(fig) {\n",
       "    return function socket_on_message(evt) {\n",
       "        if (evt.data instanceof Blob) {\n",
       "            /* FIXME: We get \"Resource interpreted as Image but\n",
       "             * transferred with MIME type text/plain:\" errors on\n",
       "             * Chrome.  But how to set the MIME type?  It doesn't seem\n",
       "             * to be part of the websocket stream */\n",
       "            evt.data.type = \"image/png\";\n",
       "\n",
       "            /* Free the memory for the previous frames */\n",
       "            if (fig.imageObj.src) {\n",
       "                (window.URL || window.webkitURL).revokeObjectURL(\n",
       "                    fig.imageObj.src);\n",
       "            }\n",
       "\n",
       "            fig.imageObj.src = (window.URL || window.webkitURL).createObjectURL(\n",
       "                evt.data);\n",
       "            fig.updated_canvas_event();\n",
       "            fig.waiting = false;\n",
       "            return;\n",
       "        }\n",
       "        else if (typeof evt.data === 'string' && evt.data.slice(0, 21) == \"data:image/png;base64\") {\n",
       "            fig.imageObj.src = evt.data;\n",
       "            fig.updated_canvas_event();\n",
       "            fig.waiting = false;\n",
       "            return;\n",
       "        }\n",
       "\n",
       "        var msg = JSON.parse(evt.data);\n",
       "        var msg_type = msg['type'];\n",
       "\n",
       "        // Call the  \"handle_{type}\" callback, which takes\n",
       "        // the figure and JSON message as its only arguments.\n",
       "        try {\n",
       "            var callback = fig[\"handle_\" + msg_type];\n",
       "        } catch (e) {\n",
       "            console.log(\"No handler for the '\" + msg_type + \"' message type: \", msg);\n",
       "            return;\n",
       "        }\n",
       "\n",
       "        if (callback) {\n",
       "            try {\n",
       "                // console.log(\"Handling '\" + msg_type + \"' message: \", msg);\n",
       "                callback(fig, msg);\n",
       "            } catch (e) {\n",
       "                console.log(\"Exception inside the 'handler_\" + msg_type + \"' callback:\", e, e.stack, msg);\n",
       "            }\n",
       "        }\n",
       "    };\n",
       "}\n",
       "\n",
       "// from http://stackoverflow.com/questions/1114465/getting-mouse-location-in-canvas\n",
       "mpl.findpos = function(e) {\n",
       "    //this section is from http://www.quirksmode.org/js/events_properties.html\n",
       "    var targ;\n",
       "    if (!e)\n",
       "        e = window.event;\n",
       "    if (e.target)\n",
       "        targ = e.target;\n",
       "    else if (e.srcElement)\n",
       "        targ = e.srcElement;\n",
       "    if (targ.nodeType == 3) // defeat Safari bug\n",
       "        targ = targ.parentNode;\n",
       "\n",
       "    // jQuery normalizes the pageX and pageY\n",
       "    // pageX,Y are the mouse positions relative to the document\n",
       "    // offset() returns the position of the element relative to the document\n",
       "    var x = e.pageX - $(targ).offset().left;\n",
       "    var y = e.pageY - $(targ).offset().top;\n",
       "\n",
       "    return {\"x\": x, \"y\": y};\n",
       "};\n",
       "\n",
       "/*\n",
       " * return a copy of an object with only non-object keys\n",
       " * we need this to avoid circular references\n",
       " * http://stackoverflow.com/a/24161582/3208463\n",
       " */\n",
       "function simpleKeys (original) {\n",
       "  return Object.keys(original).reduce(function (obj, key) {\n",
       "    if (typeof original[key] !== 'object')\n",
       "        obj[key] = original[key]\n",
       "    return obj;\n",
       "  }, {});\n",
       "}\n",
       "\n",
       "mpl.figure.prototype.mouse_event = function(event, name) {\n",
       "    var canvas_pos = mpl.findpos(event)\n",
       "\n",
       "    if (name === 'button_press')\n",
       "    {\n",
       "        this.canvas.focus();\n",
       "        this.canvas_div.focus();\n",
       "    }\n",
       "\n",
       "    var x = canvas_pos.x;\n",
       "    var y = canvas_pos.y;\n",
       "\n",
       "    this.send_message(name, {x: x, y: y, button: event.button,\n",
       "                             step: event.step,\n",
       "                             guiEvent: simpleKeys(event)});\n",
       "\n",
       "    /* This prevents the web browser from automatically changing to\n",
       "     * the text insertion cursor when the button is pressed.  We want\n",
       "     * to control all of the cursor setting manually through the\n",
       "     * 'cursor' event from matplotlib */\n",
       "    event.preventDefault();\n",
       "    return false;\n",
       "}\n",
       "\n",
       "mpl.figure.prototype._key_event_extra = function(event, name) {\n",
       "    // Handle any extra behaviour associated with a key event\n",
       "}\n",
       "\n",
       "mpl.figure.prototype.key_event = function(event, name) {\n",
       "\n",
       "    // Prevent repeat events\n",
       "    if (name == 'key_press')\n",
       "    {\n",
       "        if (event.which === this._key)\n",
       "            return;\n",
       "        else\n",
       "            this._key = event.which;\n",
       "    }\n",
       "    if (name == 'key_release')\n",
       "        this._key = null;\n",
       "\n",
       "    var value = '';\n",
       "    if (event.ctrlKey && event.which != 17)\n",
       "        value += \"ctrl+\";\n",
       "    if (event.altKey && event.which != 18)\n",
       "        value += \"alt+\";\n",
       "    if (event.shiftKey && event.which != 16)\n",
       "        value += \"shift+\";\n",
       "\n",
       "    value += 'k';\n",
       "    value += event.which.toString();\n",
       "\n",
       "    this._key_event_extra(event, name);\n",
       "\n",
       "    this.send_message(name, {key: value,\n",
       "                             guiEvent: simpleKeys(event)});\n",
       "    return false;\n",
       "}\n",
       "\n",
       "mpl.figure.prototype.toolbar_button_onclick = function(name) {\n",
       "    if (name == 'download') {\n",
       "        this.handle_save(this, null);\n",
       "    } else {\n",
       "        this.send_message(\"toolbar_button\", {name: name});\n",
       "    }\n",
       "};\n",
       "\n",
       "mpl.figure.prototype.toolbar_button_onmouseover = function(tooltip) {\n",
       "    this.message.textContent = tooltip;\n",
       "};\n",
       "mpl.toolbar_items = [[\"Home\", \"Reset original view\", \"fa fa-home icon-home\", \"home\"], [\"Back\", \"Back to  previous view\", \"fa fa-arrow-left icon-arrow-left\", \"back\"], [\"Forward\", \"Forward to next view\", \"fa fa-arrow-right icon-arrow-right\", \"forward\"], [\"\", \"\", \"\", \"\"], [\"Pan\", \"Pan axes with left mouse, zoom with right\", \"fa fa-arrows icon-move\", \"pan\"], [\"Zoom\", \"Zoom to rectangle\", \"fa fa-square-o icon-check-empty\", \"zoom\"], [\"\", \"\", \"\", \"\"], [\"Download\", \"Download plot\", \"fa fa-floppy-o icon-save\", \"download\"]];\n",
       "\n",
       "mpl.extensions = [\"eps\", \"pdf\", \"png\", \"ps\", \"raw\", \"svg\"];\n",
       "\n",
       "mpl.default_extension = \"png\";var comm_websocket_adapter = function(comm) {\n",
       "    // Create a \"websocket\"-like object which calls the given IPython comm\n",
       "    // object with the appropriate methods. Currently this is a non binary\n",
       "    // socket, so there is still some room for performance tuning.\n",
       "    var ws = {};\n",
       "\n",
       "    ws.close = function() {\n",
       "        comm.close()\n",
       "    };\n",
       "    ws.send = function(m) {\n",
       "        //console.log('sending', m);\n",
       "        comm.send(m);\n",
       "    };\n",
       "    // Register the callback with on_msg.\n",
       "    comm.on_msg(function(msg) {\n",
       "        //console.log('receiving', msg['content']['data'], msg);\n",
       "        // Pass the mpl event to the overriden (by mpl) onmessage function.\n",
       "        ws.onmessage(msg['content']['data'])\n",
       "    });\n",
       "    return ws;\n",
       "}\n",
       "\n",
       "mpl.mpl_figure_comm = function(comm, msg) {\n",
       "    // This is the function which gets called when the mpl process\n",
       "    // starts-up an IPython Comm through the \"matplotlib\" channel.\n",
       "\n",
       "    var id = msg.content.data.id;\n",
       "    // Get hold of the div created by the display call when the Comm\n",
       "    // socket was opened in Python.\n",
       "    var element = $(\"#\" + id);\n",
       "    var ws_proxy = comm_websocket_adapter(comm)\n",
       "\n",
       "    function ondownload(figure, format) {\n",
       "        window.open(figure.imageObj.src);\n",
       "    }\n",
       "\n",
       "    var fig = new mpl.figure(id, ws_proxy,\n",
       "                           ondownload,\n",
       "                           element.get(0));\n",
       "\n",
       "    // Call onopen now - mpl needs it, as it is assuming we've passed it a real\n",
       "    // web socket which is closed, not our websocket->open comm proxy.\n",
       "    ws_proxy.onopen();\n",
       "\n",
       "    fig.parent_element = element.get(0);\n",
       "    fig.cell_info = mpl.find_output_cell(\"<div id='\" + id + \"'></div>\");\n",
       "    if (!fig.cell_info) {\n",
       "        console.error(\"Failed to find cell for figure\", id, fig);\n",
       "        return;\n",
       "    }\n",
       "\n",
       "    var output_index = fig.cell_info[2]\n",
       "    var cell = fig.cell_info[0];\n",
       "\n",
       "};\n",
       "\n",
       "mpl.figure.prototype.handle_close = function(fig, msg) {\n",
       "    fig.root.unbind('remove')\n",
       "\n",
       "    // Update the output cell to use the data from the current canvas.\n",
       "    fig.push_to_output();\n",
       "    var dataURL = fig.canvas.toDataURL();\n",
       "    // Re-enable the keyboard manager in IPython - without this line, in FF,\n",
       "    // the notebook keyboard shortcuts fail.\n",
       "    IPython.keyboard_manager.enable()\n",
       "    $(fig.parent_element).html('<img src=\"' + dataURL + '\">');\n",
       "    fig.close_ws(fig, msg);\n",
       "}\n",
       "\n",
       "mpl.figure.prototype.close_ws = function(fig, msg){\n",
       "    fig.send_message('closing', msg);\n",
       "    // fig.ws.close()\n",
       "}\n",
       "\n",
       "mpl.figure.prototype.push_to_output = function(remove_interactive) {\n",
       "    // Turn the data on the canvas into data in the output cell.\n",
       "    var dataURL = this.canvas.toDataURL();\n",
       "    this.cell_info[1]['text/html'] = '<img src=\"' + dataURL + '\">';\n",
       "}\n",
       "\n",
       "mpl.figure.prototype.updated_canvas_event = function() {\n",
       "    // Tell IPython that the notebook contents must change.\n",
       "    IPython.notebook.set_dirty(true);\n",
       "    this.send_message(\"ack\", {});\n",
       "    var fig = this;\n",
       "    // Wait a second, then push the new image to the DOM so\n",
       "    // that it is saved nicely (might be nice to debounce this).\n",
       "    setTimeout(function () { fig.push_to_output() }, 1000);\n",
       "}\n",
       "\n",
       "mpl.figure.prototype._init_toolbar = function() {\n",
       "    var fig = this;\n",
       "\n",
       "    var nav_element = $('<div/>')\n",
       "    nav_element.attr('style', 'width: 100%');\n",
       "    this.root.append(nav_element);\n",
       "\n",
       "    // Define a callback function for later on.\n",
       "    function toolbar_event(event) {\n",
       "        return fig.toolbar_button_onclick(event['data']);\n",
       "    }\n",
       "    function toolbar_mouse_event(event) {\n",
       "        return fig.toolbar_button_onmouseover(event['data']);\n",
       "    }\n",
       "\n",
       "    for(var toolbar_ind in mpl.toolbar_items){\n",
       "        var name = mpl.toolbar_items[toolbar_ind][0];\n",
       "        var tooltip = mpl.toolbar_items[toolbar_ind][1];\n",
       "        var image = mpl.toolbar_items[toolbar_ind][2];\n",
       "        var method_name = mpl.toolbar_items[toolbar_ind][3];\n",
       "\n",
       "        if (!name) { continue; };\n",
       "\n",
       "        var button = $('<button class=\"btn btn-default\" href=\"#\" title=\"' + name + '\"><i class=\"fa ' + image + ' fa-lg\"></i></button>');\n",
       "        button.click(method_name, toolbar_event);\n",
       "        button.mouseover(tooltip, toolbar_mouse_event);\n",
       "        nav_element.append(button);\n",
       "    }\n",
       "\n",
       "    // Add the status bar.\n",
       "    var status_bar = $('<span class=\"mpl-message\" style=\"text-align:right; float: right;\"/>');\n",
       "    nav_element.append(status_bar);\n",
       "    this.message = status_bar[0];\n",
       "\n",
       "    // Add the close button to the window.\n",
       "    var buttongrp = $('<div class=\"btn-group inline pull-right\"></div>');\n",
       "    var button = $('<button class=\"btn btn-mini btn-primary\" href=\"#\" title=\"Stop Interaction\"><i class=\"fa fa-power-off icon-remove icon-large\"></i></button>');\n",
       "    button.click(function (evt) { fig.handle_close(fig, {}); } );\n",
       "    button.mouseover('Stop Interaction', toolbar_mouse_event);\n",
       "    buttongrp.append(button);\n",
       "    var titlebar = this.root.find($('.ui-dialog-titlebar'));\n",
       "    titlebar.prepend(buttongrp);\n",
       "}\n",
       "\n",
       "mpl.figure.prototype._root_extra_style = function(el){\n",
       "    var fig = this\n",
       "    el.on(\"remove\", function(){\n",
       "\tfig.close_ws(fig, {});\n",
       "    });\n",
       "}\n",
       "\n",
       "mpl.figure.prototype._canvas_extra_style = function(el){\n",
       "    // this is important to make the div 'focusable\n",
       "    el.attr('tabindex', 0)\n",
       "    // reach out to IPython and tell the keyboard manager to turn it's self\n",
       "    // off when our div gets focus\n",
       "\n",
       "    // location in version 3\n",
       "    if (IPython.notebook.keyboard_manager) {\n",
       "        IPython.notebook.keyboard_manager.register_events(el);\n",
       "    }\n",
       "    else {\n",
       "        // location in version 2\n",
       "        IPython.keyboard_manager.register_events(el);\n",
       "    }\n",
       "\n",
       "}\n",
       "\n",
       "mpl.figure.prototype._key_event_extra = function(event, name) {\n",
       "    var manager = IPython.notebook.keyboard_manager;\n",
       "    if (!manager)\n",
       "        manager = IPython.keyboard_manager;\n",
       "\n",
       "    // Check for shift+enter\n",
       "    if (event.shiftKey && event.which == 13) {\n",
       "        this.canvas_div.blur();\n",
       "        event.shiftKey = false;\n",
       "        // Send a \"J\" for go to next cell\n",
       "        event.which = 74;\n",
       "        event.keyCode = 74;\n",
       "        manager.command_mode();\n",
       "        manager.handle_keydown(event);\n",
       "    }\n",
       "}\n",
       "\n",
       "mpl.figure.prototype.handle_save = function(fig, msg) {\n",
       "    fig.ondownload(fig, null);\n",
       "}\n",
       "\n",
       "\n",
       "mpl.find_output_cell = function(html_output) {\n",
       "    // Return the cell and output element which can be found *uniquely* in the notebook.\n",
       "    // Note - this is a bit hacky, but it is done because the \"notebook_saving.Notebook\"\n",
       "    // IPython event is triggered only after the cells have been serialised, which for\n",
       "    // our purposes (turning an active figure into a static one), is too late.\n",
       "    var cells = IPython.notebook.get_cells();\n",
       "    var ncells = cells.length;\n",
       "    for (var i=0; i<ncells; i++) {\n",
       "        var cell = cells[i];\n",
       "        if (cell.cell_type === 'code'){\n",
       "            for (var j=0; j<cell.output_area.outputs.length; j++) {\n",
       "                var data = cell.output_area.outputs[j];\n",
       "                if (data.data) {\n",
       "                    // IPython >= 3 moved mimebundle to data attribute of output\n",
       "                    data = data.data;\n",
       "                }\n",
       "                if (data['text/html'] == html_output) {\n",
       "                    return [cell, data, j];\n",
       "                }\n",
       "            }\n",
       "        }\n",
       "    }\n",
       "}\n",
       "\n",
       "// Register the function which deals with the matplotlib target/channel.\n",
       "// The kernel may be null if the page has been refreshed.\n",
       "if (IPython.notebook.kernel != null) {\n",
       "    IPython.notebook.kernel.comm_manager.register_target('matplotlib', mpl.mpl_figure_comm);\n",
       "}\n"
      ],
      "text/plain": [
       "<IPython.core.display.Javascript object>"
      ]
     },
     "metadata": {},
     "output_type": "display_data"
    },
    {
     "data": {
      "text/html": [
       "<img src=\"data:image/png;base64,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\">"
      ],
      "text/plain": [
       "<IPython.core.display.HTML object>"
      ]
     },
     "metadata": {},
     "output_type": "display_data"
    }
   ],
   "source": [
    "H.plot(hh.load(\"./slice_MtoX_v3.h5\"), min=0)"
   ]
  },
  {
   "cell_type": "code",
   "execution_count": null,
   "metadata": {
    "collapsed": true
   },
   "outputs": [],
   "source": []
  }
 ],
 "metadata": {
  "kernelspec": {
   "display_name": "Python 2",
   "language": "python",
   "name": "python2"
  },
  "language_info": {
   "codemirror_mode": {
    "name": "ipython",
    "version": 2
   },
   "file_extension": ".py",
   "mimetype": "text/x-python",
   "name": "python",
   "nbconvert_exporter": "python",
   "pygments_lexer": "ipython2",
   "version": "2.7.11"
  },
  "widgets": {
   "state": {},
   "version": "1.1.2"
  }
 },
 "nbformat": 4,
 "nbformat_minor": 0
}
