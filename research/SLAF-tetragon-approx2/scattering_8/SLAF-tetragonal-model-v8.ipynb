{
 "cells": [
  {
   "cell_type": "markdown",
   "metadata": {},
   "source": [
    "# Spin Wave Simulation"
   ]
  },
  {
   "cell_type": "markdown",
   "metadata": {},
   "source": [
    "Instrument: ARCS\n",
    "* Ei=150meV\n",
    "* Fermi chopper: ? Hz\n",
    "* T0: 90Hz\n",
    " \n",
    "Sample: SLAF tetragonal model\n",
    "* lattice parameters: 5 5 5        90 90 90\n",
    "* spin wave model available in paper: \"Dynamical structure factor of quasi-two-dimensional antiferromagnet in high fields\"\n",
    "* Orientation: u,v = [1 0 2] and  [1 0 0]\n",
    "* psi angles: -90, 90, step 3\n"
   ]
  },
  {
   "cell_type": "markdown",
   "metadata": {},
   "source": [
    "## Step 0. some goodies"
   ]
  },
  {
   "cell_type": "code",
   "execution_count": 1,
   "metadata": {
    "collapsed": false
   },
   "outputs": [],
   "source": [
    "%matplotlib notebook\n",
    "from matplotlib import pyplot as plt\n",
    "import numpy as np\n",
    "import histogram.hdf as hh, histogram as H"
   ]
  },
  {
   "cell_type": "markdown",
   "metadata": {},
   "source": [
    "## Step 1. create dir structure"
   ]
  },
  {
   "cell_type": "code",
   "execution_count": 2,
   "metadata": {
    "collapsed": true
   },
   "outputs": [],
   "source": [
    "# Define which directory to use for my simulation\n",
    "workdir = \"/SNS/users/p63/mcvine/research/SLAF-tetragon-approx2/\""
   ]
  },
  {
   "cell_type": "code",
   "execution_count": 3,
   "metadata": {
    "collapsed": false
   },
   "outputs": [
    {
     "name": "stdout",
     "output_type": "stream",
     "text": [
      "/SNS/users/p63/mcvine/research/SLAF-tetragon-approx2\n",
      "samples    samples_5  samples_8     scattering_3  scattering_6\r\n",
      "samples_3  samples_6  scattering    scattering_4  scattering_7\r\n",
      "samples_4  samples_7  scattering_2  scattering_5  scattering_8\r\n"
     ]
    }
   ],
   "source": [
    "# change into primary simulation directory\n",
    "%cd {workdir}\n",
    "!ls"
   ]
  },
  {
   "cell_type": "code",
   "execution_count": 4,
   "metadata": {
    "collapsed": false
   },
   "outputs": [
    {
     "name": "stdout",
     "output_type": "stream",
     "text": [
      "discarding /SNS/users/lj7/software/miniconda2/envs/mcvine/bin from PATH\n",
      "prepending /SNS/users/lj7/software/miniconda2/envs/mcvine/bin to PATH\n"
     ]
    }
   ],
   "source": [
    "!source ~lj7/.use-miniconda2\n",
    "!source activate mcvine"
   ]
  },
  {
   "cell_type": "markdown",
   "metadata": {},
   "source": [
    "## Step 2. obtain beam simulation"
   ]
  },
  {
   "cell_type": "code",
   "execution_count": 5,
   "metadata": {
    "collapsed": false
   },
   "outputs": [
    {
     "name": "stdout",
     "output_type": "stream",
     "text": [
      "/SNS/users/p63/mcvine/research/SLAF-tetragon-approx2/scattering_8\n",
      "total 452\r\n",
      "-rw-r--r-- 1 p63 users 458945 Jul 22 23:24 SLAF-tetragonal-model-v8.ipynb\r\n"
     ]
    }
   ],
   "source": [
    "%cd {workdir}/scattering_8\n",
    "!ls -l"
   ]
  },
  {
   "cell_type": "code",
   "execution_count": 6,
   "metadata": {
    "collapsed": false
   },
   "outputs": [
    {
     "name": "stdout",
     "output_type": "stream",
     "text": [
      "total 452\r\n",
      "lrwxrwxrwx 1 p63 users     62 Jul 22 23:29 beam -> /SNS/users/p63/mcvine/research/beams/beam_150meV_1e9_neutrons/\r\n",
      "-rw-r--r-- 1 p63 users 458945 Jul 22 23:24 SLAF-tetragonal-model-v8.ipynb\r\n"
     ]
    }
   ],
   "source": [
    "!ln -s /SNS/users/p63/mcvine/research/beams/beam_150meV_1e9_neutrons/ beam\n",
    "!ls -l"
   ]
  },
  {
   "cell_type": "markdown",
   "metadata": {},
   "source": [
    "## Step 3. Check/Update sample assembly"
   ]
  },
  {
   "cell_type": "code",
   "execution_count": 6,
   "metadata": {
    "collapsed": false
   },
   "outputs": [],
   "source": []
  },
  {
   "cell_type": "code",
   "execution_count": 7,
   "metadata": {
    "collapsed": false
   },
   "outputs": [
    {
     "name": "stdout",
     "output_type": "stream",
     "text": [
      "/SNS/users/p63/mcvine/research/SLAF-tetragon-approx2/samples_8/X/sampleassembly\n"
     ]
    }
   ],
   "source": [
    "%cd \"{workdir}/samples_8/X/sampleassembly\""
   ]
  },
  {
   "cell_type": "code",
   "execution_count": 9,
   "metadata": {
    "collapsed": false
   },
   "outputs": [
    {
     "name": "stdout",
     "output_type": "stream",
     "text": [
      "8\r\n",
      "5 0 0    0 5 0    0 0 5\r\n",
      "V 0 0 0\r\n",
      "V 0 0 0\r\n",
      "V 0 0 0\r\n",
      "V 0 0 0\r\n",
      "V 0 0 0\r\n",
      "V 0 0 0\r\n",
      "V 0 0 0\r\n",
      "V 0 0 0"
     ]
    }
   ],
   "source": [
    "!cat X.xyz"
   ]
  },
  {
   "cell_type": "markdown",
   "metadata": {},
   "source": [
    "Note:  xyz data only important for phonon scattering (I think)"
   ]
  },
  {
   "cell_type": "code",
   "execution_count": 8,
   "metadata": {
    "collapsed": false,
    "scrolled": true
   },
   "outputs": [
    {
     "name": "stdout",
     "output_type": "stream",
     "text": [
      "<?xml version=\"1.0\"?>\r\n",
      "\r\n",
      "<!DOCTYPE scatterer>\r\n",
      "\r\n",
      "<!-- weights: absorption, scattering, transmission -->\r\n",
      "<homogeneous_scatterer \r\n",
      "  mcweights=\"0, 1, 0.1\"\r\n",
      "  max_multiplescattering_loops=\"3\"\r\n",
      "  >\r\n",
      "  \r\n",
      "  <KernelContainer average=\"yes\">\r\n",
      "    \r\n",
      "    <E_vQ_Kernel \r\n",
      "\tE_Q=\"pi:=3.1415926535897932;\r\n",
      "    alpha:=0.1; JS:=10.0; Hnorm:=0.9; a:=5; b:=5; c:=5;\r\n",
      "    theta:=asin(Hnorm);\r\n",
      "    gamma_z:=cos(c*Qz); gamma_xy:=(cos(a*Qx)+cos(b*Qy));\r\n",
      "    gammaBar:=(gamma_xy+alpha*gamma_z)/(2.0+alpha);\r\n",
      "    2.0*JS*(2.0+alpha)*sqrt((1+gammaBar)*(1-gammaBar*cos(2.0*theta)))\"\r\n",
      "\tS_Q=\"pi:=3.1415926535897932; a:=5; b:=5; c:=5;\r\n",
      "    alpha:=0.1; JS:=10.0; Hnorm:=0.9; theta:=asin(Hnorm);\r\n",
      "    gamma_z:=cos(c*Qz); gamma_xy:=(cos(a*Qx)+cos(b*Qy));\r\n",
      "    gammaBar:=(gamma_xy+alpha*gamma_z)/(2.0+alpha);\r\n",
      "    Aq:=2.0*JS*(2.0+alpha)*(1+gammaBar*(sin(theta))^2);\r\n",
      "    Eq:=2.0*JS*(2.0+alpha)*sqrt((1+gammaBar)*(1-gammaBar*cos(2.0*theta)));\r\n",
      "    Eeff:=max(Eq,1.5);\r\n",
      "    UqSquared:=(Aq+Eeff)/(2.0*Eeff); VqSquared:=(Aq-Eeff)/(2.0*Eeff);\r\n",
      "    Uq:=sqrt(UqSquared); Vq:=sqrt(VqSquared);\r\n",
      "    Sxx:=(Uq+Vq)^2; Syy:=(Uq-Vq)^2;\r\n",
      "    Sxoxo:=Sxx*(sin(theta))^2; Syoyo:=Syy;\r\n",
      "    Sxoxo+Syoyo\"\r\n",
      "\tEmax=\"90*meV\"\r\n",
      "\torientation=\"0.894427191,0.0,-0.4472135955,0.0,1.0,0.0,0.4472135955,0.0,0.894427191\"\r\n",
      "\t/>\r\n",
      "    \r\n",
      "     <E_vQ_Kernel \r\n",
      "\tE_Q=\"pi:=3.1415926535897932; a:=5; b:=5; c:=5;\r\n",
      "    alpha:=0.1; JS:=10.0; Hnorm:=0.9;\r\n",
      "    theta:=asin(Hnorm);\r\n",
      "    gamma_z:=cos(c*Qz-pi); gamma_xy:=(cos(a*Qx-pi)+cos(b*Qy-pi));\r\n",
      "    gammaBar:=(gamma_xy+alpha*gamma_z)/(2.0+alpha);\r\n",
      "    2.0*JS*(2.0+alpha)*sqrt((1+gammaBar)*(1-gammaBar*cos(2.0*theta)))\"\r\n",
      "\tS_Q=\"pi:=3.1415926535897932; a:=5; b:=5; c:=5;\r\n",
      "    alpha:=0.1; JS:=10.0; Hnorm:=0.9; theta:=asin(Hnorm);\r\n",
      "    gamma_z:=cos(c*Qz-pi); gamma_xy:=(cos(a*Qx-pi)+cos(b*Qy-pi));\r\n",
      "    gammaBar:=(gamma_xy+alpha*gamma_z)/(2.0+alpha);\r\n",
      "    Aq:=2.0*JS*(2.0+alpha)*(1+gammaBar*(sin(theta))^2);\r\n",
      "    Eq:=2.0*JS*(2.0+alpha)*sqrt((1+gammaBar)*(1-gammaBar*cos(2.0*theta)));\r\n",
      "    Eeff:=max(Eq,1.5);\r\n",
      "    UqSquared:=(Aq+Eeff)/(2.0*Eeff); VqSquared:=(Aq-Eeff)/(2.0*Eeff);\r\n",
      "    Uq:=sqrt(UqSquared); Vq:=sqrt(VqSquared);\r\n",
      "    Sxx:=(Uq+Vq)^2; Syy:=(Uq-Vq)^2;\r\n",
      "    Sxx*(cos(theta))^2\"\r\n",
      "\tEmax=\"90*meV\"\r\n",
      "\torientation=\"0.894427191,0.0,-0.4472135955,0.0,1.0,0.0,0.4472135955,0.0,0.894427191\"\r\n",
      "\t/>   \r\n",
      "    \r\n",
      "  </KernelContainer>\r\n",
      "  \r\n",
      "</homogeneous_scatterer>\r\n"
     ]
    }
   ],
   "source": [
    "!cat X-scatterer.xml"
   ]
  },
  {
   "cell_type": "code",
   "execution_count": 14,
   "metadata": {
    "collapsed": false
   },
   "outputs": [
    {
     "name": "stdout",
     "output_type": "stream",
     "text": [
      "Overwriting ./X-scatterer.xml\n"
     ]
    }
   ],
   "source": [
    "%%file ./X-scatterer.xml\n",
    "<?xml version=\"1.0\"?>\n",
    "\n",
    "<!DOCTYPE scatterer>\n",
    "\n",
    "<!-- weights: absorption, scattering, transmission -->\n",
    "<homogeneous_scatterer \n",
    "  mcweights=\"0, 1, 0.1\"\n",
    "  max_multiplescattering_loops=\"3\"\n",
    "  >\n",
    "  \n",
    "  <KernelContainer average=\"yes\">\n",
    "    \n",
    "    <E_vQ_Kernel \n",
    "\tE_Q=\"pi:=3.1415926535897932;\n",
    "    alpha:=0.1; JS:=10.0; Hnorm:=0.9; a:=5; b:=5; c:=5;\n",
    "    theta:=asin(Hnorm);\n",
    "    gamma_z:=cos(c*Qz); gamma_xy:=(cos(a*Qx)+cos(b*Qy));\n",
    "    gammaBar:=(gamma_xy+alpha*gamma_z)/(2.0+alpha);\n",
    "    2.0*JS*(2.0+alpha)*sqrt((1+gammaBar)*(1-gammaBar*cos(2.0*theta)))\"\n",
    "\tS_Q=\"pi:=3.1415926535897932; a:=5; b:=5; c:=5;\n",
    "    alpha:=0.1; JS:=10.0; Hnorm:=0.9; theta:=asin(Hnorm);\n",
    "    gamma_z:=cos(c*Qz); gamma_xy:=(cos(a*Qx)+cos(b*Qy));\n",
    "    gammaBar:=(gamma_xy+alpha*gamma_z)/(2.0+alpha);\n",
    "    Aq:=2.0*JS*(2.0+alpha)*(1+gammaBar*(sin(theta))^2);\n",
    "    Eq:=2.0*JS*(2.0+alpha)*sqrt((1+gammaBar)*(1-gammaBar*cos(2.0*theta)));\n",
    "    Eeff:=max(Eq,1.5);\n",
    "    UqSquared:=(Aq+Eeff)/(2.0*Eeff); VqSquared:=(Aq-Eeff)/(2.0*Eeff);\n",
    "    Uq:=sqrt(UqSquared); Vq:=sqrt(VqSquared);\n",
    "    Sxx:=(Uq+Vq)^2; Syy:=(Uq-Vq)^2;\n",
    "    Sxoxo:=Sxx*(sin(theta))^2; Syoyo:=Syy;\n",
    "    Sxoxo+Syoyo\"\n",
    "\tEmax=\"90*meV\"\n",
    "\torientation=\"0.894427191,0.0,-0.4472135955,0.0,1.0,0.0,0.4472135955,0.0,0.894427191\"\n",
    "\t/>\n",
    "    \n",
    "     <E_vQ_Kernel \n",
    "\tE_Q=\"pi:=3.1415926535897932; a:=5; b:=5; c:=5;\n",
    "    alpha:=0.1; JS:=10.0; Hnorm:=0.9;\n",
    "    theta:=asin(Hnorm);\n",
    "    gamma_z:=cos(c*(Qz-pi)); gamma_xy:=(cos(a*(Qx-pi))+cos(b*(Qy-pi)));\n",
    "    gammaBar:=(gamma_xy+alpha*gamma_z)/(2.0+alpha);\n",
    "    2.0*JS*(2.0+alpha)*sqrt((1+gammaBar)*(1-gammaBar*cos(2.0*theta)))\"\n",
    "\tS_Q=\"pi:=3.1415926535897932; a:=5; b:=5; c:=5;\n",
    "    alpha:=0.1; JS:=10.0; Hnorm:=0.9; theta:=asin(Hnorm);\n",
    "    gamma_z:=cos(c*(Qz-pi)); gamma_xy:=(cos(a*(Qx-pi))+cos(b*(Qy-pi)));\n",
    "    gammaBar:=(gamma_xy+alpha*gamma_z)/(2.0+alpha);\n",
    "    Aq:=2.0*JS*(2.0+alpha)*(1+gammaBar*(sin(theta))^2);\n",
    "    Eq:=2.0*JS*(2.0+alpha)*sqrt((1+gammaBar)*(1-gammaBar*cos(2.0*theta)));\n",
    "    Eeff:=max(Eq,1.5);\n",
    "    UqSquared:=(Aq+Eeff)/(2.0*Eeff); VqSquared:=(Aq-Eeff)/(2.0*Eeff);\n",
    "    Uq:=sqrt(UqSquared); Vq:=sqrt(VqSquared);\n",
    "    Sxx:=(Uq+Vq)^2; Syy:=(Uq-Vq)^2;\n",
    "    Sxx*(cos(theta))^2\"\n",
    "\tEmax=\"90*meV\"\n",
    "\torientation=\"0.894427191,0.0,-0.4472135955,0.0,1.0,0.0,0.4472135955,0.0,0.894427191\"\n",
    "\t/>   \n",
    "    \n",
    "  </KernelContainer>\n",
    "  \n",
    "</homogeneous_scatterer>\n"
   ]
  },
  {
   "cell_type": "code",
   "execution_count": 15,
   "metadata": {
    "collapsed": false
   },
   "outputs": [
    {
     "data": {
      "text/plain": [
       "(array([ 1.25663706,  0.        ,  0.        ]),\n",
       " array([ 0.        ,  1.25663706,  0.        ]),\n",
       " array([ 0.        ,  0.        ,  1.25663706]))"
      ]
     },
     "execution_count": 15,
     "metadata": {},
     "output_type": "execute_result"
    }
   ],
   "source": [
    "a,b,c=5,5,5\n",
    "\n",
    "from numpy import sin, cos, deg2rad\n",
    "a1 = [a, 0, 0]\n",
    "a2 = [0, b, 0]\n",
    "a3 = [0, 0, c]\n",
    "\n",
    "twopi = 2*np.pi\n",
    "f = twopi/np.dot(a1, np.cross(a2, a3))\n",
    "b1 = np.cross(a2,a3) * f\n",
    "b2 = np.cross(a3,a1) * f\n",
    "b3 = np.cross(a1,a2) * f\n",
    "b1,b2,b3"
   ]
  },
  {
   "cell_type": "markdown",
   "metadata": {},
   "source": [
    "#### Orientation of the kernel\n",
    "Here we need to use the convention that z is along beam, y vertical up.\n",
    "The kernel has its own cartesian axis e’x e’y e’z. Because we know\n",
    "u = 102 v = 100\n",
    ", we have the basis vectors of the instrument coordinate system\n",
    "\n",
    "    ez along b1 + 2*b3\n",
    "    ex along b1\n",
    "    \n",
    "\n",
    "So we have them in the reciprocal cartesian axis"
   ]
  },
  {
   "cell_type": "code",
   "execution_count": 16,
   "metadata": {
    "collapsed": false
   },
   "outputs": [
    {
     "data": {
      "text/plain": [
       "(array([ 0.89442719,  0.        , -0.4472136 ]),\n",
       " array([ 0.,  1.,  0.]),\n",
       " array([ 0.4472136 ,  0.        ,  0.89442719]))"
      ]
     },
     "execution_count": 16,
     "metadata": {},
     "output_type": "execute_result"
    }
   ],
   "source": [
    "ez = b1 + 2*b3; ez /= np.linalg.norm(ez)\n",
    "ex1 = b1\n",
    "ey = np.cross(ez, ex1); ey/=np.linalg.norm(ey)\n",
    "ex = np.cross(ey, ez)\n",
    "ex, ey, ez"
   ]
  },
  {
   "cell_type": "markdown",
   "metadata": {},
   "source": [
    "The rotation matrix is define as\n",
    "```\n",
    "    ex.ex’ ex.ey’ ex.ez’ \n",
    "R = ey.ex’ ey.ey’ ey.ez’\n",
    "    ez.ex’ ez.ey’ ez.ez’\n",
    "```\n",
    "So"
   ]
  },
  {
   "cell_type": "code",
   "execution_count": 14,
   "metadata": {
    "collapsed": false
   },
   "outputs": [
    {
     "data": {
      "text/plain": [
       "(array([[ 0.89442719,  0.        , -0.4472136 ],\n",
       "        [ 0.        ,  1.        ,  0.        ],\n",
       "        [ 0.4472136 ,  0.        ,  0.89442719]]),\n",
       " array([ 0.89442719,  0.        , -0.4472136 ,  0.        ,  1.        ,\n",
       "         0.        ,  0.4472136 ,  0.        ,  0.89442719]))"
      ]
     },
     "execution_count": 14,
     "metadata": {},
     "output_type": "execute_result"
    }
   ],
   "source": [
    "R = np.array([ ex, ey, ez ])\n",
    "Rflat = R.copy(); Rflat.shape = -1,\n",
    "R, Rflat"
   ]
  },
  {
   "cell_type": "markdown",
   "metadata": {},
   "source": [
    "Now we add an extra kernel parameter:"
   ]
  },
  {
   "cell_type": "code",
   "execution_count": 15,
   "metadata": {
    "collapsed": false
   },
   "outputs": [
    {
     "data": {
      "text/plain": [
       "'orientation=\"0.894427191,0.0,-0.4472135955,0.0,1.0,0.0,0.4472135955,0.0,0.894427191\"'"
      ]
     },
     "execution_count": 15,
     "metadata": {},
     "output_type": "execute_result"
    }
   ],
   "source": [
    "'orientation=\"%s\"' % (','.join(str(e) for e in Rflat),)"
   ]
  },
  {
   "cell_type": "code",
   "execution_count": 36,
   "metadata": {
    "collapsed": true
   },
   "outputs": [],
   "source": [
    "# modify X-scatterer.xml to specify the orientation"
   ]
  },
  {
   "cell_type": "code",
   "execution_count": 17,
   "metadata": {
    "collapsed": false,
    "scrolled": true
   },
   "outputs": [
    {
     "name": "stdout",
     "output_type": "stream",
     "text": [
      "<?xml version=\"1.0\"?>\r\n",
      "\r\n",
      "<!DOCTYPE scatterer>\r\n",
      "\r\n",
      "<!-- weights: absorption, scattering, transmission -->\r\n",
      "<homogeneous_scatterer \r\n",
      "  mcweights=\"0, 1, 0.1\"\r\n",
      "  max_multiplescattering_loops=\"3\"\r\n",
      "  >\r\n",
      "  \r\n",
      "  <KernelContainer average=\"yes\">\r\n",
      "    \r\n",
      "    <E_vQ_Kernel \r\n",
      "\tE_Q=\"pi:=3.1415926535897932;\r\n",
      "    alpha:=0.1; JS:=10.0; Hnorm:=0.9; a:=5; b:=5; c:=5;\r\n",
      "    theta:=asin(Hnorm);\r\n",
      "    gamma_z:=cos(c*Qz); gamma_xy:=(cos(a*Qx)+cos(b*Qy));\r\n",
      "    gammaBar:=(gamma_xy+alpha*gamma_z)/(2.0+alpha);\r\n",
      "    2.0*JS*(2.0+alpha)*sqrt((1+gammaBar)*(1-gammaBar*cos(2.0*theta)))\"\r\n",
      "\tS_Q=\"pi:=3.1415926535897932; a:=5; b:=5; c:=5;\r\n",
      "    alpha:=0.1; JS:=10.0; Hnorm:=0.9; theta:=asin(Hnorm);\r\n",
      "    gamma_z:=cos(c*Qz); gamma_xy:=(cos(a*Qx)+cos(b*Qy));\r\n",
      "    gammaBar:=(gamma_xy+alpha*gamma_z)/(2.0+alpha);\r\n",
      "    Aq:=2.0*JS*(2.0+alpha)*(1+gammaBar*(sin(theta))^2);\r\n",
      "    Eq:=2.0*JS*(2.0+alpha)*sqrt((1+gammaBar)*(1-gammaBar*cos(2.0*theta)));\r\n",
      "    Eeff:=max(Eq,1.5);\r\n",
      "    UqSquared:=(Aq+Eeff)/(2.0*Eeff); VqSquared:=(Aq-Eeff)/(2.0*Eeff);\r\n",
      "    Uq:=sqrt(UqSquared); Vq:=sqrt(VqSquared);\r\n",
      "    Sxx:=(Uq+Vq)^2; Syy:=(Uq-Vq)^2;\r\n",
      "    Sxoxo:=Sxx*(sin(theta))^2; Syoyo:=Syy;\r\n",
      "    Sxoxo+Syoyo\"\r\n",
      "\tEmax=\"90*meV\"\r\n",
      "\torientation=\"0.894427191,0.0,-0.4472135955,0.0,1.0,0.0,0.4472135955,0.0,0.894427191\"\r\n",
      "\t/>\r\n",
      "    \r\n",
      "     <E_vQ_Kernel \r\n",
      "\tE_Q=\"pi:=3.1415926535897932; a:=5; b:=5; c:=5;\r\n",
      "    alpha:=0.1; JS:=10.0; Hnorm:=0.9;\r\n",
      "    theta:=asin(Hnorm);\r\n",
      "    gamma_z:=cos(c*(Qz-pi)); gamma_xy:=(cos(a*(Qx-pi))+cos(b*(Qy-pi)));\r\n",
      "    gammaBar:=(gamma_xy+alpha*gamma_z)/(2.0+alpha);\r\n",
      "    2.0*JS*(2.0+alpha)*sqrt((1+gammaBar)*(1-gammaBar*cos(2.0*theta)))\"\r\n",
      "\tS_Q=\"pi:=3.1415926535897932; a:=5; b:=5; c:=5;\r\n",
      "    alpha:=0.1; JS:=10.0; Hnorm:=0.9; theta:=asin(Hnorm);\r\n",
      "    gamma_z:=cos(c*(Qz-pi)); gamma_xy:=(cos(a*(Qx-pi))+cos(b*(Qy-pi)));\r\n",
      "    gammaBar:=(gamma_xy+alpha*gamma_z)/(2.0+alpha);\r\n",
      "    Aq:=2.0*JS*(2.0+alpha)*(1+gammaBar*(sin(theta))^2);\r\n",
      "    Eq:=2.0*JS*(2.0+alpha)*sqrt((1+gammaBar)*(1-gammaBar*cos(2.0*theta)));\r\n",
      "    Eeff:=max(Eq,1.5);\r\n",
      "    UqSquared:=(Aq+Eeff)/(2.0*Eeff); VqSquared:=(Aq-Eeff)/(2.0*Eeff);\r\n",
      "    Uq:=sqrt(UqSquared); Vq:=sqrt(VqSquared);\r\n",
      "    Sxx:=(Uq+Vq)^2; Syy:=(Uq-Vq)^2;\r\n",
      "    Sxx*(cos(theta))^2\"\r\n",
      "\tEmax=\"90*meV\"\r\n",
      "\torientation=\"0.894427191,0.0,-0.4472135955,0.0,1.0,0.0,0.4472135955,0.0,0.894427191\"\r\n",
      "\t/>   \r\n",
      "    \r\n",
      "  </KernelContainer>\r\n",
      "  \r\n",
      "</homogeneous_scatterer>"
     ]
    }
   ],
   "source": [
    "!cat X-scatterer.xml"
   ]
  },
  {
   "cell_type": "code",
   "execution_count": 10,
   "metadata": {
    "collapsed": false
   },
   "outputs": [
    {
     "name": "stdout",
     "output_type": "stream",
     "text": [
      "sampleassembly.xml  X-scatterer.xml  X.xyz\r\n"
     ]
    }
   ],
   "source": [
    "!ls"
   ]
  },
  {
   "cell_type": "markdown",
   "metadata": {},
   "source": [
    "## Step 4. Scattering"
   ]
  },
  {
   "cell_type": "code",
   "execution_count": 11,
   "metadata": {
    "collapsed": false
   },
   "outputs": [
    {
     "name": "stdout",
     "output_type": "stream",
     "text": [
      "/SNS/users/p63/mcvine/research/SLAF-tetragon-approx2/scattering_8\n"
     ]
    }
   ],
   "source": [
    "%cd \"{workdir}/scattering_8\""
   ]
  },
  {
   "cell_type": "code",
   "execution_count": 12,
   "metadata": {
    "collapsed": false
   },
   "outputs": [
    {
     "name": "stdout",
     "output_type": "stream",
     "text": [
      "total 576\r\n",
      "lrwxrwxrwx 1 p63 users     62 Jul 22 23:29 beam -> /SNS/users/p63/mcvine/research/beams/beam_150meV_1e9_neutrons/\r\n",
      "-rw-r--r-- 1 p63 users 458805 Jul 22 23:30 SLAF-tetragonal-model-v8.ipynb\r\n"
     ]
    }
   ],
   "source": [
    "!ls -l"
   ]
  },
  {
   "cell_type": "code",
   "execution_count": 13,
   "metadata": {
    "collapsed": false
   },
   "outputs": [
    {
     "name": "stdout",
     "output_type": "stream",
     "text": [
      "beam  scripts  SLAF-tetragonal-model-v8.ipynb  template\r\n"
     ]
    }
   ],
   "source": [
    "!rsync -a ~lj7/simulations/mcvine_workflow/DGS/ARCS/single-crystal/* ./\n",
    "!ls"
   ]
  },
  {
   "cell_type": "code",
   "execution_count": 14,
   "metadata": {
    "collapsed": false
   },
   "outputs": [
    {
     "name": "stdout",
     "output_type": "stream",
     "text": [
      "/SNS/users/p63/mcvine/research/SLAF-tetragon-approx2/scattering_8/template\n",
      "/SNS/users/p63/mcvine/research/SLAF-tetragon-approx2/scattering_8\n"
     ]
    }
   ],
   "source": [
    "%cd template\n",
    "\n",
    "!ln -s ../../samples_8/X/sampleassembly\n",
    "\n",
    "!ln -s ../beam beam\n",
    "\n",
    "%cd .."
   ]
  },
  {
   "cell_type": "code",
   "execution_count": 15,
   "metadata": {
    "collapsed": false
   },
   "outputs": [
    {
     "name": "stdout",
     "output_type": "stream",
     "text": [
      "Writing sim.yml\n"
     ]
    }
   ],
   "source": [
    "%%file sim.yml\n",
    "\n",
    "cluster:\n",
    "  nodes: 10\n",
    "instrument:\n",
    "  name: arcs\n",
    "scatter:\n",
    "  ncount: 1e6\n",
    "  multiple_scattering: off\n",
    "  template: ./template\n"
   ]
  },
  {
   "cell_type": "code",
   "execution_count": 46,
   "metadata": {
    "collapsed": true
   },
   "outputs": [],
   "source": [
    "# Test the simulation for a single angle"
   ]
  },
  {
   "cell_type": "markdown",
   "metadata": {},
   "source": [
    "Note:  If the below simulation test fails, you must do \"rm -rf work_30.0\" from the terminal, within the {workdir}/scattering_4 directory, to remove all the failed simulation pieces.  Otherwise, even if you fix the problem, MCViNE will continue to fail when it sees the old \"pieces\" of the failed simulation"
   ]
  },
  {
   "cell_type": "code",
   "execution_count": 6,
   "metadata": {
    "collapsed": false,
    "scrolled": true
   },
   "outputs": [
    {
     "name": "stdout",
     "output_type": "stream",
     "text": [
      "SAMPLE_ANGLE=30.0 time ./scatter &> log.scatter\n",
      "time ./create-nxs &> log.create-nxs\n",
      "\n",
      "real\t1m40.743s\n",
      "user\t12m42.663s\n",
      "sys\t1m33.180s\n",
      "cp sim.nxs sim-30.0.nxs\n",
      "mcvine instruments arcs nxs populate_metadata --type=Ei --beam_outdir=beam/out --nxs=sim-30.0.nxs\n",
      "/SNS/users/lj7/software/miniconda2/envs/mcvine/lib/python2.7/site-packages/mcvine/deployment_info.py:41: UserWarning: Neither environment variable MCVINE_DIR nor DANSE_DIR was defined. Assumed that it is /SNS/users/lj7/software/miniconda2/envs/mcvine.\n",
      "  warnings.warn(msg)\n"
     ]
    }
   ],
   "source": [
    "!./scripts/sim.py --angle=30.0"
   ]
  },
  {
   "cell_type": "code",
   "execution_count": 16,
   "metadata": {
    "collapsed": false
   },
   "outputs": [
    {
     "name": "stdout",
     "output_type": "stream",
     "text": [
      "Overwriting sim.yml\n"
     ]
    }
   ],
   "source": [
    "%%file sim.yml\n",
    "\n",
    "cluster:\n",
    "  nodes: 14\n",
    "instrument:\n",
    "  name: arcs\n",
    "scatter:\n",
    "  ncount: 1e6\n",
    "  multiple_scattering: off\n",
    "  template: ./template\n"
   ]
  },
  {
   "cell_type": "code",
   "execution_count": null,
   "metadata": {
    "collapsed": true
   },
   "outputs": [],
   "source": [
    "# a script to create a submit script submit.sh\n",
    "# may need to create several scripts"
   ]
  },
  {
   "cell_type": "code",
   "execution_count": 17,
   "metadata": {
    "collapsed": false
   },
   "outputs": [
    {
     "name": "stdout",
     "output_type": "stream",
     "text": [
      "Writing create-submit.py\n"
     ]
    }
   ],
   "source": [
    "%%file create-submit.py\n",
    "import numpy as np\n",
    "ostream = open('submit.sh', 'wt')\n",
    "for a in np.arange(-90, 90.1, 1.):\n",
    "    ostream.write('./scripts/sim.py --angle=%s \\n' % a)\n",
    "    continue\n",
    "ostream.close()"
   ]
  },
  {
   "cell_type": "code",
   "execution_count": 18,
   "metadata": {
    "collapsed": false
   },
   "outputs": [
    {
     "name": "stdout",
     "output_type": "stream",
     "text": [
      "import numpy as np\r\n",
      "ostream = open('submit.sh', 'wt')\r\n",
      "for a in np.arange(-90, 90.1, 1.):\r\n",
      "    ostream.write('./scripts/sim.py --angle=%s \\n' % a)\r\n",
      "    continue\r\n",
      "ostream.close()"
     ]
    }
   ],
   "source": [
    "!cat create-submit.py"
   ]
  },
  {
   "cell_type": "code",
   "execution_count": 19,
   "metadata": {
    "collapsed": false
   },
   "outputs": [],
   "source": [
    "# run the script to create submit.sh\n",
    "!python ./create-submit.py"
   ]
  },
  {
   "cell_type": "code",
   "execution_count": 42,
   "metadata": {
    "collapsed": false,
    "scrolled": true
   },
   "outputs": [],
   "source": [
    "# check submit script\n",
    "#!cat submit.sh"
   ]
  },
  {
   "cell_type": "code",
   "execution_count": 20,
   "metadata": {
    "collapsed": true
   },
   "outputs": [],
   "source": [
    "# make sure submit.sh is executable\n",
    "!chmod +x submit.sh\n",
    "# and then start it script in the background"
   ]
  },
  {
   "cell_type": "code",
   "execution_count": 21,
   "metadata": {
    "collapsed": false
   },
   "outputs": [
    {
     "name": "stdout",
     "output_type": "stream",
     "text": [
      "Starting job # 0 in a separate thread.\n"
     ]
    }
   ],
   "source": [
    "%%script bash --bg\n",
    "./submit.sh\n",
    "# this will take a while to finish."
   ]
  },
  {
   "cell_type": "markdown",
   "metadata": {},
   "source": [
    "## Step 5. Reduction"
   ]
  },
  {
   "cell_type": "code",
   "execution_count": 21,
   "metadata": {
    "collapsed": false,
    "scrolled": true
   },
   "outputs": [
    {
     "name": "stdout",
     "output_type": "stream",
     "text": [
      "/SNS/users/p63/mcvine/research/SLAF-tetragon-approx2/scattering_7\n",
      "beam\t\t\t\twork_-23.0  work_-40.0\twork_-58.0  work_-75.0\r\n",
      "create-submit.py\t\twork_23.0   work_40.0\twork_58.0   work_75.0\r\n",
      "scripts\t\t\t\twork_-24.0  work_-41.0\twork_-59.0  work_-76.0\r\n",
      "sim.yml\t\t\t\twork_24.0   work_41.0\twork_59.0   work_76.0\r\n",
      "SLAF-tetragonal-model-v7.ipynb\twork_-25.0  work_-42.0\twork_-6.0   work_-77.0\r\n",
      "submit.sh\t\t\twork_25.0   work_42.0\twork_6.0    work_77.0\r\n",
      "template\t\t\twork_-26.0  work_-43.0\twork_-60.0  work_-78.0\r\n",
      "work_0.0\t\t\twork_26.0   work_43.0\twork_60.0   work_78.0\r\n",
      "work_-1.0\t\t\twork_-27.0  work_-44.0\twork_-61.0  work_-79.0\r\n",
      "work_1.0\t\t\twork_27.0   work_44.0\twork_61.0   work_79.0\r\n",
      "work_-10.0\t\t\twork_-28.0  work_-45.0\twork_-62.0  work_-8.0\r\n",
      "work_10.0\t\t\twork_28.0   work_45.0\twork_62.0   work_8.0\r\n",
      "work_-11.0\t\t\twork_-29.0  work_-46.0\twork_-63.0  work_-80.0\r\n",
      "work_11.0\t\t\twork_29.0   work_46.0\twork_63.0   work_80.0\r\n",
      "work_-12.0\t\t\twork_-3.0   work_-47.0\twork_-64.0  work_-81.0\r\n",
      "work_12.0\t\t\twork_3.0    work_47.0\twork_64.0   work_81.0\r\n",
      "work_-13.0\t\t\twork_-30.0  work_-48.0\twork_-65.0  work_-82.0\r\n",
      "work_13.0\t\t\twork_30.0   work_48.0\twork_65.0   work_82.0\r\n",
      "work_-14.0\t\t\twork_-31.0  work_-49.0\twork_-66.0  work_-83.0\r\n",
      "work_14.0\t\t\twork_31.0   work_49.0\twork_66.0   work_83.0\r\n",
      "work_-15.0\t\t\twork_-32.0  work_-5.0\twork_-67.0  work_-84.0\r\n",
      "work_15.0\t\t\twork_32.0   work_5.0\twork_67.0   work_84.0\r\n",
      "work_-16.0\t\t\twork_-33.0  work_-50.0\twork_-68.0  work_-85.0\r\n",
      "work_16.0\t\t\twork_33.0   work_50.0\twork_68.0   work_85.0\r\n",
      "work_-17.0\t\t\twork_-34.0  work_-51.0\twork_-69.0  work_-86.0\r\n",
      "work_17.0\t\t\twork_34.0   work_51.0\twork_69.0   work_86.0\r\n",
      "work_-18.0\t\t\twork_-35.0  work_-52.0\twork_-7.0   work_-87.0\r\n",
      "work_18.0\t\t\twork_35.0   work_52.0\twork_7.0    work_87.0\r\n",
      "work_-19.0\t\t\twork_-36.0  work_-53.0\twork_-70.0  work_-88.0\r\n",
      "work_19.0\t\t\twork_36.0   work_53.0\twork_70.0   work_88.0\r\n",
      "work_-2.0\t\t\twork_-37.0  work_-54.0\twork_-71.0  work_-89.0\r\n",
      "work_2.0\t\t\twork_37.0   work_54.0\twork_71.0   work_89.0\r\n",
      "work_-20.0\t\t\twork_-38.0  work_-55.0\twork_-72.0  work_-9.0\r\n",
      "work_20.0\t\t\twork_38.0   work_55.0\twork_72.0   work_9.0\r\n",
      "work_-21.0\t\t\twork_-39.0  work_-56.0\twork_-73.0  work_-90.0\r\n",
      "work_21.0\t\t\twork_39.0   work_56.0\twork_73.0   work_90.0\r\n",
      "work_-22.0\t\t\twork_-4.0   work_-57.0\twork_-74.0\r\n",
      "work_22.0\t\t\twork_4.0    work_57.0\twork_74.0\r\n"
     ]
    }
   ],
   "source": [
    "%cd \"{workdir}/scattering_7\"\n",
    "!ls"
   ]
  },
  {
   "cell_type": "markdown",
   "metadata": {},
   "source": [
    "First we reduce event-mode nexus data for each angle using Mantid"
   ]
  },
  {
   "cell_type": "code",
   "execution_count": 22,
   "metadata": {
    "collapsed": false
   },
   "outputs": [
    {
     "name": "stdout",
     "output_type": "stream",
     "text": [
      "ls: cannot access work_3.0/reduced*: No such file or directory\r\n"
     ]
    }
   ],
   "source": [
    "# check if there is reduced data\n",
    "!ls work_3.0/reduced*"
   ]
  },
  {
   "cell_type": "code",
   "execution_count": 23,
   "metadata": {
    "collapsed": false,
    "scrolled": true
   },
   "outputs": [],
   "source": [
    "# reduce tof events to E events\n",
    "# this takes a long time!\n",
    "!./scripts/reduce/reduceKeepingEvents_batch.py -90,90.1,1. 150 0,150,0.5 > log.reduce"
   ]
  },
  {
   "cell_type": "code",
   "execution_count": 36,
   "metadata": {
    "collapsed": true
   },
   "outputs": [],
   "source": [
    "# create configuration file for getting a slice (BIG slice--check if any data exists)"
   ]
  },
  {
   "cell_type": "code",
   "execution_count": 35,
   "metadata": {
    "collapsed": false
   },
   "outputs": [
    {
     "name": "stdout",
     "output_type": "stream",
     "text": [
      "Writing slice_GtoM_v3.yml\n"
     ]
    }
   ],
   "source": [
    "%%file slice_GtoM_v3.yml\n",
    "\n",
    "angles: -90,90.1,1.0\n",
    "filename_pattern: work_%(angle)s/reduced_%(angle)s.nxs\n",
    "lattice: 5., 5., 5., 90, 90, 90\n",
    "orientation:\n",
    " u: 1, 0, 2\n",
    " v: 1,0,0\n",
    "Eaxis:\n",
    " min: 0\n",
    " max: 75\n",
    " N: 150\n",
    "Q_projections:\n",
    " U:\n",
    "  proj: 1,0,0\n",
    "  proj_name: H,0,0\n",
    "  min: 0.0\n",
    "  max: 1.0\n",
    "  N: 100\n",
    " V:\n",
    "  proj: 0,1,0\n",
    "  proj_name: 0,K,0\n",
    "  min: -0.25\n",
    "  max: 0.25\n",
    "  N: 1\n",
    " W:\n",
    "  proj: 0,0,1\n",
    "  proj_name: 0,0,L\n",
    "  min: -0.25\n",
    "  max: 0.25\n",
    "  N: 1\n",
    "output: slice_GtoM_v3.nxs\n"
   ]
  },
  {
   "cell_type": "code",
   "execution_count": 25,
   "metadata": {
    "collapsed": true
   },
   "outputs": [],
   "source": [
    "# hack for now. copy the config python file to current dir\n",
    "!cp /SNS/users/lj7/simulations/mcvine_workflow/DGS/ARCS/single-crystal/scripts/config.py ."
   ]
  },
  {
   "cell_type": "code",
   "execution_count": 36,
   "metadata": {
    "collapsed": false,
    "scrolled": true
   },
   "outputs": [],
   "source": [
    "# run script to calculate the slice\n",
    "# this take ~15 minutes \n",
    "! PYTHONPATH=$PWD:$PYTHONPATH ./scripts/reduce/getaslice.py slice_GtoM_v3.yml > log.slice_GtoM_v3"
   ]
  },
  {
   "cell_type": "code",
   "execution_count": 37,
   "metadata": {
    "collapsed": false
   },
   "outputs": [
    {
     "name": "stdout",
     "output_type": "stream",
     "text": [
      "FrameworkManager-[Notice] Welcome to Mantid 3.6.100\n",
      "FrameworkManager-[Notice] Please cite: http://dx.doi.org/10.1016/j.nima.2014.07.029 and this release: http://dx.doi.org/10.5286/Software/Mantid3.6.100\n",
      "Load-[Notice] Load started\n",
      "Load-[Notice] Load successful, Duration 1.07 seconds\n"
     ]
    }
   ],
   "source": [
    "!./scripts/reduce/slice2hist.py \"slice_GtoM_v3.nxs\" slice_GtoM_v3.h5"
   ]
  },
  {
   "cell_type": "code",
   "execution_count": 38,
   "metadata": {
    "collapsed": false,
    "scrolled": false
   },
   "outputs": [
    {
     "name": "stdout",
     "output_type": "stream",
     "text": [
      "plot z in (0.0, 1.95371678954e-06)\n"
     ]
    },
    {
     "data": {
      "application/javascript": [
       "/* Put everything inside the global mpl namespace */\n",
       "window.mpl = {};\n",
       "\n",
       "mpl.get_websocket_type = function() {\n",
       "    if (typeof(WebSocket) !== 'undefined') {\n",
       "        return WebSocket;\n",
       "    } else if (typeof(MozWebSocket) !== 'undefined') {\n",
       "        return MozWebSocket;\n",
       "    } else {\n",
       "        alert('Your browser does not have WebSocket support.' +\n",
       "              'Please try Chrome, Safari or Firefox ≥ 6. ' +\n",
       "              'Firefox 4 and 5 are also supported but you ' +\n",
       "              'have to enable WebSockets in about:config.');\n",
       "    };\n",
       "}\n",
       "\n",
       "mpl.figure = function(figure_id, websocket, ondownload, parent_element) {\n",
       "    this.id = figure_id;\n",
       "\n",
       "    this.ws = websocket;\n",
       "\n",
       "    this.supports_binary = (this.ws.binaryType != undefined);\n",
       "\n",
       "    if (!this.supports_binary) {\n",
       "        var warnings = document.getElementById(\"mpl-warnings\");\n",
       "        if (warnings) {\n",
       "            warnings.style.display = 'block';\n",
       "            warnings.textContent = (\n",
       "                \"This browser does not support binary websocket messages. \" +\n",
       "                    \"Performance may be slow.\");\n",
       "        }\n",
       "    }\n",
       "\n",
       "    this.imageObj = new Image();\n",
       "\n",
       "    this.context = undefined;\n",
       "    this.message = undefined;\n",
       "    this.canvas = undefined;\n",
       "    this.rubberband_canvas = undefined;\n",
       "    this.rubberband_context = undefined;\n",
       "    this.format_dropdown = undefined;\n",
       "\n",
       "    this.image_mode = 'full';\n",
       "\n",
       "    this.root = $('<div/>');\n",
       "    this._root_extra_style(this.root)\n",
       "    this.root.attr('style', 'display: inline-block');\n",
       "\n",
       "    $(parent_element).append(this.root);\n",
       "\n",
       "    this._init_header(this);\n",
       "    this._init_canvas(this);\n",
       "    this._init_toolbar(this);\n",
       "\n",
       "    var fig = this;\n",
       "\n",
       "    this.waiting = false;\n",
       "\n",
       "    this.ws.onopen =  function () {\n",
       "            fig.send_message(\"supports_binary\", {value: fig.supports_binary});\n",
       "            fig.send_message(\"send_image_mode\", {});\n",
       "            fig.send_message(\"refresh\", {});\n",
       "        }\n",
       "\n",
       "    this.imageObj.onload = function() {\n",
       "            if (fig.image_mode == 'full') {\n",
       "                // Full images could contain transparency (where diff images\n",
       "                // almost always do), so we need to clear the canvas so that\n",
       "                // there is no ghosting.\n",
       "                fig.context.clearRect(0, 0, fig.canvas.width, fig.canvas.height);\n",
       "            }\n",
       "            fig.context.drawImage(fig.imageObj, 0, 0);\n",
       "        };\n",
       "\n",
       "    this.imageObj.onunload = function() {\n",
       "        this.ws.close();\n",
       "    }\n",
       "\n",
       "    this.ws.onmessage = this._make_on_message_function(this);\n",
       "\n",
       "    this.ondownload = ondownload;\n",
       "}\n",
       "\n",
       "mpl.figure.prototype._init_header = function() {\n",
       "    var titlebar = $(\n",
       "        '<div class=\"ui-dialog-titlebar ui-widget-header ui-corner-all ' +\n",
       "        'ui-helper-clearfix\"/>');\n",
       "    var titletext = $(\n",
       "        '<div class=\"ui-dialog-title\" style=\"width: 100%; ' +\n",
       "        'text-align: center; padding: 3px;\"/>');\n",
       "    titlebar.append(titletext)\n",
       "    this.root.append(titlebar);\n",
       "    this.header = titletext[0];\n",
       "}\n",
       "\n",
       "\n",
       "\n",
       "mpl.figure.prototype._canvas_extra_style = function(canvas_div) {\n",
       "\n",
       "}\n",
       "\n",
       "\n",
       "mpl.figure.prototype._root_extra_style = function(canvas_div) {\n",
       "\n",
       "}\n",
       "\n",
       "mpl.figure.prototype._init_canvas = function() {\n",
       "    var fig = this;\n",
       "\n",
       "    var canvas_div = $('<div/>');\n",
       "\n",
       "    canvas_div.attr('style', 'position: relative; clear: both; outline: 0');\n",
       "\n",
       "    function canvas_keyboard_event(event) {\n",
       "        return fig.key_event(event, event['data']);\n",
       "    }\n",
       "\n",
       "    canvas_div.keydown('key_press', canvas_keyboard_event);\n",
       "    canvas_div.keyup('key_release', canvas_keyboard_event);\n",
       "    this.canvas_div = canvas_div\n",
       "    this._canvas_extra_style(canvas_div)\n",
       "    this.root.append(canvas_div);\n",
       "\n",
       "    var canvas = $('<canvas/>');\n",
       "    canvas.addClass('mpl-canvas');\n",
       "    canvas.attr('style', \"left: 0; top: 0; z-index: 0; outline: 0\")\n",
       "\n",
       "    this.canvas = canvas[0];\n",
       "    this.context = canvas[0].getContext(\"2d\");\n",
       "\n",
       "    var rubberband = $('<canvas/>');\n",
       "    rubberband.attr('style', \"position: absolute; left: 0; top: 0; z-index: 1;\")\n",
       "\n",
       "    var pass_mouse_events = true;\n",
       "\n",
       "    canvas_div.resizable({\n",
       "        start: function(event, ui) {\n",
       "            pass_mouse_events = false;\n",
       "        },\n",
       "        resize: function(event, ui) {\n",
       "            fig.request_resize(ui.size.width, ui.size.height);\n",
       "        },\n",
       "        stop: function(event, ui) {\n",
       "            pass_mouse_events = true;\n",
       "            fig.request_resize(ui.size.width, ui.size.height);\n",
       "        },\n",
       "    });\n",
       "\n",
       "    function mouse_event_fn(event) {\n",
       "        if (pass_mouse_events)\n",
       "            return fig.mouse_event(event, event['data']);\n",
       "    }\n",
       "\n",
       "    rubberband.mousedown('button_press', mouse_event_fn);\n",
       "    rubberband.mouseup('button_release', mouse_event_fn);\n",
       "    // Throttle sequential mouse events to 1 every 20ms.\n",
       "    rubberband.mousemove('motion_notify', mouse_event_fn);\n",
       "\n",
       "    rubberband.mouseenter('figure_enter', mouse_event_fn);\n",
       "    rubberband.mouseleave('figure_leave', mouse_event_fn);\n",
       "\n",
       "    canvas_div.on(\"wheel\", function (event) {\n",
       "        event = event.originalEvent;\n",
       "        event['data'] = 'scroll'\n",
       "        if (event.deltaY < 0) {\n",
       "            event.step = 1;\n",
       "        } else {\n",
       "            event.step = -1;\n",
       "        }\n",
       "        mouse_event_fn(event);\n",
       "    });\n",
       "\n",
       "    canvas_div.append(canvas);\n",
       "    canvas_div.append(rubberband);\n",
       "\n",
       "    this.rubberband = rubberband;\n",
       "    this.rubberband_canvas = rubberband[0];\n",
       "    this.rubberband_context = rubberband[0].getContext(\"2d\");\n",
       "    this.rubberband_context.strokeStyle = \"#000000\";\n",
       "\n",
       "    this._resize_canvas = function(width, height) {\n",
       "        // Keep the size of the canvas, canvas container, and rubber band\n",
       "        // canvas in synch.\n",
       "        canvas_div.css('width', width)\n",
       "        canvas_div.css('height', height)\n",
       "\n",
       "        canvas.attr('width', width);\n",
       "        canvas.attr('height', height);\n",
       "\n",
       "        rubberband.attr('width', width);\n",
       "        rubberband.attr('height', height);\n",
       "    }\n",
       "\n",
       "    // Set the figure to an initial 600x600px, this will subsequently be updated\n",
       "    // upon first draw.\n",
       "    this._resize_canvas(600, 600);\n",
       "\n",
       "    // Disable right mouse context menu.\n",
       "    $(this.rubberband_canvas).bind(\"contextmenu\",function(e){\n",
       "        return false;\n",
       "    });\n",
       "\n",
       "    function set_focus () {\n",
       "        canvas.focus();\n",
       "        canvas_div.focus();\n",
       "    }\n",
       "\n",
       "    window.setTimeout(set_focus, 100);\n",
       "}\n",
       "\n",
       "mpl.figure.prototype._init_toolbar = function() {\n",
       "    var fig = this;\n",
       "\n",
       "    var nav_element = $('<div/>')\n",
       "    nav_element.attr('style', 'width: 100%');\n",
       "    this.root.append(nav_element);\n",
       "\n",
       "    // Define a callback function for later on.\n",
       "    function toolbar_event(event) {\n",
       "        return fig.toolbar_button_onclick(event['data']);\n",
       "    }\n",
       "    function toolbar_mouse_event(event) {\n",
       "        return fig.toolbar_button_onmouseover(event['data']);\n",
       "    }\n",
       "\n",
       "    for(var toolbar_ind in mpl.toolbar_items) {\n",
       "        var name = mpl.toolbar_items[toolbar_ind][0];\n",
       "        var tooltip = mpl.toolbar_items[toolbar_ind][1];\n",
       "        var image = mpl.toolbar_items[toolbar_ind][2];\n",
       "        var method_name = mpl.toolbar_items[toolbar_ind][3];\n",
       "\n",
       "        if (!name) {\n",
       "            // put a spacer in here.\n",
       "            continue;\n",
       "        }\n",
       "        var button = $('<button/>');\n",
       "        button.addClass('ui-button ui-widget ui-state-default ui-corner-all ' +\n",
       "                        'ui-button-icon-only');\n",
       "        button.attr('role', 'button');\n",
       "        button.attr('aria-disabled', 'false');\n",
       "        button.click(method_name, toolbar_event);\n",
       "        button.mouseover(tooltip, toolbar_mouse_event);\n",
       "\n",
       "        var icon_img = $('<span/>');\n",
       "        icon_img.addClass('ui-button-icon-primary ui-icon');\n",
       "        icon_img.addClass(image);\n",
       "        icon_img.addClass('ui-corner-all');\n",
       "\n",
       "        var tooltip_span = $('<span/>');\n",
       "        tooltip_span.addClass('ui-button-text');\n",
       "        tooltip_span.html(tooltip);\n",
       "\n",
       "        button.append(icon_img);\n",
       "        button.append(tooltip_span);\n",
       "\n",
       "        nav_element.append(button);\n",
       "    }\n",
       "\n",
       "    var fmt_picker_span = $('<span/>');\n",
       "\n",
       "    var fmt_picker = $('<select/>');\n",
       "    fmt_picker.addClass('mpl-toolbar-option ui-widget ui-widget-content');\n",
       "    fmt_picker_span.append(fmt_picker);\n",
       "    nav_element.append(fmt_picker_span);\n",
       "    this.format_dropdown = fmt_picker[0];\n",
       "\n",
       "    for (var ind in mpl.extensions) {\n",
       "        var fmt = mpl.extensions[ind];\n",
       "        var option = $(\n",
       "            '<option/>', {selected: fmt === mpl.default_extension}).html(fmt);\n",
       "        fmt_picker.append(option)\n",
       "    }\n",
       "\n",
       "    // Add hover states to the ui-buttons\n",
       "    $( \".ui-button\" ).hover(\n",
       "        function() { $(this).addClass(\"ui-state-hover\");},\n",
       "        function() { $(this).removeClass(\"ui-state-hover\");}\n",
       "    );\n",
       "\n",
       "    var status_bar = $('<span class=\"mpl-message\"/>');\n",
       "    nav_element.append(status_bar);\n",
       "    this.message = status_bar[0];\n",
       "}\n",
       "\n",
       "mpl.figure.prototype.request_resize = function(x_pixels, y_pixels) {\n",
       "    // Request matplotlib to resize the figure. Matplotlib will then trigger a resize in the client,\n",
       "    // which will in turn request a refresh of the image.\n",
       "    this.send_message('resize', {'width': x_pixels, 'height': y_pixels});\n",
       "}\n",
       "\n",
       "mpl.figure.prototype.send_message = function(type, properties) {\n",
       "    properties['type'] = type;\n",
       "    properties['figure_id'] = this.id;\n",
       "    this.ws.send(JSON.stringify(properties));\n",
       "}\n",
       "\n",
       "mpl.figure.prototype.send_draw_message = function() {\n",
       "    if (!this.waiting) {\n",
       "        this.waiting = true;\n",
       "        this.ws.send(JSON.stringify({type: \"draw\", figure_id: this.id}));\n",
       "    }\n",
       "}\n",
       "\n",
       "\n",
       "mpl.figure.prototype.handle_save = function(fig, msg) {\n",
       "    var format_dropdown = fig.format_dropdown;\n",
       "    var format = format_dropdown.options[format_dropdown.selectedIndex].value;\n",
       "    fig.ondownload(fig, format);\n",
       "}\n",
       "\n",
       "\n",
       "mpl.figure.prototype.handle_resize = function(fig, msg) {\n",
       "    var size = msg['size'];\n",
       "    if (size[0] != fig.canvas.width || size[1] != fig.canvas.height) {\n",
       "        fig._resize_canvas(size[0], size[1]);\n",
       "        fig.send_message(\"refresh\", {});\n",
       "    };\n",
       "}\n",
       "\n",
       "mpl.figure.prototype.handle_rubberband = function(fig, msg) {\n",
       "    var x0 = msg['x0'];\n",
       "    var y0 = fig.canvas.height - msg['y0'];\n",
       "    var x1 = msg['x1'];\n",
       "    var y1 = fig.canvas.height - msg['y1'];\n",
       "    x0 = Math.floor(x0) + 0.5;\n",
       "    y0 = Math.floor(y0) + 0.5;\n",
       "    x1 = Math.floor(x1) + 0.5;\n",
       "    y1 = Math.floor(y1) + 0.5;\n",
       "    var min_x = Math.min(x0, x1);\n",
       "    var min_y = Math.min(y0, y1);\n",
       "    var width = Math.abs(x1 - x0);\n",
       "    var height = Math.abs(y1 - y0);\n",
       "\n",
       "    fig.rubberband_context.clearRect(\n",
       "        0, 0, fig.canvas.width, fig.canvas.height);\n",
       "\n",
       "    fig.rubberband_context.strokeRect(min_x, min_y, width, height);\n",
       "}\n",
       "\n",
       "mpl.figure.prototype.handle_figure_label = function(fig, msg) {\n",
       "    // Updates the figure title.\n",
       "    fig.header.textContent = msg['label'];\n",
       "}\n",
       "\n",
       "mpl.figure.prototype.handle_cursor = function(fig, msg) {\n",
       "    var cursor = msg['cursor'];\n",
       "    switch(cursor)\n",
       "    {\n",
       "    case 0:\n",
       "        cursor = 'pointer';\n",
       "        break;\n",
       "    case 1:\n",
       "        cursor = 'default';\n",
       "        break;\n",
       "    case 2:\n",
       "        cursor = 'crosshair';\n",
       "        break;\n",
       "    case 3:\n",
       "        cursor = 'move';\n",
       "        break;\n",
       "    }\n",
       "    fig.rubberband_canvas.style.cursor = cursor;\n",
       "}\n",
       "\n",
       "mpl.figure.prototype.handle_message = function(fig, msg) {\n",
       "    fig.message.textContent = msg['message'];\n",
       "}\n",
       "\n",
       "mpl.figure.prototype.handle_draw = function(fig, msg) {\n",
       "    // Request the server to send over a new figure.\n",
       "    fig.send_draw_message();\n",
       "}\n",
       "\n",
       "mpl.figure.prototype.handle_image_mode = function(fig, msg) {\n",
       "    fig.image_mode = msg['mode'];\n",
       "}\n",
       "\n",
       "mpl.figure.prototype.updated_canvas_event = function() {\n",
       "    // Called whenever the canvas gets updated.\n",
       "    this.send_message(\"ack\", {});\n",
       "}\n",
       "\n",
       "// A function to construct a web socket function for onmessage handling.\n",
       "// Called in the figure constructor.\n",
       "mpl.figure.prototype._make_on_message_function = function(fig) {\n",
       "    return function socket_on_message(evt) {\n",
       "        if (evt.data instanceof Blob) {\n",
       "            /* FIXME: We get \"Resource interpreted as Image but\n",
       "             * transferred with MIME type text/plain:\" errors on\n",
       "             * Chrome.  But how to set the MIME type?  It doesn't seem\n",
       "             * to be part of the websocket stream */\n",
       "            evt.data.type = \"image/png\";\n",
       "\n",
       "            /* Free the memory for the previous frames */\n",
       "            if (fig.imageObj.src) {\n",
       "                (window.URL || window.webkitURL).revokeObjectURL(\n",
       "                    fig.imageObj.src);\n",
       "            }\n",
       "\n",
       "            fig.imageObj.src = (window.URL || window.webkitURL).createObjectURL(\n",
       "                evt.data);\n",
       "            fig.updated_canvas_event();\n",
       "            fig.waiting = false;\n",
       "            return;\n",
       "        }\n",
       "        else if (typeof evt.data === 'string' && evt.data.slice(0, 21) == \"data:image/png;base64\") {\n",
       "            fig.imageObj.src = evt.data;\n",
       "            fig.updated_canvas_event();\n",
       "            fig.waiting = false;\n",
       "            return;\n",
       "        }\n",
       "\n",
       "        var msg = JSON.parse(evt.data);\n",
       "        var msg_type = msg['type'];\n",
       "\n",
       "        // Call the  \"handle_{type}\" callback, which takes\n",
       "        // the figure and JSON message as its only arguments.\n",
       "        try {\n",
       "            var callback = fig[\"handle_\" + msg_type];\n",
       "        } catch (e) {\n",
       "            console.log(\"No handler for the '\" + msg_type + \"' message type: \", msg);\n",
       "            return;\n",
       "        }\n",
       "\n",
       "        if (callback) {\n",
       "            try {\n",
       "                // console.log(\"Handling '\" + msg_type + \"' message: \", msg);\n",
       "                callback(fig, msg);\n",
       "            } catch (e) {\n",
       "                console.log(\"Exception inside the 'handler_\" + msg_type + \"' callback:\", e, e.stack, msg);\n",
       "            }\n",
       "        }\n",
       "    };\n",
       "}\n",
       "\n",
       "// from http://stackoverflow.com/questions/1114465/getting-mouse-location-in-canvas\n",
       "mpl.findpos = function(e) {\n",
       "    //this section is from http://www.quirksmode.org/js/events_properties.html\n",
       "    var targ;\n",
       "    if (!e)\n",
       "        e = window.event;\n",
       "    if (e.target)\n",
       "        targ = e.target;\n",
       "    else if (e.srcElement)\n",
       "        targ = e.srcElement;\n",
       "    if (targ.nodeType == 3) // defeat Safari bug\n",
       "        targ = targ.parentNode;\n",
       "\n",
       "    // jQuery normalizes the pageX and pageY\n",
       "    // pageX,Y are the mouse positions relative to the document\n",
       "    // offset() returns the position of the element relative to the document\n",
       "    var x = e.pageX - $(targ).offset().left;\n",
       "    var y = e.pageY - $(targ).offset().top;\n",
       "\n",
       "    return {\"x\": x, \"y\": y};\n",
       "};\n",
       "\n",
       "/*\n",
       " * return a copy of an object with only non-object keys\n",
       " * we need this to avoid circular references\n",
       " * http://stackoverflow.com/a/24161582/3208463\n",
       " */\n",
       "function simpleKeys (original) {\n",
       "  return Object.keys(original).reduce(function (obj, key) {\n",
       "    if (typeof original[key] !== 'object')\n",
       "        obj[key] = original[key]\n",
       "    return obj;\n",
       "  }, {});\n",
       "}\n",
       "\n",
       "mpl.figure.prototype.mouse_event = function(event, name) {\n",
       "    var canvas_pos = mpl.findpos(event)\n",
       "\n",
       "    if (name === 'button_press')\n",
       "    {\n",
       "        this.canvas.focus();\n",
       "        this.canvas_div.focus();\n",
       "    }\n",
       "\n",
       "    var x = canvas_pos.x;\n",
       "    var y = canvas_pos.y;\n",
       "\n",
       "    this.send_message(name, {x: x, y: y, button: event.button,\n",
       "                             step: event.step,\n",
       "                             guiEvent: simpleKeys(event)});\n",
       "\n",
       "    /* This prevents the web browser from automatically changing to\n",
       "     * the text insertion cursor when the button is pressed.  We want\n",
       "     * to control all of the cursor setting manually through the\n",
       "     * 'cursor' event from matplotlib */\n",
       "    event.preventDefault();\n",
       "    return false;\n",
       "}\n",
       "\n",
       "mpl.figure.prototype._key_event_extra = function(event, name) {\n",
       "    // Handle any extra behaviour associated with a key event\n",
       "}\n",
       "\n",
       "mpl.figure.prototype.key_event = function(event, name) {\n",
       "\n",
       "    // Prevent repeat events\n",
       "    if (name == 'key_press')\n",
       "    {\n",
       "        if (event.which === this._key)\n",
       "            return;\n",
       "        else\n",
       "            this._key = event.which;\n",
       "    }\n",
       "    if (name == 'key_release')\n",
       "        this._key = null;\n",
       "\n",
       "    var value = '';\n",
       "    if (event.ctrlKey && event.which != 17)\n",
       "        value += \"ctrl+\";\n",
       "    if (event.altKey && event.which != 18)\n",
       "        value += \"alt+\";\n",
       "    if (event.shiftKey && event.which != 16)\n",
       "        value += \"shift+\";\n",
       "\n",
       "    value += 'k';\n",
       "    value += event.which.toString();\n",
       "\n",
       "    this._key_event_extra(event, name);\n",
       "\n",
       "    this.send_message(name, {key: value,\n",
       "                             guiEvent: simpleKeys(event)});\n",
       "    return false;\n",
       "}\n",
       "\n",
       "mpl.figure.prototype.toolbar_button_onclick = function(name) {\n",
       "    if (name == 'download') {\n",
       "        this.handle_save(this, null);\n",
       "    } else {\n",
       "        this.send_message(\"toolbar_button\", {name: name});\n",
       "    }\n",
       "};\n",
       "\n",
       "mpl.figure.prototype.toolbar_button_onmouseover = function(tooltip) {\n",
       "    this.message.textContent = tooltip;\n",
       "};\n",
       "mpl.toolbar_items = [[\"Home\", \"Reset original view\", \"fa fa-home icon-home\", \"home\"], [\"Back\", \"Back to  previous view\", \"fa fa-arrow-left icon-arrow-left\", \"back\"], [\"Forward\", \"Forward to next view\", \"fa fa-arrow-right icon-arrow-right\", \"forward\"], [\"\", \"\", \"\", \"\"], [\"Pan\", \"Pan axes with left mouse, zoom with right\", \"fa fa-arrows icon-move\", \"pan\"], [\"Zoom\", \"Zoom to rectangle\", \"fa fa-square-o icon-check-empty\", \"zoom\"], [\"\", \"\", \"\", \"\"], [\"Download\", \"Download plot\", \"fa fa-floppy-o icon-save\", \"download\"]];\n",
       "\n",
       "mpl.extensions = [\"eps\", \"pdf\", \"png\", \"ps\", \"raw\", \"svg\"];\n",
       "\n",
       "mpl.default_extension = \"png\";var comm_websocket_adapter = function(comm) {\n",
       "    // Create a \"websocket\"-like object which calls the given IPython comm\n",
       "    // object with the appropriate methods. Currently this is a non binary\n",
       "    // socket, so there is still some room for performance tuning.\n",
       "    var ws = {};\n",
       "\n",
       "    ws.close = function() {\n",
       "        comm.close()\n",
       "    };\n",
       "    ws.send = function(m) {\n",
       "        //console.log('sending', m);\n",
       "        comm.send(m);\n",
       "    };\n",
       "    // Register the callback with on_msg.\n",
       "    comm.on_msg(function(msg) {\n",
       "        //console.log('receiving', msg['content']['data'], msg);\n",
       "        // Pass the mpl event to the overriden (by mpl) onmessage function.\n",
       "        ws.onmessage(msg['content']['data'])\n",
       "    });\n",
       "    return ws;\n",
       "}\n",
       "\n",
       "mpl.mpl_figure_comm = function(comm, msg) {\n",
       "    // This is the function which gets called when the mpl process\n",
       "    // starts-up an IPython Comm through the \"matplotlib\" channel.\n",
       "\n",
       "    var id = msg.content.data.id;\n",
       "    // Get hold of the div created by the display call when the Comm\n",
       "    // socket was opened in Python.\n",
       "    var element = $(\"#\" + id);\n",
       "    var ws_proxy = comm_websocket_adapter(comm)\n",
       "\n",
       "    function ondownload(figure, format) {\n",
       "        window.open(figure.imageObj.src);\n",
       "    }\n",
       "\n",
       "    var fig = new mpl.figure(id, ws_proxy,\n",
       "                           ondownload,\n",
       "                           element.get(0));\n",
       "\n",
       "    // Call onopen now - mpl needs it, as it is assuming we've passed it a real\n",
       "    // web socket which is closed, not our websocket->open comm proxy.\n",
       "    ws_proxy.onopen();\n",
       "\n",
       "    fig.parent_element = element.get(0);\n",
       "    fig.cell_info = mpl.find_output_cell(\"<div id='\" + id + \"'></div>\");\n",
       "    if (!fig.cell_info) {\n",
       "        console.error(\"Failed to find cell for figure\", id, fig);\n",
       "        return;\n",
       "    }\n",
       "\n",
       "    var output_index = fig.cell_info[2]\n",
       "    var cell = fig.cell_info[0];\n",
       "\n",
       "};\n",
       "\n",
       "mpl.figure.prototype.handle_close = function(fig, msg) {\n",
       "    fig.root.unbind('remove')\n",
       "\n",
       "    // Update the output cell to use the data from the current canvas.\n",
       "    fig.push_to_output();\n",
       "    var dataURL = fig.canvas.toDataURL();\n",
       "    // Re-enable the keyboard manager in IPython - without this line, in FF,\n",
       "    // the notebook keyboard shortcuts fail.\n",
       "    IPython.keyboard_manager.enable()\n",
       "    $(fig.parent_element).html('<img src=\"' + dataURL + '\">');\n",
       "    fig.close_ws(fig, msg);\n",
       "}\n",
       "\n",
       "mpl.figure.prototype.close_ws = function(fig, msg){\n",
       "    fig.send_message('closing', msg);\n",
       "    // fig.ws.close()\n",
       "}\n",
       "\n",
       "mpl.figure.prototype.push_to_output = function(remove_interactive) {\n",
       "    // Turn the data on the canvas into data in the output cell.\n",
       "    var dataURL = this.canvas.toDataURL();\n",
       "    this.cell_info[1]['text/html'] = '<img src=\"' + dataURL + '\">';\n",
       "}\n",
       "\n",
       "mpl.figure.prototype.updated_canvas_event = function() {\n",
       "    // Tell IPython that the notebook contents must change.\n",
       "    IPython.notebook.set_dirty(true);\n",
       "    this.send_message(\"ack\", {});\n",
       "    var fig = this;\n",
       "    // Wait a second, then push the new image to the DOM so\n",
       "    // that it is saved nicely (might be nice to debounce this).\n",
       "    setTimeout(function () { fig.push_to_output() }, 1000);\n",
       "}\n",
       "\n",
       "mpl.figure.prototype._init_toolbar = function() {\n",
       "    var fig = this;\n",
       "\n",
       "    var nav_element = $('<div/>')\n",
       "    nav_element.attr('style', 'width: 100%');\n",
       "    this.root.append(nav_element);\n",
       "\n",
       "    // Define a callback function for later on.\n",
       "    function toolbar_event(event) {\n",
       "        return fig.toolbar_button_onclick(event['data']);\n",
       "    }\n",
       "    function toolbar_mouse_event(event) {\n",
       "        return fig.toolbar_button_onmouseover(event['data']);\n",
       "    }\n",
       "\n",
       "    for(var toolbar_ind in mpl.toolbar_items){\n",
       "        var name = mpl.toolbar_items[toolbar_ind][0];\n",
       "        var tooltip = mpl.toolbar_items[toolbar_ind][1];\n",
       "        var image = mpl.toolbar_items[toolbar_ind][2];\n",
       "        var method_name = mpl.toolbar_items[toolbar_ind][3];\n",
       "\n",
       "        if (!name) { continue; };\n",
       "\n",
       "        var button = $('<button class=\"btn btn-default\" href=\"#\" title=\"' + name + '\"><i class=\"fa ' + image + ' fa-lg\"></i></button>');\n",
       "        button.click(method_name, toolbar_event);\n",
       "        button.mouseover(tooltip, toolbar_mouse_event);\n",
       "        nav_element.append(button);\n",
       "    }\n",
       "\n",
       "    // Add the status bar.\n",
       "    var status_bar = $('<span class=\"mpl-message\" style=\"text-align:right; float: right;\"/>');\n",
       "    nav_element.append(status_bar);\n",
       "    this.message = status_bar[0];\n",
       "\n",
       "    // Add the close button to the window.\n",
       "    var buttongrp = $('<div class=\"btn-group inline pull-right\"></div>');\n",
       "    var button = $('<button class=\"btn btn-mini btn-primary\" href=\"#\" title=\"Stop Interaction\"><i class=\"fa fa-power-off icon-remove icon-large\"></i></button>');\n",
       "    button.click(function (evt) { fig.handle_close(fig, {}); } );\n",
       "    button.mouseover('Stop Interaction', toolbar_mouse_event);\n",
       "    buttongrp.append(button);\n",
       "    var titlebar = this.root.find($('.ui-dialog-titlebar'));\n",
       "    titlebar.prepend(buttongrp);\n",
       "}\n",
       "\n",
       "mpl.figure.prototype._root_extra_style = function(el){\n",
       "    var fig = this\n",
       "    el.on(\"remove\", function(){\n",
       "\tfig.close_ws(fig, {});\n",
       "    });\n",
       "}\n",
       "\n",
       "mpl.figure.prototype._canvas_extra_style = function(el){\n",
       "    // this is important to make the div 'focusable\n",
       "    el.attr('tabindex', 0)\n",
       "    // reach out to IPython and tell the keyboard manager to turn it's self\n",
       "    // off when our div gets focus\n",
       "\n",
       "    // location in version 3\n",
       "    if (IPython.notebook.keyboard_manager) {\n",
       "        IPython.notebook.keyboard_manager.register_events(el);\n",
       "    }\n",
       "    else {\n",
       "        // location in version 2\n",
       "        IPython.keyboard_manager.register_events(el);\n",
       "    }\n",
       "\n",
       "}\n",
       "\n",
       "mpl.figure.prototype._key_event_extra = function(event, name) {\n",
       "    var manager = IPython.notebook.keyboard_manager;\n",
       "    if (!manager)\n",
       "        manager = IPython.keyboard_manager;\n",
       "\n",
       "    // Check for shift+enter\n",
       "    if (event.shiftKey && event.which == 13) {\n",
       "        this.canvas_div.blur();\n",
       "        event.shiftKey = false;\n",
       "        // Send a \"J\" for go to next cell\n",
       "        event.which = 74;\n",
       "        event.keyCode = 74;\n",
       "        manager.command_mode();\n",
       "        manager.handle_keydown(event);\n",
       "    }\n",
       "}\n",
       "\n",
       "mpl.figure.prototype.handle_save = function(fig, msg) {\n",
       "    fig.ondownload(fig, null);\n",
       "}\n",
       "\n",
       "\n",
       "mpl.find_output_cell = function(html_output) {\n",
       "    // Return the cell and output element which can be found *uniquely* in the notebook.\n",
       "    // Note - this is a bit hacky, but it is done because the \"notebook_saving.Notebook\"\n",
       "    // IPython event is triggered only after the cells have been serialised, which for\n",
       "    // our purposes (turning an active figure into a static one), is too late.\n",
       "    var cells = IPython.notebook.get_cells();\n",
       "    var ncells = cells.length;\n",
       "    for (var i=0; i<ncells; i++) {\n",
       "        var cell = cells[i];\n",
       "        if (cell.cell_type === 'code'){\n",
       "            for (var j=0; j<cell.output_area.outputs.length; j++) {\n",
       "                var data = cell.output_area.outputs[j];\n",
       "                if (data.data) {\n",
       "                    // IPython >= 3 moved mimebundle to data attribute of output\n",
       "                    data = data.data;\n",
       "                }\n",
       "                if (data['text/html'] == html_output) {\n",
       "                    return [cell, data, j];\n",
       "                }\n",
       "            }\n",
       "        }\n",
       "    }\n",
       "}\n",
       "\n",
       "// Register the function which deals with the matplotlib target/channel.\n",
       "// The kernel may be null if the page has been refreshed.\n",
       "if (IPython.notebook.kernel != null) {\n",
       "    IPython.notebook.kernel.comm_manager.register_target('matplotlib', mpl.mpl_figure_comm);\n",
       "}\n"
      ],
      "text/plain": [
       "<IPython.core.display.Javascript object>"
      ]
     },
     "metadata": {},
     "output_type": "display_data"
    },
    {
     "data": {
      "text/html": [
       "<img src=\"data:image/png;base64,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\">"
      ],
      "text/plain": [
       "<IPython.core.display.HTML object>"
      ]
     },
     "metadata": {},
     "output_type": "display_data"
    }
   ],
   "source": [
    "H.plot(hh.load(\"./slice_GtoM_v3.h5\"), min=0.0)"
   ]
  },
  {
   "cell_type": "code",
   "execution_count": 45,
   "metadata": {
    "collapsed": true
   },
   "outputs": [],
   "source": [
    "# Now try slicing along the M -> X path"
   ]
  },
  {
   "cell_type": "code",
   "execution_count": 39,
   "metadata": {
    "collapsed": false
   },
   "outputs": [
    {
     "name": "stdout",
     "output_type": "stream",
     "text": [
      "Writing slice_MtoX.yml\n"
     ]
    }
   ],
   "source": [
    "%%file slice_MtoX.yml\n",
    "\n",
    "angles: -90,90.1,1.0\n",
    "filename_pattern: work_%(angle)s/reduced_%(angle)s.nxs\n",
    "lattice: 5., 5., 5., 90, 90, 90\n",
    "orientation:\n",
    " u: 1, 0, 2\n",
    " v: 1,0,0\n",
    "Eaxis:\n",
    " min: 0\n",
    " max: 50\n",
    " N: 100\n",
    "Q_projections:\n",
    " U:\n",
    "  proj: 0,1,0\n",
    "  proj_name: 0,K,0\n",
    "  min: 0.0\n",
    "  max: 1.0\n",
    "  N: 100\n",
    " V:\n",
    "  proj: 1,0,0\n",
    "  proj_name: H,0,0\n",
    "  min: 0.25\n",
    "  max: 0.75\n",
    "  N: 1\n",
    " W:\n",
    "  proj: 0,0,1\n",
    "  proj_name: 0,0,L\n",
    "  min: -0.25\n",
    "  max: 0.25\n",
    "  N: 1\n",
    "output: slice_MtoX.nxs"
   ]
  },
  {
   "cell_type": "code",
   "execution_count": 40,
   "metadata": {
    "collapsed": false
   },
   "outputs": [],
   "source": [
    "! PYTHONPATH=$PWD:$PYTHONPATH ./scripts/reduce/getaslice.py slice_MtoX.yml > log.slice_MtoX"
   ]
  },
  {
   "cell_type": "code",
   "execution_count": 41,
   "metadata": {
    "collapsed": false
   },
   "outputs": [
    {
     "name": "stdout",
     "output_type": "stream",
     "text": [
      "FrameworkManager-[Notice] Welcome to Mantid 3.6.100\n",
      "FrameworkManager-[Notice] Please cite: http://dx.doi.org/10.1016/j.nima.2014.07.029 and this release: http://dx.doi.org/10.5286/Software/Mantid3.6.100\n",
      "Load-[Notice] Load started\n",
      "Load-[Notice] Load successful, Duration 0.81 seconds\n"
     ]
    }
   ],
   "source": [
    "!./scripts/reduce/slice2hist.py \"slice_MtoX.nxs\" slice_MtoX.h5"
   ]
  },
  {
   "cell_type": "code",
   "execution_count": 42,
   "metadata": {
    "collapsed": false
   },
   "outputs": [
    {
     "name": "stdout",
     "output_type": "stream",
     "text": [
      "plot z in (0, 6.99469426523e-06)\n"
     ]
    },
    {
     "data": {
      "application/javascript": [
       "/* Put everything inside the global mpl namespace */\n",
       "window.mpl = {};\n",
       "\n",
       "mpl.get_websocket_type = function() {\n",
       "    if (typeof(WebSocket) !== 'undefined') {\n",
       "        return WebSocket;\n",
       "    } else if (typeof(MozWebSocket) !== 'undefined') {\n",
       "        return MozWebSocket;\n",
       "    } else {\n",
       "        alert('Your browser does not have WebSocket support.' +\n",
       "              'Please try Chrome, Safari or Firefox ≥ 6. ' +\n",
       "              'Firefox 4 and 5 are also supported but you ' +\n",
       "              'have to enable WebSockets in about:config.');\n",
       "    };\n",
       "}\n",
       "\n",
       "mpl.figure = function(figure_id, websocket, ondownload, parent_element) {\n",
       "    this.id = figure_id;\n",
       "\n",
       "    this.ws = websocket;\n",
       "\n",
       "    this.supports_binary = (this.ws.binaryType != undefined);\n",
       "\n",
       "    if (!this.supports_binary) {\n",
       "        var warnings = document.getElementById(\"mpl-warnings\");\n",
       "        if (warnings) {\n",
       "            warnings.style.display = 'block';\n",
       "            warnings.textContent = (\n",
       "                \"This browser does not support binary websocket messages. \" +\n",
       "                    \"Performance may be slow.\");\n",
       "        }\n",
       "    }\n",
       "\n",
       "    this.imageObj = new Image();\n",
       "\n",
       "    this.context = undefined;\n",
       "    this.message = undefined;\n",
       "    this.canvas = undefined;\n",
       "    this.rubberband_canvas = undefined;\n",
       "    this.rubberband_context = undefined;\n",
       "    this.format_dropdown = undefined;\n",
       "\n",
       "    this.image_mode = 'full';\n",
       "\n",
       "    this.root = $('<div/>');\n",
       "    this._root_extra_style(this.root)\n",
       "    this.root.attr('style', 'display: inline-block');\n",
       "\n",
       "    $(parent_element).append(this.root);\n",
       "\n",
       "    this._init_header(this);\n",
       "    this._init_canvas(this);\n",
       "    this._init_toolbar(this);\n",
       "\n",
       "    var fig = this;\n",
       "\n",
       "    this.waiting = false;\n",
       "\n",
       "    this.ws.onopen =  function () {\n",
       "            fig.send_message(\"supports_binary\", {value: fig.supports_binary});\n",
       "            fig.send_message(\"send_image_mode\", {});\n",
       "            fig.send_message(\"refresh\", {});\n",
       "        }\n",
       "\n",
       "    this.imageObj.onload = function() {\n",
       "            if (fig.image_mode == 'full') {\n",
       "                // Full images could contain transparency (where diff images\n",
       "                // almost always do), so we need to clear the canvas so that\n",
       "                // there is no ghosting.\n",
       "                fig.context.clearRect(0, 0, fig.canvas.width, fig.canvas.height);\n",
       "            }\n",
       "            fig.context.drawImage(fig.imageObj, 0, 0);\n",
       "        };\n",
       "\n",
       "    this.imageObj.onunload = function() {\n",
       "        this.ws.close();\n",
       "    }\n",
       "\n",
       "    this.ws.onmessage = this._make_on_message_function(this);\n",
       "\n",
       "    this.ondownload = ondownload;\n",
       "}\n",
       "\n",
       "mpl.figure.prototype._init_header = function() {\n",
       "    var titlebar = $(\n",
       "        '<div class=\"ui-dialog-titlebar ui-widget-header ui-corner-all ' +\n",
       "        'ui-helper-clearfix\"/>');\n",
       "    var titletext = $(\n",
       "        '<div class=\"ui-dialog-title\" style=\"width: 100%; ' +\n",
       "        'text-align: center; padding: 3px;\"/>');\n",
       "    titlebar.append(titletext)\n",
       "    this.root.append(titlebar);\n",
       "    this.header = titletext[0];\n",
       "}\n",
       "\n",
       "\n",
       "\n",
       "mpl.figure.prototype._canvas_extra_style = function(canvas_div) {\n",
       "\n",
       "}\n",
       "\n",
       "\n",
       "mpl.figure.prototype._root_extra_style = function(canvas_div) {\n",
       "\n",
       "}\n",
       "\n",
       "mpl.figure.prototype._init_canvas = function() {\n",
       "    var fig = this;\n",
       "\n",
       "    var canvas_div = $('<div/>');\n",
       "\n",
       "    canvas_div.attr('style', 'position: relative; clear: both; outline: 0');\n",
       "\n",
       "    function canvas_keyboard_event(event) {\n",
       "        return fig.key_event(event, event['data']);\n",
       "    }\n",
       "\n",
       "    canvas_div.keydown('key_press', canvas_keyboard_event);\n",
       "    canvas_div.keyup('key_release', canvas_keyboard_event);\n",
       "    this.canvas_div = canvas_div\n",
       "    this._canvas_extra_style(canvas_div)\n",
       "    this.root.append(canvas_div);\n",
       "\n",
       "    var canvas = $('<canvas/>');\n",
       "    canvas.addClass('mpl-canvas');\n",
       "    canvas.attr('style', \"left: 0; top: 0; z-index: 0; outline: 0\")\n",
       "\n",
       "    this.canvas = canvas[0];\n",
       "    this.context = canvas[0].getContext(\"2d\");\n",
       "\n",
       "    var rubberband = $('<canvas/>');\n",
       "    rubberband.attr('style', \"position: absolute; left: 0; top: 0; z-index: 1;\")\n",
       "\n",
       "    var pass_mouse_events = true;\n",
       "\n",
       "    canvas_div.resizable({\n",
       "        start: function(event, ui) {\n",
       "            pass_mouse_events = false;\n",
       "        },\n",
       "        resize: function(event, ui) {\n",
       "            fig.request_resize(ui.size.width, ui.size.height);\n",
       "        },\n",
       "        stop: function(event, ui) {\n",
       "            pass_mouse_events = true;\n",
       "            fig.request_resize(ui.size.width, ui.size.height);\n",
       "        },\n",
       "    });\n",
       "\n",
       "    function mouse_event_fn(event) {\n",
       "        if (pass_mouse_events)\n",
       "            return fig.mouse_event(event, event['data']);\n",
       "    }\n",
       "\n",
       "    rubberband.mousedown('button_press', mouse_event_fn);\n",
       "    rubberband.mouseup('button_release', mouse_event_fn);\n",
       "    // Throttle sequential mouse events to 1 every 20ms.\n",
       "    rubberband.mousemove('motion_notify', mouse_event_fn);\n",
       "\n",
       "    rubberband.mouseenter('figure_enter', mouse_event_fn);\n",
       "    rubberband.mouseleave('figure_leave', mouse_event_fn);\n",
       "\n",
       "    canvas_div.on(\"wheel\", function (event) {\n",
       "        event = event.originalEvent;\n",
       "        event['data'] = 'scroll'\n",
       "        if (event.deltaY < 0) {\n",
       "            event.step = 1;\n",
       "        } else {\n",
       "            event.step = -1;\n",
       "        }\n",
       "        mouse_event_fn(event);\n",
       "    });\n",
       "\n",
       "    canvas_div.append(canvas);\n",
       "    canvas_div.append(rubberband);\n",
       "\n",
       "    this.rubberband = rubberband;\n",
       "    this.rubberband_canvas = rubberband[0];\n",
       "    this.rubberband_context = rubberband[0].getContext(\"2d\");\n",
       "    this.rubberband_context.strokeStyle = \"#000000\";\n",
       "\n",
       "    this._resize_canvas = function(width, height) {\n",
       "        // Keep the size of the canvas, canvas container, and rubber band\n",
       "        // canvas in synch.\n",
       "        canvas_div.css('width', width)\n",
       "        canvas_div.css('height', height)\n",
       "\n",
       "        canvas.attr('width', width);\n",
       "        canvas.attr('height', height);\n",
       "\n",
       "        rubberband.attr('width', width);\n",
       "        rubberband.attr('height', height);\n",
       "    }\n",
       "\n",
       "    // Set the figure to an initial 600x600px, this will subsequently be updated\n",
       "    // upon first draw.\n",
       "    this._resize_canvas(600, 600);\n",
       "\n",
       "    // Disable right mouse context menu.\n",
       "    $(this.rubberband_canvas).bind(\"contextmenu\",function(e){\n",
       "        return false;\n",
       "    });\n",
       "\n",
       "    function set_focus () {\n",
       "        canvas.focus();\n",
       "        canvas_div.focus();\n",
       "    }\n",
       "\n",
       "    window.setTimeout(set_focus, 100);\n",
       "}\n",
       "\n",
       "mpl.figure.prototype._init_toolbar = function() {\n",
       "    var fig = this;\n",
       "\n",
       "    var nav_element = $('<div/>')\n",
       "    nav_element.attr('style', 'width: 100%');\n",
       "    this.root.append(nav_element);\n",
       "\n",
       "    // Define a callback function for later on.\n",
       "    function toolbar_event(event) {\n",
       "        return fig.toolbar_button_onclick(event['data']);\n",
       "    }\n",
       "    function toolbar_mouse_event(event) {\n",
       "        return fig.toolbar_button_onmouseover(event['data']);\n",
       "    }\n",
       "\n",
       "    for(var toolbar_ind in mpl.toolbar_items) {\n",
       "        var name = mpl.toolbar_items[toolbar_ind][0];\n",
       "        var tooltip = mpl.toolbar_items[toolbar_ind][1];\n",
       "        var image = mpl.toolbar_items[toolbar_ind][2];\n",
       "        var method_name = mpl.toolbar_items[toolbar_ind][3];\n",
       "\n",
       "        if (!name) {\n",
       "            // put a spacer in here.\n",
       "            continue;\n",
       "        }\n",
       "        var button = $('<button/>');\n",
       "        button.addClass('ui-button ui-widget ui-state-default ui-corner-all ' +\n",
       "                        'ui-button-icon-only');\n",
       "        button.attr('role', 'button');\n",
       "        button.attr('aria-disabled', 'false');\n",
       "        button.click(method_name, toolbar_event);\n",
       "        button.mouseover(tooltip, toolbar_mouse_event);\n",
       "\n",
       "        var icon_img = $('<span/>');\n",
       "        icon_img.addClass('ui-button-icon-primary ui-icon');\n",
       "        icon_img.addClass(image);\n",
       "        icon_img.addClass('ui-corner-all');\n",
       "\n",
       "        var tooltip_span = $('<span/>');\n",
       "        tooltip_span.addClass('ui-button-text');\n",
       "        tooltip_span.html(tooltip);\n",
       "\n",
       "        button.append(icon_img);\n",
       "        button.append(tooltip_span);\n",
       "\n",
       "        nav_element.append(button);\n",
       "    }\n",
       "\n",
       "    var fmt_picker_span = $('<span/>');\n",
       "\n",
       "    var fmt_picker = $('<select/>');\n",
       "    fmt_picker.addClass('mpl-toolbar-option ui-widget ui-widget-content');\n",
       "    fmt_picker_span.append(fmt_picker);\n",
       "    nav_element.append(fmt_picker_span);\n",
       "    this.format_dropdown = fmt_picker[0];\n",
       "\n",
       "    for (var ind in mpl.extensions) {\n",
       "        var fmt = mpl.extensions[ind];\n",
       "        var option = $(\n",
       "            '<option/>', {selected: fmt === mpl.default_extension}).html(fmt);\n",
       "        fmt_picker.append(option)\n",
       "    }\n",
       "\n",
       "    // Add hover states to the ui-buttons\n",
       "    $( \".ui-button\" ).hover(\n",
       "        function() { $(this).addClass(\"ui-state-hover\");},\n",
       "        function() { $(this).removeClass(\"ui-state-hover\");}\n",
       "    );\n",
       "\n",
       "    var status_bar = $('<span class=\"mpl-message\"/>');\n",
       "    nav_element.append(status_bar);\n",
       "    this.message = status_bar[0];\n",
       "}\n",
       "\n",
       "mpl.figure.prototype.request_resize = function(x_pixels, y_pixels) {\n",
       "    // Request matplotlib to resize the figure. Matplotlib will then trigger a resize in the client,\n",
       "    // which will in turn request a refresh of the image.\n",
       "    this.send_message('resize', {'width': x_pixels, 'height': y_pixels});\n",
       "}\n",
       "\n",
       "mpl.figure.prototype.send_message = function(type, properties) {\n",
       "    properties['type'] = type;\n",
       "    properties['figure_id'] = this.id;\n",
       "    this.ws.send(JSON.stringify(properties));\n",
       "}\n",
       "\n",
       "mpl.figure.prototype.send_draw_message = function() {\n",
       "    if (!this.waiting) {\n",
       "        this.waiting = true;\n",
       "        this.ws.send(JSON.stringify({type: \"draw\", figure_id: this.id}));\n",
       "    }\n",
       "}\n",
       "\n",
       "\n",
       "mpl.figure.prototype.handle_save = function(fig, msg) {\n",
       "    var format_dropdown = fig.format_dropdown;\n",
       "    var format = format_dropdown.options[format_dropdown.selectedIndex].value;\n",
       "    fig.ondownload(fig, format);\n",
       "}\n",
       "\n",
       "\n",
       "mpl.figure.prototype.handle_resize = function(fig, msg) {\n",
       "    var size = msg['size'];\n",
       "    if (size[0] != fig.canvas.width || size[1] != fig.canvas.height) {\n",
       "        fig._resize_canvas(size[0], size[1]);\n",
       "        fig.send_message(\"refresh\", {});\n",
       "    };\n",
       "}\n",
       "\n",
       "mpl.figure.prototype.handle_rubberband = function(fig, msg) {\n",
       "    var x0 = msg['x0'];\n",
       "    var y0 = fig.canvas.height - msg['y0'];\n",
       "    var x1 = msg['x1'];\n",
       "    var y1 = fig.canvas.height - msg['y1'];\n",
       "    x0 = Math.floor(x0) + 0.5;\n",
       "    y0 = Math.floor(y0) + 0.5;\n",
       "    x1 = Math.floor(x1) + 0.5;\n",
       "    y1 = Math.floor(y1) + 0.5;\n",
       "    var min_x = Math.min(x0, x1);\n",
       "    var min_y = Math.min(y0, y1);\n",
       "    var width = Math.abs(x1 - x0);\n",
       "    var height = Math.abs(y1 - y0);\n",
       "\n",
       "    fig.rubberband_context.clearRect(\n",
       "        0, 0, fig.canvas.width, fig.canvas.height);\n",
       "\n",
       "    fig.rubberband_context.strokeRect(min_x, min_y, width, height);\n",
       "}\n",
       "\n",
       "mpl.figure.prototype.handle_figure_label = function(fig, msg) {\n",
       "    // Updates the figure title.\n",
       "    fig.header.textContent = msg['label'];\n",
       "}\n",
       "\n",
       "mpl.figure.prototype.handle_cursor = function(fig, msg) {\n",
       "    var cursor = msg['cursor'];\n",
       "    switch(cursor)\n",
       "    {\n",
       "    case 0:\n",
       "        cursor = 'pointer';\n",
       "        break;\n",
       "    case 1:\n",
       "        cursor = 'default';\n",
       "        break;\n",
       "    case 2:\n",
       "        cursor = 'crosshair';\n",
       "        break;\n",
       "    case 3:\n",
       "        cursor = 'move';\n",
       "        break;\n",
       "    }\n",
       "    fig.rubberband_canvas.style.cursor = cursor;\n",
       "}\n",
       "\n",
       "mpl.figure.prototype.handle_message = function(fig, msg) {\n",
       "    fig.message.textContent = msg['message'];\n",
       "}\n",
       "\n",
       "mpl.figure.prototype.handle_draw = function(fig, msg) {\n",
       "    // Request the server to send over a new figure.\n",
       "    fig.send_draw_message();\n",
       "}\n",
       "\n",
       "mpl.figure.prototype.handle_image_mode = function(fig, msg) {\n",
       "    fig.image_mode = msg['mode'];\n",
       "}\n",
       "\n",
       "mpl.figure.prototype.updated_canvas_event = function() {\n",
       "    // Called whenever the canvas gets updated.\n",
       "    this.send_message(\"ack\", {});\n",
       "}\n",
       "\n",
       "// A function to construct a web socket function for onmessage handling.\n",
       "// Called in the figure constructor.\n",
       "mpl.figure.prototype._make_on_message_function = function(fig) {\n",
       "    return function socket_on_message(evt) {\n",
       "        if (evt.data instanceof Blob) {\n",
       "            /* FIXME: We get \"Resource interpreted as Image but\n",
       "             * transferred with MIME type text/plain:\" errors on\n",
       "             * Chrome.  But how to set the MIME type?  It doesn't seem\n",
       "             * to be part of the websocket stream */\n",
       "            evt.data.type = \"image/png\";\n",
       "\n",
       "            /* Free the memory for the previous frames */\n",
       "            if (fig.imageObj.src) {\n",
       "                (window.URL || window.webkitURL).revokeObjectURL(\n",
       "                    fig.imageObj.src);\n",
       "            }\n",
       "\n",
       "            fig.imageObj.src = (window.URL || window.webkitURL).createObjectURL(\n",
       "                evt.data);\n",
       "            fig.updated_canvas_event();\n",
       "            fig.waiting = false;\n",
       "            return;\n",
       "        }\n",
       "        else if (typeof evt.data === 'string' && evt.data.slice(0, 21) == \"data:image/png;base64\") {\n",
       "            fig.imageObj.src = evt.data;\n",
       "            fig.updated_canvas_event();\n",
       "            fig.waiting = false;\n",
       "            return;\n",
       "        }\n",
       "\n",
       "        var msg = JSON.parse(evt.data);\n",
       "        var msg_type = msg['type'];\n",
       "\n",
       "        // Call the  \"handle_{type}\" callback, which takes\n",
       "        // the figure and JSON message as its only arguments.\n",
       "        try {\n",
       "            var callback = fig[\"handle_\" + msg_type];\n",
       "        } catch (e) {\n",
       "            console.log(\"No handler for the '\" + msg_type + \"' message type: \", msg);\n",
       "            return;\n",
       "        }\n",
       "\n",
       "        if (callback) {\n",
       "            try {\n",
       "                // console.log(\"Handling '\" + msg_type + \"' message: \", msg);\n",
       "                callback(fig, msg);\n",
       "            } catch (e) {\n",
       "                console.log(\"Exception inside the 'handler_\" + msg_type + \"' callback:\", e, e.stack, msg);\n",
       "            }\n",
       "        }\n",
       "    };\n",
       "}\n",
       "\n",
       "// from http://stackoverflow.com/questions/1114465/getting-mouse-location-in-canvas\n",
       "mpl.findpos = function(e) {\n",
       "    //this section is from http://www.quirksmode.org/js/events_properties.html\n",
       "    var targ;\n",
       "    if (!e)\n",
       "        e = window.event;\n",
       "    if (e.target)\n",
       "        targ = e.target;\n",
       "    else if (e.srcElement)\n",
       "        targ = e.srcElement;\n",
       "    if (targ.nodeType == 3) // defeat Safari bug\n",
       "        targ = targ.parentNode;\n",
       "\n",
       "    // jQuery normalizes the pageX and pageY\n",
       "    // pageX,Y are the mouse positions relative to the document\n",
       "    // offset() returns the position of the element relative to the document\n",
       "    var x = e.pageX - $(targ).offset().left;\n",
       "    var y = e.pageY - $(targ).offset().top;\n",
       "\n",
       "    return {\"x\": x, \"y\": y};\n",
       "};\n",
       "\n",
       "/*\n",
       " * return a copy of an object with only non-object keys\n",
       " * we need this to avoid circular references\n",
       " * http://stackoverflow.com/a/24161582/3208463\n",
       " */\n",
       "function simpleKeys (original) {\n",
       "  return Object.keys(original).reduce(function (obj, key) {\n",
       "    if (typeof original[key] !== 'object')\n",
       "        obj[key] = original[key]\n",
       "    return obj;\n",
       "  }, {});\n",
       "}\n",
       "\n",
       "mpl.figure.prototype.mouse_event = function(event, name) {\n",
       "    var canvas_pos = mpl.findpos(event)\n",
       "\n",
       "    if (name === 'button_press')\n",
       "    {\n",
       "        this.canvas.focus();\n",
       "        this.canvas_div.focus();\n",
       "    }\n",
       "\n",
       "    var x = canvas_pos.x;\n",
       "    var y = canvas_pos.y;\n",
       "\n",
       "    this.send_message(name, {x: x, y: y, button: event.button,\n",
       "                             step: event.step,\n",
       "                             guiEvent: simpleKeys(event)});\n",
       "\n",
       "    /* This prevents the web browser from automatically changing to\n",
       "     * the text insertion cursor when the button is pressed.  We want\n",
       "     * to control all of the cursor setting manually through the\n",
       "     * 'cursor' event from matplotlib */\n",
       "    event.preventDefault();\n",
       "    return false;\n",
       "}\n",
       "\n",
       "mpl.figure.prototype._key_event_extra = function(event, name) {\n",
       "    // Handle any extra behaviour associated with a key event\n",
       "}\n",
       "\n",
       "mpl.figure.prototype.key_event = function(event, name) {\n",
       "\n",
       "    // Prevent repeat events\n",
       "    if (name == 'key_press')\n",
       "    {\n",
       "        if (event.which === this._key)\n",
       "            return;\n",
       "        else\n",
       "            this._key = event.which;\n",
       "    }\n",
       "    if (name == 'key_release')\n",
       "        this._key = null;\n",
       "\n",
       "    var value = '';\n",
       "    if (event.ctrlKey && event.which != 17)\n",
       "        value += \"ctrl+\";\n",
       "    if (event.altKey && event.which != 18)\n",
       "        value += \"alt+\";\n",
       "    if (event.shiftKey && event.which != 16)\n",
       "        value += \"shift+\";\n",
       "\n",
       "    value += 'k';\n",
       "    value += event.which.toString();\n",
       "\n",
       "    this._key_event_extra(event, name);\n",
       "\n",
       "    this.send_message(name, {key: value,\n",
       "                             guiEvent: simpleKeys(event)});\n",
       "    return false;\n",
       "}\n",
       "\n",
       "mpl.figure.prototype.toolbar_button_onclick = function(name) {\n",
       "    if (name == 'download') {\n",
       "        this.handle_save(this, null);\n",
       "    } else {\n",
       "        this.send_message(\"toolbar_button\", {name: name});\n",
       "    }\n",
       "};\n",
       "\n",
       "mpl.figure.prototype.toolbar_button_onmouseover = function(tooltip) {\n",
       "    this.message.textContent = tooltip;\n",
       "};\n",
       "mpl.toolbar_items = [[\"Home\", \"Reset original view\", \"fa fa-home icon-home\", \"home\"], [\"Back\", \"Back to  previous view\", \"fa fa-arrow-left icon-arrow-left\", \"back\"], [\"Forward\", \"Forward to next view\", \"fa fa-arrow-right icon-arrow-right\", \"forward\"], [\"\", \"\", \"\", \"\"], [\"Pan\", \"Pan axes with left mouse, zoom with right\", \"fa fa-arrows icon-move\", \"pan\"], [\"Zoom\", \"Zoom to rectangle\", \"fa fa-square-o icon-check-empty\", \"zoom\"], [\"\", \"\", \"\", \"\"], [\"Download\", \"Download plot\", \"fa fa-floppy-o icon-save\", \"download\"]];\n",
       "\n",
       "mpl.extensions = [\"eps\", \"pdf\", \"png\", \"ps\", \"raw\", \"svg\"];\n",
       "\n",
       "mpl.default_extension = \"png\";var comm_websocket_adapter = function(comm) {\n",
       "    // Create a \"websocket\"-like object which calls the given IPython comm\n",
       "    // object with the appropriate methods. Currently this is a non binary\n",
       "    // socket, so there is still some room for performance tuning.\n",
       "    var ws = {};\n",
       "\n",
       "    ws.close = function() {\n",
       "        comm.close()\n",
       "    };\n",
       "    ws.send = function(m) {\n",
       "        //console.log('sending', m);\n",
       "        comm.send(m);\n",
       "    };\n",
       "    // Register the callback with on_msg.\n",
       "    comm.on_msg(function(msg) {\n",
       "        //console.log('receiving', msg['content']['data'], msg);\n",
       "        // Pass the mpl event to the overriden (by mpl) onmessage function.\n",
       "        ws.onmessage(msg['content']['data'])\n",
       "    });\n",
       "    return ws;\n",
       "}\n",
       "\n",
       "mpl.mpl_figure_comm = function(comm, msg) {\n",
       "    // This is the function which gets called when the mpl process\n",
       "    // starts-up an IPython Comm through the \"matplotlib\" channel.\n",
       "\n",
       "    var id = msg.content.data.id;\n",
       "    // Get hold of the div created by the display call when the Comm\n",
       "    // socket was opened in Python.\n",
       "    var element = $(\"#\" + id);\n",
       "    var ws_proxy = comm_websocket_adapter(comm)\n",
       "\n",
       "    function ondownload(figure, format) {\n",
       "        window.open(figure.imageObj.src);\n",
       "    }\n",
       "\n",
       "    var fig = new mpl.figure(id, ws_proxy,\n",
       "                           ondownload,\n",
       "                           element.get(0));\n",
       "\n",
       "    // Call onopen now - mpl needs it, as it is assuming we've passed it a real\n",
       "    // web socket which is closed, not our websocket->open comm proxy.\n",
       "    ws_proxy.onopen();\n",
       "\n",
       "    fig.parent_element = element.get(0);\n",
       "    fig.cell_info = mpl.find_output_cell(\"<div id='\" + id + \"'></div>\");\n",
       "    if (!fig.cell_info) {\n",
       "        console.error(\"Failed to find cell for figure\", id, fig);\n",
       "        return;\n",
       "    }\n",
       "\n",
       "    var output_index = fig.cell_info[2]\n",
       "    var cell = fig.cell_info[0];\n",
       "\n",
       "};\n",
       "\n",
       "mpl.figure.prototype.handle_close = function(fig, msg) {\n",
       "    fig.root.unbind('remove')\n",
       "\n",
       "    // Update the output cell to use the data from the current canvas.\n",
       "    fig.push_to_output();\n",
       "    var dataURL = fig.canvas.toDataURL();\n",
       "    // Re-enable the keyboard manager in IPython - without this line, in FF,\n",
       "    // the notebook keyboard shortcuts fail.\n",
       "    IPython.keyboard_manager.enable()\n",
       "    $(fig.parent_element).html('<img src=\"' + dataURL + '\">');\n",
       "    fig.close_ws(fig, msg);\n",
       "}\n",
       "\n",
       "mpl.figure.prototype.close_ws = function(fig, msg){\n",
       "    fig.send_message('closing', msg);\n",
       "    // fig.ws.close()\n",
       "}\n",
       "\n",
       "mpl.figure.prototype.push_to_output = function(remove_interactive) {\n",
       "    // Turn the data on the canvas into data in the output cell.\n",
       "    var dataURL = this.canvas.toDataURL();\n",
       "    this.cell_info[1]['text/html'] = '<img src=\"' + dataURL + '\">';\n",
       "}\n",
       "\n",
       "mpl.figure.prototype.updated_canvas_event = function() {\n",
       "    // Tell IPython that the notebook contents must change.\n",
       "    IPython.notebook.set_dirty(true);\n",
       "    this.send_message(\"ack\", {});\n",
       "    var fig = this;\n",
       "    // Wait a second, then push the new image to the DOM so\n",
       "    // that it is saved nicely (might be nice to debounce this).\n",
       "    setTimeout(function () { fig.push_to_output() }, 1000);\n",
       "}\n",
       "\n",
       "mpl.figure.prototype._init_toolbar = function() {\n",
       "    var fig = this;\n",
       "\n",
       "    var nav_element = $('<div/>')\n",
       "    nav_element.attr('style', 'width: 100%');\n",
       "    this.root.append(nav_element);\n",
       "\n",
       "    // Define a callback function for later on.\n",
       "    function toolbar_event(event) {\n",
       "        return fig.toolbar_button_onclick(event['data']);\n",
       "    }\n",
       "    function toolbar_mouse_event(event) {\n",
       "        return fig.toolbar_button_onmouseover(event['data']);\n",
       "    }\n",
       "\n",
       "    for(var toolbar_ind in mpl.toolbar_items){\n",
       "        var name = mpl.toolbar_items[toolbar_ind][0];\n",
       "        var tooltip = mpl.toolbar_items[toolbar_ind][1];\n",
       "        var image = mpl.toolbar_items[toolbar_ind][2];\n",
       "        var method_name = mpl.toolbar_items[toolbar_ind][3];\n",
       "\n",
       "        if (!name) { continue; };\n",
       "\n",
       "        var button = $('<button class=\"btn btn-default\" href=\"#\" title=\"' + name + '\"><i class=\"fa ' + image + ' fa-lg\"></i></button>');\n",
       "        button.click(method_name, toolbar_event);\n",
       "        button.mouseover(tooltip, toolbar_mouse_event);\n",
       "        nav_element.append(button);\n",
       "    }\n",
       "\n",
       "    // Add the status bar.\n",
       "    var status_bar = $('<span class=\"mpl-message\" style=\"text-align:right; float: right;\"/>');\n",
       "    nav_element.append(status_bar);\n",
       "    this.message = status_bar[0];\n",
       "\n",
       "    // Add the close button to the window.\n",
       "    var buttongrp = $('<div class=\"btn-group inline pull-right\"></div>');\n",
       "    var button = $('<button class=\"btn btn-mini btn-primary\" href=\"#\" title=\"Stop Interaction\"><i class=\"fa fa-power-off icon-remove icon-large\"></i></button>');\n",
       "    button.click(function (evt) { fig.handle_close(fig, {}); } );\n",
       "    button.mouseover('Stop Interaction', toolbar_mouse_event);\n",
       "    buttongrp.append(button);\n",
       "    var titlebar = this.root.find($('.ui-dialog-titlebar'));\n",
       "    titlebar.prepend(buttongrp);\n",
       "}\n",
       "\n",
       "mpl.figure.prototype._root_extra_style = function(el){\n",
       "    var fig = this\n",
       "    el.on(\"remove\", function(){\n",
       "\tfig.close_ws(fig, {});\n",
       "    });\n",
       "}\n",
       "\n",
       "mpl.figure.prototype._canvas_extra_style = function(el){\n",
       "    // this is important to make the div 'focusable\n",
       "    el.attr('tabindex', 0)\n",
       "    // reach out to IPython and tell the keyboard manager to turn it's self\n",
       "    // off when our div gets focus\n",
       "\n",
       "    // location in version 3\n",
       "    if (IPython.notebook.keyboard_manager) {\n",
       "        IPython.notebook.keyboard_manager.register_events(el);\n",
       "    }\n",
       "    else {\n",
       "        // location in version 2\n",
       "        IPython.keyboard_manager.register_events(el);\n",
       "    }\n",
       "\n",
       "}\n",
       "\n",
       "mpl.figure.prototype._key_event_extra = function(event, name) {\n",
       "    var manager = IPython.notebook.keyboard_manager;\n",
       "    if (!manager)\n",
       "        manager = IPython.keyboard_manager;\n",
       "\n",
       "    // Check for shift+enter\n",
       "    if (event.shiftKey && event.which == 13) {\n",
       "        this.canvas_div.blur();\n",
       "        event.shiftKey = false;\n",
       "        // Send a \"J\" for go to next cell\n",
       "        event.which = 74;\n",
       "        event.keyCode = 74;\n",
       "        manager.command_mode();\n",
       "        manager.handle_keydown(event);\n",
       "    }\n",
       "}\n",
       "\n",
       "mpl.figure.prototype.handle_save = function(fig, msg) {\n",
       "    fig.ondownload(fig, null);\n",
       "}\n",
       "\n",
       "\n",
       "mpl.find_output_cell = function(html_output) {\n",
       "    // Return the cell and output element which can be found *uniquely* in the notebook.\n",
       "    // Note - this is a bit hacky, but it is done because the \"notebook_saving.Notebook\"\n",
       "    // IPython event is triggered only after the cells have been serialised, which for\n",
       "    // our purposes (turning an active figure into a static one), is too late.\n",
       "    var cells = IPython.notebook.get_cells();\n",
       "    var ncells = cells.length;\n",
       "    for (var i=0; i<ncells; i++) {\n",
       "        var cell = cells[i];\n",
       "        if (cell.cell_type === 'code'){\n",
       "            for (var j=0; j<cell.output_area.outputs.length; j++) {\n",
       "                var data = cell.output_area.outputs[j];\n",
       "                if (data.data) {\n",
       "                    // IPython >= 3 moved mimebundle to data attribute of output\n",
       "                    data = data.data;\n",
       "                }\n",
       "                if (data['text/html'] == html_output) {\n",
       "                    return [cell, data, j];\n",
       "                }\n",
       "            }\n",
       "        }\n",
       "    }\n",
       "}\n",
       "\n",
       "// Register the function which deals with the matplotlib target/channel.\n",
       "// The kernel may be null if the page has been refreshed.\n",
       "if (IPython.notebook.kernel != null) {\n",
       "    IPython.notebook.kernel.comm_manager.register_target('matplotlib', mpl.mpl_figure_comm);\n",
       "}\n"
      ],
      "text/plain": [
       "<IPython.core.display.Javascript object>"
      ]
     },
     "metadata": {},
     "output_type": "display_data"
    },
    {
     "data": {
      "text/html": [
       "<img src=\"data:image/png;base64,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\">"
      ],
      "text/plain": [
       "<IPython.core.display.HTML object>"
      ]
     },
     "metadata": {},
     "output_type": "display_data"
    }
   ],
   "source": [
    "H.plot(hh.load(\"./slice_MtoX.h5\"), min=0)"
   ]
  }
 ],
 "metadata": {
  "kernelspec": {
   "display_name": "Python 2",
   "language": "python",
   "name": "python2"
  },
  "language_info": {
   "codemirror_mode": {
    "name": "ipython",
    "version": 2
   },
   "file_extension": ".py",
   "mimetype": "text/x-python",
   "name": "python",
   "nbconvert_exporter": "python",
   "pygments_lexer": "ipython2",
   "version": "2.7.11"
  },
  "widgets": {
   "state": {},
   "version": "1.1.2"
  }
 },
 "nbformat": 4,
 "nbformat_minor": 0
}
