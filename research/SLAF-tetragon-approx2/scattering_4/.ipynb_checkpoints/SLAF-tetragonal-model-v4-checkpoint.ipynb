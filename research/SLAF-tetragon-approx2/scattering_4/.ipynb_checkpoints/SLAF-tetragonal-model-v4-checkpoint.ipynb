{
 "cells": [
  {
   "cell_type": "markdown",
   "metadata": {},
   "source": [
    "# Spin Wave Simulation"
   ]
  },
  {
   "cell_type": "markdown",
   "metadata": {},
   "source": [
    "Instrument: ARCS\n",
    "* Ei=150meV\n",
    "* Fermi chopper: ? Hz\n",
    "* T0: 90Hz\n",
    " \n",
    "Sample: SLAF tetragonal model\n",
    "* lattice parameters: 5 5 5        90 90 90\n",
    "* spin wave model available in paper: \"Dynamical structure factor of quasi-two-dimensional antiferromagnet in high fields\"\n",
    "* Orientation: u,v = [1 0 2] and  [1 0 0]\n",
    "* psi angles: -90, 90, step 3\n"
   ]
  },
  {
   "cell_type": "markdown",
   "metadata": {},
   "source": [
    "## Step 0. some goodies"
   ]
  },
  {
   "cell_type": "code",
   "execution_count": 1,
   "metadata": {
    "collapsed": false
   },
   "outputs": [],
   "source": [
    "%matplotlib notebook\n",
    "from matplotlib import pyplot as plt\n",
    "import numpy as np\n",
    "import histogram.hdf as hh, histogram as H"
   ]
  },
  {
   "cell_type": "markdown",
   "metadata": {},
   "source": [
    "## Step 1. create dir structure"
   ]
  },
  {
   "cell_type": "code",
   "execution_count": 2,
   "metadata": {
    "collapsed": true
   },
   "outputs": [],
   "source": [
    "# Define which directory to use for my simulation\n",
    "workdir = \"/SNS/users/p63/mcvine/research/SLAF-tetragon-approx2/\""
   ]
  },
  {
   "cell_type": "code",
   "execution_count": 3,
   "metadata": {
    "collapsed": false
   },
   "outputs": [
    {
     "name": "stdout",
     "output_type": "stream",
     "text": [
      "/SNS/users/p63/mcvine/research/SLAF-tetragon-approx2\n",
      "samples  samples_3  scattering\tscattering_2  scattering_3  scattering_4\r\n"
     ]
    }
   ],
   "source": [
    "# change into primary simulation directory\n",
    "%cd {workdir}\n",
    "!ls"
   ]
  },
  {
   "cell_type": "code",
   "execution_count": null,
   "metadata": {
    "collapsed": true
   },
   "outputs": [],
   "source": [
    "!source ~lj7/.use-miniconda2\n",
    "!sour"
   ]
  },
  {
   "cell_type": "markdown",
   "metadata": {},
   "source": [
    "## Step 2. obtain beam simulation"
   ]
  },
  {
   "cell_type": "code",
   "execution_count": 4,
   "metadata": {
    "collapsed": false
   },
   "outputs": [
    {
     "name": "stdout",
     "output_type": "stream",
     "text": [
      "/SNS/users/p63/mcvine/research/SLAF-tetragon-approx2/scattering_3\n"
     ]
    }
   ],
   "source": [
    "%cd {workdir}/scattering_3"
   ]
  },
  {
   "cell_type": "code",
   "execution_count": 6,
   "metadata": {
    "collapsed": false
   },
   "outputs": [
    {
     "name": "stdout",
     "output_type": "stream",
     "text": [
      "total 192\r\n",
      "-rw-r--r-- 1 p63 users 169443 Jul  8 16:44 SLAF-tetragonal-model-v2.ipynb\r\n"
     ]
    }
   ],
   "source": [
    "!ls -l"
   ]
  },
  {
   "cell_type": "markdown",
   "metadata": {},
   "source": [
    "## Step 3. Check/Update sample assembly"
   ]
  },
  {
   "cell_type": "code",
   "execution_count": 8,
   "metadata": {
    "collapsed": false
   },
   "outputs": [],
   "source": [
    "!cp -r {workdir}/samples {workdir}/samples_3"
   ]
  },
  {
   "cell_type": "code",
   "execution_count": 9,
   "metadata": {
    "collapsed": false
   },
   "outputs": [
    {
     "name": "stdout",
     "output_type": "stream",
     "text": [
      "/SNS/users/p63/mcvine/research/SLAF-tetragon-approx2/samples_3/X/sampleassembly\n"
     ]
    }
   ],
   "source": [
    "%cd \"{workdir}/samples_3/X/sampleassembly\""
   ]
  },
  {
   "cell_type": "code",
   "execution_count": 10,
   "metadata": {
    "collapsed": false
   },
   "outputs": [
    {
     "name": "stdout",
     "output_type": "stream",
     "text": [
      "8\r\n",
      "5 0 0    0 5 0    0 0 5\r\n",
      "V 0 0 0\r\n",
      "V 0 0 0\r\n",
      "V 0 0 0\r\n",
      "V 0 0 0\r\n",
      "V 0 0 0\r\n",
      "V 0 0 0\r\n",
      "V 0 0 0\r\n",
      "V 0 0 0"
     ]
    }
   ],
   "source": [
    "!cat X.xyz\n"
   ]
  },
  {
   "cell_type": "markdown",
   "metadata": {},
   "source": [
    "Note:  xyz data only important for phonon scattering (I think)"
   ]
  },
  {
   "cell_type": "code",
   "execution_count": 11,
   "metadata": {
    "collapsed": false
   },
   "outputs": [
    {
     "name": "stdout",
     "output_type": "stream",
     "text": [
      "<?xml version=\"1.0\"?>\r\n",
      "\r\n",
      "<!DOCTYPE scatterer>\r\n",
      "\r\n",
      "<!-- weights: absorption, scattering, transmission -->\r\n",
      "<homogeneous_scatterer \r\n",
      "  mcweights=\"0, 1, 0.1\"\r\n",
      "  max_multiplescattering_loops=\"3\"\r\n",
      "  >\r\n",
      "  \r\n",
      "  <KernelContainer average=\"yes\">\r\n",
      "    \r\n",
      "    <E_vQ_Kernel \r\n",
      "\tE_Q=\"pi:=3.1415926535897932; twopi:=2*pi; a:=5; b:=5; c:=5; \r\n",
      "    h:=a*Qx/twopi; k:=b*Qy/twopi; l:=c*Qz/twopi; alpha:=0.1; JS:=5.0; Hnorm:=0.9;\r\n",
      "    theta:=asin(Hnorm);\r\n",
      "    gamma_z:=cos(Qz); gamma_xy:=(cos(Qx)+cos(Qy));\r\n",
      "    gammaBar:=(gamma_xy+alpha*gamma_z)/(2.0+alpha);\r\n",
      "    2.0*JS*(2.0+alpha)*sqrt((1+gammaBar)*(1-gammaBar*cos(2.0*theta)))\"\r\n",
      "\tS_Q=\"pi:=3.1415926535897932; twopi:=2*pi; a:=5; b:=5; c:=5; \r\n",
      "    alpha:=0.1; JS:=5.0; Hnorm:=0.9; theta:=asin(Hnorm);\r\n",
      "    gamma_z:=cos(Qz); gamma_xy:=(cos(Qx)+cos(Qy));\r\n",
      "    gammaBar:=(gamma_xy+alpha*gamma_z)/(2.0+alpha);\r\n",
      "    Aq:=2.0*JS*(2.0+alpha)*(1+gammaBar*(sin(theta))^2);\r\n",
      "    Eq:=2.0*JS*(2.0+alpha)*sqrt((1+gammaBar)*(1-gammaBar*cos(2.0*theta)));\r\n",
      "    UqSquared:=(Aq+Eq)/(2.0*Eq); VqSquared:=(Aq-Eq)/(2.0*Eq);\r\n",
      "    Uq:=sqrt(UqSquared); Vq:=sqrt(VqSquared);\r\n",
      "    Sxx:=(Uq+Vq)^2; Syy:=(Uq-Vq)^2;\r\n",
      "    Sxoxo:=Sxx*(sin(theta))^2; Syoyo:=Syy;\r\n",
      "    Sxoxo+Syoyo\"\r\n",
      "\tEmax=\"50*meV\"\r\n",
      "\torientation=\"0.894427191,0.0,-0.4472135955,0.0,1.0,0.0,0.4472135955,0.0,0.894427191\"\r\n",
      "\t/>\r\n",
      "    \r\n",
      "     <E_vQ_Kernel \r\n",
      "\tE_Q=\"pi:=3.1415926535897932; twopi:=2*pi; a:=5; b:=5; c:=5; \r\n",
      "    h:=a*Qx/twopi; k:=b*Qy/twopi; l:=c*Qz/twopi; alpha:=0.1; JS:=5.0; Hnorm:=0.9;\r\n",
      "    theta:=asin(Hnorm);\r\n",
      "    gamma_z:=cos(Qz-pi); gamma_xy:=(cos(Qx-pi)+cos(Qy-pi));\r\n",
      "    gammaBar:=(gamma_xy+alpha*gamma_z)/(2.0+alpha);\r\n",
      "    2.0*JS*(2.0+alpha)*sqrt((1+gammaBar)*(1-gammaBar*cos(2.0*theta)))\"\r\n",
      "\tS_Q=\"pi:=3.1415926535897932; twopi:=2*pi; a:=5; b:=5; c:=5; \r\n",
      "    alpha:=0.1; JS:=5.0; Hnorm:=0.9; theta:=asin(Hnorm);\r\n",
      "    gamma_z:=cos(Qz-pi); gamma_xy:=(cos(Qx-pi)+cos(Qy-pi));\r\n",
      "    gammaBar:=(gamma_xy+alpha*gamma_z)/(2.0+alpha);\r\n",
      "    Aq:=2.0*JS*(2.0+alpha)*(1+gammaBar*(sin(theta))^2);\r\n",
      "    Eq:=2.0*JS*(2.0+alpha)*sqrt((1+gammaBar)*(1-gammaBar*cos(2.0*theta)));\r\n",
      "    UqSquared:=(Aq+Eq)/(2.0*Eq); VqSquared:=(Aq-Eq)/(2.0*Eq);\r\n",
      "    Uq:=sqrt(UqSquared); Vq:=sqrt(VqSquared);\r\n",
      "    Sxx:=(Uq+Vq)^2; Syy:=(Uq-Vq)^2;\r\n",
      "    Sxx*(cos(theta))^2\"\r\n",
      "\tEmax=\"50*meV\"\r\n",
      "\torientation=\"0.894427191,0.0,-0.4472135955,0.0,1.0,0.0,0.4472135955,0.0,0.894427191\"\r\n",
      "\t/>   \r\n",
      "    \r\n",
      "  </KernelContainer>\r\n",
      "  \r\n",
      "</homogeneous_scatterer>"
     ]
    }
   ],
   "source": [
    "!cat X-scatterer.xml"
   ]
  },
  {
   "cell_type": "code",
   "execution_count": 12,
   "metadata": {
    "collapsed": false
   },
   "outputs": [
    {
     "name": "stdout",
     "output_type": "stream",
     "text": [
      "Overwriting ./X-scatterer.xml\n"
     ]
    }
   ],
   "source": [
    "%%file ./X-scatterer.xml\n",
    "<?xml version=\"1.0\"?>\n",
    "\n",
    "<!DOCTYPE scatterer>\n",
    "\n",
    "<!-- weights: absorption, scattering, transmission -->\n",
    "<homogeneous_scatterer \n",
    "  mcweights=\"0, 1, 0.1\"\n",
    "  max_multiplescattering_loops=\"3\"\n",
    "  >\n",
    "  \n",
    "  <KernelContainer average=\"yes\">\n",
    "    \n",
    "    <E_vQ_Kernel \n",
    "\tE_Q=\"pi:=3.1415926535897932; twopi:=2*pi; a:=5; b:=5; c:=5; \n",
    "    h:=a*Qx/twopi; k:=b*Qy/twopi; l:=c*Qz/twopi; alpha:=0.1; JS:=5.0; Hnorm:=0.9;\n",
    "    theta:=asin(Hnorm);\n",
    "    gamma_z:=cos(Qz); gamma_xy:=(cos(Qx)+cos(Qy));\n",
    "    gammaBar:=(gamma_xy+alpha*gamma_z)/(2.0+alpha);\n",
    "    2.0*JS*(2.0+alpha)*sqrt((1+gammaBar)*(1-gammaBar*cos(2.0*theta)))\"\n",
    "\tS_Q=\"pi:=3.1415926535897932; twopi:=2*pi; a:=5; b:=5; c:=5; \n",
    "    alpha:=0.1; JS:=5.0; Hnorm:=0.9; theta:=asin(Hnorm);\n",
    "    gamma_z:=cos(Qz); gamma_xy:=(cos(Qx)+cos(Qy));\n",
    "    gammaBar:=(gamma_xy+alpha*gamma_z)/(2.0+alpha);\n",
    "    Aq:=2.0*JS*(2.0+alpha)*(1+gammaBar*(sin(theta))^2);\n",
    "    Eq:=2.0*JS*(2.0+alpha)*sqrt((1+gammaBar)*(1-gammaBar*cos(2.0*theta)));\n",
    "    UqSquared:=(Aq+Eq)/(2.0*Eq); VqSquared:=(Aq-Eq)/(2.0*Eq);\n",
    "    Uq:=sqrt(UqSquared); Vq:=sqrt(VqSquared);\n",
    "    Sxx:=(Uq+Vq)^2; Syy:=(Uq-Vq)^2;\n",
    "    Sxoxo:=Sxx*(sin(theta))^2; Syoyo:=Syy;\n",
    "    Sxoxo+Syoyo\"\n",
    "\tEmax=\"180*meV\"\n",
    "\torientation=\"0.894427191,0.0,-0.4472135955,0.0,1.0,0.0,0.4472135955,0.0,0.894427191\"\n",
    "\t/>\n",
    "    \n",
    "     <E_vQ_Kernel \n",
    "\tE_Q=\"pi:=3.1415926535897932; twopi:=2*pi; a:=5; b:=5; c:=5; \n",
    "    h:=a*Qx/twopi; k:=b*Qy/twopi; l:=c*Qz/twopi; alpha:=0.1; JS:=5.0; Hnorm:=0.9;\n",
    "    theta:=asin(Hnorm);\n",
    "    gamma_z:=cos(Qz-pi); gamma_xy:=(cos(Qx-pi)+cos(Qy-pi));\n",
    "    gammaBar:=(gamma_xy+alpha*gamma_z)/(2.0+alpha);\n",
    "    2.0*JS*(2.0+alpha)*sqrt((1+gammaBar)*(1-gammaBar*cos(2.0*theta)))\"\n",
    "\tS_Q=\"pi:=3.1415926535897932; twopi:=2*pi; a:=5; b:=5; c:=5; \n",
    "    alpha:=0.1; JS:=5.0; Hnorm:=0.9; theta:=asin(Hnorm);\n",
    "    gamma_z:=cos(Qz-pi); gamma_xy:=(cos(Qx-pi)+cos(Qy-pi));\n",
    "    gammaBar:=(gamma_xy+alpha*gamma_z)/(2.0+alpha);\n",
    "    Aq:=2.0*JS*(2.0+alpha)*(1+gammaBar*(sin(theta))^2);\n",
    "    Eq:=2.0*JS*(2.0+alpha)*sqrt((1+gammaBar)*(1-gammaBar*cos(2.0*theta)));\n",
    "    UqSquared:=(Aq+Eq)/(2.0*Eq); VqSquared:=(Aq-Eq)/(2.0*Eq);\n",
    "    Uq:=sqrt(UqSquared); Vq:=sqrt(VqSquared);\n",
    "    Sxx:=(Uq+Vq)^2; Syy:=(Uq-Vq)^2;\n",
    "    Sxx*(cos(theta))^2\"\n",
    "\tEmax=\"180*meV\"\n",
    "\torientation=\"0.894427191,0.0,-0.4472135955,0.0,1.0,0.0,0.4472135955,0.0,0.894427191\"\n",
    "\t/>   \n",
    "    \n",
    "  </KernelContainer>\n",
    "  \n",
    "</homogeneous_scatterer>\n"
   ]
  },
  {
   "cell_type": "code",
   "execution_count": 32,
   "metadata": {
    "collapsed": false
   },
   "outputs": [
    {
     "data": {
      "text/plain": [
       "(array([ 1.25663706,  0.        ,  0.        ]),\n",
       " array([ 0.        ,  1.25663706,  0.        ]),\n",
       " array([ 0.        ,  0.        ,  1.25663706]))"
      ]
     },
     "execution_count": 32,
     "metadata": {},
     "output_type": "execute_result"
    }
   ],
   "source": [
    "a,b,c=5,5,5\n",
    "\n",
    "from numpy import sin, cos, deg2rad\n",
    "a1 = [a, 0, 0]\n",
    "a2 = [0, b, 0]\n",
    "a3 = [0, 0, c]\n",
    "\n",
    "twopi = 2*np.pi\n",
    "f = twopi/np.dot(a1, np.cross(a2, a3))\n",
    "b1 = np.cross(a2,a3) * f\n",
    "b2 = np.cross(a3,a1) * f\n",
    "b3 = np.cross(a1,a2) * f\n",
    "b1,b2,b3"
   ]
  },
  {
   "cell_type": "markdown",
   "metadata": {},
   "source": [
    "#### Orientation of the kernel\n",
    "Here we need to use the convention that z is along beam, y vertical up.\n",
    "The kernel has its own cartesian axis e’x e’y e’z. Because we know\n",
    "u = 102 v = 100\n",
    ", we have the basis vectors of the instrument coordinate system\n",
    "\n",
    "    ez along b1 + 2*b3\n",
    "    ex along b1\n",
    "    \n",
    "\n",
    "So we have them in the reciprocal cartesian axis"
   ]
  },
  {
   "cell_type": "code",
   "execution_count": 33,
   "metadata": {
    "collapsed": false
   },
   "outputs": [
    {
     "data": {
      "text/plain": [
       "(array([ 0.89442719,  0.        , -0.4472136 ]),\n",
       " array([ 0.,  1.,  0.]),\n",
       " array([ 0.4472136 ,  0.        ,  0.89442719]))"
      ]
     },
     "execution_count": 33,
     "metadata": {},
     "output_type": "execute_result"
    }
   ],
   "source": [
    "ez = b1 + 2*b3; ez /= np.linalg.norm(ez)\n",
    "ex1 = b1\n",
    "ey = np.cross(ez, ex1); ey/=np.linalg.norm(ey)\n",
    "ex = np.cross(ey, ez)\n",
    "ex, ey, ez"
   ]
  },
  {
   "cell_type": "markdown",
   "metadata": {},
   "source": [
    "The rotation matrix is define as\n",
    "```\n",
    "    ex.ex’ ex.ey’ ex.ez’ \n",
    "R = ey.ex’ ey.ey’ ey.ez’\n",
    "    ez.ex’ ez.ey’ ez.ez’\n",
    "```\n",
    "So"
   ]
  },
  {
   "cell_type": "code",
   "execution_count": 34,
   "metadata": {
    "collapsed": false
   },
   "outputs": [
    {
     "data": {
      "text/plain": [
       "(array([[ 0.89442719,  0.        , -0.4472136 ],\n",
       "        [ 0.        ,  1.        ,  0.        ],\n",
       "        [ 0.4472136 ,  0.        ,  0.89442719]]),\n",
       " array([ 0.89442719,  0.        , -0.4472136 ,  0.        ,  1.        ,\n",
       "         0.        ,  0.4472136 ,  0.        ,  0.89442719]))"
      ]
     },
     "execution_count": 34,
     "metadata": {},
     "output_type": "execute_result"
    }
   ],
   "source": [
    "R = np.array([ ex, ey, ez ])\n",
    "Rflat = R.copy(); Rflat.shape = -1,\n",
    "R, Rflat"
   ]
  },
  {
   "cell_type": "markdown",
   "metadata": {},
   "source": [
    "Now we add an extra kernel parameter:"
   ]
  },
  {
   "cell_type": "code",
   "execution_count": 35,
   "metadata": {
    "collapsed": false
   },
   "outputs": [
    {
     "data": {
      "text/plain": [
       "'orientation=\"0.894427191,0.0,-0.4472135955,0.0,1.0,0.0,0.4472135955,0.0,0.894427191\"'"
      ]
     },
     "execution_count": 35,
     "metadata": {},
     "output_type": "execute_result"
    }
   ],
   "source": [
    "'orientation=\"%s\"' % (','.join(str(e) for e in Rflat),)"
   ]
  },
  {
   "cell_type": "code",
   "execution_count": 36,
   "metadata": {
    "collapsed": true
   },
   "outputs": [],
   "source": [
    "# modify X-scatterer.xml to specify the orientation"
   ]
  },
  {
   "cell_type": "code",
   "execution_count": 11,
   "metadata": {
    "collapsed": false
   },
   "outputs": [
    {
     "name": "stdout",
     "output_type": "stream",
     "text": [
      "<?xml version=\"1.0\"?>\r\n",
      "\r\n",
      "<!DOCTYPE scatterer>\r\n",
      "\r\n",
      "<!-- weights: absorption, scattering, transmission -->\r\n",
      "<homogeneous_scatterer \r\n",
      "  mcweights=\"0, 1, 0.1\"\r\n",
      "  max_multiplescattering_loops=\"3\"\r\n",
      "  >\r\n",
      "  \r\n",
      "  <KernelContainer average=\"yes\">\r\n",
      "    \r\n",
      "    <E_vQ_Kernel \r\n",
      "\tE_Q=\"pi:=3.1415926535897932; twopi:=2*pi; a:=5; b:=5; c:=5; \r\n",
      "    h:=a*Qx/twopi; k:=b*Qy/twopi; l:=c*Qz/twopi; alpha:=0.1; JS:=5.0; Hnorm:=0.9;\r\n",
      "    theta:=asin(Hnorm);\r\n",
      "    gamma_z:=cos(Qz); gamma_xy:=(cos(Qx)+cos(Qy));\r\n",
      "    gammaBar:=(gamma_xy+alpha*gamma_z)/(2.0+alpha);\r\n",
      "    2.0*JS*(2.0+alpha)*sqrt((1+gammaBar)*(1-gammaBar*cos(2.0*theta)))\"\r\n",
      "\tS_Q=\"pi:=3.1415926535897932; twopi:=2*pi; a:=5; b:=5; c:=5; \r\n",
      "    alpha:=0.1; JS:=5.0; Hnorm:=0.9; theta:=asin(Hnorm);\r\n",
      "    gamma_z:=cos(Qz); gamma_xy:=(cos(Qx)+cos(Qy));\r\n",
      "    gammaBar:=(gamma_xy+alpha*gamma_z)/(2.0+alpha);\r\n",
      "    Aq:=2.0*JS*(2.0+alpha)*(1+gammaBar*(sin(theta))^2);\r\n",
      "    Eq:=2.0*JS*(2.0+alpha)*sqrt((1+gammaBar)*(1-gammaBar*cos(2.0*theta)));\r\n",
      "    UqSquared:=(Aq+Eq)/(2.0*Eq); VqSquared:=(Aq-Eq)/(2.0*Eq);\r\n",
      "    Uq:=sqrt(UqSquared); Vq:=sqrt(VqSquared);\r\n",
      "    Sxx:=(Uq+Vq)^2; Syy:=(Uq-Vq)^2;\r\n",
      "    Sxoxo:=Sxx*(sin(theta))^2; Syoyo:=Syy;\r\n",
      "    Sxoxo+Syoyo\"\r\n",
      "\tEmax=\"50*meV\"\r\n",
      "\torientation=\"0.894427191,0.0,-0.4472135955,0.0,1.0,0.0,0.4472135955,0.0,0.894427191\"\r\n",
      "\t/>\r\n",
      "    \r\n",
      "     <E_vQ_Kernel \r\n",
      "\tE_Q=\"pi:=3.1415926535897932; twopi:=2*pi; a:=5; b:=5; c:=5; \r\n",
      "    h:=a*Qx/twopi; k:=b*Qy/twopi; l:=c*Qz/twopi; alpha:=0.1; JS:=5.0; Hnorm:=0.9;\r\n",
      "    theta:=asin(Hnorm);\r\n",
      "    gamma_z:=cos(Qz-pi); gamma_xy:=(cos(Qx-pi)+cos(Qy-pi));\r\n",
      "    gammaBar:=(gamma_xy+alpha*gamma_z)/(2.0+alpha);\r\n",
      "    2.0*JS*(2.0+alpha)*sqrt((1+gammaBar)*(1-gammaBar*cos(2.0*theta)))\"\r\n",
      "\tS_Q=\"pi:=3.1415926535897932; twopi:=2*pi; a:=5; b:=5; c:=5; \r\n",
      "    alpha:=0.1; JS:=5.0; Hnorm:=0.9; theta:=asin(Hnorm);\r\n",
      "    gamma_z:=cos(Qz-pi); gamma_xy:=(cos(Qx-pi)+cos(Qy-pi));\r\n",
      "    gammaBar:=(gamma_xy+alpha*gamma_z)/(2.0+alpha);\r\n",
      "    Aq:=2.0*JS*(2.0+alpha)*(1+gammaBar*(sin(theta))^2);\r\n",
      "    Eq:=2.0*JS*(2.0+alpha)*sqrt((1+gammaBar)*(1-gammaBar*cos(2.0*theta)));\r\n",
      "    UqSquared:=(Aq+Eq)/(2.0*Eq); VqSquared:=(Aq-Eq)/(2.0*Eq);\r\n",
      "    Uq:=sqrt(UqSquared); Vq:=sqrt(VqSquared);\r\n",
      "    Sxx:=(Uq+Vq)^2; Syy:=(Uq-Vq)^2;\r\n",
      "    Sxx*(cos(theta))^2\"\r\n",
      "\tEmax=\"50*meV\"\r\n",
      "\torientation=\"0.894427191,0.0,-0.4472135955,0.0,1.0,0.0,0.4472135955,0.0,0.894427191\"\r\n",
      "\t/>   \r\n",
      "    \r\n",
      "  </KernelContainer>\r\n",
      "  \r\n",
      "</homogeneous_scatterer>"
     ]
    }
   ],
   "source": [
    "!cat X-scatterer.xml"
   ]
  },
  {
   "cell_type": "code",
   "execution_count": 13,
   "metadata": {
    "collapsed": false
   },
   "outputs": [
    {
     "name": "stdout",
     "output_type": "stream",
     "text": [
      "sampleassembly.xml  X-scatterer.xml  X.xyz\r\n"
     ]
    }
   ],
   "source": [
    "!ls"
   ]
  },
  {
   "cell_type": "markdown",
   "metadata": {},
   "source": [
    "## Step 4. Scattering"
   ]
  },
  {
   "cell_type": "code",
   "execution_count": 14,
   "metadata": {
    "collapsed": false
   },
   "outputs": [
    {
     "name": "stdout",
     "output_type": "stream",
     "text": [
      "/SNS/users/p63/mcvine/research/SLAF-tetragon-approx2/scattering_3\n"
     ]
    }
   ],
   "source": [
    "%cd \"{workdir}/scattering_3\""
   ]
  },
  {
   "cell_type": "code",
   "execution_count": 15,
   "metadata": {
    "collapsed": false
   },
   "outputs": [
    {
     "name": "stdout",
     "output_type": "stream",
     "text": [
      "total 168\r\n",
      "-rw-r--r-- 1 p63 users 168868 Jul  8 16:48 SLAF-tetragonal-model-v2.ipynb\r\n"
     ]
    }
   ],
   "source": [
    "!ls -l"
   ]
  },
  {
   "cell_type": "code",
   "execution_count": 16,
   "metadata": {
    "collapsed": false
   },
   "outputs": [
    {
     "name": "stdout",
     "output_type": "stream",
     "text": [
      "scripts  SLAF-tetragonal-model-v2.ipynb  template\r\n"
     ]
    }
   ],
   "source": [
    "!rsync -a ~lj7/simulations/mcvine_workflow/DGS/ARCS/single-crystal/* ./\n",
    "!ls"
   ]
  },
  {
   "cell_type": "code",
   "execution_count": 17,
   "metadata": {
    "collapsed": false
   },
   "outputs": [
    {
     "name": "stdout",
     "output_type": "stream",
     "text": [
      "/SNS/users/p63/mcvine/research/SLAF-tetragon-approx2/scattering_3/template\n",
      "/SNS/users/p63/mcvine/research/SLAF-tetragon-approx2/scattering_3\n"
     ]
    }
   ],
   "source": [
    "%cd template\n",
    "\n",
    "!ln -s ../../samples/X/sampleassembly\n",
    "\n",
    "!ln -s ../../BaFe2Se3_IndependentPlaquettesModel/beam_150meV_1e9_neutrons/\n",
    "\n",
    "%cd .."
   ]
  },
  {
   "cell_type": "code",
   "execution_count": 18,
   "metadata": {
    "collapsed": false
   },
   "outputs": [
    {
     "name": "stdout",
     "output_type": "stream",
     "text": [
      "Writing sim.yml\n"
     ]
    }
   ],
   "source": [
    "%%file sim.yml\n",
    "\n",
    "cluster:\n",
    "  nodes: 15\n",
    "instrument:\n",
    "  name: arcs\n",
    "scatter:\n",
    "  ncount: 1e6\n",
    "  multiple_scattering: off\n",
    "  template: ./template\n"
   ]
  },
  {
   "cell_type": "code",
   "execution_count": 46,
   "metadata": {
    "collapsed": true
   },
   "outputs": [],
   "source": [
    "# Test the simulation for a single angle"
   ]
  },
  {
   "cell_type": "code",
   "execution_count": 21,
   "metadata": {
    "collapsed": false,
    "scrolled": true
   },
   "outputs": [
    {
     "name": "stdout",
     "output_type": "stream",
     "text": [
      "SAMPLE_ANGLE=30.0 time ./scatter &> log.scatter\n",
      "time ./create-nxs &> log.create-nxs\n",
      "\n",
      "real\t1m32.928s\n",
      "user\t16m13.076s\n",
      "sys\t3m4.286s\n",
      "cp sim.nxs sim-30.0.nxs\n",
      "mcvine instruments arcs nxs populate_metadata --type=Ei --beam_outdir=beam/out --nxs=sim-30.0.nxs\n",
      "/SNS/users/lj7/software/miniconda2/envs/mcvine/lib/python2.7/site-packages/mcvine/deployment_info.py:41: UserWarning: Neither environment variable MCVINE_DIR nor DANSE_DIR was defined. Assumed that it is /SNS/users/lj7/software/miniconda2/envs/mcvine.\n",
      "  warnings.warn(msg)\n"
     ]
    }
   ],
   "source": [
    "!./scripts/sim.py --angle=30.0"
   ]
  },
  {
   "cell_type": "code",
   "execution_count": 22,
   "metadata": {
    "collapsed": false
   },
   "outputs": [
    {
     "name": "stdout",
     "output_type": "stream",
     "text": [
      "Overwriting sim.yml\n"
     ]
    }
   ],
   "source": [
    "%%file sim.yml\n",
    "\n",
    "cluster:\n",
    "  nodes: 20\n",
    "instrument:\n",
    "  name: arcs\n",
    "scatter:\n",
    "  ncount: 1e6\n",
    "  multiple_scattering: off\n",
    "  template: ./template\n"
   ]
  },
  {
   "cell_type": "code",
   "execution_count": null,
   "metadata": {
    "collapsed": true
   },
   "outputs": [],
   "source": [
    "# a script to create a submit script submit.sh\n",
    "# may need to create several scripts"
   ]
  },
  {
   "cell_type": "code",
   "execution_count": 23,
   "metadata": {
    "collapsed": false
   },
   "outputs": [
    {
     "name": "stdout",
     "output_type": "stream",
     "text": [
      "Writing create-submit.py\n"
     ]
    }
   ],
   "source": [
    "%%file create-submit.py\n",
    "import numpy as np\n",
    "ostream = open('submit.sh', 'wt')\n",
    "for a in np.arange(-90, 90.1, 3.):\n",
    "    ostream.write('./scripts/sim.py --angle=%s \\n' % a)\n",
    "    continue\n",
    "ostream.close()"
   ]
  },
  {
   "cell_type": "code",
   "execution_count": 24,
   "metadata": {
    "collapsed": false
   },
   "outputs": [
    {
     "name": "stdout",
     "output_type": "stream",
     "text": [
      "import numpy as np\r\n",
      "ostream = open('submit.sh', 'wt')\r\n",
      "for a in np.arange(-90, 90.1, 3.):\r\n",
      "    ostream.write('./scripts/sim.py --angle=%s \\n' % a)\r\n",
      "    continue\r\n",
      "ostream.close()"
     ]
    }
   ],
   "source": [
    "!cat create-submit.py"
   ]
  },
  {
   "cell_type": "code",
   "execution_count": 25,
   "metadata": {
    "collapsed": false
   },
   "outputs": [],
   "source": [
    "# run the script to create submit.sh\n",
    "!python ./create-submit.py"
   ]
  },
  {
   "cell_type": "code",
   "execution_count": 42,
   "metadata": {
    "collapsed": false,
    "scrolled": true
   },
   "outputs": [],
   "source": [
    "# check submit script\n",
    "#!cat submit.sh"
   ]
  },
  {
   "cell_type": "code",
   "execution_count": 26,
   "metadata": {
    "collapsed": true
   },
   "outputs": [],
   "source": [
    "# make sure submit.sh is executable\n",
    "!chmod +x submit.sh\n",
    "# and then start it script in the background"
   ]
  },
  {
   "cell_type": "code",
   "execution_count": 27,
   "metadata": {
    "collapsed": false
   },
   "outputs": [
    {
     "name": "stdout",
     "output_type": "stream",
     "text": [
      "Starting job # 0 in a separate thread.\n"
     ]
    }
   ],
   "source": [
    "%%script bash --bg\n",
    "./submit.sh\n",
    "# this will take a while to finish."
   ]
  },
  {
   "cell_type": "markdown",
   "metadata": {},
   "source": [
    "## Step 5. Reduction"
   ]
  },
  {
   "cell_type": "code",
   "execution_count": 28,
   "metadata": {
    "collapsed": false
   },
   "outputs": [
    {
     "name": "stdout",
     "output_type": "stream",
     "text": [
      "/SNS/users/p63/mcvine/research/SLAF-tetragon-approx2/scattering_3\n",
      "beam\t\t\t\twork_-21.0  work_-39.0\twork_-6.0   work_-78.0\r\n",
      "create-submit.py\t\twork_21.0   work_39.0\twork_6.0    work_78.0\r\n",
      "scripts\t\t\t\twork_-24.0  work_-42.0\twork_-60.0  work_-81.0\r\n",
      "sim.yml\t\t\t\twork_24.0   work_42.0\twork_60.0   work_81.0\r\n",
      "SLAF-tetragonal-model-v3.ipynb\twork_-27.0  work_-45.0\twork_-63.0  work_-84.0\r\n",
      "submit.sh\t\t\twork_27.0   work_45.0\twork_63.0   work_84.0\r\n",
      "template\t\t\twork_-3.0   work_-48.0\twork_-66.0  work_-87.0\r\n",
      "work_0.0\t\t\twork_3.0    work_48.0\twork_66.0   work_87.0\r\n",
      "work_-12.0\t\t\twork_-30.0  work_-51.0\twork_-69.0  work_-9.0\r\n",
      "work_12.0\t\t\twork_30.0   work_51.0\twork_69.0   work_9.0\r\n",
      "work_-15.0\t\t\twork_-33.0  work_-54.0\twork_-72.0  work_-90.0\r\n",
      "work_15.0\t\t\twork_33.0   work_54.0\twork_72.0   work_90.0\r\n",
      "work_-18.0\t\t\twork_-36.0  work_-57.0\twork_-75.0\r\n",
      "work_18.0\t\t\twork_36.0   work_57.0\twork_75.0\r\n"
     ]
    }
   ],
   "source": [
    "%cd \"{workdir}/scattering_3\"\n",
    "!ls"
   ]
  },
  {
   "cell_type": "markdown",
   "metadata": {},
   "source": [
    "First we reduce event-mode nexus data for each angle using Mantid"
   ]
  },
  {
   "cell_type": "code",
   "execution_count": 29,
   "metadata": {
    "collapsed": false
   },
   "outputs": [
    {
     "name": "stdout",
     "output_type": "stream",
     "text": [
      "ls: cannot access work_2.0/reduced*: No such file or directory\r\n"
     ]
    }
   ],
   "source": [
    "# check if there is reduced data\n",
    "!ls work_2.0/reduced*"
   ]
  },
  {
   "cell_type": "code",
   "execution_count": 30,
   "metadata": {
    "collapsed": false,
    "scrolled": true
   },
   "outputs": [],
   "source": [
    "# reduce tof events to E events\n",
    "# this takes about 30 minutes\n",
    "!./scripts/reduce/reduceKeepingEvents_batch.py -90,90.1,3. 150 0,150,0.5 > log.reduce"
   ]
  },
  {
   "cell_type": "code",
   "execution_count": null,
   "metadata": {
    "collapsed": true
   },
   "outputs": [],
   "source": [
    "# create configuration file for getting a slice"
   ]
  },
  {
   "cell_type": "code",
   "execution_count": 39,
   "metadata": {
    "collapsed": false
   },
   "outputs": [
    {
     "name": "stdout",
     "output_type": "stream",
     "text": [
      "Writing slice_H00.yml\n"
     ]
    }
   ],
   "source": [
    "%%file slice_H00.yml\n",
    "\n",
    "angles: -90,90.1,3.0\n",
    "filename_pattern: work_%(angle)s/reduced_%(angle)s.nxs\n",
    "lattice: 5., 5., 5., 90, 90, 90\n",
    "orientation:\n",
    " u: 1, 0, 2\n",
    " v: 1,0,0\n",
    "Eaxis:\n",
    " min: 0\n",
    " max: 51\n",
    " N: 181\n",
    "Q_projections:\n",
    " U:\n",
    "  proj: 1,0,0\n",
    "  proj_name: H,0,0\n",
    "  min: -2.1\n",
    "  max: 0.1\n",
    "  N: 201\n",
    " V:\n",
    "  proj: 0,1,0\n",
    "  proj_name: 0,K,0\n",
    "  min: -.2\n",
    "  max: .2\n",
    "  N: 1\n",
    " W:\n",
    "  proj: 0,0,1\n",
    "  proj_name: 0,0,L\n",
    "  min: -0.5\n",
    "  max: 0.5\n",
    "  N: 1\n",
    "output: slice_H00.nxs\n"
   ]
  },
  {
   "cell_type": "code",
   "execution_count": 33,
   "metadata": {
    "collapsed": true
   },
   "outputs": [],
   "source": [
    "# hack for now. copy the config python file to current dir\n",
    "!cp /SNS/users/lj7/simulations/mcvine_workflow/DGS/ARCS/single-crystal/scripts/config.py ."
   ]
  },
  {
   "cell_type": "code",
   "execution_count": 40,
   "metadata": {
    "collapsed": false,
    "scrolled": true
   },
   "outputs": [],
   "source": [
    "# run script to calculate the slice\n",
    "# this take ~15 minutes \n",
    "! PYTHONPATH=$PWD:$PYTHONPATH ./scripts/reduce/getaslice.py slice_H00.yml > log.slice_H00"
   ]
  },
  {
   "cell_type": "code",
   "execution_count": 41,
   "metadata": {
    "collapsed": false
   },
   "outputs": [
    {
     "name": "stdout",
     "output_type": "stream",
     "text": [
      "FrameworkManager-[Notice] Welcome to Mantid 3.6.100\n",
      "FrameworkManager-[Notice] Please cite: http://dx.doi.org/10.1016/j.nima.2014.07.029 and this release: http://dx.doi.org/10.5286/Software/Mantid3.6.100\n",
      "Load-[Notice] Load started\n",
      "Load-[Notice] Load successful, Duration 0.87 seconds\n"
     ]
    }
   ],
   "source": [
    "!./scripts/reduce/slice2hist.py \"slice_H00.nxs\" slice_H00.h5"
   ]
  },
  {
   "cell_type": "code",
   "execution_count": 44,
   "metadata": {
    "collapsed": false,
    "scrolled": false
   },
   "outputs": [
    {
     "name": "stdout",
     "output_type": "stream",
     "text": [
      "plot z in (0, 1e-06)\n"
     ]
    },
    {
     "data": {
      "application/javascript": [
       "/* Put everything inside the global mpl namespace */\n",
       "window.mpl = {};\n",
       "\n",
       "mpl.get_websocket_type = function() {\n",
       "    if (typeof(WebSocket) !== 'undefined') {\n",
       "        return WebSocket;\n",
       "    } else if (typeof(MozWebSocket) !== 'undefined') {\n",
       "        return MozWebSocket;\n",
       "    } else {\n",
       "        alert('Your browser does not have WebSocket support.' +\n",
       "              'Please try Chrome, Safari or Firefox ≥ 6. ' +\n",
       "              'Firefox 4 and 5 are also supported but you ' +\n",
       "              'have to enable WebSockets in about:config.');\n",
       "    };\n",
       "}\n",
       "\n",
       "mpl.figure = function(figure_id, websocket, ondownload, parent_element) {\n",
       "    this.id = figure_id;\n",
       "\n",
       "    this.ws = websocket;\n",
       "\n",
       "    this.supports_binary = (this.ws.binaryType != undefined);\n",
       "\n",
       "    if (!this.supports_binary) {\n",
       "        var warnings = document.getElementById(\"mpl-warnings\");\n",
       "        if (warnings) {\n",
       "            warnings.style.display = 'block';\n",
       "            warnings.textContent = (\n",
       "                \"This browser does not support binary websocket messages. \" +\n",
       "                    \"Performance may be slow.\");\n",
       "        }\n",
       "    }\n",
       "\n",
       "    this.imageObj = new Image();\n",
       "\n",
       "    this.context = undefined;\n",
       "    this.message = undefined;\n",
       "    this.canvas = undefined;\n",
       "    this.rubberband_canvas = undefined;\n",
       "    this.rubberband_context = undefined;\n",
       "    this.format_dropdown = undefined;\n",
       "\n",
       "    this.image_mode = 'full';\n",
       "\n",
       "    this.root = $('<div/>');\n",
       "    this._root_extra_style(this.root)\n",
       "    this.root.attr('style', 'display: inline-block');\n",
       "\n",
       "    $(parent_element).append(this.root);\n",
       "\n",
       "    this._init_header(this);\n",
       "    this._init_canvas(this);\n",
       "    this._init_toolbar(this);\n",
       "\n",
       "    var fig = this;\n",
       "\n",
       "    this.waiting = false;\n",
       "\n",
       "    this.ws.onopen =  function () {\n",
       "            fig.send_message(\"supports_binary\", {value: fig.supports_binary});\n",
       "            fig.send_message(\"send_image_mode\", {});\n",
       "            fig.send_message(\"refresh\", {});\n",
       "        }\n",
       "\n",
       "    this.imageObj.onload = function() {\n",
       "            if (fig.image_mode == 'full') {\n",
       "                // Full images could contain transparency (where diff images\n",
       "                // almost always do), so we need to clear the canvas so that\n",
       "                // there is no ghosting.\n",
       "                fig.context.clearRect(0, 0, fig.canvas.width, fig.canvas.height);\n",
       "            }\n",
       "            fig.context.drawImage(fig.imageObj, 0, 0);\n",
       "        };\n",
       "\n",
       "    this.imageObj.onunload = function() {\n",
       "        this.ws.close();\n",
       "    }\n",
       "\n",
       "    this.ws.onmessage = this._make_on_message_function(this);\n",
       "\n",
       "    this.ondownload = ondownload;\n",
       "}\n",
       "\n",
       "mpl.figure.prototype._init_header = function() {\n",
       "    var titlebar = $(\n",
       "        '<div class=\"ui-dialog-titlebar ui-widget-header ui-corner-all ' +\n",
       "        'ui-helper-clearfix\"/>');\n",
       "    var titletext = $(\n",
       "        '<div class=\"ui-dialog-title\" style=\"width: 100%; ' +\n",
       "        'text-align: center; padding: 3px;\"/>');\n",
       "    titlebar.append(titletext)\n",
       "    this.root.append(titlebar);\n",
       "    this.header = titletext[0];\n",
       "}\n",
       "\n",
       "\n",
       "\n",
       "mpl.figure.prototype._canvas_extra_style = function(canvas_div) {\n",
       "\n",
       "}\n",
       "\n",
       "\n",
       "mpl.figure.prototype._root_extra_style = function(canvas_div) {\n",
       "\n",
       "}\n",
       "\n",
       "mpl.figure.prototype._init_canvas = function() {\n",
       "    var fig = this;\n",
       "\n",
       "    var canvas_div = $('<div/>');\n",
       "\n",
       "    canvas_div.attr('style', 'position: relative; clear: both; outline: 0');\n",
       "\n",
       "    function canvas_keyboard_event(event) {\n",
       "        return fig.key_event(event, event['data']);\n",
       "    }\n",
       "\n",
       "    canvas_div.keydown('key_press', canvas_keyboard_event);\n",
       "    canvas_div.keyup('key_release', canvas_keyboard_event);\n",
       "    this.canvas_div = canvas_div\n",
       "    this._canvas_extra_style(canvas_div)\n",
       "    this.root.append(canvas_div);\n",
       "\n",
       "    var canvas = $('<canvas/>');\n",
       "    canvas.addClass('mpl-canvas');\n",
       "    canvas.attr('style', \"left: 0; top: 0; z-index: 0; outline: 0\")\n",
       "\n",
       "    this.canvas = canvas[0];\n",
       "    this.context = canvas[0].getContext(\"2d\");\n",
       "\n",
       "    var rubberband = $('<canvas/>');\n",
       "    rubberband.attr('style', \"position: absolute; left: 0; top: 0; z-index: 1;\")\n",
       "\n",
       "    var pass_mouse_events = true;\n",
       "\n",
       "    canvas_div.resizable({\n",
       "        start: function(event, ui) {\n",
       "            pass_mouse_events = false;\n",
       "        },\n",
       "        resize: function(event, ui) {\n",
       "            fig.request_resize(ui.size.width, ui.size.height);\n",
       "        },\n",
       "        stop: function(event, ui) {\n",
       "            pass_mouse_events = true;\n",
       "            fig.request_resize(ui.size.width, ui.size.height);\n",
       "        },\n",
       "    });\n",
       "\n",
       "    function mouse_event_fn(event) {\n",
       "        if (pass_mouse_events)\n",
       "            return fig.mouse_event(event, event['data']);\n",
       "    }\n",
       "\n",
       "    rubberband.mousedown('button_press', mouse_event_fn);\n",
       "    rubberband.mouseup('button_release', mouse_event_fn);\n",
       "    // Throttle sequential mouse events to 1 every 20ms.\n",
       "    rubberband.mousemove('motion_notify', mouse_event_fn);\n",
       "\n",
       "    rubberband.mouseenter('figure_enter', mouse_event_fn);\n",
       "    rubberband.mouseleave('figure_leave', mouse_event_fn);\n",
       "\n",
       "    canvas_div.on(\"wheel\", function (event) {\n",
       "        event = event.originalEvent;\n",
       "        event['data'] = 'scroll'\n",
       "        if (event.deltaY < 0) {\n",
       "            event.step = 1;\n",
       "        } else {\n",
       "            event.step = -1;\n",
       "        }\n",
       "        mouse_event_fn(event);\n",
       "    });\n",
       "\n",
       "    canvas_div.append(canvas);\n",
       "    canvas_div.append(rubberband);\n",
       "\n",
       "    this.rubberband = rubberband;\n",
       "    this.rubberband_canvas = rubberband[0];\n",
       "    this.rubberband_context = rubberband[0].getContext(\"2d\");\n",
       "    this.rubberband_context.strokeStyle = \"#000000\";\n",
       "\n",
       "    this._resize_canvas = function(width, height) {\n",
       "        // Keep the size of the canvas, canvas container, and rubber band\n",
       "        // canvas in synch.\n",
       "        canvas_div.css('width', width)\n",
       "        canvas_div.css('height', height)\n",
       "\n",
       "        canvas.attr('width', width);\n",
       "        canvas.attr('height', height);\n",
       "\n",
       "        rubberband.attr('width', width);\n",
       "        rubberband.attr('height', height);\n",
       "    }\n",
       "\n",
       "    // Set the figure to an initial 600x600px, this will subsequently be updated\n",
       "    // upon first draw.\n",
       "    this._resize_canvas(600, 600);\n",
       "\n",
       "    // Disable right mouse context menu.\n",
       "    $(this.rubberband_canvas).bind(\"contextmenu\",function(e){\n",
       "        return false;\n",
       "    });\n",
       "\n",
       "    function set_focus () {\n",
       "        canvas.focus();\n",
       "        canvas_div.focus();\n",
       "    }\n",
       "\n",
       "    window.setTimeout(set_focus, 100);\n",
       "}\n",
       "\n",
       "mpl.figure.prototype._init_toolbar = function() {\n",
       "    var fig = this;\n",
       "\n",
       "    var nav_element = $('<div/>')\n",
       "    nav_element.attr('style', 'width: 100%');\n",
       "    this.root.append(nav_element);\n",
       "\n",
       "    // Define a callback function for later on.\n",
       "    function toolbar_event(event) {\n",
       "        return fig.toolbar_button_onclick(event['data']);\n",
       "    }\n",
       "    function toolbar_mouse_event(event) {\n",
       "        return fig.toolbar_button_onmouseover(event['data']);\n",
       "    }\n",
       "\n",
       "    for(var toolbar_ind in mpl.toolbar_items) {\n",
       "        var name = mpl.toolbar_items[toolbar_ind][0];\n",
       "        var tooltip = mpl.toolbar_items[toolbar_ind][1];\n",
       "        var image = mpl.toolbar_items[toolbar_ind][2];\n",
       "        var method_name = mpl.toolbar_items[toolbar_ind][3];\n",
       "\n",
       "        if (!name) {\n",
       "            // put a spacer in here.\n",
       "            continue;\n",
       "        }\n",
       "        var button = $('<button/>');\n",
       "        button.addClass('ui-button ui-widget ui-state-default ui-corner-all ' +\n",
       "                        'ui-button-icon-only');\n",
       "        button.attr('role', 'button');\n",
       "        button.attr('aria-disabled', 'false');\n",
       "        button.click(method_name, toolbar_event);\n",
       "        button.mouseover(tooltip, toolbar_mouse_event);\n",
       "\n",
       "        var icon_img = $('<span/>');\n",
       "        icon_img.addClass('ui-button-icon-primary ui-icon');\n",
       "        icon_img.addClass(image);\n",
       "        icon_img.addClass('ui-corner-all');\n",
       "\n",
       "        var tooltip_span = $('<span/>');\n",
       "        tooltip_span.addClass('ui-button-text');\n",
       "        tooltip_span.html(tooltip);\n",
       "\n",
       "        button.append(icon_img);\n",
       "        button.append(tooltip_span);\n",
       "\n",
       "        nav_element.append(button);\n",
       "    }\n",
       "\n",
       "    var fmt_picker_span = $('<span/>');\n",
       "\n",
       "    var fmt_picker = $('<select/>');\n",
       "    fmt_picker.addClass('mpl-toolbar-option ui-widget ui-widget-content');\n",
       "    fmt_picker_span.append(fmt_picker);\n",
       "    nav_element.append(fmt_picker_span);\n",
       "    this.format_dropdown = fmt_picker[0];\n",
       "\n",
       "    for (var ind in mpl.extensions) {\n",
       "        var fmt = mpl.extensions[ind];\n",
       "        var option = $(\n",
       "            '<option/>', {selected: fmt === mpl.default_extension}).html(fmt);\n",
       "        fmt_picker.append(option)\n",
       "    }\n",
       "\n",
       "    // Add hover states to the ui-buttons\n",
       "    $( \".ui-button\" ).hover(\n",
       "        function() { $(this).addClass(\"ui-state-hover\");},\n",
       "        function() { $(this).removeClass(\"ui-state-hover\");}\n",
       "    );\n",
       "\n",
       "    var status_bar = $('<span class=\"mpl-message\"/>');\n",
       "    nav_element.append(status_bar);\n",
       "    this.message = status_bar[0];\n",
       "}\n",
       "\n",
       "mpl.figure.prototype.request_resize = function(x_pixels, y_pixels) {\n",
       "    // Request matplotlib to resize the figure. Matplotlib will then trigger a resize in the client,\n",
       "    // which will in turn request a refresh of the image.\n",
       "    this.send_message('resize', {'width': x_pixels, 'height': y_pixels});\n",
       "}\n",
       "\n",
       "mpl.figure.prototype.send_message = function(type, properties) {\n",
       "    properties['type'] = type;\n",
       "    properties['figure_id'] = this.id;\n",
       "    this.ws.send(JSON.stringify(properties));\n",
       "}\n",
       "\n",
       "mpl.figure.prototype.send_draw_message = function() {\n",
       "    if (!this.waiting) {\n",
       "        this.waiting = true;\n",
       "        this.ws.send(JSON.stringify({type: \"draw\", figure_id: this.id}));\n",
       "    }\n",
       "}\n",
       "\n",
       "\n",
       "mpl.figure.prototype.handle_save = function(fig, msg) {\n",
       "    var format_dropdown = fig.format_dropdown;\n",
       "    var format = format_dropdown.options[format_dropdown.selectedIndex].value;\n",
       "    fig.ondownload(fig, format);\n",
       "}\n",
       "\n",
       "\n",
       "mpl.figure.prototype.handle_resize = function(fig, msg) {\n",
       "    var size = msg['size'];\n",
       "    if (size[0] != fig.canvas.width || size[1] != fig.canvas.height) {\n",
       "        fig._resize_canvas(size[0], size[1]);\n",
       "        fig.send_message(\"refresh\", {});\n",
       "    };\n",
       "}\n",
       "\n",
       "mpl.figure.prototype.handle_rubberband = function(fig, msg) {\n",
       "    var x0 = msg['x0'];\n",
       "    var y0 = fig.canvas.height - msg['y0'];\n",
       "    var x1 = msg['x1'];\n",
       "    var y1 = fig.canvas.height - msg['y1'];\n",
       "    x0 = Math.floor(x0) + 0.5;\n",
       "    y0 = Math.floor(y0) + 0.5;\n",
       "    x1 = Math.floor(x1) + 0.5;\n",
       "    y1 = Math.floor(y1) + 0.5;\n",
       "    var min_x = Math.min(x0, x1);\n",
       "    var min_y = Math.min(y0, y1);\n",
       "    var width = Math.abs(x1 - x0);\n",
       "    var height = Math.abs(y1 - y0);\n",
       "\n",
       "    fig.rubberband_context.clearRect(\n",
       "        0, 0, fig.canvas.width, fig.canvas.height);\n",
       "\n",
       "    fig.rubberband_context.strokeRect(min_x, min_y, width, height);\n",
       "}\n",
       "\n",
       "mpl.figure.prototype.handle_figure_label = function(fig, msg) {\n",
       "    // Updates the figure title.\n",
       "    fig.header.textContent = msg['label'];\n",
       "}\n",
       "\n",
       "mpl.figure.prototype.handle_cursor = function(fig, msg) {\n",
       "    var cursor = msg['cursor'];\n",
       "    switch(cursor)\n",
       "    {\n",
       "    case 0:\n",
       "        cursor = 'pointer';\n",
       "        break;\n",
       "    case 1:\n",
       "        cursor = 'default';\n",
       "        break;\n",
       "    case 2:\n",
       "        cursor = 'crosshair';\n",
       "        break;\n",
       "    case 3:\n",
       "        cursor = 'move';\n",
       "        break;\n",
       "    }\n",
       "    fig.rubberband_canvas.style.cursor = cursor;\n",
       "}\n",
       "\n",
       "mpl.figure.prototype.handle_message = function(fig, msg) {\n",
       "    fig.message.textContent = msg['message'];\n",
       "}\n",
       "\n",
       "mpl.figure.prototype.handle_draw = function(fig, msg) {\n",
       "    // Request the server to send over a new figure.\n",
       "    fig.send_draw_message();\n",
       "}\n",
       "\n",
       "mpl.figure.prototype.handle_image_mode = function(fig, msg) {\n",
       "    fig.image_mode = msg['mode'];\n",
       "}\n",
       "\n",
       "mpl.figure.prototype.updated_canvas_event = function() {\n",
       "    // Called whenever the canvas gets updated.\n",
       "    this.send_message(\"ack\", {});\n",
       "}\n",
       "\n",
       "// A function to construct a web socket function for onmessage handling.\n",
       "// Called in the figure constructor.\n",
       "mpl.figure.prototype._make_on_message_function = function(fig) {\n",
       "    return function socket_on_message(evt) {\n",
       "        if (evt.data instanceof Blob) {\n",
       "            /* FIXME: We get \"Resource interpreted as Image but\n",
       "             * transferred with MIME type text/plain:\" errors on\n",
       "             * Chrome.  But how to set the MIME type?  It doesn't seem\n",
       "             * to be part of the websocket stream */\n",
       "            evt.data.type = \"image/png\";\n",
       "\n",
       "            /* Free the memory for the previous frames */\n",
       "            if (fig.imageObj.src) {\n",
       "                (window.URL || window.webkitURL).revokeObjectURL(\n",
       "                    fig.imageObj.src);\n",
       "            }\n",
       "\n",
       "            fig.imageObj.src = (window.URL || window.webkitURL).createObjectURL(\n",
       "                evt.data);\n",
       "            fig.updated_canvas_event();\n",
       "            fig.waiting = false;\n",
       "            return;\n",
       "        }\n",
       "        else if (typeof evt.data === 'string' && evt.data.slice(0, 21) == \"data:image/png;base64\") {\n",
       "            fig.imageObj.src = evt.data;\n",
       "            fig.updated_canvas_event();\n",
       "            fig.waiting = false;\n",
       "            return;\n",
       "        }\n",
       "\n",
       "        var msg = JSON.parse(evt.data);\n",
       "        var msg_type = msg['type'];\n",
       "\n",
       "        // Call the  \"handle_{type}\" callback, which takes\n",
       "        // the figure and JSON message as its only arguments.\n",
       "        try {\n",
       "            var callback = fig[\"handle_\" + msg_type];\n",
       "        } catch (e) {\n",
       "            console.log(\"No handler for the '\" + msg_type + \"' message type: \", msg);\n",
       "            return;\n",
       "        }\n",
       "\n",
       "        if (callback) {\n",
       "            try {\n",
       "                // console.log(\"Handling '\" + msg_type + \"' message: \", msg);\n",
       "                callback(fig, msg);\n",
       "            } catch (e) {\n",
       "                console.log(\"Exception inside the 'handler_\" + msg_type + \"' callback:\", e, e.stack, msg);\n",
       "            }\n",
       "        }\n",
       "    };\n",
       "}\n",
       "\n",
       "// from http://stackoverflow.com/questions/1114465/getting-mouse-location-in-canvas\n",
       "mpl.findpos = function(e) {\n",
       "    //this section is from http://www.quirksmode.org/js/events_properties.html\n",
       "    var targ;\n",
       "    if (!e)\n",
       "        e = window.event;\n",
       "    if (e.target)\n",
       "        targ = e.target;\n",
       "    else if (e.srcElement)\n",
       "        targ = e.srcElement;\n",
       "    if (targ.nodeType == 3) // defeat Safari bug\n",
       "        targ = targ.parentNode;\n",
       "\n",
       "    // jQuery normalizes the pageX and pageY\n",
       "    // pageX,Y are the mouse positions relative to the document\n",
       "    // offset() returns the position of the element relative to the document\n",
       "    var x = e.pageX - $(targ).offset().left;\n",
       "    var y = e.pageY - $(targ).offset().top;\n",
       "\n",
       "    return {\"x\": x, \"y\": y};\n",
       "};\n",
       "\n",
       "/*\n",
       " * return a copy of an object with only non-object keys\n",
       " * we need this to avoid circular references\n",
       " * http://stackoverflow.com/a/24161582/3208463\n",
       " */\n",
       "function simpleKeys (original) {\n",
       "  return Object.keys(original).reduce(function (obj, key) {\n",
       "    if (typeof original[key] !== 'object')\n",
       "        obj[key] = original[key]\n",
       "    return obj;\n",
       "  }, {});\n",
       "}\n",
       "\n",
       "mpl.figure.prototype.mouse_event = function(event, name) {\n",
       "    var canvas_pos = mpl.findpos(event)\n",
       "\n",
       "    if (name === 'button_press')\n",
       "    {\n",
       "        this.canvas.focus();\n",
       "        this.canvas_div.focus();\n",
       "    }\n",
       "\n",
       "    var x = canvas_pos.x;\n",
       "    var y = canvas_pos.y;\n",
       "\n",
       "    this.send_message(name, {x: x, y: y, button: event.button,\n",
       "                             step: event.step,\n",
       "                             guiEvent: simpleKeys(event)});\n",
       "\n",
       "    /* This prevents the web browser from automatically changing to\n",
       "     * the text insertion cursor when the button is pressed.  We want\n",
       "     * to control all of the cursor setting manually through the\n",
       "     * 'cursor' event from matplotlib */\n",
       "    event.preventDefault();\n",
       "    return false;\n",
       "}\n",
       "\n",
       "mpl.figure.prototype._key_event_extra = function(event, name) {\n",
       "    // Handle any extra behaviour associated with a key event\n",
       "}\n",
       "\n",
       "mpl.figure.prototype.key_event = function(event, name) {\n",
       "\n",
       "    // Prevent repeat events\n",
       "    if (name == 'key_press')\n",
       "    {\n",
       "        if (event.which === this._key)\n",
       "            return;\n",
       "        else\n",
       "            this._key = event.which;\n",
       "    }\n",
       "    if (name == 'key_release')\n",
       "        this._key = null;\n",
       "\n",
       "    var value = '';\n",
       "    if (event.ctrlKey && event.which != 17)\n",
       "        value += \"ctrl+\";\n",
       "    if (event.altKey && event.which != 18)\n",
       "        value += \"alt+\";\n",
       "    if (event.shiftKey && event.which != 16)\n",
       "        value += \"shift+\";\n",
       "\n",
       "    value += 'k';\n",
       "    value += event.which.toString();\n",
       "\n",
       "    this._key_event_extra(event, name);\n",
       "\n",
       "    this.send_message(name, {key: value,\n",
       "                             guiEvent: simpleKeys(event)});\n",
       "    return false;\n",
       "}\n",
       "\n",
       "mpl.figure.prototype.toolbar_button_onclick = function(name) {\n",
       "    if (name == 'download') {\n",
       "        this.handle_save(this, null);\n",
       "    } else {\n",
       "        this.send_message(\"toolbar_button\", {name: name});\n",
       "    }\n",
       "};\n",
       "\n",
       "mpl.figure.prototype.toolbar_button_onmouseover = function(tooltip) {\n",
       "    this.message.textContent = tooltip;\n",
       "};\n",
       "mpl.toolbar_items = [[\"Home\", \"Reset original view\", \"fa fa-home icon-home\", \"home\"], [\"Back\", \"Back to  previous view\", \"fa fa-arrow-left icon-arrow-left\", \"back\"], [\"Forward\", \"Forward to next view\", \"fa fa-arrow-right icon-arrow-right\", \"forward\"], [\"\", \"\", \"\", \"\"], [\"Pan\", \"Pan axes with left mouse, zoom with right\", \"fa fa-arrows icon-move\", \"pan\"], [\"Zoom\", \"Zoom to rectangle\", \"fa fa-square-o icon-check-empty\", \"zoom\"], [\"\", \"\", \"\", \"\"], [\"Download\", \"Download plot\", \"fa fa-floppy-o icon-save\", \"download\"]];\n",
       "\n",
       "mpl.extensions = [\"eps\", \"pdf\", \"png\", \"ps\", \"raw\", \"svg\"];\n",
       "\n",
       "mpl.default_extension = \"png\";var comm_websocket_adapter = function(comm) {\n",
       "    // Create a \"websocket\"-like object which calls the given IPython comm\n",
       "    // object with the appropriate methods. Currently this is a non binary\n",
       "    // socket, so there is still some room for performance tuning.\n",
       "    var ws = {};\n",
       "\n",
       "    ws.close = function() {\n",
       "        comm.close()\n",
       "    };\n",
       "    ws.send = function(m) {\n",
       "        //console.log('sending', m);\n",
       "        comm.send(m);\n",
       "    };\n",
       "    // Register the callback with on_msg.\n",
       "    comm.on_msg(function(msg) {\n",
       "        //console.log('receiving', msg['content']['data'], msg);\n",
       "        // Pass the mpl event to the overriden (by mpl) onmessage function.\n",
       "        ws.onmessage(msg['content']['data'])\n",
       "    });\n",
       "    return ws;\n",
       "}\n",
       "\n",
       "mpl.mpl_figure_comm = function(comm, msg) {\n",
       "    // This is the function which gets called when the mpl process\n",
       "    // starts-up an IPython Comm through the \"matplotlib\" channel.\n",
       "\n",
       "    var id = msg.content.data.id;\n",
       "    // Get hold of the div created by the display call when the Comm\n",
       "    // socket was opened in Python.\n",
       "    var element = $(\"#\" + id);\n",
       "    var ws_proxy = comm_websocket_adapter(comm)\n",
       "\n",
       "    function ondownload(figure, format) {\n",
       "        window.open(figure.imageObj.src);\n",
       "    }\n",
       "\n",
       "    var fig = new mpl.figure(id, ws_proxy,\n",
       "                           ondownload,\n",
       "                           element.get(0));\n",
       "\n",
       "    // Call onopen now - mpl needs it, as it is assuming we've passed it a real\n",
       "    // web socket which is closed, not our websocket->open comm proxy.\n",
       "    ws_proxy.onopen();\n",
       "\n",
       "    fig.parent_element = element.get(0);\n",
       "    fig.cell_info = mpl.find_output_cell(\"<div id='\" + id + \"'></div>\");\n",
       "    if (!fig.cell_info) {\n",
       "        console.error(\"Failed to find cell for figure\", id, fig);\n",
       "        return;\n",
       "    }\n",
       "\n",
       "    var output_index = fig.cell_info[2]\n",
       "    var cell = fig.cell_info[0];\n",
       "\n",
       "};\n",
       "\n",
       "mpl.figure.prototype.handle_close = function(fig, msg) {\n",
       "    fig.root.unbind('remove')\n",
       "\n",
       "    // Update the output cell to use the data from the current canvas.\n",
       "    fig.push_to_output();\n",
       "    var dataURL = fig.canvas.toDataURL();\n",
       "    // Re-enable the keyboard manager in IPython - without this line, in FF,\n",
       "    // the notebook keyboard shortcuts fail.\n",
       "    IPython.keyboard_manager.enable()\n",
       "    $(fig.parent_element).html('<img src=\"' + dataURL + '\">');\n",
       "    fig.close_ws(fig, msg);\n",
       "}\n",
       "\n",
       "mpl.figure.prototype.close_ws = function(fig, msg){\n",
       "    fig.send_message('closing', msg);\n",
       "    // fig.ws.close()\n",
       "}\n",
       "\n",
       "mpl.figure.prototype.push_to_output = function(remove_interactive) {\n",
       "    // Turn the data on the canvas into data in the output cell.\n",
       "    var dataURL = this.canvas.toDataURL();\n",
       "    this.cell_info[1]['text/html'] = '<img src=\"' + dataURL + '\">';\n",
       "}\n",
       "\n",
       "mpl.figure.prototype.updated_canvas_event = function() {\n",
       "    // Tell IPython that the notebook contents must change.\n",
       "    IPython.notebook.set_dirty(true);\n",
       "    this.send_message(\"ack\", {});\n",
       "    var fig = this;\n",
       "    // Wait a second, then push the new image to the DOM so\n",
       "    // that it is saved nicely (might be nice to debounce this).\n",
       "    setTimeout(function () { fig.push_to_output() }, 1000);\n",
       "}\n",
       "\n",
       "mpl.figure.prototype._init_toolbar = function() {\n",
       "    var fig = this;\n",
       "\n",
       "    var nav_element = $('<div/>')\n",
       "    nav_element.attr('style', 'width: 100%');\n",
       "    this.root.append(nav_element);\n",
       "\n",
       "    // Define a callback function for later on.\n",
       "    function toolbar_event(event) {\n",
       "        return fig.toolbar_button_onclick(event['data']);\n",
       "    }\n",
       "    function toolbar_mouse_event(event) {\n",
       "        return fig.toolbar_button_onmouseover(event['data']);\n",
       "    }\n",
       "\n",
       "    for(var toolbar_ind in mpl.toolbar_items){\n",
       "        var name = mpl.toolbar_items[toolbar_ind][0];\n",
       "        var tooltip = mpl.toolbar_items[toolbar_ind][1];\n",
       "        var image = mpl.toolbar_items[toolbar_ind][2];\n",
       "        var method_name = mpl.toolbar_items[toolbar_ind][3];\n",
       "\n",
       "        if (!name) { continue; };\n",
       "\n",
       "        var button = $('<button class=\"btn btn-default\" href=\"#\" title=\"' + name + '\"><i class=\"fa ' + image + ' fa-lg\"></i></button>');\n",
       "        button.click(method_name, toolbar_event);\n",
       "        button.mouseover(tooltip, toolbar_mouse_event);\n",
       "        nav_element.append(button);\n",
       "    }\n",
       "\n",
       "    // Add the status bar.\n",
       "    var status_bar = $('<span class=\"mpl-message\" style=\"text-align:right; float: right;\"/>');\n",
       "    nav_element.append(status_bar);\n",
       "    this.message = status_bar[0];\n",
       "\n",
       "    // Add the close button to the window.\n",
       "    var buttongrp = $('<div class=\"btn-group inline pull-right\"></div>');\n",
       "    var button = $('<button class=\"btn btn-mini btn-primary\" href=\"#\" title=\"Stop Interaction\"><i class=\"fa fa-power-off icon-remove icon-large\"></i></button>');\n",
       "    button.click(function (evt) { fig.handle_close(fig, {}); } );\n",
       "    button.mouseover('Stop Interaction', toolbar_mouse_event);\n",
       "    buttongrp.append(button);\n",
       "    var titlebar = this.root.find($('.ui-dialog-titlebar'));\n",
       "    titlebar.prepend(buttongrp);\n",
       "}\n",
       "\n",
       "mpl.figure.prototype._root_extra_style = function(el){\n",
       "    var fig = this\n",
       "    el.on(\"remove\", function(){\n",
       "\tfig.close_ws(fig, {});\n",
       "    });\n",
       "}\n",
       "\n",
       "mpl.figure.prototype._canvas_extra_style = function(el){\n",
       "    // this is important to make the div 'focusable\n",
       "    el.attr('tabindex', 0)\n",
       "    // reach out to IPython and tell the keyboard manager to turn it's self\n",
       "    // off when our div gets focus\n",
       "\n",
       "    // location in version 3\n",
       "    if (IPython.notebook.keyboard_manager) {\n",
       "        IPython.notebook.keyboard_manager.register_events(el);\n",
       "    }\n",
       "    else {\n",
       "        // location in version 2\n",
       "        IPython.keyboard_manager.register_events(el);\n",
       "    }\n",
       "\n",
       "}\n",
       "\n",
       "mpl.figure.prototype._key_event_extra = function(event, name) {\n",
       "    var manager = IPython.notebook.keyboard_manager;\n",
       "    if (!manager)\n",
       "        manager = IPython.keyboard_manager;\n",
       "\n",
       "    // Check for shift+enter\n",
       "    if (event.shiftKey && event.which == 13) {\n",
       "        this.canvas_div.blur();\n",
       "        event.shiftKey = false;\n",
       "        // Send a \"J\" for go to next cell\n",
       "        event.which = 74;\n",
       "        event.keyCode = 74;\n",
       "        manager.command_mode();\n",
       "        manager.handle_keydown(event);\n",
       "    }\n",
       "}\n",
       "\n",
       "mpl.figure.prototype.handle_save = function(fig, msg) {\n",
       "    fig.ondownload(fig, null);\n",
       "}\n",
       "\n",
       "\n",
       "mpl.find_output_cell = function(html_output) {\n",
       "    // Return the cell and output element which can be found *uniquely* in the notebook.\n",
       "    // Note - this is a bit hacky, but it is done because the \"notebook_saving.Notebook\"\n",
       "    // IPython event is triggered only after the cells have been serialised, which for\n",
       "    // our purposes (turning an active figure into a static one), is too late.\n",
       "    var cells = IPython.notebook.get_cells();\n",
       "    var ncells = cells.length;\n",
       "    for (var i=0; i<ncells; i++) {\n",
       "        var cell = cells[i];\n",
       "        if (cell.cell_type === 'code'){\n",
       "            for (var j=0; j<cell.output_area.outputs.length; j++) {\n",
       "                var data = cell.output_area.outputs[j];\n",
       "                if (data.data) {\n",
       "                    // IPython >= 3 moved mimebundle to data attribute of output\n",
       "                    data = data.data;\n",
       "                }\n",
       "                if (data['text/html'] == html_output) {\n",
       "                    return [cell, data, j];\n",
       "                }\n",
       "            }\n",
       "        }\n",
       "    }\n",
       "}\n",
       "\n",
       "// Register the function which deals with the matplotlib target/channel.\n",
       "// The kernel may be null if the page has been refreshed.\n",
       "if (IPython.notebook.kernel != null) {\n",
       "    IPython.notebook.kernel.comm_manager.register_target('matplotlib', mpl.mpl_figure_comm);\n",
       "}\n"
      ],
      "text/plain": [
       "<IPython.core.display.Javascript object>"
      ]
     },
     "metadata": {},
     "output_type": "display_data"
    },
    {
     "data": {
      "text/html": [
       "<img src=\"data:image/png;base64,iVBORw0KGgoAAAANSUhEUgAAAoAAAAHgCAYAAAA10dzkAAAgAElEQVR4nOzdd3gU5cIF8EMPLYQmvYmANEUQkKLygVdRQKoN7HpFhasiKOgVdtMhoUqTBEIXlF7EUERQFC4giApIEUF6ERgJAYXkfH9MAiHZDWWTmd3N+T3Pedyd2czzboR5D7Mzs4CIiIiIiIiIiIiIiIiIiIiIiIiIiIiIiIiIiIiIiIiIiIiIiIiIiIiIiIiIiIiIiIiIiIiIiIiIiIiIiIiIiIiIiIiIiIiIiIiIiIiIiIiIiIiIiIiIiIiIiIiIiIiIiIiIiIiIiIiIiIiIiIiIiIiIiIiIiIiIiIiIiIiIiIiIiIiIiIiIiIiIiIiIiIiIiIiIiIiIiIiIiIiIiIiIiIiIiIiIiIiIiIiIiIiIiIiIiIiIiIiIiIiIiIiIiIiIiIiIiIiIiIiIiIiIiIiIiIiIiIiIiIiIiIiIpAgGcBjAOQBrANTN5LVBAGYCOAPgNIDpAIqle003ADsBnAewHUBnG7ZxF4BlAI4ASAbQ+hbfi4iIiIjfeQ/AAQB1ABQAEAHgEIBCbl7/BYAVAIoDKAFgJYCFadY3BXABQCcAeQF0AZAIoKHF27gTwCsAGgFIgusCeL1tiIiIiPilfQB6p3meB8AJAD1cvLYyzKNp9dIsuytlWcWU53EA5qX7ufkAYlMeV7FoG2m5OgJ4I+9FRERExO8Ewiw8TdMtXw5gqIvXPw7zyFx6FwG0T3m8BUD/dOs/ALA55XFHi7aRlqsCeCPvRXKAXAAqwPzLoCiKoijXSwWYc0d2CsjC8Qa42H5FmOWoVrrlswHEuHj9swCOulh+DED3lMd7AfRMt/51ALst3kZargrgzW5D/FQFAFQURVGUm0gFZJ+AIlk71j+RsQQG4uaPACa6WH4RQLuUx1uQ+dG77N7GzRwBvJltiBdxALgM4C+YVy79BfNqnlR3AVgLIAHmCa2OTLYVCIBAHwIDsiCNs2g7vp9ixQawadNB7Ngx/Jr07Tua69ZtoGEYt5xevXp59POKfs/eFv2ufeP3fPDgwdRSFZgdk1vaeakPwAEeps/VEuhqvK7OATwO9+cAJiHjeXNJuFqG4wDMTfdz83D1/L3s3sbNnAN4M9sQL+IA8I2bdUVgXvodBiA/zP/BBwG87eb1KQVwAAFHFuS+LNqO/6ZBgzBOnryIhw4dZmJiIm9Fnz59bunn5Obo92wd/a6t4env2TAMywrgRwDDPMxHmRfAfgD2w7z1S0EA4TDnS3dXAS8BEA+gJIBSMI8WLkizvinMI2sdYV7B2xnmrVwaWrwNwLyqOQBmAXwk5Xmem9yGeKHMCuALMD/Hz51m2VsA9rh5vQqgxbntNifbth3CyMhp3LFjly07cbkx+j1bR79ra/hSAQwGOMTDBGdeAAHACfN8uARcex/ASjA/YWuR5rVBAGYAOAvz/nnTXGy3K8x7+CUC2AHzdi5pWbGNKjCLX1K6DLrJcYgXcsD8g3kcwO8wP/6tmrJuOIAv072+Gcz/+UVcbCuLC2AP2wuWr6RJk3DOnbucZ8+e5T///HNTO+H4+HiPduJyY/R7to5+19bw9PfshwVQxKfUgfmvEwAoB7PF74F52HoigFnpXn8nzAJY3sW2srgAKjeaChWcfOKJYRw7dg737t2XRbt3EZHsY2UBDAc4zMOEqwCKn8sP854+D+GWjwA2pvnx7X3UUTxr07JlBFes+JaXLl1icnKy3ft3EZFrxMfHs0+fPuzTpw979eplWQEcAvBjDzNEBVD8XH6Y5wr8C8DzsPUcQOVmU6WKky+9NIpTpy7mgQN/2L2vFxFxy8ojgCqAIhk9AfPKHQAoA/PkzX0ACsM8yncYQCjMK4DqwfyuQ4uuAlZuNnnyOBgQ4GDbtkP47bcb7d6/i4i4ZWUBHAZwnIcZpgIofmYRzAtAEmBesj4TwO1p1teDeZXweZi3hBmYybZUAL0krVpFcu3aDXbv30VE3LKyAH4MMNbDfKwCKOKWCqCXRAVQRLydCqCI/1AB9JLUrh3KDz6I5fLl3/D48eM8cuQoly1bw5Urv+XJkyft3u+LiFhaAMcBnOxhxqkAirilAuglKVTIwSpVgvnii6P4ww/b+P33m/nMM8P573+P5rZt2+3e74uIWFoAYwDO8DAxKoAibqkAelnuuiuUkZHTGRw8hXfeGcKGDcMYFTWD69f/wDNnzti9/xeRHEwFUMR/qAB6WYoVc7Bu3RDWrh3CokUdDApysF69UL777ie3/NVxIiJZwcoCGAdwtoeJUwEUcUsF0EfStGk4x4+fw59+2s5z587ZPQ+ISA5kZQGcDnCeh5muAijilgqgj6R0aQebNYugwzFZXx0nIrZQARTxHyqAPpYHHojkp59+wd9++52JiYl2zwcikoNYWQBnA1zsYWarAIq4pQLoYylf3sl//Wswo6JmcP/+A3bPByKSg1hZAOcCXOZh5qoAirilAuij6dgxWreHERFLqQCK+A8VQB+NCqCIWM3KArgQ4EoPs1AFUMQtFUAfzaOPDuHatRt47tw5Xr582e55QURyACsL4FKAX3uYpSqAIm6pAPpo7rgjhC++OIpTpy7m0aPH7J4XRCQHUAEU8R8qgD6ezp2juXXrz0xKSiJJJicn8/Lly1eei4hkFSsL4HKA6zzMchVAEbdUAH08deuG8j//Gc9581bw5MmT3LFjF8ePn8MFC1by9OnTds8XIuJHrCyAXwHc4GG+UgEUcUsF0MeTN6+DhQo5+OyzI/nrr7s5b94KNmwYxpdf/lg3jBaRLKUCKOI/VAD9JPfcE8b//ncSX3ppFMuUcfLee8M4aFAcV6z4loZh2D1viIgfsLIArgX4g4dZqwIo4pYKoJ+kYEEHy5RxskQJJ/PlM48Kli3r5H/+M043jBaRLGFlAfwO4DYP850KoIhbKoB+nmefHcnffvvd7nlDRPyACqCI/1AB9POoAIpIVrGyAG4EuMPDbFQBFHFLBdDP06pVJGNi5nHr1p+ZmJho9/whIj7MygK4BeBuD7NFBVDELRVAP0/p0g42bBjG0NApumG0iHhEBVDEf6gA5pC0bTuEn332JXft2sOLFy/aPY+IiA+ysgD+BPB3D/OTCqCIWyqAOSQVKjjZqlUkhw//lCdPnrR7HhERH2RlAdwJ8JCH2Xn9AhgM4DCAcwDWAKibybiCAMwEcAbAaQDTARRL95puAHYCOA9gO4DOXrqNOwEsA3ASwCkAkwAUcfWmxX+pAOawdOwYzfj4tfzjj4P8559/7J5PRMSH+FkBfA/AAQB1ABQAEAHgEIBCbsb1BYAVAIoDKAFgJYCFadY3BXABQCcAeQF0AZAIoKGXbaMogD8AhKSsLw2z/M5z877FT6kA5rDcfnswH388mjEx8/RVcSJyU6wsgHsAHvMwezIvgPsA9E7zPA+AEwB6uHhtZQDJAOqlWXZXyrKKKc/jkLFEzQcQm/K4ipds41GYRzzTagPgMoDykBxDBTCH5umnh3PDhh946tQpJiUl2T2viIgPsLIA/p4H/DOvZ/k9j9sCGAizNDVNt3w5gKEuxvQ4zKNq6V0E0D7l8RYA/dOt/wDA5pTHHb1kG48BSACQK836hwEkAWjnYtvip1QAc2hq1w7ls8+O5IwZS/VVcSJyQ/yoAFaEWQBrpVs+G0CMizE9C+Coi+XHAHRPebwXQM90618HsNvLtlEsZRuRAAIAVACwFmYBfMbFtsVPqQDm8Lzwwkj++utunjlzhmfOnGFiYiKTk5PtnmdExAtZWQAPFgCNgJvPvHxgrzxmXs3aI4CJLpZfxNWjZtc78uYt2wCABjDPIzwOsxi+BvP38S8X2xY/pQKYw9OgQRh79x7H/v1j2L9/DBct+ornz5+3e54RES9kZQE8VghMLOxZjhW66XMAj8P9OYBJyHjuXRLMI2iAee7d3HQ/Nw9Xz73zlm240hHmeYFFM3mN+BkVQOWa9Oo1lidPntRRQBHJwM8KYD8A+2He+qUggHAAB+H+KuAlAOIBlARQCubRwgVp1jeFeXSuI8yrazvDvA1LQy/cRsOU95kHwP0wy/C7bt63+CkVQOWaNGsWzo8+msQVK77lhQsX7J5vRMSLWFkATwWC/xTzLKcCr3sfQCfM8+EScO19ACvBPCLWIs1rgwDMAHAW5j34prnYbleY999LBLAD5q1Y0vKWbYyFef+/BAA/A3gJkuOoACrXJH9+B4sWdfD992N45swZu+cbEfEiVhZAozjIkp7FKK5vAhFxRwVQcZlWrSIZHT2T69Zt1A2jRYSkCqCIP1EBVFymaFHz6+OCgyfz3Llzds87IuIFLC2ApUDe5lmMUiqAIu6oACqZ5tFHh3DixAXcsuUnXr582e75R0RsZGkBLAuyvGcxyqoAirijAqhkmlKlnKxTJ4TR0TOZmJho9/wjIjZSARTxHyqAyg2lc+dozp27nDt37tZXx4nkUJYWwIogK3sWo6IKoIg7KoDKDaVCBSebN4/guHFz+Pfff9s9D4mIDSwtgFVB3u5ZjKoqgCLuqAAqN5Xu3Udw1ap1/P33A7pZtEgOowIo4j9UAJWbSvXqwXz00ShOmbKIly5dsns+EhELWVoAbwdZw7MYt6sAirgTCIBVq37AwoXtLxeK72TAgFjdH1Akh7G0ANYEWduzGDVVAEXcCQTAfv3GsFatENtLheI7UQEUyXlUAEX8RyAALl68gi1bRtheKhTfyZtvjuXevfv4xx8H+ccfB3n27Fm75yYRyWaWFsA6IOt7FqOOCqCIOyqAyi2lYcMw9uw5hm+8YWbJktV2z00iks0sLYD1QTbwLEZ9FUARdwIBcNmyr9i27RAWLuxg3rz2lwvF9zJoUJzdc5OIZDMVQBH/EQiAP//8C6dPX8KXX/6YlSsH214mFN+LCqCI/7O0AN4D8l7PYtyjAijijvkXzTBIkitWfMtmzcJtLxOK72XgwEm6L6CIn7O0AN4L8j7PYtyrAijijgqgkiVp0yaSkZHTuG7dRpunKBHJLiqAIv5DBVDJkgQEOBgU5ODgwdNtnqJEJLtYWgCbgmzhWYymKoAi7gQC4OzZi3n06DHu2LGL0dEz2b59FMuUcdpeKhTfS/v2URw/fg43b95m91wlIlnM0gLYAuSDnsVooQIo4k4gAD7xRCQ3bfqRFy5c4LFjxzht2mI2aBBme5lQfC9BQQ5WrRrMjz/+zO65SkSymAqgiP8IBMAHH3Rcc+5WfPxaNmmij4KVW0uuXA4++eQwzp69jNu3/2rjdCUiWcnSAvggyDaexXhQBVDEHRVAJcuTK5eDZcs62bBhGGNj59s4XYlIVrK0ALYB+YhnMdqoAIq4EwiA9et/xOjomdy4cSvPnDnDH37Yxnfe+YSNG4ezWDH7C4Xim8mTx8EXXhjF+Pi1/O233+2eu0TEQyqAIv4jEACDggawQYMw9u07gb/8spOnT5/m1q0/c8iQGbzzzhDbi4Tim8mVy8Fq1UL40EODOXPmUrvnLhHxkKUF8F8gH/Msxr9UAEXcCQRAYAABB5s0CeeECfO4ffuvPHfuHL/44mvee68uBlE8S/78Dr7xxlh+990mfvfdJq5fv5mHDx+xey4TkZtkaQF8FOTjnsV4VAVQxJ1rCmDp0g62bBlBhyOOu3fvVQFUsiR58jhYu3YIO3SIYocOUXzyyWFcsGCl3XOZiNwkFUAR/3FNAUxN27ZDuHHjVn7zzf/41FPDWKWKkwUL2l8kFP9IoUIOvvdeDHfs2MVTp07ZPaeJyA2ytAB2ANnFsxgdVABF3Mm0AB4+fITLlq1h374TWLVqsO3FQfGP5MvnYKNGYfz3v0czPn6t3XOaiNwgSwtgJ5BPeBajkwqgiDuZFsBUS5as5j33hNpeHBT/StGiDjqdk3n48BEmJCTYOK2JyI1QARTxHyqAim3Jn9885/S992K4Zs16G6c1EbkRlhbAbiCf8SxGt+sWwGAAhwGcA7AGQN1MxhUEYCaAMwBOA5gOoFi613QDsBPAeQDbAXT20m3cC2B1ys+fADAPQGVXb1r8l8sC+K9/DeHXX3/PxMREJiUl8csv17JlywgWLGie0G93cVD8K8WLOxgdPZMJCQn8559/7J7jRMQNSwvgUyCf8yzGU5kWwPcAHABQB0ABABEADgEo5GZcXwBYAaA4gBIAVgJYmGZ9UwAXAHQCkBdAFwCJABp62TZyATgOYHjK+sIAPgPwnZv3LX7KZQGsXj2YL700itOmLebhw0e4Z89vnDhxAZ99diTLlXPaXhgU/0rBgg4+/PAQhodP44YNP9g9x4mIG35WAPcB6J3meR6YR8N6uHhtZQDJAOqlWXZXyrKKKc/jYB5JS2s+gNiUx1W8ZBtBAJIA1E+zvh3Mo4WSg7gsgLlyOZg7t4MdOkRz8+ZtJMnk5GTOn7+Cd9+tj4KVrE3qn7fSpR0cN26OzVOciLhjaQHsDvJFz2J0d1sAA2GWpqbpli8HMNTFmB6HeVQtvYsA2qc83gKgf7r1HwDYnPK4o5dsAwA+BjAaQEGYhXAOgGkutit+zGUBTE27dlFXCiBJLly4SgVQybaULOng2LEqgCLeytIC+DzIVz2L8bzbAlgRZgGslW75bAAxLsb0LICjLpYfA9A95fFeAD3TrX8dwG4v2wYAPABgB4BLAC7DLIelXWxXvNgCmH+IW6dZ1grADzAP5/4G83+8OyqAitdEBVDEu/lRAbyVI4CJLpZfhPnxKXD9I2/eso0aAP6GWRLzwTwKGAyzOAa42LZ4oedh/mFNwtUCWAVAAszSlxdmyz8L87CxKyqAitekSBEHn3lmOCdMmMcJE+Zx+vQl3Llzt43TnYikZWkBfBnk6zef+HZgn7vM9Kp70+cAHof7cwCTkPHcuyQAFVKexwGYm+7n5uHquXfeso0uMK8gTqsozELcGOL1KgLYj6uHsVML4CCYR//SGg7zKiFXVAAVr0mePA6WKuVktWrBrFYtmE2bhnPWrGU2TncikpalBfA1kL09i/FapgWwH8x5tC7Mo2DhAA7C/VXASwDEAygJoBTMAzAL0qxvCvPoXEeYB2A6w/wkrqGXbaNyyvNXYZbeAAAOAAYy3k5GvNByAK+kPE5bAOcDGJ/utc8AOOVmOzdVADdt+pHvvx/DFi3CWayY/YVB8e+UK+dkTMw8G6c7EUnLzwogADhhnlOXgGvvA1gJ5r0BW6R5bRCAGTA/VTsD86KJ9NvtCvP+e4kwz7HrlG69t2zjIQDfw7wP4J8p770lxOu9CbMApkoG8H8pj1cBiEz3+rYA/nGzrZsqgIZh8Ndfd3PYsE95xx0hthcExb+jAijiXSwtgK+DfNuzGK/rm0DEf9wO4AjMf52ksuwIYKp581awXj19FKxkb0qUcPLtt8fz66+/58GDh2yY7kQkLUsLYG+QfT2L0VsFUPzHCzCv9jkB4GRKkmEeBv4EwEDc0jmAjQncl5IeVyZgFUDFzhQo4GCtWiHs1m0Yv/jia+tnOxFhfHw8+/Tpwz59+rBXr16ECqCILQIAlE+XZABPwDwvoDLMcxlSL+++H2Y5vKWrgFu0iGBc3EL++utunj9//soO4euv17NHjxGsWTOEhQrZXxQU/07p0g5+8EEsf/hhG0+cOGHjVCiSs1l6BPAdkP09i/GOCqD4t7S3gQHMW79sgXmVzz5kvCFkWpkWwLJlnXzwwQiGhU3lvn37r+wEjhw5ytWrv+f778ewUiV9NZySvSlY0MEGDcL46quj+dVX39k4/YnkbJYWwL4gP/QsRl8VQBF3Mi2Aqfm//xvMefNW8ODBQ7x48eKVncGcOfGsU0cXgyjWpFw5J8PDp3HPnt949uxZG6dBkZxJBVDEf9xQAaxUycn27aM4atRs/vHHwSs7AxVAxcoULmyelvDuu59w3bqNNk6DIjmTpQWwP8hBnsXorwIo4s4NFcDUdOo0lNu2bb+yM1iyZDVbtYpk8eIO5s1rf0FQckaqVg3mtGmLbZwGRXImSwvghyBDPIvxoQqgiDseFcA9e37jzJlL+dJLH7NMGZ0LqFgTFUARe6gAiviPmyqAHTpEc8OGH3jx4kUmJydf2SnMnr2MtWrpo2DFmlSp4mRs7HyeP3/+miQmJvLy5cs2To8i/s3SAjgIZIRnMQapAIq4c1MFsFatEL722mjOmvUFjx8/fmWnoAKoWJmgIAc7dozmwIGTrsmoUbP58887bJweRfybpQUwGOQQz2IEqwCKuHNTBTB3bvNcvyefHMZfftl5ZaegAqhYmVy5HMyTx/yzmDb16oXy88/jbZweRfybCqCI/7ipApiau+4KZb9+E7h48Vf8888/VQAVr8httzn53HMjOXnyQu7evdfuuVLE71haAMNBDvMsRrgKoIg7t1QACxRwsHhxB19++WPu2rVHBVDxiuTN62BgoIMtW0Zw8eKv7J4rRfyOpQVwCMhRnsUYogIo4s4tFcDUPPHEMO7YsYsbN27lwIFxbN16MIsVs78IKDk75cs7+frrYzhv3gr+/vsBu+dMEb+hAijiP7KkACYkJPCPPw5yxIhZrFJFt4NR7E3+/ObXGD72WBSXL//G7jlTxG9YWgCjQY7xLEa0CqCIOzdVACtUcPLhh4ewefMIFit2tQCm+vTTL3jHHfooWPGO1K8fyvnzV9g4XYr4F0sL4AiQn3gWY4QKoIg7N1UA/+//BnP27GWMjp7JO+4IUQFUvDoqgCJZSwVQxH/cVAFs3jyCn3wyl4MGxbFq1WA+8EAkY2Pn86eftvP8+fNcvfp7vvjiKNavH8pChewvAErOTrVqwRw0KI7r1//AEydO2D13ivg8SwvgaJATPYsxWgVQxJ2bKoClSzvYuHEY69ULZZEi5m03mjYNZ2joVB48eIjHjx/nhg0/8MMPJ7J8eZ0LqNibIkXMewP++9+j+d13m+yeO0V8nqUFcBzIyZ7FGKcCKOKORxeBpObpp4dz1649V3YS06cv4e23B9teABQFcLBmzRBGR8/kzz/v4JkzZ2ycPkV8mwqgiP9QAVT8PkFBDt53Xzj79p3AzZu32Th9ivg2SwtgDMjpnsWIUQEUccejAhgY6ODttwfz3Xc/ueZ+ayqAijembt1QfvLJXO7ff4AJCQk2TqMivsnSAjgJ5CzPYkxSARRxx6MC2LhxGCMipnHt2g00DOPKTkIFUPHGlCzp4EMPDWZw8GRu2/aLjdOoiG9SARTxHx4VwA4dovjNN//j2bNnefny5Ss7iblzl7Np03AGBTmYJ4/9E7+ipE3jxmFctmyNjdOoiG+ytABOBTnHsxhTVQBF3PGoANaoEcznnhvJqVMX8/jx41d2Ejt37uaUKYvYo8cIliihq4EV74oKoMitsbQAzgA537MYM1QARdzJlotAUk2dulhfDad4XRo1CuOCBSt58eJFJiUl2TCNivgmFUAR/6ECqOS4VKjgZPfuIxgbO5979+6zYRoV8U2WFsDZIBd7FmO2CqCIOyqASo5L7twO5svnYMuWEVyx4lsbplER32RpAZwLcplnMeaqAIq4c0sFsEaNYL7wwii2bx/FkiXdF8BNm35kaOgUPvLIEBYtav/EryhpU6WKkz17juHs2ct44MAfPHToMOfMiefnn8fz4MFDNkyvIt5NBVDEf9xSAWzf3rz6d+LEBaxVK8RtAbxw4QJPnTrFkSNns0IFHQlUvCv58pk3iW7XLopr127ghg0/sGvXYezUaai+Ok7EBUsL4HyQyz2LMf+6BTAYwGEA5wCsAVA3k3EFAZgJ4AyA0wCmAyiW7jXdAOwEcB7AdgCdvXAblWC+37/S5CKASwBKuH7r4o9uqQA2ahTGkJApfOONMSxf3skmTcIZHj6Va9as519//ZVhpxEXt5CVKqkAKt6Z5s0juHLlOn777Ua2bj2YtWqF8P33Y7hs2RoeO3bMhmlWxDtZWgAXg/zKsxiLMy2A7wE4AKAOgAIAIgAcAlDIzbi+ALACQHGYRWklgIVp1jcFcAFAJwB5AXQBkAigoRduI715ABZlsl780C0VwCJFzI/PypVzskABJ4sWdbBqVfMbQQ4c+CPDTkMFUPHmpC+AhQo5WLFiMJ9/fqS+Ok4kDT8rgPsA9E7zPA+AEwB6uHhtZQDJAOqlWXZXyrKKKc/jYBaptOYDiE15XMVLtpFeBQD/AHjYzXrxU1lyEUhquncf4fKqShVAxZtz550hHDQojmFhU1m/fuiV5a1bD+a33260YZoV8U6WFsBlINd6FmOZ2wIYCLM0NU23fDmAoS7G9DjMo2rpXQTQPuXxFgD9063/AMDmlMcdvWQb6YUA2ONmnfgxFUAlx6dIEQdr1gzhnXeGMDDw6nIVQJFrWVoAl4Nc51mM5W4LYEWYBbBWuuWzAcS4GNOzAI66WH4MQPeUx3sB9Ey3/nUAu71sG2nlhXkO5Lsu1omfy9IC2Lr1YE6dupirVq3jqlXruH37r7xw4QLj49fymWeGs06dEBYoYP+Eryg3knvuCeWIEbO4ZctPPHv2rN1zr4jtfKEAxg8D+zxlpleXLD0CmOhi+UUA7VIeX+/Im7dsI60nYV4oUtzFOvFzWVoAy5Z1snnzCLZpE8k2bSI5ZMgMHj9+nEeOHOW6dRv57rufsFQpHQlUfCMlSjjZqFEY33svhtu3/2r33CtiO0sL4FcgN3gW46ubPgfwONyfA5iEjOfeJcE8hw4wz72bm+7n5uHquXfeso20vk55veRAWVoA0+eFF0Zec1FIbOx8li+vAqj4Vpo0CeekSQu4a9ceJiQk2Dj9itjL0gK4BuRmz2KsybQA9gOwH+atXwoCCAdwEO6vAl4CIB5ASQClYB4tXJBmfVOYR+c6wvxotTPMo2sNvXAbgHn1czKAe928X/FzKoCKcp3cdpuTrVpFMjR0Knfv3mvj9CtiLz8rgADghHlOXQKuvQ9g6r3yWqR5bRCAGQDOwrwH3zQX2+0K8/57iQB2wLwVS1resg0A+OMr7DEAACAASURBVBjARhfLJYdQAVSUG8z990fy88/jefjwEV68eNHGaVjEHpYWwHUgf/Qsxjp9E4iIOyqAinKDqVgxmB06RHPkyNn8/fcDNk7DIvawtACuB/mzZzHWqwCKuJOlBTAgwMGSJR0MDHQwT56MBXDGjKW8667QK+vtntAV5Vby2GNR3LTpRxunYRF7qACK+I8sLYCNGoXxv/+dxB49RrBkyYwF8OefdzAmZh6ffHLYNfdbUxRfigqg5FSWFsBNIHd6FmOTCqCIO1laAJ9+ejh37NjFuLiFrFYtmM89N5K7d+/lpUuXrtmJTJgwj2XL6qNgxTfTtu0QfvfdJl66dInJyck2TcUi1rO0AG4BucezGFtUAEXcydICeNddoXz77fHs0mUoS5RwskGDMPbp8wkXLVpFwzCu7ERUABVfTs2aIXzttdGcNWsZjxw5auN0LGItFUAR/5GlBTBPHgcLFHAwf34Hc+c2nwcEONiz52geOnT4yk5EBVDx5aT+Oe/SZSi3bPnJxulYxFqWFsBtIPd5FmObCqCIO9l6FXBqXn75Yx48eOjKTuT77zdz0KA4tm49mIUK2T+hK8qtpG7dEPbtO4GLF3/FkydPcu/efZwxYym/+OJr/vnnnzZO0yLZw9ICuB3kH57F2K4CKOKOLQUwMTGRJ06c4ODB01mypP0TuaLcSgICHCxVyskXXxzFX37ZyWXL1vD//i+Sr746mrt27bFxmhbJHiqAIv7DlgKYaty4OSxd2v6JXFE8SceO0fzxx1+4YMFK1q8fynvvDWNY2FR+/fX3PHv2rA3TtEj2sLQA7gJ5xLMYu1QARdxRAVQUD5O+ABYt6mC1asF8551PuG/ffhumaZHsYWkB/A3kCc9i/KYCKOJOthbAypWD+cgjgzlmzOc8depUhp2JCqDiD2nSJJzDh3/KAQNiWaXK1YubnnxyGH/9dbcN07RI9lABFPEf2VoA27WL4qJFq7hv337+/fffGXYmKoCKP6R4cQfr1QtljRrB11zUpAIo/sbKAnj2dzD5T89y9ncVQBF3LP0u4PQWLfqKXboMZa1aIcyXz/6JXFGyMq1aRXLKlEXcvv1XJiYmWjhNi2QPKwvgnwfBS4Zn+fOgCqCIO7YWwIMHD3HNmvXs3XucvhpO8buULetk8+YRjIiYds19MEV8lQqgiP/I1gLYvn0Uly5dzf37D/Cff/5xu1MZM+ZzliihG0Mr/plnnhnO3bv3WjhNi2QPKwvgiaPgxfOe5cRRFUARd7K1AFatGsx27aI4btwclxeBpFIBVPw5KoDiL6wsgEdO5GLCxdwe5ciJXFaMV8Qn2XobmFQqgIo/p0OHaK5cuY7Hjx/npUuXLJyuRbKWCqCI/1ABVJRsTvXqwXziiWGcOHEBT5w4YeF0LZK1rCyAB0/no3E5v0c5eDqfFeMV8UmWFMDu3Udw27btPHXqFE+dOsWEhAQmJydf2alMnLiANWoEs0gRB3Pntn/CVpTsyBNPDOOmTT/y3LlzTEpKsnEaF7k1VhbA/UYAT7OgR9lvBFgxXhGfZEkBrFcvlK+9Npp9+05g374TOHfucv71119Xdipbt/7MsWPnsFOnoSxY0P6JWlGyI3XqhPCVVz7mrFnL+Oeff9o4jYvcGhVAEf9hSQFMn549R/PYsWMZdi6jRs1mUJD9E7WiZGeef34kf//9gA3Tt4hnrCyA+4zCPMkiHmWfUdiK8Yr4JBVARbE4KoDiq6wsgLuNQB5lMY+y2wi0YrwiPkkFUFEsjgqg+CoVQBH/oQKoKBanSZNwOhxxXLnyW547d47bt//KSZMWcPXq73n+/HkbpnWRG2NlAdxpFOchlvQoO43iVoxXxCepACqKxSlUyMEyZZzs0+cTHj58hLNmLWOjRmF8//0YHj9+3IZpXeTGWFkAfzFK8QBv8yi/GKWsGK+IT7KkANaoEcxu3YaxefMIFiqkAqgogIP33x/B4cM/5SuvfMzixR1s1SqSo0bN5vr1m3nhwgUbpneRzKkAivgPSwpgly5DuXr19wwJmcLbbnOqACoKHAwKcrBGjRCWL+9kvnwOFi9u/mPJ6Zys28SIV7KyAG4zynAfy3mUbUYZK8Yr4pMsKYAPPTSYkyYtYK9eY1mihJOPPDKYU6Ys4rZtv/Dvv/++snNZsmQ1u3cfwXr1Qpk3r/0TtKJYkSpVzL8TDRqEMSDAwbZth3DatMX86aft1/z9ELGblQVwi1Gee1jRo2wxylsxXhGfZEkBvO02Jxs2DOPttwczf37z/KdGjcIYHT2TZ86cubJzOXr0GDdt+pHvvPMJCxe2f2JWFCvy+OPRXLJkNQcMiGWpUs4rfz+GDp3Js2fP2jjdi1zLDwtgMIDDAM4BWAOgbibjCgIwE8AZAKcBTAdQLN1rugHYCeA8gO0AOnvpNgDgRQA/AUgAcAzASBevET9my0UgqXnzzbE8efJkhp3MiBGzWLSo/ROzoliRxx6L4ty5y9mv3wSWLHl1ea9eY3nq1CkbpnkR16wsgJuMStzJKh5lk1Eps/G+B+AAgDoACgCIAHAIQCE34/oCwAoAxQGUALASwMI065sCuACgE4C8ALoASATQ0Au30RfAbwCaA8gNoCCABm7et/gpFUBFsTkVKwazVatI1q0bwgIFri5XARRvY2UB3GBU4y+s7lE2GNUyG+8+AL3TPM8D4ASAHi5eWxlAMoB6aZbdlbKsYsrzOADz0v3cfACxKY+reMk2isI84vkYJEdTAVQUL81TTw3n11+v56FDh3n58mUbpnuRa/lRAQyEWZqaplu+HMBQF2N6HOZRtfQuAmif8ngLgP7p1n8AYHPK445eso22AJIAvAtgN8yPf7+EWSTFyw0CsBfAWZj/WvkSwN3pXnMXgLUwP9s/BMDhZlsqgIripalRI5idOg3l5MkLmZCQYMN0L3ItKwvgd0Z1bmNNj/KdUd3deCvCLIC10i2fDSDGxZieBXDUxfJjALqnPN4LoGe69a/DLFnetI0eMN/7WgBlYX78PRjAEZhHB8WL1cDVEz7zwmzxxwDkSllWBOb/yDAA+WEeKj4I4G0X27K1AD777Ehu2vQjT506xaSkpCs7mbi4hbzrrlCWLOlg7tz2T8SKYmfeemv8NRdLidjFygL4jVGTW1jbo3xj1HQ33ls5ApjoYvlFAO1SHl/vyJu3bKMDzPf+cJr1uWFeMPKIi22LlyoA4B2Yh3NLpix7AWYhzJ3mdW8B2OPi520tgHXrhvL550dy1qxl13wF1s8/7+DkyYvYrduwa86JUpScGBVA8Ra+UADHxFdijz4l2KNPCT7ZKyiz8bo6B/A43J8DmISM594lAaiQ8jwOwNx0PzcPV8+985ZtpB79TFsA80AF0Gc8BvMS8GQAlwFEp1k3HObHwmk1g/kHpEi65bYUwIAA86a3hQubR/h69x7H06dPZ9jZDB06U7eDUXJ8XnttNPft28/z588zOTmZFy5c4OnTp5mYmGhDBZCczMoCuNqozY2s51FWG7UzG28/APth3vqlIIBwmJ+WubsKeAmAeJgHW0rBPFq4IM36pjCPznWE+elcZ5ilqqEXbmMezNve3IarV0AfRMaOIF4sCOZHu13TLJsIYFa6190JswCWT7fclgJ4333hHDQojl26DGWRIiqAipJZGjUK43/+M46LF3/FCxcucO3aDfzoo0lcunQ1L126ZEMNkJzKygK4yqjP9WzgUVYZ9a83XifMc+oScO19ACvBvFK2RZrXBgGYAfP8+zMAprnYbleY999LBLAD5q1Y0vKWbRSB2RVOAzgJYBnM2+GIj8kF8w9C/ZTnt3AEsDGB+1LSI9sntNdeG83Dh49w7NjPWbask2+9NV4FUFGuk7ffNv+eREfPZJEiDvbrN4EJCQlMTk62oQpIThEfH88+ffqwT58+7NWrF+FfBVDEp+WFeXi3S8rz5+Hl5wA2aRLODz6YyODgKfzoo0lcsmS1y4+zVAAV5WqaN4/gwIGT+OijQ1iggIP33x9Bp3MyV6/+XreJEUtYeQRwudGA69jIoyw3GlgxXhHLvAXzc3sAKA3zkvXTAMqkLCsC86ttQgEEwDxZ9AC86CrgfPnM8/969x7HAwf+cPt9pyqAinI1+fM7WKSIgwUKOJgr19XngwbF6TuDxRJWFsBlRiOuZROPssxoZMV4RSyzBOY5C+dgFr2FuPbkTsAsfd/APDJ4BMBAN9vyivsA/vTTdsbGzue33268ZiJTAVSUjLnnnlD27DmaLVqEM29eBwcMiFUBFEuoAIr4D68ogFOmLGK9eqF0OCbTMIwrOxsVQEXJmJ49x3DXrj386KNJDAhQARTrWFkAlxiNuZrNPMoSo7EV4xXxSV5RAMeM+ZwlSjj59tvjefbs2Ss7m2XL1vDVV0ezYcMw5slj/8SrKN6QRx8dwtjY+XzmmRHMn9/BDh2iGRe3kFu3/qwLQiRbWVkAFxj3cQVbepQFxn1WjFfEJ3l1ATx16hR37tzNd9/9RDeEVpSUlCrlZO3aISxb1sncuR0sXdrJOnVCOHLkbF0MItlKBVDEf9haAB97LIozZizl66+PYdGijgwFMNWQITMYEGD/xKso3pwnnhjGhQtX8ddfd9tQDSQnsLIAzjVa8ku28ihzjZZWjFfEJ9laAMuWdbJJk3Defnsw8+VTAVQUT1KxYjCbNQtnbOx8fRQs2cLKAvi58SCXso1H+dx40IrxivgkWwtg+qgAKornGThwkgqgZAsVQBH/oQKoKH6WgQMnMSkpyYZ6IP7OygI4y2jNRXzYo8wyWlsxXhGf5BMFcPLkRWzSJJzlypknvds9TkXx5rz22mhu3fozjx07RpI8duwYt23bzuPHj1vdF8TPWFkApxsPcR4f9SjTjYesGK+IT/KJArhjxy5+/nk8n356OPPmtX+ciuLNqVcvlE8/PZxz5y4nSc6ZE88ePUZw4cJVVvcF8TMqgCL+wycKYKrIyOnMn9/+cSqKL8TpnEySHDQojnnyONiv3wTu338g079jIpmxsgBOMdryc3bwKFOMtlaMV8QnqQAqip8mbQHMndvBJk3C2bv3OMbHr7WoLoi/sbIATjLacRY7eZRJRjsrxivik2wtgAUKOFismIOFCjmYO7cKoKJkZQYMiOWZM2f4/vsxV5blz+9gZOR0CyuD+BMVQBH/YWsBbNYsnIMGxbFjx2gWKqQCqChZmZYtI9i/fyxbtAi/skwFUDxhZQGMMR7nDHb1KDHG41aMV8QnXSmAuXJZP0G9+eZYnjhxgqNHf3blq+DOnDnjduejAqgoniV/fgcjIqZZWBnEn1hZAMcbnTmFT3qU8UZnK8Yr4pMCAbBbtwhWquS0fDK6775wfvTRJD7+uHkEsEWLcDock7lq1Tr+/fffGXY+KoCK4lny5nXwkUcGMzp6Jjds+MGGCiG+TAVQxH8EAuDs2YvZrFm45ZNR/vwOFi3qYMGCDubK5WCBAk4GBjr4wQcTee7cuQw7HxVARfEsuXI5GBDgYJkyTo4cOduGCiG+zMoCOMZ4gpPY3aOMMZ6wYrwiPikQAF9/fTjvuCMkw2RRpYqTTzwxjI89FsXSpa2bpPr0+cRlAVy+/Bu+9dZ4Nm0arhtCK4oHKVjQwaioGTZUCPFlVhbAUcZTjOFzHmWU8ZQV4xXxSYEAWLr0AJdftda69WAuXbqacXELWa9eqGWTk7sCaBgG//jjIN97L4Z58tg/iSqKr0YFUG6FCqCI/8j0KuB77gljaOgU9u07gVWrBmdYX6VKMNu3j2LLlhEMDMy6yenRR4dw0qQF3LLlJ16+fDnDTigsbKoKoKJ4kPz5HXzmmeH87LMvuWPHLl66dIk//LCNc+bEc9euPTZUC/EFVhbA4UZ3jueLHmW40d2K8Yr4pEwLYGCgg3fcEcKqVYNZsGDG9Q8/PIQLF65iVNQMVquW8SPkW02pUk7WrRvCYcM+ZWJiYoadkAqgoniW3LkdLFfOySZNwjllyiImJCQwKmoGmzeP4MyZS22oFuILrCyA0cZzHMNXPEq08ZwV4xXxSR7dB7BlywiOHz+H/fvHsmLFjEcIK1YMZuvWg3n33WEuC+T10q/fBJ4/fz7DTkgFUFGyJgEBDr7yysecMyeenToNZZEiDvbsOZorVnzL/fsP2FAxxJupAIr4D48KYKlSTjZsGMY77wxhoUIZ1z/66BDOnbucH3wQyzJlbv42MyqAipK9yZPHwWrVgtmsWTgrVHAyb14Hq1cPYbt2UZw3b4UNFUO8mZUFcLDxIkfyNY8y2HjRivGK+KRs/SaQ6xXAcuWcbNo0nNWrBzNfPgfLl3eyWbMI3n57MPPmVQFUFLtSsqSDY8Z8bkPFEG9mZQEMN17lML7pUcKNV60Yr4hPytYCeL2PgNu1i+Knn37BN94Yy6JFHezYcSg//zye//73aBYqpAKoKHZFBVBcUQEU8R+2fhfw008P59q1G/jhhxNZrNjV7wIeMWIWixZVAVQUuxIU5OCHH07kjh27+Oeff9pQNcQbWVkAQ4yejOJ/PEqI0dOK8Yr4JFsLYM2aIezWbRgbNw5jgQIqgIriLSlQwMHGjcP4xhtjuWrVOhuqhngjKwugw3iDkXzHoziMN6wYr4hPsrUAps/LL3/MX37ZyUGD4likiPsC+PHHn7FatWAGBZlfbWX3uBXFX1O6tIPjx89lUlIST58+zcOHjzAhIcGG6iHewA8LYDCAwwDOAVgDoG4m4woCMBPAGQCnAUwHUCzda7oB2AngPIDtADp76TbWAPgbwF8w3/tfAF538Z7Fj3lVAbzrrlC+8srHbNEinPnzuy+Amzdv4/jxc9i+fZQKoKJkY1ILoGEY/PTTL/jhhxP53XebbKge4g2sLID/NXozlH09yn+N3pmN9z0ABwDUAVAAQASAQwAKuRnXFwBWACgOoASAlQAWplnfFMAFAJ0A5AXQBUAigIZeuI2vYZZfycG8qgCmj7sCmCokZIoKoKJkY0qVcnLEiFncs+c3vvTSKJYv7+To0Z/x3Llz/OeffyysHuINrCyAA4x36GR/jzLAeCez8e4D0DvN8zwATgDo4eK1lQEkA6iXZtldKcsqpjyPAzAv3c/NBxCb8riKl2wDMAtgCCRHUwFUFMVtChVysG3bIXzrrfG8555QFi3q4GOPRXHw4OncvHmbhdVDvIEfFcBAmKWpabrlywEMdTGmx2EeVUvvIoD2KY+3AOifbv0HADanPO7oJdsAzAJ4EsCfAHYAiARQ2MV2xY+pACqK4ja5crlO5crBjItbaGH1EG9gZQF83+jLgfzQo7xv9HU33oowC2CtdMtnA4hxMaZnARx1sfwYgO4pj/cC6Jlu/esAdnvZNgDgPpjnEgJAfZilcZaL7YofUwFUFOWmU6mSUwUwB7KyAPY13r+l2vd0fHc26dOUTfo0ZaNe97ob760cAUx0sfwigHYpj6935M1btuHKgwD+gXkupOQQKoCKotx0VABzJl8ogGnT13g/s/G6OgfwONyfA5iEjOfeJQGokPI8DsDcdD83D1fPvfOWbbjyAMwCGJDJa8TPqAAqinLTKVHCyeefH8mZM5dy1649FlYQsZOVBfAdY4CHZwA6+Y4xILPx9gOwH+atXwoCCAdwEO6vAl4CIB5ASQClYB4tXJBmfVOYR+c6wrz6tjPM27A09LJt3AbgkTTvsy6ATQDmuHnf4qdUABVFuenkzWteIdyyZQTnzVthYQURO1lZAHsb//XwJjCh7G3893rjdcI8py4B194HsBLM++O1SPPaIAAzAJyFeQ++aS622xXm/fcSYV5c0Sndem/YRmUA/0v5+b9gnhuoi0ByIK8qgLVqmd8M0rBhGPPlUwFUFG9P1arBnDp1MRMSErh+/Q9cunQ19+8/YGElESv5YQEUybG8qgD26DGS69Zt5HvvxbBwYRVARfH2pBbAQ4cO88MPJ7JDhyguW7bGwkoiVrKyAL5hODz8HpBIvmE4rBiviE/yqgLYqdNQzpkTz9deG81ChRzs2nUoFyxYyV279jApKSnDzujTT7/gY49FsUaNENvHrig5MWXKONm37wROnryIrVsPZoUKTvbvH8tvvvkfjx49ZkNFkexkZQHsaYTwP4zyKD2NECvGK+KTvKoAVqjgZPPmEaxePZh58zpYsWIwW7aM4CefzOXff/+dYWd04MAf/Oab//HFF0fZPnZFyYkJCDBP3WjSJJxlyjhZsKCDtWuH8tlnR3L16u9tqCiSnVQARfyHVxVAd+nfP4YXL150u1NyOCbbPkZFUa6mSpVghoZO5datP/PUqVMWVhTJTlYWwFeNcL7JYR7lVSPcivGK+CQ/KYBxto9RUZSrKVLEwUaNwvjmm2O5bt1GCyuKZCcrC+CLxmC+xpEe5UVjsBXjFfFJKoCKomRbqlcP5vDhn3Lv3n3866+/LKwqkh1UAEX8hwqgoijZlqAgBx94IJIffjiRmzb9aGFVkexgZQF8zojmKxzjUZ4zoq0Yr4hPuqYABgQ4eNttTpYu7WT+/Bl35gULmlf9lSzpYL58GdcXKuRg2bJOlijhZN68WTeJvPnmWP722+80DMPlTkkFUFG8O3feGcLY2Pk8fvw4L1y4YHFtkaxiZQHsbgznixzvUbobw60Yr4hPuqYA1q4dwr59J/DNN8eyatXgDDvxu+8O4wcfTOSrr45m+fLODOvvvTeMDkccn39+JEuVyrj+VtOoURjfeGMsFy/+ipcvX86wU1IBVBTvTsmSDj72WBQjI6dx27ZfbKgukhVUAEX8xzUFsE2bSH711XdcsGAl7703LMNOvH37KK5f/wNnzlzKOnUy3nuve/cR3Lt3H6dPX8Lbb89YIPPlc7BwYfNIY+7cNz+JfPBBLP/5558MOyUVQEXxjdSvH8rZs5cxMTHR5T/mxLtZWQCfMkbxOcZ4lKeMUVaMV8QnXVMAb789mC++OIrPPDPC5RG+WrVC+O9/j2bXrkN5220Z11+vADZuHMYBA2LZqdNQFi1685OHCqCi+HbKlHHyiSeGcezYOfz11902VBjxhJUF8AljDLtzkkd5whhjxXhFfNI1BTBXLgfz5DHj6ivWrrf+egXw1VdH8+DBQxw/fg7Llr35j4hVABXFt5O6D2ncOJxLl662ocKIJ1QARfxHll4FfM89oezfP4bPPDOCJUtmXN+0aTgHDoxj166ujwA2ahTGt94az9atBzN/fvOI4TvvfMIHH4xg3rzuC+CKFd+yX78JbNYs3PYJTlGU66dhwzAuWaIC6GusLICdjfF8klM8SmdjvBXjFfFJWVoACxQwb/tQpIj5r/z06wMCHCxe3DwP0NU5gD17jubvvx9gePg0Fi3qZO/e43jw4CE6HHEMCHBfABMTE3nq1Cn26zfB9olNUZTrRwXQN1lZAB83YtiVMzzK40aMFeMV8UledR/ANm0iOXLkbD755DAGBDjYr98Enj9/nkOGzMi0AJJkcnIyBw6cZPt7UBTl+qlcOZi9e4/jggUr+ccfB3nixAkuW7aGixZ9xUOHDltca+RGqQCK+A+vKoDFijlYtWowS5Y0jxCqACqKf6ZAAfOeoR07RnPNmvX88cdf+NJLH7Nbt2H66jgvZmUBbGdMYifO8ijtjElWjFfEJ3lVAUyfDh2iOW3aYvboMZL582deAJOSklQAFcXHUr16MAcMiGV4+DQ2aBDGZs3CuXLlOotrjdwoKwtgW2MKO/Bzj9LWmGLFeEV8klcXwDJlnLz77lBWqOBk7twqgIribylUyCyBtWqFMDDQoQLo5VQARfyHVxfA9FEBVBT/Tp06IYyMnMbly7/h8uXfcOPGrTx9+rTFNUfcsbIAPmRM56Oc51EeMqZbMV4Rn+Q3BVDnACqK76dYMQfvvjuUrVpFslWrSL799nj++KO+Os5bWFkAWxuz+DAXeZTWxiwrxivik1QAFUXx2jRsGMZx4+Zwx45d/OuvvyyuO5KeCqCI//CbAqiPgBXF/1KqlJMtW0bwo48mcfv2Xy2uO5KelQXwQeNztuFSj/Kg8bkV4xXxSSqAiqJ4fZo2Def06Uv4xx8HmZiYaHHtkVRWFsCWxly24pcepaUx14rxivgkFUBFUbw+5coFs23bIYyKmsE9e36zuPZIKhVAEf/hVQWwSBEHy5Vzslgx118Vd71zAKOiZrB8eafL7xlWFMX389BDg/ndd5ssrj2SysoCeJ+xgC25wqPcZyywYrwiPsmrCmCrVpEcMmQGu3QZyoCAjOszK4AkuX79Zo4YMYsPPzzE9veiKErWRwXQXlYWwMbGEjbjao/S2FhixXhFfJJXFcBevcbxyJGjHDJkhsujeNcrgCR56dIlfvjhRNvfi6IoWZ/WrQfzq6++Y2Ji4jW5ePEik5OTLapBOZcKoIj/8KoC2KRJON97L4YPPzyEBQpkXK8CqCg5O7ffHswXXxzFgQMnXZPp05fwyJGjFtWgnMvKAtjIWMYmXOtRGhnLrBiviE/yqgKYJ4+D+fKZ/82VK+N6FUBFydnJndvBvHnN/UTadOw4lFu2/GRRDcq5rCyADYzlbMR1HqWBsfx64w0GcBjAOQBrANTNZFxBAGYCOAPgNIDpAIqle003ADsBnAewHUBnL91GqqIADgBIApDbzWvET7ksgNWqBbNHjxHs3DmaZcs6bd/pp6ZNm0hGRc3gunUb3X7cowKoKDkvdeqEsE+fT7hw4SqeOHHC4lqUc/hZAXwPZvmpA6AAgAgAhwAUcjOuLwCsAFAcQAkAKwEsTLO+KYALADoByAugC4BEAA29cBupJgH4EiqAPiESwE8ADJj/avkUQMV0r6kEYAmAvwCcADAa5h8CV1wWwDZtBnPFim85a9YyNmgQZvvOPTWFCpk3ho2ImMakpCSXOygVQEXJecmf38GgIAeffXYkf/55h8W1KOewsgDWN1axAdd7lPrGqszGuw9A7zTP88CcM3u4xdQwwQAAIABJREFUeG1lAMkA6qVZdlfKstQ5OA7AvHQ/Nx9AbMrjKl6yjVQdAPwPQGuoAPqEcAD3wCx0gTAPA29Nsz4XzII4GUBhmGVwG4ARbrbnsgC2bTuEGzdu5RdffM17781YAKtVC2bXrkPZpk0kixfPuDOuUSOYTz01jA8+GOHyYo7atUPZo8dItmgRzoIFb35n/9FHk1QAFUXJkMcfj+bWrT9bXItyDisLYG1jNetxo0epbax2N95AmKWpabrlywEMdTGmx2EeVUvvIoD2KY+3AOifbv0HADanPO7oJdsAgJIA9gOoDeBBqAD6pLth/o9L/fz/QQB/wzw0nOpxmOc35HPx87dUANu2HcJly9Zw9OjPeccdIRnWd+o0lF9/vZ5RUTNYoULGj5CfeWYE16//gcHBU1iixM1/xKwCqCiKq6gAZi8/KoAVYRbAWumWzwYQ42JMzwI46mL5MQDdUx7vBdAz3frXAez2sm0AwGcwSyGgAuiz3od5GDvVWzBP/EyrHDIeMk51SwWwa9eh/OWXnZwzJ5516mQsgM89N5L79u3n1KmLWaVKxoLXs+doHjt2jOPGzWHp0hl34jVrhrBz52jefXco8+Z18M47Q9i16zDWrx/K3LlVABVFcZ177w1jVNQMzpkTzzlz4vn995tpGIbFNcl/WVkAaxrfsDa33HQqxY9hiT49WKJPDwb1etLdeG/lCGCii+UXAbRLeXy9I2/eso2nAWzC1cLXCmYBzONiu+KlHoJ5ZO9faZZ9BGB9utcFwPyD3tzFNryyAPboMZLffPM/vvPOJyxY0MEXXhjJ77/fzN69xzFfPhVARVFcJyjIvCCkUaMwNmoUxvffj+Hevfssrkn+y8oCWN34jjW5zaNUN77LbLyuzgE8DvfnACYh47l3SQAqpDyPAzA33c/Nw9Vz77xlG5NhdoeTKTkLsyOcAPAcxOu1h3kJ+OPplt/iEcDGBO5LSQ82bhzG0aM/Y1jYVNasmbHg3X9/BGNj53PgwDiXBe+hhwZz2rTFfP/9GJYpk3F9u3ZR/OyzL/nWW+MZFJRxJ9616zAuWrSKr702mgEBDvbvH8OLFy8yMnI68+f37gJYtKiDd98dyvvuC3dZbhVFsS6p/1iVWxcfH88+ffqwT58+7NWrF+E/BbAfzPPg6gIoCPMc+4NwfxXwEgDxMM+fKwXzaOGCNOubwjw61xHmefqdYd6GpaGXbaMYgPJp0g1mgayY8nsQL9YDZvl7yMW6B2AeCnZ1DmB+F693eQSwZEnzo5S77w5lYGDGnepttznZtGk469ULZeHCGdeXLetk8+YRrFMnxOVXulWo4GTLlhGsVSuE+fNnXF+pkpMPPhjBO+4IYZ48rgvg5cuXXe6s7C6A1auHMCRkCmNi5rF58wjbJ0BFyclRAcxaVh4BrGZsYHX+4lGqGRuuN14nzHPqEnDtfQArwZw3W6R5bRCAGTCPmJ0BMM3FdrvCPAiTCGAHzFuxpOUt20jrQegcQJ/QG+b/8BZu1ucC8CPMQ8BFYB4u3oqbvArY2/L88yP57bf/Y69eVz8C9tYCWKNGMKOiZnDGjKV84IFI2393ipKTUry4g/XqhbJGjWAWKmR+ddysWcu4cePWa/Lbb7/z4sWLFtcn32dlAaxkbGIV7vQolYxNVoxXxBLJMK/y/Ssl51L+m7YQVgKwFFc/4x8F11cAAz5SAGvWDGHHjkNZt26I118EUqyYg/fdF87WrQezXDnvuYm2ouSENGkSzmHDPuWAAbGsWjWYFSo42aZNJDt3jr4mI0bM4tGjxyyuT75PBVDEf/hEAUyf6xXA4cM/Zc2aISxZUgVMUXwpBQuap4BUrhzs8vSSwoUdrFw5mJUqOV3eQ7R168FcsGAlx4z5nLVqZTx/OTUdOkRxxYpvefToset+vaRcZWUBLG9sYUXu8SjljS1WjFfEJ/ldAUxOTuYPP2xjbOx8PvZYlO1jVRTlxnPHHSHs128CP/xwoss7DNStG8oPP5zIfv0msHr14AzrK1cOZseOQ9mmzeBM7zFavXowu3UbxtjY+Tx58qTFNcp3WVkAyxjbWI77PEoZY5sV4xXxSX5XAFP9/fff7N8/xvaxKopy47n33jB+9tmXXLRoFe+/P+NFVA88EMnFi7/i7NnL2KiR519T2a3bMG7cuJWGYVx3nyIqgCL+RAVQURSvSblyTnbpMpRPPjmMlSu7PsL35JPD2KXL0Cw5x7Z27RC+/PLH/PTTL3j69GmLapTvsrIA/n97Zx4eVXmo8Td7CBAgLAEhYZEdZCcom1LZRBBZFAUFrbSgYC0iZRF6ZpJMFkiQXQi7CLKKqCxK8WorbbWVXipqK25ctYpSNVW5gMp7/zjhEpKZZDInc2bJ+3ue38PMOWe++eZkOHnznW+pV3iCDXjKkvUKT9hRXyFCEgVAKWWV9557lvLUqf+xKUaFLnYGwDpfv8O6P31iyTpfv2NHfYUISRQApZRVXgVA71AAFCJ8UACUUlZ5FQC9w84AmPjlu6x1/jNLJn75rh31FSIkUQCUUga9KSkO3n57PseMyeNVV1X+9E5paS7+9rcb+NhjT13hkSNH+f3339sUr4IfOwNg9c8+YI3vv7Rk9c8+sKO+QoQkIRsAPa0EcgkFQCnDx759s7hv3xHu3v0C09JclV5+tWoG69VzsEGDK501q0DTxBRDAVCI8CEgAbBt23Teeedi9u6d5Xat4I4dM3j33UuYluZiTIzBTp0yOGnSEvbokcmoKAVAKauabdumc86ctXzkkTVs1cpc4WPEiEUcPDiX9etX3vu0bp3OcePy2bdvFhMSDE6duoKnT5+2KV4FP3YGwPiPP2K1wq8sGf/xR3bUV4iQJCAB8I47FvPo0b/Q4djodrLWe+5Zyr/97U3Onl3AhASDv/jFcr755tucOXMNY2MVAKWsaiYkmLeBmzRxslo1s0Vw585DXLduLzt1yqi09xk7Np+///1rzMzczORkhwJgCewMgDEffszYfxdaMubDj+2orxAhSUAC4ODBuVy/fi9/8YvlrFWr9P4RIxbxySef56RJSxkfb3DUqDw+9dR+TpjwGGNiHOoDKGUVt0uXTGZnP8H589ezVavS8wX66o03ZrOgYA/vv38lk5IcHDLEvFbt2fPiFR4//hZ/+OEHm2JX8KAAKET4EJAA2KCBg126ZLJpUwdjYkrvb9jQwe7dM5mS4mBUlDk5bI8emWzSxMnISA0CkbKqW6uWwfbt09m6dTpr1Ki8cuvXN8Nls2ZOxsaa16quXTPZs+eV5udv43fffWdT7Aoe7AyAESf/xcjPv7NkxMl/2VFfIUKSkB0E4u8AGB9vrhLQp4/L7ajDhASzr+J112UxObnyRyVKKYPX0aPz+OyzR3jkyFEeOXKUJ0++XyWWkrMzAOIfXxCfnrPmP76wo75ChCQKgB6sX9/gzJlruG3bfg4Zkltqf5MmTj766Hpu2PAMr7++9JqlUsrwNTXVyRtuyObAgTkcODCHBQV7eO7cOZtiWOBQABQifAjJAHjffcv42mvH+Omn//J4obIaAJOTHVywYD2ff/4ljhixqNT+pk0ddLk2c9euQxw0qHRAlFKGn8nJ5i3h1FQno6Mvb581q4Bnz561MYoFBlsD4Il/E6d+sOaJf9tRXyFCkpAMgO3aZXD06Dxu337A44XKagBMSDDYvXsmb7opl82ale5kXrOmOXns4MG5bNKk8jqhSymD12HDFnLz5mf5858vY/Xql7crAPrh99J/f0O8f9Ga//2NHfUVIiQJqQCYlORgy5bprFfPwYgIg7/97QaPFyoNApGy6lmjhnl79qqrHIyLM583bepgo0YOxsZaL//uu5fwL3/5b86fv541a17efikAfvXVV3zvvQ948uT7PHnyfZ45c8bGeOZ/FACFCB9CKgAOG7aQa9bs4ahRixgZqQAopbzSLl0yaRgbOW3aSqakONm9eybT0zdx6tQVlbKEXPv26bzrriW89lrXFYHyUgA8ePAVTp26gvfdt4z33beMe/ce5sWLF22MaP7F1gD4RiHxT1rzDVvqK0RI4tcAeGl5pcREg1FRpfcnJJiDLWrWNBgZ6Xl/jRoGIyIMzp27lhcuXGBm5mZGRZkB0NPF9fz588zI2MwGDRxMSAj8LyYppf8dOjSXR44c5aZN+9i+fTrHjMnjiRPvcOfOQ2zXLt1v7ztt2kp+9NEpLliw/orVjWbMWM3PP/+cX3zxxRWG6vrCtgbA1wqJt2jN1xQAhfCEXwNgz56ZXLBgA++4YzFr1y69v08fF9PTN3H06Dy3IW3AgBzm5Gzh8OELGRNTsQD4448/8g9/eJ05OVs4YEB2wH8xSSn979VXO3nXXUt4yy2LWL++YVsA7NEjk7/61ePs1y/risEh117r4owZq/nww5d95JE1PHz4VZujW+WgAChE+ODXADhp0hKeOvU/3LDhGaaklL798sADK/nll19yxYqdbpeEmzFjNb/++mtmZT3B+PiKBcBLnD17lrNm6VawlFXRUaMW8W9/e5Pbtu1n27b+C4AVMSrKoNO5iRcuXAi5uQNtDYBHC4njtOZRBUAhPBHUAbBPnyw++ug6DhqUw5gYh9sAWB4KgFJWXdu3T+e0aat4++35rF8/8PUBzO4uN96Yw4yMTXz11ddtiG2Vh60B8JVC4g1a8xUFQCE8EdQBMCbG7EcYE+O5D2B5KABKWXWNijJX9YmNdd/POBBGRJjXtMREg4sWbbUhtlUeCoBChA9+DYBpaS4axgaOH/8Y69Qpvb9v3yy6XJs5dmz+FXNqeVIBUEoZCvbsmckHH3ycvXtnMSLCYK9eLj700OPs1cv1/8fExBjMzt7CH3/8ka+++jpXrtzJN944bkOM8x1bA+CRQuLPtOYRBUAhPOH3UcANGjhYq5bnUcANGpijhL3561wBUEoZCj700OP8+ONPOGfOWkZGmstKfvbZ55w5c83/H3MpAJ47d46ZmZvZvLmTjz++24YY5zu2BsAXC4mjtOaLCoBCeCKk5gEcPnwh163byzFj8sudB/ASCoBSysq2fft0TpiwhGlpLsbElN4/fPhCrl9/+Vp166153LjxGd56a97/H1M8AM6eXcC4OIN33LGYmzbtK9Pt2w/wn/88aUPcMzl9+jRfeOH33LRpHx9//ClCAVCIsCCkAmDdugbbtEln/fpGuSuBXEIBUEpZ2U6caK4IMmfOWrfdV+rWNdi27eVrVb16DrZta65idOmYkgEwMtK8I9K2bXqZ9u2bxR07DtoQ/UyOHfs77713Gdu2TWerVvMIuwLggULiFVrzQLkB0AngUwDfAngZQIcy6lUbwFYAXwP4CsAWALVKHDMWwDsAvgfwFoBRQVrGPgCfACgs+nc9gCR3H1qELyEVAEsayABYo4bZz2fgwBytBSxlFXP48IXcuvV53nvvUlar5lsZ0dEG77prCXfsOMjRo/O8fl3t2gbvv38l9+497JWHD7/KTz75lN9++y1ff/1vXr/uktnZW9ipU0bR+88h7AqAzxYSR2jNZ8sMgLMAnALQHkAcgCyYYSjBQ732A3gRQB2YYekwgGeK7e8F4H8B3AogGsBoAGcBdAvCMq4p+syAGR6fArDbw+cWYYoCoI+mpjqZkbGJO3Yc5MCBOQE/F1JK+2zY0MEePTLZtKnDbf9mb4yMNJiS4mBamqtCy9TFxBhs3tzJXr1cXnn77fk8fPhVfvjhR5w3b53Xr7tkhw4ZrFXr0vuHVQD8AMD0Ys+jAHwBYIKbY1MBXATQsdi2TkXbmhQ93wBgT4nXPQ1gbdHjpkFSRknqwGxR/LuH/SJM8SkA1q9vjvDt2DHDq9G7/jKQATAlxcEFCzZw06Z9vOEGrTQipfSvsbEGW7dOZ58+LjZu7P1dhzZt0rl9+wG+8867vO22fIv1sDEAPl1IvEBrPu0xACbCDE29Smx/AUCemzrdArNVrSTnAAwvenwMwOwS++cC+GvR45FBUsYlsgD8B+Z5+A5mS6GoQvgUAPv1y2ZBwR7On7+eTZtaX2DdVwO5Ekj16gY7dcpgnz4uNmwYuHMgpawa1q5t8MEHV3HHjoO8+eaFXr8uZAPgrkJiP625y2MAbAIz+LQpsX07gAI3dboLwGdutn8OYHzR4/cATCmxfyqAd4OsjJI0B5AOsyVRVCHcBsBatcyOyC1bprtt4bu0vuauXYfYvr315ZUaNHCwc+cMpqQ4rlhHszy1FJyUsqpYv77BVat28fTp05wyZbnH4+LiDDZr5mSHDulMSnL4HABr1DDYqpWTbdqkMzHx0vawCYC+tACedbP9HICbix6X1/IWLGW4oyfMYBlVxjEizHAbALt0yWR29hbOnbuOV19d+lZDZQfAoUNzuXHjPt5779IK3VLWKGApZVXR2wCYnOzggw+u4vLlO9mvX5bPAbB163TOn7+emZmbec01ARgE8lQhsY8V1zhE3DLDdNi0surrrg/gaXjuA/gTSve9+wlA46LnG1B6IMUeXO57FyxluKNPURkaCVyFcBsA+/fP5tNPv8h16/YW+49/2aFDc3nw4CtcsWInW7WyHgCnT1/Fr776ikuXbmft2t6/TgFQSllVrFvXQadzI1977RjvvHOxx+NSU53Mz9/Gl176I0eOzGOLFk4uXbqdL7zwew4b5v2t427dMrlp0z7u3HmIvXtnFW23MQBuKST20JpbyhwE8giAj2BO/VINgAvAx/A8Cvg5AIcA1AVQD2Zr4d5i+3vBbJ0bCXP07SiY07B0C7IyWhVtq1n0vA2AowD+5OFzizDFbQBMSXHw1lvzOHRortsF1Js3d3Ls2HwOHJjjdom3iqoAKKWUZVutmsE+fVy8664lbNfO8x/eiYkGBwzI4bhx+WzZMp21axu88cYc3nZbPlu08H7wSHKyg8OGLeQttyxi48aX+jmHVQAEAAfMW5/f4cp5AFNgzg3Yp9ixtQE8CeAbmHPwPeGm3DEw5987C+BtmFOxFCcYymgN4A8w5xD8D8yW0FUAGkBUKYJiGpjJk5fz5Mn3mZX1RLHpBsrXjgAYFWWwZk2DSUkOxseX3h8dbV5w69Qx+94E+peElFL6TxsD4IZCYjutuUErgQjhiaAIgF27ZnD69FX82c9y3IYsT9oRAOvUMZdnmjdvHXv0yCy1PznZwbvvXsJZswqKTZYqpZThqI0BcG0hsZXWXKsAKIQngiIA+qodATA11clNm/bxww9PceLEJaX2t2uXzqee2s/jx09UaDZ/KaUMPRUAhQgXFADLsbwAWL++wXHj8vngg6vYoYP1ATFSShm82hgAVxcSm2nN1QqAQnhCAbAcywuAkZEG4+MNJiQYFZrDUEopQ08bA+CKQmI9rblCAVAITygAlmNSkoN33bWEDsdGpqW5Av6ZpZQycCoAChEuhHwA9PdKINHR5kCQ5GQHExIC/5mllDJw2hgAlxQSa2jNJQqAQnjCUgBs1szJkSPz2L9/doWmb6ksb701j5s3P8vjx9/yWwAMFZs2dQT0ZyGlrAraGADzComVtGaeAqAQnrAUAIcMyeFzz73EvLytbN7c+wlGK8v69Q22b5/OVat2VfkAOHhwLp977iXm52+r0GSvUkrpvQqAQoQLlgLgbbfl8+23/8nt2w+wTZvSI2BTU50cPDiXXbtmsFo1/12UnM5NFQ6AsbEGO3XK4E035QYkvFa2vXtnccWKnZw1q4BNmoT+55FSBqM2BsDcQmIprZmrACiEJ/waAIcNW8i9ew/z0UfXMznZ4dN7eKMvATAx0eDDD6/mwYMvc8yY0J+/r25dg126ZLJ163S/hm0pZVXWxgDoKiTyaU2XAqAQnvBrAJw0aQlPnfofbtjwDFNSgisAJiU5uHz5Tp45c4bTpq0MggurlFIGuwqAQoQLCoAKgFJK6aU2BkBHIZFDazoUAIXwhKUAOGhQDp9++kXm5Gxhs2al+52NGLGQBw++QodjIxs2DK4AWKuWwdmzC/jyy3/iuHH5QXBhlVLKYNfGALigkHDRmgsUAIXwhKUAmJLi4E035fK661xMTCy9v3lzJ0eMWMS0NJdf59DzJQDGxRns1i2Tt96ax1atNGhCSinLVwFQiHAhpCeCrlPHDJlLl26vcAAMV2vUMNikiZMNGjgYExP4+kgpw0kbA+DcQsJJa85VABTCEyEdAG++eSFXr97NN944rgBYZI8emXQ6N/K++5b5deS1lLIqamMA/E0hsYDW/I0CoBCeCOkAaMdScKHmqFGL+Nprx1hQsIdXX61b21LKylQBUIhwQQEwzGzbNp2TJy/niBGLWKdO4OsjpQwnbQyADxcSc2nNhxUAhfBElQ+AEREGIyNNIyIC/5mklDJ4tTEAPlhIPEJrPqgAKIQnQj4Alkd5ATAhweDQobn89a9Xs1u3zIB/JimlDF4VAIUIF6p8AKxb12B+/ja+//6HvO++ZQH/TFJKGbzaGAAfKCRm0JoPKAAK4QmfAuDVVzt5552PcejQXCYlBW6kqTcB8MKFC9y79zB/+cvl7NKldAtfvXoOrly5i6dPn+bUqSuC4AIrpZTBqo0BcEoh8SCtOUUBUAhP+BQAhw1byCNHjnL16t1s3br0EnB26U0AvHjxIr/55hv+858n+ctfLi9VhgKglFJ6qwKgEOGCTwFwzJg8njjxDnftOsT27YM7AF7iu+++48MPry5VRrAEwORkBwcPzuWgQbls0EDz90kpg1EbA+B9hcT9tOZ9CoBCeEIBMEgCYM+emdy0aR/Xr9+rwShSyiDVxgA4sZCYTGtOVAAUwhM+BcDevbO4YsVOzpmzlqmpgZtsuDICYGKiwalTV3DLlud40025Afss11yTwezsLXS5nghoqJZSSs8qAAoRLvgUAOvVc7Br1wy2bZvOhITAXYwqIwDGxJiDWtLSXGzYMHC3XmvVMkNgx44ZTEwM9EVeSindaWMAnFBI3EtrTlAAFMITIT8NTHkTQZcXAKWUUnqrjQFwXCFxN605TgFQCE8oAEoppfRSBUAhAsk4AL8HUAjgJwCRJfZ3AvAKgO8AfALAKKMsBUAppZReamMAHFtI3Elrji03ADoBfArgWwAvA+hQRr1qA9gK4GsAXwHYAqBWiWPGAngHwPcA3gIwKgjLqA9gE4APAPyn6N8sALHuP7YIJgbBDIH3onQArAHgXwAyYf4wOwL4GMBDHsoK+QDoLQqAUkppVRsD4MhCYiytObLMADgLwCkA7QHEwQxBnwBI8FCv/QBeBFAHQBKAwwCeKba/F4D/BXArgGgAowGcBdAtyMpoDmBO0b8A0ALAcQCLPXxuEYRcj9IBcBKAz0ts+xWAkx7KCOkA+NBDj/Ojj07xm2++UQCUUkq/G1YB8AMA04s9jwLwBYAJbo5NBXARZqPKJToVbWtS9HwDgD0lXvc0gLVFj5sGSRnueAjA38rYL4KM61E6AC4GcLDEcdcVHVfDTRkhHQB79Mjk/fev5P79/6UAKKWUftfGADi8kBhFaw73GAATYYamXiW2vwAgz02dboHZqlaScwCGFz0+BmB2if1zAfy16PHIICnDHfsBrC9jvwgyrkfpALgOwFMljmtbdNxVbsrwawCMjTVYq5aDCQkGIyP9d1FyOjcFLABGRRmsXt2cTzA2NtAXZyml9Kc2BsChhcQIWnOoxwDYBGYAbFNi+3YABW7qdBeAz9xs/xzA+KLH7wGYUmL/VADvBlkZJVkAsx+ku4wggpTrEeQtgN27Z3LOnLUcOzaftWv776IUyADYoIGD48c/xhkzVrNjx4wguEBLKaW/DIEA2OsQ0WKGadNpnurrSwvgWTfbzwG4uehxeS1vwVJGcTJg9oNs6WafCGKuR+kAOBE+9QHsSeDaIidU2sVi0qQlPHXqf7hhwzNMSfHfJMuBDIDt2qVzx46DPHHiHY4Zk2e5vIiIK/XXObPrfaSUoe4EXv790JOwKwAOLCRuojUHVrgP4Gl47gP4E0r3vfsJQOOi5xsA7C7xuj243PcuWMq4xEqYrYIpECFDJMwRS4Nh/tATip5HwGzl+xRmqo+H+SU5hQCNAq4KAfBSC+Cvf105LYDNmjl5991LeOedj7FJE/8ts9elSyanT1/Fm27KZY0a/nkPKWW4aWML4A2FxEBa84YyA+AjAD6COfVLNQAumLNmeBoF/ByAQwDqAqgHs7Vwb7H9vWC2zo2EOfp2FMxpWLoFWRlRMKeReRNAQw+fVQQpk2A2Xf9U5KXH/Yv2d4Q5T+D3MKeEWVBGWQqAFo2KMpiQYLBmTXNZOavl9e+fzUOHXuEzz/yOvXq5/HbOJk5cwnfeeZdLl25ncnLglsCTUoaSYRUAAcABs0/dd7hyHsAUmHMD9il2bG0ATwL4BuYcfE+4KXcMzPn3zgJ4G+ZULMUJhjL6w8wMZ2HOA/ifos/6H4gqhdsAmJrq5JgxeRw2bCEbNPA9HFSFAFjZtmmTzkceWcNf/epxXn11ut/eZ/Lk5fz003+xoGBPQNdAllKGkjYGwH6FxABas59WAhHCE24D4A03ZPPZZ49w06Z97NTJ99uaCoAVNz7eYHKygw0aOBgX57/3UQCUUlZcGwPgdYVEP1rzOgVAITzhNgB27pzBjIzNnDWrgC1a+N4PrX//bC5btoNTpqxg3bqVfzG65poMjh//GPfseSFsAqBdDhiQzRUrdnLy5OV+HaEtpQwnFQCFCBfcBsCaNQ22auVk8+ZOJiT4frGoU8ccJZuS4vDLHHlTpizn8eNv8fTp0wqAFTQpycF27dLZpImzUvouSimrgjYGwJ6FxHW0Zk8FQCE8EdIrgWgtYCmltFMbA2DXQqIHrdlVAVAITygASiml9FIFQCHChaAIgFdd5eC117rYooWT0dHev64yAmBMjMGrr3ayVy8XGzXy32CImjUNduiQzs6dM1inTqAv4lJK6Ys2BsBOhURXWrOTAqAQngiKADhgMFgkAAAYnElEQVR8+EI+9dR+/vKXyys0KXFlBMBatRy8//6VfPLJ53nTTbl++4ytW6fT6dzE/Pxt7NYtMwgu5FJKWVFtDIDtC4lraM32CoBCeCIoAuD06av41VdfcenS7RUakepNALx48SI///xzvv763zhp0tJSZdSr5+DKlbt4+vRpTp26wm+fMS3NxYMHX+Gf//wGhwzJ8dv71KplDuBJSfHvNDJSyqqoAqAQ4ULYB8Dz589z27b9HDcun+3alZ5YOdwC4LXXurho0VZOm7ZS8/tJKStZGwNg60KiHa3ZWgFQCE/4JQBWr27266tb1/CqT9899yzlm2++TadzE2vVKr0/MdFgkyZO1q5tMCLCfJ6S4mB+/rZyA+DZs2c5a1aBx/e2KwB26ZLJJ554lvv2HeH112f57X1GjFjI//qvP3L58h1s3tx/awlLKauiNgbAFoVES1qzhQKgEJ7wSwBMS3PR6dzIiROXMCmp/Faoa67J4OTJy9mvX5bb25aDBuVwyZLtHDkyj9HRBocOzeXy5Tv42mvHQiYAJic7OGLEIo4dm8/UVP8Fs1atnBw//jEOHpyrCZ6llJWsAqAQ4cIVATA62my9q17dwaio8i8GMTEGa9QwmJBgXHH8HXcs5t///hZXr95dKWFnxozV/OKLL+hwbGRsrMFZswr49ddf89y5c5YDYN26BvPzt/G99z7gz3++LAgusFJKGazaGACbFhLNac2mCoBCeOKKANiqlZNTp67gPfcs9Wrt3muuyeCvf72ad9yxmPXrX7n9gQdWcsSIhW5v6VbU665z8Te/KeCAATmMijLYp4+Lc+eu4+9+96rlAJiQYHDIkBw+9NDjGp0rpZRlamMAbFxIpNCajRUAhfDEFQFw8OBcHj36Fx448DLT0lzlXgzGjs3niRPv8KmnDrBNm8sDLCIiDEZGmkZEWL/olCzv0nPDKH8QSHkBsLLrKqWU4asCoBDhQqkA+Kc/vcFDh17xKgB26pTBmTPXcPz4x65oAbRLb0YBlxcApZRSequNATC5kGhEayYrAArhCUsBMDbWnHeuRg3Dqz6Dla0CoJRS2qmNATCpkKhHayYpAArhiSsCYPv26Zw9u4C/+tXjbN689Jx5waYCoJRS2qkCoBDhwhUBsFo1g40aOZicHBqrSCgASimlndoYAGsXEnVozdoKgEJ4IihWAvHW9u3Tefvt+ezUKYORkdYCYFycwe7dMzlq1CK2ahU8EyYnJzs4cGAOBwzIYb16WslDShlM2hgAaxQSNWnNGgqAQngipALgz3++jH/5y39z2rSVjIqyFgBr1TI4e3YBX375Txw3Lj/gn+2SaWkubtz4DFev3s3OnTMCXh8ppbysAqAQ4UJIBcC5c9fywoULzMzcbDkAJiU5uHz5Tp45c4bTpq0M+Ge7ZOfOGczL28qsrCfYvn3w98OUUlYlbQyA8YVENVozXgFQCE8oAAZZAKxTx2DXrpns1CmjUibRllLKytPGABhVSETTmlEKgEJ4wqcAWLeuwS5dMtmmTToTEvx3sWnc2MFrr3WxaVMHIyPdB8CLFy/6FAATEw0+/PBqHjjwMseMyQuCC6uUUga7CoBChAs+BcDevbO4fPkOzp69tlLW+vXkqFGLuHPnIU6atISxsZUbAGNjzSXrhg7NZfPmwTMIREopg1cbAyAKiQhaEwqAQnjCpwA4ZkweT5x4h7t2HfJrP7VHHlnD77//nrm5TzI+vnIDoJRSyopqcwAELaoAKIQnQj4A+toHUEopZUVVABQiXPApAA4btpBHjhzlmjV72Lp16QCYkGCwYUMH69QxGB3t+8Vm6tQVPHnyfT766HrGxxucPn0VP/zwFH/zmwIFQA8mJJhzCSYlOSyd+8o0IsKcdueqqxysWTPw9ZFS+qoCoBDhgk8BsGXLdI4f/xhvuimXSUmlJytOS3PRMDbw7ruXuN3vrd26ZXLq1BXs0yeL0dEGe/TI5LRpq3jttS7LE0GHq926ZXL+/PWcNGkJGzQIjomko6MN3nLLIi5evI0DB+YEvD5SSl9VABQiXPDLNDB33vkY33zzba5Zs8cvg0RiYw3WqGEwM3Oz3wNgZKTB+HiD1asbjInxvc5RUeZSewkJ1lpFy3PcuHz+4x/vctu2/UGzwklcnMH09E388ssvOWPG6oDXR0rpq2EXAJ0APgXwLYCXAXQoo161AWwF8DWArwBsAVCrxDFjAbwD4HsAbwEYFaRlZAA4BuA8gN+7/7gi3PFLALzmmgxOn76Kt9yyyC9z2d1wQzbT0zfxlVf+7PcAWLu2wTFj8jlz5hp27er7yhxNmjg5ceISTpmy3K/BLBgDYHS0wZ/9LIdz5qzldde5Al4fKaWvhlUAnAXgFID2AOIAZAH4BECCh3rtB/AigDoAkgAcBvBMsf29APwvgFsBRAMYDeAsgG5BWMYkADcDWA4FwCqLXwJgZKT5Sz8qyuz/VdkXoXnz1vH8+fP86aef/B4AU1OdXL9+L0+efJ93373E53J69szk88+/xKNH/8LBg3P9doEOxgAYEWF+F6Kjze9GoOsjpfRVOwPgGQIXLHqmrPp+AGB6sedRAL4AMMHNsakALgLoWGxbp6JtTYqebwCwp8Trngawtuhx0yApozgGFACrLCG1Esgl589f71X4q6wAuGnTPn744SlOnOh7AExNdfK++5bxwQcfZ5s2/hs53aVLJmfNKuD48Y+xfv3g6AMopQwXwyYAJsIMTb1KbH8BQJ6bOt0Cs1WtJOcADC96fAzA7BL75wL4a9HjkUFSRnEMKABWWRQAy7GyAmB0tLn6SK1aZh9Gf52buDjztnXNmmarW6B/VlLKcNLOAPg5gbMW/dxTfZvADIBtSmzfDqDATZ3uAvCZm+2fAxhf9Pg9AFNK7J8K4N0gK6M4BhQAqywKgOVYt66D9967lNnZW9R/TUpZxbUzAH5Msw+fFT/2VF9fWgDPutl+DmZfOqD8lrdgKaM4BhQAqywhGwB//PFHWwJgdLTBBg0cTE11ag47KWUVNxQC4B4C04qcXFZ93fUBPA3PfQB/Qum+dz8BaFz0fAOA3SVetweX+94FSxnFMaAAWGUJaABs2TKdI0cuYrdumYyLu9xfrXXrdI4encfOnTPcTpliZwCUUkp5STsD4IcE/m3RD8uq7yMAPoI59Us1AC4AH8PzKODnABwCUBdAPZithXuL7e8Fs3VuJMzRt6NgTsPSLQjLiAYQDyATwB9gjoKO8/C5RZgS0AB42235PHLkKGfPLrhiupgJEx7jH/7wOmfMWM1q1Uq/TgFQSikDoZ0B8CTNPnxWPFlefR0w+9R9hyvnAUyBOTdgn2LH1gbwJIBvYM7B94SbcsfAnH/vLIC3YU7FUpxgKWMjzFvgPxV56bGoQlRqAGzUyMF+/bLYqVMGExLKP/6BB1byyy+/5IoVO69YMWT06Dzu3XuYv/jFcsbHl36dnX0Aw9UmTZy84YZsduiQzri4wNdHShkKhl0AFKLKUqkB8MYbs/nkk89z3rx1vOqq8qcg8RQAU1Ic7N8/my1bprsdyaoAaN2bb17IXbsOcebMNZaW65NSViXtDIBv0+wHaMW37aivECFJIgAmJs5hhw7pbNcu3auBDnXrGuzcOYOtW6df0dI3ZEgud+9+gYaxgY0b+x4Ay1MB0Lq33LKIzz33EufMWcu6dQNfHyllKGhnAPw7zT58Vvy7HfUVIiRJBMAOHR5ldvYWOhwb2bZt+ZMUX3edi8uW7eBvflPAlJTiLXdODhqUw+7dM1m9evkXEwXAwNmsmZNDh+ayS5dMt7fZpZSytAqAQoQLiQB4/fUGX331db744h+8mutu8OBcPvfcS1yyZDtbtvR9VYvx4x/jH//4Vy5YsIG1a3v/OgVAKaUMhHYGwGME3rXoMTvqK0RI4lMAbNrUwZEjF/GGG7IrFNxK2rZtOseNy2evXq4KDURQAJRSykBoZwB8nWYfPiu+bkd9hQhJEgHwuusM7tt3hNu3H2CPHplBcJEpWwVAKaUMhAqAQoQLiQDYuPEc3nZbPkeNymOjRsE/IlQBUEopA6GdAfAogeMWPWpHfYUIScJ6KbgLFy7wzJkz/PWvVwe8zlXZiAiDsbEGExIMxsQEvj5SSl+1MwC+QuANi75iR32FCEnCNgD++OOPfPHFP3Du3LXs3Tsr4HWuykZHGxw0KIcLFqxn3776WUgZuioAChEuhG0APH/+POfNW8fYWMPtZNLSPuPiDLpcT7CwsJAzZ64JeH2klL5qZwA8QuDPFj1iR32FCElCIgCmpbn40EOPs1+/LEZFedcH8Pz585w9W33/gsHoaHPlkZycLRwwIDvg9ZFS+qqdAfAFAq9a9AU76itESBISAfDBB1fx448/4fz56xkbqwAYakZEGKxRw2D9+oZXa0RLKYNVBUAhwoWgDIAdO2Zw4sQlTEtzMSbG4OzZBTx37hyzs7coAEopZcC0MwA+T+C/LPq8HfUVIiQJygB4771Lefz4W5wzZy0TEhQApZQyOLQzAD5D4LBFn7GjvkKEJJUaAFNTzfVl09JcrFHD93KGD1/ILVue48SJSxgfb/DWW/O4bdt+TpiwhDExDgVAKaUMiAqAQoQLlRoAhw7N5d69h5mevomNG/s+oXRysoPdumUyJcXBqCiDjRo52b17Jps0cTIyUi2AUkoZGO0MgLsJHLDobjvqK0RIUqkBcPz4x/jeex9wy5bn2KKF028XoVAKgImJBrt2zWCvXi7Wqxf8q6xIKaVn7QyA2wk8a9HtdtRXiJBEAdDPtm6dTpfrCa5cuYtpaa6A10dKKX1XAVCIcCERABMT57B9+3S2bZtuqe/ekCE53LPnBTqd1m4Be/Kqqxzs2TOTq1fv9nsAjI012Ly5k126ZLJ+fd/r3K5dBhcv3saNG5/RiiRSyhDXzgC4hcAei26xo75ChCSJANihw6N0uTbzt7/dwDZt0n2+OKSkODhkSC579Mhk9eqVf/EZPTqPO3ce4ltv/aPM8FcZAbBuXYPTpq1iQcEeS5MX16ljsHfvLA4YkM2GDXULWEoZytoZADfQbMGz4gY76itESJIIgD17LuBTTx3ghg3PsGvXjCC4yLh37ty1vHDhQrnhrzICYMOGDmZlPcGXX/4TR4/OC/hn99aaNQ02a+Zko0YOxsYGvj5SynBSAVCIcCERABs2nMNhwxZyyJBcNmgQvK1UdgbA6tUN9u2bxdtvz2erVv7rz1jZpqW5mJX1BKdMWc7k5OD9WUopQ1E7A2ABgSctWmBHfYUISQIyEXRCgrksWGKiwchI719nZwAMVceNy+c//vEut23bH1LBVUoZCtoZAFcR2GjRVXbUV4iQJCABsHfvLKanb+LYsfkVGnSiAFi+CoBSSv+pAChEuBCQADh58nJ+9NEpLl263asRttHRBuPjDS5YsD5kAmBkpDmSOC7OYFSUd8fHxZn99irSKlrSsWPzefz4W9y8+Vm2bOn7gB4ppSytnQFwGYG1Fl1mR32FCEkCEgB79MjkI4+s4c03L/RqtHDfvlmcP389f/e7V8ud/iVYAmDDhg7eeediTpmygq1blx/EmjVz8t57l3HSpCVMTfW95a5jxwxOn76KY8bksW7dQP+ykFKGl3YGwHyaLXhWzLejvkKEJAEJgJda9GJiDEZElH/8zJlr+M033/CHH37wKvwFQwDs3DmDu3e/wD/+8a8cNmxhucf375/Nw4df5aFDr1iaLzAqymx1tNqSKKWUpVUAFCIUcAL4FMC3AF4G0MHNMbYEwI4dMzh58nIOGpTrVZ+/bt0yOW3aSvbvn82YGIOzZxfw3LlzXoe/YAiAjRs7OHnycs6cuYYdOpTfAtiyZTqnT1/FBx5Y6ddVVKSU0nftDIC5NG/hWjHXjvoKEVTMAnAKQHsAcQCyAHwCIKHEcbYEwDvvXMxjx/7O/PxtXk2GPGXKcr7//oc0jA1MSAjNABgTY7B2bXNC6bi48o+PjTWYlORgnTqG5u+TUgapdgZAF80WPCu67KivEEHFBwCmF3seBeALABNKHFdmAExJcXDEiIUcODDHq/5kLVo4OXZsPvv3z2bNmpe39+uXxfz8bbznnqWsU6f8ADhjxmp+++23zMvbyurVKxYAL168yDfeOM61a5/26tarlFJKbw27AOjNnbJL1AawFcDXAL4CsAVArRLHjAXwDoDvAbwFYFQIlyFCkEQAFwH0KrH9BQB5bo6lpwB4ww3ZfPrpF7l69W62b1/+bcxeve7j4cOvctGirUxJuRz0atUyw2FysoPR0eVfZKwEwB9++IGLF29jq1ZOJiWF60TIE4KgDlVBnWed63DT6nm2MwA6ad7CtaKzrPp6e6fsEvsBvAigDoAkAIcBPFNsfy8A/wvgVgDRAEYDOAugWwiWIUKUJjADYJsS27cDKCixrcwA2L17Jhct2sp589Z51S+tceM+XLlyJx966HFL696OGLGQW7c+z0mTljA+3uCoUYu4ffsBnjjxDi9evFhuAJw3b10QXGj96bVuzr2DgwblMC3NdUXrq6zc8yx1rkNbq+fZzgA4n0CmReeXVV9v75QBQCrM36sdi23rVLStSdHzDQD2lHjd0wDWFj1uGkJliBCl0loAa9c22KFDOlu3Tvdqupb4+GvZuXMGr77ayfh43y8yDRs62KNHJlNTnYyKMtiokYM9e7q4cuXOckcCV9UAeOONOdyx4yBdrs1s1kyDSPx1nqXOdWirAFjsPbz9PQkAt8BsVSvJOQDDix4fAzC7xP65AP5a9HhkCJUhQhh3f9mchsc+gN0I9Czy9qL/5L7Y08Jry/fhh5fxzJkzLCws9Oi///1vzpy53K/1CLylz/PIkS6+/vob3LhxN1u1mhcEdQwH/ft9ljrXoXGeb+fl3w/dCNsC4IxK+LwzPNW3InfKAOAuAJ+52f45gPFFj98DMKXE/qkA3g3BMkQI8wiAj2B2aK0GwAXgY5Tu29AY5n8OKaWU0lsbw3/EwwwolVXXfxeVWRxfWgDPutl+DsDNRY/La3kLhTLUAhgmOGD+J/oOnkc3RcD8j5wopZRSemFjmL87/El8Jda3ZPi7hLd3ygCzD+BPKN1v7idcDsMbAOwu8bo9uNz3LhTKUB9AIYQQQoQ13t4pu8RzAA4BqAugHszWwr3F9veC2bI2Eubo21Ewp2HpFoJlCCGEEEKELQ64v1OWAnNuwD7Fjq0N4EkA38CcP+8JmC2MxRkDc/69swDehjkVS3FCqQwhhBBCCCGEMLkbwKswO9h+CeAlAL29eN00AB/C/IvrrwD6+auCYUInAAcA/Atmp+WfefEaA8CPAP4D86/Y/8Cc9V2UjS/nGqjYagLCpLyVCkqi77R3VPbKFkIIUYr7AQwCUB1m59mHYF6UryrjNbfBvNj0hdk34QGYFyp/jigLddoCuA9Ad5iddL0NgL/3Z6XCFF/OdUVXExDerVRQEn2ny6eyV7YQQgiv+Rpmx1NPvAQgv8S2YwAe9VuNwouKtADql6U1vD3XFVlNQJiUt1KBO/SdLp/KXtlCCCG8oheACwCalXHMVwDGldi2BqWHrAv3VCQAfgtzSoMPYd7maea/aoUl3pzrRFRsLjFhcgxlz1PmDn2ny6ai38VboNUghBAl2AjzQvJT0b8lfcnNa1JgXpSd5ZT9I4AhJbblwLwNUdXw5Tx7GwDbw/yZAEAjmKO93kPVvS3pr3Nd0dUEwh1vz3N5KxW4Q9/psvHHyhZCiCpGAsz+IJ6sWeL4ljBvPWR7UbZaAC9T0fMMVGxgQnFiYf61P9CnmoY+/jrXagG8Em/Psy8tgCWp6t/pkvjSAqjVIIQQPtMJ5ojJeV4e/xJKX4zegPoAeouVAHgW5qAd4R1W+gB6Wk1AmJS3UoE36Dtdmspa2UJ9AIUQZdIb5hQwv6rAa8bCbAXsCyAG5kji/0CjgMsjDuZyRhdh3kKPg3lx98RtMGd4B4BkmJN8fgBzxLYom4qe64quJiC8W6mgJPpOl09lr2whhBBueQlXzst1aW6uOcWOOQBgVYnXPQDzIvU9zFs+ff1d0RCnKS73qyrub4sdcwJXnvd9MP/y/w7mL4CtAFrYUdkQx5dzDXi37ra4kvJWKtB32jccqNyVLYQQQgghhBBCCCGEEEIIIYQQQgghhBBCCCGEEEIIIYQQQgghhBBCCCGEEEIIIYQQQgghhBBCCCGEEEIIIYQQQgghhBBCCCGEEEIIIYQQQgghhBBCCCGEEEIIIYQQQgghhBBCCCGEEEIIIYQQQgghhBBCCCGEEEIIIYQQQgghhBBCCCGEEEIIIYQQQgghhBBCCCGEEEIIIYQQQgghhBBCCCGEEEIIIYQQQgghhBBCCCGEEEIIIYQQQgghhBBCCCGEEEIIIYQQQgghhBBCCCGEEEIIIYQQwgP/B+dwQnT2CbsRAAAAAElFTkSuQmCC\">"
      ],
      "text/plain": [
       "<IPython.core.display.HTML object>"
      ]
     },
     "metadata": {},
     "output_type": "display_data"
    }
   ],
   "source": [
    "H.plot(hh.load(\"./slice_H00.h5\"), min=0, max=1e-6)"
   ]
  },
  {
   "cell_type": "code",
   "execution_count": 45,
   "metadata": {
    "collapsed": true
   },
   "outputs": [],
   "source": [
    "# Now try slicing along the Gamma -> M_pi path"
   ]
  },
  {
   "cell_type": "raw",
   "metadata": {},
   "source": [
    "%%file slice_HHH.yml\n",
    "\n",
    "angles: -90,90.1,3.0\n",
    "filename_pattern: work_%(angle)s/reduced_%(angle)s.nxs\n",
    "lattice: 5., 5., 5., 90, 90, 90\n",
    "orientation:\n",
    " u: 1, 0, 2\n",
    " v: 1,0,0\n",
    "Eaxis:\n",
    " min: 0\n",
    " max: 51\n",
    " N: 181\n",
    "Q_projections:\n",
    " U:\n",
    "  proj: 1,1,1\n",
    "  proj_name: H,H,H\n",
    "  min: -2.1\n",
    "  max: 0.1\n",
    "  N: 201\n",
    " V:\n",
    "  proj: 1,1,-2\n",
    "  proj_name: H,H,-2*H\n",
    "  min: -.2\n",
    "  max: .2\n",
    "  N: 1\n",
    " W:\n",
    "  proj: -2,1,1\n",
    "  proj_name: -2*H,H,H\n",
    "  min: -0.5\n",
    "  max: 0.5\n",
    "  N: 1\n",
    "output: slice_HHH.nxs"
   ]
  },
  {
   "cell_type": "code",
   "execution_count": 49,
   "metadata": {
    "collapsed": false
   },
   "outputs": [
    {
     "name": "stdout",
     "output_type": "stream",
     "text": [
      "Traceback (most recent call last):\r\n",
      "  File \"./scripts/reduce/getaslice.py\", line 112, in <module>\r\n",
      "    if __name__ == '__main__': main()\r\n",
      "  File \"./scripts/reduce/getaslice.py\", line 108, in main\r\n",
      "    run(angles, filenames, lattice_params, orientation, Eaxis, Qproj_axes, output)    \r\n",
      "  File \"./scripts/reduce/getaslice.py\", line 69, in run\r\n",
      "    a2,b2=MDNormDirectSC('md_i_use', **dims)\r\n",
      "  File \"/SNS/users/lj7/software/miniconda2/envs/mcvine/lib/python2.7/site-packages/mantid/simpleapi.py\", line 875, in algorithm_wrapper\r\n",
      "    algm.execute()\r\n",
      "RuntimeError: Dimension [H,H,-2*H] was not found in the MDEventWorkspace! Cannot continue.\r\n"
     ]
    }
   ],
   "source": [
    "! PYTHONPATH=$PWD:$PYTHONPATH ./scripts/reduce/getaslice.py slice_HHH.yml > log.slice_HHH"
   ]
  },
  {
   "cell_type": "code",
   "execution_count": null,
   "metadata": {
    "collapsed": true
   },
   "outputs": [],
   "source": [
    "!./scripts/reduce/slice2hist.py \"slice_HHH.nxs\" slice_HHH.h5"
   ]
  },
  {
   "cell_type": "code",
   "execution_count": 50,
   "metadata": {
    "collapsed": true
   },
   "outputs": [],
   "source": [
    "# Try for X'_pi -> Gamma"
   ]
  },
  {
   "cell_type": "code",
   "execution_count": 51,
   "metadata": {
    "collapsed": false
   },
   "outputs": [
    {
     "name": "stdout",
     "output_type": "stream",
     "text": [
      "Writing slice_0KK.yml\n"
     ]
    }
   ],
   "source": [
    "%%file slice_0KK.yml\n",
    "\n",
    "angles: -90,90.1,3.0\n",
    "filename_pattern: work_%(angle)s/reduced_%(angle)s.nxs\n",
    "lattice: 5., 5., 5., 90, 90, 90\n",
    "orientation:\n",
    " u: 1, 0, 2\n",
    " v: 1,0,0\n",
    "Eaxis:\n",
    " min: 0\n",
    " max: 51\n",
    " N: 181\n",
    "Q_projections:\n",
    " U:\n",
    "  proj: 0,1,1\n",
    "  proj_name: 0,K,K\n",
    "  min: -2.1\n",
    "  max: 0.1\n",
    "  N: 201\n",
    " V:\n",
    "  proj: 0,1,-1\n",
    "  proj_name: 0,K,-K\n",
    "  min: -.3\n",
    "  max: .3\n",
    "  N: 1\n",
    " W:\n",
    "  proj: 1,0,0\n",
    "  proj_name: H,0,0\n",
    "  min: -0.3\n",
    "  max: 0.3\n",
    "  N: 1\n",
    "output: slice_0KK.nxs\n"
   ]
  },
  {
   "cell_type": "code",
   "execution_count": 52,
   "metadata": {
    "collapsed": true
   },
   "outputs": [],
   "source": [
    "! PYTHONPATH=$PWD:$PYTHONPATH ./scripts/reduce/getaslice.py slice_0KK.yml > log.slice_0KK"
   ]
  },
  {
   "cell_type": "code",
   "execution_count": 54,
   "metadata": {
    "collapsed": false
   },
   "outputs": [
    {
     "name": "stdout",
     "output_type": "stream",
     "text": [
      "FrameworkManager-[Notice] Welcome to Mantid 3.6.100\n",
      "FrameworkManager-[Notice] Please cite: http://dx.doi.org/10.1016/j.nima.2014.07.029 and this release: http://dx.doi.org/10.5286/Software/Mantid3.6.100\n",
      "Load-[Notice] Load started\n",
      "Load-[Notice] Load successful, Duration 1.16 seconds\n"
     ]
    }
   ],
   "source": [
    "!./scripts/reduce/slice2hist.py \"slice_0KK.nxs\" slice_0KK.h5"
   ]
  },
  {
   "cell_type": "code",
   "execution_count": 56,
   "metadata": {
    "collapsed": false
   },
   "outputs": [
    {
     "name": "stdout",
     "output_type": "stream",
     "text": [
      "plot z in (0, 0.001)\n"
     ]
    },
    {
     "data": {
      "application/javascript": [
       "/* Put everything inside the global mpl namespace */\n",
       "window.mpl = {};\n",
       "\n",
       "mpl.get_websocket_type = function() {\n",
       "    if (typeof(WebSocket) !== 'undefined') {\n",
       "        return WebSocket;\n",
       "    } else if (typeof(MozWebSocket) !== 'undefined') {\n",
       "        return MozWebSocket;\n",
       "    } else {\n",
       "        alert('Your browser does not have WebSocket support.' +\n",
       "              'Please try Chrome, Safari or Firefox ≥ 6. ' +\n",
       "              'Firefox 4 and 5 are also supported but you ' +\n",
       "              'have to enable WebSockets in about:config.');\n",
       "    };\n",
       "}\n",
       "\n",
       "mpl.figure = function(figure_id, websocket, ondownload, parent_element) {\n",
       "    this.id = figure_id;\n",
       "\n",
       "    this.ws = websocket;\n",
       "\n",
       "    this.supports_binary = (this.ws.binaryType != undefined);\n",
       "\n",
       "    if (!this.supports_binary) {\n",
       "        var warnings = document.getElementById(\"mpl-warnings\");\n",
       "        if (warnings) {\n",
       "            warnings.style.display = 'block';\n",
       "            warnings.textContent = (\n",
       "                \"This browser does not support binary websocket messages. \" +\n",
       "                    \"Performance may be slow.\");\n",
       "        }\n",
       "    }\n",
       "\n",
       "    this.imageObj = new Image();\n",
       "\n",
       "    this.context = undefined;\n",
       "    this.message = undefined;\n",
       "    this.canvas = undefined;\n",
       "    this.rubberband_canvas = undefined;\n",
       "    this.rubberband_context = undefined;\n",
       "    this.format_dropdown = undefined;\n",
       "\n",
       "    this.image_mode = 'full';\n",
       "\n",
       "    this.root = $('<div/>');\n",
       "    this._root_extra_style(this.root)\n",
       "    this.root.attr('style', 'display: inline-block');\n",
       "\n",
       "    $(parent_element).append(this.root);\n",
       "\n",
       "    this._init_header(this);\n",
       "    this._init_canvas(this);\n",
       "    this._init_toolbar(this);\n",
       "\n",
       "    var fig = this;\n",
       "\n",
       "    this.waiting = false;\n",
       "\n",
       "    this.ws.onopen =  function () {\n",
       "            fig.send_message(\"supports_binary\", {value: fig.supports_binary});\n",
       "            fig.send_message(\"send_image_mode\", {});\n",
       "            fig.send_message(\"refresh\", {});\n",
       "        }\n",
       "\n",
       "    this.imageObj.onload = function() {\n",
       "            if (fig.image_mode == 'full') {\n",
       "                // Full images could contain transparency (where diff images\n",
       "                // almost always do), so we need to clear the canvas so that\n",
       "                // there is no ghosting.\n",
       "                fig.context.clearRect(0, 0, fig.canvas.width, fig.canvas.height);\n",
       "            }\n",
       "            fig.context.drawImage(fig.imageObj, 0, 0);\n",
       "        };\n",
       "\n",
       "    this.imageObj.onunload = function() {\n",
       "        this.ws.close();\n",
       "    }\n",
       "\n",
       "    this.ws.onmessage = this._make_on_message_function(this);\n",
       "\n",
       "    this.ondownload = ondownload;\n",
       "}\n",
       "\n",
       "mpl.figure.prototype._init_header = function() {\n",
       "    var titlebar = $(\n",
       "        '<div class=\"ui-dialog-titlebar ui-widget-header ui-corner-all ' +\n",
       "        'ui-helper-clearfix\"/>');\n",
       "    var titletext = $(\n",
       "        '<div class=\"ui-dialog-title\" style=\"width: 100%; ' +\n",
       "        'text-align: center; padding: 3px;\"/>');\n",
       "    titlebar.append(titletext)\n",
       "    this.root.append(titlebar);\n",
       "    this.header = titletext[0];\n",
       "}\n",
       "\n",
       "\n",
       "\n",
       "mpl.figure.prototype._canvas_extra_style = function(canvas_div) {\n",
       "\n",
       "}\n",
       "\n",
       "\n",
       "mpl.figure.prototype._root_extra_style = function(canvas_div) {\n",
       "\n",
       "}\n",
       "\n",
       "mpl.figure.prototype._init_canvas = function() {\n",
       "    var fig = this;\n",
       "\n",
       "    var canvas_div = $('<div/>');\n",
       "\n",
       "    canvas_div.attr('style', 'position: relative; clear: both; outline: 0');\n",
       "\n",
       "    function canvas_keyboard_event(event) {\n",
       "        return fig.key_event(event, event['data']);\n",
       "    }\n",
       "\n",
       "    canvas_div.keydown('key_press', canvas_keyboard_event);\n",
       "    canvas_div.keyup('key_release', canvas_keyboard_event);\n",
       "    this.canvas_div = canvas_div\n",
       "    this._canvas_extra_style(canvas_div)\n",
       "    this.root.append(canvas_div);\n",
       "\n",
       "    var canvas = $('<canvas/>');\n",
       "    canvas.addClass('mpl-canvas');\n",
       "    canvas.attr('style', \"left: 0; top: 0; z-index: 0; outline: 0\")\n",
       "\n",
       "    this.canvas = canvas[0];\n",
       "    this.context = canvas[0].getContext(\"2d\");\n",
       "\n",
       "    var rubberband = $('<canvas/>');\n",
       "    rubberband.attr('style', \"position: absolute; left: 0; top: 0; z-index: 1;\")\n",
       "\n",
       "    var pass_mouse_events = true;\n",
       "\n",
       "    canvas_div.resizable({\n",
       "        start: function(event, ui) {\n",
       "            pass_mouse_events = false;\n",
       "        },\n",
       "        resize: function(event, ui) {\n",
       "            fig.request_resize(ui.size.width, ui.size.height);\n",
       "        },\n",
       "        stop: function(event, ui) {\n",
       "            pass_mouse_events = true;\n",
       "            fig.request_resize(ui.size.width, ui.size.height);\n",
       "        },\n",
       "    });\n",
       "\n",
       "    function mouse_event_fn(event) {\n",
       "        if (pass_mouse_events)\n",
       "            return fig.mouse_event(event, event['data']);\n",
       "    }\n",
       "\n",
       "    rubberband.mousedown('button_press', mouse_event_fn);\n",
       "    rubberband.mouseup('button_release', mouse_event_fn);\n",
       "    // Throttle sequential mouse events to 1 every 20ms.\n",
       "    rubberband.mousemove('motion_notify', mouse_event_fn);\n",
       "\n",
       "    rubberband.mouseenter('figure_enter', mouse_event_fn);\n",
       "    rubberband.mouseleave('figure_leave', mouse_event_fn);\n",
       "\n",
       "    canvas_div.on(\"wheel\", function (event) {\n",
       "        event = event.originalEvent;\n",
       "        event['data'] = 'scroll'\n",
       "        if (event.deltaY < 0) {\n",
       "            event.step = 1;\n",
       "        } else {\n",
       "            event.step = -1;\n",
       "        }\n",
       "        mouse_event_fn(event);\n",
       "    });\n",
       "\n",
       "    canvas_div.append(canvas);\n",
       "    canvas_div.append(rubberband);\n",
       "\n",
       "    this.rubberband = rubberband;\n",
       "    this.rubberband_canvas = rubberband[0];\n",
       "    this.rubberband_context = rubberband[0].getContext(\"2d\");\n",
       "    this.rubberband_context.strokeStyle = \"#000000\";\n",
       "\n",
       "    this._resize_canvas = function(width, height) {\n",
       "        // Keep the size of the canvas, canvas container, and rubber band\n",
       "        // canvas in synch.\n",
       "        canvas_div.css('width', width)\n",
       "        canvas_div.css('height', height)\n",
       "\n",
       "        canvas.attr('width', width);\n",
       "        canvas.attr('height', height);\n",
       "\n",
       "        rubberband.attr('width', width);\n",
       "        rubberband.attr('height', height);\n",
       "    }\n",
       "\n",
       "    // Set the figure to an initial 600x600px, this will subsequently be updated\n",
       "    // upon first draw.\n",
       "    this._resize_canvas(600, 600);\n",
       "\n",
       "    // Disable right mouse context menu.\n",
       "    $(this.rubberband_canvas).bind(\"contextmenu\",function(e){\n",
       "        return false;\n",
       "    });\n",
       "\n",
       "    function set_focus () {\n",
       "        canvas.focus();\n",
       "        canvas_div.focus();\n",
       "    }\n",
       "\n",
       "    window.setTimeout(set_focus, 100);\n",
       "}\n",
       "\n",
       "mpl.figure.prototype._init_toolbar = function() {\n",
       "    var fig = this;\n",
       "\n",
       "    var nav_element = $('<div/>')\n",
       "    nav_element.attr('style', 'width: 100%');\n",
       "    this.root.append(nav_element);\n",
       "\n",
       "    // Define a callback function for later on.\n",
       "    function toolbar_event(event) {\n",
       "        return fig.toolbar_button_onclick(event['data']);\n",
       "    }\n",
       "    function toolbar_mouse_event(event) {\n",
       "        return fig.toolbar_button_onmouseover(event['data']);\n",
       "    }\n",
       "\n",
       "    for(var toolbar_ind in mpl.toolbar_items) {\n",
       "        var name = mpl.toolbar_items[toolbar_ind][0];\n",
       "        var tooltip = mpl.toolbar_items[toolbar_ind][1];\n",
       "        var image = mpl.toolbar_items[toolbar_ind][2];\n",
       "        var method_name = mpl.toolbar_items[toolbar_ind][3];\n",
       "\n",
       "        if (!name) {\n",
       "            // put a spacer in here.\n",
       "            continue;\n",
       "        }\n",
       "        var button = $('<button/>');\n",
       "        button.addClass('ui-button ui-widget ui-state-default ui-corner-all ' +\n",
       "                        'ui-button-icon-only');\n",
       "        button.attr('role', 'button');\n",
       "        button.attr('aria-disabled', 'false');\n",
       "        button.click(method_name, toolbar_event);\n",
       "        button.mouseover(tooltip, toolbar_mouse_event);\n",
       "\n",
       "        var icon_img = $('<span/>');\n",
       "        icon_img.addClass('ui-button-icon-primary ui-icon');\n",
       "        icon_img.addClass(image);\n",
       "        icon_img.addClass('ui-corner-all');\n",
       "\n",
       "        var tooltip_span = $('<span/>');\n",
       "        tooltip_span.addClass('ui-button-text');\n",
       "        tooltip_span.html(tooltip);\n",
       "\n",
       "        button.append(icon_img);\n",
       "        button.append(tooltip_span);\n",
       "\n",
       "        nav_element.append(button);\n",
       "    }\n",
       "\n",
       "    var fmt_picker_span = $('<span/>');\n",
       "\n",
       "    var fmt_picker = $('<select/>');\n",
       "    fmt_picker.addClass('mpl-toolbar-option ui-widget ui-widget-content');\n",
       "    fmt_picker_span.append(fmt_picker);\n",
       "    nav_element.append(fmt_picker_span);\n",
       "    this.format_dropdown = fmt_picker[0];\n",
       "\n",
       "    for (var ind in mpl.extensions) {\n",
       "        var fmt = mpl.extensions[ind];\n",
       "        var option = $(\n",
       "            '<option/>', {selected: fmt === mpl.default_extension}).html(fmt);\n",
       "        fmt_picker.append(option)\n",
       "    }\n",
       "\n",
       "    // Add hover states to the ui-buttons\n",
       "    $( \".ui-button\" ).hover(\n",
       "        function() { $(this).addClass(\"ui-state-hover\");},\n",
       "        function() { $(this).removeClass(\"ui-state-hover\");}\n",
       "    );\n",
       "\n",
       "    var status_bar = $('<span class=\"mpl-message\"/>');\n",
       "    nav_element.append(status_bar);\n",
       "    this.message = status_bar[0];\n",
       "}\n",
       "\n",
       "mpl.figure.prototype.request_resize = function(x_pixels, y_pixels) {\n",
       "    // Request matplotlib to resize the figure. Matplotlib will then trigger a resize in the client,\n",
       "    // which will in turn request a refresh of the image.\n",
       "    this.send_message('resize', {'width': x_pixels, 'height': y_pixels});\n",
       "}\n",
       "\n",
       "mpl.figure.prototype.send_message = function(type, properties) {\n",
       "    properties['type'] = type;\n",
       "    properties['figure_id'] = this.id;\n",
       "    this.ws.send(JSON.stringify(properties));\n",
       "}\n",
       "\n",
       "mpl.figure.prototype.send_draw_message = function() {\n",
       "    if (!this.waiting) {\n",
       "        this.waiting = true;\n",
       "        this.ws.send(JSON.stringify({type: \"draw\", figure_id: this.id}));\n",
       "    }\n",
       "}\n",
       "\n",
       "\n",
       "mpl.figure.prototype.handle_save = function(fig, msg) {\n",
       "    var format_dropdown = fig.format_dropdown;\n",
       "    var format = format_dropdown.options[format_dropdown.selectedIndex].value;\n",
       "    fig.ondownload(fig, format);\n",
       "}\n",
       "\n",
       "\n",
       "mpl.figure.prototype.handle_resize = function(fig, msg) {\n",
       "    var size = msg['size'];\n",
       "    if (size[0] != fig.canvas.width || size[1] != fig.canvas.height) {\n",
       "        fig._resize_canvas(size[0], size[1]);\n",
       "        fig.send_message(\"refresh\", {});\n",
       "    };\n",
       "}\n",
       "\n",
       "mpl.figure.prototype.handle_rubberband = function(fig, msg) {\n",
       "    var x0 = msg['x0'];\n",
       "    var y0 = fig.canvas.height - msg['y0'];\n",
       "    var x1 = msg['x1'];\n",
       "    var y1 = fig.canvas.height - msg['y1'];\n",
       "    x0 = Math.floor(x0) + 0.5;\n",
       "    y0 = Math.floor(y0) + 0.5;\n",
       "    x1 = Math.floor(x1) + 0.5;\n",
       "    y1 = Math.floor(y1) + 0.5;\n",
       "    var min_x = Math.min(x0, x1);\n",
       "    var min_y = Math.min(y0, y1);\n",
       "    var width = Math.abs(x1 - x0);\n",
       "    var height = Math.abs(y1 - y0);\n",
       "\n",
       "    fig.rubberband_context.clearRect(\n",
       "        0, 0, fig.canvas.width, fig.canvas.height);\n",
       "\n",
       "    fig.rubberband_context.strokeRect(min_x, min_y, width, height);\n",
       "}\n",
       "\n",
       "mpl.figure.prototype.handle_figure_label = function(fig, msg) {\n",
       "    // Updates the figure title.\n",
       "    fig.header.textContent = msg['label'];\n",
       "}\n",
       "\n",
       "mpl.figure.prototype.handle_cursor = function(fig, msg) {\n",
       "    var cursor = msg['cursor'];\n",
       "    switch(cursor)\n",
       "    {\n",
       "    case 0:\n",
       "        cursor = 'pointer';\n",
       "        break;\n",
       "    case 1:\n",
       "        cursor = 'default';\n",
       "        break;\n",
       "    case 2:\n",
       "        cursor = 'crosshair';\n",
       "        break;\n",
       "    case 3:\n",
       "        cursor = 'move';\n",
       "        break;\n",
       "    }\n",
       "    fig.rubberband_canvas.style.cursor = cursor;\n",
       "}\n",
       "\n",
       "mpl.figure.prototype.handle_message = function(fig, msg) {\n",
       "    fig.message.textContent = msg['message'];\n",
       "}\n",
       "\n",
       "mpl.figure.prototype.handle_draw = function(fig, msg) {\n",
       "    // Request the server to send over a new figure.\n",
       "    fig.send_draw_message();\n",
       "}\n",
       "\n",
       "mpl.figure.prototype.handle_image_mode = function(fig, msg) {\n",
       "    fig.image_mode = msg['mode'];\n",
       "}\n",
       "\n",
       "mpl.figure.prototype.updated_canvas_event = function() {\n",
       "    // Called whenever the canvas gets updated.\n",
       "    this.send_message(\"ack\", {});\n",
       "}\n",
       "\n",
       "// A function to construct a web socket function for onmessage handling.\n",
       "// Called in the figure constructor.\n",
       "mpl.figure.prototype._make_on_message_function = function(fig) {\n",
       "    return function socket_on_message(evt) {\n",
       "        if (evt.data instanceof Blob) {\n",
       "            /* FIXME: We get \"Resource interpreted as Image but\n",
       "             * transferred with MIME type text/plain:\" errors on\n",
       "             * Chrome.  But how to set the MIME type?  It doesn't seem\n",
       "             * to be part of the websocket stream */\n",
       "            evt.data.type = \"image/png\";\n",
       "\n",
       "            /* Free the memory for the previous frames */\n",
       "            if (fig.imageObj.src) {\n",
       "                (window.URL || window.webkitURL).revokeObjectURL(\n",
       "                    fig.imageObj.src);\n",
       "            }\n",
       "\n",
       "            fig.imageObj.src = (window.URL || window.webkitURL).createObjectURL(\n",
       "                evt.data);\n",
       "            fig.updated_canvas_event();\n",
       "            fig.waiting = false;\n",
       "            return;\n",
       "        }\n",
       "        else if (typeof evt.data === 'string' && evt.data.slice(0, 21) == \"data:image/png;base64\") {\n",
       "            fig.imageObj.src = evt.data;\n",
       "            fig.updated_canvas_event();\n",
       "            fig.waiting = false;\n",
       "            return;\n",
       "        }\n",
       "\n",
       "        var msg = JSON.parse(evt.data);\n",
       "        var msg_type = msg['type'];\n",
       "\n",
       "        // Call the  \"handle_{type}\" callback, which takes\n",
       "        // the figure and JSON message as its only arguments.\n",
       "        try {\n",
       "            var callback = fig[\"handle_\" + msg_type];\n",
       "        } catch (e) {\n",
       "            console.log(\"No handler for the '\" + msg_type + \"' message type: \", msg);\n",
       "            return;\n",
       "        }\n",
       "\n",
       "        if (callback) {\n",
       "            try {\n",
       "                // console.log(\"Handling '\" + msg_type + \"' message: \", msg);\n",
       "                callback(fig, msg);\n",
       "            } catch (e) {\n",
       "                console.log(\"Exception inside the 'handler_\" + msg_type + \"' callback:\", e, e.stack, msg);\n",
       "            }\n",
       "        }\n",
       "    };\n",
       "}\n",
       "\n",
       "// from http://stackoverflow.com/questions/1114465/getting-mouse-location-in-canvas\n",
       "mpl.findpos = function(e) {\n",
       "    //this section is from http://www.quirksmode.org/js/events_properties.html\n",
       "    var targ;\n",
       "    if (!e)\n",
       "        e = window.event;\n",
       "    if (e.target)\n",
       "        targ = e.target;\n",
       "    else if (e.srcElement)\n",
       "        targ = e.srcElement;\n",
       "    if (targ.nodeType == 3) // defeat Safari bug\n",
       "        targ = targ.parentNode;\n",
       "\n",
       "    // jQuery normalizes the pageX and pageY\n",
       "    // pageX,Y are the mouse positions relative to the document\n",
       "    // offset() returns the position of the element relative to the document\n",
       "    var x = e.pageX - $(targ).offset().left;\n",
       "    var y = e.pageY - $(targ).offset().top;\n",
       "\n",
       "    return {\"x\": x, \"y\": y};\n",
       "};\n",
       "\n",
       "/*\n",
       " * return a copy of an object with only non-object keys\n",
       " * we need this to avoid circular references\n",
       " * http://stackoverflow.com/a/24161582/3208463\n",
       " */\n",
       "function simpleKeys (original) {\n",
       "  return Object.keys(original).reduce(function (obj, key) {\n",
       "    if (typeof original[key] !== 'object')\n",
       "        obj[key] = original[key]\n",
       "    return obj;\n",
       "  }, {});\n",
       "}\n",
       "\n",
       "mpl.figure.prototype.mouse_event = function(event, name) {\n",
       "    var canvas_pos = mpl.findpos(event)\n",
       "\n",
       "    if (name === 'button_press')\n",
       "    {\n",
       "        this.canvas.focus();\n",
       "        this.canvas_div.focus();\n",
       "    }\n",
       "\n",
       "    var x = canvas_pos.x;\n",
       "    var y = canvas_pos.y;\n",
       "\n",
       "    this.send_message(name, {x: x, y: y, button: event.button,\n",
       "                             step: event.step,\n",
       "                             guiEvent: simpleKeys(event)});\n",
       "\n",
       "    /* This prevents the web browser from automatically changing to\n",
       "     * the text insertion cursor when the button is pressed.  We want\n",
       "     * to control all of the cursor setting manually through the\n",
       "     * 'cursor' event from matplotlib */\n",
       "    event.preventDefault();\n",
       "    return false;\n",
       "}\n",
       "\n",
       "mpl.figure.prototype._key_event_extra = function(event, name) {\n",
       "    // Handle any extra behaviour associated with a key event\n",
       "}\n",
       "\n",
       "mpl.figure.prototype.key_event = function(event, name) {\n",
       "\n",
       "    // Prevent repeat events\n",
       "    if (name == 'key_press')\n",
       "    {\n",
       "        if (event.which === this._key)\n",
       "            return;\n",
       "        else\n",
       "            this._key = event.which;\n",
       "    }\n",
       "    if (name == 'key_release')\n",
       "        this._key = null;\n",
       "\n",
       "    var value = '';\n",
       "    if (event.ctrlKey && event.which != 17)\n",
       "        value += \"ctrl+\";\n",
       "    if (event.altKey && event.which != 18)\n",
       "        value += \"alt+\";\n",
       "    if (event.shiftKey && event.which != 16)\n",
       "        value += \"shift+\";\n",
       "\n",
       "    value += 'k';\n",
       "    value += event.which.toString();\n",
       "\n",
       "    this._key_event_extra(event, name);\n",
       "\n",
       "    this.send_message(name, {key: value,\n",
       "                             guiEvent: simpleKeys(event)});\n",
       "    return false;\n",
       "}\n",
       "\n",
       "mpl.figure.prototype.toolbar_button_onclick = function(name) {\n",
       "    if (name == 'download') {\n",
       "        this.handle_save(this, null);\n",
       "    } else {\n",
       "        this.send_message(\"toolbar_button\", {name: name});\n",
       "    }\n",
       "};\n",
       "\n",
       "mpl.figure.prototype.toolbar_button_onmouseover = function(tooltip) {\n",
       "    this.message.textContent = tooltip;\n",
       "};\n",
       "mpl.toolbar_items = [[\"Home\", \"Reset original view\", \"fa fa-home icon-home\", \"home\"], [\"Back\", \"Back to  previous view\", \"fa fa-arrow-left icon-arrow-left\", \"back\"], [\"Forward\", \"Forward to next view\", \"fa fa-arrow-right icon-arrow-right\", \"forward\"], [\"\", \"\", \"\", \"\"], [\"Pan\", \"Pan axes with left mouse, zoom with right\", \"fa fa-arrows icon-move\", \"pan\"], [\"Zoom\", \"Zoom to rectangle\", \"fa fa-square-o icon-check-empty\", \"zoom\"], [\"\", \"\", \"\", \"\"], [\"Download\", \"Download plot\", \"fa fa-floppy-o icon-save\", \"download\"]];\n",
       "\n",
       "mpl.extensions = [\"eps\", \"pdf\", \"png\", \"ps\", \"raw\", \"svg\"];\n",
       "\n",
       "mpl.default_extension = \"png\";var comm_websocket_adapter = function(comm) {\n",
       "    // Create a \"websocket\"-like object which calls the given IPython comm\n",
       "    // object with the appropriate methods. Currently this is a non binary\n",
       "    // socket, so there is still some room for performance tuning.\n",
       "    var ws = {};\n",
       "\n",
       "    ws.close = function() {\n",
       "        comm.close()\n",
       "    };\n",
       "    ws.send = function(m) {\n",
       "        //console.log('sending', m);\n",
       "        comm.send(m);\n",
       "    };\n",
       "    // Register the callback with on_msg.\n",
       "    comm.on_msg(function(msg) {\n",
       "        //console.log('receiving', msg['content']['data'], msg);\n",
       "        // Pass the mpl event to the overriden (by mpl) onmessage function.\n",
       "        ws.onmessage(msg['content']['data'])\n",
       "    });\n",
       "    return ws;\n",
       "}\n",
       "\n",
       "mpl.mpl_figure_comm = function(comm, msg) {\n",
       "    // This is the function which gets called when the mpl process\n",
       "    // starts-up an IPython Comm through the \"matplotlib\" channel.\n",
       "\n",
       "    var id = msg.content.data.id;\n",
       "    // Get hold of the div created by the display call when the Comm\n",
       "    // socket was opened in Python.\n",
       "    var element = $(\"#\" + id);\n",
       "    var ws_proxy = comm_websocket_adapter(comm)\n",
       "\n",
       "    function ondownload(figure, format) {\n",
       "        window.open(figure.imageObj.src);\n",
       "    }\n",
       "\n",
       "    var fig = new mpl.figure(id, ws_proxy,\n",
       "                           ondownload,\n",
       "                           element.get(0));\n",
       "\n",
       "    // Call onopen now - mpl needs it, as it is assuming we've passed it a real\n",
       "    // web socket which is closed, not our websocket->open comm proxy.\n",
       "    ws_proxy.onopen();\n",
       "\n",
       "    fig.parent_element = element.get(0);\n",
       "    fig.cell_info = mpl.find_output_cell(\"<div id='\" + id + \"'></div>\");\n",
       "    if (!fig.cell_info) {\n",
       "        console.error(\"Failed to find cell for figure\", id, fig);\n",
       "        return;\n",
       "    }\n",
       "\n",
       "    var output_index = fig.cell_info[2]\n",
       "    var cell = fig.cell_info[0];\n",
       "\n",
       "};\n",
       "\n",
       "mpl.figure.prototype.handle_close = function(fig, msg) {\n",
       "    fig.root.unbind('remove')\n",
       "\n",
       "    // Update the output cell to use the data from the current canvas.\n",
       "    fig.push_to_output();\n",
       "    var dataURL = fig.canvas.toDataURL();\n",
       "    // Re-enable the keyboard manager in IPython - without this line, in FF,\n",
       "    // the notebook keyboard shortcuts fail.\n",
       "    IPython.keyboard_manager.enable()\n",
       "    $(fig.parent_element).html('<img src=\"' + dataURL + '\">');\n",
       "    fig.close_ws(fig, msg);\n",
       "}\n",
       "\n",
       "mpl.figure.prototype.close_ws = function(fig, msg){\n",
       "    fig.send_message('closing', msg);\n",
       "    // fig.ws.close()\n",
       "}\n",
       "\n",
       "mpl.figure.prototype.push_to_output = function(remove_interactive) {\n",
       "    // Turn the data on the canvas into data in the output cell.\n",
       "    var dataURL = this.canvas.toDataURL();\n",
       "    this.cell_info[1]['text/html'] = '<img src=\"' + dataURL + '\">';\n",
       "}\n",
       "\n",
       "mpl.figure.prototype.updated_canvas_event = function() {\n",
       "    // Tell IPython that the notebook contents must change.\n",
       "    IPython.notebook.set_dirty(true);\n",
       "    this.send_message(\"ack\", {});\n",
       "    var fig = this;\n",
       "    // Wait a second, then push the new image to the DOM so\n",
       "    // that it is saved nicely (might be nice to debounce this).\n",
       "    setTimeout(function () { fig.push_to_output() }, 1000);\n",
       "}\n",
       "\n",
       "mpl.figure.prototype._init_toolbar = function() {\n",
       "    var fig = this;\n",
       "\n",
       "    var nav_element = $('<div/>')\n",
       "    nav_element.attr('style', 'width: 100%');\n",
       "    this.root.append(nav_element);\n",
       "\n",
       "    // Define a callback function for later on.\n",
       "    function toolbar_event(event) {\n",
       "        return fig.toolbar_button_onclick(event['data']);\n",
       "    }\n",
       "    function toolbar_mouse_event(event) {\n",
       "        return fig.toolbar_button_onmouseover(event['data']);\n",
       "    }\n",
       "\n",
       "    for(var toolbar_ind in mpl.toolbar_items){\n",
       "        var name = mpl.toolbar_items[toolbar_ind][0];\n",
       "        var tooltip = mpl.toolbar_items[toolbar_ind][1];\n",
       "        var image = mpl.toolbar_items[toolbar_ind][2];\n",
       "        var method_name = mpl.toolbar_items[toolbar_ind][3];\n",
       "\n",
       "        if (!name) { continue; };\n",
       "\n",
       "        var button = $('<button class=\"btn btn-default\" href=\"#\" title=\"' + name + '\"><i class=\"fa ' + image + ' fa-lg\"></i></button>');\n",
       "        button.click(method_name, toolbar_event);\n",
       "        button.mouseover(tooltip, toolbar_mouse_event);\n",
       "        nav_element.append(button);\n",
       "    }\n",
       "\n",
       "    // Add the status bar.\n",
       "    var status_bar = $('<span class=\"mpl-message\" style=\"text-align:right; float: right;\"/>');\n",
       "    nav_element.append(status_bar);\n",
       "    this.message = status_bar[0];\n",
       "\n",
       "    // Add the close button to the window.\n",
       "    var buttongrp = $('<div class=\"btn-group inline pull-right\"></div>');\n",
       "    var button = $('<button class=\"btn btn-mini btn-primary\" href=\"#\" title=\"Stop Interaction\"><i class=\"fa fa-power-off icon-remove icon-large\"></i></button>');\n",
       "    button.click(function (evt) { fig.handle_close(fig, {}); } );\n",
       "    button.mouseover('Stop Interaction', toolbar_mouse_event);\n",
       "    buttongrp.append(button);\n",
       "    var titlebar = this.root.find($('.ui-dialog-titlebar'));\n",
       "    titlebar.prepend(buttongrp);\n",
       "}\n",
       "\n",
       "mpl.figure.prototype._root_extra_style = function(el){\n",
       "    var fig = this\n",
       "    el.on(\"remove\", function(){\n",
       "\tfig.close_ws(fig, {});\n",
       "    });\n",
       "}\n",
       "\n",
       "mpl.figure.prototype._canvas_extra_style = function(el){\n",
       "    // this is important to make the div 'focusable\n",
       "    el.attr('tabindex', 0)\n",
       "    // reach out to IPython and tell the keyboard manager to turn it's self\n",
       "    // off when our div gets focus\n",
       "\n",
       "    // location in version 3\n",
       "    if (IPython.notebook.keyboard_manager) {\n",
       "        IPython.notebook.keyboard_manager.register_events(el);\n",
       "    }\n",
       "    else {\n",
       "        // location in version 2\n",
       "        IPython.keyboard_manager.register_events(el);\n",
       "    }\n",
       "\n",
       "}\n",
       "\n",
       "mpl.figure.prototype._key_event_extra = function(event, name) {\n",
       "    var manager = IPython.notebook.keyboard_manager;\n",
       "    if (!manager)\n",
       "        manager = IPython.keyboard_manager;\n",
       "\n",
       "    // Check for shift+enter\n",
       "    if (event.shiftKey && event.which == 13) {\n",
       "        this.canvas_div.blur();\n",
       "        event.shiftKey = false;\n",
       "        // Send a \"J\" for go to next cell\n",
       "        event.which = 74;\n",
       "        event.keyCode = 74;\n",
       "        manager.command_mode();\n",
       "        manager.handle_keydown(event);\n",
       "    }\n",
       "}\n",
       "\n",
       "mpl.figure.prototype.handle_save = function(fig, msg) {\n",
       "    fig.ondownload(fig, null);\n",
       "}\n",
       "\n",
       "\n",
       "mpl.find_output_cell = function(html_output) {\n",
       "    // Return the cell and output element which can be found *uniquely* in the notebook.\n",
       "    // Note - this is a bit hacky, but it is done because the \"notebook_saving.Notebook\"\n",
       "    // IPython event is triggered only after the cells have been serialised, which for\n",
       "    // our purposes (turning an active figure into a static one), is too late.\n",
       "    var cells = IPython.notebook.get_cells();\n",
       "    var ncells = cells.length;\n",
       "    for (var i=0; i<ncells; i++) {\n",
       "        var cell = cells[i];\n",
       "        if (cell.cell_type === 'code'){\n",
       "            for (var j=0; j<cell.output_area.outputs.length; j++) {\n",
       "                var data = cell.output_area.outputs[j];\n",
       "                if (data.data) {\n",
       "                    // IPython >= 3 moved mimebundle to data attribute of output\n",
       "                    data = data.data;\n",
       "                }\n",
       "                if (data['text/html'] == html_output) {\n",
       "                    return [cell, data, j];\n",
       "                }\n",
       "            }\n",
       "        }\n",
       "    }\n",
       "}\n",
       "\n",
       "// Register the function which deals with the matplotlib target/channel.\n",
       "// The kernel may be null if the page has been refreshed.\n",
       "if (IPython.notebook.kernel != null) {\n",
       "    IPython.notebook.kernel.comm_manager.register_target('matplotlib', mpl.mpl_figure_comm);\n",
       "}\n"
      ],
      "text/plain": [
       "<IPython.core.display.Javascript object>"
      ]
     },
     "metadata": {},
     "output_type": "display_data"
    },
    {
     "data": {
      "text/html": [
       "<img src=\"data:image/png;base64,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\">"
      ],
      "text/plain": [
       "<IPython.core.display.HTML object>"
      ]
     },
     "metadata": {},
     "output_type": "display_data"
    }
   ],
   "source": [
    "H.plot(hh.load(\"./slice_0KK.h5\"), min=0, max=1e-3)"
   ]
  },
  {
   "cell_type": "markdown",
   "metadata": {},
   "source": [
    "Why is there no data?  Check analytical plot for these values...\n",
    "\n",
    "For X' -> Gamma, the energy is simply too low (need in the +40 range)"
   ]
  }
 ],
 "metadata": {
  "kernelspec": {
   "display_name": "Python 2",
   "language": "python",
   "name": "python2"
  },
  "language_info": {
   "codemirror_mode": {
    "name": "ipython",
    "version": 2
   },
   "file_extension": ".py",
   "mimetype": "text/x-python",
   "name": "python",
   "nbconvert_exporter": "python",
   "pygments_lexer": "ipython2",
   "version": "2.7.11"
  },
  "widgets": {
   "state": {},
   "version": "1.1.2"
  }
 },
 "nbformat": 4,
 "nbformat_minor": 0
}
