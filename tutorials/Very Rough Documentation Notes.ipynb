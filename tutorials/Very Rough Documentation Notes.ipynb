{
 "cells": [
  {
   "cell_type": "markdown",
   "metadata": {},
   "source": [
    "slicing:\n",
    "\n",
    "U points along direction of travel path.  For instance, traveling from X'=(0,0.5,0) to X=(0.5,0,0) would give us the vector U=ceil(X - X')=ceil(0.5,-0.5,0)=(1,-1,0).\n",
    "\n",
    "V is taken to be any direction perpendicular to U, and W is chosen to be perpendicular to U and V.\n",
    "\n",
    "Naming conventions for U,V,W:\n",
    "\n",
    "Let Y=(y1,y2,y3) be representative of any of U,V,W. If any of y1,y2,y3 are 0, the corresponding entry in the projection axis name would be zero.  If the first non-zero entry is y1, then all non-zero entries will be H with some coefficient; if the first non-zero entry is y2, then K; if y3, then L.\n",
    "\n",
    "\n",
    "Using Mslice:\n",
    "(-) requires data to be in \".nxspe\" format, not \".nxs\" format.  Jiao has a script designed to do this which can be modified for custom simulations.\n",
    "\n",
    "How to choose U,V,W:\n",
    "-choose U in the direction of the Q-space slicing path;  choose min and max so that min*U is one endpoint and max*U is the second endpoint of the path (up to translation)\n",
    "-choose V perpendicular to U and W perpendicular to U and V.  Choose min and max so that (V.max-V.min)/2 *V is centered at the (similarly for W)\n",
    "\n",
    "\n",
    "MCViNE available parameters:\n",
    "After typing:\n",
    "source ~lj7/.use-miniconda2\n",
    "source activate mcvine\n",
    "\n",
    "then, type\n",
    "$ mcvine  (for basic options)\n",
    "$ mcvine instruments (for list of instruments)\n",
    "$ mcvine instruments ARCS\n",
    "$ mcvine instruments ARCS beam -h  (without \"-h\", this will run a beam simulation with default values)\n",
    "$ mcvine instruments ARCS beam --help-properties\n",
    "\n",
    "\n",
    "For powder magnon simulation:\n",
    "-use E(Q) dispersion equation for scattering kernel (with scalar Q)"
   ]
  },
  {
   "cell_type": "code",
   "execution_count": null,
   "metadata": {
    "collapsed": true
   },
   "outputs": [],
   "source": []
  }
 ],
 "metadata": {
  "kernelspec": {
   "display_name": "Python 2",
   "language": "python",
   "name": "python2"
  },
  "language_info": {
   "codemirror_mode": {
    "name": "ipython",
    "version": 2
   },
   "file_extension": ".py",
   "mimetype": "text/x-python",
   "name": "python",
   "nbconvert_exporter": "python",
   "pygments_lexer": "ipython2",
   "version": "2.7.11"
  },
  "widgets": {
   "state": {},
   "version": "1.1.2"
  }
 },
 "nbformat": 4,
 "nbformat_minor": 0
}
