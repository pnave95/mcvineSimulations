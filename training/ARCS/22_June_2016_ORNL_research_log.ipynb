{
 "cells": [
  {
   "cell_type": "markdown",
   "metadata": {},
   "source": [
    "## Simulations with Dr. Mourigal"
   ]
  },
  {
   "cell_type": "markdown",
   "metadata": {},
   "source": [
    "Yesterday (and into late sometime last night), I ran a MCViNE simulation using for a square lattice with spin wave scattering.  That simulation is doucmented in the jupyter python notebook \"Mourigal-SLAF-harmonic-simulation\".  The simulation uses the dispersion relation provided in Dr. Mourigal's paper \"Field-induced decay dynamics in square-lattice antiferromagnets\" for harmonically approximated (linear spin wave approximation) magnons.  \n",
    "\n",
    "That simulation was started yesterday around noon and was still not finished when I checked late last night, even though the simulation did not use multiple scattering, only used $3 \\times 10^6$ neutrons, used a pre-existing beam simulation data set, and only used a single scattering kernel (in addition to the trivial elastic kernel), and only used a constant structure factor.  It is therefore of paramount importance to check and double check all my simulation parameters and settings before running any \"big\" (publication) simulations since the simulations take so long to complete.\n",
    "\n",
    "Today, I am trying to prepare a simulation for $BaFe_2Se_3$ using an \"isolated 4-Fe plaquette\" model with 4 flat dispersion lines.  To do this, I need to determine the proper neutron energy for the experiment, and the accompanying T0 and fermi chopper speeds.  I then need to set up a beam simulation (hopefully as a separate simulation, apart from the scattering experiment), run that beam simulation, and finally run the scattering simulation.  I would like to also add phonon scattering into the simulation if possible (and if non-negligible) to try to achieve better matching to realistic neutron scattering experiments."
   ]
  },
  {
   "cell_type": "code",
   "execution_count": null,
   "metadata": {
    "collapsed": true
   },
   "outputs": [],
   "source": []
  }
 ],
 "metadata": {
  "kernelspec": {
   "display_name": "Python 2",
   "language": "python",
   "name": "python2"
  },
  "language_info": {
   "codemirror_mode": {
    "name": "ipython",
    "version": 2
   },
   "file_extension": ".py",
   "mimetype": "text/x-python",
   "name": "python",
   "nbconvert_exporter": "python",
   "pygments_lexer": "ipython2",
   "version": "2.7.11"
  },
  "widgets": {
   "state": {},
   "version": "1.1.2"
  }
 },
 "nbformat": 4,
 "nbformat_minor": 0
}
