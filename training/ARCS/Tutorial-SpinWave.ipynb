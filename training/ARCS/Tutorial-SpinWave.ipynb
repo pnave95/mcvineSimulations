{
 "cells": [
  {
   "cell_type": "markdown",
   "metadata": {},
   "source": [
    "# Spin Wave Simulation"
   ]
  },
  {
   "cell_type": "markdown",
   "metadata": {},
   "source": [
    "Instrument: ARCS\n",
    "* Ei=100meV\n",
    "* Fermi chopper: 600 Hz\n",
    "* T0: 120Hz\n",
    " \n",
    "Sample: some crystal\n",
    "* lattice parameters: 2, 2.5, 3        90 90 90\n",
    "* spin wave: E = 80 * | sin($\\pi$h) |\n",
    "* new spin wave: (from Mourigal paper: quantum AF on square lattice)\n",
    "* Orientation: u,v = [1 0 2] and  [1 0 0]\n",
    "* psi angles: -90, 90, step 3\n"
   ]
  },
  {
   "cell_type": "markdown",
   "metadata": {},
   "source": [
    "## Step 0. some goodies"
   ]
  },
  {
   "cell_type": "code",
   "execution_count": 2,
   "metadata": {
    "collapsed": false
   },
   "outputs": [],
   "source": [
    "%matplotlib notebook\n",
    "from matplotlib import pyplot as plt\n",
    "import numpy as np\n",
    "import histogram.hdf as hh, histogram as H"
   ]
  },
  {
   "cell_type": "markdown",
   "metadata": {},
   "source": [
    "## Step 1. create dir structure"
   ]
  },
  {
   "cell_type": "code",
   "execution_count": 3,
   "metadata": {
    "collapsed": true
   },
   "outputs": [],
   "source": [
    "# Change this!!!\n",
    "# workdir = \"/SNS/users/lj7/simulations/ARCS/spinwave-demo/\"\n",
    "workdir = \"/SNS/users/p63/mcvine/mourigal-square-QM-AF/\"\n",
    "!mkdir -p {workdir}"
   ]
  },
  {
   "cell_type": "code",
   "execution_count": 4,
   "metadata": {
    "collapsed": false
   },
   "outputs": [
    {
     "name": "stdout",
     "output_type": "stream",
     "text": [
      "/SNS/users/p63/mcvine/mourigal-square-QM-AF\n"
     ]
    }
   ],
   "source": [
    "%cd {workdir}\n",
    "!ls"
   ]
  },
  {
   "cell_type": "code",
   "execution_count": 5,
   "metadata": {
    "collapsed": true
   },
   "outputs": [],
   "source": [
    "!mkdir -p samples/X/sampleassembly\n",
    "!mkdir -p beam\n",
    "!mkdir -p scattering"
   ]
  },
  {
   "cell_type": "code",
   "execution_count": 6,
   "metadata": {
    "collapsed": false
   },
   "outputs": [
    {
     "name": "stdout",
     "output_type": "stream",
     "text": [
      ".\r\n",
      "./samples\r\n",
      "./samples/X\r\n",
      "./samples/X/sampleassembly\r\n",
      "./beam\r\n",
      "./scattering\r\n"
     ]
    }
   ],
   "source": [
    "!find ."
   ]
  },
  {
   "cell_type": "markdown",
   "metadata": {},
   "source": [
    "## Step 2. obtain beam simulation"
   ]
  },
  {
   "cell_type": "code",
   "execution_count": 11,
   "metadata": {
    "collapsed": false
   },
   "outputs": [
    {
     "name": "stdout",
     "output_type": "stream",
     "text": [
      "/SNS/users/p63/mcvine/mourigal-square-QM-AF\n"
     ]
    }
   ],
   "source": [
    "cd {workdir}"
   ]
  },
  {
   "cell_type": "code",
   "execution_count": 12,
   "metadata": {
    "collapsed": false
   },
   "outputs": [
    {
     "name": "stdout",
     "output_type": "stream",
     "text": [
      ".\r\n",
      "./samples\r\n",
      "./samples/X\r\n",
      "./samples/X/sampleassembly\r\n",
      "./beam\r\n",
      "./beam/100meV\r\n",
      "./scattering\r\n"
     ]
    }
   ],
   "source": [
    "!find ."
   ]
  },
  {
   "cell_type": "code",
   "execution_count": 13,
   "metadata": {
    "collapsed": false
   },
   "outputs": [
    {
     "name": "stdout",
     "output_type": "stream",
     "text": [
      "ln: failed to create symbolic link ‘beam/100meV/100meV’: Permission denied\r\n"
     ]
    }
   ],
   "source": [
    "!ln -s /SNS/users/lj7/simulations/ARCS/beam/100meV beam/100meV"
   ]
  },
  {
   "cell_type": "code",
   "execution_count": 14,
   "metadata": {
    "collapsed": false
   },
   "outputs": [
    {
     "name": "stdout",
     "output_type": "stream",
     "text": [
      "/SNS/users/lj7/simulations/ARCS/beam/100meV\n"
     ]
    }
   ],
   "source": [
    "%cd beam/100meV"
   ]
  },
  {
   "cell_type": "code",
   "execution_count": 58,
   "metadata": {
    "collapsed": false
   },
   "outputs": [
    {
     "name": "stderr",
     "output_type": "stream",
     "text": [
      "/SNS/users/lj7/software/miniconda2/envs/mcvine/lib/python2.7/site-packages/histogram/hdf/__init__.py:55: UserWarning: filename as url is deprecated\n",
      "  warnings.warn(\"filename as url is deprecated\")\n"
     ]
    },
    {
     "ename": "ValueError",
     "evalue": "out/ienergy.h5",
     "output_type": "error",
     "traceback": [
      "\u001b[1;31m---------------------------------------------------------------------------\u001b[0m",
      "\u001b[1;31mValueError\u001b[0m                                Traceback (most recent call last)",
      "\u001b[1;32m<ipython-input-58-b88b0601ae3f>\u001b[0m in \u001b[0;36m<module>\u001b[1;34m()\u001b[0m\n\u001b[0;32m      1\u001b[0m \u001b[1;31m# check\u001b[0m\u001b[1;33m\u001b[0m\u001b[1;33m\u001b[0m\u001b[0m\n\u001b[0;32m      2\u001b[0m \u001b[1;32mimport\u001b[0m \u001b[0mhistogram\u001b[0m\u001b[1;33m.\u001b[0m\u001b[0mhdf\u001b[0m \u001b[1;32mas\u001b[0m \u001b[0mhh\u001b[0m\u001b[1;33m\u001b[0m\u001b[0m\n\u001b[1;32m----> 3\u001b[1;33m \u001b[0mie\u001b[0m \u001b[1;33m=\u001b[0m \u001b[0mhh\u001b[0m\u001b[1;33m.\u001b[0m\u001b[0mload\u001b[0m\u001b[1;33m(\u001b[0m\u001b[1;34m\"out/ienergy.h5\"\u001b[0m\u001b[1;33m)\u001b[0m\u001b[1;33m\u001b[0m\u001b[0m\n\u001b[0m\u001b[0;32m      4\u001b[0m \u001b[0mplt\u001b[0m\u001b[1;33m.\u001b[0m\u001b[0mplot\u001b[0m\u001b[1;33m(\u001b[0m\u001b[0mie\u001b[0m\u001b[1;33m.\u001b[0m\u001b[0menergy\u001b[0m\u001b[1;33m,\u001b[0m \u001b[0mie\u001b[0m\u001b[1;33m.\u001b[0m\u001b[0mI\u001b[0m\u001b[1;33m)\u001b[0m\u001b[1;33m\u001b[0m\u001b[0m\n",
      "\u001b[1;32m/SNS/users/lj7/software/miniconda2/envs/mcvine/lib/python2.7/site-packages/histogram/hdf/__init__.pyc\u001b[0m in \u001b[0;36mload\u001b[1;34m(filename, pathinfile, fs, **kwds)\u001b[0m\n\u001b[0;32m     58\u001b[0m             \u001b[1;32mif\u001b[0m \u001b[1;32mnot\u001b[0m \u001b[0mos\u001b[0m\u001b[1;33m.\u001b[0m\u001b[0mpath\u001b[0m\u001b[1;33m.\u001b[0m\u001b[0mexists\u001b[0m\u001b[1;33m(\u001b[0m\u001b[0mfilename\u001b[0m\u001b[1;33m)\u001b[0m\u001b[1;33m:\u001b[0m\u001b[1;33m\u001b[0m\u001b[0m\n\u001b[0;32m     59\u001b[0m                 \u001b[0mmsg\u001b[0m \u001b[1;33m=\u001b[0m \u001b[1;34m\"invalid histogram url: %s\"\u001b[0m \u001b[1;33m%\u001b[0m \u001b[0murl\u001b[0m\u001b[1;33m\u001b[0m\u001b[0m\n\u001b[1;32m---> 60\u001b[1;33m                 \u001b[1;32mraise\u001b[0m \u001b[0mValueError\u001b[0m\u001b[1;33m,\u001b[0m \u001b[0murl\u001b[0m\u001b[1;33m\u001b[0m\u001b[0m\n\u001b[0m\u001b[0;32m     61\u001b[0m \u001b[1;33m\u001b[0m\u001b[0m\n\u001b[0;32m     62\u001b[0m     \u001b[1;32mif\u001b[0m \u001b[0mfs\u001b[0m \u001b[1;32mis\u001b[0m \u001b[0mNone\u001b[0m\u001b[1;33m:\u001b[0m\u001b[1;33m\u001b[0m\u001b[0m\n",
      "\u001b[1;31mValueError\u001b[0m: out/ienergy.h5"
     ]
    }
   ],
   "source": [
    "# check\n",
    "import histogram.hdf as hh\n",
    "ie = hh.load(\"out/ienergy.h5\")\n",
    "plt.plot(ie.energy, ie.I)"
   ]
  },
  {
   "cell_type": "markdown",
   "metadata": {},
   "source": [
    "## Step 3. Create sample assembly"
   ]
  },
  {
   "cell_type": "code",
   "execution_count": 16,
   "metadata": {
    "collapsed": false
   },
   "outputs": [
    {
     "name": "stdout",
     "output_type": "stream",
     "text": [
      "/SNS/users/p63/mcvine/mourigal-square-QM-AF/samples/X/sampleassembly\n"
     ]
    }
   ],
   "source": [
    "%cd \"{workdir}/samples/X/sampleassembly\""
   ]
  },
  {
   "cell_type": "code",
   "execution_count": 17,
   "metadata": {
    "collapsed": true
   },
   "outputs": [],
   "source": [
    "%cp -a /SNS/users/lj7/simulations/samples/spinwave/* ."
   ]
  },
  {
   "cell_type": "markdown",
   "metadata": {},
   "source": [
    "NOTE: xyz data needed if I want to add phonon kernels"
   ]
  },
  {
   "cell_type": "code",
   "execution_count": 18,
   "metadata": {
    "collapsed": false
   },
   "outputs": [
    {
     "name": "stdout",
     "output_type": "stream",
     "text": [
      "Overwriting ./X.xyz\n"
     ]
    }
   ],
   "source": [
    "%%file ./X.xyz\n",
    "8\n",
    "3 0 0    0 3 0    0 0 3\n",
    "V 0 0 0\n",
    "V 0 0 0\n",
    "V 0 0 0\n",
    "V 0 0 0\n",
    "V 0 0 0\n",
    "V 0 0 0\n",
    "V 0 0 0\n",
    "V 0 0 0\n"
   ]
  },
  {
   "cell_type": "code",
   "execution_count": 19,
   "metadata": {
    "collapsed": false
   },
   "outputs": [
    {
     "name": "stdout",
     "output_type": "stream",
     "text": [
      "Overwriting ./X-scatterer.xml\n"
     ]
    }
   ],
   "source": [
    "%%file ./X-scatterer.xml\n",
    "<?xml version=\"1.0\"?>\n",
    "\n",
    "<!DOCTYPE scatterer>\n",
    "\n",
    "<!-- weights: absorption, scattering, transmission -->\n",
    "<homogeneous_scatterer \n",
    "  mcweights=\"0, 1, 0.1\"\n",
    "  <!--\n",
    "    mcweights not needed for multiple scattering simulations\n",
    "    -->\n",
    "  max_multiplescattering_loops=\"3\"\n",
    "  >\n",
    "  \n",
    "  <KernelContainer average=\"yes\">\n",
    "    \n",
    "    <E_Q_Kernel \n",
    "\tE_Q=\"0\" \n",
    "\tS_Q=\"1\"\n",
    "\tQmin=\"0./angstrom\"\n",
    "\tQmax=\"16./angstrom\"\n",
    "\t/>\n",
    "    \n",
    "    <E_vQ_Kernel \n",
    "\t<!--E_Q=\"pi:=3.1415926535897932; twopi:=2*pi; a:=2; b:=2.5; c:=3; \n",
    "    h:=a*Qx/twopi; k:=b*Qy/twopi; l:=c*Qz/twopi; \n",
    "    cospih2:=cos(h*pi)^2; cospil2:=cos(l*pi)^2; cospik2:=cos(k*pi)^2; \n",
    "    (80.^2*(1-cospih2)) ^ (0.5)\"\n",
    "    -->\n",
    "    E_Q=\"pi:=3.1415926535897932; twopi:=2*pi; a:=3; b:=3; c:=3; \n",
    "    h:=a*Qx/twopi; k:=b*Qy/twopi; l:=c*Qz/twopi;\n",
    "    gamma_k:=0.5*(cos(2*pi*h)+cos(2*pi*k));\n",
    "    40*sqrt((1+gamma_k)*(1-cos((pi/4)*gamma_k)))\"\n",
    "\tS_Q=\"1\"\n",
    "\tEmax=\"81*meV\"\n",
    "\t/>\n",
    "    \n",
    "  </KernelContainer>\n",
    "  \n",
    "</homogeneous_scatterer>"
   ]
  },
  {
   "cell_type": "code",
   "execution_count": 20,
   "metadata": {
    "collapsed": false
   },
   "outputs": [
    {
     "data": {
      "text/plain": [
       "(array([ 2.0943951,  0.       ,  0.       ]),\n",
       " array([ 0.       ,  2.0943951,  0.       ]),\n",
       " array([ 0.       ,  0.       ,  2.0943951]))"
      ]
     },
     "execution_count": 20,
     "metadata": {},
     "output_type": "execute_result"
    }
   ],
   "source": [
    "a,b,c=3,3,3\n",
    "\n",
    "from numpy import sin, cos, deg2rad\n",
    "a1 = [a, 0, 0]\n",
    "a2 = [0, b, 0]\n",
    "a3 = [0, 0, c]\n",
    "\n",
    "twopi = 2*np.pi\n",
    "f = twopi/np.dot(a1, np.cross(a2, a3))\n",
    "b1 = np.cross(a2,a3) * f\n",
    "b2 = np.cross(a3,a1) * f\n",
    "b3 = np.cross(a1,a2) * f\n",
    "b1,b2,b3"
   ]
  },
  {
   "cell_type": "markdown",
   "metadata": {},
   "source": [
    "#### Orientation of the kernel\n",
    "Here we need to use the convention that z is along beam, y vertical up.\n",
    "The kernel has its own cartesian axis e’x e’y e’z. Because we know\n",
    "u = 102 v = 100\n",
    ", we have the basis vectors of the instrument coordinate system\n",
    "\n",
    "    ez along b1 + 2*b3\n",
    "    ex along b1\n",
    "    \n",
    "\n",
    "So we have them in the reciprocal cartesian axis"
   ]
  },
  {
   "cell_type": "code",
   "execution_count": 22,
   "metadata": {
    "collapsed": false
   },
   "outputs": [
    {
     "data": {
      "text/plain": [
       "(array([ 0.89442719,  0.        , -0.4472136 ]),\n",
       " array([ 0.,  1.,  0.]),\n",
       " array([ 0.4472136 ,  0.        ,  0.89442719]))"
      ]
     },
     "execution_count": 22,
     "metadata": {},
     "output_type": "execute_result"
    }
   ],
   "source": [
    "ez = b1 + 2*b3; ez /= np.linalg.norm(ez)\n",
    "ex1 = b1\n",
    "ey = np.cross(ez, ex1); ey/=np.linalg.norm(ey)\n",
    "ex = np.cross(ey, ez)\n",
    "ex, ey, ez"
   ]
  },
  {
   "cell_type": "markdown",
   "metadata": {},
   "source": [
    "The rotation matrix is define as\n",
    "```\n",
    "    ex.ex’ ex.ey’ ex.ez’ \n",
    "R = ey.ex’ ey.ey’ ey.ez’\n",
    "    ez.ex’ ez.ey’ ez.ez’\n",
    "```\n",
    "So"
   ]
  },
  {
   "cell_type": "code",
   "execution_count": 23,
   "metadata": {
    "collapsed": false
   },
   "outputs": [
    {
     "data": {
      "text/plain": [
       "(array([[ 0.89442719,  0.        , -0.4472136 ],\n",
       "        [ 0.        ,  1.        ,  0.        ],\n",
       "        [ 0.4472136 ,  0.        ,  0.89442719]]),\n",
       " array([ 0.89442719,  0.        , -0.4472136 ,  0.        ,  1.        ,\n",
       "         0.        ,  0.4472136 ,  0.        ,  0.89442719]))"
      ]
     },
     "execution_count": 23,
     "metadata": {},
     "output_type": "execute_result"
    }
   ],
   "source": [
    "R = np.array([ ex, ey, ez ])\n",
    "Rflat = R.copy(); Rflat.shape = -1,\n",
    "R, Rflat"
   ]
  },
  {
   "cell_type": "markdown",
   "metadata": {},
   "source": [
    "Now we add an extra kernel parameter:"
   ]
  },
  {
   "cell_type": "code",
   "execution_count": 24,
   "metadata": {
    "collapsed": false
   },
   "outputs": [
    {
     "data": {
      "text/plain": [
       "'orientation=\"0.894427191,0.0,-0.4472135955,0.0,1.0,0.0,0.4472135955,0.0,0.894427191\"'"
      ]
     },
     "execution_count": 24,
     "metadata": {},
     "output_type": "execute_result"
    }
   ],
   "source": [
    "'orientation=\"%s\"' % (','.join(str(e) for e in Rflat),)"
   ]
  },
  {
   "cell_type": "code",
   "execution_count": null,
   "metadata": {
    "collapsed": true
   },
   "outputs": [],
   "source": [
    "# modify X-scatterer.xml to specify the orientation"
   ]
  },
  {
   "cell_type": "code",
   "execution_count": 26,
   "metadata": {
    "collapsed": false
   },
   "outputs": [
    {
     "name": "stdout",
     "output_type": "stream",
     "text": [
      "Overwriting ./X-scatterer.xml\n"
     ]
    }
   ],
   "source": [
    "%%file ./X-scatterer.xml\n",
    "<?xml version=\"1.0\"?>\n",
    "\n",
    "<!DOCTYPE scatterer>\n",
    "\n",
    "<!-- weights: absorption, scattering, transmission -->\n",
    "<homogeneous_scatterer \n",
    "  mcweights=\"0, 1, 0.1\"\n",
    "  max_multiplescattering_loops=\"3\"\n",
    "  >\n",
    "  \n",
    "  <KernelContainer average=\"yes\">\n",
    "    \n",
    "    <E_Q_Kernel \n",
    "\tE_Q=\"0\" \n",
    "\tS_Q=\"1\"\n",
    "\tQmin=\"0./angstrom\"\n",
    "\tQmax=\"16./angstrom\"\n",
    "\t/>\n",
    "    \n",
    "    <E_vQ_Kernel \n",
    "\tE_Q=\"pi:=3.1415926535897932; twopi:=2*pi; a:=3; b:=3; c:=3; \n",
    "    h:=a*Qx/twopi; k:=b*Qy/twopi; l:=c*Qz/twopi;\n",
    "    gamma_k:=0.5*(cos(2*pi*h)+cos(2*pi*k));\n",
    "    40*sqrt((1+gamma_k)*(1-cos((pi/4)*gamma_k)))\"\n",
    "\tS_Q=\"1\"\n",
    "\tEmax=\"81*meV\"\n",
    "\torientation=\"0.894427191,0.0,-0.4472135955,0.0,1.0,0.0,0.4472135955,0.0,0.894427191\"\n",
    "\t/>\n",
    "    \n",
    "  </KernelContainer>\n",
    "  \n",
    "</homogeneous_scatterer>"
   ]
  },
  {
   "cell_type": "code",
   "execution_count": 27,
   "metadata": {
    "collapsed": false
   },
   "outputs": [
    {
     "name": "stdout",
     "output_type": "stream",
     "text": [
      "<?xml version=\"1.0\"?>\r\n",
      "\r\n",
      "<!DOCTYPE scatterer>\r\n",
      "\r\n",
      "<!-- weights: absorption, scattering, transmission -->\r\n",
      "<homogeneous_scatterer \r\n",
      "  mcweights=\"0, 1, 0.1\"\r\n",
      "  max_multiplescattering_loops=\"3\"\r\n",
      "  >\r\n",
      "  \r\n",
      "  <KernelContainer average=\"yes\">\r\n",
      "    \r\n",
      "    <E_Q_Kernel \r\n",
      "\tE_Q=\"0\" \r\n",
      "\tS_Q=\"1\"\r\n",
      "\tQmin=\"0./angstrom\"\r\n",
      "\tQmax=\"16./angstrom\"\r\n",
      "\t/>\r\n",
      "    \r\n",
      "    <E_vQ_Kernel \r\n",
      "\tE_Q=\"pi:=3.1415926535897932; twopi:=2*pi; a:=3; b:=3; c:=3; \r\n",
      "    h:=a*Qx/twopi; k:=b*Qy/twopi; l:=c*Qz/twopi;\r\n",
      "    gamma_k:=0.5*(cos(2*pi*h)+cos(2*pi*k));\r\n",
      "    40*sqrt((1+gamma_k)*(1-cos((pi/4)*gamma_k)))\"\r\n",
      "\tS_Q=\"1\"\r\n",
      "\tEmax=\"81*meV\"\r\n",
      "\torientation=\"0.894427191,0.0,-0.4472135955,0.0,1.0,0.0,0.4472135955,0.0,0.894427191\"\r\n",
      "\t/>\r\n",
      "    \r\n",
      "  </KernelContainer>\r\n",
      "  \r\n",
      "</homogeneous_scatterer>"
     ]
    }
   ],
   "source": [
    "!cat X-scatterer.xml"
   ]
  },
  {
   "cell_type": "code",
   "execution_count": 28,
   "metadata": {
    "collapsed": false
   },
   "outputs": [
    {
     "name": "stdout",
     "output_type": "stream",
     "text": [
      "dispersion-expression  sampleassembly.xml  X-scatterer.xml  X.xyz\r\n"
     ]
    }
   ],
   "source": [
    "!ls"
   ]
  },
  {
   "cell_type": "markdown",
   "metadata": {},
   "source": [
    "## Step 4. Scattering"
   ]
  },
  {
   "cell_type": "code",
   "execution_count": 61,
   "metadata": {
    "collapsed": false
   },
   "outputs": [
    {
     "name": "stdout",
     "output_type": "stream",
     "text": [
      "/SNS/users/p63/mcvine/mourigal-square-QM-AF/scattering\n"
     ]
    }
   ],
   "source": [
    "%cd \"{workdir}/scattering\""
   ]
  },
  {
   "cell_type": "code",
   "execution_count": 62,
   "metadata": {
    "collapsed": false
   },
   "outputs": [
    {
     "name": "stdout",
     "output_type": "stream",
     "text": [
      "config.py\t     work_0.0\t work_30.0   work_54.0\t work_75.0\r\n",
      "config.pyc\t     work_-12.0  work_-33.0  work_-57.0  work_-78.0\r\n",
      "create-submit.py     work_12.0\t work_33.0   work_57.0\t work_78.0\r\n",
      "log.reduce\t     work_-15.0  work_-36.0  work_-6.0\t work_-81.0\r\n",
      "log.slice_H00\t     work_15.0\t work_36.0   work_6.0\t work_81.0\r\n",
      "log.slice_H00_-2,0   work_-18.0  work_-39.0  work_-60.0  work_-84.0\r\n",
      "scripts\t\t     work_18.0\t work_39.0   work_60.0\t work_84.0\r\n",
      "sim.yml\t\t     work_-21.0  work_-42.0  work_-63.0  work_-87.0\r\n",
      "slice_H00_-2,0.h5    work_21.0\t work_42.0   work_63.0\t work_87.0\r\n",
      "slice_H00_-2__0.nxs  work_-24.0  work_-45.0  work_-66.0  work_-9.0\r\n",
      "slice_H00_-2,0.yml   work_24.0\t work_45.0   work_66.0\t work_9.0\r\n",
      "slice_H00.h5\t     work_-27.0  work_-48.0  work_-69.0  work_-90.0\r\n",
      "slice_H00.nxs\t     work_27.0\t work_48.0   work_69.0\t work_90.0\r\n",
      "slice_H00.yml\t     work_-3.0\t work_-51.0  work_-72.0\r\n",
      "submit.sh\t     work_3.0\t work_51.0   work_72.0\r\n",
      "template\t     work_-30.0  work_-54.0  work_-75.0\r\n"
     ]
    }
   ],
   "source": [
    "!rsync -a ~lj7/simulations/mcvine_workflow/DGS/ARCS/single-crystal/* ./\n",
    "!ls"
   ]
  },
  {
   "cell_type": "code",
   "execution_count": 31,
   "metadata": {
    "collapsed": false
   },
   "outputs": [
    {
     "name": "stdout",
     "output_type": "stream",
     "text": [
      "/SNS/users/p63/mcvine/mourigal-square-QM-AF/scattering/template\n",
      "/SNS/users/p63/mcvine/mourigal-square-QM-AF/scattering\n"
     ]
    }
   ],
   "source": [
    "%cd template\n",
    "\n",
    "!ln -s ../../samples/X/sampleassembly\n",
    "\n",
    "!ln -s ../../beam/100meV beam\n",
    "\n",
    "%cd .."
   ]
  },
  {
   "cell_type": "code",
   "execution_count": 59,
   "metadata": {
    "collapsed": false
   },
   "outputs": [
    {
     "name": "stdout",
     "output_type": "stream",
     "text": [
      "Overwriting sim.yml\n"
     ]
    }
   ],
   "source": [
    "%%file sim.yml\n",
    "\n",
    "cluster:\n",
    "  nodes: 10\n",
    "instrument:\n",
    "  name: arcs\n",
    "scatter:\n",
    "  ncount: 1e6\n",
    "  multiple_scattering: on\n",
    "  template: ./template\n"
   ]
  },
  {
   "cell_type": "code",
   "execution_count": 60,
   "metadata": {
    "collapsed": false,
    "scrolled": true
   },
   "outputs": [
    {
     "name": "stdout",
     "output_type": "stream",
     "text": [
      "SAMPLE_ANGLE=30.0 time ./scatter &> log.scatter\n",
      "^C\n",
      "make: *** [out/scattered-neutrons] Error 1\n",
      "*** make event-nxs INSTRUMENT=arcs NODES=10 NCOUNT=1e6 MS=True SAMPLE_ANGLE=30.0 failed\n"
     ]
    }
   ],
   "source": [
    "!./scripts/sim.py --angle=30.0"
   ]
  },
  {
   "cell_type": "code",
   "execution_count": 37,
   "metadata": {
    "collapsed": false
   },
   "outputs": [
    {
     "name": "stdout",
     "output_type": "stream",
     "text": [
      "Overwriting sim.yml\n"
     ]
    }
   ],
   "source": [
    "%%file sim.yml\n",
    "\n",
    "cluster:\n",
    "  nodes: 10\n",
    "instrument:\n",
    "  name: arcs\n",
    "scatter:\n",
    "  ncount: 1e6\n",
    "  multiple_scattering: off\n",
    "  template: ./template\n"
   ]
  },
  {
   "cell_type": "code",
   "execution_count": null,
   "metadata": {
    "collapsed": true
   },
   "outputs": [],
   "source": [
    "# a script to create a submit script submit.sh\n",
    "# may need to create several scripts"
   ]
  },
  {
   "cell_type": "code",
   "execution_count": 38,
   "metadata": {
    "collapsed": false
   },
   "outputs": [
    {
     "name": "stdout",
     "output_type": "stream",
     "text": [
      "Writing create-submit.py\n"
     ]
    }
   ],
   "source": [
    "%%file create-submit.py\n",
    "import numpy as np\n",
    "ostream = open('submit.sh', 'wt')\n",
    "for a in np.arange(-90, 90.1, 3.):\n",
    "    ostream.write('./scripts/sim.py --angle=%s \\n' % a)\n",
    "    continue\n",
    "ostream.close()"
   ]
  },
  {
   "cell_type": "code",
   "execution_count": 39,
   "metadata": {
    "collapsed": false
   },
   "outputs": [
    {
     "name": "stdout",
     "output_type": "stream",
     "text": [
      "import numpy as np\r\n",
      "ostream = open('submit.sh', 'wt')\r\n",
      "for a in np.arange(-90, 90.1, 3.):\r\n",
      "    ostream.write('./scripts/sim.py --angle=%s \\n' % a)\r\n",
      "    continue\r\n",
      "ostream.close()"
     ]
    }
   ],
   "source": [
    "!cat create-submit.py"
   ]
  },
  {
   "cell_type": "code",
   "execution_count": 40,
   "metadata": {
    "collapsed": false
   },
   "outputs": [],
   "source": [
    "# run the script to create submit.sh\n",
    "!python ./create-submit.py"
   ]
  },
  {
   "cell_type": "code",
   "execution_count": 42,
   "metadata": {
    "collapsed": false,
    "scrolled": true
   },
   "outputs": [],
   "source": [
    "# check submit script\n",
    "#!cat submit.sh"
   ]
  },
  {
   "cell_type": "code",
   "execution_count": 43,
   "metadata": {
    "collapsed": true
   },
   "outputs": [],
   "source": [
    "# make sure submit.sh is executable\n",
    "!chmod +x submit.sh\n",
    "# and then start it script in the background"
   ]
  },
  {
   "cell_type": "code",
   "execution_count": 44,
   "metadata": {
    "collapsed": false
   },
   "outputs": [
    {
     "name": "stdout",
     "output_type": "stream",
     "text": [
      "Starting job # 0 in a separate thread.\n"
     ]
    }
   ],
   "source": [
    "%%script bash --bg\n",
    "./submit.sh\n",
    "# this will take a while to finish."
   ]
  },
  {
   "cell_type": "markdown",
   "metadata": {},
   "source": [
    "## Step 5. Reduction"
   ]
  },
  {
   "cell_type": "code",
   "execution_count": 45,
   "metadata": {
    "collapsed": false
   },
   "outputs": [
    {
     "name": "stdout",
     "output_type": "stream",
     "text": [
      "/SNS/users/p63/mcvine/mourigal-square-QM-AF/scattering\n",
      "create-submit.py  work_18.0   work_-33.0  work_48.0   work_-63.0  work_78.0\r\n",
      "scripts\t\t  work_-21.0  work_33.0   work_-51.0  work_63.0   work_-81.0\r\n",
      "sim.yml\t\t  work_21.0   work_-36.0  work_51.0   work_-66.0  work_81.0\r\n",
      "submit.sh\t  work_-24.0  work_36.0   work_-54.0  work_66.0   work_-84.0\r\n",
      "template\t  work_24.0   work_-39.0  work_54.0   work_-69.0  work_84.0\r\n",
      "work_0.0\t  work_-27.0  work_39.0   work_-57.0  work_69.0   work_-87.0\r\n",
      "work_-12.0\t  work_27.0   work_-42.0  work_57.0   work_-72.0  work_87.0\r\n",
      "work_12.0\t  work_-3.0   work_42.0   work_-6.0   work_72.0   work_-9.0\r\n",
      "work_-15.0\t  work_3.0    work_-45.0  work_6.0    work_-75.0  work_9.0\r\n",
      "work_15.0\t  work_-30.0  work_45.0   work_-60.0  work_75.0   work_-90.0\r\n",
      "work_-18.0\t  work_30.0   work_-48.0  work_60.0   work_-78.0  work_90.0\r\n"
     ]
    }
   ],
   "source": [
    "%cd \"{workdir}/scattering\"\n",
    "!ls"
   ]
  },
  {
   "cell_type": "markdown",
   "metadata": {},
   "source": [
    "First we reduce event-mode nexus data for each angle using Mantid"
   ]
  },
  {
   "cell_type": "code",
   "execution_count": 46,
   "metadata": {
    "collapsed": false
   },
   "outputs": [
    {
     "name": "stdout",
     "output_type": "stream",
     "text": [
      "ls: cannot access work_2.0/reduced*: No such file or directory\r\n"
     ]
    }
   ],
   "source": [
    "# check if there is reduced data\n",
    "!ls work_2.0/reduced*"
   ]
  },
  {
   "cell_type": "code",
   "execution_count": 48,
   "metadata": {
    "collapsed": false,
    "scrolled": true
   },
   "outputs": [],
   "source": [
    "# reduce tof events to E events\n",
    "# this takes about 30 minutes\n",
    "!./scripts/reduce/reduceKeepingEvents_batch.py -90,90.1,3. 100 0,90,0.5 > log.reduce"
   ]
  },
  {
   "cell_type": "code",
   "execution_count": null,
   "metadata": {
    "collapsed": true
   },
   "outputs": [],
   "source": [
    "# create configuration file for getting a slice"
   ]
  },
  {
   "cell_type": "code",
   "execution_count": 49,
   "metadata": {
    "collapsed": false
   },
   "outputs": [
    {
     "name": "stdout",
     "output_type": "stream",
     "text": [
      "Writing slice_H00.yml\n"
     ]
    }
   ],
   "source": [
    "%%file slice_H00.yml\n",
    "\n",
    "angles: -90,90.1,3.0\n",
    "filename_pattern: work_%(angle)s/reduced_%(angle)s.nxs\n",
    "lattice: 3., 3., 3., 90, 90, 90\n",
    "orientation:\n",
    " u: 1, 0, 2\n",
    " v: 1,0,0\n",
    "Eaxis:\n",
    " min: 0\n",
    " max: 90\n",
    " N: 181\n",
    "Q_projections:\n",
    " U:\n",
    "  proj: 1,0,0\n",
    "  proj_name: H,0,0\n",
    "  min: -5\n",
    "  max: 5\n",
    "  N: 251\n",
    " V:\n",
    "  proj: 0,1,0\n",
    "  proj_name: 0,K,0\n",
    "  min: -1\n",
    "  max: 1\n",
    "  N: 1\n",
    " W:\n",
    "  proj: 0,0,1\n",
    "  proj_name: 0,0,L\n",
    "  min: -1\n",
    "  max: 1\n",
    "  N: 1\n",
    "output: slice_H00.nxs\n"
   ]
  },
  {
   "cell_type": "code",
   "execution_count": 50,
   "metadata": {
    "collapsed": true
   },
   "outputs": [],
   "source": [
    "# hack for now. copy the config python file to current dir\n",
    "!cp /SNS/users/lj7/simulations/mcvine_workflow/DGS/ARCS/single-crystal/scripts/config.py ."
   ]
  },
  {
   "cell_type": "code",
   "execution_count": 51,
   "metadata": {
    "collapsed": false,
    "scrolled": true
   },
   "outputs": [],
   "source": [
    "# run script to calculate the slice\n",
    "# this take ~15 minutes \n",
    "! PYTHONPATH=$PWD:$PYTHONPATH ./scripts/reduce/getaslice.py slice_H00.yml > log.slice_H00"
   ]
  },
  {
   "cell_type": "code",
   "execution_count": 52,
   "metadata": {
    "collapsed": false
   },
   "outputs": [
    {
     "name": "stdout",
     "output_type": "stream",
     "text": [
      "FrameworkManager-[Notice] Welcome to Mantid 3.6.100\n",
      "FrameworkManager-[Notice] Please cite: http://dx.doi.org/10.1016/j.nima.2014.07.029 and this release: http://dx.doi.org/10.5286/Software/Mantid3.6.100\n",
      "Load-[Notice] Load started\n",
      "Load-[Notice] Load successful, Duration 0.89 seconds\n"
     ]
    }
   ],
   "source": [
    "# convert slice nexus to slice histogram for plotting\n",
    "!./scripts/reduce/slice2hist.py slice_H00.nxs slice_H00.h5"
   ]
  },
  {
   "cell_type": "code",
   "execution_count": 53,
   "metadata": {
    "collapsed": false,
    "scrolled": true
   },
   "outputs": [
    {
     "name": "stderr",
     "output_type": "stream",
     "text": [
      "/SNS/users/lj7/software/miniconda2/envs/mcvine/lib/python2.7/site-packages/histogram/hdf/Loader.py:129: FutureWarning: elementwise comparison failed; returning scalar instead, but in the future will perform elementwise comparison\n",
      "  if 'storage' in list(dataGroup): # this uses the 'storage' convention\n"
     ]
    },
    {
     "name": "stdout",
     "output_type": "stream",
     "text": [
      "plot z in (0, 1e-05)\n"
     ]
    },
    {
     "name": "stderr",
     "output_type": "stream",
     "text": [
      "/SNS/users/lj7/software/miniconda2/envs/mcvine/lib/python2.7/site-packages/histogram/data_plotter.py:352: RuntimeWarning: invalid value encountered in less\n",
      "  negative_median = N.median( z[ z<0 ] )\n",
      "/SNS/users/lj7/software/miniconda2/envs/mcvine/lib/python2.7/site-packages/numpy/core/_methods.py:59: RuntimeWarning: Mean of empty slice.\n",
      "  warnings.warn(\"Mean of empty slice.\", RuntimeWarning)\n",
      "/SNS/users/lj7/software/miniconda2/envs/mcvine/lib/python2.7/site-packages/numpy/core/_methods.py:70: RuntimeWarning: invalid value encountered in double_scalars\n",
      "  ret = ret.dtype.type(ret / rcount)\n",
      "/SNS/users/lj7/software/miniconda2/envs/mcvine/lib/python2.7/site-packages/histogram/data_plotter.py:334: RuntimeWarning: invalid value encountered in greater\n",
      "  positive_median = N.median( z[ z>0 ] )\n"
     ]
    }
   ],
   "source": [
    "# plot\n",
    "H.plot(hh.load(\"./slice_H00.h5\"), min=0, max=1e-5)"
   ]
  },
  {
   "cell_type": "code",
   "execution_count": null,
   "metadata": {
    "collapsed": true
   },
   "outputs": [],
   "source": [
    "# try a smaller range"
   ]
  },
  {
   "cell_type": "code",
   "execution_count": 54,
   "metadata": {
    "collapsed": false
   },
   "outputs": [
    {
     "name": "stdout",
     "output_type": "stream",
     "text": [
      "Writing slice_H00_-2,0.yml\n"
     ]
    }
   ],
   "source": [
    "%%file slice_H00_-2,0.yml\n",
    "\n",
    "angles: -90,90.1,3.0\n",
    "filename_pattern: work_%(angle)s/reduced_%(angle)s.nxs\n",
    "lattice: 3., 3., 3., 90, 90, 90\n",
    "orientation:\n",
    " u: 1, 0, 2\n",
    " v: 1,0,0\n",
    "Eaxis:\n",
    " min: 0\n",
    " max: 90\n",
    " N: 181\n",
    "Q_projections:\n",
    " U:\n",
    "  proj: 1,0,0\n",
    "  proj_name: H,0,0\n",
    "  min: -2.1\n",
    "  max: 0.1\n",
    "  N: 201\n",
    " V:\n",
    "  proj: 0,1,0\n",
    "  proj_name: 0,K,0\n",
    "  min: -1\n",
    "  max: 1\n",
    "  N: 1\n",
    " W:\n",
    "  proj: 0,0,1\n",
    "  proj_name: 0,0,L\n",
    "  min: -1\n",
    "  max: 1\n",
    "  N: 1\n",
    "output: slice_H00_-2__0.nxs\n"
   ]
  },
  {
   "cell_type": "code",
   "execution_count": 55,
   "metadata": {
    "collapsed": false,
    "scrolled": true
   },
   "outputs": [],
   "source": [
    "! PYTHONPATH=$PWD:$PYTHONPATH ./scripts/reduce/getaslice.py slice_H00_-2,0.yml > log.slice_H00_-2,0"
   ]
  },
  {
   "cell_type": "code",
   "execution_count": 56,
   "metadata": {
    "collapsed": false
   },
   "outputs": [
    {
     "name": "stdout",
     "output_type": "stream",
     "text": [
      "FrameworkManager-[Notice] Welcome to Mantid 3.6.100\n",
      "FrameworkManager-[Notice] Please cite: http://dx.doi.org/10.1016/j.nima.2014.07.029 and this release: http://dx.doi.org/10.5286/Software/Mantid3.6.100\n",
      "Load-[Notice] Load started\n",
      "Load-[Notice] Load successful, Duration 0.86 seconds\n"
     ]
    }
   ],
   "source": [
    "!./scripts/reduce/slice2hist.py \"slice_H00_-2__0.nxs\" slice_H00_-2,0.h5"
   ]
  },
  {
   "cell_type": "code",
   "execution_count": 57,
   "metadata": {
    "collapsed": false
   },
   "outputs": [
    {
     "name": "stdout",
     "output_type": "stream",
     "text": [
      "plot z in (0, 1e-05)\n"
     ]
    },
    {
     "data": {
      "application/javascript": [
       "/* Put everything inside the global mpl namespace */\n",
       "window.mpl = {};\n",
       "\n",
       "mpl.get_websocket_type = function() {\n",
       "    if (typeof(WebSocket) !== 'undefined') {\n",
       "        return WebSocket;\n",
       "    } else if (typeof(MozWebSocket) !== 'undefined') {\n",
       "        return MozWebSocket;\n",
       "    } else {\n",
       "        alert('Your browser does not have WebSocket support.' +\n",
       "              'Please try Chrome, Safari or Firefox ≥ 6. ' +\n",
       "              'Firefox 4 and 5 are also supported but you ' +\n",
       "              'have to enable WebSockets in about:config.');\n",
       "    };\n",
       "}\n",
       "\n",
       "mpl.figure = function(figure_id, websocket, ondownload, parent_element) {\n",
       "    this.id = figure_id;\n",
       "\n",
       "    this.ws = websocket;\n",
       "\n",
       "    this.supports_binary = (this.ws.binaryType != undefined);\n",
       "\n",
       "    if (!this.supports_binary) {\n",
       "        var warnings = document.getElementById(\"mpl-warnings\");\n",
       "        if (warnings) {\n",
       "            warnings.style.display = 'block';\n",
       "            warnings.textContent = (\n",
       "                \"This browser does not support binary websocket messages. \" +\n",
       "                    \"Performance may be slow.\");\n",
       "        }\n",
       "    }\n",
       "\n",
       "    this.imageObj = new Image();\n",
       "\n",
       "    this.context = undefined;\n",
       "    this.message = undefined;\n",
       "    this.canvas = undefined;\n",
       "    this.rubberband_canvas = undefined;\n",
       "    this.rubberband_context = undefined;\n",
       "    this.format_dropdown = undefined;\n",
       "\n",
       "    this.image_mode = 'full';\n",
       "\n",
       "    this.root = $('<div/>');\n",
       "    this._root_extra_style(this.root)\n",
       "    this.root.attr('style', 'display: inline-block');\n",
       "\n",
       "    $(parent_element).append(this.root);\n",
       "\n",
       "    this._init_header(this);\n",
       "    this._init_canvas(this);\n",
       "    this._init_toolbar(this);\n",
       "\n",
       "    var fig = this;\n",
       "\n",
       "    this.waiting = false;\n",
       "\n",
       "    this.ws.onopen =  function () {\n",
       "            fig.send_message(\"supports_binary\", {value: fig.supports_binary});\n",
       "            fig.send_message(\"send_image_mode\", {});\n",
       "            fig.send_message(\"refresh\", {});\n",
       "        }\n",
       "\n",
       "    this.imageObj.onload = function() {\n",
       "            if (fig.image_mode == 'full') {\n",
       "                // Full images could contain transparency (where diff images\n",
       "                // almost always do), so we need to clear the canvas so that\n",
       "                // there is no ghosting.\n",
       "                fig.context.clearRect(0, 0, fig.canvas.width, fig.canvas.height);\n",
       "            }\n",
       "            fig.context.drawImage(fig.imageObj, 0, 0);\n",
       "        };\n",
       "\n",
       "    this.imageObj.onunload = function() {\n",
       "        this.ws.close();\n",
       "    }\n",
       "\n",
       "    this.ws.onmessage = this._make_on_message_function(this);\n",
       "\n",
       "    this.ondownload = ondownload;\n",
       "}\n",
       "\n",
       "mpl.figure.prototype._init_header = function() {\n",
       "    var titlebar = $(\n",
       "        '<div class=\"ui-dialog-titlebar ui-widget-header ui-corner-all ' +\n",
       "        'ui-helper-clearfix\"/>');\n",
       "    var titletext = $(\n",
       "        '<div class=\"ui-dialog-title\" style=\"width: 100%; ' +\n",
       "        'text-align: center; padding: 3px;\"/>');\n",
       "    titlebar.append(titletext)\n",
       "    this.root.append(titlebar);\n",
       "    this.header = titletext[0];\n",
       "}\n",
       "\n",
       "\n",
       "\n",
       "mpl.figure.prototype._canvas_extra_style = function(canvas_div) {\n",
       "\n",
       "}\n",
       "\n",
       "\n",
       "mpl.figure.prototype._root_extra_style = function(canvas_div) {\n",
       "\n",
       "}\n",
       "\n",
       "mpl.figure.prototype._init_canvas = function() {\n",
       "    var fig = this;\n",
       "\n",
       "    var canvas_div = $('<div/>');\n",
       "\n",
       "    canvas_div.attr('style', 'position: relative; clear: both; outline: 0');\n",
       "\n",
       "    function canvas_keyboard_event(event) {\n",
       "        return fig.key_event(event, event['data']);\n",
       "    }\n",
       "\n",
       "    canvas_div.keydown('key_press', canvas_keyboard_event);\n",
       "    canvas_div.keyup('key_release', canvas_keyboard_event);\n",
       "    this.canvas_div = canvas_div\n",
       "    this._canvas_extra_style(canvas_div)\n",
       "    this.root.append(canvas_div);\n",
       "\n",
       "    var canvas = $('<canvas/>');\n",
       "    canvas.addClass('mpl-canvas');\n",
       "    canvas.attr('style', \"left: 0; top: 0; z-index: 0; outline: 0\")\n",
       "\n",
       "    this.canvas = canvas[0];\n",
       "    this.context = canvas[0].getContext(\"2d\");\n",
       "\n",
       "    var rubberband = $('<canvas/>');\n",
       "    rubberband.attr('style', \"position: absolute; left: 0; top: 0; z-index: 1;\")\n",
       "\n",
       "    var pass_mouse_events = true;\n",
       "\n",
       "    canvas_div.resizable({\n",
       "        start: function(event, ui) {\n",
       "            pass_mouse_events = false;\n",
       "        },\n",
       "        resize: function(event, ui) {\n",
       "            fig.request_resize(ui.size.width, ui.size.height);\n",
       "        },\n",
       "        stop: function(event, ui) {\n",
       "            pass_mouse_events = true;\n",
       "            fig.request_resize(ui.size.width, ui.size.height);\n",
       "        },\n",
       "    });\n",
       "\n",
       "    function mouse_event_fn(event) {\n",
       "        if (pass_mouse_events)\n",
       "            return fig.mouse_event(event, event['data']);\n",
       "    }\n",
       "\n",
       "    rubberband.mousedown('button_press', mouse_event_fn);\n",
       "    rubberband.mouseup('button_release', mouse_event_fn);\n",
       "    // Throttle sequential mouse events to 1 every 20ms.\n",
       "    rubberband.mousemove('motion_notify', mouse_event_fn);\n",
       "\n",
       "    rubberband.mouseenter('figure_enter', mouse_event_fn);\n",
       "    rubberband.mouseleave('figure_leave', mouse_event_fn);\n",
       "\n",
       "    canvas_div.on(\"wheel\", function (event) {\n",
       "        event = event.originalEvent;\n",
       "        event['data'] = 'scroll'\n",
       "        if (event.deltaY < 0) {\n",
       "            event.step = 1;\n",
       "        } else {\n",
       "            event.step = -1;\n",
       "        }\n",
       "        mouse_event_fn(event);\n",
       "    });\n",
       "\n",
       "    canvas_div.append(canvas);\n",
       "    canvas_div.append(rubberband);\n",
       "\n",
       "    this.rubberband = rubberband;\n",
       "    this.rubberband_canvas = rubberband[0];\n",
       "    this.rubberband_context = rubberband[0].getContext(\"2d\");\n",
       "    this.rubberband_context.strokeStyle = \"#000000\";\n",
       "\n",
       "    this._resize_canvas = function(width, height) {\n",
       "        // Keep the size of the canvas, canvas container, and rubber band\n",
       "        // canvas in synch.\n",
       "        canvas_div.css('width', width)\n",
       "        canvas_div.css('height', height)\n",
       "\n",
       "        canvas.attr('width', width);\n",
       "        canvas.attr('height', height);\n",
       "\n",
       "        rubberband.attr('width', width);\n",
       "        rubberband.attr('height', height);\n",
       "    }\n",
       "\n",
       "    // Set the figure to an initial 600x600px, this will subsequently be updated\n",
       "    // upon first draw.\n",
       "    this._resize_canvas(600, 600);\n",
       "\n",
       "    // Disable right mouse context menu.\n",
       "    $(this.rubberband_canvas).bind(\"contextmenu\",function(e){\n",
       "        return false;\n",
       "    });\n",
       "\n",
       "    function set_focus () {\n",
       "        canvas.focus();\n",
       "        canvas_div.focus();\n",
       "    }\n",
       "\n",
       "    window.setTimeout(set_focus, 100);\n",
       "}\n",
       "\n",
       "mpl.figure.prototype._init_toolbar = function() {\n",
       "    var fig = this;\n",
       "\n",
       "    var nav_element = $('<div/>')\n",
       "    nav_element.attr('style', 'width: 100%');\n",
       "    this.root.append(nav_element);\n",
       "\n",
       "    // Define a callback function for later on.\n",
       "    function toolbar_event(event) {\n",
       "        return fig.toolbar_button_onclick(event['data']);\n",
       "    }\n",
       "    function toolbar_mouse_event(event) {\n",
       "        return fig.toolbar_button_onmouseover(event['data']);\n",
       "    }\n",
       "\n",
       "    for(var toolbar_ind in mpl.toolbar_items) {\n",
       "        var name = mpl.toolbar_items[toolbar_ind][0];\n",
       "        var tooltip = mpl.toolbar_items[toolbar_ind][1];\n",
       "        var image = mpl.toolbar_items[toolbar_ind][2];\n",
       "        var method_name = mpl.toolbar_items[toolbar_ind][3];\n",
       "\n",
       "        if (!name) {\n",
       "            // put a spacer in here.\n",
       "            continue;\n",
       "        }\n",
       "        var button = $('<button/>');\n",
       "        button.addClass('ui-button ui-widget ui-state-default ui-corner-all ' +\n",
       "                        'ui-button-icon-only');\n",
       "        button.attr('role', 'button');\n",
       "        button.attr('aria-disabled', 'false');\n",
       "        button.click(method_name, toolbar_event);\n",
       "        button.mouseover(tooltip, toolbar_mouse_event);\n",
       "\n",
       "        var icon_img = $('<span/>');\n",
       "        icon_img.addClass('ui-button-icon-primary ui-icon');\n",
       "        icon_img.addClass(image);\n",
       "        icon_img.addClass('ui-corner-all');\n",
       "\n",
       "        var tooltip_span = $('<span/>');\n",
       "        tooltip_span.addClass('ui-button-text');\n",
       "        tooltip_span.html(tooltip);\n",
       "\n",
       "        button.append(icon_img);\n",
       "        button.append(tooltip_span);\n",
       "\n",
       "        nav_element.append(button);\n",
       "    }\n",
       "\n",
       "    var fmt_picker_span = $('<span/>');\n",
       "\n",
       "    var fmt_picker = $('<select/>');\n",
       "    fmt_picker.addClass('mpl-toolbar-option ui-widget ui-widget-content');\n",
       "    fmt_picker_span.append(fmt_picker);\n",
       "    nav_element.append(fmt_picker_span);\n",
       "    this.format_dropdown = fmt_picker[0];\n",
       "\n",
       "    for (var ind in mpl.extensions) {\n",
       "        var fmt = mpl.extensions[ind];\n",
       "        var option = $(\n",
       "            '<option/>', {selected: fmt === mpl.default_extension}).html(fmt);\n",
       "        fmt_picker.append(option)\n",
       "    }\n",
       "\n",
       "    // Add hover states to the ui-buttons\n",
       "    $( \".ui-button\" ).hover(\n",
       "        function() { $(this).addClass(\"ui-state-hover\");},\n",
       "        function() { $(this).removeClass(\"ui-state-hover\");}\n",
       "    );\n",
       "\n",
       "    var status_bar = $('<span class=\"mpl-message\"/>');\n",
       "    nav_element.append(status_bar);\n",
       "    this.message = status_bar[0];\n",
       "}\n",
       "\n",
       "mpl.figure.prototype.request_resize = function(x_pixels, y_pixels) {\n",
       "    // Request matplotlib to resize the figure. Matplotlib will then trigger a resize in the client,\n",
       "    // which will in turn request a refresh of the image.\n",
       "    this.send_message('resize', {'width': x_pixels, 'height': y_pixels});\n",
       "}\n",
       "\n",
       "mpl.figure.prototype.send_message = function(type, properties) {\n",
       "    properties['type'] = type;\n",
       "    properties['figure_id'] = this.id;\n",
       "    this.ws.send(JSON.stringify(properties));\n",
       "}\n",
       "\n",
       "mpl.figure.prototype.send_draw_message = function() {\n",
       "    if (!this.waiting) {\n",
       "        this.waiting = true;\n",
       "        this.ws.send(JSON.stringify({type: \"draw\", figure_id: this.id}));\n",
       "    }\n",
       "}\n",
       "\n",
       "\n",
       "mpl.figure.prototype.handle_save = function(fig, msg) {\n",
       "    var format_dropdown = fig.format_dropdown;\n",
       "    var format = format_dropdown.options[format_dropdown.selectedIndex].value;\n",
       "    fig.ondownload(fig, format);\n",
       "}\n",
       "\n",
       "\n",
       "mpl.figure.prototype.handle_resize = function(fig, msg) {\n",
       "    var size = msg['size'];\n",
       "    if (size[0] != fig.canvas.width || size[1] != fig.canvas.height) {\n",
       "        fig._resize_canvas(size[0], size[1]);\n",
       "        fig.send_message(\"refresh\", {});\n",
       "    };\n",
       "}\n",
       "\n",
       "mpl.figure.prototype.handle_rubberband = function(fig, msg) {\n",
       "    var x0 = msg['x0'];\n",
       "    var y0 = fig.canvas.height - msg['y0'];\n",
       "    var x1 = msg['x1'];\n",
       "    var y1 = fig.canvas.height - msg['y1'];\n",
       "    x0 = Math.floor(x0) + 0.5;\n",
       "    y0 = Math.floor(y0) + 0.5;\n",
       "    x1 = Math.floor(x1) + 0.5;\n",
       "    y1 = Math.floor(y1) + 0.5;\n",
       "    var min_x = Math.min(x0, x1);\n",
       "    var min_y = Math.min(y0, y1);\n",
       "    var width = Math.abs(x1 - x0);\n",
       "    var height = Math.abs(y1 - y0);\n",
       "\n",
       "    fig.rubberband_context.clearRect(\n",
       "        0, 0, fig.canvas.width, fig.canvas.height);\n",
       "\n",
       "    fig.rubberband_context.strokeRect(min_x, min_y, width, height);\n",
       "}\n",
       "\n",
       "mpl.figure.prototype.handle_figure_label = function(fig, msg) {\n",
       "    // Updates the figure title.\n",
       "    fig.header.textContent = msg['label'];\n",
       "}\n",
       "\n",
       "mpl.figure.prototype.handle_cursor = function(fig, msg) {\n",
       "    var cursor = msg['cursor'];\n",
       "    switch(cursor)\n",
       "    {\n",
       "    case 0:\n",
       "        cursor = 'pointer';\n",
       "        break;\n",
       "    case 1:\n",
       "        cursor = 'default';\n",
       "        break;\n",
       "    case 2:\n",
       "        cursor = 'crosshair';\n",
       "        break;\n",
       "    case 3:\n",
       "        cursor = 'move';\n",
       "        break;\n",
       "    }\n",
       "    fig.rubberband_canvas.style.cursor = cursor;\n",
       "}\n",
       "\n",
       "mpl.figure.prototype.handle_message = function(fig, msg) {\n",
       "    fig.message.textContent = msg['message'];\n",
       "}\n",
       "\n",
       "mpl.figure.prototype.handle_draw = function(fig, msg) {\n",
       "    // Request the server to send over a new figure.\n",
       "    fig.send_draw_message();\n",
       "}\n",
       "\n",
       "mpl.figure.prototype.handle_image_mode = function(fig, msg) {\n",
       "    fig.image_mode = msg['mode'];\n",
       "}\n",
       "\n",
       "mpl.figure.prototype.updated_canvas_event = function() {\n",
       "    // Called whenever the canvas gets updated.\n",
       "    this.send_message(\"ack\", {});\n",
       "}\n",
       "\n",
       "// A function to construct a web socket function for onmessage handling.\n",
       "// Called in the figure constructor.\n",
       "mpl.figure.prototype._make_on_message_function = function(fig) {\n",
       "    return function socket_on_message(evt) {\n",
       "        if (evt.data instanceof Blob) {\n",
       "            /* FIXME: We get \"Resource interpreted as Image but\n",
       "             * transferred with MIME type text/plain:\" errors on\n",
       "             * Chrome.  But how to set the MIME type?  It doesn't seem\n",
       "             * to be part of the websocket stream */\n",
       "            evt.data.type = \"image/png\";\n",
       "\n",
       "            /* Free the memory for the previous frames */\n",
       "            if (fig.imageObj.src) {\n",
       "                (window.URL || window.webkitURL).revokeObjectURL(\n",
       "                    fig.imageObj.src);\n",
       "            }\n",
       "\n",
       "            fig.imageObj.src = (window.URL || window.webkitURL).createObjectURL(\n",
       "                evt.data);\n",
       "            fig.updated_canvas_event();\n",
       "            fig.waiting = false;\n",
       "            return;\n",
       "        }\n",
       "        else if (typeof evt.data === 'string' && evt.data.slice(0, 21) == \"data:image/png;base64\") {\n",
       "            fig.imageObj.src = evt.data;\n",
       "            fig.updated_canvas_event();\n",
       "            fig.waiting = false;\n",
       "            return;\n",
       "        }\n",
       "\n",
       "        var msg = JSON.parse(evt.data);\n",
       "        var msg_type = msg['type'];\n",
       "\n",
       "        // Call the  \"handle_{type}\" callback, which takes\n",
       "        // the figure and JSON message as its only arguments.\n",
       "        try {\n",
       "            var callback = fig[\"handle_\" + msg_type];\n",
       "        } catch (e) {\n",
       "            console.log(\"No handler for the '\" + msg_type + \"' message type: \", msg);\n",
       "            return;\n",
       "        }\n",
       "\n",
       "        if (callback) {\n",
       "            try {\n",
       "                // console.log(\"Handling '\" + msg_type + \"' message: \", msg);\n",
       "                callback(fig, msg);\n",
       "            } catch (e) {\n",
       "                console.log(\"Exception inside the 'handler_\" + msg_type + \"' callback:\", e, e.stack, msg);\n",
       "            }\n",
       "        }\n",
       "    };\n",
       "}\n",
       "\n",
       "// from http://stackoverflow.com/questions/1114465/getting-mouse-location-in-canvas\n",
       "mpl.findpos = function(e) {\n",
       "    //this section is from http://www.quirksmode.org/js/events_properties.html\n",
       "    var targ;\n",
       "    if (!e)\n",
       "        e = window.event;\n",
       "    if (e.target)\n",
       "        targ = e.target;\n",
       "    else if (e.srcElement)\n",
       "        targ = e.srcElement;\n",
       "    if (targ.nodeType == 3) // defeat Safari bug\n",
       "        targ = targ.parentNode;\n",
       "\n",
       "    // jQuery normalizes the pageX and pageY\n",
       "    // pageX,Y are the mouse positions relative to the document\n",
       "    // offset() returns the position of the element relative to the document\n",
       "    var x = e.pageX - $(targ).offset().left;\n",
       "    var y = e.pageY - $(targ).offset().top;\n",
       "\n",
       "    return {\"x\": x, \"y\": y};\n",
       "};\n",
       "\n",
       "/*\n",
       " * return a copy of an object with only non-object keys\n",
       " * we need this to avoid circular references\n",
       " * http://stackoverflow.com/a/24161582/3208463\n",
       " */\n",
       "function simpleKeys (original) {\n",
       "  return Object.keys(original).reduce(function (obj, key) {\n",
       "    if (typeof original[key] !== 'object')\n",
       "        obj[key] = original[key]\n",
       "    return obj;\n",
       "  }, {});\n",
       "}\n",
       "\n",
       "mpl.figure.prototype.mouse_event = function(event, name) {\n",
       "    var canvas_pos = mpl.findpos(event)\n",
       "\n",
       "    if (name === 'button_press')\n",
       "    {\n",
       "        this.canvas.focus();\n",
       "        this.canvas_div.focus();\n",
       "    }\n",
       "\n",
       "    var x = canvas_pos.x;\n",
       "    var y = canvas_pos.y;\n",
       "\n",
       "    this.send_message(name, {x: x, y: y, button: event.button,\n",
       "                             step: event.step,\n",
       "                             guiEvent: simpleKeys(event)});\n",
       "\n",
       "    /* This prevents the web browser from automatically changing to\n",
       "     * the text insertion cursor when the button is pressed.  We want\n",
       "     * to control all of the cursor setting manually through the\n",
       "     * 'cursor' event from matplotlib */\n",
       "    event.preventDefault();\n",
       "    return false;\n",
       "}\n",
       "\n",
       "mpl.figure.prototype._key_event_extra = function(event, name) {\n",
       "    // Handle any extra behaviour associated with a key event\n",
       "}\n",
       "\n",
       "mpl.figure.prototype.key_event = function(event, name) {\n",
       "\n",
       "    // Prevent repeat events\n",
       "    if (name == 'key_press')\n",
       "    {\n",
       "        if (event.which === this._key)\n",
       "            return;\n",
       "        else\n",
       "            this._key = event.which;\n",
       "    }\n",
       "    if (name == 'key_release')\n",
       "        this._key = null;\n",
       "\n",
       "    var value = '';\n",
       "    if (event.ctrlKey && event.which != 17)\n",
       "        value += \"ctrl+\";\n",
       "    if (event.altKey && event.which != 18)\n",
       "        value += \"alt+\";\n",
       "    if (event.shiftKey && event.which != 16)\n",
       "        value += \"shift+\";\n",
       "\n",
       "    value += 'k';\n",
       "    value += event.which.toString();\n",
       "\n",
       "    this._key_event_extra(event, name);\n",
       "\n",
       "    this.send_message(name, {key: value,\n",
       "                             guiEvent: simpleKeys(event)});\n",
       "    return false;\n",
       "}\n",
       "\n",
       "mpl.figure.prototype.toolbar_button_onclick = function(name) {\n",
       "    if (name == 'download') {\n",
       "        this.handle_save(this, null);\n",
       "    } else {\n",
       "        this.send_message(\"toolbar_button\", {name: name});\n",
       "    }\n",
       "};\n",
       "\n",
       "mpl.figure.prototype.toolbar_button_onmouseover = function(tooltip) {\n",
       "    this.message.textContent = tooltip;\n",
       "};\n",
       "mpl.toolbar_items = [[\"Home\", \"Reset original view\", \"fa fa-home icon-home\", \"home\"], [\"Back\", \"Back to  previous view\", \"fa fa-arrow-left icon-arrow-left\", \"back\"], [\"Forward\", \"Forward to next view\", \"fa fa-arrow-right icon-arrow-right\", \"forward\"], [\"\", \"\", \"\", \"\"], [\"Pan\", \"Pan axes with left mouse, zoom with right\", \"fa fa-arrows icon-move\", \"pan\"], [\"Zoom\", \"Zoom to rectangle\", \"fa fa-square-o icon-check-empty\", \"zoom\"], [\"\", \"\", \"\", \"\"], [\"Download\", \"Download plot\", \"fa fa-floppy-o icon-save\", \"download\"]];\n",
       "\n",
       "mpl.extensions = [\"eps\", \"pdf\", \"png\", \"ps\", \"raw\", \"svg\"];\n",
       "\n",
       "mpl.default_extension = \"png\";var comm_websocket_adapter = function(comm) {\n",
       "    // Create a \"websocket\"-like object which calls the given IPython comm\n",
       "    // object with the appropriate methods. Currently this is a non binary\n",
       "    // socket, so there is still some room for performance tuning.\n",
       "    var ws = {};\n",
       "\n",
       "    ws.close = function() {\n",
       "        comm.close()\n",
       "    };\n",
       "    ws.send = function(m) {\n",
       "        //console.log('sending', m);\n",
       "        comm.send(m);\n",
       "    };\n",
       "    // Register the callback with on_msg.\n",
       "    comm.on_msg(function(msg) {\n",
       "        //console.log('receiving', msg['content']['data'], msg);\n",
       "        // Pass the mpl event to the overriden (by mpl) onmessage function.\n",
       "        ws.onmessage(msg['content']['data'])\n",
       "    });\n",
       "    return ws;\n",
       "}\n",
       "\n",
       "mpl.mpl_figure_comm = function(comm, msg) {\n",
       "    // This is the function which gets called when the mpl process\n",
       "    // starts-up an IPython Comm through the \"matplotlib\" channel.\n",
       "\n",
       "    var id = msg.content.data.id;\n",
       "    // Get hold of the div created by the display call when the Comm\n",
       "    // socket was opened in Python.\n",
       "    var element = $(\"#\" + id);\n",
       "    var ws_proxy = comm_websocket_adapter(comm)\n",
       "\n",
       "    function ondownload(figure, format) {\n",
       "        window.open(figure.imageObj.src);\n",
       "    }\n",
       "\n",
       "    var fig = new mpl.figure(id, ws_proxy,\n",
       "                           ondownload,\n",
       "                           element.get(0));\n",
       "\n",
       "    // Call onopen now - mpl needs it, as it is assuming we've passed it a real\n",
       "    // web socket which is closed, not our websocket->open comm proxy.\n",
       "    ws_proxy.onopen();\n",
       "\n",
       "    fig.parent_element = element.get(0);\n",
       "    fig.cell_info = mpl.find_output_cell(\"<div id='\" + id + \"'></div>\");\n",
       "    if (!fig.cell_info) {\n",
       "        console.error(\"Failed to find cell for figure\", id, fig);\n",
       "        return;\n",
       "    }\n",
       "\n",
       "    var output_index = fig.cell_info[2]\n",
       "    var cell = fig.cell_info[0];\n",
       "\n",
       "};\n",
       "\n",
       "mpl.figure.prototype.handle_close = function(fig, msg) {\n",
       "    fig.root.unbind('remove')\n",
       "\n",
       "    // Update the output cell to use the data from the current canvas.\n",
       "    fig.push_to_output();\n",
       "    var dataURL = fig.canvas.toDataURL();\n",
       "    // Re-enable the keyboard manager in IPython - without this line, in FF,\n",
       "    // the notebook keyboard shortcuts fail.\n",
       "    IPython.keyboard_manager.enable()\n",
       "    $(fig.parent_element).html('<img src=\"' + dataURL + '\">');\n",
       "    fig.close_ws(fig, msg);\n",
       "}\n",
       "\n",
       "mpl.figure.prototype.close_ws = function(fig, msg){\n",
       "    fig.send_message('closing', msg);\n",
       "    // fig.ws.close()\n",
       "}\n",
       "\n",
       "mpl.figure.prototype.push_to_output = function(remove_interactive) {\n",
       "    // Turn the data on the canvas into data in the output cell.\n",
       "    var dataURL = this.canvas.toDataURL();\n",
       "    this.cell_info[1]['text/html'] = '<img src=\"' + dataURL + '\">';\n",
       "}\n",
       "\n",
       "mpl.figure.prototype.updated_canvas_event = function() {\n",
       "    // Tell IPython that the notebook contents must change.\n",
       "    IPython.notebook.set_dirty(true);\n",
       "    this.send_message(\"ack\", {});\n",
       "    var fig = this;\n",
       "    // Wait a second, then push the new image to the DOM so\n",
       "    // that it is saved nicely (might be nice to debounce this).\n",
       "    setTimeout(function () { fig.push_to_output() }, 1000);\n",
       "}\n",
       "\n",
       "mpl.figure.prototype._init_toolbar = function() {\n",
       "    var fig = this;\n",
       "\n",
       "    var nav_element = $('<div/>')\n",
       "    nav_element.attr('style', 'width: 100%');\n",
       "    this.root.append(nav_element);\n",
       "\n",
       "    // Define a callback function for later on.\n",
       "    function toolbar_event(event) {\n",
       "        return fig.toolbar_button_onclick(event['data']);\n",
       "    }\n",
       "    function toolbar_mouse_event(event) {\n",
       "        return fig.toolbar_button_onmouseover(event['data']);\n",
       "    }\n",
       "\n",
       "    for(var toolbar_ind in mpl.toolbar_items){\n",
       "        var name = mpl.toolbar_items[toolbar_ind][0];\n",
       "        var tooltip = mpl.toolbar_items[toolbar_ind][1];\n",
       "        var image = mpl.toolbar_items[toolbar_ind][2];\n",
       "        var method_name = mpl.toolbar_items[toolbar_ind][3];\n",
       "\n",
       "        if (!name) { continue; };\n",
       "\n",
       "        var button = $('<button class=\"btn btn-default\" href=\"#\" title=\"' + name + '\"><i class=\"fa ' + image + ' fa-lg\"></i></button>');\n",
       "        button.click(method_name, toolbar_event);\n",
       "        button.mouseover(tooltip, toolbar_mouse_event);\n",
       "        nav_element.append(button);\n",
       "    }\n",
       "\n",
       "    // Add the status bar.\n",
       "    var status_bar = $('<span class=\"mpl-message\" style=\"text-align:right; float: right;\"/>');\n",
       "    nav_element.append(status_bar);\n",
       "    this.message = status_bar[0];\n",
       "\n",
       "    // Add the close button to the window.\n",
       "    var buttongrp = $('<div class=\"btn-group inline pull-right\"></div>');\n",
       "    var button = $('<button class=\"btn btn-mini btn-primary\" href=\"#\" title=\"Stop Interaction\"><i class=\"fa fa-power-off icon-remove icon-large\"></i></button>');\n",
       "    button.click(function (evt) { fig.handle_close(fig, {}); } );\n",
       "    button.mouseover('Stop Interaction', toolbar_mouse_event);\n",
       "    buttongrp.append(button);\n",
       "    var titlebar = this.root.find($('.ui-dialog-titlebar'));\n",
       "    titlebar.prepend(buttongrp);\n",
       "}\n",
       "\n",
       "mpl.figure.prototype._root_extra_style = function(el){\n",
       "    var fig = this\n",
       "    el.on(\"remove\", function(){\n",
       "\tfig.close_ws(fig, {});\n",
       "    });\n",
       "}\n",
       "\n",
       "mpl.figure.prototype._canvas_extra_style = function(el){\n",
       "    // this is important to make the div 'focusable\n",
       "    el.attr('tabindex', 0)\n",
       "    // reach out to IPython and tell the keyboard manager to turn it's self\n",
       "    // off when our div gets focus\n",
       "\n",
       "    // location in version 3\n",
       "    if (IPython.notebook.keyboard_manager) {\n",
       "        IPython.notebook.keyboard_manager.register_events(el);\n",
       "    }\n",
       "    else {\n",
       "        // location in version 2\n",
       "        IPython.keyboard_manager.register_events(el);\n",
       "    }\n",
       "\n",
       "}\n",
       "\n",
       "mpl.figure.prototype._key_event_extra = function(event, name) {\n",
       "    var manager = IPython.notebook.keyboard_manager;\n",
       "    if (!manager)\n",
       "        manager = IPython.keyboard_manager;\n",
       "\n",
       "    // Check for shift+enter\n",
       "    if (event.shiftKey && event.which == 13) {\n",
       "        this.canvas_div.blur();\n",
       "        event.shiftKey = false;\n",
       "        // Send a \"J\" for go to next cell\n",
       "        event.which = 74;\n",
       "        event.keyCode = 74;\n",
       "        manager.command_mode();\n",
       "        manager.handle_keydown(event);\n",
       "    }\n",
       "}\n",
       "\n",
       "mpl.figure.prototype.handle_save = function(fig, msg) {\n",
       "    fig.ondownload(fig, null);\n",
       "}\n",
       "\n",
       "\n",
       "mpl.find_output_cell = function(html_output) {\n",
       "    // Return the cell and output element which can be found *uniquely* in the notebook.\n",
       "    // Note - this is a bit hacky, but it is done because the \"notebook_saving.Notebook\"\n",
       "    // IPython event is triggered only after the cells have been serialised, which for\n",
       "    // our purposes (turning an active figure into a static one), is too late.\n",
       "    var cells = IPython.notebook.get_cells();\n",
       "    var ncells = cells.length;\n",
       "    for (var i=0; i<ncells; i++) {\n",
       "        var cell = cells[i];\n",
       "        if (cell.cell_type === 'code'){\n",
       "            for (var j=0; j<cell.output_area.outputs.length; j++) {\n",
       "                var data = cell.output_area.outputs[j];\n",
       "                if (data.data) {\n",
       "                    // IPython >= 3 moved mimebundle to data attribute of output\n",
       "                    data = data.data;\n",
       "                }\n",
       "                if (data['text/html'] == html_output) {\n",
       "                    return [cell, data, j];\n",
       "                }\n",
       "            }\n",
       "        }\n",
       "    }\n",
       "}\n",
       "\n",
       "// Register the function which deals with the matplotlib target/channel.\n",
       "// The kernel may be null if the page has been refreshed.\n",
       "if (IPython.notebook.kernel != null) {\n",
       "    IPython.notebook.kernel.comm_manager.register_target('matplotlib', mpl.mpl_figure_comm);\n",
       "}\n"
      ],
      "text/plain": [
       "<IPython.core.display.Javascript object>"
      ]
     },
     "metadata": {},
     "output_type": "display_data"
    },
    {
     "data": {
      "text/html": [
       "<img src=\"data:image/png;base64,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\">"
      ],
      "text/plain": [
       "<IPython.core.display.HTML object>"
      ]
     },
     "metadata": {},
     "output_type": "display_data"
    }
   ],
   "source": [
    "H.plot(hh.load(\"./slice_H00_-2,0.h5\"), min=0, max=1e-5)"
   ]
  },
  {
   "cell_type": "code",
   "execution_count": null,
   "metadata": {
    "collapsed": true
   },
   "outputs": [],
   "source": []
  }
 ],
 "metadata": {
  "kernelspec": {
   "display_name": "Python 2",
   "language": "python",
   "name": "python2"
  },
  "language_info": {
   "codemirror_mode": {
    "name": "ipython",
    "version": 2
   },
   "file_extension": ".py",
   "mimetype": "text/x-python",
   "name": "python",
   "nbconvert_exporter": "python",
   "pygments_lexer": "ipython2",
   "version": "2.7.11"
  },
  "widgets": {
   "state": {},
   "version": "1.1.2"
  }
 },
 "nbformat": 4,
 "nbformat_minor": 0
}
