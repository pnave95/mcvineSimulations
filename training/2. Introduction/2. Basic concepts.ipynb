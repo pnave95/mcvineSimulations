{
 "cells": [
  {
   "cell_type": "markdown",
   "metadata": {},
   "source": [
    "# MCViNE introduction"
   ]
  },
  {
   "cell_type": "markdown",
   "metadata": {},
   "source": [
    "## Basic concepts\n",
    "\n",
    "See also: http://mcvine.github.io/mcvine/Philosophy.html?highlight=philosophy\n",
    "\n",
    "### Instrument: component chain\n",
    "\n",
    "Instrument can be seen as a component chain:\n",
    "\n",
    "![Component chain](../images/component-chain.png)\n",
    "\n",
    "ARCS instrument\n",
    "\n",
    "![ARCS schematic](../images/ARCS-450x.png)\n",
    "\n",
    "DGS instrument component chain\n",
    "\n",
    "![ARCS component chain](../images/dgs-component-chain-450x.png)"
   ]
  },
  {
   "cell_type": "markdown",
   "metadata": {},
   "source": [
    "### Sample: a collection of neutron scatterers\n",
    "![sample assembly](../images/sample-assembly-schematic.png)"
   ]
  }
 ],
 "metadata": {
  "kernelspec": {
   "display_name": "Python 2",
   "language": "python",
   "name": "python2"
  },
  "language_info": {
   "codemirror_mode": {
    "name": "ipython",
    "version": 2
   },
   "file_extension": ".py",
   "mimetype": "text/x-python",
   "name": "python",
   "nbconvert_exporter": "python",
   "pygments_lexer": "ipython2",
   "version": "2.7.11"
  },
  "widgets": {
   "state": {},
   "version": "1.1.2"
  }
 },
 "nbformat": 4,
 "nbformat_minor": 0
}
