{
 "cells": [
  {
   "cell_type": "markdown",
   "metadata": {},
   "source": [
    "# MCViNE introduction"
   ]
  },
  {
   "cell_type": "markdown",
   "metadata": {},
   "source": [
    "## Examples\n",
    "### Powder\n",
    "#### ARCS vanadium data\n",
    "* incoherent scattering only\n",
    "* dark angle\n",
    "\n",
    "![Vanadium: exp vs sim](../images/V-expvssim.png)\n",
    "\n",
    "#### ARCS aluminum data\n",
    "\n",
    "* strong coherent scattering\n",
    "* multiphonon-scattering\n",
    "* multiple-scattering\n",
    "\n",
    "![Aluminum: exp vs sim](../images/aluminum-iqe-2cols.jpg)\n",
    "\n",
    "The experimental result is given in panel (a) and panels (b)-(e) show simulated data. In (b) only the incoherent elastic and incoherent single phonon scattering are included. This is the only plot with different, much lower maximum intensity -- it is scaled by the ratio of incoherent/coherent cross sections of aluminum, otherwise the intensities in this plot are barely visible. In (c) only the coherent elastic (powder diffraction) and the coherent single-phonon inelastic scattering are included. In (d), all of the kernels in (b) and (c) with the addition of a multi-phonon kernel using the incoherent approximation. In (e), all of the kernels in (d) are used with multiple scattering turned on. Comparison of (b) and (c) shows that coherent scattering gives rise to more features such as diffraction peaks and phonon dispersions. It is evident from comparing (c) and (d) that multiphonon scattering increases in intensity at higher Q. The most obvious difference in (d) and (e) is in the elastic line which shows that multiple scattering seems to contribute similarly to incoherent elastic scattering. The elastic line in (a) and (e) seems to show that the sample used in the experiment may contain traces of an additional phase, most likely from a surface layer of Al2O3. "
   ]
  },
  {
   "cell_type": "markdown",
   "metadata": {},
   "source": [
    "#### UN\n",
    "* Perfect QHO\n",
    "* Multiple scattering plays a role\n",
    "* Broadening\n",
    "\n",
    "![UN IQE](../images/UN-exp-sim_noms-sim_ms.png)\n",
    "![UN IE -- broadening](../images/UN-broadening.png)"
   ]
  },
  {
   "cell_type": "markdown",
   "metadata": {},
   "source": [
    "### Single crystal\n",
    "Differences from powder data:\n",
    "* angle scan\n",
    "* I(hkl, E)\n",
    "\n",
    "#### HYSPEC KVO data \n",
    "* spin wave \n",
    "* resolution effect\n",
    "![slice](../images/KVO-slice.jpg)\n",
    "\n",
    "![cut](../images/KVO-Ih.png)"
   ]
  },
  {
   "cell_type": "markdown",
   "metadata": {},
   "source": [
    "#### ARCS silicon data\n",
    "* phonon scattering\n",
    "* folding\n",
    "\n",
    "![Exp vs Sim](../images/Si-exp_vs_sim.jpg)"
   ]
  },
  {
   "cell_type": "markdown",
   "metadata": {},
   "source": [
    "#### SEQUOIA \n",
    "* spin wave\n",
    "![Simulated](../images/V2O3-sim.jpg)"
   ]
  }
 ],
 "metadata": {
  "kernelspec": {
   "display_name": "Python 2",
   "language": "python",
   "name": "python2"
  },
  "language_info": {
   "codemirror_mode": {
    "name": "ipython",
    "version": 2
   },
   "file_extension": ".py",
   "mimetype": "text/x-python",
   "name": "python",
   "nbconvert_exporter": "python",
   "pygments_lexer": "ipython2",
   "version": "2.7.11"
  },
  "widgets": {
   "state": {},
   "version": "1.1.2"
  }
 },
 "nbformat": 4,
 "nbformat_minor": 0
}
